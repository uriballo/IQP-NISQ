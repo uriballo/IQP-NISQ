{
 "cells": [
  {
   "cell_type": "markdown",
   "metadata": {},
   "source": [
    "# IBM Instance Setup"
   ]
  },
  {
   "cell_type": "code",
   "execution_count": 2,
   "metadata": {},
   "outputs": [],
   "source": [
    "from dotenv import load_dotenv\n",
    "import os\n",
    "import jax\n",
    "import jax.numpy as jnp\n",
    "import iqpopt as iqp\n",
    "from iqpopt.utils import initialize_from_data, local_gates\n",
    "import iqpopt.gen_qml as genq\n",
    "from iqpopt.gen_qml.utils import median_heuristic\n",
    "from utils.nisq import aachen_connectivity, efficient_connectivity_gates\n",
    "import pennylane as qml\n",
    "from datasets.bipartites import BipartiteGraphDataset\n",
    "from datasets.er import ErdosRenyiGraphDataset\n",
    "import numpy as np\n",
    "\n",
    "key = jax.random.PRNGKey(42)"
   ]
  },
  {
   "cell_type": "markdown",
   "metadata": {},
   "source": [
    "# Experiments Poster"
   ]
  },
  {
   "cell_type": "code",
   "execution_count": 3,
   "metadata": {},
   "outputs": [],
   "source": [
    "NODES = 8\n",
    "SP = \"Sparse\"\n",
    "MD = \"Medium\"\n",
    "DS = \"Dense\"\n",
    "\n",
    "ER = \"ER\"\n",
    "BP = \"Bipartite\""
   ]
  },
  {
   "cell_type": "code",
   "execution_count": 5,
   "metadata": {},
   "outputs": [],
   "source": [
    "ER8NSParams = np.load(\"results/params/params_8N_ER_Sparse_LR0.04522709518095061_SIGMA0.6587519702447917_INIT0.17944082088572766_NUMLAYERS1.npy\")\n",
    "ER8NMParams = np.load(\"results/params/params_8N_ER_Medium_LR0.011220685773844122_SIGMA0.6962179567887462_INIT1.810103830663358_NUMLAYERS5.npy\")\n",
    "ER8NDParams = np.load(\"results/params/params_8N_ER_Dense_LR0.04206675941389984_SIGMA0.7206244967648459_INIT0.5521825859396434_NUMLAYERS1.npy\")\n",
    "BP8NSParams = np.load(\"results/params/params_8N_Bipartite_Sparse_LR0.008104680980277149_SIGMA0.5060057247547819_INIT0.7277470256132488_MAXWEIGHT3.npy\")\n",
    "BP8NMParams = np.load(\"results/params/params_8N_Bipartite_Medium_LR0.003551614405932626_SIGMA1.3352557243570238_INIT0.8853914111571922_NUMLAYERS5.npy\")\n",
    "BP8NDParams = np.load(\"results/params/params_8N_Bipartite_Dense_LR0.0018973825577720538_SIGMA1.3106607895258173_INIT0.1942402847384792_NUMLAYERS3.npy\")"
   ]
  },
  {
   "cell_type": "markdown",
   "metadata": {},
   "source": [
    "## Experiments"
   ]
  },
  {
   "cell_type": "code",
   "execution_count": 6,
   "metadata": {},
   "outputs": [],
   "source": [
    "QUBITS = NODES * (NODES - 1) // 2\n",
    "grid_conn = aachen_connectivity()\n",
    "dev = qml.device(\"lightning.qubit\", \n",
    "                    wires=QUBITS, \n",
    "                    shots=512)\n",
    "\n",
    "MW3 = local_gates(QUBITS, 3)\n",
    "L1G = efficient_connectivity_gates(grid_conn, QUBITS, 1)\n",
    "L2G = efficient_connectivity_gates(grid_conn, QUBITS, 2)\n",
    "L3G = efficient_connectivity_gates(grid_conn, QUBITS, 3)\n",
    "L4G = efficient_connectivity_gates(grid_conn, QUBITS, 4)\n",
    "L5G = efficient_connectivity_gates(grid_conn, QUBITS, 5)\n",
    "\n",
    "MWIQP = iqp.IqpSimulator(QUBITS, MW3, device=\"lightning.qubit\")\n",
    "L1IQP = iqp.IqpSimulator(QUBITS, L1G, device=\"lightning.qubit\")\n",
    "L2IQP = iqp.IqpSimulator(QUBITS, L2G, device=\"lightning.qubit\")\n",
    "L3IQP = iqp.IqpSimulator(QUBITS, L3G, device=\"lightning.qubit\")\n",
    "L4IQP = iqp.IqpSimulator(QUBITS, L4G, device=\"lightning.qubit\")\n",
    "L5IQP = iqp.IqpSimulator(QUBITS, L5G, device=\"lightning.qubit\")\n",
    "\n",
    "\n",
    "@qml.qnode(dev)\n",
    "def MW_Sample(trained_params):\n",
    "    MWIQP.iqp_circuit(np.asarray(trained_params))\n",
    "    return qml.sample(wires = range(QUBITS))\n",
    "\n",
    "@qml.qnode(dev)\n",
    "def L1Sample(trained_params):\n",
    "    L1IQP.iqp_circuit(np.asarray(trained_params))\n",
    "    return qml.sample(wires = range(QUBITS))\n",
    "\n",
    "@qml.qnode(dev)\n",
    "def L2Sample(trained_params):\n",
    "    L2IQP.iqp_circuit(np.asarray(trained_params))\n",
    "    return qml.sample(wires = range(QUBITS))\n",
    "\n",
    "@qml.qnode(dev)\n",
    "def L3Sample(trained_params):\n",
    "    L3IQP.iqp_circuit(np.asarray(trained_params))\n",
    "    return qml.sample(wires = range(QUBITS))\n",
    "\n",
    "@qml.qnode(dev)\n",
    "def L4Sample(trained_params):\n",
    "    L4IQP.iqp_circuit(np.asarray(trained_params))\n",
    "    return qml.sample(wires = range(QUBITS))\n",
    "\n",
    "@qml.qnode(dev)\n",
    "def L5Sample(trained_params):\n",
    "    L5IQP.iqp_circuit(np.asarray(trained_params))\n",
    "    return qml.sample(wires = range(QUBITS))"
   ]
  },
  {
   "cell_type": "code",
   "execution_count": 9,
   "metadata": {},
   "outputs": [],
   "source": [
    "#ER8NSRes  = L1Sample(ER8NSParams)\n",
    "#ER8NMRes  = L5Sample(ER8NMParams)\n",
    "#ER8NDRes  = L1Sample(ER8NDParams)\n",
    "\n",
    "\n",
    "#BP8NDRes = L3Sample(BP8NDParams)\n",
    "#BP8NMRes = L5Sample(BP8NMParams)\n",
    "BP8NSRes = MW_Sample(BP8NSParams)"
   ]
  },
  {
   "cell_type": "code",
   "execution_count": 10,
   "metadata": {},
   "outputs": [
    {
     "name": "stdout",
     "output_type": "stream",
     "text": [
      "Samples saved successfully.\n"
     ]
    }
   ],
   "source": [
    "#np.save(\"results/samples/ER8NS_simulated.npy\", ER8NSRes)\n",
    "#np.save(\"results/samples/ER8NM_simulated.npy\", ER8NMRes)\n",
    "#np.save(\"results/samples/ER8ND_simulated.npy\", ER8NDRes)\n",
    "np.save(\"results/samples/BP8NS_simulated_maxweight3.npy\", BP8NSRes)\n",
    "#np.save(\"results/samples/BP8NM_simulated.npy\", BP8NMRes)\n",
    "#np.save(\"results/samples/BP8ND_simulated.npy\", BP8NDRes)\n",
    "print(\"Samples saved successfully.\")"
   ]
  }
 ],
 "metadata": {
  "kernelspec": {
   "display_name": ".venv",
   "language": "python",
   "name": "python3"
  },
  "language_info": {
   "codemirror_mode": {
    "name": "ipython",
    "version": 3
   },
   "file_extension": ".py",
   "mimetype": "text/x-python",
   "name": "python",
   "nbconvert_exporter": "python",
   "pygments_lexer": "ipython3",
   "version": "3.12.6"
  }
 },
 "nbformat": 4,
 "nbformat_minor": 2
}
