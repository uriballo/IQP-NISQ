{
 "cells": [
  {
   "cell_type": "markdown",
   "metadata": {},
   "source": [
    "# IBM Instance Setup"
   ]
  },
  {
   "cell_type": "code",
   "execution_count": 1,
   "metadata": {},
   "outputs": [],
   "source": [
    "from dotenv import load_dotenv\n",
    "import os\n",
    "import jax\n",
    "import jax.numpy as jnp\n",
    "import iqpopt as iqp\n",
    "from iqpopt.utils import initialize_from_data, local_gates\n",
    "import iqpopt.gen_qml as genq\n",
    "from iqpopt.gen_qml.utils import median_heuristic\n",
    "from utils.nisq import aachen_connectivity, efficient_connectivity_gates\n",
    "from qiskit_ibm_runtime import QiskitRuntimeService\n",
    "from qiskit_ibm_runtime import Session\n",
    "import pennylane as qml\n",
    "from datasets.bipartites import BipartiteGraphDataset\n",
    "from datasets.er import ErdosRenyiGraphDataset\n",
    "import numpy as np\n",
    "\n",
    "key = jax.random.PRNGKey(42)"
   ]
  },
  {
   "cell_type": "markdown",
   "metadata": {},
   "source": [
    "# Experiments Poster"
   ]
  },
  {
   "cell_type": "code",
   "execution_count": 3,
   "metadata": {},
   "outputs": [],
   "source": [
    "NODES = 18\n",
    "SP = \"Sparse\"\n",
    "MD = \"Medium\"\n",
    "DS = \"Dense\"\n",
    "\n",
    "\n",
    "ER = \"ER\"\n",
    "BP = \"Bipartite\"\n",
    "CM = \"Complete\""
   ]
  },
  {
   "cell_type": "code",
   "execution_count": 3,
   "metadata": {},
   "outputs": [],
   "source": [
    "BP18NDParams = np.load(\"results/params/params_18N_Bipartite_Dense_LR0.00012487564616169122_SIGMA0.10502972406872879_INIT0.6702875946169518_NUMLAYERS3.npy\")\n",
    "BP18NMParams = np.load(\"results/params/params_18N_Bipartite_Medium_LR0.0017744784691436084_SIGMA1.8303414487358955_INIT0.823301510869179_NUMLAYERS1.npy\")\n",
    "BP18NSParams = np.load(\"results/archive/params_18N_Bipartite_Sparse_LR0.006312967697938845_SIGMA0.8081435463552646_INIT0.6667394152784892_NUMLAYERS2.npy\")\n",
    "ER18NSParams = np.load(\"results/archive/params_18N_Bipartite.npy\")\n",
    "ER18NMParams = np.load(\"results/params/params_18N_ER_Medium_LR0.006024583114622832_SIGMA0.9479329656586278_INIT0.5279665377909606_NUMLAYERS2.npy\")\n",
    "ER18NDParams = np.load(\"results/params/params_18N_ER_Dense_LR0.0024122980321321335_SIGMA0.8605456674562558_INIT1.001744809410076_NUMLAYERS1.npy\")"
   ]
  },
  {
   "cell_type": "markdown",
   "metadata": {},
   "source": [
    "# Hardware test"
   ]
  },
  {
   "cell_type": "code",
   "execution_count": 4,
   "metadata": {},
   "outputs": [
    {
     "name": "stdout",
     "output_type": "stream",
     "text": [
      "<IBMBackend('ibm_aachen')>\n"
     ]
    }
   ],
   "source": [
    "load_dotenv('.env')\n",
    "\n",
    "ibm_token = os.getenv('IBM_TOKEN')\n",
    "instance = os.getenv(\"INSTANCE\")\n",
    "setup = True \n",
    "\n",
    "if setup:\n",
    "    QiskitRuntimeService.save_account(channel=\"ibm_quantum\", token=ibm_token, overwrite=True)\n",
    "\n",
    "service = QiskitRuntimeService(channel=\"ibm_cloud\", token = ibm_token, instance=instance)\n",
    "backend = service.least_busy(operational=True, simulator=False, min_num_qubits=156)\n",
    "print(backend)"
   ]
  },
  {
   "cell_type": "code",
   "execution_count": 5,
   "metadata": {},
   "outputs": [],
   "source": [
    "dev = qml.device('qiskit.remote', \n",
    "                    wires=backend.num_qubits, \n",
    "                    backend=backend, \n",
    "                    shots=512,\n",
    "                    optimization_level=3)"
   ]
  },
  {
   "cell_type": "markdown",
   "metadata": {},
   "source": [
    "## Experiments"
   ]
  },
  {
   "cell_type": "code",
   "execution_count": null,
   "metadata": {},
   "outputs": [
    {
     "name": "stdout",
     "output_type": "stream",
     "text": [
      "650\n"
     ]
    },
    {
     "ename": "NameError",
     "evalue": "name 'dev' is not defined",
     "output_type": "error",
     "traceback": [
      "\u001b[31m---------------------------------------------------------------------------\u001b[39m",
      "\u001b[31mNameError\u001b[39m                                 Traceback (most recent call last)",
      "\u001b[36mCell\u001b[39m\u001b[36m \u001b[39m\u001b[32mIn[6]\u001b[39m\u001b[32m, line 17\u001b[39m\n\u001b[32m     14\u001b[39m L4IQP = iqp.IqpSimulator(QUBITS, L4G, device=\u001b[33m\"\u001b[39m\u001b[33mlightning.qubit\u001b[39m\u001b[33m\"\u001b[39m)\n\u001b[32m     15\u001b[39m L5IQP = iqp.IqpSimulator(QUBITS, L5G, device=\u001b[33m\"\u001b[39m\u001b[33mlightning.qubit\u001b[39m\u001b[33m\"\u001b[39m)\n\u001b[32m---> \u001b[39m\u001b[32m17\u001b[39m \u001b[38;5;129m@qml\u001b[39m.qnode(\u001b[43mdev\u001b[49m)\n\u001b[32m     18\u001b[39m \u001b[38;5;28;01mdef\u001b[39;00m\u001b[38;5;250m \u001b[39m\u001b[34mL1Sample\u001b[39m(trained_params):\n\u001b[32m     19\u001b[39m     L1IQP.iqp_circuit(np.asarray(trained_params))\n\u001b[32m     20\u001b[39m     \u001b[38;5;28;01mreturn\u001b[39;00m qml.sample(wires = \u001b[38;5;28mrange\u001b[39m(QUBITS))\n",
      "\u001b[31mNameError\u001b[39m: name 'dev' is not defined"
     ]
    }
   ],
   "source": [
    "QUBITS = NODES * (NODES - 1) // 2\n",
    "grid_conn = aachen_connectivity()\n",
    "\n",
    "L1G = efficient_connectivity_gates(grid_conn, QUBITS, 1)\n",
    "L2G = efficient_connectivity_gates(grid_conn, QUBITS, 2)\n",
    "L3G = efficient_connectivity_gates(grid_conn, QUBITS, 3)\n",
    "L4G = efficient_connectivity_gates(grid_conn, QUBITS, 4)\n",
    "L5G = efficient_connectivity_gates(grid_conn, QUBITS, 5)\n",
    "\n",
    "L1IQP = iqp.IqpSimulator(QUBITS, L1G, device=\"lightning.qubit\")\n",
    "L2IQP = iqp.IqpSimulator(QUBITS, L2G, device=\"lightning.qubit\")\n",
    "L3IQP = iqp.IqpSimulator(QUBITS, L3G, device=\"lightning.qubit\")\n",
    "L4IQP = iqp.IqpSimulator(QUBITS, L4G, device=\"lightning.qubit\")\n",
    "L5IQP = iqp.IqpSimulator(QUBITS, L5G, device=\"lightning.qubit\")\n",
    "\n",
    "@qml.qnode(dev)\n",
    "def L1Sample(trained_params):\n",
    "    L1IQP.iqp_circuit(np.asarray(trained_params))\n",
    "    return qml.sample(wires = range(QUBITS))\n",
    "\n",
    "@qml.qnode(dev)\n",
    "def L2Sample(trained_params):\n",
    "    L2IQP.iqp_circuit(np.asarray(trained_params))\n",
    "    return qml.sample(wires = range(QUBITS))\n",
    "\n",
    "@qml.qnode(dev)\n",
    "def L3Sample(trained_params):\n",
    "    L3IQP.iqp_circuit(np.asarray(trained_params))\n",
    "    return qml.sample(wires = range(QUBITS))\n",
    "\n",
    "@qml.qnode(dev)\n",
    "def L4Sample(trained_params):\n",
    "    L4IQP.iqp_circuit(np.asarray(trained_params))\n",
    "    return qml.sample(wires = range(QUBITS))\n",
    "\n",
    "@qml.qnode(dev)\n",
    "def L5Sample(trained_params):\n",
    "    L5IQP.iqp_circuit(np.asarray(trained_params))\n",
    "    return qml.sample(wires = range(QUBITS))"
   ]
  },
  {
   "cell_type": "code",
   "execution_count": 7,
   "metadata": {},
   "outputs": [],
   "source": [
    "with Session(backend=backend, max_time=\"2h\") as session:\n",
    "    ER18NSRes  = L2Sample(ER18NSParams)\n",
    "    np.save(\"results/samples/2025-06-07/ER18NS.npy\", ER18NSRes)\n",
    "    ER18NMRes  = L2Sample(ER18NMParams)\n",
    "    np.save(\"results/samples/2025-06-07/ER18NM.npy\", ER18NMRes)\n",
    "    ER18NDRes  = L1Sample(ER18NDParams)\n",
    "    np.save(\"results/samples/2025-06-07/ER18ND.npy\", ER18NDRes)\n",
    "    BP18NDRes = L3Sample(BP18NDParams)\n",
    "    np.save(\"results/samples/2025-06-07/BP18ND.npy\", BP18NDRes)\n",
    "    BP18NMRes = L1Sample(BP18NMParams)\n",
    "    np.save(\"results/samples/2025-06-07/BP18NM.npy\", BP18NMRes)\n",
    "    BP18NSRes = L1Sample(BP18NSParams)\n",
    "    np.save(\"results/samples/2025-06-07/BP18NS.npy\", BP18NSRes)"
   ]
  },
  {
   "cell_type": "code",
   "execution_count": 8,
   "metadata": {},
   "outputs": [
    {
     "name": "stdout",
     "output_type": "stream",
     "text": [
      "Samples saved successfully.\n"
     ]
    }
   ],
   "source": [
    "print(\"Samples saved successfully.\")"
   ]
  }
 ],
 "metadata": {
  "kernelspec": {
   "display_name": ".venv",
   "language": "python",
   "name": "python3"
  },
  "language_info": {
   "codemirror_mode": {
    "name": "ipython",
    "version": 3
   },
   "file_extension": ".py",
   "mimetype": "text/x-python",
   "name": "python",
   "nbconvert_exporter": "python",
   "pygments_lexer": "ipython3",
   "version": "3.12.6"
  }
 },
 "nbformat": 4,
 "nbformat_minor": 2
}
