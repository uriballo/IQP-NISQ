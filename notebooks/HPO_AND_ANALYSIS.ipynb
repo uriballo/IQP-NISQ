{
 "cells": [
  {
   "cell_type": "code",
   "execution_count": 1,
   "metadata": {},
   "outputs": [
    {
     "name": "stdout",
     "output_type": "stream",
     "text": [
      "/Users/uribagi/Documents/GitHub/Latent-IQP\n"
     ]
    }
   ],
   "source": [
    "%cd .."
   ]
  },
  {
   "cell_type": "code",
   "execution_count": 2,
   "metadata": {},
   "outputs": [
    {
     "name": "stderr",
     "output_type": "stream",
     "text": [
      "/Users/uribagi/Documents/GitHub/Latent-IQP/.venv/lib/python3.12/site-packages/tqdm/auto.py:21: TqdmWarning: IProgress not found. Please update jupyter and ipywidgets. See https://ipywidgets.readthedocs.io/en/stable/user_install.html\n",
      "  from .autonotebook import tqdm as notebook_tqdm\n"
     ]
    }
   ],
   "source": [
    "import os\n",
    "import sys\n",
    "import json\n",
    "import jax\n",
    "import jax.numpy as jnp\n",
    "import optuna \n",
    "import numpy as np \n",
    "from datasets.bipartites import BipartiteGraphDataset\n",
    "from datasets.utils import vec_to_graph \n",
    "import iqpopt as iqp\n",
    "from iqpopt.utils import initialize_from_data\n",
    "import iqpopt.gen_qml as genq \n",
    "from utils.nisq import aachen_connectivity, efficient_connectivity_gates\n",
    "from utils.hpo import run_hpo\n",
    "from utils import metrics \n",
    "from iqpopt.gen_qml.utils import median_heuristic"
   ]
  },
  {
   "cell_type": "code",
   "execution_count": 3,
   "metadata": {},
   "outputs": [],
   "source": [
    "NODES = 8\n",
    "DATA_BASE_PATH = \"./datasets/bipartite_data/8_nodes\""
   ]
  },
  {
   "cell_type": "code",
   "execution_count": 4,
   "metadata": {},
   "outputs": [],
   "source": [
    "N_TRIALS_HPO = 500\n",
    "N_ITERS_HPO = 250 \n",
    "\n",
    "N_ITERS_FULL_TRAINING = 750"
   ]
  },
  {
   "cell_type": "code",
   "execution_count": 5,
   "metadata": {},
   "outputs": [],
   "source": [
    "N_OPS_MMD = 2000\n",
    "N_SAMPLES_MMD = 2000"
   ]
  },
  {
   "cell_type": "code",
   "execution_count": 6,
   "metadata": {},
   "outputs": [],
   "source": [
    "RESULTS_FILE_PATH = f\"./notebooks/hpo_and_evaluation_results_{8}_nodes.json\""
   ]
  },
  {
   "cell_type": "code",
   "execution_count": 7,
   "metadata": {},
   "outputs": [],
   "source": [
    "grid_conn = aachen_connectivity()\n",
    "num_qubits = NODES * (NODES - 1) // 2\n",
    "base_key_global = jax.random.PRNGKey(42)"
   ]
  },
  {
   "cell_type": "code",
   "execution_count": 8,
   "metadata": {},
   "outputs": [
    {
     "name": "stdout",
     "output_type": "stream",
     "text": [
      "Dataset loaded from /Users/uribagi/Documents/GitHub/Latent-IQP/datasets/bipartite_data/8_nodes/baseline.pkl\n",
      "\n",
      "============================================================\n",
      "BIPARTITE GRAPH DATASET SUMMARY\n",
      "============================================================\n",
      "Vertices: 8\n",
      "Edge probability ranges: [(0.33, 0.33)]\n",
      "Edge probabilities: [0.33]\n",
      "Connected graphs only: False\n",
      "\n",
      "Base samples: 190\n",
      "Augmented samples: 570\n",
      "Total samples: 760\n",
      "Augmentation: 3 uniform permutation(s) per sample\n",
      "\n",
      "Natural Distribution per Edge Probability:\n",
      "  p=0.33: 190 base + 570 aug = 760 total (100.0%)\n",
      "\n",
      "Uniqueness Analysis:\n",
      "  Unique (isomorphism): 190/760 (25.0%)\n",
      "  Unique (adjacency): 757/760 (99.6%)\n",
      "============================================================\n"
     ]
    }
   ],
   "source": [
    "# --- Main HPO and Evaluation Loop ---\n",
    "all_results = {}\n",
    "file_path = \"/Users/uribagi/Documents/GitHub/Latent-IQP/datasets/bipartite_data/8_nodes/baseline.pkl\"\n",
    "dataset = BipartiteGraphDataset.from_file(str(file_path))"
   ]
  },
  {
   "cell_type": "code",
   "execution_count": 9,
   "metadata": {},
   "outputs": [],
   "source": [
    "train_ds = jnp.array(dataset)"
   ]
  },
  {
   "cell_type": "code",
   "execution_count": 10,
   "metadata": {},
   "outputs": [],
   "source": [
    "base_sigma = median_heuristic(train_ds)"
   ]
  },
  {
   "cell_type": "code",
   "execution_count": 11,
   "metadata": {},
   "outputs": [
    {
     "name": "stderr",
     "output_type": "stream",
     "text": [
      "[I 2025-05-26 14:01:22,133] A new study created in memory with name: no-name-fd80d375-366a-4006-885b-31d091c5662d\n"
     ]
    },
    {
     "name": "stdout",
     "output_type": "stream",
     "text": [
      "Trial 0:\n",
      "  Learning Rate: 0.0010059841881131612\n",
      "  Sigma Multiplier: 1.554703206519228\n",
      "  Initialization Multiplier: 0.07722331444476006\n",
      "  Number of Layers: 4\n"
     ]
    },
    {
     "name": "stderr",
     "output_type": "stream",
     "text": [
      "Training Progress: 100%|██████████| 250/250 [00:05<00:00, 44.92it/s, loss=-0.000144, elapsed time=0.02, total time=6.24]\n",
      "[I 2025-05-26 14:01:28,665] Trial 0 finished with value: -0.00014414903691610593 and parameters: {'learning_rate': 0.0010059841881131612, 'sigma_multiplier': 1.554703206519228, 'num_layers': 4, 'initialization_multiplier': 0.07722331444476006}. Best is trial 0 with value: -0.00014414903691610593.\n"
     ]
    },
    {
     "name": "stdout",
     "output_type": "stream",
     "text": [
      "Training has not converged after 250 steps\n",
      "Trial 0 final loss: -0.00014415\n",
      "Trial 1:\n",
      "  Learning Rate: 0.00016782805459779253\n",
      "  Sigma Multiplier: 0.6776416392244446\n",
      "  Initialization Multiplier: 2.881837823129472\n",
      "  Number of Layers: 4\n"
     ]
    },
    {
     "name": "stderr",
     "output_type": "stream",
     "text": [
      "Training Progress: 100%|██████████| 250/250 [00:07<00:00, 34.02it/s, loss=0.042961, elapsed time=0.03, total time=7.47]\n",
      "[I 2025-05-26 14:01:36,156] Trial 1 finished with value: 0.04296099843807263 and parameters: {'learning_rate': 0.00016782805459779253, 'sigma_multiplier': 0.6776416392244446, 'num_layers': 4, 'initialization_multiplier': 2.881837823129472}. Best is trial 0 with value: -0.00014414903691610593.\n"
     ]
    },
    {
     "name": "stdout",
     "output_type": "stream",
     "text": [
      "Training has not converged after 250 steps\n",
      "Trial 1 final loss: 0.04296100\n",
      "Trial 2:\n",
      "  Learning Rate: 0.0010454672249759708\n",
      "  Sigma Multiplier: 1.105941774089309\n",
      "  Initialization Multiplier: 2.135210707250207\n",
      "  Number of Layers: 1\n"
     ]
    },
    {
     "name": "stderr",
     "output_type": "stream",
     "text": [
      "Training Progress: 100%|██████████| 250/250 [00:04<00:00, 50.98it/s, loss=0.066208, elapsed time=0.02, total time=5.05]\n",
      "[I 2025-05-26 14:01:41,286] Trial 2 finished with value: 0.0662084389491481 and parameters: {'learning_rate': 0.0010454672249759708, 'sigma_multiplier': 1.105941774089309, 'num_layers': 1, 'initialization_multiplier': 2.135210707250207}. Best is trial 0 with value: -0.00014414903691610593.\n"
     ]
    },
    {
     "name": "stdout",
     "output_type": "stream",
     "text": [
      "Training has not converged after 250 steps\n",
      "Trial 2 final loss: 0.06620844\n",
      "Trial 3:\n",
      "  Learning Rate: 3.94690526860616e-05\n",
      "  Sigma Multiplier: 1.7175381119823006\n",
      "  Initialization Multiplier: 1.9152329890583915\n",
      "  Number of Layers: 4\n"
     ]
    },
    {
     "name": "stderr",
     "output_type": "stream",
     "text": [
      "Training Progress: 100%|██████████| 250/250 [00:05<00:00, 45.71it/s, loss=0.063673, elapsed time=0.02, total time=5.61]\n",
      "[I 2025-05-26 14:01:46,919] Trial 3 finished with value: 0.06367282177646336 and parameters: {'learning_rate': 3.94690526860616e-05, 'sigma_multiplier': 1.7175381119823006, 'num_layers': 4, 'initialization_multiplier': 1.9152329890583915}. Best is trial 0 with value: -0.00014414903691610593.\n"
     ]
    },
    {
     "name": "stdout",
     "output_type": "stream",
     "text": [
      "Training has not converged after 250 steps\n",
      "Trial 3 final loss: 0.06367282\n",
      "Trial 4:\n",
      "  Learning Rate: 0.002383824627225584\n",
      "  Sigma Multiplier: 1.7925314844237026\n",
      "  Initialization Multiplier: 0.8556009473410944\n",
      "  Number of Layers: 1\n"
     ]
    },
    {
     "name": "stderr",
     "output_type": "stream",
     "text": [
      "Training Progress: 100%|██████████| 250/250 [00:04<00:00, 61.73it/s, loss=-0.000129, elapsed time=0.01, total time=4.18]\n",
      "[I 2025-05-26 14:01:51,108] Trial 4 finished with value: -0.00012880691350977252 and parameters: {'learning_rate': 0.002383824627225584, 'sigma_multiplier': 1.7925314844237026, 'num_layers': 1, 'initialization_multiplier': 0.8556009473410944}. Best is trial 0 with value: -0.00014414903691610593.\n"
     ]
    },
    {
     "name": "stdout",
     "output_type": "stream",
     "text": [
      "Training has not converged after 250 steps\n",
      "Trial 4 final loss: -0.00012881\n",
      "Trial 5:\n",
      "  Learning Rate: 0.05345079857724226\n",
      "  Sigma Multiplier: 1.0641797057671631\n",
      "  Initialization Multiplier: 0.17723250378522323\n",
      "  Number of Layers: 5\n"
     ]
    },
    {
     "name": "stderr",
     "output_type": "stream",
     "text": [
      "Training Progress: 100%|██████████| 250/250 [00:06<00:00, 37.93it/s, loss=0.000680, elapsed time=0.02, total time=6.74]\n",
      "[I 2025-05-26 14:01:57,949] Trial 5 finished with value: 0.0006798302530672595 and parameters: {'learning_rate': 0.05345079857724226, 'sigma_multiplier': 1.0641797057671631, 'num_layers': 5, 'initialization_multiplier': 0.17723250378522323}. Best is trial 0 with value: -0.00014414903691610593.\n"
     ]
    },
    {
     "name": "stdout",
     "output_type": "stream",
     "text": [
      "Training has not converged after 250 steps\n",
      "Trial 5 final loss: 0.00067983\n",
      "Trial 6:\n",
      "  Learning Rate: 0.014307200352697065\n",
      "  Sigma Multiplier: 0.5079231066016553\n",
      "  Initialization Multiplier: 1.5978241773755704\n",
      "  Number of Layers: 3\n"
     ]
    },
    {
     "name": "stderr",
     "output_type": "stream",
     "text": [
      "Training Progress: 100%|██████████| 250/250 [00:07<00:00, 31.80it/s, loss=0.001462, elapsed time=0.03, total time=8.01]\n",
      "[I 2025-05-26 14:02:06,027] Trial 6 finished with value: 0.0014622796861723324 and parameters: {'learning_rate': 0.014307200352697065, 'sigma_multiplier': 0.5079231066016553, 'num_layers': 3, 'initialization_multiplier': 1.5978241773755704}. Best is trial 0 with value: -0.00014414903691610593.\n"
     ]
    },
    {
     "name": "stdout",
     "output_type": "stream",
     "text": [
      "Training has not converged after 250 steps\n",
      "Trial 6 final loss: 0.00146228\n",
      "Trial 7:\n",
      "  Learning Rate: 0.0008997505452190181\n",
      "  Sigma Multiplier: 1.805625547471191\n",
      "  Initialization Multiplier: 2.914575197067572\n",
      "  Number of Layers: 4\n"
     ]
    },
    {
     "name": "stderr",
     "output_type": "stream",
     "text": [
      "Training Progress: 100%|██████████| 250/250 [00:05<00:00, 46.05it/s, loss=-0.000017, elapsed time=0.02, total time=5.57]\n",
      "[I 2025-05-26 14:02:11,618] Trial 7 finished with value: -1.6621799365723624e-05 and parameters: {'learning_rate': 0.0008997505452190181, 'sigma_multiplier': 1.805625547471191, 'num_layers': 4, 'initialization_multiplier': 2.914575197067572}. Best is trial 0 with value: -0.00014414903691610593.\n"
     ]
    },
    {
     "name": "stdout",
     "output_type": "stream",
     "text": [
      "Training has not converged after 250 steps\n",
      "Trial 7 final loss: -0.00001662\n",
      "Trial 8:\n",
      "  Learning Rate: 7.578902041337095e-05\n",
      "  Sigma Multiplier: 1.9765746717619048\n",
      "  Initialization Multiplier: 0.11281737691215253\n",
      "  Number of Layers: 2\n"
     ]
    },
    {
     "name": "stderr",
     "output_type": "stream",
     "text": [
      "Training Progress: 100%|██████████| 250/250 [00:03<00:00, 63.68it/s, loss=0.038833, elapsed time=0.01, total time=4.08]\n",
      "[I 2025-05-26 14:02:15,760] Trial 8 finished with value: 0.03883263708519793 and parameters: {'learning_rate': 7.578902041337095e-05, 'sigma_multiplier': 1.9765746717619048, 'num_layers': 2, 'initialization_multiplier': 0.11281737691215253}. Best is trial 0 with value: -0.00014414903691610593.\n"
     ]
    },
    {
     "name": "stdout",
     "output_type": "stream",
     "text": [
      "Training has not converged after 250 steps\n",
      "Trial 8 final loss: 0.03883264\n",
      "Trial 9:\n",
      "  Learning Rate: 9.253174844272472e-05\n",
      "  Sigma Multiplier: 0.4640953861859183\n",
      "  Initialization Multiplier: 1.9293660785935878\n",
      "  Number of Layers: 3\n"
     ]
    },
    {
     "name": "stderr",
     "output_type": "stream",
     "text": [
      "Training Progress: 100%|██████████| 250/250 [00:08<00:00, 30.79it/s, loss=0.067291, elapsed time=0.03, total time=8.25]\n",
      "[I 2025-05-26 14:02:24,022] Trial 9 finished with value: 0.06729124000471273 and parameters: {'learning_rate': 9.253174844272472e-05, 'sigma_multiplier': 0.4640953861859183, 'num_layers': 3, 'initialization_multiplier': 1.9293660785935878}. Best is trial 0 with value: -0.00014414903691610593.\n"
     ]
    },
    {
     "name": "stdout",
     "output_type": "stream",
     "text": [
      "Training has not converged after 250 steps\n",
      "Trial 9 final loss: 0.06729124\n",
      "Trial 10:\n",
      "  Learning Rate: 0.004184019363350703\n",
      "  Sigma Multiplier: 1.3820820880817668\n",
      "  Initialization Multiplier: 0.7811524481203072\n",
      "  Number of Layers: 5\n"
     ]
    },
    {
     "name": "stderr",
     "output_type": "stream",
     "text": [
      "Training Progress: 100%|██████████| 250/250 [00:06<00:00, 39.43it/s, loss=-0.000039, elapsed time=0.02, total time=6.47]\n",
      "[I 2025-05-26 14:02:30,514] Trial 10 finished with value: -3.9258048404172485e-05 and parameters: {'learning_rate': 0.004184019363350703, 'sigma_multiplier': 1.3820820880817668, 'num_layers': 5, 'initialization_multiplier': 0.7811524481203072}. Best is trial 0 with value: -0.00014414903691610593.\n"
     ]
    },
    {
     "name": "stdout",
     "output_type": "stream",
     "text": [
      "Training has not converged after 250 steps\n",
      "Trial 10 final loss: -0.00003926\n",
      "Trial 11:\n",
      "  Learning Rate: 0.003623097680399549\n",
      "  Sigma Multiplier: 1.4896423693210454\n",
      "  Initialization Multiplier: 0.7848456068195439\n",
      "  Number of Layers: 1\n"
     ]
    },
    {
     "name": "stderr",
     "output_type": "stream",
     "text": [
      "Training Progress: 100%|██████████| 250/250 [00:04<00:00, 58.99it/s, loss=-0.000156, elapsed time=0.02, total time=4.37]\n",
      "[I 2025-05-26 14:02:34,892] Trial 11 finished with value: -0.00015641310425017535 and parameters: {'learning_rate': 0.003623097680399549, 'sigma_multiplier': 1.4896423693210454, 'num_layers': 1, 'initialization_multiplier': 0.7848456068195439}. Best is trial 11 with value: -0.00015641310425017535.\n"
     ]
    },
    {
     "name": "stdout",
     "output_type": "stream",
     "text": [
      "Training has not converged after 250 steps\n",
      "Trial 11 final loss: -0.00015641\n",
      "Trial 12:\n",
      "  Learning Rate: 0.00037931517913903577\n",
      "  Sigma Multiplier: 1.4364307173862152\n",
      "  Initialization Multiplier: 0.7652986909372116\n",
      "  Number of Layers: 2\n"
     ]
    },
    {
     "name": "stderr",
     "output_type": "stream",
     "text": [
      "Training Progress: 100%|██████████| 250/250 [00:04<00:00, 53.39it/s, loss=0.020059, elapsed time=0.02, total time=4.82]\n",
      "[I 2025-05-26 14:02:39,728] Trial 12 finished with value: 0.020059261761547098 and parameters: {'learning_rate': 0.00037931517913903577, 'sigma_multiplier': 1.4364307173862152, 'num_layers': 2, 'initialization_multiplier': 0.7652986909372116}. Best is trial 11 with value: -0.00015641310425017535.\n"
     ]
    },
    {
     "name": "stdout",
     "output_type": "stream",
     "text": [
      "Training has not converged after 250 steps\n",
      "Trial 12 final loss: 0.02005926\n",
      "Trial 13:\n",
      "  Learning Rate: 0.008865135171043984\n",
      "  Sigma Multiplier: 1.4305570058232706\n",
      "  Initialization Multiplier: 0.5851542711339152\n",
      "  Number of Layers: 2\n"
     ]
    },
    {
     "name": "stderr",
     "output_type": "stream",
     "text": [
      "Training Progress: 100%|██████████| 250/250 [00:04<00:00, 54.44it/s, loss=-0.000179, elapsed time=0.02, total time=4.72]\n",
      "[I 2025-05-26 14:02:44,466] Trial 13 finished with value: -0.00017931730111783555 and parameters: {'learning_rate': 0.008865135171043984, 'sigma_multiplier': 1.4305570058232706, 'num_layers': 2, 'initialization_multiplier': 0.5851542711339152}. Best is trial 13 with value: -0.00017931730111783555.\n"
     ]
    },
    {
     "name": "stdout",
     "output_type": "stream",
     "text": [
      "Training has not converged after 250 steps\n",
      "Trial 13 final loss: -0.00017932\n",
      "Trial 14:\n",
      "  Learning Rate: 0.011273074414617843\n",
      "  Sigma Multiplier: 1.2525219260867833\n",
      "  Initialization Multiplier: 1.133633026502778\n",
      "  Number of Layers: 2\n"
     ]
    },
    {
     "name": "stderr",
     "output_type": "stream",
     "text": [
      "Training Progress: 100%|██████████| 250/250 [00:04<00:00, 50.38it/s, loss=0.000238, elapsed time=0.02, total time=5.09] \n",
      "[I 2025-05-26 14:02:49,575] Trial 14 finished with value: 0.0002382210990297193 and parameters: {'learning_rate': 0.011273074414617843, 'sigma_multiplier': 1.2525219260867833, 'num_layers': 2, 'initialization_multiplier': 1.133633026502778}. Best is trial 13 with value: -0.00017931730111783555.\n"
     ]
    },
    {
     "name": "stdout",
     "output_type": "stream",
     "text": [
      "Training has not converged after 250 steps\n",
      "Trial 14 final loss: 0.00023822\n",
      "Trial 15:\n",
      "  Learning Rate: 0.06691907714285822\n",
      "  Sigma Multiplier: 0.8211363454337457\n",
      "  Initialization Multiplier: 1.225558157415324\n",
      "  Number of Layers: 1\n"
     ]
    },
    {
     "name": "stderr",
     "output_type": "stream",
     "text": [
      "Training Progress: 100%|██████████| 250/250 [00:05<00:00, 46.98it/s, loss=0.000149, elapsed time=0.02, total time=5.45]\n",
      "[I 2025-05-26 14:02:55,042] Trial 15 finished with value: 0.00014878965444701871 and parameters: {'learning_rate': 0.06691907714285822, 'sigma_multiplier': 0.8211363454337457, 'num_layers': 1, 'initialization_multiplier': 1.225558157415324}. Best is trial 13 with value: -0.00017931730111783555.\n"
     ]
    },
    {
     "name": "stdout",
     "output_type": "stream",
     "text": [
      "Training has not converged after 250 steps\n",
      "Trial 15 final loss: 0.00014879\n",
      "Trial 16:\n",
      "  Learning Rate: 0.012454897357138735\n",
      "  Sigma Multiplier: 0.1459026162367525\n",
      "  Initialization Multiplier: 0.49378562949877686\n",
      "  Number of Layers: 2\n"
     ]
    },
    {
     "name": "stderr",
     "output_type": "stream",
     "text": [
      "Training Progress: 100%|██████████| 250/250 [00:07<00:00, 31.86it/s, loss=0.000103, elapsed time=0.03, total time=7.98] \n",
      "[I 2025-05-26 14:03:03,040] Trial 16 finished with value: 0.00010333158366320927 and parameters: {'learning_rate': 0.012454897357138735, 'sigma_multiplier': 0.1459026162367525, 'num_layers': 2, 'initialization_multiplier': 0.49378562949877686}. Best is trial 13 with value: -0.00017931730111783555.\n"
     ]
    },
    {
     "name": "stdout",
     "output_type": "stream",
     "text": [
      "Training has not converged after 250 steps\n",
      "Trial 16 final loss: 0.00010333\n",
      "Trial 17:\n",
      "  Learning Rate: 0.004638260486433803\n",
      "  Sigma Multiplier: 1.5774432557233553\n",
      "  Initialization Multiplier: 0.4751659475771422\n",
      "  Number of Layers: 1\n"
     ]
    },
    {
     "name": "stderr",
     "output_type": "stream",
     "text": [
      "Training Progress: 100%|██████████| 250/250 [00:04<00:00, 57.99it/s, loss=-0.000091, elapsed time=0.01, total time=4.44]\n",
      "[I 2025-05-26 14:03:07,491] Trial 17 finished with value: -9.068125273884273e-05 and parameters: {'learning_rate': 0.004638260486433803, 'sigma_multiplier': 1.5774432557233553, 'num_layers': 1, 'initialization_multiplier': 0.4751659475771422}. Best is trial 13 with value: -0.00017931730111783555.\n"
     ]
    },
    {
     "name": "stdout",
     "output_type": "stream",
     "text": [
      "Training has not converged after 250 steps\n",
      "Trial 17 final loss: -0.00009068\n",
      "Trial 18:\n",
      "  Learning Rate: 0.029133648729660132\n",
      "  Sigma Multiplier: 1.2568939362130118\n",
      "  Initialization Multiplier: 1.314037899261728\n",
      "  Number of Layers: 3\n"
     ]
    },
    {
     "name": "stderr",
     "output_type": "stream",
     "text": [
      "Training Progress: 100%|██████████| 250/250 [00:05<00:00, 45.83it/s, loss=0.000050, elapsed time=0.02, total time=5.59] \n",
      "[I 2025-05-26 14:03:13,102] Trial 18 finished with value: 4.992636673853121e-05 and parameters: {'learning_rate': 0.029133648729660132, 'sigma_multiplier': 1.2568939362130118, 'num_layers': 3, 'initialization_multiplier': 1.314037899261728}. Best is trial 13 with value: -0.00017931730111783555.\n"
     ]
    },
    {
     "name": "stdout",
     "output_type": "stream",
     "text": [
      "Training has not converged after 250 steps\n",
      "Trial 18 final loss: 0.00004993\n",
      "Trial 19:\n",
      "  Learning Rate: 0.005115325750358642\n",
      "  Sigma Multiplier: 0.8221620619584754\n",
      "  Initialization Multiplier: 0.5461143759750511\n",
      "  Number of Layers: 2\n"
     ]
    },
    {
     "name": "stderr",
     "output_type": "stream",
     "text": [
      "Training Progress: 100%|██████████| 250/250 [00:05<00:00, 44.56it/s, loss=0.000091, elapsed time=0.02, total time=5.74] \n",
      "[I 2025-05-26 14:03:18,854] Trial 19 finished with value: 9.131071157218231e-05 and parameters: {'learning_rate': 0.005115325750358642, 'sigma_multiplier': 0.8221620619584754, 'num_layers': 2, 'initialization_multiplier': 0.5461143759750511}. Best is trial 13 with value: -0.00017931730111783555.\n"
     ]
    },
    {
     "name": "stdout",
     "output_type": "stream",
     "text": [
      "Training has not converged after 250 steps\n",
      "Trial 19 final loss: 0.00009131\n",
      "Trial 20:\n",
      "  Learning Rate: 0.025246391922593845\n",
      "  Sigma Multiplier: 1.249156306051945\n",
      "  Initialization Multiplier: 2.409908908146234\n",
      "  Number of Layers: 1\n"
     ]
    },
    {
     "name": "stderr",
     "output_type": "stream",
     "text": [
      "Training Progress: 100%|██████████| 250/250 [00:04<00:00, 53.34it/s, loss=-0.000076, elapsed time=0.02, total time=4.83]\n",
      "[I 2025-05-26 14:03:23,696] Trial 20 finished with value: -7.556966556138568e-05 and parameters: {'learning_rate': 0.025246391922593845, 'sigma_multiplier': 1.249156306051945, 'num_layers': 1, 'initialization_multiplier': 2.409908908146234}. Best is trial 13 with value: -0.00017931730111783555.\n"
     ]
    },
    {
     "name": "stdout",
     "output_type": "stream",
     "text": [
      "Training has not converged after 250 steps\n",
      "Trial 20 final loss: -0.00007557\n",
      "Trial 21:\n",
      "  Learning Rate: 0.0004549238016632404\n",
      "  Sigma Multiplier: 1.5538201109542438\n",
      "  Initialization Multiplier: 0.09312617365619857\n",
      "  Number of Layers: 4\n"
     ]
    },
    {
     "name": "stderr",
     "output_type": "stream",
     "text": [
      "Training Progress: 100%|██████████| 250/250 [00:05<00:00, 44.77it/s, loss=0.000093, elapsed time=0.02, total time=5.71]\n",
      "[I 2025-05-26 14:03:29,430] Trial 21 finished with value: 9.336719038071898e-05 and parameters: {'learning_rate': 0.0004549238016632404, 'sigma_multiplier': 1.5538201109542438, 'num_layers': 4, 'initialization_multiplier': 0.09312617365619857}. Best is trial 13 with value: -0.00017931730111783555.\n"
     ]
    },
    {
     "name": "stdout",
     "output_type": "stream",
     "text": [
      "Training has not converged after 250 steps\n",
      "Trial 21 final loss: 0.00009337\n",
      "Trial 22:\n",
      "  Learning Rate: 0.0018073404146559623\n",
      "  Sigma Multiplier: 1.6037931827227163\n",
      "  Initialization Multiplier: 0.32290213704526255\n",
      "  Number of Layers: 2\n"
     ]
    },
    {
     "name": "stderr",
     "output_type": "stream",
     "text": [
      "Training Progress: 100%|██████████| 250/250 [00:04<00:00, 55.12it/s, loss=-0.000102, elapsed time=0.02, total time=4.66]\n",
      "[I 2025-05-26 14:03:34,108] Trial 22 finished with value: -0.00010184135866108795 and parameters: {'learning_rate': 0.0018073404146559623, 'sigma_multiplier': 1.6037931827227163, 'num_layers': 2, 'initialization_multiplier': 0.32290213704526255}. Best is trial 13 with value: -0.00017931730111783555.\n"
     ]
    },
    {
     "name": "stdout",
     "output_type": "stream",
     "text": [
      "Training has not converged after 250 steps\n",
      "Trial 22 final loss: -0.00010184\n",
      "Trial 23:\n",
      "  Learning Rate: 0.0007337680859851431\n",
      "  Sigma Multiplier: 1.983055042982122\n",
      "  Initialization Multiplier: 1.0211852313492549\n",
      "  Number of Layers: 3\n"
     ]
    },
    {
     "name": "stderr",
     "output_type": "stream",
     "text": [
      "Training Progress: 100%|██████████| 250/250 [00:04<00:00, 52.70it/s, loss=0.008422, elapsed time=0.02, total time=4.88]\n",
      "[I 2025-05-26 14:03:39,007] Trial 23 finished with value: 0.008421841380331564 and parameters: {'learning_rate': 0.0007337680859851431, 'sigma_multiplier': 1.983055042982122, 'num_layers': 3, 'initialization_multiplier': 1.0211852313492549}. Best is trial 13 with value: -0.00017931730111783555.\n"
     ]
    },
    {
     "name": "stdout",
     "output_type": "stream",
     "text": [
      "Training has not converged after 250 steps\n",
      "Trial 23 final loss: 0.00842184\n",
      "Trial 24:\n",
      "  Learning Rate: 0.002824234973671219\n",
      "  Sigma Multiplier: 1.4040679810148418\n",
      "  Initialization Multiplier: 1.5009234453236344\n",
      "  Number of Layers: 3\n"
     ]
    },
    {
     "name": "stderr",
     "output_type": "stream",
     "text": [
      "Training Progress: 100%|██████████| 250/250 [00:05<00:00, 48.58it/s, loss=-0.000043, elapsed time=0.02, total time=5.27]\n",
      "[I 2025-05-26 14:03:44,300] Trial 24 finished with value: -4.3132418106181424e-05 and parameters: {'learning_rate': 0.002824234973671219, 'sigma_multiplier': 1.4040679810148418, 'num_layers': 3, 'initialization_multiplier': 1.5009234453236344}. Best is trial 13 with value: -0.00017931730111783555.\n"
     ]
    },
    {
     "name": "stdout",
     "output_type": "stream",
     "text": [
      "Training has not converged after 250 steps\n",
      "Trial 24 final loss: -0.00004313\n",
      "Trial 25:\n",
      "  Learning Rate: 0.006393068396628797\n",
      "  Sigma Multiplier: 1.7062386200498227\n",
      "  Initialization Multiplier: 0.0016057566168046905\n",
      "  Number of Layers: 5\n"
     ]
    },
    {
     "name": "stderr",
     "output_type": "stream",
     "text": [
      "Training Progress: 100%|██████████| 250/250 [00:05<00:00, 43.14it/s, loss=-0.000111, elapsed time=0.02, total time=5.92]\n",
      "[I 2025-05-26 14:03:50,246] Trial 25 finished with value: -0.00011113729692453519 and parameters: {'learning_rate': 0.006393068396628797, 'sigma_multiplier': 1.7062386200498227, 'num_layers': 5, 'initialization_multiplier': 0.0016057566168046905}. Best is trial 13 with value: -0.00017931730111783555.\n"
     ]
    },
    {
     "name": "stdout",
     "output_type": "stream",
     "text": [
      "Training has not converged after 250 steps\n",
      "Trial 25 final loss: -0.00011114\n",
      "Trial 26:\n",
      "  Learning Rate: 0.001435321660975366\n",
      "  Sigma Multiplier: 1.497036730950094\n",
      "  Initialization Multiplier: 0.5509256227738597\n",
      "  Number of Layers: 1\n"
     ]
    },
    {
     "name": "stderr",
     "output_type": "stream",
     "text": [
      "Training Progress: 100%|██████████| 250/250 [00:04<00:00, 58.70it/s, loss=0.000013, elapsed time=0.01, total time=4.39] \n",
      "[I 2025-05-26 14:03:54,649] Trial 26 finished with value: 1.3287673440089847e-05 and parameters: {'learning_rate': 0.001435321660975366, 'sigma_multiplier': 1.497036730950094, 'num_layers': 1, 'initialization_multiplier': 0.5509256227738597}. Best is trial 13 with value: -0.00017931730111783555.\n"
     ]
    },
    {
     "name": "stdout",
     "output_type": "stream",
     "text": [
      "Training has not converged after 250 steps\n",
      "Trial 26 final loss: 0.00001329\n",
      "Trial 27:\n",
      "  Learning Rate: 0.008700124684754814\n",
      "  Sigma Multiplier: 0.928563451771921\n",
      "  Initialization Multiplier: 0.3804190581639273\n",
      "  Number of Layers: 4\n"
     ]
    },
    {
     "name": "stderr",
     "output_type": "stream",
     "text": [
      "Training Progress: 100%|██████████| 250/250 [00:06<00:00, 38.28it/s, loss=0.000401, elapsed time=0.02, total time=6.66]\n",
      "[I 2025-05-26 14:04:01,330] Trial 27 finished with value: 0.00040148438009218946 and parameters: {'learning_rate': 0.008700124684754814, 'sigma_multiplier': 0.928563451771921, 'num_layers': 4, 'initialization_multiplier': 0.3804190581639273}. Best is trial 13 with value: -0.00017931730111783555.\n"
     ]
    },
    {
     "name": "stdout",
     "output_type": "stream",
     "text": [
      "Training has not converged after 250 steps\n",
      "Trial 27 final loss: 0.00040148\n",
      "Trial 28:\n",
      "  Learning Rate: 0.0003078591885829574\n",
      "  Sigma Multiplier: 1.1681327786986997\n",
      "  Initialization Multiplier: 0.8709937200476043\n",
      "  Number of Layers: 2\n"
     ]
    },
    {
     "name": "stderr",
     "output_type": "stream",
     "text": [
      "Training Progress: 100%|██████████| 250/250 [00:05<00:00, 48.99it/s, loss=0.065328, elapsed time=0.02, total time=5.23]\n",
      "[I 2025-05-26 14:04:06,581] Trial 28 finished with value: 0.06532841227748268 and parameters: {'learning_rate': 0.0003078591885829574, 'sigma_multiplier': 1.1681327786986997, 'num_layers': 2, 'initialization_multiplier': 0.8709937200476043}. Best is trial 13 with value: -0.00017931730111783555.\n"
     ]
    },
    {
     "name": "stdout",
     "output_type": "stream",
     "text": [
      "Training has not converged after 250 steps\n",
      "Trial 28 final loss: 0.06532841\n",
      "Trial 29:\n",
      "  Learning Rate: 0.00016582487576619062\n",
      "  Sigma Multiplier: 1.3458551313121925\n",
      "  Initialization Multiplier: 0.25657326976856365\n",
      "  Number of Layers: 3\n"
     ]
    },
    {
     "name": "stderr",
     "output_type": "stream",
     "text": [
      "Training Progress: 100%|██████████| 250/250 [00:05<00:00, 48.09it/s, loss=0.000075, elapsed time=0.02, total time=5.34]\n",
      "[I 2025-05-26 14:04:11,942] Trial 29 finished with value: 7.504520835911562e-05 and parameters: {'learning_rate': 0.00016582487576619062, 'sigma_multiplier': 1.3458551313121925, 'num_layers': 3, 'initialization_multiplier': 0.25657326976856365}. Best is trial 13 with value: -0.00017931730111783555.\n"
     ]
    },
    {
     "name": "stdout",
     "output_type": "stream",
     "text": [
      "Training has not converged after 250 steps\n",
      "Trial 29 final loss: 0.00007505\n",
      "Trial 30:\n",
      "  Learning Rate: 0.0031141042542007923\n",
      "  Sigma Multiplier: 1.6750408149708347\n",
      "  Initialization Multiplier: 3.097171361546529\n",
      "  Number of Layers: 1\n"
     ]
    },
    {
     "name": "stderr",
     "output_type": "stream",
     "text": [
      "Training Progress: 100%|██████████| 250/250 [00:04<00:00, 60.14it/s, loss=0.004964, elapsed time=0.01, total time=4.3] \n",
      "[I 2025-05-26 14:04:16,255] Trial 30 finished with value: 0.004963606458158989 and parameters: {'learning_rate': 0.0031141042542007923, 'sigma_multiplier': 1.6750408149708347, 'num_layers': 1, 'initialization_multiplier': 3.097171361546529}. Best is trial 13 with value: -0.00017931730111783555.\n"
     ]
    },
    {
     "name": "stdout",
     "output_type": "stream",
     "text": [
      "Training has not converged after 250 steps\n",
      "Trial 30 final loss: 0.00496361\n",
      "Trial 31:\n",
      "  Learning Rate: 0.0022096090859472614\n",
      "  Sigma Multiplier: 1.81660957250297\n",
      "  Initialization Multiplier: 0.7108715563260586\n",
      "  Number of Layers: 1\n"
     ]
    },
    {
     "name": "stderr",
     "output_type": "stream",
     "text": [
      "Training Progress: 100%|██████████| 250/250 [00:04<00:00, 61.72it/s, loss=-0.000111, elapsed time=0.01, total time=4.18]\n",
      "[I 2025-05-26 14:04:20,452] Trial 31 finished with value: -0.00011097026637561229 and parameters: {'learning_rate': 0.0022096090859472614, 'sigma_multiplier': 1.81660957250297, 'num_layers': 1, 'initialization_multiplier': 0.7108715563260586}. Best is trial 13 with value: -0.00017931730111783555.\n"
     ]
    },
    {
     "name": "stdout",
     "output_type": "stream",
     "text": [
      "Training has not converged after 250 steps\n",
      "Trial 31 final loss: -0.00011097\n",
      "Trial 32:\n",
      "  Learning Rate: 0.0012202999709009894\n",
      "  Sigma Multiplier: 1.8815693503090014\n",
      "  Initialization Multiplier: 1.0154132873251693\n",
      "  Number of Layers: 1\n"
     ]
    },
    {
     "name": "stderr",
     "output_type": "stream",
     "text": [
      "Training Progress: 100%|██████████| 250/250 [00:04<00:00, 61.86it/s, loss=-0.000134, elapsed time=0.01, total time=4.18]\n",
      "[I 2025-05-26 14:04:24,645] Trial 32 finished with value: -0.0001340470986330808 and parameters: {'learning_rate': 0.0012202999709009894, 'sigma_multiplier': 1.8815693503090014, 'num_layers': 1, 'initialization_multiplier': 1.0154132873251693}. Best is trial 13 with value: -0.00017931730111783555.\n"
     ]
    },
    {
     "name": "stdout",
     "output_type": "stream",
     "text": [
      "Training has not converged after 250 steps\n",
      "Trial 32 final loss: -0.00013405\n",
      "Trial 33:\n",
      "  Learning Rate: 0.0011986120847060002\n",
      "  Sigma Multiplier: 1.8723858074141528\n",
      "  Initialization Multiplier: 0.979674721671296\n",
      "  Number of Layers: 1\n"
     ]
    },
    {
     "name": "stderr",
     "output_type": "stream",
     "text": [
      "Training Progress: 100%|██████████| 250/250 [00:04<00:00, 62.34it/s, loss=-0.000141, elapsed time=0.01, total time=4.14]\n",
      "[I 2025-05-26 14:04:28,799] Trial 33 finished with value: -0.00014084675170649154 and parameters: {'learning_rate': 0.0011986120847060002, 'sigma_multiplier': 1.8723858074141528, 'num_layers': 1, 'initialization_multiplier': 0.979674721671296}. Best is trial 13 with value: -0.00017931730111783555.\n"
     ]
    },
    {
     "name": "stdout",
     "output_type": "stream",
     "text": [
      "Training has not converged after 250 steps\n",
      "Trial 33 final loss: -0.00014085\n",
      "Trial 34:\n",
      "  Learning Rate: 0.00047441778298561003\n",
      "  Sigma Multiplier: 1.6565345701116598\n",
      "  Initialization Multiplier: 1.4185942336420854\n",
      "  Number of Layers: 2\n"
     ]
    },
    {
     "name": "stderr",
     "output_type": "stream",
     "text": [
      "Training Progress: 100%|██████████| 250/250 [00:04<00:00, 53.85it/s, loss=0.034669, elapsed time=0.02, total time=4.78]\n",
      "[I 2025-05-26 14:04:33,597] Trial 34 finished with value: 0.03466856107864649 and parameters: {'learning_rate': 0.00047441778298561003, 'sigma_multiplier': 1.6565345701116598, 'num_layers': 2, 'initialization_multiplier': 1.4185942336420854}. Best is trial 13 with value: -0.00017931730111783555.\n"
     ]
    },
    {
     "name": "stdout",
     "output_type": "stream",
     "text": [
      "Training has not converged after 250 steps\n",
      "Trial 34 final loss: 0.03466856\n",
      "Trial 35:\n",
      "  Learning Rate: 0.0007117006062518628\n",
      "  Sigma Multiplier: 1.8625885990376703\n",
      "  Initialization Multiplier: 0.6062953467292977\n",
      "  Number of Layers: 1\n"
     ]
    },
    {
     "name": "stderr",
     "output_type": "stream",
     "text": [
      "Training Progress: 100%|██████████| 250/250 [00:04<00:00, 61.13it/s, loss=0.000692, elapsed time=0.02, total time=4.22]\n",
      "[I 2025-05-26 14:04:37,826] Trial 35 finished with value: 0.0006922358121717367 and parameters: {'learning_rate': 0.0007117006062518628, 'sigma_multiplier': 1.8625885990376703, 'num_layers': 1, 'initialization_multiplier': 0.6062953467292977}. Best is trial 13 with value: -0.00017931730111783555.\n"
     ]
    },
    {
     "name": "stdout",
     "output_type": "stream",
     "text": [
      "Training has not converged after 250 steps\n",
      "Trial 35 final loss: 0.00069224\n",
      "Trial 36:\n",
      "  Learning Rate: 0.024691507171064456\n",
      "  Sigma Multiplier: 1.4917735730938095\n",
      "  Initialization Multiplier: 1.7906434272567742\n",
      "  Number of Layers: 1\n"
     ]
    },
    {
     "name": "stderr",
     "output_type": "stream",
     "text": [
      "Training Progress: 100%|██████████| 250/250 [00:04<00:00, 58.27it/s, loss=-0.000142, elapsed time=0.02, total time=4.42]\n",
      "[I 2025-05-26 14:04:42,260] Trial 36 finished with value: -0.00014228766170417285 and parameters: {'learning_rate': 0.024691507171064456, 'sigma_multiplier': 1.4917735730938095, 'num_layers': 1, 'initialization_multiplier': 1.7906434272567742}. Best is trial 13 with value: -0.00017931730111783555.\n"
     ]
    },
    {
     "name": "stdout",
     "output_type": "stream",
     "text": [
      "Training has not converged after 250 steps\n",
      "Trial 36 final loss: -0.00014229\n",
      "Trial 37:\n",
      "  Learning Rate: 0.021612873994726414\n",
      "  Sigma Multiplier: 1.007541360631848\n",
      "  Initialization Multiplier: 2.3993467830605177\n",
      "  Number of Layers: 4\n"
     ]
    },
    {
     "name": "stderr",
     "output_type": "stream",
     "text": [
      "Training Progress: 100%|██████████| 250/250 [00:06<00:00, 39.41it/s, loss=0.000167, elapsed time=0.02, total time=6.47]\n",
      "[I 2025-05-26 14:04:48,757] Trial 37 finished with value: 0.00016703006583733383 and parameters: {'learning_rate': 0.021612873994726414, 'sigma_multiplier': 1.007541360631848, 'num_layers': 4, 'initialization_multiplier': 2.3993467830605177}. Best is trial 13 with value: -0.00017931730111783555.\n"
     ]
    },
    {
     "name": "stdout",
     "output_type": "stream",
     "text": [
      "Training has not converged after 250 steps\n",
      "Trial 37 final loss: 0.00016703\n",
      "Trial 38:\n",
      "  Learning Rate: 0.0404702025776044\n",
      "  Sigma Multiplier: 1.454373439568684\n",
      "  Initialization Multiplier: 1.8730122996463725\n",
      "  Number of Layers: 2\n"
     ]
    },
    {
     "name": "stderr",
     "output_type": "stream",
     "text": [
      "Training Progress: 100%|██████████| 250/250 [00:04<00:00, 52.98it/s, loss=-0.000023, elapsed time=0.02, total time=4.85]\n",
      "[I 2025-05-26 14:04:53,620] Trial 38 finished with value: -2.2909627680980343e-05 and parameters: {'learning_rate': 0.0404702025776044, 'sigma_multiplier': 1.454373439568684, 'num_layers': 2, 'initialization_multiplier': 1.8730122996463725}. Best is trial 13 with value: -0.00017931730111783555.\n"
     ]
    },
    {
     "name": "stdout",
     "output_type": "stream",
     "text": [
      "Training has not converged after 250 steps\n",
      "Trial 38 final loss: -0.00002291\n",
      "Trial 39:\n",
      "  Learning Rate: 0.007524814568535567\n",
      "  Sigma Multiplier: 1.1152082771578928\n",
      "  Initialization Multiplier: 1.7107406788596862\n",
      "  Number of Layers: 5\n"
     ]
    },
    {
     "name": "stderr",
     "output_type": "stream",
     "text": [
      "Training Progress: 100%|██████████| 250/250 [00:06<00:00, 37.91it/s, loss=0.000053, elapsed time=0.02, total time=6.73] \n",
      "[I 2025-05-26 14:05:00,378] Trial 39 finished with value: 5.291120690587986e-05 and parameters: {'learning_rate': 0.007524814568535567, 'sigma_multiplier': 1.1152082771578928, 'num_layers': 5, 'initialization_multiplier': 1.7107406788596862}. Best is trial 13 with value: -0.00017931730111783555.\n"
     ]
    },
    {
     "name": "stdout",
     "output_type": "stream",
     "text": [
      "Training has not converged after 250 steps\n",
      "Trial 39 final loss: 0.00005291\n",
      "Trial 40:\n",
      "  Learning Rate: 0.015432355186828554\n",
      "  Sigma Multiplier: 1.5298701595878441\n",
      "  Initialization Multiplier: 2.145710784374413\n",
      "  Number of Layers: 4\n"
     ]
    },
    {
     "name": "stderr",
     "output_type": "stream",
     "text": [
      "Training Progress: 100%|██████████| 250/250 [00:05<00:00, 44.16it/s, loss=-0.000038, elapsed time=0.02, total time=5.8] \n",
      "[I 2025-05-26 14:05:06,200] Trial 40 finished with value: -3.7903559413839795e-05 and parameters: {'learning_rate': 0.015432355186828554, 'sigma_multiplier': 1.5298701595878441, 'num_layers': 4, 'initialization_multiplier': 2.145710784374413}. Best is trial 13 with value: -0.00017931730111783555.\n"
     ]
    },
    {
     "name": "stdout",
     "output_type": "stream",
     "text": [
      "Training has not converged after 250 steps\n",
      "Trial 40 final loss: -0.00003790\n",
      "Trial 41:\n",
      "  Learning Rate: 0.003098016716065099\n",
      "  Sigma Multiplier: 1.7795515832900628\n",
      "  Initialization Multiplier: 1.0285175572671041\n",
      "  Number of Layers: 1\n"
     ]
    },
    {
     "name": "stderr",
     "output_type": "stream",
     "text": [
      "Training Progress: 100%|██████████| 250/250 [00:04<00:00, 62.02it/s, loss=-0.000118, elapsed time=0.01, total time=4.16]\n",
      "[I 2025-05-26 14:05:10,371] Trial 41 finished with value: -0.00011825780323599295 and parameters: {'learning_rate': 0.003098016716065099, 'sigma_multiplier': 1.7795515832900628, 'num_layers': 1, 'initialization_multiplier': 1.0285175572671041}. Best is trial 13 with value: -0.00017931730111783555.\n"
     ]
    },
    {
     "name": "stdout",
     "output_type": "stream",
     "text": [
      "Training has not converged after 250 steps\n",
      "Trial 41 final loss: -0.00011826\n",
      "Trial 42:\n",
      "  Learning Rate: 0.0011539194750662867\n",
      "  Sigma Multiplier: 1.3530281707199148\n",
      "  Initialization Multiplier: 1.668984498924262\n",
      "  Number of Layers: 1\n"
     ]
    },
    {
     "name": "stderr",
     "output_type": "stream",
     "text": [
      "Training Progress: 100%|██████████| 250/250 [00:04<00:00, 56.22it/s, loss=0.025298, elapsed time=0.02, total time=4.57]\n",
      "[I 2025-05-26 14:05:14,955] Trial 42 finished with value: 0.02529758924320124 and parameters: {'learning_rate': 0.0011539194750662867, 'sigma_multiplier': 1.3530281707199148, 'num_layers': 1, 'initialization_multiplier': 1.668984498924262}. Best is trial 13 with value: -0.00017931730111783555.\n"
     ]
    },
    {
     "name": "stdout",
     "output_type": "stream",
     "text": [
      "Training has not converged after 250 steps\n",
      "Trial 42 final loss: 0.02529759\n",
      "Trial 43:\n",
      "  Learning Rate: 0.00019888798390789732\n",
      "  Sigma Multiplier: 1.7365721311830251\n",
      "  Initialization Multiplier: 0.20916744925584885\n",
      "  Number of Layers: 1\n"
     ]
    },
    {
     "name": "stderr",
     "output_type": "stream",
     "text": [
      "Training Progress: 100%|██████████| 250/250 [00:03<00:00, 70.82it/s, loss=0.050244, elapsed time=0.01, total time=3.67]\n",
      "[I 2025-05-26 14:05:18,638] Trial 43 finished with value: 0.05024370732438017 and parameters: {'learning_rate': 0.00019888798390789732, 'sigma_multiplier': 1.7365721311830251, 'num_layers': 1, 'initialization_multiplier': 0.20916744925584885}. Best is trial 13 with value: -0.00017931730111783555.\n"
     ]
    },
    {
     "name": "stdout",
     "output_type": "stream",
     "text": [
      "Training has not converged after 250 steps\n",
      "Trial 43 final loss: 0.05024371\n",
      "Trial 44:\n",
      "  Learning Rate: 0.001820737331190005\n",
      "  Sigma Multiplier: 1.900555159784913\n",
      "  Initialization Multiplier: 0.8357864707911788\n",
      "  Number of Layers: 1\n"
     ]
    },
    {
     "name": "stderr",
     "output_type": "stream",
     "text": [
      "Training Progress: 100%|██████████| 250/250 [00:04<00:00, 61.48it/s, loss=-0.000086, elapsed time=0.02, total time=4.19]\n",
      "[I 2025-05-26 14:05:22,845] Trial 44 finished with value: -8.609268858628944e-05 and parameters: {'learning_rate': 0.001820737331190005, 'sigma_multiplier': 1.900555159784913, 'num_layers': 1, 'initialization_multiplier': 0.8357864707911788}. Best is trial 13 with value: -0.00017931730111783555.\n"
     ]
    },
    {
     "name": "stdout",
     "output_type": "stream",
     "text": [
      "Training has not converged after 250 steps\n",
      "Trial 44 final loss: -0.00008609\n",
      "Trial 45:\n",
      "  Learning Rate: 0.09670882846085396\n",
      "  Sigma Multiplier: 1.2813962459362185\n",
      "  Initialization Multiplier: 0.680113221002159\n",
      "  Number of Layers: 2\n"
     ]
    },
    {
     "name": "stderr",
     "output_type": "stream",
     "text": [
      "Training Progress: 100%|██████████| 250/250 [00:04<00:00, 50.04it/s, loss=0.000203, elapsed time=0.02, total time=5.14] \n",
      "[I 2025-05-26 14:05:28,003] Trial 45 finished with value: 0.00020260452066695744 and parameters: {'learning_rate': 0.09670882846085396, 'sigma_multiplier': 1.2813962459362185, 'num_layers': 2, 'initialization_multiplier': 0.680113221002159}. Best is trial 13 with value: -0.00017931730111783555.\n"
     ]
    },
    {
     "name": "stdout",
     "output_type": "stream",
     "text": [
      "Training has not converged after 250 steps\n",
      "Trial 45 final loss: 0.00020260\n",
      "Trial 46:\n",
      "  Learning Rate: 0.003923801506782084\n",
      "  Sigma Multiplier: 1.612617479463457\n",
      "  Initialization Multiplier: 0.37452488041102316\n",
      "  Number of Layers: 1\n"
     ]
    },
    {
     "name": "stderr",
     "output_type": "stream",
     "text": [
      "Training Progress: 100%|██████████| 250/250 [00:04<00:00, 59.02it/s, loss=-0.000149, elapsed time=0.01, total time=4.37]\n",
      "[I 2025-05-26 14:05:32,387] Trial 46 finished with value: -0.00014928316137068738 and parameters: {'learning_rate': 0.003923801506782084, 'sigma_multiplier': 1.612617479463457, 'num_layers': 1, 'initialization_multiplier': 0.37452488041102316}. Best is trial 13 with value: -0.00017931730111783555.\n"
     ]
    },
    {
     "name": "stdout",
     "output_type": "stream",
     "text": [
      "Training has not converged after 250 steps\n",
      "Trial 46 final loss: -0.00014928\n",
      "Trial 47:\n",
      "  Learning Rate: 0.017765820849470253\n",
      "  Sigma Multiplier: 1.6321934168777485\n",
      "  Initialization Multiplier: 0.3899539634039717\n",
      "  Number of Layers: 2\n"
     ]
    },
    {
     "name": "stderr",
     "output_type": "stream",
     "text": [
      "Training Progress: 100%|██████████| 250/250 [00:04<00:00, 54.07it/s, loss=-0.000093, elapsed time=0.02, total time=4.75]\n",
      "[I 2025-05-26 14:05:37,160] Trial 47 finished with value: -9.254926384005008e-05 and parameters: {'learning_rate': 0.017765820849470253, 'sigma_multiplier': 1.6321934168777485, 'num_layers': 2, 'initialization_multiplier': 0.3899539634039717}. Best is trial 13 with value: -0.00017931730111783555.\n"
     ]
    },
    {
     "name": "stdout",
     "output_type": "stream",
     "text": [
      "Training has not converged after 250 steps\n",
      "Trial 47 final loss: -0.00009255\n",
      "Trial 48:\n",
      "  Learning Rate: 0.010332057854723688\n",
      "  Sigma Multiplier: 1.4941766056495727\n",
      "  Initialization Multiplier: 0.0028606547284571876\n",
      "  Number of Layers: 3\n"
     ]
    },
    {
     "name": "stderr",
     "output_type": "stream",
     "text": [
      "Training Progress: 100%|██████████| 250/250 [00:05<00:00, 49.30it/s, loss=-0.000101, elapsed time=0.02, total time=5.21]\n",
      "[I 2025-05-26 14:05:42,388] Trial 48 finished with value: -0.00010082013838755435 and parameters: {'learning_rate': 0.010332057854723688, 'sigma_multiplier': 1.4941766056495727, 'num_layers': 3, 'initialization_multiplier': 0.0028606547284571876}. Best is trial 13 with value: -0.00017931730111783555.\n"
     ]
    },
    {
     "name": "stdout",
     "output_type": "stream",
     "text": [
      "Training has not converged after 250 steps\n",
      "Trial 48 final loss: -0.00010082\n",
      "Trial 49:\n",
      "  Learning Rate: 0.004122065871527011\n",
      "  Sigma Multiplier: 1.1701623871742304\n",
      "  Initialization Multiplier: 2.1180788643647546\n",
      "  Number of Layers: 1\n"
     ]
    },
    {
     "name": "stderr",
     "output_type": "stream",
     "text": [
      "Training Progress: 100%|██████████| 250/250 [00:04<00:00, 52.86it/s, loss=0.004564, elapsed time=0.02, total time=4.87]\n",
      "[I 2025-05-26 14:05:47,269] Trial 49 finished with value: 0.004563619266609985 and parameters: {'learning_rate': 0.004122065871527011, 'sigma_multiplier': 1.1701623871742304, 'num_layers': 1, 'initialization_multiplier': 2.1180788643647546}. Best is trial 13 with value: -0.00017931730111783555.\n"
     ]
    },
    {
     "name": "stdout",
     "output_type": "stream",
     "text": [
      "Training has not converged after 250 steps\n",
      "Trial 49 final loss: 0.00456362\n",
      "Trial 50:\n",
      "  Learning Rate: 0.040837224612885484\n",
      "  Sigma Multiplier: 0.5394847556035353\n",
      "  Initialization Multiplier: 0.1946827155979734\n",
      "  Number of Layers: 2\n"
     ]
    },
    {
     "name": "stderr",
     "output_type": "stream",
     "text": [
      "Training Progress: 100%|██████████| 250/250 [00:07<00:00, 34.28it/s, loss=0.001146, elapsed time=0.03, total time=7.43]\n",
      "[I 2025-05-26 14:05:54,713] Trial 50 finished with value: 0.0011462814862142202 and parameters: {'learning_rate': 0.040837224612885484, 'sigma_multiplier': 0.5394847556035353, 'num_layers': 2, 'initialization_multiplier': 0.1946827155979734}. Best is trial 13 with value: -0.00017931730111783555.\n"
     ]
    },
    {
     "name": "stdout",
     "output_type": "stream",
     "text": [
      "Training has not converged after 250 steps\n",
      "Trial 50 final loss: 0.00114628\n",
      "Trial 51:\n",
      "  Learning Rate: 0.0008596424739395933\n",
      "  Sigma Multiplier: 1.7425508068431046\n",
      "  Initialization Multiplier: 1.2065194426490187\n",
      "  Number of Layers: 1\n"
     ]
    },
    {
     "name": "stderr",
     "output_type": "stream",
     "text": [
      "Training Progress: 100%|██████████| 250/250 [00:04<00:00, 59.61it/s, loss=0.000010, elapsed time=0.01, total time=4.33]\n",
      "[I 2025-05-26 14:05:59,053] Trial 51 finished with value: 1.0197572727571282e-05 and parameters: {'learning_rate': 0.0008596424739395933, 'sigma_multiplier': 1.7425508068431046, 'num_layers': 1, 'initialization_multiplier': 1.2065194426490187}. Best is trial 13 with value: -0.00017931730111783555.\n"
     ]
    },
    {
     "name": "stdout",
     "output_type": "stream",
     "text": [
      "Training has not converged after 250 steps\n",
      "Trial 51 final loss: 0.00001020\n",
      "Trial 52:\n",
      "  Learning Rate: 0.005987711393274834\n",
      "  Sigma Multiplier: 1.5842707368889803\n",
      "  Initialization Multiplier: 0.9086758454450132\n",
      "  Number of Layers: 1\n"
     ]
    },
    {
     "name": "stderr",
     "output_type": "stream",
     "text": [
      "Training Progress: 100%|██████████| 250/250 [00:04<00:00, 59.44it/s, loss=-0.000112, elapsed time=0.02, total time=4.33]\n",
      "[I 2025-05-26 14:06:03,397] Trial 52 finished with value: -0.00011167902739669983 and parameters: {'learning_rate': 0.005987711393274834, 'sigma_multiplier': 1.5842707368889803, 'num_layers': 1, 'initialization_multiplier': 0.9086758454450132}. Best is trial 13 with value: -0.00017931730111783555.\n"
     ]
    },
    {
     "name": "stdout",
     "output_type": "stream",
     "text": [
      "Training has not converged after 250 steps\n",
      "Trial 52 final loss: -0.00011168\n",
      "Trial 53:\n",
      "  Learning Rate: 3.7326106247432545e-05\n",
      "  Sigma Multiplier: 1.4613068163851002\n",
      "  Initialization Multiplier: 0.38506804306818543\n",
      "  Number of Layers: 1\n"
     ]
    },
    {
     "name": "stderr",
     "output_type": "stream",
     "text": [
      "Training Progress: 100%|██████████| 250/250 [00:03<00:00, 63.19it/s, loss=0.057409, elapsed time=0.01, total time=4.09]\n",
      "[I 2025-05-26 14:06:07,505] Trial 53 finished with value: 0.05740854439276021 and parameters: {'learning_rate': 3.7326106247432545e-05, 'sigma_multiplier': 1.4613068163851002, 'num_layers': 1, 'initialization_multiplier': 0.38506804306818543}. Best is trial 13 with value: -0.00017931730111783555.\n"
     ]
    },
    {
     "name": "stdout",
     "output_type": "stream",
     "text": [
      "Training has not converged after 250 steps\n",
      "Trial 53 final loss: 0.05740854\n",
      "Trial 54:\n",
      "  Learning Rate: 0.004239835795267371\n",
      "  Sigma Multiplier: 1.3687085770129455\n",
      "  Initialization Multiplier: 0.48243827547437085\n",
      "  Number of Layers: 1\n"
     ]
    },
    {
     "name": "stderr",
     "output_type": "stream",
     "text": [
      "Training Progress: 100%|██████████| 250/250 [00:04<00:00, 55.13it/s, loss=-0.000019, elapsed time=0.02, total time=4.67]\n",
      "[I 2025-05-26 14:06:12,192] Trial 54 finished with value: -1.8563387015509458e-05 and parameters: {'learning_rate': 0.004239835795267371, 'sigma_multiplier': 1.3687085770129455, 'num_layers': 1, 'initialization_multiplier': 0.48243827547437085}. Best is trial 13 with value: -0.00017931730111783555.\n"
     ]
    },
    {
     "name": "stdout",
     "output_type": "stream",
     "text": [
      "Training has not converged after 250 steps\n",
      "Trial 54 final loss: -0.00001856\n",
      "Trial 55:\n",
      "  Learning Rate: 0.0025344912522470334\n",
      "  Sigma Multiplier: 1.9256239715240422\n",
      "  Initialization Multiplier: 0.6434596672663527\n",
      "  Number of Layers: 1\n"
     ]
    },
    {
     "name": "stderr",
     "output_type": "stream",
     "text": [
      "Training Progress: 100%|██████████| 250/250 [00:04<00:00, 62.23it/s, loss=-0.000122, elapsed time=0.02, total time=4.16]\n",
      "[I 2025-05-26 14:06:16,363] Trial 55 finished with value: -0.00012188466105971898 and parameters: {'learning_rate': 0.0025344912522470334, 'sigma_multiplier': 1.9256239715240422, 'num_layers': 1, 'initialization_multiplier': 0.6434596672663527}. Best is trial 13 with value: -0.00017931730111783555.\n"
     ]
    },
    {
     "name": "stdout",
     "output_type": "stream",
     "text": [
      "Training has not converged after 250 steps\n",
      "Trial 55 final loss: -0.00012188\n",
      "Trial 56:\n",
      "  Learning Rate: 0.0014913894561592344\n",
      "  Sigma Multiplier: 1.3011611479093643\n",
      "  Initialization Multiplier: 0.11688632479702404\n",
      "  Number of Layers: 2\n"
     ]
    },
    {
     "name": "stderr",
     "output_type": "stream",
     "text": [
      "Training Progress: 100%|██████████| 250/250 [00:04<00:00, 53.17it/s, loss=0.000067, elapsed time=0.02, total time=4.84] \n",
      "[I 2025-05-26 14:06:21,215] Trial 56 finished with value: 6.705800954853775e-05 and parameters: {'learning_rate': 0.0014913894561592344, 'sigma_multiplier': 1.3011611479093643, 'num_layers': 2, 'initialization_multiplier': 0.11688632479702404}. Best is trial 13 with value: -0.00017931730111783555.\n"
     ]
    },
    {
     "name": "stdout",
     "output_type": "stream",
     "text": [
      "Training has not converged after 250 steps\n",
      "Trial 56 final loss: 0.00006706\n",
      "Trial 57:\n",
      "  Learning Rate: 0.0006278584165185016\n",
      "  Sigma Multiplier: 1.56919967683614\n",
      "  Initialization Multiplier: 1.3713522512577927\n",
      "  Number of Layers: 1\n"
     ]
    },
    {
     "name": "stderr",
     "output_type": "stream",
     "text": [
      "Training Progress: 100%|██████████| 250/250 [00:04<00:00, 59.23it/s, loss=0.006140, elapsed time=0.01, total time=4.36]\n",
      "[I 2025-05-26 14:06:25,586] Trial 57 finished with value: 0.006140243581708326 and parameters: {'learning_rate': 0.0006278584165185016, 'sigma_multiplier': 1.56919967683614, 'num_layers': 1, 'initialization_multiplier': 1.3713522512577927}. Best is trial 13 with value: -0.00017931730111783555.\n"
     ]
    },
    {
     "name": "stdout",
     "output_type": "stream",
     "text": [
      "Training has not converged after 250 steps\n",
      "Trial 57 final loss: 0.00614024\n",
      "Trial 58:\n",
      "  Learning Rate: 0.009093716020700564\n",
      "  Sigma Multiplier: 1.6751951026144287\n",
      "  Initialization Multiplier: 0.27218575658352556\n",
      "  Number of Layers: 2\n"
     ]
    },
    {
     "name": "stderr",
     "output_type": "stream",
     "text": [
      "Training Progress: 100%|██████████| 250/250 [00:04<00:00, 55.87it/s, loss=-0.000130, elapsed time=0.02, total time=4.6] \n",
      "[I 2025-05-26 14:06:30,207] Trial 58 finished with value: -0.00013015943407774865 and parameters: {'learning_rate': 0.009093716020700564, 'sigma_multiplier': 1.6751951026144287, 'num_layers': 2, 'initialization_multiplier': 0.27218575658352556}. Best is trial 13 with value: -0.00017931730111783555.\n"
     ]
    },
    {
     "name": "stdout",
     "output_type": "stream",
     "text": [
      "Training has not converged after 250 steps\n",
      "Trial 58 final loss: -0.00013016\n",
      "Trial 59:\n",
      "  Learning Rate: 0.01298061940143309\n",
      "  Sigma Multiplier: 1.9979227673095004\n",
      "  Initialization Multiplier: 1.1474913706036503\n",
      "  Number of Layers: 5\n"
     ]
    },
    {
     "name": "stderr",
     "output_type": "stream",
     "text": [
      "Training Progress: 100%|██████████| 250/250 [00:05<00:00, 43.51it/s, loss=-0.000028, elapsed time=0.02, total time=5.87]\n",
      "[I 2025-05-26 14:06:36,107] Trial 59 finished with value: -2.785612919904492e-05 and parameters: {'learning_rate': 0.01298061940143309, 'sigma_multiplier': 1.9979227673095004, 'num_layers': 5, 'initialization_multiplier': 1.1474913706036503}. Best is trial 13 with value: -0.00017931730111783555.\n"
     ]
    },
    {
     "name": "stdout",
     "output_type": "stream",
     "text": [
      "Training has not converged after 250 steps\n",
      "Trial 59 final loss: -0.00002786\n",
      "Trial 60:\n",
      "  Learning Rate: 0.030705819617700678\n",
      "  Sigma Multiplier: 0.19878180480257857\n",
      "  Initialization Multiplier: 1.7809409671896566\n",
      "  Number of Layers: 3\n"
     ]
    },
    {
     "name": "stderr",
     "output_type": "stream",
     "text": [
      "Training Progress: 100%|██████████| 250/250 [00:08<00:00, 29.69it/s, loss=0.000210, elapsed time=0.03, total time=8.55]\n",
      "[I 2025-05-26 14:06:44,678] Trial 60 finished with value: 0.00021000750378973078 and parameters: {'learning_rate': 0.030705819617700678, 'sigma_multiplier': 0.19878180480257857, 'num_layers': 3, 'initialization_multiplier': 1.7809409671896566}. Best is trial 13 with value: -0.00017931730111783555.\n"
     ]
    },
    {
     "name": "stdout",
     "output_type": "stream",
     "text": [
      "Training has not converged after 250 steps\n",
      "Trial 60 final loss: 0.00021001\n",
      "Trial 61:\n",
      "  Learning Rate: 0.001144866692289537\n",
      "  Sigma Multiplier: 1.8326701968532204\n",
      "  Initialization Multiplier: 1.0159634616694715\n",
      "  Number of Layers: 1\n"
     ]
    },
    {
     "name": "stderr",
     "output_type": "stream",
     "text": [
      "Training Progress: 100%|██████████| 250/250 [00:04<00:00, 62.00it/s, loss=-0.000116, elapsed time=0.01, total time=4.16]\n",
      "[I 2025-05-26 14:06:48,855] Trial 61 finished with value: -0.00011573125227537348 and parameters: {'learning_rate': 0.001144866692289537, 'sigma_multiplier': 1.8326701968532204, 'num_layers': 1, 'initialization_multiplier': 1.0159634616694715}. Best is trial 13 with value: -0.00017931730111783555.\n"
     ]
    },
    {
     "name": "stdout",
     "output_type": "stream",
     "text": [
      "Training has not converged after 250 steps\n",
      "Trial 61 final loss: -0.00011573\n",
      "Trial 62:\n",
      "  Learning Rate: 0.0034517268730646427\n",
      "  Sigma Multiplier: 1.911233561454674\n",
      "  Initialization Multiplier: 1.5358338379504735\n",
      "  Number of Layers: 1\n"
     ]
    },
    {
     "name": "stderr",
     "output_type": "stream",
     "text": [
      "Training Progress: 100%|██████████| 250/250 [00:03<00:00, 62.59it/s, loss=-0.000123, elapsed time=0.01, total time=4.13]\n",
      "[I 2025-05-26 14:06:53,002] Trial 62 finished with value: -0.0001228676989656782 and parameters: {'learning_rate': 0.0034517268730646427, 'sigma_multiplier': 1.911233561454674, 'num_layers': 1, 'initialization_multiplier': 1.5358338379504735}. Best is trial 13 with value: -0.00017931730111783555.\n"
     ]
    },
    {
     "name": "stdout",
     "output_type": "stream",
     "text": [
      "Training has not converged after 250 steps\n",
      "Trial 62 final loss: -0.00012287\n",
      "Trial 63:\n",
      "  Learning Rate: 0.0021482048671106137\n",
      "  Sigma Multiplier: 1.758543099289731\n",
      "  Initialization Multiplier: 0.8163308944111702\n",
      "  Number of Layers: 1\n"
     ]
    },
    {
     "name": "stderr",
     "output_type": "stream",
     "text": [
      "Training Progress: 100%|██████████| 250/250 [00:04<00:00, 59.17it/s, loss=-0.000112, elapsed time=0.01, total time=4.35]\n",
      "[I 2025-05-26 14:06:57,368] Trial 63 finished with value: -0.00011167859662281033 and parameters: {'learning_rate': 0.0021482048671106137, 'sigma_multiplier': 1.758543099289731, 'num_layers': 1, 'initialization_multiplier': 0.8163308944111702}. Best is trial 13 with value: -0.00017931730111783555.\n"
     ]
    },
    {
     "name": "stdout",
     "output_type": "stream",
     "text": [
      "Training has not converged after 250 steps\n",
      "Trial 63 final loss: -0.00011168\n",
      "Trial 64:\n",
      "  Learning Rate: 0.0012238834465993509\n",
      "  Sigma Multiplier: 1.4171373185357516\n",
      "  Initialization Multiplier: 0.9326774346728282\n",
      "  Number of Layers: 1\n"
     ]
    },
    {
     "name": "stderr",
     "output_type": "stream",
     "text": [
      "Training Progress: 100%|██████████| 250/250 [00:04<00:00, 57.90it/s, loss=-0.000136, elapsed time=0.02, total time=4.45]\n",
      "[I 2025-05-26 14:07:01,827] Trial 64 finished with value: -0.00013576561929936018 and parameters: {'learning_rate': 0.0012238834465993509, 'sigma_multiplier': 1.4171373185357516, 'num_layers': 1, 'initialization_multiplier': 0.9326774346728282}. Best is trial 13 with value: -0.00017931730111783555.\n"
     ]
    },
    {
     "name": "stdout",
     "output_type": "stream",
     "text": [
      "Training has not converged after 250 steps\n",
      "Trial 64 final loss: -0.00013577\n",
      "Trial 65:\n",
      "  Learning Rate: 0.00579030556130201\n",
      "  Sigma Multiplier: 1.4102622328688654\n",
      "  Initialization Multiplier: 0.7333759095580057\n",
      "  Number of Layers: 1\n"
     ]
    },
    {
     "name": "stderr",
     "output_type": "stream",
     "text": [
      "Training Progress: 100%|██████████| 250/250 [00:04<00:00, 56.45it/s, loss=-0.000148, elapsed time=0.02, total time=4.55]\n",
      "[I 2025-05-26 14:07:06,392] Trial 65 finished with value: -0.00014822727280728673 and parameters: {'learning_rate': 0.00579030556130201, 'sigma_multiplier': 1.4102622328688654, 'num_layers': 1, 'initialization_multiplier': 0.7333759095580057}. Best is trial 13 with value: -0.00017931730111783555.\n"
     ]
    },
    {
     "name": "stdout",
     "output_type": "stream",
     "text": [
      "Training has not converged after 250 steps\n",
      "Trial 65 final loss: -0.00014823\n",
      "Trial 66:\n",
      "  Learning Rate: 0.006002562583481312\n",
      "  Sigma Multiplier: 1.192268083992628\n",
      "  Initialization Multiplier: 0.4502379492607127\n",
      "  Number of Layers: 2\n"
     ]
    },
    {
     "name": "stderr",
     "output_type": "stream",
     "text": [
      "Training Progress: 100%|██████████| 250/250 [00:05<00:00, 49.26it/s, loss=-0.000139, elapsed time=0.02, total time=5.21]\n",
      "[I 2025-05-26 14:07:11,621] Trial 66 finished with value: -0.00013867859317831172 and parameters: {'learning_rate': 0.006002562583481312, 'sigma_multiplier': 1.192268083992628, 'num_layers': 2, 'initialization_multiplier': 0.4502379492607127}. Best is trial 13 with value: -0.00017931730111783555.\n"
     ]
    },
    {
     "name": "stdout",
     "output_type": "stream",
     "text": [
      "Training has not converged after 250 steps\n",
      "Trial 66 final loss: -0.00013868\n",
      "Trial 67:\n",
      "  Learning Rate: 0.00805014601311267\n",
      "  Sigma Multiplier: 1.528203457469843\n",
      "  Initialization Multiplier: 0.6642312472671972\n",
      "  Number of Layers: 1\n"
     ]
    },
    {
     "name": "stderr",
     "output_type": "stream",
     "text": [
      "Training Progress: 100%|██████████| 250/250 [00:04<00:00, 58.16it/s, loss=-0.000113, elapsed time=0.01, total time=4.43]\n",
      "[I 2025-05-26 14:07:16,061] Trial 67 finished with value: -0.00011345809449487477 and parameters: {'learning_rate': 0.00805014601311267, 'sigma_multiplier': 1.528203457469843, 'num_layers': 1, 'initialization_multiplier': 0.6642312472671972}. Best is trial 13 with value: -0.00017931730111783555.\n"
     ]
    },
    {
     "name": "stdout",
     "output_type": "stream",
     "text": [
      "Training has not converged after 250 steps\n",
      "Trial 67 final loss: -0.00011346\n",
      "Trial 68:\n",
      "  Learning Rate: 0.004638886756440399\n",
      "  Sigma Multiplier: 1.6315603557748029\n",
      "  Initialization Multiplier: 0.7530125258682282\n",
      "  Number of Layers: 3\n"
     ]
    },
    {
     "name": "stderr",
     "output_type": "stream",
     "text": [
      "Training Progress: 100%|██████████| 250/250 [00:04<00:00, 50.17it/s, loss=-0.000087, elapsed time=0.02, total time=5.12]\n",
      "[I 2025-05-26 14:07:21,198] Trial 68 finished with value: -8.747148387508754e-05 and parameters: {'learning_rate': 0.004638886756440399, 'sigma_multiplier': 1.6315603557748029, 'num_layers': 3, 'initialization_multiplier': 0.7530125258682282}. Best is trial 13 with value: -0.00017931730111783555.\n"
     ]
    },
    {
     "name": "stdout",
     "output_type": "stream",
     "text": [
      "Training has not converged after 250 steps\n",
      "Trial 68 final loss: -0.00008747\n",
      "Trial 69:\n",
      "  Learning Rate: 0.01796343778257712\n",
      "  Sigma Multiplier: 1.3199275068126013\n",
      "  Initialization Multiplier: 0.5228360072767473\n",
      "  Number of Layers: 4\n"
     ]
    },
    {
     "name": "stderr",
     "output_type": "stream",
     "text": [
      "Training Progress: 100%|██████████| 250/250 [00:05<00:00, 42.87it/s, loss=-0.000044, elapsed time=0.02, total time=5.96]\n",
      "[I 2025-05-26 14:07:27,187] Trial 69 finished with value: -4.374645878836606e-05 and parameters: {'learning_rate': 0.01796343778257712, 'sigma_multiplier': 1.3199275068126013, 'num_layers': 4, 'initialization_multiplier': 0.5228360072767473}. Best is trial 13 with value: -0.00017931730111783555.\n"
     ]
    },
    {
     "name": "stdout",
     "output_type": "stream",
     "text": [
      "Training has not converged after 250 steps\n",
      "Trial 69 final loss: -0.00004375\n",
      "Trial 70:\n",
      "  Learning Rate: 0.0019093987352089765\n",
      "  Sigma Multiplier: 1.4782076044161994\n",
      "  Initialization Multiplier: 0.5653730997331055\n",
      "  Number of Layers: 1\n"
     ]
    },
    {
     "name": "stderr",
     "output_type": "stream",
     "text": [
      "Training Progress: 100%|██████████| 250/250 [00:04<00:00, 58.18it/s, loss=-0.000095, elapsed time=0.02, total time=4.43]\n",
      "[I 2025-05-26 14:07:31,633] Trial 70 finished with value: -9.485101111336991e-05 and parameters: {'learning_rate': 0.0019093987352089765, 'sigma_multiplier': 1.4782076044161994, 'num_layers': 1, 'initialization_multiplier': 0.5653730997331055}. Best is trial 13 with value: -0.00017931730111783555.\n"
     ]
    },
    {
     "name": "stdout",
     "output_type": "stream",
     "text": [
      "Training has not converged after 250 steps\n",
      "Trial 70 final loss: -0.00009485\n",
      "Trial 71:\n",
      "  Learning Rate: 0.006115181430014744\n",
      "  Sigma Multiplier: 1.2148275330366387\n",
      "  Initialization Multiplier: 0.34271190314013017\n",
      "  Number of Layers: 2\n"
     ]
    },
    {
     "name": "stderr",
     "output_type": "stream",
     "text": [
      "Training Progress: 100%|██████████| 250/250 [00:04<00:00, 51.44it/s, loss=-0.000131, elapsed time=0.02, total time=5]   \n",
      "[I 2025-05-26 14:07:36,650] Trial 71 finished with value: -0.00013087991214362713 and parameters: {'learning_rate': 0.006115181430014744, 'sigma_multiplier': 1.2148275330366387, 'num_layers': 2, 'initialization_multiplier': 0.34271190314013017}. Best is trial 13 with value: -0.00017931730111783555.\n"
     ]
    },
    {
     "name": "stdout",
     "output_type": "stream",
     "text": [
      "Training has not converged after 250 steps\n",
      "Trial 71 final loss: -0.00013088\n",
      "Trial 72:\n",
      "  Learning Rate: 0.005585447382935332\n",
      "  Sigma Multiplier: 1.0315324810988231\n",
      "  Initialization Multiplier: 0.47225715363309845\n",
      "  Number of Layers: 2\n"
     ]
    },
    {
     "name": "stderr",
     "output_type": "stream",
     "text": [
      "Training Progress: 100%|██████████| 250/250 [00:05<00:00, 49.07it/s, loss=0.000001, elapsed time=0.02, total time=5.22] \n",
      "[I 2025-05-26 14:07:41,888] Trial 72 finished with value: 1.3970524940950021e-06 and parameters: {'learning_rate': 0.005585447382935332, 'sigma_multiplier': 1.0315324810988231, 'num_layers': 2, 'initialization_multiplier': 0.47225715363309845}. Best is trial 13 with value: -0.00017931730111783555.\n"
     ]
    },
    {
     "name": "stdout",
     "output_type": "stream",
     "text": [
      "Training has not converged after 250 steps\n",
      "Trial 72 final loss: 0.00000140\n",
      "Trial 73:\n",
      "  Learning Rate: 0.0034397750631711284\n",
      "  Sigma Multiplier: 1.409136790907771\n",
      "  Initialization Multiplier: 0.0808459916318287\n",
      "  Number of Layers: 1\n"
     ]
    },
    {
     "name": "stderr",
     "output_type": "stream",
     "text": [
      "Training Progress: 100%|██████████| 250/250 [00:04<00:00, 59.35it/s, loss=-0.000017, elapsed time=0.02, total time=4.35]\n",
      "[I 2025-05-26 14:07:46,249] Trial 73 finished with value: -1.7027732526894887e-05 and parameters: {'learning_rate': 0.0034397750631711284, 'sigma_multiplier': 1.409136790907771, 'num_layers': 1, 'initialization_multiplier': 0.0808459916318287}. Best is trial 13 with value: -0.00017931730111783555.\n"
     ]
    },
    {
     "name": "stdout",
     "output_type": "stream",
     "text": [
      "Training has not converged after 250 steps\n",
      "Trial 73 final loss: -0.00001703\n",
      "Trial 74:\n",
      "  Learning Rate: 0.007080015175877713\n",
      "  Sigma Multiplier: 1.1939528828848607\n",
      "  Initialization Multiplier: 0.40862706688399286\n",
      "  Number of Layers: 2\n"
     ]
    },
    {
     "name": "stderr",
     "output_type": "stream",
     "text": [
      "Training Progress: 100%|██████████| 250/250 [00:04<00:00, 51.32it/s, loss=-0.000141, elapsed time=0.02, total time=5]   \n",
      "[I 2025-05-26 14:07:51,266] Trial 74 finished with value: -0.00014073910423094096 and parameters: {'learning_rate': 0.007080015175877713, 'sigma_multiplier': 1.1939528828848607, 'num_layers': 2, 'initialization_multiplier': 0.40862706688399286}. Best is trial 13 with value: -0.00017931730111783555.\n"
     ]
    },
    {
     "name": "stdout",
     "output_type": "stream",
     "text": [
      "Training has not converged after 250 steps\n",
      "Trial 74 final loss: -0.00014074\n",
      "Trial 75:\n",
      "  Learning Rate: 0.007529424336404894\n",
      "  Sigma Multiplier: 1.078271632835972\n",
      "  Initialization Multiplier: 0.2740499561716072\n",
      "  Number of Layers: 1\n"
     ]
    },
    {
     "name": "stderr",
     "output_type": "stream",
     "text": [
      "Training Progress: 100%|██████████| 250/250 [00:04<00:00, 52.46it/s, loss=0.000078, elapsed time=0.02, total time=4.89] \n",
      "[I 2025-05-26 14:07:56,173] Trial 75 finished with value: 7.849218312531176e-05 and parameters: {'learning_rate': 0.007529424336404894, 'sigma_multiplier': 1.078271632835972, 'num_layers': 1, 'initialization_multiplier': 0.2740499561716072}. Best is trial 13 with value: -0.00017931730111783555.\n"
     ]
    },
    {
     "name": "stdout",
     "output_type": "stream",
     "text": [
      "Training has not converged after 250 steps\n",
      "Trial 75 final loss: 0.00007849\n",
      "Trial 76:\n",
      "  Learning Rate: 0.01081369044549138\n",
      "  Sigma Multiplier: 1.598144228510423\n",
      "  Initialization Multiplier: 0.7551805987799579\n",
      "  Number of Layers: 2\n"
     ]
    },
    {
     "name": "stderr",
     "output_type": "stream",
     "text": [
      "Training Progress: 100%|██████████| 250/250 [00:04<00:00, 54.50it/s, loss=-0.000150, elapsed time=0.02, total time=4.72]\n",
      "[I 2025-05-26 14:08:00,915] Trial 76 finished with value: -0.000150027971950014 and parameters: {'learning_rate': 0.01081369044549138, 'sigma_multiplier': 1.598144228510423, 'num_layers': 2, 'initialization_multiplier': 0.7551805987799579}. Best is trial 13 with value: -0.00017931730111783555.\n"
     ]
    },
    {
     "name": "stdout",
     "output_type": "stream",
     "text": [
      "Training has not converged after 250 steps\n",
      "Trial 76 final loss: -0.00015003\n",
      "Trial 77:\n",
      "  Learning Rate: 0.011696964009583649\n",
      "  Sigma Multiplier: 1.533472370198694\n",
      "  Initialization Multiplier: 0.7576643924883022\n",
      "  Number of Layers: 3\n"
     ]
    },
    {
     "name": "stderr",
     "output_type": "stream",
     "text": [
      "Training Progress: 100%|██████████| 250/250 [00:05<00:00, 49.13it/s, loss=-0.000043, elapsed time=0.02, total time=5.23]\n",
      "[I 2025-05-26 14:08:06,168] Trial 77 finished with value: -4.250332275657359e-05 and parameters: {'learning_rate': 0.011696964009583649, 'sigma_multiplier': 1.533472370198694, 'num_layers': 3, 'initialization_multiplier': 0.7576643924883022}. Best is trial 13 with value: -0.00017931730111783555.\n"
     ]
    },
    {
     "name": "stdout",
     "output_type": "stream",
     "text": [
      "Training has not converged after 250 steps\n",
      "Trial 77 final loss: -0.00004250\n",
      "Trial 78:\n",
      "  Learning Rate: 0.015415889846711404\n",
      "  Sigma Multiplier: 1.67704660616167\n",
      "  Initialization Multiplier: 0.9339916337906259\n",
      "  Number of Layers: 1\n"
     ]
    },
    {
     "name": "stderr",
     "output_type": "stream",
     "text": [
      "Training Progress: 100%|██████████| 250/250 [00:04<00:00, 60.37it/s, loss=-0.000103, elapsed time=0.01, total time=4.27]\n",
      "[I 2025-05-26 14:08:10,450] Trial 78 finished with value: -0.00010323587854085643 and parameters: {'learning_rate': 0.015415889846711404, 'sigma_multiplier': 1.67704660616167, 'num_layers': 1, 'initialization_multiplier': 0.9339916337906259}. Best is trial 13 with value: -0.00017931730111783555.\n"
     ]
    },
    {
     "name": "stdout",
     "output_type": "stream",
     "text": [
      "Training has not converged after 250 steps\n",
      "Trial 78 final loss: -0.00010324\n",
      "Trial 79:\n",
      "  Learning Rate: 0.02230210932872459\n",
      "  Sigma Multiplier: 1.6290640170183426\n",
      "  Initialization Multiplier: 1.0999548591408104\n",
      "  Number of Layers: 4\n"
     ]
    },
    {
     "name": "stderr",
     "output_type": "stream",
     "text": [
      "Training Progress: 100%|██████████| 250/250 [00:05<00:00, 45.24it/s, loss=-0.000028, elapsed time=0.02, total time=5.66]\n",
      "[I 2025-05-26 14:08:16,140] Trial 79 finished with value: -2.781533130984389e-05 and parameters: {'learning_rate': 0.02230210932872459, 'sigma_multiplier': 1.6290640170183426, 'num_layers': 4, 'initialization_multiplier': 1.0999548591408104}. Best is trial 13 with value: -0.00017931730111783555.\n"
     ]
    },
    {
     "name": "stdout",
     "output_type": "stream",
     "text": [
      "Training has not converged after 250 steps\n",
      "Trial 79 final loss: -0.00002782\n",
      "Trial 80:\n",
      "  Learning Rate: 5.826600004100122e-05\n",
      "  Sigma Multiplier: 1.710059784230579\n",
      "  Initialization Multiplier: 0.6129122675670953\n",
      "  Number of Layers: 1\n"
     ]
    },
    {
     "name": "stderr",
     "output_type": "stream",
     "text": [
      "Training Progress: 100%|██████████| 250/250 [00:04<00:00, 60.87it/s, loss=0.013416, elapsed time=0.01, total time=4.23]\n",
      "[I 2025-05-26 14:08:20,388] Trial 80 finished with value: 0.013416093652002154 and parameters: {'learning_rate': 5.826600004100122e-05, 'sigma_multiplier': 1.710059784230579, 'num_layers': 1, 'initialization_multiplier': 0.6129122675670953}. Best is trial 13 with value: -0.00017931730111783555.\n"
     ]
    },
    {
     "name": "stdout",
     "output_type": "stream",
     "text": [
      "Training has not converged after 250 steps\n",
      "Trial 80 final loss: 0.01341609\n",
      "Trial 81:\n",
      "  Learning Rate: 0.010708213133839977\n",
      "  Sigma Multiplier: 1.4181255818388248\n",
      "  Initialization Multiplier: 0.7033196105884374\n",
      "  Number of Layers: 2\n"
     ]
    },
    {
     "name": "stderr",
     "output_type": "stream",
     "text": [
      "Training Progress: 100%|██████████| 250/250 [00:04<00:00, 52.98it/s, loss=-0.000164, elapsed time=0.02, total time=4.85]\n",
      "[I 2025-05-26 14:08:25,259] Trial 81 finished with value: -0.00016374364215166712 and parameters: {'learning_rate': 0.010708213133839977, 'sigma_multiplier': 1.4181255818388248, 'num_layers': 2, 'initialization_multiplier': 0.7033196105884374}. Best is trial 13 with value: -0.00017931730111783555.\n"
     ]
    },
    {
     "name": "stdout",
     "output_type": "stream",
     "text": [
      "Training has not converged after 250 steps\n",
      "Trial 81 final loss: -0.00016374\n",
      "Trial 82:\n",
      "  Learning Rate: 0.011452630386300216\n",
      "  Sigma Multiplier: 1.4345169916527545\n",
      "  Initialization Multiplier: 0.7060505342123242\n",
      "  Number of Layers: 2\n"
     ]
    },
    {
     "name": "stderr",
     "output_type": "stream",
     "text": [
      "Training Progress: 100%|██████████| 250/250 [00:04<00:00, 53.00it/s, loss=-0.000140, elapsed time=0.02, total time=4.85]\n",
      "[I 2025-05-26 14:08:30,123] Trial 82 finished with value: -0.0001402564296566534 and parameters: {'learning_rate': 0.011452630386300216, 'sigma_multiplier': 1.4345169916527545, 'num_layers': 2, 'initialization_multiplier': 0.7060505342123242}. Best is trial 13 with value: -0.00017931730111783555.\n"
     ]
    },
    {
     "name": "stdout",
     "output_type": "stream",
     "text": [
      "Training has not converged after 250 steps\n",
      "Trial 82 final loss: -0.00014026\n",
      "Trial 83:\n",
      "  Learning Rate: 0.009274699521567207\n",
      "  Sigma Multiplier: 1.5927050194870356\n",
      "  Initialization Multiplier: 0.8530644952286601\n",
      "  Number of Layers: 2\n"
     ]
    },
    {
     "name": "stderr",
     "output_type": "stream",
     "text": [
      "Training Progress: 100%|██████████| 250/250 [00:04<00:00, 54.55it/s, loss=-0.000123, elapsed time=0.02, total time=4.72]\n",
      "[I 2025-05-26 14:08:34,862] Trial 83 finished with value: -0.00012326697340705325 and parameters: {'learning_rate': 0.009274699521567207, 'sigma_multiplier': 1.5927050194870356, 'num_layers': 2, 'initialization_multiplier': 0.8530644952286601}. Best is trial 13 with value: -0.00017931730111783555.\n"
     ]
    },
    {
     "name": "stdout",
     "output_type": "stream",
     "text": [
      "Training has not converged after 250 steps\n",
      "Trial 83 final loss: -0.00012327\n",
      "Trial 84:\n",
      "  Learning Rate: 0.032539187029418624\n",
      "  Sigma Multiplier: 1.507577435105029\n",
      "  Initialization Multiplier: 2.0214125946111756\n",
      "  Number of Layers: 3\n"
     ]
    },
    {
     "name": "stderr",
     "output_type": "stream",
     "text": [
      "Training Progress: 100%|██████████| 250/250 [00:05<00:00, 47.98it/s, loss=0.000005, elapsed time=0.02, total time=5.35] \n",
      "[I 2025-05-26 14:08:40,233] Trial 84 finished with value: 5.267188674380663e-06 and parameters: {'learning_rate': 0.032539187029418624, 'sigma_multiplier': 1.507577435105029, 'num_layers': 3, 'initialization_multiplier': 2.0214125946111756}. Best is trial 13 with value: -0.00017931730111783555.\n"
     ]
    },
    {
     "name": "stdout",
     "output_type": "stream",
     "text": [
      "Training has not converged after 250 steps\n",
      "Trial 84 final loss: 0.00000527\n",
      "Trial 85:\n",
      "  Learning Rate: 0.0026056512396229097\n",
      "  Sigma Multiplier: 1.365092701395327\n",
      "  Initialization Multiplier: 0.5725795089239647\n",
      "  Number of Layers: 1\n"
     ]
    },
    {
     "name": "stderr",
     "output_type": "stream",
     "text": [
      "Training Progress: 100%|██████████| 250/250 [00:04<00:00, 57.26it/s, loss=-0.000099, elapsed time=0.02, total time=4.5] \n",
      "[I 2025-05-26 14:08:44,742] Trial 85 finished with value: -9.88689595477974e-05 and parameters: {'learning_rate': 0.0026056512396229097, 'sigma_multiplier': 1.365092701395327, 'num_layers': 1, 'initialization_multiplier': 0.5725795089239647}. Best is trial 13 with value: -0.00017931730111783555.\n"
     ]
    },
    {
     "name": "stdout",
     "output_type": "stream",
     "text": [
      "Training has not converged after 250 steps\n",
      "Trial 85 final loss: -0.00009887\n",
      "Trial 86:\n",
      "  Learning Rate: 0.003721920676082502\n",
      "  Sigma Multiplier: 1.5756873126187236\n",
      "  Initialization Multiplier: 0.7473969926974071\n",
      "  Number of Layers: 3\n"
     ]
    },
    {
     "name": "stderr",
     "output_type": "stream",
     "text": [
      "Training Progress: 100%|██████████| 250/250 [00:05<00:00, 48.56it/s, loss=-0.000066, elapsed time=0.02, total time=5.28]\n",
      "[I 2025-05-26 14:08:50,044] Trial 86 finished with value: -6.58684758993268e-05 and parameters: {'learning_rate': 0.003721920676082502, 'sigma_multiplier': 1.5756873126187236, 'num_layers': 3, 'initialization_multiplier': 0.7473969926974071}. Best is trial 13 with value: -0.00017931730111783555.\n"
     ]
    },
    {
     "name": "stdout",
     "output_type": "stream",
     "text": [
      "Training has not converged after 250 steps\n",
      "Trial 86 final loss: -0.00006587\n",
      "Trial 87:\n",
      "  Learning Rate: 0.0008822470499548345\n",
      "  Sigma Multiplier: 1.2702740147041924\n",
      "  Initialization Multiplier: 0.6414520841587459\n",
      "  Number of Layers: 2\n"
     ]
    },
    {
     "name": "stderr",
     "output_type": "stream",
     "text": [
      "Training Progress: 100%|██████████| 250/250 [00:04<00:00, 53.07it/s, loss=-0.000172, elapsed time=0.02, total time=4.85]\n",
      "[I 2025-05-26 14:08:54,909] Trial 87 finished with value: -0.00017213973419068682 and parameters: {'learning_rate': 0.0008822470499548345, 'sigma_multiplier': 1.2702740147041924, 'num_layers': 2, 'initialization_multiplier': 0.6414520841587459}. Best is trial 13 with value: -0.00017931730111783555.\n"
     ]
    },
    {
     "name": "stdout",
     "output_type": "stream",
     "text": [
      "Training has not converged after 250 steps\n",
      "Trial 87 final loss: -0.00017214\n",
      "Trial 88:\n",
      "  Learning Rate: 0.0009039370036618123\n",
      "  Sigma Multiplier: 1.260152208279968\n",
      "  Initialization Multiplier: 0.14038967100111505\n",
      "  Number of Layers: 2\n"
     ]
    },
    {
     "name": "stderr",
     "output_type": "stream",
     "text": [
      "Training Progress: 100%|██████████| 250/250 [00:04<00:00, 53.11it/s, loss=0.000626, elapsed time=0.02, total time=4.85]\n",
      "[I 2025-05-26 14:08:59,772] Trial 88 finished with value: 0.0006255718900232628 and parameters: {'learning_rate': 0.0009039370036618123, 'sigma_multiplier': 1.260152208279968, 'num_layers': 2, 'initialization_multiplier': 0.14038967100111505}. Best is trial 13 with value: -0.00017931730111783555.\n"
     ]
    },
    {
     "name": "stdout",
     "output_type": "stream",
     "text": [
      "Training has not converged after 250 steps\n",
      "Trial 88 final loss: 0.00062557\n",
      "Trial 89:\n",
      "  Learning Rate: 0.0051205622789837505\n",
      "  Sigma Multiplier: 1.3275294144512935\n",
      "  Initialization Multiplier: 0.29366070507457687\n",
      "  Number of Layers: 2\n"
     ]
    },
    {
     "name": "stderr",
     "output_type": "stream",
     "text": [
      "Training Progress: 100%|██████████| 250/250 [00:04<00:00, 50.66it/s, loss=-0.000142, elapsed time=0.02, total time=5.07]\n",
      "[I 2025-05-26 14:09:04,860] Trial 89 finished with value: -0.00014214639162087633 and parameters: {'learning_rate': 0.0051205622789837505, 'sigma_multiplier': 1.3275294144512935, 'num_layers': 2, 'initialization_multiplier': 0.29366070507457687}. Best is trial 13 with value: -0.00017931730111783555.\n"
     ]
    },
    {
     "name": "stdout",
     "output_type": "stream",
     "text": [
      "Training has not converged after 250 steps\n",
      "Trial 89 final loss: -0.00014215\n",
      "Trial 90:\n",
      "  Learning Rate: 0.00038877771726436426\n",
      "  Sigma Multiplier: 1.4531306831956403\n",
      "  Initialization Multiplier: 2.635494450536493\n",
      "  Number of Layers: 2\n"
     ]
    },
    {
     "name": "stderr",
     "output_type": "stream",
     "text": [
      "Training Progress: 100%|██████████| 250/250 [00:04<00:00, 52.57it/s, loss=0.045859, elapsed time=0.02, total time=4.88]\n",
      "[I 2025-05-26 14:09:09,763] Trial 90 finished with value: 0.045859408904598026 and parameters: {'learning_rate': 0.00038877771726436426, 'sigma_multiplier': 1.4531306831956403, 'num_layers': 2, 'initialization_multiplier': 2.635494450536493}. Best is trial 13 with value: -0.00017931730111783555.\n"
     ]
    },
    {
     "name": "stdout",
     "output_type": "stream",
     "text": [
      "Training has not converged after 250 steps\n",
      "Trial 90 final loss: 0.04585941\n",
      "Trial 91:\n",
      "  Learning Rate: 0.00480369922588856\n",
      "  Sigma Multiplier: 1.3352707121924694\n",
      "  Initialization Multiplier: 0.3411501770181223\n",
      "  Number of Layers: 2\n"
     ]
    },
    {
     "name": "stderr",
     "output_type": "stream",
     "text": [
      "Training Progress: 100%|██████████| 250/250 [00:04<00:00, 52.33it/s, loss=-0.000087, elapsed time=0.02, total time=4.91]\n",
      "[I 2025-05-26 14:09:14,695] Trial 91 finished with value: -8.670729518718442e-05 and parameters: {'learning_rate': 0.00480369922588856, 'sigma_multiplier': 1.3352707121924694, 'num_layers': 2, 'initialization_multiplier': 0.3411501770181223}. Best is trial 13 with value: -0.00017931730111783555.\n"
     ]
    },
    {
     "name": "stdout",
     "output_type": "stream",
     "text": [
      "Training has not converged after 250 steps\n",
      "Trial 91 final loss: -0.00008671\n",
      "Trial 92:\n",
      "  Learning Rate: 0.0014466142875602143\n",
      "  Sigma Multiplier: 1.3820323538646264\n",
      "  Initialization Multiplier: 0.05374294158021997\n",
      "  Number of Layers: 2\n"
     ]
    },
    {
     "name": "stderr",
     "output_type": "stream",
     "text": [
      "Training Progress: 100%|██████████| 250/250 [00:04<00:00, 53.81it/s, loss=-0.000026, elapsed time=0.02, total time=4.78]\n",
      "[I 2025-05-26 14:09:19,492] Trial 92 finished with value: -2.612414599173358e-05 and parameters: {'learning_rate': 0.0014466142875602143, 'sigma_multiplier': 1.3820323538646264, 'num_layers': 2, 'initialization_multiplier': 0.05374294158021997}. Best is trial 13 with value: -0.00017931730111783555.\n"
     ]
    },
    {
     "name": "stdout",
     "output_type": "stream",
     "text": [
      "Training has not converged after 250 steps\n",
      "Trial 92 final loss: -0.00002612\n",
      "Trial 93:\n",
      "  Learning Rate: 0.0005295709475208415\n",
      "  Sigma Multiplier: 1.3001685564842906\n",
      "  Initialization Multiplier: 0.21532231544345065\n",
      "  Number of Layers: 2\n"
     ]
    },
    {
     "name": "stderr",
     "output_type": "stream",
     "text": [
      "Training Progress: 100%|██████████| 250/250 [00:04<00:00, 52.69it/s, loss=0.002404, elapsed time=0.02, total time=4.87]\n",
      "[I 2025-05-26 14:09:24,382] Trial 93 finished with value: 0.0024040083925312506 and parameters: {'learning_rate': 0.0005295709475208415, 'sigma_multiplier': 1.3001685564842906, 'num_layers': 2, 'initialization_multiplier': 0.21532231544345065}. Best is trial 13 with value: -0.00017931730111783555.\n"
     ]
    },
    {
     "name": "stdout",
     "output_type": "stream",
     "text": [
      "Training has not converged after 250 steps\n",
      "Trial 93 final loss: 0.00240401\n",
      "Trial 94:\n",
      "  Learning Rate: 0.01867352344251454\n",
      "  Sigma Multiplier: 1.4795332315848673\n",
      "  Initialization Multiplier: 0.28437566370422185\n",
      "  Number of Layers: 2\n"
     ]
    },
    {
     "name": "stderr",
     "output_type": "stream",
     "text": [
      "Training Progress: 100%|██████████| 250/250 [00:04<00:00, 53.46it/s, loss=-0.000120, elapsed time=0.02, total time=4.82]\n",
      "[I 2025-05-26 14:09:29,216] Trial 94 finished with value: -0.00011965036624129336 and parameters: {'learning_rate': 0.01867352344251454, 'sigma_multiplier': 1.4795332315848673, 'num_layers': 2, 'initialization_multiplier': 0.28437566370422185}. Best is trial 13 with value: -0.00017931730111783555.\n"
     ]
    },
    {
     "name": "stdout",
     "output_type": "stream",
     "text": [
      "Training has not converged after 250 steps\n",
      "Trial 94 final loss: -0.00011965\n",
      "Trial 95:\n",
      "  Learning Rate: 0.0029852671219815154\n",
      "  Sigma Multiplier: 1.545183546709829\n",
      "  Initialization Multiplier: 0.6338748641622381\n",
      "  Number of Layers: 2\n"
     ]
    },
    {
     "name": "stderr",
     "output_type": "stream",
     "text": [
      "Training Progress: 100%|██████████| 250/250 [00:04<00:00, 55.83it/s, loss=-0.000166, elapsed time=0.02, total time=4.61]\n",
      "[I 2025-05-26 14:09:33,844] Trial 95 finished with value: -0.00016613016098638398 and parameters: {'learning_rate': 0.0029852671219815154, 'sigma_multiplier': 1.545183546709829, 'num_layers': 2, 'initialization_multiplier': 0.6338748641622381}. Best is trial 13 with value: -0.00017931730111783555.\n"
     ]
    },
    {
     "name": "stdout",
     "output_type": "stream",
     "text": [
      "Training has not converged after 250 steps\n",
      "Trial 95 final loss: -0.00016613\n",
      "Trial 96:\n",
      "  Learning Rate: 0.06681938571411464\n",
      "  Sigma Multiplier: 1.5410881256641622\n",
      "  Initialization Multiplier: 0.6030102926800538\n",
      "  Number of Layers: 2\n"
     ]
    },
    {
     "name": "stderr",
     "output_type": "stream",
     "text": [
      "Training Progress: 100%|██████████| 250/250 [00:04<00:00, 54.33it/s, loss=0.000050, elapsed time=0.02, total time=4.73] \n",
      "[I 2025-05-26 14:09:38,591] Trial 96 finished with value: 4.957290261919069e-05 and parameters: {'learning_rate': 0.06681938571411464, 'sigma_multiplier': 1.5410881256641622, 'num_layers': 2, 'initialization_multiplier': 0.6030102926800538}. Best is trial 13 with value: -0.00017931730111783555.\n"
     ]
    },
    {
     "name": "stdout",
     "output_type": "stream",
     "text": [
      "Training has not converged after 250 steps\n",
      "Trial 96 final loss: 0.00004957\n",
      "Trial 97:\n",
      "  Learning Rate: 0.0030160148213299854\n",
      "  Sigma Multiplier: 1.4940541278535469\n",
      "  Initialization Multiplier: 0.6660528673708751\n",
      "  Number of Layers: 3\n"
     ]
    },
    {
     "name": "stderr",
     "output_type": "stream",
     "text": [
      "Training Progress: 100%|██████████| 250/250 [00:05<00:00, 49.10it/s, loss=-0.000073, elapsed time=0.02, total time=5.22]\n",
      "[I 2025-05-26 14:09:43,835] Trial 97 finished with value: -7.296217476825314e-05 and parameters: {'learning_rate': 0.0030160148213299854, 'sigma_multiplier': 1.4940541278535469, 'num_layers': 3, 'initialization_multiplier': 0.6660528673708751}. Best is trial 13 with value: -0.00017931730111783555.\n"
     ]
    },
    {
     "name": "stdout",
     "output_type": "stream",
     "text": [
      "Training has not converged after 250 steps\n",
      "Trial 97 final loss: -0.00007296\n",
      "Trial 98:\n",
      "  Learning Rate: 0.0022053814441951873\n",
      "  Sigma Multiplier: 1.4012018995782125\n",
      "  Initialization Multiplier: 0.8047494890254899\n",
      "  Number of Layers: 2\n"
     ]
    },
    {
     "name": "stderr",
     "output_type": "stream",
     "text": [
      "Training Progress: 100%|██████████| 250/250 [00:04<00:00, 53.26it/s, loss=-0.000126, elapsed time=0.02, total time=4.82]\n",
      "[I 2025-05-26 14:09:48,678] Trial 98 finished with value: -0.0001262641495646304 and parameters: {'learning_rate': 0.0022053814441951873, 'sigma_multiplier': 1.4012018995782125, 'num_layers': 2, 'initialization_multiplier': 0.8047494890254899}. Best is trial 13 with value: -0.00017931730111783555.\n"
     ]
    },
    {
     "name": "stdout",
     "output_type": "stream",
     "text": [
      "Training has not converged after 250 steps\n",
      "Trial 98 final loss: -0.00012626\n",
      "Trial 99:\n",
      "  Learning Rate: 0.01398168782012161\n",
      "  Sigma Multiplier: 1.610587786710497\n",
      "  Initialization Multiplier: 0.510807662072922\n",
      "  Number of Layers: 5\n"
     ]
    },
    {
     "name": "stderr",
     "output_type": "stream",
     "text": [
      "Training Progress: 100%|██████████| 250/250 [00:06<00:00, 40.50it/s, loss=-0.000087, elapsed time=0.02, total time=6.31]\n",
      "[I 2025-05-26 14:09:55,017] Trial 99 finished with value: -8.712415405071614e-05 and parameters: {'learning_rate': 0.01398168782012161, 'sigma_multiplier': 1.610587786710497, 'num_layers': 5, 'initialization_multiplier': 0.510807662072922}. Best is trial 13 with value: -0.00017931730111783555.\n"
     ]
    },
    {
     "name": "stdout",
     "output_type": "stream",
     "text": [
      "Training has not converged after 250 steps\n",
      "Trial 99 final loss: -0.00008712\n"
     ]
    }
   ],
   "source": [
    "study = run_hpo(grid_conn, num_qubits, base_sigma, train_ds, n_trials=100, n_iters_hpo=250, n_ops=2000, n_samples=2000)"
   ]
  },
  {
   "cell_type": "code",
   "execution_count": 12,
   "metadata": {},
   "outputs": [],
   "source": [
    "best_params = study.best_params"
   ]
  },
  {
   "cell_type": "code",
   "execution_count": 13,
   "metadata": {},
   "outputs": [
    {
     "data": {
      "text/plain": [
       "0.008865135171043984"
      ]
     },
     "execution_count": 13,
     "metadata": {},
     "output_type": "execute_result"
    }
   ],
   "source": [
    "best_params['learning_rate']"
   ]
  },
  {
   "cell_type": "code",
   "execution_count": 14,
   "metadata": {},
   "outputs": [],
   "source": [
    "learning_rate = best_params['learning_rate']\n",
    "sigma_multiplier = best_params['sigma_multiplier']\n",
    "num_layers = best_params['num_layers']\n",
    "initialization_multiplier = best_params['initialization_multiplier']"
   ]
  },
  {
   "cell_type": "code",
   "execution_count": 15,
   "metadata": {},
   "outputs": [],
   "source": [
    "gates = efficient_connectivity_gates(grid_conn, num_qubits, num_layers=num_layers)\n",
    "sigma = base_sigma * sigma_multiplier\n",
    "params_init = initialize_from_data(gates, train_ds) * initialization_multiplier"
   ]
  },
  {
   "cell_type": "code",
   "execution_count": 16,
   "metadata": {},
   "outputs": [],
   "source": [
    "circ = iqp.IqpSimulator(num_qubits, gates, device='lightning.qubit')"
   ]
  },
  {
   "cell_type": "code",
   "execution_count": 17,
   "metadata": {},
   "outputs": [],
   "source": [
    "loss_kwarg = {\n",
    "    \"params\": params_init,\n",
    "    \"iqp_circuit\": circ,\n",
    "    \"ground_truth\": train_ds,\n",
    "    \"sigma\": [sigma],\n",
    "    \"n_ops\": 2000,\n",
    "    \"n_samples\": 2000,\n",
    "    \"key\": jax.random.PRNGKey(42),\n",
    "}"
   ]
  },
  {
   "cell_type": "code",
   "execution_count": 18,
   "metadata": {},
   "outputs": [
    {
     "name": "stderr",
     "output_type": "stream",
     "text": [
      "Training Progress: 100%|██████████| 500/500 [00:08<00:00, 56.38it/s, loss=-0.000115, elapsed time=0.02, total time=9.01]"
     ]
    },
    {
     "name": "stdout",
     "output_type": "stream",
     "text": [
      "Training has not converged after 500 steps\n"
     ]
    },
    {
     "name": "stderr",
     "output_type": "stream",
     "text": [
      "\n"
     ]
    }
   ],
   "source": [
    "loss = genq.mmd_loss_iqp\n",
    "\n",
    "trainer = iqp.Trainer(\"Adam\", loss, stepsize=learning_rate)\n",
    "trainer.train(n_iters= 500,loss_kwargs=loss_kwarg, turbo=1)"
   ]
  },
  {
   "cell_type": "code",
   "execution_count": 19,
   "metadata": {},
   "outputs": [
    {
     "data": {
      "image/png": "[encoded data removed]",
      "text/plain": [
       "<Figure size 640x480 with 1 Axes>"
      ]
     },
     "metadata": {},
     "output_type": "display_data"
    }
   ],
   "source": [
    "trained_params = trainer.final_params\n",
    "import matplotlib.pyplot as plt\n",
    "plt.plot(trainer.losses)\n",
    "plt.show() "
   ]
  },
  {
   "cell_type": "code",
   "execution_count": 20,
   "metadata": {},
   "outputs": [],
   "source": [
    "samples = circ.sample(trained_params, shots = 1000)"
   ]
  },
  {
   "cell_type": "code",
   "execution_count": 21,
   "metadata": {},
   "outputs": [
    {
     "data": {
      "text/plain": [
       "0.372"
      ]
     },
     "execution_count": 21,
     "metadata": {},
     "output_type": "execute_result"
    }
   ],
   "source": [
    "metrics.bipartite_proportion(samples, 8)"
   ]
  },
  {
   "cell_type": "code",
   "execution_count": 22,
   "metadata": {},
   "outputs": [],
   "source": [
    "generated_samples = [vec_to_graph(g, 8) for g in samples]"
   ]
  },
  {
   "cell_type": "code",
   "execution_count": 23,
   "metadata": {},
   "outputs": [],
   "source": [
    "ground_truth = [vec_to_graph(g, 8) for g in train_ds]"
   ]
  },
  {
   "cell_type": "code",
   "execution_count": 24,
   "metadata": {},
   "outputs": [
    {
     "data": {
      "text/plain": [
       "(580, 0.58)"
      ]
     },
     "execution_count": 24,
     "metadata": {},
     "output_type": "execute_result"
    }
   ],
   "source": [
    "metrics.sample_diversity(generated_samples)"
   ]
  },
  {
   "cell_type": "code",
   "execution_count": 25,
   "metadata": {},
   "outputs": [
    {
     "data": {
      "text/plain": [
       "(190, 0.25)"
      ]
     },
     "execution_count": 25,
     "metadata": {},
     "output_type": "execute_result"
    }
   ],
   "source": [
    "metrics.sample_diversity(ground_truth)"
   ]
  }
 ],
 "metadata": {
  "kernelspec": {
   "display_name": ".venv",
   "language": "python",
   "name": "python3"
  },
  "language_info": {
   "codemirror_mode": {
    "name": "ipython",
    "version": 3
   },
   "file_extension": ".py",
   "mimetype": "text/x-python",
   "name": "python",
   "nbconvert_exporter": "python",
   "pygments_lexer": "ipython3",
   "version": "3.12.6"
  }
 },
 "nbformat": 4,
 "nbformat_minor": 2
}
