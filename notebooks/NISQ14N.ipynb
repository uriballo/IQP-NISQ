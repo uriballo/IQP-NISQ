{
 "cells": [
  {
   "cell_type": "markdown",
   "metadata": {},
   "source": [
    "# IBM Instance Setup"
   ]
  },
  {
   "cell_type": "code",
   "execution_count": 1,
   "metadata": {},
   "outputs": [],
   "source": [
    "from dotenv import load_dotenv\n",
    "import os\n",
    "import jax\n",
    "import jax.numpy as jnp\n",
    "import iqpopt as iqp\n",
    "from iqpopt.utils import initialize_from_data, local_gates\n",
    "import iqpopt.gen_qml as genq\n",
    "from iqpopt.gen_qml.utils import median_heuristic\n",
    "from utils.nisq import aachen_connectivity, efficient_connectivity_gates\n",
    "from qiskit_ibm_runtime import QiskitRuntimeService\n",
    "from qiskit_ibm_runtime import Session\n",
    "import pennylane as qml\n",
    "from datasets.bipartites import BipartiteGraphDataset\n",
    "from datasets.er import ErdosRenyiGraphDataset\n",
    "import numpy as np\n",
    "\n",
    "key = jax.random.PRNGKey(42)"
   ]
  },
  {
   "cell_type": "markdown",
   "metadata": {},
   "source": [
    "# Experiments Poster"
   ]
  },
  {
   "cell_type": "code",
   "execution_count": 2,
   "metadata": {},
   "outputs": [],
   "source": [
    "NODES = 14\n",
    "SP = \"Sparse\"\n",
    "MD = \"Medium\"\n",
    "DS = \"Dense\"\n",
    "\n",
    "\n",
    "ER = \"ER\"\n",
    "BP = \"Bipartite\"\n",
    "CM = \"Complete\""
   ]
  },
  {
   "cell_type": "code",
   "execution_count": 3,
   "metadata": {},
   "outputs": [],
   "source": [
    "ER14NSParams = np.load(\"results/params/params_14N_ER_Sparse_LR0.000674683777427142_SIGMA0.7311700596180342_INIT0.3696050646549004_NUMLAYERS5.npy\")\n",
    "ER14NMParams = np.load(\"results/params/params_14N_ER_Medium_LR0.020808717745815757_SIGMA0.8897430791197918_INIT0.6417265067371234_NUMLAYERS3.npy\")\n",
    "ER14NDParams = np.load(\"results/params/params_14N_ER_Dense_LR0.003007928492112876_SIGMA0.788257573897633_INIT0.45428405466863664_NUMLAYERS2.npy\")\n",
    "BP14NSParams = np.load(\"results/params/params_14N_Bipartite_Sparse_LR0.001672169486739108_SIGMA0.9231013598757258_INIT0.2562470060605544_NUMLAYERS5.npy\")\n",
    "BP14NMParams = np.load(\"results/params/params_14N_Bipartite_Medium_LR0.003700878888183011_SIGMA1.8896275887587226_INIT1.4096892767484017_NUMLAYERS4.npy\")\n",
    "BP14NDParams = np.load(\"results/params/params_14N_Bipartite_Dense_LR0.05697641941280111_SIGMA0.10993054267369362_INIT1.332910357138958_NUMLAYERS1.npy\")"
   ]
  },
  {
   "cell_type": "markdown",
   "metadata": {},
   "source": [
    "# Hardware test"
   ]
  },
  {
   "cell_type": "code",
   "execution_count": 4,
   "metadata": {},
   "outputs": [
    {
     "name": "stdout",
     "output_type": "stream",
     "text": [
      "<IBMBackend('ibm_aachen')>\n"
     ]
    }
   ],
   "source": [
    "load_dotenv('.env')\n",
    "\n",
    "ibm_token = os.getenv('IBM_TOKEN')\n",
    "instance = os.getenv(\"INSTANCE\")\n",
    "setup = True \n",
    "\n",
    "if setup:\n",
    "    QiskitRuntimeService.save_account(channel=\"ibm_quantum\", token=ibm_token, overwrite=True)\n",
    "\n",
    "service = QiskitRuntimeService(channel=\"ibm_cloud\", token = ibm_token, instance=instance)\n",
    "backend = service.least_busy(operational=True, simulator=False, min_num_qubits=156)\n",
    "print(backend)"
   ]
  },
  {
   "cell_type": "code",
   "execution_count": 5,
   "metadata": {},
   "outputs": [],
   "source": [
    "dev = qml.device('qiskit.remote', \n",
    "                    wires=backend.num_qubits, \n",
    "                    backend=backend, \n",
    "                    shots=512,\n",
    "                    optimization_level=3)"
   ]
  },
  {
   "cell_type": "markdown",
   "metadata": {},
   "source": [
    "## Experiments"
   ]
  },
  {
   "cell_type": "code",
   "execution_count": 6,
   "metadata": {},
   "outputs": [],
   "source": [
    "QUBITS = NODES * (NODES - 1) // 2\n",
    "grid_conn = aachen_connectivity()\n",
    "\n",
    "L1G = efficient_connectivity_gates(grid_conn, QUBITS, 1)\n",
    "L2G = efficient_connectivity_gates(grid_conn, QUBITS, 2)\n",
    "L3G = efficient_connectivity_gates(grid_conn, QUBITS, 3)\n",
    "L4G = efficient_connectivity_gates(grid_conn, QUBITS, 4)\n",
    "L5G = efficient_connectivity_gates(grid_conn, QUBITS, 5)\n",
    "\n",
    "L1IQP = iqp.IqpSimulator(QUBITS, L1G, device=\"lightning.qubit\")\n",
    "L2IQP = iqp.IqpSimulator(QUBITS, L2G, device=\"lightning.qubit\")\n",
    "L3IQP = iqp.IqpSimulator(QUBITS, L3G, device=\"lightning.qubit\")\n",
    "L4IQP = iqp.IqpSimulator(QUBITS, L4G, device=\"lightning.qubit\")\n",
    "L5IQP = iqp.IqpSimulator(QUBITS, L5G, device=\"lightning.qubit\")\n",
    "\n",
    "@qml.qnode(dev)\n",
    "def L1Sample(trained_params):\n",
    "    L1IQP.iqp_circuit(np.asarray(trained_params))\n",
    "    return qml.sample(wires = range(QUBITS))\n",
    "\n",
    "@qml.qnode(dev)\n",
    "def L2Sample(trained_params):\n",
    "    L2IQP.iqp_circuit(np.asarray(trained_params))\n",
    "    return qml.sample(wires = range(QUBITS))\n",
    "\n",
    "@qml.qnode(dev)\n",
    "def L3Sample(trained_params):\n",
    "    L3IQP.iqp_circuit(np.asarray(trained_params))\n",
    "    return qml.sample(wires = range(QUBITS))\n",
    "\n",
    "@qml.qnode(dev)\n",
    "def L4Sample(trained_params):\n",
    "    L4IQP.iqp_circuit(np.asarray(trained_params))\n",
    "    return qml.sample(wires = range(QUBITS))\n",
    "\n",
    "@qml.qnode(dev)\n",
    "def L5Sample(trained_params):\n",
    "    L5IQP.iqp_circuit(np.asarray(trained_params))\n",
    "    return qml.sample(wires = range(QUBITS))"
   ]
  },
  {
   "cell_type": "code",
   "execution_count": 7,
   "metadata": {},
   "outputs": [],
   "source": [
    "with Session(backend=backend, max_time=\"12h\") as session:\n",
    "    ER14NSRes  = L2Sample(ER14NSParams)\n",
    "    ER14NMRes  = L3Sample(ER14NMParams)\n",
    "    ER14NDRes  = L5Sample(ER14NDParams)\n",
    "\n",
    "    BP14NDRes = L1Sample(BP14NDParams)\n",
    "    BP14NMRes = L4Sample(BP14NMParams)\n",
    "    BP14NSRes = L5Sample(BP14NSParams)"
   ]
  },
  {
   "cell_type": "code",
   "execution_count": 8,
   "metadata": {},
   "outputs": [
    {
     "name": "stdout",
     "output_type": "stream",
     "text": [
      "Samples saved successfully.\n"
     ]
    }
   ],
   "source": [
    "np.save(\"results/samples/2025-06-07/ER14NS.npy\", ER14NSRes)\n",
    "np.save(\"results/samples/2025-06-07/ER14NM.npy\", ER14NMRes)\n",
    "np.save(\"results/samples/2025-06-07/ER14ND.npy\", ER14NDRes)\n",
    "np.save(\"results/samples/2025-06-07/BP14NS.npy\", BP14NSRes)\n",
    "np.save(\"results/samples/2025-06-07/BP14NM.npy\", BP14NMRes)\n",
    "np.save(\"results/samples/2025-06-07/BP14ND.npy\", BP14NDRes)\n",
    "print(\"Samples saved successfully.\")"
   ]
  }
 ],
 "metadata": {
  "kernelspec": {
   "display_name": ".venv",
   "language": "python",
   "name": "python3"
  },
  "language_info": {
   "codemirror_mode": {
    "name": "ipython",
    "version": 3
   },
   "file_extension": ".py",
   "mimetype": "text/x-python",
   "name": "python",
   "nbconvert_exporter": "python",
   "pygments_lexer": "ipython3",
   "version": "3.12.6"
  }
 },
 "nbformat": 4,
 "nbformat_minor": 2
}
