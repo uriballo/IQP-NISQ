{
 "cells": [
  {
   "cell_type": "code",
   "execution_count": 1,
   "metadata": {},
   "outputs": [],
   "source": [
    "import pennylane as qml\n",
    "import matplotlib.pyplot as plt\n",
    "import numpy as np\n",
    "from jax import random \n",
    "import iqpopt as iqp\n",
    "import iqpopt.gen_qml as genq\n",
    "from iqpopt.gen_qml.utils import median_heuristic\n",
    "import jax\n",
    "import jax.numpy as jnp"
   ]
  },
  {
   "cell_type": "code",
   "execution_count": null,
   "metadata": {},
   "outputs": [],
   "source": [
    "from datasets.three_qubit_entanglement import ThreeQubitEntanglementDataset\n",
    "import tensorflow_datasets as tfds\n",
    "\n",
    "ds = ThreeQubitEntanglementDataset()\n",
    "\n",
    "train = ds.load()\n",
    "test_iter = iter(tfds.as_numpy(train))\n",
    "batch_data = next(test_iter)\n",
    "rhos1, labels1 = batch_data\n",
    "batch_data = next(test_iter)\n",
    "rhos2, labels2 = batch_data\n",
    "batch_data = next(test_iter)\n",
    "rhos3, labels3 = batch_data\n",
    "rhos = np.concatenate([rhos1,rhos2,rhos3],axis=0)\n",
    "labels = np.concatenate([labels1,labels2,labels3],axis=0)"
   ]
  },
  {
   "cell_type": "markdown",
   "metadata": {},
   "source": [
    "Los rhos son vectores de 128 elementos, que representan matrices densidad de 8 qubtis, (8x8=64) x 2 canales: parte real y compleja de cada numero"
   ]
  },
  {
   "cell_type": "code",
   "execution_count": null,
   "metadata": {},
   "outputs": [
    {
     "name": "stdout",
     "output_type": "stream",
     "text": [
      "128\n"
     ]
    }
   ],
   "source": [
    "n_qubtis = 8\n",
    "#Construir_embeding\n",
    "pattern_gates = []\n",
    "for k in range(n_qubtis):\n",
    "    pattern_gates.append([[k]])\n",
    "    for j in range(k+1,n_qubtis):\n",
    "        pattern_gates.append([[k,j]]) \n",
    "#Generacion lista de paramtros\n",
    "gates_list = []\n",
    "for p in range(len(rhos[0])):\n",
    "    gates_list.append(pattern_gates[p % len(pattern_gates)])\n"
   ]
  },
  {
   "cell_type": "code",
   "execution_count": null,
   "metadata": {},
   "outputs": [
    {
     "name": "stdout",
     "output_type": "stream",
     "text": [
      "[[[0]], [[0, 1]], [[0, 2]], [[0, 3]], [[1]], [[1, 2]], [[1, 3]], [[2]], [[2, 3]], [[3]]]\n"
     ]
    }
   ],
   "source": [
    "#Circuito iqp \n",
    "circ = iqp.IqpSimulator(n_qubtis,gates_list,init_gates=gates_list,init_coefs=rhos[0])"
   ]
  },
  {
   "cell_type": "code",
   "execution_count": null,
   "metadata": {},
   "outputs": [],
   "source": []
  }
 ],
 "metadata": {
  "kernelspec": {
   "display_name": "entorno312",
   "language": "python",
   "name": "python3"
  },
  "language_info": {
   "codemirror_mode": {
    "name": "ipython",
    "version": 3
   },
   "file_extension": ".py",
   "mimetype": "text/x-python",
   "name": "python",
   "nbconvert_exporter": "python",
   "pygments_lexer": "ipython3",
   "version": "3.12.9"
  }
 },
 "nbformat": 4,
 "nbformat_minor": 2
}
