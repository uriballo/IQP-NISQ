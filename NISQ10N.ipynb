{
 "cells": [
  {
   "cell_type": "markdown",
   "metadata": {},
   "source": [
    "# IBM Instance Setup"
   ]
  },
  {
   "cell_type": "code",
   "execution_count": 17,
   "metadata": {},
   "outputs": [],
   "source": [
    "from dotenv import load_dotenv\n",
    "import os\n",
    "import jax\n",
    "import jax.numpy as jnp\n",
    "import iqpopt as iqp\n",
    "from iqpopt.utils import initialize_from_data, local_gates\n",
    "import iqpopt.gen_qml as genq\n",
    "from iqpopt.gen_qml.utils import median_heuristic\n",
    "from utils.nisq import aachen_connectivity, efficient_connectivity_gates\n",
    "from qiskit_ibm_runtime import QiskitRuntimeService\n",
    "from qiskit_ibm_runtime import Session\n",
    "import pennylane as qml\n",
    "from datasets.bipartites import BipartiteGraphDataset\n",
    "from datasets.er import ErdosRenyiGraphDataset\n",
    "import numpy as np\n",
    "\n",
    "key = jax.random.PRNGKey(42)"
   ]
  },
  {
   "cell_type": "markdown",
   "metadata": {},
   "source": [
    "# Experiments Poster"
   ]
  },
  {
   "cell_type": "code",
   "execution_count": 18,
   "metadata": {},
   "outputs": [],
   "source": [
    "NODES = 10\n",
    "SP = \"Sparse\"\n",
    "MD = \"Medium\"\n",
    "DS = \"Dense\"\n",
    "\n",
    "\n",
    "ER = \"ER\"\n",
    "BP = \"Bipartite\"\n",
    "CM = \"Complete\""
   ]
  },
  {
   "cell_type": "code",
   "execution_count": 19,
   "metadata": {},
   "outputs": [],
   "source": [
    "ER10NSParams = np.load(\"results/params/params_10N_ER_Sparse_LR0.032372631678972856_SIGMA0.7649320273591023_INIT1.5357950633585402_NUMLAYERS1.npy\")\n",
    "ER10NMParams = np.load(\"results/params/params_10N_ER_Medium_LR0.007216520881270238_SIGMA0.6960408118792989_INIT0.893668244257591_NUMLAYERS1.npy\")\n",
    "ER10NDParams = np.load(\"results/params/params_10N_ER_Dense_LR0.031248086322939895_SIGMA0.7735621474524553_INIT0.42238728842048007_NUMLAYERS2.npy\")\n",
    "BP10NSParams = np.load(\"results/params/params_10N_Bipartite_Sparse_LR0.006115521401940773_SIGMA1.0372657813112909_INIT0.6303388864180629_NUMLAYERS2.npy\")\n",
    "BP10NMParams = np.load(\"results/params/params_10N_Bipartite_Medium_LR0.0037711868141441346_SIGMA1.5585418217447389_INIT0.416282403403894_NUMLAYERS2.npy\")\n",
    "BP10NDParams = np.load(\"results/params/params_10N_Bipartite_Dense_LR0.0009131935892470876_SIGMA0.10121114465217869_INIT0.8314880277242851_NUMLAYERS3.npy\")"
   ]
  },
  {
   "cell_type": "markdown",
   "metadata": {},
   "source": [
    "# Hardware test"
   ]
  },
  {
   "cell_type": "code",
   "execution_count": 20,
   "metadata": {},
   "outputs": [
    {
     "name": "stdout",
     "output_type": "stream",
     "text": [
      "<IBMBackend('ibm_aachen')>\n"
     ]
    }
   ],
   "source": [
    "load_dotenv('.env')\n",
    "\n",
    "ibm_token = os.getenv('IBM_TOKEN')\n",
    "instance = os.getenv(\"INSTANCE\")\n",
    "setup = True \n",
    "\n",
    "if setup:\n",
    "    QiskitRuntimeService.save_account(channel=\"ibm_quantum\", token=ibm_token, overwrite=True)\n",
    "\n",
    "service = QiskitRuntimeService(channel=\"ibm_cloud\", token = ibm_token, instance=instance)\n",
    "backend = service.least_busy(operational=True, simulator=False, min_num_qubits=156)\n",
    "print(backend)"
   ]
  },
  {
   "cell_type": "code",
   "execution_count": 21,
   "metadata": {},
   "outputs": [],
   "source": [
    "dev = qml.device('qiskit.remote', \n",
    "                    wires=backend.num_qubits, \n",
    "                    backend=backend, \n",
    "                    shots=512,\n",
    "                    optimization_level=3)"
   ]
  },
  {
   "cell_type": "markdown",
   "metadata": {},
   "source": [
    "## Experiments"
   ]
  },
  {
   "cell_type": "code",
   "execution_count": 22,
   "metadata": {},
   "outputs": [],
   "source": [
    "QUBITS = NODES * (NODES - 1) // 2\n",
    "grid_conn = aachen_connectivity()\n",
    "\n",
    "L1G = efficient_connectivity_gates(grid_conn, QUBITS, 1)\n",
    "L2G = efficient_connectivity_gates(grid_conn, QUBITS, 2)\n",
    "L3G = efficient_connectivity_gates(grid_conn, QUBITS, 3)\n",
    "L4G = efficient_connectivity_gates(grid_conn, QUBITS, 4)\n",
    "L5G = efficient_connectivity_gates(grid_conn, QUBITS, 5)\n",
    "\n",
    "L1IQP = iqp.IqpSimulator(QUBITS, L1G, device=\"lightning.qubit\")\n",
    "L2IQP = iqp.IqpSimulator(QUBITS, L2G, device=\"lightning.qubit\")\n",
    "L3IQP = iqp.IqpSimulator(QUBITS, L3G, device=\"lightning.qubit\")\n",
    "L4IQP = iqp.IqpSimulator(QUBITS, L4G, device=\"lightning.qubit\")\n",
    "L5IQP = iqp.IqpSimulator(QUBITS, L5G, device=\"lightning.qubit\")\n",
    "\n",
    "@qml.qnode(dev)\n",
    "def L1Sample(trained_params):\n",
    "    L1IQP.iqp_circuit(np.asarray(trained_params))\n",
    "    return qml.sample(wires = range(QUBITS))\n",
    "\n",
    "@qml.qnode(dev)\n",
    "def L2Sample(trained_params):\n",
    "    L2IQP.iqp_circuit(np.asarray(trained_params))\n",
    "    return qml.sample(wires = range(QUBITS))\n",
    "\n",
    "@qml.qnode(dev)\n",
    "def L3Sample(trained_params):\n",
    "    L3IQP.iqp_circuit(np.asarray(trained_params))\n",
    "    return qml.sample(wires = range(QUBITS))\n",
    "\n",
    "@qml.qnode(dev)\n",
    "def L4Sample(trained_params):\n",
    "    L4IQP.iqp_circuit(np.asarray(trained_params))\n",
    "    return qml.sample(wires = range(QUBITS))\n",
    "\n",
    "@qml.qnode(dev)\n",
    "def L5Sample(trained_params):\n",
    "    L5IQP.iqp_circuit(np.asarray(trained_params))\n",
    "    return qml.sample(wires = range(QUBITS))"
   ]
  },
  {
   "cell_type": "code",
   "execution_count": 23,
   "metadata": {},
   "outputs": [],
   "source": [
    "with Session(backend=backend, max_time=\"12h\") as session:\n",
    "    ER10NSRes  = L1Sample(ER10NSParams)\n",
    "    ER10NMRes  = L1Sample(ER10NMParams)\n",
    "    ER10NDRes  = L2Sample(ER10NDParams)\n",
    "\n",
    "    BP10NDRes = L3Sample(BP10NDParams)\n",
    "    BP10NMRes = L2Sample(BP10NMParams)\n",
    "    BP10NSRes = L2Sample(BP10NSParams)"
   ]
  },
  {
   "cell_type": "code",
   "execution_count": 24,
   "metadata": {},
   "outputs": [
    {
     "name": "stdout",
     "output_type": "stream",
     "text": [
      "Samples saved successfully.\n"
     ]
    }
   ],
   "source": [
    "np.save(\"results/samples/2025-06-06/ER10NS.npy\", ER10NSRes)\n",
    "np.save(\"results/samples/2025-06-06/ER10NM.npy\", ER10NMRes)\n",
    "np.save(\"results/samples/2025-06-06/ER10ND.npy\", ER10NDRes)\n",
    "np.save(\"results/samples/2025-06-06/BP10NS.npy\", BP10NSRes)\n",
    "np.save(\"results/samples/2025-06-06/BP10NM.npy\", BP10NMRes)\n",
    "np.save(\"results/samples/2025-06-06/BP10ND.npy\", BP10NDRes)\n",
    "print(\"Samples saved successfully.\")"
   ]
  }
 ],
 "metadata": {
  "kernelspec": {
   "display_name": ".venv",
   "language": "python",
   "name": "python3"
  },
  "language_info": {
   "codemirror_mode": {
    "name": "ipython",
    "version": 3
   },
   "file_extension": ".py",
   "mimetype": "text/x-python",
   "name": "python",
   "nbconvert_exporter": "python",
   "pygments_lexer": "ipython3",
   "version": "3.12.6"
  }
 },
 "nbformat": 4,
 "nbformat_minor": 2
}
