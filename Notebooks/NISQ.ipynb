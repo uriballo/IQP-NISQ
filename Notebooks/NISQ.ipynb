{
 "cells": [
  {
   "cell_type": "markdown",
   "metadata": {},
   "source": [
    "# IBM Instance Setup"
   ]
  },
  {
   "cell_type": "code",
   "execution_count": 1,
   "metadata": {},
   "outputs": [
    {
     "name": "stdout",
     "output_type": "stream",
     "text": [
      "/Users/uribagi/Documents/GitHub/Latent-IQP\n"
     ]
    }
   ],
   "source": [
    "%cd .."
   ]
  },
  {
   "cell_type": "code",
   "execution_count": 2,
   "metadata": {},
   "outputs": [],
   "source": [
    "from dotenv import load_dotenv\n",
    "import os\n",
    "import jax\n",
    "import jax.numpy as jnp\n",
    "import iqpopt as iqp\n",
    "from iqpopt.utils import initialize_from_data, local_gates\n",
    "import iqpopt.gen_qml as genq\n",
    "from iqpopt.gen_qml.utils import median_heuristic\n",
    "from utils.nisq import aachen_connectivity, efficient_connectivity_gates\n",
    "from qiskit_ibm_runtime import QiskitRuntimeService\n",
    "from qiskit_ibm_runtime import Session\n",
    "import pennylane as qml\n",
    "from datasets.bipartites import BipartiteGraphDataset\n",
    "from datasets.er import ErdosRenyiGraphDataset\n",
    "import numpy as np\n",
    "\n",
    "key = jax.random.PRNGKey(42)"
   ]
  },
  {
   "cell_type": "markdown",
   "metadata": {},
   "source": [
    "# Experiments Poster"
   ]
  },
  {
   "cell_type": "code",
   "execution_count": 3,
   "metadata": {},
   "outputs": [
    {
     "name": "stdout",
     "output_type": "stream",
     "text": [
      "[Dataset] Loaded 995 samples from ./datasets/raw_data/14N_Bipartite_Sparse.pkl\n",
      "  Created: 2025-05-30T13:16:01.302922\n",
      "  Unique graphs: 995\n",
      "  Version: 1.0\n",
      "[Dataset] Loaded 992 samples from ./datasets/raw_data/18N_Bipartite_Sparse.pkl\n",
      "  Created: 2025-05-30T13:16:36.761074\n",
      "  Unique graphs: 992\n",
      "  Version: 1.0\n",
      "[Dataset] Loaded 1000 samples from ./datasets/raw_data/18N_ER_Sparse.pkl\n",
      "  Created: 2025-05-30T13:09:53.812165\n",
      "  Unique graphs: 1000\n",
      "  Version: 1.3\n",
      "  Type: erdos_renyi\n",
      "[Dataset] Loaded 1000 samples from ./datasets/raw_data/14N_ER_Sparse.pkl\n",
      "  Created: 2025-05-30T13:09:28.785584\n",
      "  Unique graphs: 1000\n",
      "  Version: 1.3\n",
      "  Type: erdos_renyi\n"
     ]
    }
   ],
   "source": [
    "bipartite_14 = jnp.array(BipartiteGraphDataset(nodes = 1, edge_prob=0.1).from_file('./datasets/raw_data/14N_Bipartite_Sparse.pkl').vectors.copy())\n",
    "bipartite_18 = jnp.array(BipartiteGraphDataset(nodes = 1, edge_prob=0.1).from_file('./datasets/raw_data/18N_Bipartite_Sparse.pkl').vectors.copy())\n",
    "erdos_renyi_18S = jnp.array(ErdosRenyiGraphDataset(nodes = 1, edge_prob=0.1).from_file('./datasets/raw_data/18N_ER_Sparse.pkl').vectors.copy())\n",
    "erdos_renyi_14S = jnp.array(ErdosRenyiGraphDataset(nodes = 1, edge_prob=0.1).from_file('./datasets/raw_data/14N_ER_Sparse.pkl').vectors.copy())"
   ]
  },
  {
   "cell_type": "code",
   "execution_count": 4,
   "metadata": {},
   "outputs": [],
   "source": [
    "def train_on_dataset(dataset, node_count):\n",
    "    grid_conn= aachen_connectivity()\n",
    "    num_qubits = node_count * (node_count - 1) // 2\n",
    "    gates = efficient_connectivity_gates(grid_conn, num_qubits, 1)\n",
    "    \n",
    "    circuit = iqp.IqpSimulator(num_qubits, gates, device=\"lightning.qubit\")\n",
    "    \n",
    "    initial_params = initialize_from_data(gates, dataset)\n",
    "    loss = iqp.gen_qml.mmd_loss_iqp\n",
    "    learning_rate = 0.003\n",
    "    sigma = median_heuristic(dataset)\n",
    "    \n",
    "    loss_kwarg = {\n",
    "        \"params\": initial_params,\n",
    "        \"iqp_circuit\": circuit,\n",
    "        \"ground_truth\": dataset,\n",
    "        \"sigma\": [sigma],\n",
    "        \"n_ops\": 2000,\n",
    "        \"n_samples\": 2000,\n",
    "        \"key\": jax.random.PRNGKey(42),\n",
    "    }\n",
    "    \n",
    "    trainer = iqp.Trainer(\"Adam\", loss, stepsize=learning_rate)\n",
    "    trainer.train(n_iters= 2000,loss_kwargs=loss_kwarg, turbo=1)\n",
    "    \n",
    "    return trainer.final_params"
   ]
  },
  {
   "cell_type": "code",
   "execution_count": 5,
   "metadata": {},
   "outputs": [
    {
     "name": "stderr",
     "output_type": "stream",
     "text": [
      "Training Progress: 100%|██████████| 2000/2000 [00:57<00:00, 34.66it/s, loss=-0.000217, elapsed time=0.03, total time=58.4]\n"
     ]
    },
    {
     "name": "stdout",
     "output_type": "stream",
     "text": [
      "Training has not converged after 2000 steps\n"
     ]
    },
    {
     "name": "stderr",
     "output_type": "stream",
     "text": [
      "Training Progress: 100%|██████████| 2000/2000 [01:17<00:00, 25.77it/s, loss=-0.000247, elapsed time=0.04, total time=78.1]\n"
     ]
    },
    {
     "name": "stdout",
     "output_type": "stream",
     "text": [
      "Training has not converged after 2000 steps\n"
     ]
    },
    {
     "name": "stderr",
     "output_type": "stream",
     "text": [
      "Training Progress: 100%|██████████| 2000/2000 [01:14<00:00, 26.70it/s, loss=-0.000257, elapsed time=0.04, total time=75.1]\n"
     ]
    },
    {
     "name": "stdout",
     "output_type": "stream",
     "text": [
      "Training has not converged after 2000 steps\n"
     ]
    },
    {
     "name": "stderr",
     "output_type": "stream",
     "text": [
      "Training Progress: 100%|██████████| 2000/2000 [00:57<00:00, 35.08it/s, loss=-0.000301, elapsed time=0.03, total time=57.2]"
     ]
    },
    {
     "name": "stdout",
     "output_type": "stream",
     "text": [
      "Training has not converged after 2000 steps\n"
     ]
    },
    {
     "name": "stderr",
     "output_type": "stream",
     "text": [
      "\n"
     ]
    }
   ],
   "source": [
    "params_b14 = train_on_dataset(bipartite_14, 14)\n",
    "params_b18 = train_on_dataset(bipartite_18, 18)\n",
    "params_er18s = train_on_dataset(erdos_renyi_18S, 18)\n",
    "params_er14s = train_on_dataset(erdos_renyi_14S, 14)"
   ]
  },
  {
   "cell_type": "markdown",
   "metadata": {},
   "source": [
    "# Hardware test"
   ]
  },
  {
   "cell_type": "code",
   "execution_count": 6,
   "metadata": {},
   "outputs": [
    {
     "name": "stdout",
     "output_type": "stream",
     "text": [
      "<IBMBackend('ibm_aachen')>\n"
     ]
    }
   ],
   "source": [
    "load_dotenv('.env')\n",
    "\n",
    "ibm_token = os.getenv('IBM_TOKEN')\n",
    "instance = os.getenv(\"INSTANCE\")\n",
    "setup = True \n",
    "\n",
    "if setup:\n",
    "    QiskitRuntimeService.save_account(channel=\"ibm_quantum\", token=ibm_token, overwrite=True)\n",
    "\n",
    "service = QiskitRuntimeService(channel=\"ibm_cloud\", token = ibm_token, instance=instance)\n",
    "backend = service.least_busy(operational=True, simulator=False, min_num_qubits=156)\n",
    "print(backend)"
   ]
  },
  {
   "cell_type": "code",
   "execution_count": 7,
   "metadata": {},
   "outputs": [],
   "source": [
    "dev = qml.device('qiskit.remote', \n",
    "                    wires=backend.num_qubits, \n",
    "                    backend=backend, \n",
    "                    shots=1024,\n",
    "                    optimization_level=3)"
   ]
  },
  {
   "cell_type": "code",
   "execution_count": 8,
   "metadata": {},
   "outputs": [],
   "source": [
    "grid_conn = aachen_connectivity()\n",
    "\n",
    "gates_18 = efficient_connectivity_gates(grid_conn, 153, 1)\n",
    "gates_14 = efficient_connectivity_gates(grid_conn, 91, 1)"
   ]
  },
  {
   "cell_type": "code",
   "execution_count": 9,
   "metadata": {},
   "outputs": [],
   "source": [
    "IQP_18 = iqp.IqpSimulator(153, gates_18, device=\"lightning.qubit\")\n",
    "IQP_14 = iqp.IqpSimulator(91, gates_14, device=\"lightning.qubit\")"
   ]
  },
  {
   "cell_type": "code",
   "execution_count": 10,
   "metadata": {},
   "outputs": [],
   "source": [
    "@qml.qnode(dev)\n",
    "def sample_18(trained_params):\n",
    "    IQP_18.iqp_circuit(np.asarray(trained_params))\n",
    "    return qml.sample(wires = range(153))\n",
    "\n",
    "@qml.qnode(dev)\n",
    "def sample_14(trained_params):\n",
    "    IQP_14.iqp_circuit(np.asarray(trained_params))\n",
    "    return qml.sample(wires = range(91))"
   ]
  },
  {
   "cell_type": "code",
   "execution_count": 11,
   "metadata": {},
   "outputs": [],
   "source": [
    "with Session(backend=backend, max_time=\"2h\") as session:\n",
    "    er14_results = sample_14(params_er14s)\n",
    "    er18_results = sample_18(params_er18s)\n",
    "    b14_results = sample_14(params_b14)\n",
    "    b18_results = sample_18(params_b18)"
   ]
  },
  {
   "cell_type": "code",
   "execution_count": 12,
   "metadata": {},
   "outputs": [
    {
     "data": {
      "text/plain": [
       "Array([[0, 0, 0, ..., 0, 0, 0],\n",
       "       [1, 0, 0, ..., 0, 0, 0],\n",
       "       [1, 0, 0, ..., 0, 0, 0],\n",
       "       ...,\n",
       "       [0, 0, 0, ..., 1, 0, 0],\n",
       "       [0, 0, 0, ..., 0, 0, 1],\n",
       "       [0, 0, 1, ..., 1, 0, 0]], dtype=int64)"
      ]
     },
     "execution_count": 12,
     "metadata": {},
     "output_type": "execute_result"
    }
   ],
   "source": [
    "er14_results"
   ]
  },
  {
   "cell_type": "markdown",
   "metadata": {},
   "source": [
    "# Analysis"
   ]
  },
  {
   "cell_type": "code",
   "execution_count": 13,
   "metadata": {},
   "outputs": [],
   "source": [
    "from utils import metrics\n",
    "from datasets import utils"
   ]
  },
  {
   "cell_type": "code",
   "execution_count": 27,
   "metadata": {},
   "outputs": [
    {
     "name": "stdout",
     "output_type": "stream",
     "text": [
      "Number of samples for 14N ER: 1024\n",
      "Number of samples for 18N ER: 1024\n",
      "Number of samples for 14N Bipartite: 1024\n",
      "Number of samples for 18N Bipartite: 1024\n"
     ]
    }
   ],
   "source": [
    "print(\"Number of samples for 14N ER:\", len(er14_results))\n",
    "print(\"Number of samples for 18N ER:\", len(er18_results))\n",
    "print(\"Number of samples for 14N Bipartite:\", len(b14_results))\n",
    "print(\"Number of samples for 18N Bipartite:\", len(b18_results))\n"
   ]
  },
  {
   "cell_type": "code",
   "execution_count": 28,
   "metadata": {},
   "outputs": [],
   "source": [
    "# Save the results\n",
    "np.save('./results/14N_ER_samples.npy', er14_results)\n",
    "np.save('./results/18N_ER_samples.npy', er18_results)\n",
    "np.save('./results/14N_Bipartite_samples.npy', b14_results)\n",
    "np.save('./results/18N_Bipartite_samples.npy', b18_results)"
   ]
  },
  {
   "cell_type": "code",
   "execution_count": 29,
   "metadata": {},
   "outputs": [],
   "source": [
    "# Save the trained parameters\n",
    "np.save('./results/params_14N_ER.npy', params_er14s)\n",
    "np.save('./results/params_18N_ER.npy', params_er18s)\n",
    "np.save('./results/params_14N_Bipartite.npy', params_b14)\n",
    "np.save('./results/params_18N_Bipartite.npy', params_b18)"
   ]
  },
  {
   "cell_type": "markdown",
   "metadata": {},
   "source": [
    "# ER"
   ]
  },
  {
   "cell_type": "code",
   "execution_count": 15,
   "metadata": {},
   "outputs": [],
   "source": [
    "graph_er14 = [utils.vec_to_graph(vec, 14) for vec in er14_results]\n",
    "graph_er18 = [utils.vec_to_graph(vec, 18) for vec in er18_results]\n",
    "\n",
    "ground_truth_er14 = [utils.vec_to_graph(vec, 14) for vec in erdos_renyi_14S]\n",
    "ground_truth_er18 = [utils.vec_to_graph(vec, 18) for vec in erdos_renyi_18S]"
   ]
  },
  {
   "cell_type": "code",
   "execution_count": 16,
   "metadata": {},
   "outputs": [
    {
     "name": "stdout",
     "output_type": "stream",
     "text": [
      "Average edge probability for 14N ER samples: 0.19534469436813187\n",
      "Average edge probability for 18N ER samples: 0.2003421160130719\n",
      "Average edge probability for 14N ER ground truth: 0.15745054945054943\n",
      "Average edge probability for 18N ER ground truth: 0.1496797385620915\n"
     ]
    }
   ],
   "source": [
    "edge_prob_er14 = [np.sum(vec)/(14 * (14 - 1) // 2) for vec in er14_results]\n",
    "edge_prob_er18 = [np.sum(vec)/(18 * (18 - 1) // 2) for vec in er18_results]\n",
    "print(\"Average edge probability for 14N ER samples:\", np.mean(edge_prob_er14))\n",
    "print(\"Average edge probability for 18N ER samples:\", np.mean(edge_prob_er18))\n",
    "print(\"Average edge probability for 14N ER ground truth:\", np.mean([np.sum(vec)/(14 * (14 - 1) // 2) for vec in erdos_renyi_14S]))\n",
    "print(\"Average edge probability for 18N ER ground truth:\", np.mean([np.sum(vec)/(18 * (18 - 1) // 2) for vec in erdos_renyi_18S]))"
   ]
  },
  {
   "cell_type": "code",
   "execution_count": 30,
   "metadata": {},
   "outputs": [
    {
     "name": "stdout",
     "output_type": "stream",
     "text": [
      "Number of correct samples for 14N ER: 58.203125\n",
      "Number of correct samples for 18N ER: 50.87890625\n"
     ]
    }
   ],
   "source": [
    "# Number of correct samples (which have edge prob between 0.05 and 0.2)\n",
    "correct_samples_er14 = [elem for elem in edge_prob_er14 if 0.05 <= elem <= 0.2]\n",
    "correct_samples_er18 = [elem for elem in edge_prob_er18 if 0.05 <= elem <= 0.2]\n",
    "print(\"Number of correct samples for 14N ER:\", 100 * len(correct_samples_er14) / 1024)\n",
    "print(\"Number of correct samples for 18N ER:\", 100* len(correct_samples_er18) /1024)\n",
    "# Calculate the average edge probability of the correct samples"
   ]
  },
  {
   "cell_type": "code",
   "execution_count": 18,
   "metadata": {},
   "outputs": [
    {
     "data": {
      "text/plain": [
       "0.634765625"
      ]
     },
     "execution_count": 18,
     "metadata": {},
     "output_type": "execute_result"
    }
   ],
   "source": [
    "650 / 1024"
   ]
  },
  {
   "cell_type": "code",
   "execution_count": null,
   "metadata": {},
   "outputs": [
    {
     "name": "stdout",
     "output_type": "stream",
     "text": [
      "\n",
      "=== Model vs Dataset Analysis ===\n",
      "\n",
      "1) Basic sizes & uniqueness\n",
      "   GT graphs       : 1000\n",
      "   Generated graphs: 1024\n",
      "   GT unique-adj  : 1000\n",
      "   Gen unique-adj : 1024\n",
      "   GT unique-iso  : 999\n",
      "   Gen unique-iso : 1024\n",
      "\n",
      "2) Structural statistics (GT vs Gen)\n",
      "   Metric               GT       Gen       Δ        Ratio\n",
      "   Avg edges              14.33    17.78     3.45      1.24\n",
      "   Avg density             0.16     0.20     0.04      1.24\n",
      "   Conn. frac              0.22     0.40     0.18      1.83\n",
      "   #Comp                   3.25     2.00    -1.25      0.62\n",
      "   Bip frac                0.28     0.07    -0.21      0.25\n",
      "   Bip density             0.20     0.26     0.06      1.30\n",
      "\n",
      "3) Memorization & coverage\n",
      "   Precision (Gen→GT):  0.20%\n",
      "   Recall    (GT←Gen):  0.20%\n",
      "   Novel gen        : 1022/1024 (99.80%)\n",
      "   GT never seen    : 998/1000 (99.80%)\n",
      "   Matches per GT   : avg 1.00, med 1.00, min 1, max 1\n",
      "\n",
      "4) Degree distribution divergences\n",
      "   Avg paired KL(deg): 2.9494\n",
      "   KL(GT→Gen)        : 0.0661\n",
      "   KL(Gen→GT)        : 0.0674\n",
      "   JS sym            : 0.0159\n",
      "\n",
      "===================================\n",
      "\n"
     ]
    },
    {
     "data": {
      "text/plain": [
       "{'n_truth': 1000,\n",
       " 'n_gen': 1024,\n",
       " 'unique_adj_gt': 1000,\n",
       " 'unique_adj_gen': 1024,\n",
       " 'unique_iso_gt': 999,\n",
       " 'unique_iso_gen': 1024,\n",
       " 'gt_struct': {'n_graphs': 1000,\n",
       "  'avg_nodes': 14.0,\n",
       "  'std_nodes': 0.0,\n",
       "  'avg_edges': 14.328,\n",
       "  'std_edges': 4.773721399495367,\n",
       "  'avg_density': 0.15745054945054943,\n",
       "  'std_density': 0.0524584769175315,\n",
       "  'fraction_connected': 0.218,\n",
       "  'avg_components': 3.251,\n",
       "  'fraction_bipartite': 0.279,\n",
       "  'avg_bipartite_density': 0.20373189136629993,\n",
       "  'std_bipartite_density': 0.04740261593677494},\n",
       " 'gen_struct': {'n_graphs': 1024,\n",
       "  'avg_nodes': 14.0,\n",
       "  'std_nodes': 0.0,\n",
       "  'avg_edges': 17.7763671875,\n",
       "  'std_edges': 3.8058071486444685,\n",
       "  'avg_density': 0.19534469436813187,\n",
       "  'std_density': 0.041822056578510645,\n",
       "  'fraction_connected': 0.3994140625,\n",
       "  'avg_components': 2.0,\n",
       "  'fraction_bipartite': 0.068359375,\n",
       "  'avg_bipartite_density': 0.26476959831551666,\n",
       "  'std_bipartite_density': 0.04678319889198143},\n",
       " 'delta_avg_edges': 3.4483671875000006,\n",
       " 'ratio_avg_edges': 1.240673310127024,\n",
       " 'delta_avg_density': 0.037894144917582445,\n",
       " 'ratio_avg_density': 1.2406733101270242,\n",
       " 'delta_fraction_connected': 0.1814140625,\n",
       " 'ratio_fraction_connected': 1.8321745986238531,\n",
       " 'delta_avg_components': -1.251,\n",
       " 'ratio_avg_components': 0.6151953245155337,\n",
       " 'delta_fraction_bipartite': -0.21064062500000003,\n",
       " 'ratio_fraction_bipartite': 0.2450156810035842,\n",
       " 'delta_avg_bip_density': 0.06103770694921673,\n",
       " 'ratio_avg_bip_density': 1.2995981951567608,\n",
       " 'gen_mem_count': 2,\n",
       " 'gen_mem_fraction': 0.001953125,\n",
       " 'gen_novel_count': 1022,\n",
       " 'gen_novel_fraction': 0.998046875,\n",
       " 'truth_cov_count': 2,\n",
       " 'truth_cov_fraction': 0.002,\n",
       " 'truth_novel_count': 998,\n",
       " 'truth_novel_fraction': 0.998,\n",
       " 'avg_matches_per_gt': 1.0,\n",
       " 'median_matches_per_gt': 1.0,\n",
       " 'min_matches_per_gt': 1,\n",
       " 'max_matches_per_gt': 1,\n",
       " 'precision': 0.001953125,\n",
       " 'recall': 0.002,\n",
       " 'kl_degree_gt_to_gen': np.float64(0.0661110747174003),\n",
       " 'kl_degree_gen_to_gt': np.float64(0.06736329804930606),\n",
       " 'js_degree': np.float64(0.015944093321378104),\n",
       " 'avg_paired_kl': 2.949383788141701}"
      ]
     },
     "execution_count": 19,
     "metadata": {},
     "output_type": "execute_result"
    }
   ],
   "source": [
    "metrics.analyze_model_vs_dataset(ground_truth_er14, graph_er14);"
   ]
  },
  {
   "cell_type": "code",
   "execution_count": 24,
   "metadata": {},
   "outputs": [
    {
     "name": "stdout",
     "output_type": "stream",
     "text": [
      "\n",
      "=== Model vs Dataset Analysis ===\n",
      "\n",
      "1) Basic sizes & uniqueness\n",
      "   GT graphs       : 1000\n",
      "   Generated graphs: 1024\n",
      "   GT unique-adj  : 1000\n",
      "   Gen unique-adj : 1024\n",
      "   GT unique-iso  : 1000\n",
      "   Gen unique-iso : 1024\n",
      "\n",
      "2) Structural statistics (GT vs Gen)\n",
      "   Metric               GT       Gen       Δ        Ratio\n",
      "   Avg edges              22.90    30.65     7.75      1.34\n",
      "   Avg density             0.15     0.20     0.05      1.34\n",
      "   Conn. frac              0.36     0.64     0.28      1.79\n",
      "   #Comp                   3.28     1.46    -1.82      0.44\n",
      "   Bip frac                0.18     0.00    -0.18      0.01\n",
      "   Bip density             0.15     0.25     0.10      1.65\n",
      "\n",
      "3) Memorization & coverage\n",
      "   Precision (Gen→GT):  0.00%\n",
      "   Recall    (GT←Gen):  0.00%\n",
      "   Novel gen        : 1024/1024 (100.00%)\n",
      "   GT never seen    : 1000/1000 (100.00%)\n",
      "   Matches per GT   : avg 0.00, med 0.00, min 0, max 0\n",
      "\n",
      "4) Degree distribution divergences\n",
      "   Avg paired KL(deg): 3.5665\n",
      "   KL(GT→Gen)        : 0.1628\n",
      "   KL(Gen→GT)        : 0.1387\n",
      "   JS sym            : 0.0361\n",
      "\n",
      "===================================\n",
      "\n"
     ]
    }
   ],
   "source": [
    "metrics.analyze_model_vs_dataset(ground_truth_er18, graph_er18);"
   ]
  },
  {
   "cell_type": "markdown",
   "metadata": {},
   "source": [
    "## Bipartites"
   ]
  },
  {
   "cell_type": "code",
   "execution_count": 20,
   "metadata": {},
   "outputs": [],
   "source": [
    "graph_b14 = [utils.vec_to_graph(vec, 14) for vec in b14_results]\n",
    "graph_b18 = [utils.vec_to_graph(vec, 18) for vec in b18_results]\n",
    "\n",
    "ground_truth_b14 = [utils.vec_to_graph(vec, 14) for vec in bipartite_14]\n",
    "ground_truth_b18 = [utils.vec_to_graph(vec, 18) for vec in bipartite_18]"
   ]
  },
  {
   "cell_type": "code",
   "execution_count": 21,
   "metadata": {},
   "outputs": [],
   "source": [
    "# Measure the number of correct samples (bipartites)\n",
    "prop_b14 = metrics.bipartite_proportion(b14_results, 14)\n",
    "prop_b18 = metrics.bipartite_proportion(b18_results, 18)"
   ]
  },
  {
   "cell_type": "code",
   "execution_count": 22,
   "metadata": {},
   "outputs": [
    {
     "name": "stdout",
     "output_type": "stream",
     "text": [
      "=== Memorization Report ===\n",
      "Ground‐truth graphs:       995\n",
      "Generated graphs:          1024\n",
      "Generated ⟶ GT matches:    93/1024 ( 9.08%)\n",
      "GT ⟵ Generated coverage:   84/995 ( 8.44%)\n",
      "===========================\n",
      "=== Memorization Report ===\n",
      "Ground‐truth graphs:       992\n",
      "Generated graphs:          1024\n",
      "Generated ⟶ GT matches:    2/1024 ( 0.20%)\n",
      "GT ⟵ Generated coverage:   2/992 ( 0.20%)\n",
      "===========================\n"
     ]
    }
   ],
   "source": [
    "# Memorized samples\n",
    "mem_b14 =  metrics.memorized_proportion(ground_truth_b14, graph_b14)\n",
    "mem_b18 =  metrics.memorized_proportion(ground_truth_b18, graph_b18)"
   ]
  },
  {
   "cell_type": "code",
   "execution_count": 23,
   "metadata": {},
   "outputs": [
    {
     "name": "stdout",
     "output_type": "stream",
     "text": [
      "Proportion of bipartite samples for 14N Bipartite: 0.3251953125\n",
      "Proportion of bipartite samples for 18N Bipartite: 0.0947265625\n",
      "Memorized proportion for 14N Bipartite: {'n_truth': 995, 'n_gen': 1024, 'gen_mem_count': 93, 'gen_mem_fraction': 0.0908203125, 'truth_cov_count': 84, 'truth_cov_fraction': 0.08442211055276382}\n",
      "Memorized proportion for 18N Bipartite: {'n_truth': 992, 'n_gen': 1024, 'gen_mem_count': 2, 'gen_mem_fraction': 0.001953125, 'truth_cov_count': 2, 'truth_cov_fraction': 0.0020161290322580645}\n",
      "Unique samples for 14N Bipartite: (1015, 0.9912109375)\n",
      "Unique samples for 18N Bipartite: (1024, 1.0)\n"
     ]
    }
   ],
   "source": [
    "# Measure the number of unique samples (bipartites)\n",
    "unique_b14 = metrics.sample_diversity(graph_b14)\n",
    "unique_b18 = metrics.sample_diversity(graph_b18)\n",
    "\n",
    "print(f\"Proportion of bipartite samples for 14N Bipartite: {prop_b14}\")\n",
    "print(f\"Proportion of bipartite samples for 18N Bipartite: {prop_b18}\")\n",
    "print(f\"Memorized proportion for 14N Bipartite: {mem_b14}\")\n",
    "print(f\"Memorized proportion for 18N Bipartite: {mem_b18}\")\n",
    "print(f\"Unique samples for 14N Bipartite: {unique_b14}\")\n",
    "print(f\"Unique samples for 18N Bipartite: {unique_b18}\")"
   ]
  }
 ],
 "metadata": {
  "kernelspec": {
   "display_name": ".venv",
   "language": "python",
   "name": "python3"
  },
  "language_info": {
   "codemirror_mode": {
    "name": "ipython",
    "version": 3
   },
   "file_extension": ".py",
   "mimetype": "text/x-python",
   "name": "python",
   "nbconvert_exporter": "python",
   "pygments_lexer": "ipython3",
   "version": "3.12.6"
  }
 },
 "nbformat": 4,
 "nbformat_minor": 2
}
