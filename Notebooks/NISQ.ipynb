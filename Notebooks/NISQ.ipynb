{
 "cells": [
  {
   "cell_type": "markdown",
   "metadata": {},
   "source": [
    "# IBM Instance Setup"
   ]
  },
  {
   "cell_type": "code",
   "execution_count": 1,
   "metadata": {},
   "outputs": [
    {
     "name": "stdout",
     "output_type": "stream",
     "text": [
      "/Users/uribagi/Documents/GitHub/Latent-IQP\n"
     ]
    }
   ],
   "source": [
    "%cd .."
   ]
  },
  {
   "cell_type": "code",
   "execution_count": 2,
   "metadata": {},
   "outputs": [],
   "source": [
    "from dotenv import load_dotenv\n",
    "import os\n",
    "import jax\n",
    "import jax.numpy as jnp\n",
    "import iqpopt as iqp\n",
    "from iqpopt.utils import initialize_from_data, local_gates\n",
    "import iqpopt.gen_qml as genq\n",
    "from iqpopt.gen_qml.utils import median_heuristic\n",
    "from utils.nisq import aachen_connectivity, efficient_connectivity_gates\n",
    "from qiskit_ibm_runtime import QiskitRuntimeService\n",
    "from qiskit_ibm_runtime import Session\n",
    "import pennylane as qml\n",
    "from datasets.bipartites import BipartiteGraphDataset\n",
    "from datasets.er import ErdosRenyiGraphDataset\n",
    "import numpy as np\n",
    "\n",
    "key = jax.random.PRNGKey(42)"
   ]
  },
  {
   "cell_type": "markdown",
   "metadata": {},
   "source": [
    "# Experiments Poster"
   ]
  },
  {
   "cell_type": "code",
   "execution_count": 3,
   "metadata": {},
   "outputs": [],
   "source": [
    "def load_ds(nodes, type, connectivity):\n",
    "    ds_path = f'./datasets/raw_data/{nodes}N_{type}_{connectivity}.pkl'\n",
    "    dataset = jnp.array(BipartiteGraphDataset(nodes = 1, edge_prob=0.1).from_file(ds_path).vectors.copy())\n",
    "    return dataset"
   ]
  },
  {
   "cell_type": "code",
   "execution_count": 4,
   "metadata": {},
   "outputs": [
    {
     "name": "stdout",
     "output_type": "stream",
     "text": [
      "[Dataset] Loaded 500 samples from ./datasets/raw_data/10N_ER_Sparse.pkl\n",
      "  Created: 2025-05-30T13:09:11.886279\n",
      "  Unique graphs: 500\n",
      "  Version: 1.3\n",
      "[Dataset] Loaded 1000 samples from ./datasets/raw_data/14N_ER_Sparse.pkl\n",
      "  Created: 2025-05-30T13:09:28.785584\n",
      "  Unique graphs: 1000\n",
      "  Version: 1.3\n",
      "[Dataset] Loaded 1000 samples from ./datasets/raw_data/18N_ER_Sparse.pkl\n",
      "  Created: 2025-05-30T13:09:53.812165\n",
      "  Unique graphs: 1000\n",
      "  Version: 1.3\n"
     ]
    }
   ],
   "source": [
    "type = \"ER\"\n",
    "conn = \"Sparse\"\n",
    "ER10N = load_ds(10, type, conn)\n",
    "ER14N = load_ds(14, type, conn)\n",
    "ER18N = load_ds(18, type, conn)"
   ]
  },
  {
   "cell_type": "code",
   "execution_count": 5,
   "metadata": {},
   "outputs": [
    {
     "name": "stdout",
     "output_type": "stream",
     "text": [
      "[Dataset] Loaded 473 samples from ./datasets/raw_data/10N_Bipartite_Sparse.pkl\n",
      "  Created: 2025-05-30T13:15:39.349125\n",
      "  Unique graphs: 473\n",
      "  Version: 1.0\n",
      "[Dataset] Loaded 995 samples from ./datasets/raw_data/14N_Bipartite_Sparse.pkl\n",
      "  Created: 2025-05-30T13:16:01.302922\n",
      "  Unique graphs: 995\n",
      "  Version: 1.0\n",
      "[Dataset] Loaded 992 samples from ./datasets/raw_data/18N_Bipartite_Sparse.pkl\n",
      "  Created: 2025-05-30T13:16:36.761074\n",
      "  Unique graphs: 992\n",
      "  Version: 1.0\n",
      "[Dataset] Loaded 498 samples from ./datasets/raw_data/10N_Bipartite_Dense.pkl\n",
      "  Created: 2025-05-30T13:15:42.038328\n",
      "  Unique graphs: 498\n",
      "  Version: 1.0\n",
      "[Dataset] Loaded 995 samples from ./datasets/raw_data/14N_Bipartite_Dense.pkl\n",
      "  Created: 2025-05-30T13:16:04.284752\n",
      "  Unique graphs: 995\n",
      "  Version: 1.0\n",
      "[Dataset] Loaded 995 samples from ./datasets/raw_data/18N_Bipartite_Dense.pkl\n",
      "  Created: 2025-05-30T13:17:03.846539\n",
      "  Unique graphs: 995\n",
      "  Version: 1.0\n"
     ]
    }
   ],
   "source": [
    "type = \"Bipartite\"\n",
    "\n",
    "conn = \"Sparse\"\n",
    "BP10NS = load_ds(10, type, conn)\n",
    "BP14NS = load_ds(14, type, conn)\n",
    "BP18NS = load_ds(18, type, conn)\n",
    "conn = \"Dense\"\n",
    "BP10ND = load_ds(10, type, conn)\n",
    "BP14ND = load_ds(14, type, conn)\n",
    "BP18ND = load_ds(18, type, conn)"
   ]
  },
  {
   "cell_type": "code",
   "execution_count": 6,
   "metadata": {},
   "outputs": [],
   "source": [
    "ER10NParams = np.load(\"results/params/params_10N_ER_Sparse_LR0.006838364713689533_SIGMA0.734109035909562_INIT0.400113391305837_NUMLAYERS2.npy\")\n",
    "ER14NParams = np.load(\"results/params/params_14N_ER_Sparse_LR0.02035688240275493_SIGMA0.8146109293590678_INIT1.3171747398920903_NUMLAYERS1.npy\")\n",
    "ER18NParams = np.load(\"results/params/params_18N_ER_Sparse_LR0.005956763927368095_SIGMA0.8221295744511952_INIT0.5859381161075201_NUMLAYERS2.npy\")"
   ]
  },
  {
   "cell_type": "code",
   "execution_count": 7,
   "metadata": {},
   "outputs": [],
   "source": [
    "BP10NSParams = np.load(\"results/params/params_10N_Bipartite_Sparse_LR0.02795366237712352_SIGMA0.9808444814012455_INIT0.765609221123329_NUMLAYERS1.npy\")\n",
    "BP14NSParams = np.load(\"results/params/params_14N_Bipartite_Sparse_LR0.006907903977137845_SIGMA1.0466739240034715_INIT0.8796771395628953_NUMLAYERS1.npy\")\n",
    "BP18NSParams = np.load(\"results/params/params_18N_Bipartite_Sparse_LR0.006312967697938845_SIGMA0.8081435463552646_INIT0.6667394152784892_NUMLAYERS2.npy\")\n",
    "BP10NDParams = np.load(\"results/params/params_10N_Bipartite_Dense_LR3.180387390187506e-05_SIGMA0.10532104404374365_INIT1.2714724852677064_NUMLAYERS1.npy\")\n",
    "BP14NDParams = np.load(\"results/params/params_14N_Bipartite_Dense_LR0.0008949151281083548_SIGMA0.10084894279938172_INIT1.5842054712672855_NUMLAYERS2.npy\")\n",
    "BP18NDParams = np.load(\"results/params/params_18N_Bipartite_Dense_LR0.00043865712569417307_SIGMA0.10245036558677464_INIT3.078356101278033_NUMLAYERS1.npy\")"
   ]
  },
  {
   "cell_type": "markdown",
   "metadata": {},
   "source": [
    "# Hardware test"
   ]
  },
  {
   "cell_type": "code",
   "execution_count": 8,
   "metadata": {},
   "outputs": [
    {
     "name": "stdout",
     "output_type": "stream",
     "text": [
      "<IBMBackend('ibm_aachen')>\n"
     ]
    }
   ],
   "source": [
    "load_dotenv('.env')\n",
    "\n",
    "ibm_token = os.getenv('IBM_TOKEN')\n",
    "instance = os.getenv(\"INSTANCE\")\n",
    "setup = True \n",
    "\n",
    "if setup:\n",
    "    QiskitRuntimeService.save_account(channel=\"ibm_quantum\", token=ibm_token, overwrite=True)\n",
    "\n",
    "service = QiskitRuntimeService(channel=\"ibm_cloud\", token = ibm_token, instance=instance)\n",
    "backend = service.least_busy(operational=True, simulator=False, min_num_qubits=156)\n",
    "print(backend)"
   ]
  },
  {
   "cell_type": "code",
   "execution_count": 9,
   "metadata": {},
   "outputs": [],
   "source": [
    "dev = qml.device('qiskit.remote', \n",
    "                    wires=backend.num_qubits, \n",
    "                    backend=backend, \n",
    "                    shots=512,\n",
    "                    optimization_level=3)"
   ]
  },
  {
   "cell_type": "markdown",
   "metadata": {},
   "source": [
    "## 10 Node Experiments"
   ]
  },
  {
   "cell_type": "code",
   "execution_count": 10,
   "metadata": {},
   "outputs": [],
   "source": [
    "QUBITS = 10 * 9 // 2\n",
    "grid_conn = aachen_connectivity()\n",
    "gates_single_layer = efficient_connectivity_gates(grid_conn, QUBITS, 1)\n",
    "gates_two_layer = efficient_connectivity_gates(grid_conn, QUBITS, 2)\n",
    "\n",
    "IQP_single = iqp.IqpSimulator(QUBITS, gates_single_layer, device=\"lightning.qubit\")\n",
    "IQP_double = iqp.IqpSimulator(QUBITS, gates_two_layer, device=\"lightning.qubit\")\n",
    "\n",
    "@qml.qnode(dev)\n",
    "def sample_single(trained_params):\n",
    "    IQP_single.iqp_circuit(np.asarray(trained_params))\n",
    "    return qml.sample(wires = range(QUBITS))\n",
    "\n",
    "@qml.qnode(dev)\n",
    "def sample_double(trained_params):\n",
    "    IQP_double.iqp_circuit(np.asarray(trained_params))\n",
    "    return qml.sample(wires = range(QUBITS))"
   ]
  },
  {
   "cell_type": "code",
   "execution_count": 11,
   "metadata": {},
   "outputs": [],
   "source": [
    "with Session(backend=backend, max_time=\"2h\") as session:\n",
    "    ER10NRes  = sample_double(ER10NParams)\n",
    "    BP10NDRes = sample_single(BP10NDParams)\n",
    "    BP10NSRes = sample_single(BP10NSParams)"
   ]
  },
  {
   "cell_type": "markdown",
   "metadata": {},
   "source": [
    "## 14 Node Experiments"
   ]
  },
  {
   "cell_type": "code",
   "execution_count": 12,
   "metadata": {},
   "outputs": [],
   "source": [
    "QUBITS = 14 * 13 // 2\n",
    "grid_conn = aachen_connectivity()\n",
    "gates_single_layer = efficient_connectivity_gates(grid_conn, QUBITS, 1)\n",
    "gates_two_layer = efficient_connectivity_gates(grid_conn, QUBITS, 2)\n",
    "\n",
    "IQP_single = iqp.IqpSimulator(QUBITS, gates_single_layer, device=\"lightning.qubit\")\n",
    "IQP_double = iqp.IqpSimulator(QUBITS, gates_two_layer, device=\"lightning.qubit\")\n",
    "\n",
    "@qml.qnode(dev)\n",
    "def sample_single(trained_params):\n",
    "    IQP_single.iqp_circuit(np.asarray(trained_params))\n",
    "    return qml.sample(wires = range(QUBITS))\n",
    "\n",
    "@qml.qnode(dev)\n",
    "def sample_double(trained_params):\n",
    "    IQP_double.iqp_circuit(np.asarray(trained_params))\n",
    "    return qml.sample(wires = range(QUBITS))"
   ]
  },
  {
   "cell_type": "code",
   "execution_count": 13,
   "metadata": {},
   "outputs": [],
   "source": [
    "with Session(backend=backend, max_time=\"2h\") as session:\n",
    "    ER14NRes  = sample_single(ER14NParams)\n",
    "    BP14NDRes = sample_single(BP14NDParams)\n",
    "    BP14NSRes = sample_double(BP14NSParams)"
   ]
  },
  {
   "cell_type": "markdown",
   "metadata": {},
   "source": [
    "## 18 Node Experiments"
   ]
  },
  {
   "cell_type": "code",
   "execution_count": 14,
   "metadata": {},
   "outputs": [],
   "source": [
    "QUBITS = 18 * 17 // 2\n",
    "grid_conn = aachen_connectivity()\n",
    "gates_single_layer = efficient_connectivity_gates(grid_conn, QUBITS, 1)\n",
    "gates_two_layer = efficient_connectivity_gates(grid_conn, QUBITS, 2)\n",
    "\n",
    "IQP_single = iqp.IqpSimulator(QUBITS, gates_single_layer, device=\"lightning.qubit\")\n",
    "IQP_double = iqp.IqpSimulator(QUBITS, gates_two_layer, device=\"lightning.qubit\")\n",
    "\n",
    "@qml.qnode(dev)\n",
    "def sample_single(trained_params):\n",
    "    IQP_single.iqp_circuit(np.asarray(trained_params))\n",
    "    return qml.sample(wires = range(QUBITS))\n",
    "\n",
    "@qml.qnode(dev)\n",
    "def sample_double(trained_params):\n",
    "    IQP_double.iqp_circuit(np.asarray(trained_params))\n",
    "    return qml.sample(wires = range(QUBITS))"
   ]
  },
  {
   "cell_type": "code",
   "execution_count": 15,
   "metadata": {},
   "outputs": [],
   "source": [
    "with Session(backend=backend, max_time=\"2h\") as session:\n",
    "    ER18NRes  = sample_double(ER18NParams)\n",
    "    BP18NDRes = sample_double(BP18NDParams)\n",
    "    BP18NSRes = sample_single(BP18NSParams)"
   ]
  },
  {
   "cell_type": "markdown",
   "metadata": {},
   "source": [
    "# Analysis"
   ]
  },
  {
   "cell_type": "code",
   "execution_count": 34,
   "metadata": {},
   "outputs": [],
   "source": [
    "from utils import metrics\n",
    "from datasets import utils"
   ]
  },
  {
   "cell_type": "code",
   "execution_count": 35,
   "metadata": {},
   "outputs": [],
   "source": [
    "def analysis(ground_truth: np.array, samples: np.array, ds_name: str, nodes: int):\n",
    "    print(f\"Number of samples ({ds_name}):\", len(samples))\n",
    "    np.save(\"./results/samples/{ds_name}.npy\", samples)\n",
    "\n",
    "    graph_ground_truth = [utils.vec_to_graph(vec, nodes) for vec in ground_truth]\n",
    "    graph_generated = [utils.vec_to_graph(vec, nodes) for vec in samples]\n",
    "\n",
    "    vec_size = nodes * (nodes - 1) //2\n",
    "    edge_probability_truth     = np.mean([np.sum(vec)/ vec_size for vec in ground_truth])\n",
    "    edge_probability_generated = np.mean([np.sum(vec)/ vec_size for vec in samples])\n",
    "\n",
    "    print(\"Average edge probability for ground truth: \", edge_probability_truth)\n",
    "    print(\"Average edge probability for generated:\", edge_probability_generated)\n",
    "    print(\"\\tDifference: \", np.abs(edge_probability_truth- edge_probability_generated))\n",
    "\n",
    "    metrics.analyze_model_vs_dataset(graph_ground_truth, graph_generated)\n",
    "\n",
    "    bipartite_proportion_samples = metrics.bipartite_proportion(samples, nodes)\n",
    "    bipartite_proportion_truth = metrics.bipartite_proportion(ground_truth, nodes)\n",
    "\n",
    "    print(\"Proportion of bipartite graphs in the ground truth\", bipartite_proportion_truth * 100, \"%\")\n",
    "    print(\"Proportion of bipartite graphs in the grenerated samples\", bipartite_proportion_samples * 100, \"%\")\n",
    "\n",
    "    #memorized = metrics.memorized_proportion(graph_ground_truth, graph_generated)\n",
    "    #print(\"Memorized samples:\", memorized)\n",
    "\n",
    "    #unique_samples = metrics.unique_samples(graph_generated)\n",
    "    #print(\"Proportion of unique samples:\", unique_samples[1]* 100, \"%\")"
   ]
  },
  {
   "cell_type": "markdown",
   "metadata": {},
   "source": [
    "## 10 Node"
   ]
  },
  {
   "cell_type": "code",
   "execution_count": 36,
   "metadata": {},
   "outputs": [
    {
     "name": "stdout",
     "output_type": "stream",
     "text": [
      "Number of samples (ER10N): 512\n",
      "Average edge probability for ground truth:  0.19186666666666669\n",
      "Average edge probability for generated: 0.19778645833333333\n",
      "\tDifference:  0.005919791666666646\n",
      "\n",
      "=== Model vs Dataset Analysis ===\n",
      "\n",
      "1) Basic sizes & uniqueness\n",
      "   GT graphs       : 500\n",
      "   Generated graphs: 512\n",
      "   GT unique-adj  : 500\n",
      "   Gen unique-adj : 512\n",
      "   GT unique-iso  : 497\n",
      "   Gen unique-iso : 424\n",
      "\n",
      "2) Structural statistics (GT vs Gen)\n",
      "   Metric               GT       Gen       Δ        Ratio\n",
      "   Avg edges               8.63     8.90     0.27      1.03\n",
      "   Avg density             0.19     0.20     0.01      1.03\n",
      "   Conn. frac              0.15     0.18     0.04      1.24\n",
      "   #Comp                   2.80     2.77    -0.04      0.99\n",
      "   Bip frac                0.34     0.43     0.09      1.26\n",
      "   Bip density             0.31     0.29    -0.02      0.94\n",
      "\n",
      "3) Memorization & coverage\n",
      "   Precision (Gen→GT): 34.18%\n",
      "   Recall    (GT←Gen): 21.20%\n",
      "   Novel gen        : 337/512 (65.82%)\n",
      "   GT never seen    : 394/500 (78.80%)\n",
      "   Matches per GT   : avg 1.65, med 1.00, min 1, max 6\n",
      "\n",
      "4) Degree distribution divergences\n",
      "   Avg paired KL(deg): 3.1197\n",
      "   KL(GT→Gen)        : 0.0032\n",
      "   KL(Gen→GT)        : 0.0088\n",
      "   JS sym            : 0.0009\n",
      "\n",
      "===================================\n",
      "\n",
      "Proportion of bipartite graphs in the ground truth 33.800000000000004 %\n",
      "Proportion of bipartite graphs in the grenerated samples 42.578125 %\n"
     ]
    }
   ],
   "source": [
    "analysis(ER10N, ER10NRes, \"ER10N\", 10)"
   ]
  },
  {
   "cell_type": "code",
   "execution_count": 37,
   "metadata": {},
   "outputs": [
    {
     "name": "stdout",
     "output_type": "stream",
     "text": [
      "Number of samples (BP10N_Sparse): 512\n",
      "Average edge probability for ground truth:  0.1770730561428236\n",
      "Average edge probability for generated: 0.20208333333333334\n",
      "\tDifference:  0.025010277190509744\n",
      "\n",
      "=== Model vs Dataset Analysis ===\n",
      "\n",
      "1) Basic sizes & uniqueness\n",
      "   GT graphs       : 473\n",
      "   Generated graphs: 512\n",
      "   GT unique-adj  : 473\n",
      "   Gen unique-adj : 512\n",
      "   GT unique-iso  : 473\n",
      "   Gen unique-iso : 440\n",
      "\n",
      "2) Structural statistics (GT vs Gen)\n",
      "   Metric               GT       Gen       Δ        Ratio\n",
      "   Avg edges               7.97     9.09     1.13      1.14\n",
      "   Avg density             0.18     0.20     0.03      1.14\n",
      "   Conn. frac              0.11     0.20     0.09      1.78\n",
      "   #Comp                   2.85     2.73    -0.12      0.96\n",
      "   Bip frac                1.00     0.46    -0.54      0.46\n",
      "   Bip density             0.36     0.33    -0.03      0.92\n",
      "\n",
      "3) Memorization & coverage\n",
      "   Precision (Gen→GT): 36.13%\n",
      "   Recall    (GT←Gen): 26.43%\n",
      "   Novel gen        : 327/512 (63.87%)\n",
      "   GT never seen    : 348/473 (73.57%)\n",
      "   Matches per GT   : avg 1.48, med 1.00, min 1, max 5\n",
      "\n",
      "4) Degree distribution divergences\n",
      "   Avg paired KL(deg): 2.6293\n",
      "   KL(GT→Gen)        : 0.0303\n",
      "   KL(Gen→GT)        : 0.0358\n",
      "   JS sym            : 0.0081\n",
      "\n",
      "===================================\n",
      "\n",
      "Proportion of bipartite graphs in the ground truth 100.0 %\n",
      "Proportion of bipartite graphs in the grenerated samples 45.703125 %\n"
     ]
    }
   ],
   "source": [
    "analysis(BP10NS, BP10NSRes, \"BP10N_Sparse\", 10)"
   ]
  },
  {
   "cell_type": "code",
   "execution_count": 38,
   "metadata": {},
   "outputs": [
    {
     "name": "stdout",
     "output_type": "stream",
     "text": [
      "Number of samples (BP10N_Dense): 512\n",
      "Average edge probability for ground truth:  0.3469879518072289\n",
      "Average edge probability for generated: 0.4515190972222222\n",
      "\tDifference:  0.10453114541499331\n",
      "\n",
      "=== Model vs Dataset Analysis ===\n",
      "\n",
      "1) Basic sizes & uniqueness\n",
      "   GT graphs       : 498\n",
      "   Generated graphs: 512\n",
      "   GT unique-adj  : 498\n",
      "   Gen unique-adj : 512\n",
      "   GT unique-iso  : 498\n",
      "   Gen unique-iso : 511\n",
      "\n",
      "2) Structural statistics (GT vs Gen)\n",
      "   Metric               GT       Gen       Δ        Ratio\n",
      "   Avg edges              15.61    20.32     4.70      1.30\n",
      "   Avg density             0.35     0.45     0.10      1.30\n",
      "   Conn. frac              0.83     0.98     0.15      1.18\n",
      "   #Comp                   1.32     1.02    -0.29      0.78\n",
      "   Bip frac                1.00     0.01    -0.99      0.01\n",
      "   Bip density             0.69     0.67    -0.02      0.97\n",
      "\n",
      "3) Memorization & coverage\n",
      "   Precision (Gen→GT):  0.20%\n",
      "   Recall    (GT←Gen):  0.20%\n",
      "   Novel gen        : 511/512 (99.80%)\n",
      "   GT never seen    : 497/498 (99.80%)\n",
      "   Matches per GT   : avg 1.00, med 1.00, min 1, max 1\n",
      "\n",
      "4) Degree distribution divergences\n",
      "   Avg paired KL(deg): 5.8264\n",
      "   KL(GT→Gen)        : 0.2405\n",
      "   KL(Gen→GT)        : 0.2135\n",
      "   JS sym            : 0.0515\n",
      "\n",
      "===================================\n",
      "\n",
      "Proportion of bipartite graphs in the ground truth 100.0 %\n",
      "Proportion of bipartite graphs in the grenerated samples 0.78125 %\n"
     ]
    }
   ],
   "source": [
    "analysis(BP10ND, BP10NDRes, \"BP10N_Dense\", 10)"
   ]
  },
  {
   "cell_type": "markdown",
   "metadata": {},
   "source": [
    "## 14 Node"
   ]
  },
  {
   "cell_type": "code",
   "execution_count": 39,
   "metadata": {},
   "outputs": [
    {
     "name": "stdout",
     "output_type": "stream",
     "text": [
      "Number of samples (ER14N): 512\n",
      "Average edge probability for ground truth:  0.15745054945054943\n",
      "Average edge probability for generated: 0.18264938186813184\n",
      "\tDifference:  0.025198832417582417\n",
      "\n",
      "=== Model vs Dataset Analysis ===\n",
      "\n",
      "1) Basic sizes & uniqueness\n",
      "   GT graphs       : 1000\n",
      "   Generated graphs: 512\n",
      "   GT unique-adj  : 1000\n",
      "   Gen unique-adj : 512\n",
      "   GT unique-iso  : 999\n",
      "   Gen unique-iso : 512\n",
      "\n",
      "2) Structural statistics (GT vs Gen)\n",
      "   Metric               GT       Gen       Δ        Ratio\n",
      "   Avg edges              14.33    16.62     2.29      1.16\n",
      "   Avg density             0.16     0.18     0.03      1.16\n",
      "   Conn. frac              0.22     0.32     0.11      1.49\n",
      "   #Comp                   3.25     2.21    -1.04      0.68\n",
      "   Bip frac                0.28     0.09    -0.19      0.33\n",
      "   Bip density             0.20     0.25     0.04      1.22\n",
      "\n",
      "3) Memorization & coverage\n",
      "   Precision (Gen→GT):  0.20%\n",
      "   Recall    (GT←Gen):  0.10%\n",
      "   Novel gen        : 511/512 (99.80%)\n",
      "   GT never seen    : 999/1000 (99.90%)\n",
      "   Matches per GT   : avg 1.00, med 1.00, min 1, max 1\n",
      "\n",
      "4) Degree distribution divergences\n",
      "   KL(GT→Gen)        : 0.0316\n",
      "   KL(Gen→GT)        : 0.0298\n",
      "   JS sym            : 0.0076\n",
      "\n",
      "===================================\n",
      "\n",
      "Proportion of bipartite graphs in the ground truth 27.900000000000002 %\n",
      "Proportion of bipartite graphs in the grenerated samples 9.1796875 %\n"
     ]
    }
   ],
   "source": [
    "analysis(ER14N, ER14NRes, \"ER14N\", 14)"
   ]
  },
  {
   "cell_type": "code",
   "execution_count": 40,
   "metadata": {},
   "outputs": [
    {
     "name": "stdout",
     "output_type": "stream",
     "text": [
      "Number of samples (BP14N_Sparse): 512\n",
      "Average edge probability for ground truth:  0.10419128610083385\n",
      "Average edge probability for generated: 0.14375858516483517\n",
      "\tDifference:  0.03956729906400132\n",
      "\n",
      "=== Model vs Dataset Analysis ===\n",
      "\n",
      "1) Basic sizes & uniqueness\n",
      "   GT graphs       : 995\n",
      "   Generated graphs: 512\n",
      "   GT unique-adj  : 995\n",
      "   Gen unique-adj : 512\n",
      "   GT unique-iso  : 995\n",
      "   Gen unique-iso : 505\n",
      "\n",
      "2) Structural statistics (GT vs Gen)\n",
      "   Metric               GT       Gen       Δ        Ratio\n",
      "   Avg edges               9.48    13.08     3.60      1.38\n",
      "   Avg density             0.10     0.14     0.04      1.38\n",
      "   Conn. frac              0.01     0.10     0.09      9.36\n",
      "   #Comp                   5.19     3.48    -1.72      0.67\n",
      "   Bip frac                1.00     0.34    -0.66      0.34\n",
      "   Bip density             0.23     0.23    -0.00      0.98\n",
      "\n",
      "3) Memorization & coverage\n",
      "   Precision (Gen→GT): 10.74%\n",
      "   Recall    (GT←Gen):  4.82%\n",
      "   Novel gen        : 457/512 (89.26%)\n",
      "   GT never seen    : 947/995 (95.18%)\n",
      "   Matches per GT   : avg 1.15, med 1.00, min 1, max 3\n",
      "\n",
      "4) Degree distribution divergences\n",
      "   KL(GT→Gen)        : 0.0839\n",
      "   KL(Gen→GT)        : 0.0945\n",
      "   JS sym            : 0.0218\n",
      "\n",
      "===================================\n",
      "\n",
      "Proportion of bipartite graphs in the ground truth 100.0 %\n",
      "Proportion of bipartite graphs in the grenerated samples 34.1796875 %\n"
     ]
    }
   ],
   "source": [
    "analysis(BP14NS, BP14NSRes, \"BP14N_Sparse\", 14)"
   ]
  },
  {
   "cell_type": "code",
   "execution_count": 41,
   "metadata": {},
   "outputs": [
    {
     "name": "stdout",
     "output_type": "stream",
     "text": [
      "Number of samples (BP14N_Dense): 512\n",
      "Average edge probability for ground truth:  0.37265448119719474\n",
      "Average edge probability for generated: 0.4912860576923077\n",
      "\tDifference:  0.11863157649511297\n",
      "\n",
      "=== Model vs Dataset Analysis ===\n",
      "\n",
      "1) Basic sizes & uniqueness\n",
      "   GT graphs       : 995\n",
      "   Generated graphs: 512\n",
      "   GT unique-adj  : 995\n",
      "   Gen unique-adj : 512\n",
      "   GT unique-iso  : 995\n",
      "   Gen unique-iso : 512\n",
      "\n",
      "2) Structural statistics (GT vs Gen)\n",
      "   Metric               GT       Gen       Δ        Ratio\n",
      "   Avg edges              33.91    44.71    10.80      1.32\n",
      "   Avg density             0.37     0.49     0.12      1.32\n",
      "   Conn. frac              0.93     1.00     0.07      1.08\n",
      "   #Comp                   1.12     1.00    -0.12      0.89\n",
      "   Bip frac                1.00     0.00    -1.00      0.00\n",
      "   Bip density             0.78     0.00    -0.78      0.00\n",
      "\n",
      "3) Memorization & coverage\n",
      "   Precision (Gen→GT):  0.00%\n",
      "   Recall    (GT←Gen):  0.00%\n",
      "   Novel gen        : 512/512 (100.00%)\n",
      "   GT never seen    : 995/995 (100.00%)\n",
      "   Matches per GT   : avg 0.00, med 0.00, min 0, max 0\n",
      "\n",
      "4) Degree distribution divergences\n",
      "   KL(GT→Gen)        : 0.4363\n",
      "   KL(Gen→GT)        : 0.3084\n",
      "   JS sym            : 0.0764\n",
      "\n",
      "===================================\n",
      "\n",
      "Proportion of bipartite graphs in the ground truth 100.0 %\n",
      "Proportion of bipartite graphs in the grenerated samples 0.0 %\n"
     ]
    }
   ],
   "source": [
    "analysis(BP14ND, BP14NDRes, \"BP14N_Dense\", 14)"
   ]
  },
  {
   "cell_type": "markdown",
   "metadata": {},
   "source": [
    "## 18 Node"
   ]
  },
  {
   "cell_type": "code",
   "execution_count": 42,
   "metadata": {},
   "outputs": [
    {
     "name": "stdout",
     "output_type": "stream",
     "text": [
      "Number of samples (ER18N): 512\n",
      "Average edge probability for ground truth:  0.1496797385620915\n",
      "Average edge probability for generated: 0.1757174223856209\n",
      "\tDifference:  0.026037683823529417\n",
      "\n",
      "=== Model vs Dataset Analysis ===\n",
      "\n",
      "1) Basic sizes & uniqueness\n",
      "   GT graphs       : 1000\n",
      "   Generated graphs: 512\n",
      "   GT unique-adj  : 1000\n",
      "   Gen unique-adj : 512\n",
      "   GT unique-iso  : 1000\n",
      "   Gen unique-iso : 512\n",
      "\n",
      "2) Structural statistics (GT vs Gen)\n",
      "   Metric               GT       Gen       Δ        Ratio\n",
      "   Avg edges              22.90    26.88     3.98      1.17\n",
      "   Avg density             0.15     0.18     0.03      1.17\n",
      "   Conn. frac              0.36     0.46     0.10      1.29\n",
      "   #Comp                   3.28     1.82    -1.46      0.55\n",
      "   Bip frac                0.18     0.01    -0.16      0.08\n",
      "   Bip density             0.15     0.20     0.05      1.34\n",
      "\n",
      "3) Memorization & coverage\n",
      "   Precision (Gen→GT):  0.00%\n",
      "   Recall    (GT←Gen):  0.00%\n",
      "   Novel gen        : 512/512 (100.00%)\n",
      "   GT never seen    : 1000/1000 (100.00%)\n",
      "   Matches per GT   : avg 0.00, med 0.00, min 0, max 0\n",
      "\n",
      "4) Degree distribution divergences\n",
      "   KL(GT→Gen)        : 0.0604\n",
      "   KL(Gen→GT)        : 0.0522\n",
      "   JS sym            : 0.0138\n",
      "\n",
      "===================================\n",
      "\n",
      "Proportion of bipartite graphs in the ground truth 17.7 %\n",
      "Proportion of bipartite graphs in the grenerated samples 1.3671875 %\n"
     ]
    }
   ],
   "source": [
    "analysis(ER18N, ER18NRes, \"ER18N\", 18)"
   ]
  },
  {
   "cell_type": "code",
   "execution_count": 43,
   "metadata": {},
   "outputs": [
    {
     "name": "stdout",
     "output_type": "stream",
     "text": [
      "Number of samples (BP18N_Sparse): 512\n",
      "Average edge probability for ground truth:  0.07471537001897532\n",
      "Average edge probability for generated: 0.09449040032679738\n",
      "\tDifference:  0.01977503030782206\n",
      "\n",
      "=== Model vs Dataset Analysis ===\n",
      "\n",
      "1) Basic sizes & uniqueness\n",
      "   GT graphs       : 992\n",
      "   Generated graphs: 512\n",
      "   GT unique-adj  : 992\n",
      "   Gen unique-adj : 512\n",
      "   GT unique-iso  : 992\n",
      "   Gen unique-iso : 511\n",
      "\n",
      "2) Structural statistics (GT vs Gen)\n",
      "   Metric               GT       Gen       Δ        Ratio\n",
      "   Avg edges              11.43    14.46     3.03      1.26\n",
      "   Avg density             0.07     0.09     0.02      1.26\n",
      "   Conn. frac              0.01     0.02     0.00      1.29\n",
      "   #Comp                   7.38     5.48    -1.90      0.74\n",
      "   Bip frac                1.00     0.39    -0.61      0.39\n",
      "   Bip density             0.18     0.17    -0.01      0.95\n",
      "\n",
      "3) Memorization & coverage\n",
      "   Precision (Gen→GT):  4.88%\n",
      "   Recall    (GT←Gen):  2.42%\n",
      "   Novel gen        : 487/512 (95.12%)\n",
      "   GT never seen    : 968/992 (97.58%)\n",
      "   Matches per GT   : avg 1.04, med 1.00, min 1, max 2\n",
      "\n",
      "4) Degree distribution divergences\n",
      "   KL(GT→Gen)        : 0.0379\n",
      "   KL(Gen→GT)        : 0.0393\n",
      "   JS sym            : 0.0095\n",
      "\n",
      "===================================\n",
      "\n",
      "Proportion of bipartite graphs in the ground truth 100.0 %\n",
      "Proportion of bipartite graphs in the grenerated samples 39.453125 %\n"
     ]
    }
   ],
   "source": [
    "analysis(BP18NS, BP18NSRes, \"BP18N_Sparse\", 18)"
   ]
  },
  {
   "cell_type": "code",
   "execution_count": 44,
   "metadata": {},
   "outputs": [
    {
     "name": "stdout",
     "output_type": "stream",
     "text": [
      "Number of samples (BP18N_Dense): 512\n",
      "Average edge probability for ground truth:  0.3696521824810326\n",
      "Average edge probability for generated: 0.3495710784313725\n",
      "\tDifference:  0.020081104049660126\n",
      "\n",
      "=== Model vs Dataset Analysis ===\n",
      "\n",
      "1) Basic sizes & uniqueness\n",
      "   GT graphs       : 995\n",
      "   Generated graphs: 512\n",
      "   GT unique-adj  : 995\n",
      "   Gen unique-adj : 512\n",
      "   GT unique-iso  : 995\n",
      "   Gen unique-iso : 512\n",
      "\n",
      "2) Structural statistics (GT vs Gen)\n",
      "   Metric               GT       Gen       Δ        Ratio\n",
      "   Avg edges              56.56    53.48    -3.07      0.95\n",
      "   Avg density             0.37     0.35    -0.02      0.95\n",
      "   Conn. frac              0.95     0.95    -0.00      1.00\n",
      "   #Comp                   1.12     1.05    -0.07      0.94\n",
      "   Bip frac                1.00     0.00    -1.00      0.00\n",
      "   Bip density             0.81     0.00    -0.81      0.00\n",
      "\n",
      "3) Memorization & coverage\n",
      "   Precision (Gen→GT):  0.00%\n",
      "   Recall    (GT←Gen):  0.00%\n",
      "   Novel gen        : 512/512 (100.00%)\n",
      "   GT never seen    : 995/995 (100.00%)\n",
      "   Matches per GT   : avg 0.00, med 0.00, min 0, max 0\n",
      "\n",
      "4) Degree distribution divergences\n",
      "   KL(GT→Gen)        : 0.0332\n",
      "   KL(Gen→GT)        : 0.0274\n",
      "   JS sym            : 0.0070\n",
      "\n",
      "===================================\n",
      "\n",
      "Proportion of bipartite graphs in the ground truth 100.0 %\n",
      "Proportion of bipartite graphs in the grenerated samples 0.0 %\n"
     ]
    }
   ],
   "source": [
    "analysis(BP18ND, BP18NDRes, \"BP18N_Dense\", 18)"
   ]
  }
 ],
 "metadata": {
  "kernelspec": {
   "display_name": ".venv",
   "language": "python",
   "name": "python3"
  },
  "language_info": {
   "codemirror_mode": {
    "name": "ipython",
    "version": 3
   },
   "file_extension": ".py",
   "mimetype": "text/x-python",
   "name": "python",
   "nbconvert_exporter": "python",
   "pygments_lexer": "ipython3",
   "version": "3.12.6"
  }
 },
 "nbformat": 4,
 "nbformat_minor": 2
}
