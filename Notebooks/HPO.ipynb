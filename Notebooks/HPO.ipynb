{
 "cells": [
  {
   "cell_type": "markdown",
   "metadata": {},
   "source": [
    "# HPO"
   ]
  },
  {
   "cell_type": "code",
   "execution_count": 10,
   "metadata": {},
   "outputs": [
    {
     "name": "stdout",
     "output_type": "stream",
     "text": [
      "/Users/uribagi/Documents/GitHub\n"
     ]
    }
   ],
   "source": [
    "%cd .."
   ]
  },
  {
   "cell_type": "code",
   "execution_count": 11,
   "metadata": {},
   "outputs": [],
   "source": [
    "import iqpopt as iqp\n",
    "from iqpopt.utils import initialize_from_data, local_gates\n",
    "import iqpopt.gen_qml as genq\n",
    "from iqpopt.gen_qml.utils import median_heuristic\n",
    "import optuna\n",
    "import pennylane as qml\n",
    "import jax\n",
    "from jax import numpy as jnp\n",
    "from utils.nisq import create_grid_connectivity_manual, efficient_connectivity_gates\n",
    "from datasets.bipartites import BipartiteGraphDataset"
   ]
  },
  {
   "cell_type": "code",
   "execution_count": null,
   "metadata": {},
   "outputs": [
    {
     "name": "stdout",
     "output_type": "stream",
     "text": [
      "\n",
      "Bipartite Dataset (k=10, p=0.2, connected=True):\n",
      "Target samples: 2048, Generated samples: 2048\n",
      "Bipartite: 2048, Non-Bipartite: 0\n",
      "Target Ratio (Bipartite): 1.000, Actual Ratio: 1.000\n"
     ]
    }
   ],
   "source": [
    "nodes = 10\n",
    "grid_conn = create_grid_connectivity_manual()\n",
    "num_qubits = nodes * (nodes - 1) // 2\n",
    "gates = efficient_connectivity_gates(grid_conn, num_qubits, 1) \n",
    "circ = iqp.IqpSimulator(num_qubits, gates, device='lightning.qubit')\n",
    "\n",
    "train_dataset = BipartiteGraphDataset(num_samples=2048, # Full samples for objective\n",
    "                                      num_vertices=nodes,\n",
    "                                      ratio_bipartite=1.0,\n",
    "                                      edge_prob=0.2)\n",
    "train_ds, _ = train_dataset.get_all_data() \n",
    "train_ds = jnp.array(train_ds)\n",
    "base_key = jax.random.PRNGKey(42)"
   ]
  },
  {
   "cell_type": "code",
   "execution_count": 13,
   "metadata": {},
   "outputs": [],
   "source": [
    "base_sigma = median_heuristic(train_ds)\n",
    "base_params_init = initialize_from_data(gates, train_ds)"
   ]
  },
  {
   "cell_type": "code",
   "execution_count": 14,
   "metadata": {},
   "outputs": [],
   "source": [
    "def objective(trial: optuna.Trial) -> float:\n",
    "    learning_rate = trial.suggest_float(\"learning_rate\", 3e-5, 0.1, log=True)\n",
    "    sigma_multiplier = trial.suggest_float(\"sigma_multiplier\", 0.1, 2.0)\n",
    "    initialization_multiplier = trial.suggest_float(\"initialization_multiplier\", 1e-3, 1.0, log=True)\n",
    "\n",
    "    trial_key = jax.random.PRNGKey(42 + trial.number)\n",
    "\n",
    "    sigma = base_sigma * sigma_multiplier\n",
    "    params_init = base_params_init * initialization_multiplier\n",
    "\n",
    "    loss_kwarg = {\n",
    "        \"params\": params_init,\n",
    "        \"iqp_circuit\": circ, \n",
    "        \"ground_truth\": train_ds,\n",
    "        \"sigma\": [sigma],\n",
    "        \"n_ops\": 1000,   \n",
    "        \"n_samples\": 1000, \n",
    "        \"key\": trial_key,  \n",
    "    }\n",
    "\n",
    "    loss_function_to_use = genq.mmd_loss_iqp\n",
    "    trainer = iqp.Trainer(\"Adam\", loss_function_to_use, stepsize=learning_rate)\n",
    "\n",
    "    n_iters_hpo = 500 \n",
    "\n",
    "    print(f\"\\nTrial {trial.number}: LR={learning_rate:.6f}, SigmaM={sigma_multiplier:.4f}, InitM={initialization_multiplier:.6f}\")\n",
    "\n",
    "    try:\n",
    "        trainer.train(n_iters=n_iters_hpo, loss_kwargs=loss_kwarg, turbo=1)\n",
    "        final_loss = trainer.losses[-1]\n",
    "\n",
    "        # Handle NaN or Inf loss values\n",
    "        if jnp.isnan(final_loss) or jnp.isinf(final_loss) or final_loss > 1e10: # Added high loss check\n",
    "            print(f\"Trial {trial.number} resulted in unstable loss: {final_loss}\")\n",
    "            return float('inf') # Optuna will treat this as a bad trial\n",
    "\n",
    "        print(f\"Trial {trial.number} final loss: {final_loss:.8f}\")\n",
    "        return float(final_loss)\n",
    "\n",
    "    except Exception as e:\n",
    "        print(f\"Trial {trial.number} failed with exception: {e}\")\n",
    "        return float('inf') # Indicate failure"
   ]
  },
  {
   "cell_type": "code",
   "execution_count": 6,
   "metadata": {},
   "outputs": [
    {
     "name": "stderr",
     "output_type": "stream",
     "text": [
      "[I 2025-05-23 09:33:18,835] A new study created in memory with name: no-name-f912c6e1-a55f-43cf-befe-d6b715470541\n"
     ]
    },
    {
     "name": "stdout",
     "output_type": "stream",
     "text": [
      "\n",
      "Trial 0: LR=0.012833, SigmaM=1.3089, InitM=0.030444\n"
     ]
    },
    {
     "name": "stderr",
     "output_type": "stream",
     "text": [
      "Training Progress: 100%|██████████| 500/500 [00:04<00:00, 117.19it/s, loss=0.000002, elapsed time=0.01, total time=4.4]  \n",
      "[I 2025-05-23 09:33:23,237] Trial 0 finished with value: 1.915236727830007e-06 and parameters: {'learning_rate': 0.012832638548496927, 'sigma_multiplier': 1.3088837497396646, 'initialization_multiplier': 0.03044374039731815}. Best is trial 0 with value: 1.915236727830007e-06.\n"
     ]
    },
    {
     "name": "stdout",
     "output_type": "stream",
     "text": [
      "Training has not converged after 500 steps\n",
      "Trial 0 final loss: 0.00000192\n",
      "\n",
      "Trial 1: LR=0.001012, SigmaM=0.8205, InitM=0.003513\n"
     ]
    },
    {
     "name": "stderr",
     "output_type": "stream",
     "text": [
      "Training Progress: 100%|██████████| 500/500 [00:04<00:00, 103.33it/s, loss=0.012731, elapsed time=0.01, total time=4.85]\n",
      "[I 2025-05-23 09:33:28,089] Trial 1 finished with value: 0.012730698617965091 and parameters: {'learning_rate': 0.0010117441718181656, 'sigma_multiplier': 0.8204903856173144, 'initialization_multiplier': 0.0035127623549693985}. Best is trial 0 with value: 1.915236727830007e-06.\n"
     ]
    },
    {
     "name": "stdout",
     "output_type": "stream",
     "text": [
      "Training has not converged after 500 steps\n",
      "Trial 1 final loss: 0.01273070\n",
      "\n",
      "Trial 2: LR=0.000037, SigmaM=1.3544, InitM=0.049580\n"
     ]
    },
    {
     "name": "stderr",
     "output_type": "stream",
     "text": [
      "Training Progress: 100%|██████████| 500/500 [00:03<00:00, 127.31it/s, loss=0.168435, elapsed time=0.01, total time=3.94]\n",
      "[I 2025-05-23 09:33:32,029] Trial 2 finished with value: 0.16843520112008903 and parameters: {'learning_rate': 3.691709494084258e-05, 'sigma_multiplier': 1.354433918296948, 'initialization_multiplier': 0.04958048357823538}. Best is trial 0 with value: 1.915236727830007e-06.\n"
     ]
    },
    {
     "name": "stdout",
     "output_type": "stream",
     "text": [
      "Training has not converged after 500 steps\n",
      "Trial 2 final loss: 0.16843520\n",
      "\n",
      "Trial 3: LR=0.000462, SigmaM=1.6842, InitM=0.008536\n"
     ]
    },
    {
     "name": "stderr",
     "output_type": "stream",
     "text": [
      "Training Progress: 100%|██████████| 500/500 [00:03<00:00, 125.37it/s, loss=0.025724, elapsed time=0.01, total time=4]   \n",
      "[I 2025-05-23 09:33:36,029] Trial 3 finished with value: 0.025724470005269517 and parameters: {'learning_rate': 0.000461676693747496, 'sigma_multiplier': 1.6841527472893916, 'initialization_multiplier': 0.00853560865943586}. Best is trial 0 with value: 1.915236727830007e-06.\n"
     ]
    },
    {
     "name": "stdout",
     "output_type": "stream",
     "text": [
      "Training has not converged after 500 steps\n",
      "Trial 3 final loss: 0.02572447\n",
      "\n",
      "Trial 4: LR=0.000242, SigmaM=0.2510, InitM=0.001150\n"
     ]
    },
    {
     "name": "stderr",
     "output_type": "stream",
     "text": [
      "Training Progress: 100%|██████████| 500/500 [00:05<00:00, 99.78it/s, loss=0.142198, elapsed time=0.01, total time=5.02] \n",
      "[I 2025-05-23 09:33:41,052] Trial 4 finished with value: 0.14219814690336263 and parameters: {'learning_rate': 0.00024171527209625044, 'sigma_multiplier': 0.2509610644761041, 'initialization_multiplier': 0.0011502481616409335}. Best is trial 0 with value: 1.915236727830007e-06.\n"
     ]
    },
    {
     "name": "stdout",
     "output_type": "stream",
     "text": [
      "Training has not converged after 500 steps\n",
      "Trial 4 final loss: 0.14219815\n",
      "\n",
      "Trial 5: LR=0.023421, SigmaM=1.1780, InitM=0.262294\n"
     ]
    },
    {
     "name": "stderr",
     "output_type": "stream",
     "text": [
      "Training Progress: 100%|██████████| 500/500 [00:04<00:00, 114.67it/s, loss=0.000278, elapsed time=0.01, total time=4.37] \n",
      "[I 2025-05-23 09:33:45,425] Trial 5 finished with value: 0.00027772388785792944 and parameters: {'learning_rate': 0.02342143283244543, 'sigma_multiplier': 1.1780099229878298, 'initialization_multiplier': 0.2622943472406852}. Best is trial 0 with value: 1.915236727830007e-06.\n"
     ]
    },
    {
     "name": "stdout",
     "output_type": "stream",
     "text": [
      "Training has not converged after 500 steps\n",
      "Trial 5 final loss: 0.00027772\n",
      "\n",
      "Trial 6: LR=0.000057, SigmaM=0.2219, InitM=0.498344\n"
     ]
    },
    {
     "name": "stderr",
     "output_type": "stream",
     "text": [
      "Training Progress: 100%|██████████| 500/500 [00:05<00:00, 87.18it/s, loss=0.005333, elapsed time=0.01, total time=5.75]\n",
      "[I 2025-05-23 09:33:51,173] Trial 6 finished with value: 0.005333123104143053 and parameters: {'learning_rate': 5.713105209954115e-05, 'sigma_multiplier': 0.22194872837942795, 'initialization_multiplier': 0.49834369980310267}. Best is trial 0 with value: 1.915236727830007e-06.\n"
     ]
    },
    {
     "name": "stdout",
     "output_type": "stream",
     "text": [
      "Training has not converged after 500 steps\n",
      "Trial 6 final loss: 0.00533312\n",
      "\n",
      "Trial 7: LR=0.001259, SigmaM=0.5267, InitM=0.007519\n"
     ]
    },
    {
     "name": "stderr",
     "output_type": "stream",
     "text": [
      "Training Progress: 100%|██████████| 500/500 [00:05<00:00, 93.51it/s, loss=0.025481, elapsed time=0.01, total time=5.36] \n",
      "[I 2025-05-23 09:33:56,533] Trial 7 finished with value: 0.02548146790341638 and parameters: {'learning_rate': 0.0012585050883953176, 'sigma_multiplier': 0.5266725081996025, 'initialization_multiplier': 0.007519041891797529}. Best is trial 0 with value: 1.915236727830007e-06.\n"
     ]
    },
    {
     "name": "stdout",
     "output_type": "stream",
     "text": [
      "Training has not converged after 500 steps\n",
      "Trial 7 final loss: 0.02548147\n",
      "\n",
      "Trial 8: LR=0.023827, SigmaM=1.9766, InitM=0.014244\n"
     ]
    },
    {
     "name": "stderr",
     "output_type": "stream",
     "text": [
      "Training Progress: 100%|██████████| 500/500 [00:03<00:00, 125.26it/s, loss=0.000020, elapsed time=0.01, total time=4]    \n",
      "[I 2025-05-23 09:34:00,537] Trial 8 finished with value: 2.003051954610492e-05 and parameters: {'learning_rate': 0.023827314146034898, 'sigma_multiplier': 1.9766372926190028, 'initialization_multiplier': 0.014244075644921358}. Best is trial 0 with value: 1.915236727830007e-06.\n"
     ]
    },
    {
     "name": "stdout",
     "output_type": "stream",
     "text": [
      "Training has not converged after 500 steps\n",
      "Trial 8 final loss: 0.00002003\n",
      "\n",
      "Trial 9: LR=0.000041, SigmaM=1.2037, InitM=0.016528\n"
     ]
    },
    {
     "name": "stderr",
     "output_type": "stream",
     "text": [
      "Training Progress: 100%|██████████| 500/500 [00:03<00:00, 129.78it/s, loss=0.215386, elapsed time=0.01, total time=3.86]\n",
      "[I 2025-05-23 09:34:04,403] Trial 9 finished with value: 0.21538581113874367 and parameters: {'learning_rate': 4.079108759039968e-05, 'sigma_multiplier': 1.2036777578697242, 'initialization_multiplier': 0.01652830242717868}. Best is trial 0 with value: 1.915236727830007e-06.\n"
     ]
    },
    {
     "name": "stdout",
     "output_type": "stream",
     "text": [
      "Training has not converged after 500 steps\n",
      "Trial 9 final loss: 0.21538581\n",
      "\n",
      "Trial 10: LR=0.005515, SigmaM=0.7929, InitM=0.100312\n"
     ]
    },
    {
     "name": "stderr",
     "output_type": "stream",
     "text": [
      "Training Progress: 100%|██████████| 500/500 [00:04<00:00, 102.76it/s, loss=0.001600, elapsed time=0.01, total time=4.88]\n",
      "[I 2025-05-23 09:34:09,286] Trial 10 finished with value: 0.001599757217798682 and parameters: {'learning_rate': 0.005515230335605599, 'sigma_multiplier': 0.7929181363663985, 'initialization_multiplier': 0.10031222037305693}. Best is trial 0 with value: 1.915236727830007e-06.\n"
     ]
    },
    {
     "name": "stdout",
     "output_type": "stream",
     "text": [
      "Training has not converged after 500 steps\n",
      "Trial 10 final loss: 0.00159976\n",
      "\n",
      "Trial 11: LR=0.098296, SigmaM=1.9291, InitM=0.041761\n"
     ]
    },
    {
     "name": "stderr",
     "output_type": "stream",
     "text": [
      "Training Progress: 100%|██████████| 500/500 [00:04<00:00, 122.93it/s, loss=0.000151, elapsed time=0.01, total time=4.08] \n",
      "[I 2025-05-23 09:34:13,370] Trial 11 finished with value: 0.00015052769477838252 and parameters: {'learning_rate': 0.09829606888855258, 'sigma_multiplier': 1.9290897631189359, 'initialization_multiplier': 0.041760785317088114}. Best is trial 0 with value: 1.915236727830007e-06.\n"
     ]
    },
    {
     "name": "stdout",
     "output_type": "stream",
     "text": [
      "Training has not converged after 500 steps\n",
      "Trial 11 final loss: 0.00015053\n",
      "\n",
      "Trial 12: LR=0.010219, SigmaM=1.6064, InitM=0.102668\n"
     ]
    },
    {
     "name": "stderr",
     "output_type": "stream",
     "text": [
      "Training Progress: 100%|██████████| 500/500 [00:04<00:00, 122.32it/s, loss=-0.000035, elapsed time=0.01, total time=4.1] \n",
      "[I 2025-05-23 09:34:17,473] Trial 12 finished with value: -3.5148082050947684e-05 and parameters: {'learning_rate': 0.010219188088173773, 'sigma_multiplier': 1.60639773894921, 'initialization_multiplier': 0.10266823788694311}. Best is trial 12 with value: -3.5148082050947684e-05.\n"
     ]
    },
    {
     "name": "stdout",
     "output_type": "stream",
     "text": [
      "Training has not converged after 500 steps\n",
      "Trial 12 final loss: -0.00003515\n",
      "\n",
      "Trial 13: LR=0.006722, SigmaM=1.5321, InitM=0.147779\n"
     ]
    },
    {
     "name": "stderr",
     "output_type": "stream",
     "text": [
      "Training Progress: 100%|██████████| 500/500 [00:04<00:00, 121.06it/s, loss=0.000088, elapsed time=0.01, total time=4.14] \n",
      "[I 2025-05-23 09:34:21,619] Trial 13 finished with value: 8.836006523006575e-05 and parameters: {'learning_rate': 0.00672179895448946, 'sigma_multiplier': 1.5321328526000784, 'initialization_multiplier': 0.14777856197653266}. Best is trial 12 with value: -3.5148082050947684e-05.\n"
     ]
    },
    {
     "name": "stdout",
     "output_type": "stream",
     "text": [
      "Training has not converged after 500 steps\n",
      "Trial 13 final loss: 0.00008836\n",
      "\n",
      "Trial 14: LR=0.005276, SigmaM=1.5952, InitM=0.078270\n"
     ]
    },
    {
     "name": "stderr",
     "output_type": "stream",
     "text": [
      "Training Progress: 100%|██████████| 500/500 [00:04<00:00, 121.57it/s, loss=-0.000021, elapsed time=0.01, total time=4.12]\n",
      "[I 2025-05-23 09:34:25,748] Trial 14 finished with value: -2.1134703109418375e-05 and parameters: {'learning_rate': 0.005276484711169647, 'sigma_multiplier': 1.5952458157763285, 'initialization_multiplier': 0.0782698607097206}. Best is trial 12 with value: -3.5148082050947684e-05.\n"
     ]
    },
    {
     "name": "stdout",
     "output_type": "stream",
     "text": [
      "Training has not converged after 500 steps\n",
      "Trial 14 final loss: -0.00002113\n",
      "\n",
      "Trial 15: LR=0.003239, SigmaM=1.6517, InitM=0.987253\n"
     ]
    },
    {
     "name": "stderr",
     "output_type": "stream",
     "text": [
      "Training Progress: 100%|██████████| 500/500 [00:04<00:00, 120.84it/s, loss=0.000019, elapsed time=0.01, total time=4.15] \n",
      "[I 2025-05-23 09:34:29,902] Trial 15 finished with value: 1.920926131321315e-05 and parameters: {'learning_rate': 0.003238873978589766, 'sigma_multiplier': 1.6517047434990397, 'initialization_multiplier': 0.9872528519829906}. Best is trial 12 with value: -3.5148082050947684e-05.\n"
     ]
    },
    {
     "name": "stdout",
     "output_type": "stream",
     "text": [
      "Training has not converged after 500 steps\n",
      "Trial 15 final loss: 0.00001921\n",
      "\n",
      "Trial 16: LR=0.090135, SigmaM=0.9115, InitM=0.246813\n"
     ]
    },
    {
     "name": "stderr",
     "output_type": "stream",
     "text": [
      "Training Progress: 100%|██████████| 500/500 [00:04<00:00, 107.33it/s, loss=0.000577, elapsed time=0.01, total time=4.67]\n",
      "[I 2025-05-23 09:34:34,577] Trial 16 finished with value: 0.0005774626435745843 and parameters: {'learning_rate': 0.09013513803231192, 'sigma_multiplier': 0.9115052367301695, 'initialization_multiplier': 0.24681285777275525}. Best is trial 12 with value: -3.5148082050947684e-05.\n"
     ]
    },
    {
     "name": "stdout",
     "output_type": "stream",
     "text": [
      "Training has not converged after 500 steps\n",
      "Trial 16 final loss: 0.00057746\n",
      "\n",
      "Trial 17: LR=0.039400, SigmaM=1.7601, InitM=0.084245\n"
     ]
    },
    {
     "name": "stderr",
     "output_type": "stream",
     "text": [
      "Training Progress: 100%|██████████| 500/500 [00:04<00:00, 123.25it/s, loss=0.000010, elapsed time=0.01, total time=4.07] \n",
      "[I 2025-05-23 09:34:38,650] Trial 17 finished with value: 9.509038666038514e-06 and parameters: {'learning_rate': 0.03939970286648135, 'sigma_multiplier': 1.7601423529733249, 'initialization_multiplier': 0.0842450567829324}. Best is trial 12 with value: -3.5148082050947684e-05.\n"
     ]
    },
    {
     "name": "stdout",
     "output_type": "stream",
     "text": [
      "Training has not converged after 500 steps\n",
      "Trial 17 final loss: 0.00000951\n",
      "\n",
      "Trial 18: LR=0.002487, SigmaM=1.4572, InitM=0.217078\n"
     ]
    },
    {
     "name": "stderr",
     "output_type": "stream",
     "text": [
      "Training Progress: 100%|██████████| 500/500 [00:04<00:00, 113.92it/s, loss=0.000073, elapsed time=0.01, total time=4.4]  \n",
      "[I 2025-05-23 09:34:43,055] Trial 18 finished with value: 7.283363139526608e-05 and parameters: {'learning_rate': 0.002486929763636045, 'sigma_multiplier': 1.4572382371732882, 'initialization_multiplier': 0.21707781134472873}. Best is trial 12 with value: -3.5148082050947684e-05.\n"
     ]
    },
    {
     "name": "stdout",
     "output_type": "stream",
     "text": [
      "Training has not converged after 500 steps\n",
      "Trial 18 final loss: 0.00007283\n",
      "\n",
      "Trial 19: LR=0.007813, SigmaM=1.8336, InitM=0.067944\n"
     ]
    },
    {
     "name": "stderr",
     "output_type": "stream",
     "text": [
      "Training Progress: 100%|██████████| 500/500 [00:04<00:00, 123.52it/s, loss=0.000006, elapsed time=0.01, total time=4.06] \n",
      "[I 2025-05-23 09:34:47,120] Trial 19 finished with value: 6.3148207909206235e-06 and parameters: {'learning_rate': 0.007812828662321789, 'sigma_multiplier': 1.8336139755659144, 'initialization_multiplier': 0.06794436352634232}. Best is trial 12 with value: -3.5148082050947684e-05.\n"
     ]
    },
    {
     "name": "stdout",
     "output_type": "stream",
     "text": [
      "Training has not converged after 500 steps\n",
      "Trial 19 final loss: 0.00000631\n",
      "\n",
      "Trial 20: LR=0.000342, SigmaM=1.5148, InitM=0.490639\n"
     ]
    },
    {
     "name": "stderr",
     "output_type": "stream",
     "text": [
      "Training Progress: 100%|██████████| 500/500 [00:04<00:00, 119.76it/s, loss=0.003654, elapsed time=0.01, total time=4.19]\n",
      "[I 2025-05-23 09:34:51,311] Trial 20 finished with value: 0.003654371748071806 and parameters: {'learning_rate': 0.0003420418139304055, 'sigma_multiplier': 1.514751783480687, 'initialization_multiplier': 0.49063946838354855}. Best is trial 12 with value: -3.5148082050947684e-05.\n"
     ]
    },
    {
     "name": "stdout",
     "output_type": "stream",
     "text": [
      "Training has not converged after 500 steps\n",
      "Trial 20 final loss: 0.00365437\n",
      "\n",
      "Trial 21: LR=0.013474, SigmaM=1.2535, InitM=0.025069\n"
     ]
    },
    {
     "name": "stderr",
     "output_type": "stream",
     "text": [
      "Training Progress: 100%|██████████| 500/500 [00:04<00:00, 116.70it/s, loss=0.000138, elapsed time=0.01, total time=4.29] \n",
      "[I 2025-05-23 09:34:55,612] Trial 21 finished with value: 0.0001380125139395723 and parameters: {'learning_rate': 0.013473601816013299, 'sigma_multiplier': 1.2534520837896923, 'initialization_multiplier': 0.02506922866210462}. Best is trial 12 with value: -3.5148082050947684e-05.\n"
     ]
    },
    {
     "name": "stdout",
     "output_type": "stream",
     "text": [
      "Training has not converged after 500 steps\n",
      "Trial 21 final loss: 0.00013801\n",
      "\n",
      "Trial 22: LR=0.012456, SigmaM=1.3769, InitM=0.041829\n"
     ]
    },
    {
     "name": "stderr",
     "output_type": "stream",
     "text": [
      "Training Progress: 100%|██████████| 500/500 [00:04<00:00, 119.21it/s, loss=0.000047, elapsed time=0.01, total time=4.21] \n",
      "[I 2025-05-23 09:34:59,824] Trial 22 finished with value: 4.708973278283407e-05 and parameters: {'learning_rate': 0.012455912408278707, 'sigma_multiplier': 1.3769448272376297, 'initialization_multiplier': 0.0418285501045873}. Best is trial 12 with value: -3.5148082050947684e-05.\n"
     ]
    },
    {
     "name": "stdout",
     "output_type": "stream",
     "text": [
      "Training has not converged after 500 steps\n",
      "Trial 22 final loss: 0.00004709\n",
      "\n",
      "Trial 23: LR=0.034726, SigmaM=1.0514, InitM=0.023533\n"
     ]
    },
    {
     "name": "stderr",
     "output_type": "stream",
     "text": [
      "Training Progress: 100%|██████████| 500/500 [00:04<00:00, 111.46it/s, loss=0.000259, elapsed time=0.01, total time=4.5] \n",
      "[I 2025-05-23 09:35:04,327] Trial 23 finished with value: 0.00025857712838442615 and parameters: {'learning_rate': 0.034726447463392054, 'sigma_multiplier': 1.0513648520765864, 'initialization_multiplier': 0.023533380540131512}. Best is trial 12 with value: -3.5148082050947684e-05.\n"
     ]
    },
    {
     "name": "stdout",
     "output_type": "stream",
     "text": [
      "Training has not converged after 500 steps\n",
      "Trial 23 final loss: 0.00025858\n",
      "\n",
      "Trial 24: LR=0.004164, SigmaM=1.5887, InitM=0.147383\n"
     ]
    },
    {
     "name": "stderr",
     "output_type": "stream",
     "text": [
      "Training Progress: 100%|██████████| 500/500 [00:04<00:00, 121.32it/s, loss=0.000150, elapsed time=0.01, total time=4.13] \n",
      "[I 2025-05-23 09:35:08,465] Trial 24 finished with value: 0.00014982312134792356 and parameters: {'learning_rate': 0.004164003794890024, 'sigma_multiplier': 1.5887077519441306, 'initialization_multiplier': 0.1473831681966109}. Best is trial 12 with value: -3.5148082050947684e-05.\n"
     ]
    },
    {
     "name": "stdout",
     "output_type": "stream",
     "text": [
      "Training has not converged after 500 steps\n",
      "Trial 24 final loss: 0.00014982\n",
      "\n",
      "Trial 25: LR=0.012772, SigmaM=1.0372, InitM=0.067782\n"
     ]
    },
    {
     "name": "stderr",
     "output_type": "stream",
     "text": [
      "Training Progress: 100%|██████████| 500/500 [00:04<00:00, 111.88it/s, loss=0.000477, elapsed time=0.01, total time=4.48] \n",
      "[I 2025-05-23 09:35:12,951] Trial 25 finished with value: 0.0004765233497215047 and parameters: {'learning_rate': 0.012771668454744029, 'sigma_multiplier': 1.037232663650334, 'initialization_multiplier': 0.06778246872705317}. Best is trial 12 with value: -3.5148082050947684e-05.\n"
     ]
    },
    {
     "name": "stdout",
     "output_type": "stream",
     "text": [
      "Training has not converged after 500 steps\n",
      "Trial 25 final loss: 0.00047652\n",
      "\n",
      "Trial 26: LR=0.001813, SigmaM=1.8305, InitM=0.123449\n"
     ]
    },
    {
     "name": "stderr",
     "output_type": "stream",
     "text": [
      "Training Progress: 100%|██████████| 500/500 [00:04<00:00, 124.09it/s, loss=0.000081, elapsed time=0.01, total time=4.04]\n",
      "[I 2025-05-23 09:35:16,998] Trial 26 finished with value: 8.089563512051005e-05 and parameters: {'learning_rate': 0.0018126878710760556, 'sigma_multiplier': 1.830470328274953, 'initialization_multiplier': 0.12344930899567552}. Best is trial 12 with value: -3.5148082050947684e-05.\n"
     ]
    },
    {
     "name": "stdout",
     "output_type": "stream",
     "text": [
      "Training has not converged after 500 steps\n",
      "Trial 26 final loss: 0.00008090\n",
      "\n",
      "Trial 27: LR=0.000763, SigmaM=1.3591, InitM=0.004904\n"
     ]
    },
    {
     "name": "stderr",
     "output_type": "stream",
     "text": [
      "Training Progress: 100%|██████████| 500/500 [00:04<00:00, 120.99it/s, loss=0.011283, elapsed time=0.01, total time=4.14]\n",
      "[I 2025-05-23 09:35:21,147] Trial 27 finished with value: 0.011282813801269847 and parameters: {'learning_rate': 0.0007634413349251013, 'sigma_multiplier': 1.3591044587803578, 'initialization_multiplier': 0.004903969621855716}. Best is trial 12 with value: -3.5148082050947684e-05.\n"
     ]
    },
    {
     "name": "stdout",
     "output_type": "stream",
     "text": [
      "Training has not converged after 500 steps\n",
      "Trial 27 final loss: 0.01128281\n",
      "\n",
      "Trial 28: LR=0.047612, SigmaM=1.7255, InitM=0.028792\n"
     ]
    },
    {
     "name": "stderr",
     "output_type": "stream",
     "text": [
      "Training Progress: 100%|██████████| 500/500 [00:04<00:00, 121.48it/s, loss=0.000015, elapsed time=0.01, total time=4.13] \n",
      "[I 2025-05-23 09:35:25,280] Trial 28 finished with value: 1.4727752968930926e-05 and parameters: {'learning_rate': 0.047611613671649525, 'sigma_multiplier': 1.7255416013304423, 'initialization_multiplier': 0.028791851022689795}. Best is trial 12 with value: -3.5148082050947684e-05.\n"
     ]
    },
    {
     "name": "stdout",
     "output_type": "stream",
     "text": [
      "Training has not converged after 500 steps\n",
      "Trial 28 final loss: 0.00001473\n",
      "\n",
      "Trial 29: LR=0.009034, SigmaM=0.7424, InitM=0.001745\n"
     ]
    },
    {
     "name": "stderr",
     "output_type": "stream",
     "text": [
      "Training Progress: 100%|██████████| 500/500 [00:04<00:00, 101.08it/s, loss=0.000998, elapsed time=0.01, total time=4.96]\n",
      "[I 2025-05-23 09:35:30,243] Trial 29 finished with value: 0.0009982234118689438 and parameters: {'learning_rate': 0.00903365431655981, 'sigma_multiplier': 0.7424408182105178, 'initialization_multiplier': 0.0017450984204365127}. Best is trial 12 with value: -3.5148082050947684e-05.\n"
     ]
    },
    {
     "name": "stdout",
     "output_type": "stream",
     "text": [
      "Training has not converged after 500 steps\n",
      "Trial 29 final loss: 0.00099822\n",
      "\n",
      "Trial 30: LR=0.002757, SigmaM=1.0849, InitM=0.010847\n"
     ]
    },
    {
     "name": "stderr",
     "output_type": "stream",
     "text": [
      "Training Progress: 100%|██████████| 500/500 [00:04<00:00, 112.67it/s, loss=0.000418, elapsed time=0.01, total time=4.45]\n",
      "[I 2025-05-23 09:35:34,697] Trial 30 finished with value: 0.0004176860838359084 and parameters: {'learning_rate': 0.002757490086853991, 'sigma_multiplier': 1.0848615288703312, 'initialization_multiplier': 0.01084677261134234}. Best is trial 12 with value: -3.5148082050947684e-05.\n"
     ]
    },
    {
     "name": "stdout",
     "output_type": "stream",
     "text": [
      "Training has not converged after 500 steps\n",
      "Trial 30 final loss: 0.00041769\n",
      "\n",
      "Trial 31: LR=0.006991, SigmaM=1.9195, InitM=0.065949\n"
     ]
    },
    {
     "name": "stderr",
     "output_type": "stream",
     "text": [
      "Training Progress: 100%|██████████| 500/500 [00:03<00:00, 125.27it/s, loss=-0.000008, elapsed time=0.01, total time=4]   \n",
      "[I 2025-05-23 09:35:38,705] Trial 31 finished with value: -8.052464748090225e-06 and parameters: {'learning_rate': 0.006991398491757969, 'sigma_multiplier': 1.9194907851959682, 'initialization_multiplier': 0.06594907893454498}. Best is trial 12 with value: -3.5148082050947684e-05.\n"
     ]
    },
    {
     "name": "stdout",
     "output_type": "stream",
     "text": [
      "Training has not converged after 500 steps\n",
      "Trial 31 final loss: -0.00000805\n",
      "\n",
      "Trial 32: LR=0.020227, SigmaM=1.8660, InitM=0.054898\n"
     ]
    },
    {
     "name": "stderr",
     "output_type": "stream",
     "text": [
      "Training Progress: 100%|██████████| 500/500 [00:04<00:00, 124.59it/s, loss=0.000143, elapsed time=0.01, total time=4.02] \n",
      "[I 2025-05-23 09:35:42,736] Trial 32 finished with value: 0.00014297675082143875 and parameters: {'learning_rate': 0.020227370920089055, 'sigma_multiplier': 1.866040298103439, 'initialization_multiplier': 0.05489800770236267}. Best is trial 12 with value: -3.5148082050947684e-05.\n"
     ]
    },
    {
     "name": "stdout",
     "output_type": "stream",
     "text": [
      "Training has not converged after 500 steps\n",
      "Trial 32 final loss: 0.00014298\n",
      "\n",
      "Trial 33: LR=0.006555, SigmaM=1.4454, InitM=0.036478\n"
     ]
    },
    {
     "name": "stderr",
     "output_type": "stream",
     "text": [
      "Training Progress: 100%|██████████| 500/500 [00:04<00:00, 120.31it/s, loss=0.000070, elapsed time=0.01, total time=4.17] \n",
      "[I 2025-05-23 09:35:46,909] Trial 33 finished with value: 6.967592530937322e-05 and parameters: {'learning_rate': 0.006554809259348183, 'sigma_multiplier': 1.4454276073285943, 'initialization_multiplier': 0.036478427256500065}. Best is trial 12 with value: -3.5148082050947684e-05.\n"
     ]
    },
    {
     "name": "stdout",
     "output_type": "stream",
     "text": [
      "Training has not converged after 500 steps\n",
      "Trial 33 final loss: 0.00006968\n",
      "\n",
      "Trial 34: LR=0.004337, SigmaM=1.6261, InitM=0.093171\n"
     ]
    },
    {
     "name": "stderr",
     "output_type": "stream",
     "text": [
      "Training Progress: 100%|██████████| 500/500 [00:04<00:00, 118.57it/s, loss=-0.000084, elapsed time=0.01, total time=4.23]\n",
      "[I 2025-05-23 09:35:51,142] Trial 34 finished with value: -8.412434206135816e-05 and parameters: {'learning_rate': 0.0043372142938239095, 'sigma_multiplier': 1.626081178039477, 'initialization_multiplier': 0.09317090608282057}. Best is trial 34 with value: -8.412434206135816e-05.\n"
     ]
    },
    {
     "name": "stdout",
     "output_type": "stream",
     "text": [
      "Training has not converged after 500 steps\n",
      "Trial 34 final loss: -0.00008412\n",
      "\n",
      "Trial 35: LR=0.004565, SigmaM=1.6081, InitM=0.377855\n"
     ]
    },
    {
     "name": "stderr",
     "output_type": "stream",
     "text": [
      "Training Progress: 100%|██████████| 500/500 [00:04<00:00, 120.34it/s, loss=0.000189, elapsed time=0.01, total time=4.16] \n",
      "[I 2025-05-23 09:35:55,314] Trial 35 finished with value: 0.00018932011107828742 and parameters: {'learning_rate': 0.004564572047823692, 'sigma_multiplier': 1.608139953549094, 'initialization_multiplier': 0.37785466347688135}. Best is trial 34 with value: -8.412434206135816e-05.\n"
     ]
    },
    {
     "name": "stdout",
     "output_type": "stream",
     "text": [
      "Training has not converged after 500 steps\n",
      "Trial 35 final loss: 0.00018932\n",
      "\n",
      "Trial 36: LR=0.001466, SigmaM=1.9989, InitM=0.188852\n"
     ]
    },
    {
     "name": "stderr",
     "output_type": "stream",
     "text": [
      "Training Progress: 100%|██████████| 500/500 [00:04<00:00, 121.29it/s, loss=0.000509, elapsed time=0.01, total time=4.13]\n",
      "[I 2025-05-23 09:35:59,454] Trial 36 finished with value: 0.0005086068724746963 and parameters: {'learning_rate': 0.0014658680907861622, 'sigma_multiplier': 1.9988594109704465, 'initialization_multiplier': 0.1888515116695891}. Best is trial 34 with value: -8.412434206135816e-05.\n"
     ]
    },
    {
     "name": "stdout",
     "output_type": "stream",
     "text": [
      "Training has not converged after 500 steps\n",
      "Trial 36 final loss: 0.00050861\n",
      "\n",
      "Trial 37: LR=0.000116, SigmaM=1.7701, InitM=0.106186\n"
     ]
    },
    {
     "name": "stderr",
     "output_type": "stream",
     "text": [
      "Training Progress: 100%|██████████| 500/500 [00:04<00:00, 124.58it/s, loss=0.078004, elapsed time=0.01, total time=4.02]\n",
      "[I 2025-05-23 09:36:03,487] Trial 37 finished with value: 0.0780041932651523 and parameters: {'learning_rate': 0.00011619190204358716, 'sigma_multiplier': 1.770056246262335, 'initialization_multiplier': 0.10618639361489901}. Best is trial 34 with value: -8.412434206135816e-05.\n"
     ]
    },
    {
     "name": "stdout",
     "output_type": "stream",
     "text": [
      "Training has not converged after 500 steps\n",
      "Trial 37 final loss: 0.07800419\n",
      "\n",
      "Trial 38: LR=0.000642, SigmaM=1.6619, InitM=0.081281\n"
     ]
    },
    {
     "name": "stderr",
     "output_type": "stream",
     "text": [
      "Training Progress: 100%|██████████| 500/500 [00:03<00:00, 125.57it/s, loss=0.012431, elapsed time=0.01, total time=3.99]\n",
      "[I 2025-05-23 09:36:07,485] Trial 38 finished with value: 0.01243119830147089 and parameters: {'learning_rate': 0.0006423967448563857, 'sigma_multiplier': 1.6619378608288555, 'initialization_multiplier': 0.08128135828148139}. Best is trial 34 with value: -8.412434206135816e-05.\n"
     ]
    },
    {
     "name": "stdout",
     "output_type": "stream",
     "text": [
      "Training has not converged after 500 steps\n",
      "Trial 38 final loss: 0.01243120\n",
      "\n",
      "Trial 39: LR=0.002239, SigmaM=0.4123, InitM=0.317357\n"
     ]
    },
    {
     "name": "stderr",
     "output_type": "stream",
     "text": [
      "Training Progress: 100%|██████████| 500/500 [00:05<00:00, 87.81it/s, loss=0.003621, elapsed time=0.01, total time=5.7] \n",
      "[I 2025-05-23 09:36:13,196] Trial 39 finished with value: 0.0036207698529869214 and parameters: {'learning_rate': 0.0022390594301716976, 'sigma_multiplier': 0.4122908222158823, 'initialization_multiplier': 0.31735663575096573}. Best is trial 34 with value: -8.412434206135816e-05.\n"
     ]
    },
    {
     "name": "stdout",
     "output_type": "stream",
     "text": [
      "Training has not converged after 500 steps\n",
      "Trial 39 final loss: 0.00362077\n",
      "\n",
      "Trial 40: LR=0.017653, SigmaM=1.9096, InitM=0.053587\n"
     ]
    },
    {
     "name": "stderr",
     "output_type": "stream",
     "text": [
      "Training Progress: 100%|██████████| 500/500 [00:04<00:00, 121.35it/s, loss=-0.000056, elapsed time=0.01, total time=4.13]\n",
      "[I 2025-05-23 09:36:17,333] Trial 40 finished with value: -5.591385388085336e-05 and parameters: {'learning_rate': 0.017653237475814088, 'sigma_multiplier': 1.9096237126314444, 'initialization_multiplier': 0.053586708337238415}. Best is trial 34 with value: -8.412434206135816e-05.\n"
     ]
    },
    {
     "name": "stdout",
     "output_type": "stream",
     "text": [
      "Training has not converged after 500 steps\n",
      "Trial 40 final loss: -0.00005591\n",
      "\n",
      "Trial 41: LR=0.017569, SigmaM=1.8754, InitM=0.046619\n"
     ]
    },
    {
     "name": "stderr",
     "output_type": "stream",
     "text": [
      "Training Progress: 100%|██████████| 500/500 [00:04<00:00, 123.97it/s, loss=0.000096, elapsed time=0.01, total time=4.05] \n",
      "[I 2025-05-23 09:36:21,386] Trial 41 finished with value: 9.631354925610166e-05 and parameters: {'learning_rate': 0.017569483536881488, 'sigma_multiplier': 1.8753575501617614, 'initialization_multiplier': 0.04661871485086526}. Best is trial 34 with value: -8.412434206135816e-05.\n"
     ]
    },
    {
     "name": "stdout",
     "output_type": "stream",
     "text": [
      "Training has not converged after 500 steps\n",
      "Trial 41 final loss: 0.00009631\n",
      "\n",
      "Trial 42: LR=0.009086, SigmaM=1.7383, InitM=0.056840\n"
     ]
    },
    {
     "name": "stderr",
     "output_type": "stream",
     "text": [
      "Training Progress: 100%|██████████| 500/500 [00:04<00:00, 123.05it/s, loss=-0.000011, elapsed time=0.01, total time=4.07]\n",
      "[I 2025-05-23 09:36:25,468] Trial 42 finished with value: -1.126367383362522e-05 and parameters: {'learning_rate': 0.009086086758176862, 'sigma_multiplier': 1.7383197403228157, 'initialization_multiplier': 0.05683951002947556}. Best is trial 34 with value: -8.412434206135816e-05.\n"
     ]
    },
    {
     "name": "stdout",
     "output_type": "stream",
     "text": [
      "Training has not converged after 500 steps\n",
      "Trial 42 final loss: -0.00001126\n",
      "\n",
      "Trial 43: LR=0.009926, SigmaM=1.7185, InitM=0.019206\n"
     ]
    },
    {
     "name": "stderr",
     "output_type": "stream",
     "text": [
      "Training Progress: 100%|██████████| 500/500 [00:04<00:00, 123.09it/s, loss=0.000070, elapsed time=0.01, total time=4.07] \n",
      "[I 2025-05-23 09:36:29,547] Trial 43 finished with value: 6.994470870943629e-05 and parameters: {'learning_rate': 0.009925513945754645, 'sigma_multiplier': 1.718510360739983, 'initialization_multiplier': 0.019206184510286425}. Best is trial 34 with value: -8.412434206135816e-05.\n"
     ]
    },
    {
     "name": "stdout",
     "output_type": "stream",
     "text": [
      "Training has not converged after 500 steps\n",
      "Trial 43 final loss: 0.00006994\n",
      "\n",
      "Trial 44: LR=0.003895, SigmaM=1.5418, InitM=0.168517\n"
     ]
    },
    {
     "name": "stderr",
     "output_type": "stream",
     "text": [
      "Training Progress: 100%|██████████| 500/500 [00:04<00:00, 119.91it/s, loss=0.000408, elapsed time=0.01, total time=4.18] \n",
      "[I 2025-05-23 09:36:33,734] Trial 44 finished with value: 0.00040820542976329453 and parameters: {'learning_rate': 0.003894747187558843, 'sigma_multiplier': 1.5418244866857973, 'initialization_multiplier': 0.168517166189513}. Best is trial 34 with value: -8.412434206135816e-05.\n"
     ]
    },
    {
     "name": "stdout",
     "output_type": "stream",
     "text": [
      "Training has not converged after 500 steps\n",
      "Trial 44 final loss: 0.00040821\n",
      "\n",
      "Trial 45: LR=0.024860, SigmaM=1.4574, InitM=0.095658\n"
     ]
    },
    {
     "name": "stderr",
     "output_type": "stream",
     "text": [
      "Training Progress: 100%|██████████| 500/500 [00:04<00:00, 120.27it/s, loss=0.000038, elapsed time=0.01, total time=4.17] \n",
      "[I 2025-05-23 09:36:37,909] Trial 45 finished with value: 3.831751465667752e-05 and parameters: {'learning_rate': 0.02486030681403464, 'sigma_multiplier': 1.4573986848727247, 'initialization_multiplier': 0.09565785184202795}. Best is trial 34 with value: -8.412434206135816e-05.\n"
     ]
    },
    {
     "name": "stdout",
     "output_type": "stream",
     "text": [
      "Training has not converged after 500 steps\n",
      "Trial 45 final loss: 0.00003832\n",
      "\n",
      "Trial 46: LR=0.052233, SigmaM=1.7916, InitM=0.032743\n"
     ]
    },
    {
     "name": "stderr",
     "output_type": "stream",
     "text": [
      "Training Progress: 100%|██████████| 500/500 [00:04<00:00, 117.46it/s, loss=-0.000048, elapsed time=0.01, total time=4.27]\n",
      "[I 2025-05-23 09:36:42,182] Trial 46 finished with value: -4.831281924196857e-05 and parameters: {'learning_rate': 0.052232876936047314, 'sigma_multiplier': 1.7916353272620789, 'initialization_multiplier': 0.032742701861323546}. Best is trial 34 with value: -8.412434206135816e-05.\n"
     ]
    },
    {
     "name": "stdout",
     "output_type": "stream",
     "text": [
      "Training has not converged after 500 steps\n",
      "Trial 46 final loss: -0.00004831\n",
      "\n",
      "Trial 47: LR=0.062764, SigmaM=1.3013, InitM=0.032447\n"
     ]
    },
    {
     "name": "stderr",
     "output_type": "stream",
     "text": [
      "Training Progress: 100%|██████████| 500/500 [00:04<00:00, 117.56it/s, loss=0.000317, elapsed time=0.01, total time=4.26] \n",
      "[I 2025-05-23 09:36:46,454] Trial 47 finished with value: 0.0003169114896307301 and parameters: {'learning_rate': 0.06276359444272551, 'sigma_multiplier': 1.3012903718711342, 'initialization_multiplier': 0.03244744508799495}. Best is trial 34 with value: -8.412434206135816e-05.\n"
     ]
    },
    {
     "name": "stdout",
     "output_type": "stream",
     "text": [
      "Training has not converged after 500 steps\n",
      "Trial 47 final loss: 0.00031691\n",
      "\n",
      "Trial 48: LR=0.030703, SigmaM=1.6135, InitM=0.012404\n"
     ]
    },
    {
     "name": "stderr",
     "output_type": "stream",
     "text": [
      "Training Progress: 100%|██████████| 500/500 [00:04<00:00, 118.94it/s, loss=0.000039, elapsed time=0.01, total time=4.21] \n",
      "[I 2025-05-23 09:36:50,675] Trial 48 finished with value: 3.9219820216607326e-05 and parameters: {'learning_rate': 0.030702964026279842, 'sigma_multiplier': 1.6134852393484247, 'initialization_multiplier': 0.012403858544897202}. Best is trial 34 with value: -8.412434206135816e-05.\n"
     ]
    },
    {
     "name": "stdout",
     "output_type": "stream",
     "text": [
      "Training has not converged after 500 steps\n",
      "Trial 48 final loss: 0.00003922\n",
      "\n",
      "Trial 49: LR=0.067289, SigmaM=1.7917, InitM=0.018250\n"
     ]
    },
    {
     "name": "stderr",
     "output_type": "stream",
     "text": [
      "Training Progress: 100%|██████████| 500/500 [00:04<00:00, 120.24it/s, loss=0.000020, elapsed time=0.01, total time=4.17] \n",
      "[I 2025-05-23 09:36:54,851] Trial 49 finished with value: 1.989464882160932e-05 and parameters: {'learning_rate': 0.06728867788805765, 'sigma_multiplier': 1.7916864662531966, 'initialization_multiplier': 0.018250302451587482}. Best is trial 34 with value: -8.412434206135816e-05.\n"
     ]
    },
    {
     "name": "stdout",
     "output_type": "stream",
     "text": [
      "Training has not converged after 500 steps\n",
      "Trial 49 final loss: 0.00001989\n",
      "\n",
      "Trial 50: LR=0.018196, SigmaM=1.9569, InitM=0.008578\n"
     ]
    },
    {
     "name": "stderr",
     "output_type": "stream",
     "text": [
      "Training Progress: 100%|██████████| 500/500 [00:04<00:00, 123.46it/s, loss=0.000088, elapsed time=0.01, total time=4.06] \n",
      "[I 2025-05-23 09:36:58,918] Trial 50 finished with value: 8.810117236543184e-05 and parameters: {'learning_rate': 0.018196340544285445, 'sigma_multiplier': 1.9568557831262434, 'initialization_multiplier': 0.008578209884754152}. Best is trial 34 with value: -8.412434206135816e-05.\n"
     ]
    },
    {
     "name": "stdout",
     "output_type": "stream",
     "text": [
      "Training has not converged after 500 steps\n",
      "Trial 50 final loss: 0.00008810\n",
      "\n",
      "Trial 51: LR=0.004958, SigmaM=1.6848, InitM=0.050298\n"
     ]
    },
    {
     "name": "stderr",
     "output_type": "stream",
     "text": [
      "Training Progress: 100%|██████████| 500/500 [00:04<00:00, 120.98it/s, loss=0.000162, elapsed time=0.01, total time=4.14] \n",
      "[I 2025-05-23 09:37:03,067] Trial 51 finished with value: 0.0001624322873675641 and parameters: {'learning_rate': 0.004958017487296598, 'sigma_multiplier': 1.6847688690785771, 'initialization_multiplier': 0.05029774256481258}. Best is trial 34 with value: -8.412434206135816e-05.\n"
     ]
    },
    {
     "name": "stdout",
     "output_type": "stream",
     "text": [
      "Training has not converged after 500 steps\n",
      "Trial 51 final loss: 0.00016243\n",
      "\n",
      "Trial 52: LR=0.010929, SigmaM=1.7734, InitM=0.125639\n"
     ]
    },
    {
     "name": "stderr",
     "output_type": "stream",
     "text": [
      "Training Progress: 100%|██████████| 500/500 [00:04<00:00, 121.97it/s, loss=0.000083, elapsed time=0.01, total time=4.11] \n",
      "[I 2025-05-23 09:37:07,188] Trial 52 finished with value: 8.338373176682281e-05 and parameters: {'learning_rate': 0.010929437500940336, 'sigma_multiplier': 1.7733956099648234, 'initialization_multiplier': 0.12563852057460007}. Best is trial 34 with value: -8.412434206135816e-05.\n"
     ]
    },
    {
     "name": "stdout",
     "output_type": "stream",
     "text": [
      "Training has not converged after 500 steps\n",
      "Trial 52 final loss: 0.00008338\n",
      "\n",
      "Trial 53: LR=0.014441, SigmaM=1.8989, InitM=0.062297\n"
     ]
    },
    {
     "name": "stderr",
     "output_type": "stream",
     "text": [
      "Training Progress: 100%|██████████| 500/500 [00:04<00:00, 123.65it/s, loss=-0.000041, elapsed time=0.01, total time=4.05]\n",
      "[I 2025-05-23 09:37:11,249] Trial 53 finished with value: -4.131872462539913e-05 and parameters: {'learning_rate': 0.014440879813356006, 'sigma_multiplier': 1.8989493985973007, 'initialization_multiplier': 0.06229740073254679}. Best is trial 34 with value: -8.412434206135816e-05.\n"
     ]
    },
    {
     "name": "stdout",
     "output_type": "stream",
     "text": [
      "Training has not converged after 500 steps\n",
      "Trial 53 final loss: -0.00004132\n",
      "\n",
      "Trial 54: LR=0.048166, SigmaM=1.9042, InitM=0.070506\n"
     ]
    },
    {
     "name": "stderr",
     "output_type": "stream",
     "text": [
      "Training Progress: 100%|██████████| 500/500 [00:04<00:00, 123.74it/s, loss=0.000057, elapsed time=0.01, total time=4.05] \n",
      "[I 2025-05-23 09:37:15,306] Trial 54 finished with value: 5.667644236596907e-05 and parameters: {'learning_rate': 0.04816603960982331, 'sigma_multiplier': 1.9042083659166569, 'initialization_multiplier': 0.07050640420964788}. Best is trial 34 with value: -8.412434206135816e-05.\n"
     ]
    },
    {
     "name": "stdout",
     "output_type": "stream",
     "text": [
      "Training has not converged after 500 steps\n",
      "Trial 54 final loss: 0.00005668\n",
      "\n",
      "Trial 55: LR=0.014596, SigmaM=1.9952, InitM=0.032760\n"
     ]
    },
    {
     "name": "stderr",
     "output_type": "stream",
     "text": [
      "Training Progress: 100%|██████████| 500/500 [00:03<00:00, 125.73it/s, loss=-0.000010, elapsed time=0.01, total time=3.99]\n",
      "[I 2025-05-23 09:37:19,301] Trial 55 finished with value: -9.671429365317373e-06 and parameters: {'learning_rate': 0.014596443689064244, 'sigma_multiplier': 1.9951671441169991, 'initialization_multiplier': 0.0327602134025643}. Best is trial 34 with value: -8.412434206135816e-05.\n"
     ]
    },
    {
     "name": "stdout",
     "output_type": "stream",
     "text": [
      "Training has not converged after 500 steps\n",
      "Trial 55 final loss: -0.00000967\n",
      "\n",
      "Trial 56: LR=0.027546, SigmaM=1.5318, InitM=0.092538\n"
     ]
    },
    {
     "name": "stderr",
     "output_type": "stream",
     "text": [
      "Training Progress: 100%|██████████| 500/500 [00:04<00:00, 121.34it/s, loss=-0.000021, elapsed time=0.01, total time=4.13]\n",
      "[I 2025-05-23 09:37:23,439] Trial 56 finished with value: -2.053716460362106e-05 and parameters: {'learning_rate': 0.027546360713267062, 'sigma_multiplier': 1.5317733521284356, 'initialization_multiplier': 0.09253828259949898}. Best is trial 34 with value: -8.412434206135816e-05.\n"
     ]
    },
    {
     "name": "stdout",
     "output_type": "stream",
     "text": [
      "Training has not converged after 500 steps\n",
      "Trial 56 final loss: -0.00002054\n",
      "\n",
      "Trial 57: LR=0.005798, SigmaM=1.8454, InitM=0.118583\n"
     ]
    },
    {
     "name": "stderr",
     "output_type": "stream",
     "text": [
      "Training Progress: 100%|██████████| 500/500 [00:04<00:00, 124.37it/s, loss=0.000000, elapsed time=0.01, total time=4.03] \n",
      "[I 2025-05-23 09:37:27,476] Trial 57 finished with value: 1.143452318187676e-07 and parameters: {'learning_rate': 0.005798457271533149, 'sigma_multiplier': 1.845391402402715, 'initialization_multiplier': 0.11858347152235998}. Best is trial 34 with value: -8.412434206135816e-05.\n"
     ]
    },
    {
     "name": "stdout",
     "output_type": "stream",
     "text": [
      "Training has not converged after 500 steps\n",
      "Trial 57 final loss: 0.00000011\n",
      "\n",
      "Trial 58: LR=0.003382, SigmaM=1.6473, InitM=0.022420\n"
     ]
    },
    {
     "name": "stderr",
     "output_type": "stream",
     "text": [
      "Training Progress: 100%|██████████| 500/500 [00:04<00:00, 122.22it/s, loss=0.000219, elapsed time=0.01, total time=4.1]  \n",
      "[I 2025-05-23 09:37:31,586] Trial 58 finished with value: 0.00021935877481611015 and parameters: {'learning_rate': 0.003382047086831277, 'sigma_multiplier': 1.6472644053930554, 'initialization_multiplier': 0.022419874963658375}. Best is trial 34 with value: -8.412434206135816e-05.\n"
     ]
    },
    {
     "name": "stdout",
     "output_type": "stream",
     "text": [
      "Training has not converged after 500 steps\n",
      "Trial 58 final loss: 0.00021936\n",
      "\n",
      "Trial 59: LR=0.017759, SigmaM=1.4321, InitM=0.040692\n"
     ]
    },
    {
     "name": "stderr",
     "output_type": "stream",
     "text": [
      "Training Progress: 100%|██████████| 500/500 [00:04<00:00, 120.10it/s, loss=0.000055, elapsed time=0.01, total time=4.17] \n",
      "[I 2025-05-23 09:37:35,766] Trial 59 finished with value: 5.4887192244799966e-05 and parameters: {'learning_rate': 0.017759402961029055, 'sigma_multiplier': 1.4321067937409107, 'initialization_multiplier': 0.04069161545533054}. Best is trial 34 with value: -8.412434206135816e-05.\n"
     ]
    },
    {
     "name": "stdout",
     "output_type": "stream",
     "text": [
      "Training has not converged after 500 steps\n",
      "Trial 59 final loss: 0.00005489\n",
      "\n",
      "Trial 60: LR=0.045815, SigmaM=1.1731, InitM=0.222450\n"
     ]
    },
    {
     "name": "stderr",
     "output_type": "stream",
     "text": [
      "Training Progress: 100%|██████████| 500/500 [00:04<00:00, 113.46it/s, loss=0.000126, elapsed time=0.01, total time=4.42] \n",
      "[I 2025-05-23 09:37:40,191] Trial 60 finished with value: 0.00012636990869006664 and parameters: {'learning_rate': 0.04581487180447768, 'sigma_multiplier': 1.1731414981264248, 'initialization_multiplier': 0.22245047836034595}. Best is trial 34 with value: -8.412434206135816e-05.\n"
     ]
    },
    {
     "name": "stdout",
     "output_type": "stream",
     "text": [
      "Training has not converged after 500 steps\n",
      "Trial 60 final loss: 0.00012637\n",
      "\n",
      "Trial 61: LR=0.067615, SigmaM=1.5520, InitM=0.086675\n"
     ]
    },
    {
     "name": "stderr",
     "output_type": "stream",
     "text": [
      "Training Progress: 100%|██████████| 500/500 [00:04<00:00, 119.41it/s, loss=0.000043, elapsed time=0.01, total time=4.2]  \n",
      "[I 2025-05-23 09:37:44,396] Trial 61 finished with value: 4.317517791448227e-05 and parameters: {'learning_rate': 0.06761497209802249, 'sigma_multiplier': 1.552028670179066, 'initialization_multiplier': 0.08667464037285066}. Best is trial 34 with value: -8.412434206135816e-05.\n"
     ]
    },
    {
     "name": "stdout",
     "output_type": "stream",
     "text": [
      "Training has not converged after 500 steps\n",
      "Trial 61 final loss: 0.00004318\n",
      "\n",
      "Trial 62: LR=0.029122, SigmaM=1.5019, InitM=0.144629\n"
     ]
    },
    {
     "name": "stderr",
     "output_type": "stream",
     "text": [
      "Training Progress: 100%|██████████| 500/500 [00:04<00:00, 119.91it/s, loss=0.000212, elapsed time=0.01, total time=4.18] \n",
      "[I 2025-05-23 09:37:48,584] Trial 62 finished with value: 0.00021166340688338797 and parameters: {'learning_rate': 0.029121883009207095, 'sigma_multiplier': 1.5019369712511448, 'initialization_multiplier': 0.1446291605585411}. Best is trial 34 with value: -8.412434206135816e-05.\n"
     ]
    },
    {
     "name": "stdout",
     "output_type": "stream",
     "text": [
      "Training has not converged after 500 steps\n",
      "Trial 62 final loss: 0.00021166\n",
      "\n",
      "Trial 63: LR=0.022209, SigmaM=1.8205, InitM=0.058480\n"
     ]
    },
    {
     "name": "stderr",
     "output_type": "stream",
     "text": [
      "Training Progress: 100%|██████████| 500/500 [00:04<00:00, 117.03it/s, loss=0.000011, elapsed time=0.01, total time=4.28] \n",
      "[I 2025-05-23 09:37:52,874] Trial 63 finished with value: 1.0914100984077265e-05 and parameters: {'learning_rate': 0.02220919350520555, 'sigma_multiplier': 1.8205121474251487, 'initialization_multiplier': 0.05848009623943728}. Best is trial 34 with value: -8.412434206135816e-05.\n"
     ]
    },
    {
     "name": "stdout",
     "output_type": "stream",
     "text": [
      "Training has not converged after 500 steps\n",
      "Trial 63 final loss: 0.00001091\n",
      "\n",
      "Trial 64: LR=0.035626, SigmaM=1.7037, InitM=0.100011\n"
     ]
    },
    {
     "name": "stderr",
     "output_type": "stream",
     "text": [
      "Training Progress: 100%|██████████| 500/500 [00:04<00:00, 120.43it/s, loss=-0.000045, elapsed time=0.01, total time=4.16]\n",
      "[I 2025-05-23 09:37:57,044] Trial 64 finished with value: -4.466955463599546e-05 and parameters: {'learning_rate': 0.035626084147192344, 'sigma_multiplier': 1.7036533155094786, 'initialization_multiplier': 0.1000110292265513}. Best is trial 34 with value: -8.412434206135816e-05.\n"
     ]
    },
    {
     "name": "stdout",
     "output_type": "stream",
     "text": [
      "Training has not converged after 500 steps\n",
      "Trial 64 final loss: -0.00004467\n",
      "\n",
      "Trial 65: LR=0.037869, SigmaM=1.6780, InitM=0.075410\n"
     ]
    },
    {
     "name": "stderr",
     "output_type": "stream",
     "text": [
      "Training Progress: 100%|██████████| 500/500 [00:04<00:00, 119.57it/s, loss=-0.000026, elapsed time=0.01, total time=4.19]\n",
      "[I 2025-05-23 09:38:01,243] Trial 65 finished with value: -2.6423086152276493e-05 and parameters: {'learning_rate': 0.0378693881811633, 'sigma_multiplier': 1.6779534501835096, 'initialization_multiplier': 0.07540958866862221}. Best is trial 34 with value: -8.412434206135816e-05.\n"
     ]
    },
    {
     "name": "stdout",
     "output_type": "stream",
     "text": [
      "Training has not converged after 500 steps\n",
      "Trial 65 final loss: -0.00002642\n",
      "\n",
      "Trial 66: LR=0.039991, SigmaM=1.6988, InitM=0.046751\n"
     ]
    },
    {
     "name": "stderr",
     "output_type": "stream",
     "text": [
      "Training Progress: 100%|██████████| 500/500 [00:04<00:00, 112.44it/s, loss=0.000062, elapsed time=0.01, total time=4.46] \n",
      "[I 2025-05-23 09:38:05,708] Trial 66 finished with value: 6.160887389743335e-05 and parameters: {'learning_rate': 0.039990728271771, 'sigma_multiplier': 1.698813082721866, 'initialization_multiplier': 0.04675092949579948}. Best is trial 34 with value: -8.412434206135816e-05.\n"
     ]
    },
    {
     "name": "stdout",
     "output_type": "stream",
     "text": [
      "Training has not converged after 500 steps\n",
      "Trial 66 final loss: 0.00006161\n",
      "\n",
      "Trial 67: LR=0.076352, SigmaM=1.9163, InitM=0.027946\n"
     ]
    },
    {
     "name": "stderr",
     "output_type": "stream",
     "text": [
      "Training Progress: 100%|██████████| 500/500 [00:04<00:00, 115.16it/s, loss=0.000027, elapsed time=0.01, total time=4.35] \n",
      "[I 2025-05-23 09:38:10,067] Trial 67 finished with value: 2.6790713444637416e-05 and parameters: {'learning_rate': 0.07635169364154905, 'sigma_multiplier': 1.916256942421798, 'initialization_multiplier': 0.027946051530692396}. Best is trial 34 with value: -8.412434206135816e-05.\n"
     ]
    },
    {
     "name": "stdout",
     "output_type": "stream",
     "text": [
      "Training has not converged after 500 steps\n",
      "Trial 67 final loss: 0.00002679\n",
      "\n",
      "Trial 68: LR=0.035953, SigmaM=1.7927, InitM=0.174417\n"
     ]
    },
    {
     "name": "stderr",
     "output_type": "stream",
     "text": [
      "Training Progress: 100%|██████████| 500/500 [00:04<00:00, 112.08it/s, loss=0.000033, elapsed time=0.01, total time=4.47] \n",
      "[I 2025-05-23 09:38:14,545] Trial 68 finished with value: 3.34939169622556e-05 and parameters: {'learning_rate': 0.035952876251710945, 'sigma_multiplier': 1.7926558637169427, 'initialization_multiplier': 0.1744168522652847}. Best is trial 34 with value: -8.412434206135816e-05.\n"
     ]
    },
    {
     "name": "stdout",
     "output_type": "stream",
     "text": [
      "Training has not converged after 500 steps\n",
      "Trial 68 final loss: 0.00003349\n",
      "\n",
      "Trial 69: LR=0.053497, SigmaM=1.6304, InitM=0.109201\n"
     ]
    },
    {
     "name": "stderr",
     "output_type": "stream",
     "text": [
      "Training Progress: 100%|██████████| 500/500 [00:04<00:00, 115.82it/s, loss=0.000222, elapsed time=0.01, total time=4.33] \n",
      "[I 2025-05-23 09:38:18,881] Trial 69 finished with value: 0.00022176129842034256 and parameters: {'learning_rate': 0.05349686586072685, 'sigma_multiplier': 1.6304231216486955, 'initialization_multiplier': 0.10920068895344585}. Best is trial 34 with value: -8.412434206135816e-05.\n"
     ]
    },
    {
     "name": "stdout",
     "output_type": "stream",
     "text": [
      "Training has not converged after 500 steps\n",
      "Trial 69 final loss: 0.00022176\n",
      "\n",
      "Trial 70: LR=0.091824, SigmaM=0.1111, InitM=0.064379\n"
     ]
    },
    {
     "name": "stderr",
     "output_type": "stream",
     "text": [
      "Training Progress: 100%|██████████| 500/500 [00:06<00:00, 81.96it/s, loss=-0.000010, elapsed time=0.01, total time=6.11]\n",
      "[I 2025-05-23 09:38:25,000] Trial 70 finished with value: -9.766575962060098e-06 and parameters: {'learning_rate': 0.09182353934389813, 'sigma_multiplier': 0.11105313255908544, 'initialization_multiplier': 0.06437879044953515}. Best is trial 34 with value: -8.412434206135816e-05.\n"
     ]
    },
    {
     "name": "stdout",
     "output_type": "stream",
     "text": [
      "Training has not converged after 500 steps\n",
      "Trial 70 final loss: -0.00000977\n",
      "\n",
      "Trial 71: LR=0.014067, SigmaM=1.5767, InitM=0.075488\n"
     ]
    },
    {
     "name": "stderr",
     "output_type": "stream",
     "text": [
      "Training Progress: 100%|██████████| 500/500 [00:04<00:00, 117.28it/s, loss=-0.000076, elapsed time=0.01, total time=4.27]\n",
      "[I 2025-05-23 09:38:29,282] Trial 71 finished with value: -7.636992147394718e-05 and parameters: {'learning_rate': 0.01406729265057171, 'sigma_multiplier': 1.5766859694805235, 'initialization_multiplier': 0.07548755844040934}. Best is trial 34 with value: -8.412434206135816e-05.\n"
     ]
    },
    {
     "name": "stdout",
     "output_type": "stream",
     "text": [
      "Training has not converged after 500 steps\n",
      "Trial 71 final loss: -0.00007637\n",
      "\n",
      "Trial 72: LR=0.015073, SigmaM=1.6828, InitM=0.082056\n"
     ]
    },
    {
     "name": "stderr",
     "output_type": "stream",
     "text": [
      "Training Progress: 100%|██████████| 500/500 [00:04<00:00, 119.20it/s, loss=-0.000047, elapsed time=0.01, total time=4.21]\n",
      "[I 2025-05-23 09:38:33,496] Trial 72 finished with value: -4.733700873715388e-05 and parameters: {'learning_rate': 0.015072680375789684, 'sigma_multiplier': 1.682839535716069, 'initialization_multiplier': 0.08205578716669946}. Best is trial 34 with value: -8.412434206135816e-05.\n"
     ]
    },
    {
     "name": "stdout",
     "output_type": "stream",
     "text": [
      "Training has not converged after 500 steps\n",
      "Trial 72 final loss: -0.00004734\n",
      "\n",
      "Trial 73: LR=0.014969, SigmaM=1.8572, InitM=0.038081\n"
     ]
    },
    {
     "name": "stderr",
     "output_type": "stream",
     "text": [
      "Training Progress: 100%|██████████| 500/500 [00:04<00:00, 119.59it/s, loss=0.000070, elapsed time=0.01, total time=4.19] \n",
      "[I 2025-05-23 09:38:37,695] Trial 73 finished with value: 7.034095873715879e-05 and parameters: {'learning_rate': 0.014968778449879223, 'sigma_multiplier': 1.8571771265716255, 'initialization_multiplier': 0.03808094297537451}. Best is trial 34 with value: -8.412434206135816e-05.\n"
     ]
    },
    {
     "name": "stdout",
     "output_type": "stream",
     "text": [
      "Training has not converged after 500 steps\n",
      "Trial 73 final loss: 0.00007034\n",
      "\n",
      "Trial 74: LR=0.008538, SigmaM=1.5861, InitM=0.134247\n"
     ]
    },
    {
     "name": "stderr",
     "output_type": "stream",
     "text": [
      "Training Progress: 100%|██████████| 500/500 [00:04<00:00, 115.63it/s, loss=0.000002, elapsed time=0.01, total time=4.33] \n",
      "[I 2025-05-23 09:38:42,037] Trial 74 finished with value: 2.3667722008040917e-06 and parameters: {'learning_rate': 0.008538428792907058, 'sigma_multiplier': 1.5861410532475109, 'initialization_multiplier': 0.1342473370058255}. Best is trial 34 with value: -8.412434206135816e-05.\n"
     ]
    },
    {
     "name": "stdout",
     "output_type": "stream",
     "text": [
      "Training has not converged after 500 steps\n",
      "Trial 74 final loss: 0.00000237\n",
      "\n",
      "Trial 75: LR=0.011489, SigmaM=1.7525, InitM=0.099045\n"
     ]
    },
    {
     "name": "stderr",
     "output_type": "stream",
     "text": [
      "Training Progress: 100%|██████████| 500/500 [00:04<00:00, 111.82it/s, loss=-0.000038, elapsed time=0.01, total time=4.48]\n",
      "[I 2025-05-23 09:38:46,527] Trial 75 finished with value: -3.777828822069322e-05 and parameters: {'learning_rate': 0.011489179576759578, 'sigma_multiplier': 1.7525230174630846, 'initialization_multiplier': 0.09904472354291015}. Best is trial 34 with value: -8.412434206135816e-05.\n"
     ]
    },
    {
     "name": "stdout",
     "output_type": "stream",
     "text": [
      "Training has not converged after 500 steps\n",
      "Trial 75 final loss: -0.00003778\n",
      "\n",
      "Trial 76: LR=0.011669, SigmaM=1.9448, InitM=0.294836\n"
     ]
    },
    {
     "name": "stderr",
     "output_type": "stream",
     "text": [
      "Training Progress: 100%|██████████| 500/500 [00:04<00:00, 120.35it/s, loss=-0.000035, elapsed time=0.01, total time=4.16]\n",
      "[I 2025-05-23 09:38:50,700] Trial 76 finished with value: -3.5280373814360604e-05 and parameters: {'learning_rate': 0.011669110313779698, 'sigma_multiplier': 1.9448385083177564, 'initialization_multiplier': 0.2948356559460867}. Best is trial 34 with value: -8.412434206135816e-05.\n"
     ]
    },
    {
     "name": "stdout",
     "output_type": "stream",
     "text": [
      "Training has not converged after 500 steps\n",
      "Trial 76 final loss: -0.00003528\n",
      "\n",
      "Trial 77: LR=0.023320, SigmaM=1.7404, InitM=0.053727\n"
     ]
    },
    {
     "name": "stderr",
     "output_type": "stream",
     "text": [
      "Training Progress: 100%|██████████| 500/500 [00:04<00:00, 119.04it/s, loss=-0.000110, elapsed time=0.01, total time=4.21]\n",
      "[I 2025-05-23 09:38:54,919] Trial 77 finished with value: -0.00011012576492267536 and parameters: {'learning_rate': 0.02332036669043677, 'sigma_multiplier': 1.7404278619837805, 'initialization_multiplier': 0.053726548298705955}. Best is trial 77 with value: -0.00011012576492267536.\n"
     ]
    },
    {
     "name": "stdout",
     "output_type": "stream",
     "text": [
      "Training has not converged after 500 steps\n",
      "Trial 77 final loss: -0.00011013\n",
      "\n",
      "Trial 78: LR=0.021212, SigmaM=1.8042, InitM=0.051965\n"
     ]
    },
    {
     "name": "stderr",
     "output_type": "stream",
     "text": [
      "Training Progress: 100%|██████████| 500/500 [00:04<00:00, 119.89it/s, loss=0.000069, elapsed time=0.01, total time=4.18] \n",
      "[I 2025-05-23 09:38:59,108] Trial 78 finished with value: 6.881818512292975e-05 and parameters: {'learning_rate': 0.021212304735000388, 'sigma_multiplier': 1.8042286477598657, 'initialization_multiplier': 0.05196510108712869}. Best is trial 77 with value: -0.00011012576492267536.\n"
     ]
    },
    {
     "name": "stdout",
     "output_type": "stream",
     "text": [
      "Training has not converged after 500 steps\n",
      "Trial 78 final loss: 0.00006882\n",
      "\n",
      "Trial 79: LR=0.015721, SigmaM=1.8866, InitM=0.073707\n"
     ]
    },
    {
     "name": "stderr",
     "output_type": "stream",
     "text": [
      "Training Progress: 100%|██████████| 500/500 [00:04<00:00, 120.63it/s, loss=-0.000041, elapsed time=0.01, total time=4.15]\n",
      "[I 2025-05-23 09:39:03,270] Trial 79 finished with value: -4.137031767193939e-05 and parameters: {'learning_rate': 0.015721307627676036, 'sigma_multiplier': 1.8866172942819124, 'initialization_multiplier': 0.07370681556083526}. Best is trial 77 with value: -0.00011012576492267536.\n"
     ]
    },
    {
     "name": "stdout",
     "output_type": "stream",
     "text": [
      "Training has not converged after 500 steps\n",
      "Trial 79 final loss: -0.00004137\n",
      "\n",
      "Trial 80: LR=0.022685, SigmaM=0.8741, InitM=0.043806\n"
     ]
    },
    {
     "name": "stderr",
     "output_type": "stream",
     "text": [
      "Training Progress: 100%|██████████| 500/500 [00:04<00:00, 102.66it/s, loss=0.000875, elapsed time=0.01, total time=4.88]\n",
      "[I 2025-05-23 09:39:08,160] Trial 80 finished with value: 0.0008751034585811876 and parameters: {'learning_rate': 0.022684737087543014, 'sigma_multiplier': 0.8741194773176807, 'initialization_multiplier': 0.04380616328080366}. Best is trial 77 with value: -0.00011012576492267536.\n"
     ]
    },
    {
     "name": "stdout",
     "output_type": "stream",
     "text": [
      "Training has not converged after 500 steps\n",
      "Trial 80 final loss: 0.00087510\n",
      "\n",
      "Trial 81: LR=0.015379, SigmaM=1.7072, InitM=0.075347\n"
     ]
    },
    {
     "name": "stderr",
     "output_type": "stream",
     "text": [
      "Training Progress: 100%|██████████| 500/500 [00:04<00:00, 119.20it/s, loss=-0.000066, elapsed time=0.01, total time=4.21]\n",
      "[I 2025-05-23 09:39:12,374] Trial 81 finished with value: -6.63234974870146e-05 and parameters: {'learning_rate': 0.0153792967657801, 'sigma_multiplier': 1.7071688476854718, 'initialization_multiplier': 0.07534680440715896}. Best is trial 77 with value: -0.00011012576492267536.\n"
     ]
    },
    {
     "name": "stdout",
     "output_type": "stream",
     "text": [
      "Training has not converged after 500 steps\n",
      "Trial 81 final loss: -0.00006632\n",
      "\n",
      "Trial 82: LR=0.030029, SigmaM=1.7512, InitM=0.080204\n"
     ]
    },
    {
     "name": "stderr",
     "output_type": "stream",
     "text": [
      "Training Progress: 100%|██████████| 500/500 [00:04<00:00, 119.03it/s, loss=0.000082, elapsed time=0.01, total time=4.21] \n",
      "[I 2025-05-23 09:39:16,592] Trial 82 finished with value: 8.245091879376134e-05 and parameters: {'learning_rate': 0.030028606860047664, 'sigma_multiplier': 1.7511560285437529, 'initialization_multiplier': 0.08020438764400238}. Best is trial 77 with value: -0.00011012576492267536.\n"
     ]
    },
    {
     "name": "stdout",
     "output_type": "stream",
     "text": [
      "Training has not converged after 500 steps\n",
      "Trial 82 final loss: 0.00008245\n",
      "\n",
      "Trial 83: LR=0.016577, SigmaM=1.7123, InitM=0.077129\n"
     ]
    },
    {
     "name": "stderr",
     "output_type": "stream",
     "text": [
      "Training Progress: 100%|██████████| 500/500 [00:04<00:00, 119.15it/s, loss=-0.000010, elapsed time=0.01, total time=4.21]\n",
      "[I 2025-05-23 09:39:20,805] Trial 83 finished with value: -9.844563007722133e-06 and parameters: {'learning_rate': 0.016577324480581166, 'sigma_multiplier': 1.7123211781198873, 'initialization_multiplier': 0.0771294181464389}. Best is trial 77 with value: -0.00011012576492267536.\n"
     ]
    },
    {
     "name": "stdout",
     "output_type": "stream",
     "text": [
      "Training has not converged after 500 steps\n",
      "Trial 83 final loss: -0.00000984\n",
      "\n",
      "Trial 84: LR=0.007772, SigmaM=1.8518, InitM=0.036655\n"
     ]
    },
    {
     "name": "stderr",
     "output_type": "stream",
     "text": [
      "Training Progress: 100%|██████████| 500/500 [00:04<00:00, 119.64it/s, loss=0.000102, elapsed time=0.01, total time=4.19] \n",
      "[I 2025-05-23 09:39:25,002] Trial 84 finished with value: 0.00010173592475901604 and parameters: {'learning_rate': 0.00777165548239835, 'sigma_multiplier': 1.8517809650051598, 'initialization_multiplier': 0.036655177772825905}. Best is trial 77 with value: -0.00011012576492267536.\n"
     ]
    },
    {
     "name": "stdout",
     "output_type": "stream",
     "text": [
      "Training has not converged after 500 steps\n",
      "Trial 84 final loss: 0.00010174\n",
      "\n",
      "Trial 85: LR=0.025359, SigmaM=1.6681, InitM=0.058383\n"
     ]
    },
    {
     "name": "stderr",
     "output_type": "stream",
     "text": [
      "Training Progress: 100%|██████████| 500/500 [00:04<00:00, 117.12it/s, loss=0.000020, elapsed time=0.01, total time=4.28] \n",
      "[I 2025-05-23 09:39:29,289] Trial 85 finished with value: 2.024798317067652e-05 and parameters: {'learning_rate': 0.025359002191081302, 'sigma_multiplier': 1.668074053038467, 'initialization_multiplier': 0.05838345643260542}. Best is trial 77 with value: -0.00011012576492267536.\n"
     ]
    },
    {
     "name": "stdout",
     "output_type": "stream",
     "text": [
      "Training has not converged after 500 steps\n",
      "Trial 85 final loss: 0.00002025\n",
      "\n",
      "Trial 86: LR=0.055261, SigmaM=1.5741, InitM=0.158151\n"
     ]
    },
    {
     "name": "stderr",
     "output_type": "stream",
     "text": [
      "Training Progress: 100%|██████████| 500/500 [00:04<00:00, 116.39it/s, loss=0.000107, elapsed time=0.01, total time=4.31] \n",
      "[I 2025-05-23 09:39:33,604] Trial 86 finished with value: 0.00010681345851658448 and parameters: {'learning_rate': 0.055260782124590895, 'sigma_multiplier': 1.5741170681104715, 'initialization_multiplier': 0.15815088746868744}. Best is trial 77 with value: -0.00011012576492267536.\n"
     ]
    },
    {
     "name": "stdout",
     "output_type": "stream",
     "text": [
      "Training has not converged after 500 steps\n",
      "Trial 86 final loss: 0.00010681\n",
      "\n",
      "Trial 87: LR=0.020114, SigmaM=1.3944, InitM=0.108594\n"
     ]
    },
    {
     "name": "stderr",
     "output_type": "stream",
     "text": [
      "Training Progress: 100%|██████████| 500/500 [00:04<00:00, 114.45it/s, loss=0.000172, elapsed time=0.01, total time=4.38] \n",
      "[I 2025-05-23 09:39:37,990] Trial 87 finished with value: 0.0001720646086593432 and parameters: {'learning_rate': 0.020114396611418978, 'sigma_multiplier': 1.3943880581940065, 'initialization_multiplier': 0.10859407471493776}. Best is trial 77 with value: -0.00011012576492267536.\n"
     ]
    },
    {
     "name": "stdout",
     "output_type": "stream",
     "text": [
      "Training has not converged after 500 steps\n",
      "Trial 87 final loss: 0.00017206\n",
      "\n",
      "Trial 88: LR=0.006233, SigmaM=1.4896, InitM=0.029027\n"
     ]
    },
    {
     "name": "stderr",
     "output_type": "stream",
     "text": [
      "Training Progress: 100%|██████████| 500/500 [00:04<00:00, 116.14it/s, loss=0.000071, elapsed time=0.01, total time=4.32] \n",
      "[I 2025-05-23 09:39:42,314] Trial 88 finished with value: 7.143565872420199e-05 and parameters: {'learning_rate': 0.00623334706765296, 'sigma_multiplier': 1.4896152017325797, 'initialization_multiplier': 0.029026738047546578}. Best is trial 77 with value: -0.00011012576492267536.\n"
     ]
    },
    {
     "name": "stdout",
     "output_type": "stream",
     "text": [
      "Training has not converged after 500 steps\n",
      "Trial 88 final loss: 0.00007144\n",
      "\n",
      "Trial 89: LR=0.033656, SigmaM=0.5989, InitM=0.050598\n"
     ]
    },
    {
     "name": "stderr",
     "output_type": "stream",
     "text": [
      "Training Progress: 100%|██████████| 500/500 [00:05<00:00, 91.70it/s, loss=0.000882, elapsed time=0.01, total time=5.46] \n",
      "[I 2025-05-23 09:39:47,785] Trial 89 finished with value: 0.0008817999940285259 and parameters: {'learning_rate': 0.0336561755863, 'sigma_multiplier': 0.598865662232555, 'initialization_multiplier': 0.050597809926800935}. Best is trial 77 with value: -0.00011012576492267536.\n"
     ]
    },
    {
     "name": "stdout",
     "output_type": "stream",
     "text": [
      "Training has not converged after 500 steps\n",
      "Trial 89 final loss: 0.00088180\n",
      "\n",
      "Trial 90: LR=0.000030, SigmaM=1.7244, InitM=0.090304\n"
     ]
    },
    {
     "name": "stderr",
     "output_type": "stream",
     "text": [
      "Training Progress: 100%|██████████| 500/500 [00:03<00:00, 127.33it/s, loss=0.090018, elapsed time=0.01, total time=3.94]\n",
      "[I 2025-05-23 09:39:51,729] Trial 90 finished with value: 0.090017721965931 and parameters: {'learning_rate': 3.014803734957104e-05, 'sigma_multiplier': 1.7243536449012113, 'initialization_multiplier': 0.090303991470745}. Best is trial 77 with value: -0.00011012576492267536.\n"
     ]
    },
    {
     "name": "stdout",
     "output_type": "stream",
     "text": [
      "Training has not converged after 500 steps\n",
      "Trial 90 final loss: 0.09001772\n",
      "\n",
      "Trial 91: LR=0.014506, SigmaM=1.8896, InitM=0.064744\n"
     ]
    },
    {
     "name": "stderr",
     "output_type": "stream",
     "text": [
      "Training Progress: 100%|██████████| 500/500 [00:04<00:00, 119.90it/s, loss=-0.000083, elapsed time=0.01, total time=4.18]\n",
      "[I 2025-05-23 09:39:55,917] Trial 91 finished with value: -8.286660633396335e-05 and parameters: {'learning_rate': 0.01450597792532706, 'sigma_multiplier': 1.8896077277675114, 'initialization_multiplier': 0.06474437618697126}. Best is trial 77 with value: -0.00011012576492267536.\n"
     ]
    },
    {
     "name": "stdout",
     "output_type": "stream",
     "text": [
      "Training has not converged after 500 steps\n",
      "Trial 91 final loss: -0.00008287\n",
      "\n",
      "Trial 92: LR=0.012390, SigmaM=1.8100, InitM=0.069966\n"
     ]
    },
    {
     "name": "stderr",
     "output_type": "stream",
     "text": [
      "Training Progress: 100%|██████████| 500/500 [00:04<00:00, 119.26it/s, loss=0.000035, elapsed time=0.01, total time=4.2]  \n",
      "[I 2025-05-23 09:40:00,128] Trial 92 finished with value: 3.51650716414734e-05 and parameters: {'learning_rate': 0.012389745799921262, 'sigma_multiplier': 1.8099720897709901, 'initialization_multiplier': 0.06996622921828753}. Best is trial 77 with value: -0.00011012576492267536.\n"
     ]
    },
    {
     "name": "stdout",
     "output_type": "stream",
     "text": [
      "Training has not converged after 500 steps\n",
      "Trial 92 final loss: 0.00003517\n",
      "\n",
      "Trial 93: LR=0.016203, SigmaM=1.9615, InitM=0.129134\n"
     ]
    },
    {
     "name": "stderr",
     "output_type": "stream",
     "text": [
      "Training Progress: 100%|██████████| 500/500 [00:04<00:00, 120.42it/s, loss=-0.000067, elapsed time=0.01, total time=4.16]\n",
      "[I 2025-05-23 09:40:04,300] Trial 93 finished with value: -6.680035382668258e-05 and parameters: {'learning_rate': 0.016203082806236998, 'sigma_multiplier': 1.961457993728147, 'initialization_multiplier': 0.12913367349498586}. Best is trial 77 with value: -0.00011012576492267536.\n"
     ]
    },
    {
     "name": "stdout",
     "output_type": "stream",
     "text": [
      "Training has not converged after 500 steps\n",
      "Trial 93 final loss: -0.00006680\n",
      "\n",
      "Trial 94: LR=0.001164, SigmaM=1.9744, InitM=0.132636\n"
     ]
    },
    {
     "name": "stderr",
     "output_type": "stream",
     "text": [
      "Training Progress: 100%|██████████| 500/500 [00:04<00:00, 122.08it/s, loss=0.000999, elapsed time=0.01, total time=4.11]\n",
      "[I 2025-05-23 09:40:08,415] Trial 94 finished with value: 0.000999367986022859 and parameters: {'learning_rate': 0.0011644298006742602, 'sigma_multiplier': 1.9743726728845121, 'initialization_multiplier': 0.13263625523688252}. Best is trial 77 with value: -0.00011012576492267536.\n"
     ]
    },
    {
     "name": "stdout",
     "output_type": "stream",
     "text": [
      "Training has not converged after 500 steps\n",
      "Trial 94 final loss: 0.00099937\n",
      "\n",
      "Trial 95: LR=0.042322, SigmaM=1.9368, InitM=0.001714\n"
     ]
    },
    {
     "name": "stderr",
     "output_type": "stream",
     "text": [
      "Training Progress: 100%|██████████| 500/500 [00:04<00:00, 120.03it/s, loss=-0.000015, elapsed time=0.01, total time=4.18]\n",
      "[I 2025-05-23 09:40:12,599] Trial 95 finished with value: -1.499103143056538e-05 and parameters: {'learning_rate': 0.042322253725671444, 'sigma_multiplier': 1.936820733282491, 'initialization_multiplier': 0.001713714523804682}. Best is trial 77 with value: -0.00011012576492267536.\n"
     ]
    },
    {
     "name": "stdout",
     "output_type": "stream",
     "text": [
      "Training has not converged after 500 steps\n",
      "Trial 95 final loss: -0.00001499\n",
      "\n",
      "Trial 96: LR=0.018956, SigmaM=1.6352, InitM=0.095569\n"
     ]
    },
    {
     "name": "stderr",
     "output_type": "stream",
     "text": [
      "Training Progress: 100%|██████████| 500/500 [00:04<00:00, 118.04it/s, loss=0.000084, elapsed time=0.01, total time=4.25] \n",
      "[I 2025-05-23 09:40:16,854] Trial 96 finished with value: 8.365268001516082e-05 and parameters: {'learning_rate': 0.018955584942374877, 'sigma_multiplier': 1.6352418079997142, 'initialization_multiplier': 0.09556916146283537}. Best is trial 77 with value: -0.00011012576492267536.\n"
     ]
    },
    {
     "name": "stdout",
     "output_type": "stream",
     "text": [
      "Training has not converged after 500 steps\n",
      "Trial 96 final loss: 0.00008365\n",
      "\n",
      "Trial 97: LR=0.010127, SigmaM=1.7574, InitM=0.192169\n"
     ]
    },
    {
     "name": "stderr",
     "output_type": "stream",
     "text": [
      "Training Progress: 100%|██████████| 500/500 [00:04<00:00, 119.28it/s, loss=-0.000076, elapsed time=0.01, total time=4.2] \n",
      "[I 2025-05-23 09:40:21,064] Trial 97 finished with value: -7.639944375105428e-05 and parameters: {'learning_rate': 0.010127148708640104, 'sigma_multiplier': 1.7573860125515652, 'initialization_multiplier': 0.19216944992283858}. Best is trial 77 with value: -0.00011012576492267536.\n"
     ]
    },
    {
     "name": "stdout",
     "output_type": "stream",
     "text": [
      "Training has not converged after 500 steps\n",
      "Trial 97 final loss: -0.00007640\n",
      "\n",
      "Trial 98: LR=0.010028, SigmaM=1.8799, InitM=0.202183\n"
     ]
    },
    {
     "name": "stderr",
     "output_type": "stream",
     "text": [
      "Training Progress: 100%|██████████| 500/500 [00:04<00:00, 120.54it/s, loss=0.000053, elapsed time=0.01, total time=4.16] \n",
      "[I 2025-05-23 09:40:25,229] Trial 98 finished with value: 5.347841940471639e-05 and parameters: {'learning_rate': 0.010027509620978058, 'sigma_multiplier': 1.8798943503370373, 'initialization_multiplier': 0.20218261673423374}. Best is trial 77 with value: -0.00011012576492267536.\n"
     ]
    },
    {
     "name": "stdout",
     "output_type": "stream",
     "text": [
      "Training has not converged after 500 steps\n",
      "Trial 98 final loss: 0.00005348\n",
      "\n",
      "Trial 99: LR=0.007917, SigmaM=1.7551, InitM=0.250263\n"
     ]
    },
    {
     "name": "stderr",
     "output_type": "stream",
     "text": [
      "Training Progress: 100%|██████████| 500/500 [00:04<00:00, 118.88it/s, loss=-0.000025, elapsed time=0.01, total time=4.22]\n",
      "[I 2025-05-23 09:40:29,455] Trial 99 finished with value: -2.4896082818300676e-05 and parameters: {'learning_rate': 0.007917011697560308, 'sigma_multiplier': 1.7550531048924125, 'initialization_multiplier': 0.2502634180632071}. Best is trial 77 with value: -0.00011012576492267536.\n"
     ]
    },
    {
     "name": "stdout",
     "output_type": "stream",
     "text": [
      "Training has not converged after 500 steps\n",
      "Trial 99 final loss: -0.00002490\n",
      "\n",
      "Trial 100: LR=0.013162, SigmaM=1.8249, InitM=0.114665\n"
     ]
    },
    {
     "name": "stderr",
     "output_type": "stream",
     "text": [
      "Training Progress: 100%|██████████| 500/500 [00:04<00:00, 119.91it/s, loss=0.000028, elapsed time=0.01, total time=4.18] \n",
      "[I 2025-05-23 09:40:33,642] Trial 100 finished with value: 2.844543941122811e-05 and parameters: {'learning_rate': 0.013162444427760269, 'sigma_multiplier': 1.8248679214859274, 'initialization_multiplier': 0.11466475574762308}. Best is trial 77 with value: -0.00011012576492267536.\n"
     ]
    },
    {
     "name": "stdout",
     "output_type": "stream",
     "text": [
      "Training has not converged after 500 steps\n",
      "Trial 100 final loss: 0.00002845\n",
      "\n",
      "Trial 101: LR=0.024282, SigmaM=1.7776, InitM=0.152630\n"
     ]
    },
    {
     "name": "stderr",
     "output_type": "stream",
     "text": [
      "Training Progress: 100%|██████████| 500/500 [00:04<00:00, 119.20it/s, loss=-0.000057, elapsed time=0.01, total time=4.21]\n",
      "[I 2025-05-23 09:40:37,856] Trial 101 finished with value: -5.747810955968476e-05 and parameters: {'learning_rate': 0.0242822469653317, 'sigma_multiplier': 1.7775740191821647, 'initialization_multiplier': 0.1526295493280595}. Best is trial 77 with value: -0.00011012576492267536.\n"
     ]
    },
    {
     "name": "stdout",
     "output_type": "stream",
     "text": [
      "Training has not converged after 500 steps\n",
      "Trial 101 final loss: -0.00005748\n",
      "\n",
      "Trial 102: LR=0.025473, SigmaM=1.9535, InitM=0.175888\n"
     ]
    },
    {
     "name": "stderr",
     "output_type": "stream",
     "text": [
      "Training Progress: 100%|██████████| 500/500 [00:04<00:00, 121.00it/s, loss=0.000025, elapsed time=0.01, total time=4.14] \n",
      "[I 2025-05-23 09:40:42,006] Trial 102 finished with value: 2.4935401200164034e-05 and parameters: {'learning_rate': 0.02547305963270782, 'sigma_multiplier': 1.9535212781145506, 'initialization_multiplier': 0.17588832240963884}. Best is trial 77 with value: -0.00011012576492267536.\n"
     ]
    },
    {
     "name": "stdout",
     "output_type": "stream",
     "text": [
      "Training has not converged after 500 steps\n",
      "Trial 102 final loss: 0.00002494\n",
      "\n",
      "Trial 103: LR=0.010042, SigmaM=1.7912, InitM=0.423501\n"
     ]
    },
    {
     "name": "stderr",
     "output_type": "stream",
     "text": [
      "Training Progress: 100%|██████████| 500/500 [00:04<00:00, 119.03it/s, loss=-0.000095, elapsed time=0.01, total time=4.21]\n",
      "[I 2025-05-23 09:40:46,225] Trial 103 finished with value: -9.508606003799079e-05 and parameters: {'learning_rate': 0.010041583026983292, 'sigma_multiplier': 1.7912053819601819, 'initialization_multiplier': 0.42350077482283044}. Best is trial 77 with value: -0.00011012576492267536.\n"
     ]
    },
    {
     "name": "stdout",
     "output_type": "stream",
     "text": [
      "Training has not converged after 500 steps\n",
      "Trial 103 final loss: -0.00009509\n",
      "\n",
      "Trial 104: LR=0.009429, SigmaM=1.7988, InitM=0.759548\n"
     ]
    },
    {
     "name": "stderr",
     "output_type": "stream",
     "text": [
      "Training Progress: 100%|██████████| 500/500 [00:04<00:00, 118.73it/s, loss=0.000074, elapsed time=0.01, total time=4.22] \n",
      "[I 2025-05-23 09:40:50,455] Trial 104 finished with value: 7.400685069154574e-05 and parameters: {'learning_rate': 0.009428521903903761, 'sigma_multiplier': 1.7988000941723334, 'initialization_multiplier': 0.7595479165405165}. Best is trial 77 with value: -0.00011012576492267536.\n"
     ]
    },
    {
     "name": "stdout",
     "output_type": "stream",
     "text": [
      "Training has not converged after 500 steps\n",
      "Trial 104 final loss: 0.00007401\n",
      "\n",
      "Trial 105: LR=0.007123, SigmaM=1.8749, InitM=0.623793\n"
     ]
    },
    {
     "name": "stderr",
     "output_type": "stream",
     "text": [
      "Training Progress: 100%|██████████| 500/500 [00:04<00:00, 119.50it/s, loss=-0.000006, elapsed time=0.01, total time=4.19]\n",
      "[I 2025-05-23 09:40:54,657] Trial 105 finished with value: -6.046371332214095e-06 and parameters: {'learning_rate': 0.007122928724092908, 'sigma_multiplier': 1.8748643990468832, 'initialization_multiplier': 0.6237927686183854}. Best is trial 77 with value: -0.00011012576492267536.\n"
     ]
    },
    {
     "name": "stdout",
     "output_type": "stream",
     "text": [
      "Training has not converged after 500 steps\n",
      "Trial 105 final loss: -0.00000605\n",
      "\n",
      "Trial 106: LR=0.018753, SigmaM=1.9244, InitM=0.314142\n"
     ]
    },
    {
     "name": "stderr",
     "output_type": "stream",
     "text": [
      "Training Progress: 100%|██████████| 500/500 [00:04<00:00, 119.87it/s, loss=-0.000020, elapsed time=0.01, total time=4.18]\n",
      "[I 2025-05-23 09:40:58,846] Trial 106 finished with value: -2.0399618838690435e-05 and parameters: {'learning_rate': 0.01875260465925595, 'sigma_multiplier': 1.9243694398540014, 'initialization_multiplier': 0.31414246492726}. Best is trial 77 with value: -0.00011012576492267536.\n"
     ]
    },
    {
     "name": "stdout",
     "output_type": "stream",
     "text": [
      "Training has not converged after 500 steps\n",
      "Trial 106 final loss: -0.00002040\n",
      "\n",
      "Trial 107: LR=0.005034, SigmaM=1.7699, InitM=0.524638\n"
     ]
    },
    {
     "name": "stderr",
     "output_type": "stream",
     "text": [
      "Training Progress: 100%|██████████| 500/500 [00:04<00:00, 117.89it/s, loss=-0.000024, elapsed time=0.01, total time=4.25]\n",
      "[I 2025-05-23 09:41:03,105] Trial 107 finished with value: -2.409781580614339e-05 and parameters: {'learning_rate': 0.005034164760534976, 'sigma_multiplier': 1.7699285722050278, 'initialization_multiplier': 0.5246378039459115}. Best is trial 77 with value: -0.00011012576492267536.\n"
     ]
    },
    {
     "name": "stdout",
     "output_type": "stream",
     "text": [
      "Training has not converged after 500 steps\n",
      "Trial 107 final loss: -0.00002410\n",
      "\n",
      "Trial 108: LR=0.004076, SigmaM=1.9996, InitM=0.375679\n"
     ]
    },
    {
     "name": "stderr",
     "output_type": "stream",
     "text": [
      "Training Progress: 100%|██████████| 500/500 [00:04<00:00, 120.24it/s, loss=0.000178, elapsed time=0.01, total time=4.17] \n",
      "[I 2025-05-23 09:41:07,282] Trial 108 finished with value: 0.00017752653139076769 and parameters: {'learning_rate': 0.004076121520423757, 'sigma_multiplier': 1.9995675923142617, 'initialization_multiplier': 0.3756791839532133}. Best is trial 77 with value: -0.00011012576492267536.\n"
     ]
    },
    {
     "name": "stdout",
     "output_type": "stream",
     "text": [
      "Training has not converged after 500 steps\n",
      "Trial 108 final loss: 0.00017753\n",
      "\n",
      "Trial 109: LR=0.010669, SigmaM=1.8573, InitM=0.153767\n"
     ]
    },
    {
     "name": "stderr",
     "output_type": "stream",
     "text": [
      "Training Progress: 100%|██████████| 500/500 [00:04<00:00, 119.75it/s, loss=-0.000026, elapsed time=0.01, total time=4.19]\n",
      "[I 2025-05-23 09:41:11,476] Trial 109 finished with value: -2.6103004669755997e-05 and parameters: {'learning_rate': 0.010668763213374758, 'sigma_multiplier': 1.8572806375647433, 'initialization_multiplier': 0.1537669000635699}. Best is trial 77 with value: -0.00011012576492267536.\n"
     ]
    },
    {
     "name": "stdout",
     "output_type": "stream",
     "text": [
      "Training has not converged after 500 steps\n",
      "Trial 109 final loss: -0.00002610\n",
      "\n",
      "Trial 110: LR=0.013188, SigmaM=1.8259, InitM=0.033985\n"
     ]
    },
    {
     "name": "stderr",
     "output_type": "stream",
     "text": [
      "Training Progress: 100%|██████████| 500/500 [00:04<00:00, 120.78it/s, loss=0.000025, elapsed time=0.01, total time=4.15] \n",
      "[I 2025-05-23 09:41:15,634] Trial 110 finished with value: 2.475428537606044e-05 and parameters: {'learning_rate': 0.013187761827821758, 'sigma_multiplier': 1.8258700316255865, 'initialization_multiplier': 0.03398545600248059}. Best is trial 77 with value: -0.00011012576492267536.\n"
     ]
    },
    {
     "name": "stdout",
     "output_type": "stream",
     "text": [
      "Training has not converged after 500 steps\n",
      "Trial 110 final loss: 0.00002475\n",
      "\n",
      "Trial 111: LR=0.015271, SigmaM=1.6935, InitM=0.386161\n"
     ]
    },
    {
     "name": "stderr",
     "output_type": "stream",
     "text": [
      "Training Progress: 100%|██████████| 500/500 [00:04<00:00, 117.65it/s, loss=0.000160, elapsed time=0.01, total time=4.26] \n",
      "[I 2025-05-23 09:41:19,904] Trial 111 finished with value: 0.00016012816259634407 and parameters: {'learning_rate': 0.015271316513934109, 'sigma_multiplier': 1.693489887625496, 'initialization_multiplier': 0.3861607924792713}. Best is trial 77 with value: -0.00011012576492267536.\n"
     ]
    },
    {
     "name": "stdout",
     "output_type": "stream",
     "text": [
      "Training has not converged after 500 steps\n",
      "Trial 111 final loss: 0.00016013\n",
      "\n",
      "Trial 112: LR=0.023912, SigmaM=1.6189, InitM=0.215056\n"
     ]
    },
    {
     "name": "stderr",
     "output_type": "stream",
     "text": [
      "Training Progress: 100%|██████████| 500/500 [00:04<00:00, 117.81it/s, loss=0.000146, elapsed time=0.01, total time=4.25] \n",
      "[I 2025-05-23 09:41:24,166] Trial 112 finished with value: 0.00014555674072536427 and parameters: {'learning_rate': 0.023911821021052833, 'sigma_multiplier': 1.618901574857548, 'initialization_multiplier': 0.21505616541867925}. Best is trial 77 with value: -0.00011012576492267536.\n"
     ]
    },
    {
     "name": "stdout",
     "output_type": "stream",
     "text": [
      "Training has not converged after 500 steps\n",
      "Trial 112 final loss: 0.00014556\n",
      "\n",
      "Trial 113: LR=0.028949, SigmaM=1.6516, InitM=0.058276\n"
     ]
    },
    {
     "name": "stderr",
     "output_type": "stream",
     "text": [
      "Training Progress: 100%|██████████| 500/500 [00:04<00:00, 118.39it/s, loss=0.000043, elapsed time=0.01, total time=4.24] \n",
      "[I 2025-05-23 09:41:28,411] Trial 113 finished with value: 4.3198301204386176e-05 and parameters: {'learning_rate': 0.028949074175566563, 'sigma_multiplier': 1.6515767743914613, 'initialization_multiplier': 0.05827589767759124}. Best is trial 77 with value: -0.00011012576492267536.\n"
     ]
    },
    {
     "name": "stdout",
     "output_type": "stream",
     "text": [
      "Training has not converged after 500 steps\n",
      "Trial 113 final loss: 0.00004320\n",
      "\n",
      "Trial 114: LR=0.017135, SigmaM=1.7239, InitM=0.044739\n"
     ]
    },
    {
     "name": "stderr",
     "output_type": "stream",
     "text": [
      "Training Progress: 100%|██████████| 500/500 [00:04<00:00, 119.12it/s, loss=0.000116, elapsed time=0.01, total time=4.21] \n",
      "[I 2025-05-23 09:41:32,627] Trial 114 finished with value: 0.00011626089393802434 and parameters: {'learning_rate': 0.017135456693790217, 'sigma_multiplier': 1.723906497477926, 'initialization_multiplier': 0.04473881022498452}. Best is trial 77 with value: -0.00011012576492267536.\n"
     ]
    },
    {
     "name": "stdout",
     "output_type": "stream",
     "text": [
      "Training has not converged after 500 steps\n",
      "Trial 114 final loss: 0.00011626\n",
      "\n",
      "Trial 115: LR=0.013732, SigmaM=1.7750, InitM=0.086904\n"
     ]
    },
    {
     "name": "stderr",
     "output_type": "stream",
     "text": [
      "Training Progress: 100%|██████████| 500/500 [00:04<00:00, 119.12it/s, loss=-0.000009, elapsed time=0.01, total time=4.21]\n",
      "[I 2025-05-23 09:41:36,843] Trial 115 finished with value: -9.28870268014864e-06 and parameters: {'learning_rate': 0.013731569745118688, 'sigma_multiplier': 1.7750035132824191, 'initialization_multiplier': 0.08690432904870303}. Best is trial 77 with value: -0.00011012576492267536.\n"
     ]
    },
    {
     "name": "stdout",
     "output_type": "stream",
     "text": [
      "Training has not converged after 500 steps\n",
      "Trial 115 final loss: -0.00000929\n",
      "\n",
      "Trial 116: LR=0.009753, SigmaM=1.5751, InitM=0.124471\n"
     ]
    },
    {
     "name": "stderr",
     "output_type": "stream",
     "text": [
      "Training Progress: 100%|██████████| 500/500 [00:04<00:00, 115.19it/s, loss=0.000019, elapsed time=0.01, total time=4.35] \n",
      "[I 2025-05-23 09:41:41,202] Trial 116 finished with value: 1.8873148931250565e-05 and parameters: {'learning_rate': 0.009752749584564875, 'sigma_multiplier': 1.5751260824010762, 'initialization_multiplier': 0.1244705668703987}. Best is trial 77 with value: -0.00011012576492267536.\n"
     ]
    },
    {
     "name": "stdout",
     "output_type": "stream",
     "text": [
      "Training has not converged after 500 steps\n",
      "Trial 116 final loss: 0.00001887\n",
      "\n",
      "Trial 117: LR=0.020402, SigmaM=1.8972, InitM=0.065746\n"
     ]
    },
    {
     "name": "stderr",
     "output_type": "stream",
     "text": [
      "Training Progress: 100%|██████████| 500/500 [00:04<00:00, 120.90it/s, loss=0.000078, elapsed time=0.01, total time=4.15] \n",
      "[I 2025-05-23 09:41:45,356] Trial 117 finished with value: 7.84885582751635e-05 and parameters: {'learning_rate': 0.020402099487689764, 'sigma_multiplier': 1.897244782863127, 'initialization_multiplier': 0.0657461172139654}. Best is trial 77 with value: -0.00011012576492267536.\n"
     ]
    },
    {
     "name": "stdout",
     "output_type": "stream",
     "text": [
      "Training has not converged after 500 steps\n",
      "Trial 117 final loss: 0.00007849\n",
      "\n",
      "Trial 118: LR=0.002061, SigmaM=1.7379, InitM=0.040815\n"
     ]
    },
    {
     "name": "stderr",
     "output_type": "stream",
     "text": [
      "Training Progress: 100%|██████████| 500/500 [00:04<00:00, 118.61it/s, loss=0.000125, elapsed time=0.01, total time=4.23]\n",
      "[I 2025-05-23 09:41:49,591] Trial 118 finished with value: 0.00012507569651886718 and parameters: {'learning_rate': 0.002061402307029569, 'sigma_multiplier': 1.7378878360529213, 'initialization_multiplier': 0.04081542156469099}. Best is trial 77 with value: -0.00011012576492267536.\n"
     ]
    },
    {
     "name": "stdout",
     "output_type": "stream",
     "text": [
      "Training has not converged after 500 steps\n",
      "Trial 118 final loss: 0.00012508\n",
      "\n",
      "Trial 119: LR=0.000210, SigmaM=1.6892, InitM=0.020837\n"
     ]
    },
    {
     "name": "stderr",
     "output_type": "stream",
     "text": [
      "Training Progress: 100%|██████████| 500/500 [00:04<00:00, 122.65it/s, loss=0.056585, elapsed time=0.01, total time=4.09]\n",
      "[I 2025-05-23 09:41:53,686] Trial 119 finished with value: 0.056585187045429246 and parameters: {'learning_rate': 0.0002096864965016351, 'sigma_multiplier': 1.689175223888814, 'initialization_multiplier': 0.020837363011576404}. Best is trial 77 with value: -0.00011012576492267536.\n"
     ]
    },
    {
     "name": "stdout",
     "output_type": "stream",
     "text": [
      "Training has not converged after 500 steps\n",
      "Trial 119 final loss: 0.05658519\n",
      "\n",
      "Trial 120: LR=0.016168, SigmaM=1.7975, InitM=0.146467\n"
     ]
    },
    {
     "name": "stderr",
     "output_type": "stream",
     "text": [
      "Training Progress: 100%|██████████| 500/500 [00:04<00:00, 119.41it/s, loss=0.000044, elapsed time=0.01, total time=4.2]  \n",
      "[I 2025-05-23 09:41:57,891] Trial 120 finished with value: 4.361296236440466e-05 and parameters: {'learning_rate': 0.016167992481198937, 'sigma_multiplier': 1.7975123741856411, 'initialization_multiplier': 0.14646710295582444}. Best is trial 77 with value: -0.00011012576492267536.\n"
     ]
    },
    {
     "name": "stdout",
     "output_type": "stream",
     "text": [
      "Training has not converged after 500 steps\n",
      "Trial 120 final loss: 0.00004361\n",
      "\n",
      "Trial 121: LR=0.033098, SigmaM=1.6692, InitM=0.105674\n"
     ]
    },
    {
     "name": "stderr",
     "output_type": "stream",
     "text": [
      "Training Progress: 100%|██████████| 500/500 [00:04<00:00, 114.93it/s, loss=-0.000009, elapsed time=0.01, total time=4.37]\n",
      "[I 2025-05-23 09:42:02,273] Trial 121 finished with value: -8.589630949837406e-06 and parameters: {'learning_rate': 0.03309798343950747, 'sigma_multiplier': 1.669156959692919, 'initialization_multiplier': 0.105674107085493}. Best is trial 77 with value: -0.00011012576492267536.\n"
     ]
    },
    {
     "name": "stdout",
     "output_type": "stream",
     "text": [
      "Training has not converged after 500 steps\n",
      "Trial 121 final loss: -0.00000859\n",
      "\n",
      "Trial 122: LR=0.023429, SigmaM=1.8378, InitM=0.052772\n"
     ]
    },
    {
     "name": "stderr",
     "output_type": "stream",
     "text": [
      "Training Progress: 100%|██████████| 500/500 [00:04<00:00, 119.45it/s, loss=0.000005, elapsed time=0.01, total time=4.2]  \n",
      "[I 2025-05-23 09:42:06,479] Trial 122 finished with value: 5.079150339305421e-06 and parameters: {'learning_rate': 0.023429158016083168, 'sigma_multiplier': 1.8377593804352168, 'initialization_multiplier': 0.05277203765795346}. Best is trial 77 with value: -0.00011012576492267536.\n"
     ]
    },
    {
     "name": "stdout",
     "output_type": "stream",
     "text": [
      "Training has not converged after 500 steps\n",
      "Trial 122 final loss: 0.00000508\n",
      "\n",
      "Trial 123: LR=0.054060, SigmaM=1.7474, InitM=0.090297\n"
     ]
    },
    {
     "name": "stderr",
     "output_type": "stream",
     "text": [
      "Training Progress: 100%|██████████| 500/500 [00:04<00:00, 113.73it/s, loss=0.000066, elapsed time=0.01, total time=4.41] \n",
      "[I 2025-05-23 09:42:10,894] Trial 123 finished with value: 6.5554429741021e-05 and parameters: {'learning_rate': 0.054059816213942444, 'sigma_multiplier': 1.747430488145727, 'initialization_multiplier': 0.09029666120334702}. Best is trial 77 with value: -0.00011012576492267536.\n"
     ]
    },
    {
     "name": "stdout",
     "output_type": "stream",
     "text": [
      "Training has not converged after 500 steps\n",
      "Trial 123 final loss: 0.00006555\n",
      "\n",
      "Trial 124: LR=0.028004, SigmaM=1.6050, InitM=0.076954\n"
     ]
    },
    {
     "name": "stderr",
     "output_type": "stream",
     "text": [
      "Training Progress: 100%|██████████| 500/500 [00:04<00:00, 115.50it/s, loss=-0.000037, elapsed time=0.01, total time=4.34]\n",
      "[I 2025-05-23 09:42:15,244] Trial 124 finished with value: -3.734028498153749e-05 and parameters: {'learning_rate': 0.028003500119240236, 'sigma_multiplier': 1.6049964261920626, 'initialization_multiplier': 0.07695428362193797}. Best is trial 77 with value: -0.00011012576492267536.\n"
     ]
    },
    {
     "name": "stdout",
     "output_type": "stream",
     "text": [
      "Training has not converged after 500 steps\n",
      "Trial 124 final loss: -0.00003734\n",
      "\n",
      "Trial 125: LR=0.011743, SigmaM=1.9132, InitM=0.064702\n"
     ]
    },
    {
     "name": "stderr",
     "output_type": "stream",
     "text": [
      "Training Progress: 100%|██████████| 500/500 [00:04<00:00, 117.78it/s, loss=-0.000074, elapsed time=0.01, total time=4.26]\n",
      "[I 2025-05-23 09:42:19,513] Trial 125 finished with value: -7.42070931692077e-05 and parameters: {'learning_rate': 0.011742688610162763, 'sigma_multiplier': 1.9131769990192482, 'initialization_multiplier': 0.06470228692310323}. Best is trial 77 with value: -0.00011012576492267536.\n"
     ]
    },
    {
     "name": "stdout",
     "output_type": "stream",
     "text": [
      "Training has not converged after 500 steps\n",
      "Trial 125 final loss: -0.00007421\n",
      "\n",
      "Trial 126: LR=0.011609, SigmaM=1.9386, InitM=0.953326\n"
     ]
    },
    {
     "name": "stderr",
     "output_type": "stream",
     "text": [
      "Training Progress: 100%|██████████| 500/500 [00:04<00:00, 117.42it/s, loss=0.000099, elapsed time=0.01, total time=4.27] \n",
      "[I 2025-05-23 09:42:23,791] Trial 126 finished with value: 9.930475692272065e-05 and parameters: {'learning_rate': 0.011608768982603688, 'sigma_multiplier': 1.9385730562167185, 'initialization_multiplier': 0.9533256417653154}. Best is trial 77 with value: -0.00011012576492267536.\n"
     ]
    },
    {
     "name": "stdout",
     "output_type": "stream",
     "text": [
      "Training has not converged after 500 steps\n",
      "Trial 126 final loss: 0.00009930\n",
      "\n",
      "Trial 127: LR=0.006098, SigmaM=1.9029, InitM=0.061230\n"
     ]
    },
    {
     "name": "stderr",
     "output_type": "stream",
     "text": [
      "Training Progress: 100%|██████████| 500/500 [00:04<00:00, 119.95it/s, loss=0.000036, elapsed time=0.01, total time=4.18] \n",
      "[I 2025-05-23 09:42:27,977] Trial 127 finished with value: 3.5716566333241637e-05 and parameters: {'learning_rate': 0.006098017504106071, 'sigma_multiplier': 1.9028931431837457, 'initialization_multiplier': 0.061229559768037074}. Best is trial 77 with value: -0.00011012576492267536.\n"
     ]
    },
    {
     "name": "stdout",
     "output_type": "stream",
     "text": [
      "Training has not converged after 500 steps\n",
      "Trial 127 final loss: 0.00003572\n",
      "\n",
      "Trial 128: LR=0.008501, SigmaM=1.8463, InitM=0.024444\n"
     ]
    },
    {
     "name": "stderr",
     "output_type": "stream",
     "text": [
      "Training Progress: 100%|██████████| 500/500 [00:04<00:00, 116.35it/s, loss=0.000015, elapsed time=0.01, total time=4.31] \n",
      "[I 2025-05-23 09:42:32,293] Trial 128 finished with value: 1.4898079966269585e-05 and parameters: {'learning_rate': 0.008500834852106618, 'sigma_multiplier': 1.8463052442044943, 'initialization_multiplier': 0.024443622479070524}. Best is trial 77 with value: -0.00011012576492267536.\n"
     ]
    },
    {
     "name": "stdout",
     "output_type": "stream",
     "text": [
      "Training has not converged after 500 steps\n",
      "Trial 128 final loss: 0.00001490\n",
      "\n",
      "Trial 129: LR=0.013972, SigmaM=1.9663, InitM=0.070808\n"
     ]
    },
    {
     "name": "stderr",
     "output_type": "stream",
     "text": [
      "Training Progress: 100%|██████████| 500/500 [00:04<00:00, 119.70it/s, loss=-0.000013, elapsed time=0.01, total time=4.19]\n",
      "[I 2025-05-23 09:42:36,488] Trial 129 finished with value: -1.3241805236290874e-05 and parameters: {'learning_rate': 0.013971809574808352, 'sigma_multiplier': 1.9663470039681124, 'initialization_multiplier': 0.07080786921361597}. Best is trial 77 with value: -0.00011012576492267536.\n"
     ]
    },
    {
     "name": "stdout",
     "output_type": "stream",
     "text": [
      "Training has not converged after 500 steps\n",
      "Trial 129 final loss: -0.00001324\n",
      "\n",
      "Trial 130: LR=0.011352, SigmaM=0.9879, InitM=0.047572\n"
     ]
    },
    {
     "name": "stderr",
     "output_type": "stream",
     "text": [
      "Training Progress: 100%|██████████| 500/500 [00:04<00:00, 103.78it/s, loss=0.000516, elapsed time=0.01, total time=4.83]\n",
      "[I 2025-05-23 09:42:41,327] Trial 130 finished with value: 0.0005161555351206667 and parameters: {'learning_rate': 0.011352205939421484, 'sigma_multiplier': 0.9879293647472981, 'initialization_multiplier': 0.04757157015893486}. Best is trial 77 with value: -0.00011012576492267536.\n"
     ]
    },
    {
     "name": "stdout",
     "output_type": "stream",
     "text": [
      "Training has not converged after 500 steps\n",
      "Trial 130 final loss: 0.00051616\n",
      "\n",
      "Trial 131: LR=0.020861, SigmaM=1.7823, InitM=0.082374\n"
     ]
    },
    {
     "name": "stderr",
     "output_type": "stream",
     "text": [
      "Training Progress: 100%|██████████| 500/500 [00:04<00:00, 116.34it/s, loss=0.000100, elapsed time=0.01, total time=4.31] \n",
      "[I 2025-05-23 09:42:45,644] Trial 131 finished with value: 9.95856396596956e-05 and parameters: {'learning_rate': 0.020860766255864013, 'sigma_multiplier': 1.7822575908658491, 'initialization_multiplier': 0.08237391439894264}. Best is trial 77 with value: -0.00011012576492267536.\n"
     ]
    },
    {
     "name": "stdout",
     "output_type": "stream",
     "text": [
      "Training has not converged after 500 steps\n",
      "Trial 131 final loss: 0.00009959\n",
      "\n",
      "Trial 132: LR=0.017082, SigmaM=1.7158, InitM=0.103833\n"
     ]
    },
    {
     "name": "stderr",
     "output_type": "stream",
     "text": [
      "Training Progress: 100%|██████████| 500/500 [00:04<00:00, 117.06it/s, loss=0.000062, elapsed time=0.01, total time=4.28] \n",
      "[I 2025-05-23 09:42:49,935] Trial 132 finished with value: 6.206850590009395e-05 and parameters: {'learning_rate': 0.01708192800827743, 'sigma_multiplier': 1.7157650643204367, 'initialization_multiplier': 0.10383313545286932}. Best is trial 77 with value: -0.00011012576492267536.\n"
     ]
    },
    {
     "name": "stdout",
     "output_type": "stream",
     "text": [
      "Training has not converged after 500 steps\n",
      "Trial 132 final loss: 0.00006207\n",
      "\n",
      "Trial 133: LR=0.007092, SigmaM=1.8922, InitM=0.123597\n"
     ]
    },
    {
     "name": "stderr",
     "output_type": "stream",
     "text": [
      "Training Progress: 100%|██████████| 500/500 [00:04<00:00, 117.89it/s, loss=-0.000003, elapsed time=0.01, total time=4.25]\n",
      "[I 2025-05-23 09:42:54,196] Trial 133 finished with value: -3.308241140839761e-06 and parameters: {'learning_rate': 0.00709243410305283, 'sigma_multiplier': 1.8922445706283546, 'initialization_multiplier': 0.12359747103071732}. Best is trial 77 with value: -0.00011012576492267536.\n"
     ]
    },
    {
     "name": "stdout",
     "output_type": "stream",
     "text": [
      "Training has not converged after 500 steps\n",
      "Trial 133 final loss: -0.00000331\n",
      "\n",
      "Trial 134: LR=0.002969, SigmaM=1.6835, InitM=0.066228\n"
     ]
    },
    {
     "name": "stderr",
     "output_type": "stream",
     "text": [
      "Training Progress: 100%|██████████| 500/500 [00:04<00:00, 114.71it/s, loss=-0.000034, elapsed time=0.01, total time=4.37]\n",
      "[I 2025-05-23 09:42:58,573] Trial 134 finished with value: -3.4285035751865154e-05 and parameters: {'learning_rate': 0.002968745136329468, 'sigma_multiplier': 1.6834638247364586, 'initialization_multiplier': 0.06622790208006446}. Best is trial 77 with value: -0.00011012576492267536.\n"
     ]
    },
    {
     "name": "stdout",
     "output_type": "stream",
     "text": [
      "Training has not converged after 500 steps\n",
      "Trial 134 final loss: -0.00003429\n",
      "\n",
      "Trial 135: LR=0.037498, SigmaM=1.6426, InitM=0.014858\n"
     ]
    },
    {
     "name": "stderr",
     "output_type": "stream",
     "text": [
      "Training Progress: 100%|██████████| 500/500 [00:04<00:00, 110.27it/s, loss=0.000157, elapsed time=0.01, total time=4.55] \n",
      "[I 2025-05-23 09:43:03,129] Trial 135 finished with value: 0.00015741432787187506 and parameters: {'learning_rate': 0.03749804421883864, 'sigma_multiplier': 1.642595611435234, 'initialization_multiplier': 0.01485837539423083}. Best is trial 77 with value: -0.00011012576492267536.\n"
     ]
    },
    {
     "name": "stdout",
     "output_type": "stream",
     "text": [
      "Training has not converged after 500 steps\n",
      "Trial 135 final loss: 0.00015741\n",
      "\n",
      "Trial 136: LR=0.000071, SigmaM=1.8240, InitM=0.187267\n"
     ]
    },
    {
     "name": "stderr",
     "output_type": "stream",
     "text": [
      "Training Progress: 100%|██████████| 500/500 [00:04<00:00, 116.54it/s, loss=0.072645, elapsed time=0.01, total time=4.3] \n",
      "[I 2025-05-23 09:43:07,437] Trial 136 finished with value: 0.07264537472734252 and parameters: {'learning_rate': 7.136037435187316e-05, 'sigma_multiplier': 1.8240051122333765, 'initialization_multiplier': 0.18726678479147138}. Best is trial 77 with value: -0.00011012576492267536.\n"
     ]
    },
    {
     "name": "stdout",
     "output_type": "stream",
     "text": [
      "Training has not converged after 500 steps\n",
      "Trial 136 final loss: 0.07264537\n",
      "\n",
      "Trial 137: LR=0.018691, SigmaM=1.7695, InitM=0.055639\n"
     ]
    },
    {
     "name": "stderr",
     "output_type": "stream",
     "text": [
      "Training Progress: 100%|██████████| 500/500 [00:04<00:00, 114.81it/s, loss=0.000032, elapsed time=0.01, total time=4.37] \n",
      "[I 2025-05-23 09:43:11,812] Trial 137 finished with value: 3.2235166839347654e-05 and parameters: {'learning_rate': 0.018691196996152206, 'sigma_multiplier': 1.7695338198769563, 'initialization_multiplier': 0.05563850750601648}. Best is trial 77 with value: -0.00011012576492267536.\n"
     ]
    },
    {
     "name": "stdout",
     "output_type": "stream",
     "text": [
      "Training has not converged after 500 steps\n",
      "Trial 137 final loss: 0.00003224\n",
      "\n",
      "Trial 138: LR=0.015236, SigmaM=1.5310, InitM=0.096943\n"
     ]
    },
    {
     "name": "stderr",
     "output_type": "stream",
     "text": [
      "Training Progress: 100%|██████████| 500/500 [00:04<00:00, 114.95it/s, loss=0.000136, elapsed time=0.01, total time=4.36] \n",
      "[I 2025-05-23 09:43:16,181] Trial 138 finished with value: 0.00013630330461911316 and parameters: {'learning_rate': 0.015236060661044642, 'sigma_multiplier': 1.5309927493231428, 'initialization_multiplier': 0.0969430701221484}. Best is trial 77 with value: -0.00011012576492267536.\n"
     ]
    },
    {
     "name": "stdout",
     "output_type": "stream",
     "text": [
      "Training has not converged after 500 steps\n",
      "Trial 138 final loss: 0.00013630\n",
      "\n",
      "Trial 139: LR=0.044125, SigmaM=1.8666, InitM=0.135695\n"
     ]
    },
    {
     "name": "stderr",
     "output_type": "stream",
     "text": [
      "Training Progress: 100%|██████████| 500/500 [00:04<00:00, 119.00it/s, loss=0.000000, elapsed time=0.01, total time=4.21] \n",
      "[I 2025-05-23 09:43:20,402] Trial 139 finished with value: 2.6592826820580144e-07 and parameters: {'learning_rate': 0.0441254641823298, 'sigma_multiplier': 1.8665556021773015, 'initialization_multiplier': 0.13569450302555988}. Best is trial 77 with value: -0.00011012576492267536.\n"
     ]
    },
    {
     "name": "stdout",
     "output_type": "stream",
     "text": [
      "Training has not converged after 500 steps\n",
      "Trial 139 final loss: 0.00000027\n",
      "\n",
      "Trial 140: LR=0.025759, SigmaM=1.9427, InitM=0.080672\n"
     ]
    },
    {
     "name": "stderr",
     "output_type": "stream",
     "text": [
      "Training Progress: 100%|██████████| 500/500 [00:04<00:00, 107.76it/s, loss=-0.000005, elapsed time=0.01, total time=4.65]\n",
      "[I 2025-05-23 09:43:25,060] Trial 140 finished with value: -4.511456976592379e-06 and parameters: {'learning_rate': 0.025758639025790307, 'sigma_multiplier': 1.9427170005942787, 'initialization_multiplier': 0.08067160687729842}. Best is trial 77 with value: -0.00011012576492267536.\n"
     ]
    },
    {
     "name": "stdout",
     "output_type": "stream",
     "text": [
      "Training has not converged after 500 steps\n",
      "Trial 140 final loss: -0.00000451\n",
      "\n",
      "Trial 141: LR=0.012104, SigmaM=1.9056, InitM=0.069530\n"
     ]
    },
    {
     "name": "stderr",
     "output_type": "stream",
     "text": [
      "Training Progress: 100%|██████████| 500/500 [00:04<00:00, 119.80it/s, loss=0.000024, elapsed time=0.01, total time=4.18] \n",
      "[I 2025-05-23 09:43:29,252] Trial 141 finished with value: 2.4182174689745162e-05 and parameters: {'learning_rate': 0.012104318632621543, 'sigma_multiplier': 1.9055528492848404, 'initialization_multiplier': 0.06953033617627938}. Best is trial 77 with value: -0.00011012576492267536.\n"
     ]
    },
    {
     "name": "stdout",
     "output_type": "stream",
     "text": [
      "Training has not converged after 500 steps\n",
      "Trial 141 final loss: 0.00002418\n",
      "\n",
      "Trial 142: LR=0.015264, SigmaM=1.8059, InitM=0.116268\n"
     ]
    },
    {
     "name": "stderr",
     "output_type": "stream",
     "text": [
      "Training Progress: 100%|██████████| 500/500 [00:04<00:00, 119.53it/s, loss=0.000014, elapsed time=0.01, total time=4.19] \n",
      "[I 2025-05-23 09:43:33,454] Trial 142 finished with value: 1.433441304076252e-05 and parameters: {'learning_rate': 0.01526418831747166, 'sigma_multiplier': 1.8058682422834793, 'initialization_multiplier': 0.11626784425790375}. Best is trial 77 with value: -0.00011012576492267536.\n"
     ]
    },
    {
     "name": "stdout",
     "output_type": "stream",
     "text": [
      "Training has not converged after 500 steps\n",
      "Trial 142 final loss: 0.00001433\n",
      "\n",
      "Trial 143: LR=0.009170, SigmaM=1.9800, InitM=0.076955\n"
     ]
    },
    {
     "name": "stderr",
     "output_type": "stream",
     "text": [
      "Training Progress: 100%|██████████| 500/500 [00:04<00:00, 118.77it/s, loss=-0.000026, elapsed time=0.01, total time=4.22]\n",
      "[I 2025-05-23 09:43:37,682] Trial 143 finished with value: -2.5991655578798966e-05 and parameters: {'learning_rate': 0.00916994233175039, 'sigma_multiplier': 1.9799539850801298, 'initialization_multiplier': 0.07695461168970373}. Best is trial 77 with value: -0.00011012576492267536.\n"
     ]
    },
    {
     "name": "stdout",
     "output_type": "stream",
     "text": [
      "Training has not converged after 500 steps\n",
      "Trial 143 final loss: -0.00002599\n",
      "\n",
      "Trial 144: LR=0.020646, SigmaM=1.7194, InitM=0.049547\n"
     ]
    },
    {
     "name": "stderr",
     "output_type": "stream",
     "text": [
      "Training Progress: 100%|██████████| 500/500 [00:04<00:00, 115.92it/s, loss=-0.000030, elapsed time=0.01, total time=4.33]\n",
      "[I 2025-05-23 09:43:42,016] Trial 144 finished with value: -3.0499801876097123e-05 and parameters: {'learning_rate': 0.020646107229231988, 'sigma_multiplier': 1.7194234356418774, 'initialization_multiplier': 0.04954668911396602}. Best is trial 77 with value: -0.00011012576492267536.\n"
     ]
    },
    {
     "name": "stdout",
     "output_type": "stream",
     "text": [
      "Training has not converged after 500 steps\n",
      "Trial 144 final loss: -0.00003050\n",
      "\n",
      "Trial 145: LR=0.075782, SigmaM=1.8778, InitM=0.060266\n"
     ]
    },
    {
     "name": "stderr",
     "output_type": "stream",
     "text": [
      "Training Progress: 100%|██████████| 500/500 [00:04<00:00, 119.21it/s, loss=0.000106, elapsed time=0.01, total time=4.2]  \n",
      "[I 2025-05-23 09:43:46,230] Trial 145 finished with value: 0.00010638383467016334 and parameters: {'learning_rate': 0.07578156685703552, 'sigma_multiplier': 1.8778226564529845, 'initialization_multiplier': 0.06026565473420382}. Best is trial 77 with value: -0.00011012576492267536.\n"
     ]
    },
    {
     "name": "stdout",
     "output_type": "stream",
     "text": [
      "Training has not converged after 500 steps\n",
      "Trial 145 final loss: 0.00010638\n",
      "\n",
      "Trial 146: LR=0.033719, SigmaM=1.8332, InitM=0.090545\n"
     ]
    },
    {
     "name": "stderr",
     "output_type": "stream",
     "text": [
      "Training Progress: 100%|██████████| 500/500 [00:04<00:00, 118.55it/s, loss=0.000110, elapsed time=0.01, total time=4.23] \n",
      "[I 2025-05-23 09:43:50,467] Trial 146 finished with value: 0.00011014459769448864 and parameters: {'learning_rate': 0.03371874336265735, 'sigma_multiplier': 1.833209258783265, 'initialization_multiplier': 0.09054512406574908}. Best is trial 77 with value: -0.00011012576492267536.\n"
     ]
    },
    {
     "name": "stdout",
     "output_type": "stream",
     "text": [
      "Training has not converged after 500 steps\n",
      "Trial 146 final loss: 0.00011014\n",
      "\n",
      "Trial 147: LR=0.016412, SigmaM=1.7491, InitM=0.160141\n"
     ]
    },
    {
     "name": "stderr",
     "output_type": "stream",
     "text": [
      "Training Progress: 100%|██████████| 500/500 [00:04<00:00, 117.71it/s, loss=-0.000048, elapsed time=0.01, total time=4.26]\n",
      "[I 2025-05-23 09:43:54,734] Trial 147 finished with value: -4.80429766488488e-05 and parameters: {'learning_rate': 0.01641189474542072, 'sigma_multiplier': 1.7491270481318504, 'initialization_multiplier': 0.16014064885137141}. Best is trial 77 with value: -0.00011012576492267536.\n"
     ]
    },
    {
     "name": "stdout",
     "output_type": "stream",
     "text": [
      "Training has not converged after 500 steps\n",
      "Trial 147 final loss: -0.00004804\n",
      "\n",
      "Trial 148: LR=0.010469, SigmaM=1.7463, InitM=0.168295\n"
     ]
    },
    {
     "name": "stderr",
     "output_type": "stream",
     "text": [
      "Training Progress: 100%|██████████| 500/500 [00:04<00:00, 118.76it/s, loss=0.000120, elapsed time=0.01, total time=4.22] \n",
      "[I 2025-05-23 09:43:58,963] Trial 148 finished with value: 0.00011979375638933984 and parameters: {'learning_rate': 0.010468688788808508, 'sigma_multiplier': 1.7462847666451244, 'initialization_multiplier': 0.1682946036171537}. Best is trial 77 with value: -0.00011012576492267536.\n"
     ]
    },
    {
     "name": "stdout",
     "output_type": "stream",
     "text": [
      "Training has not converged after 500 steps\n",
      "Trial 148 final loss: 0.00011979\n",
      "\n",
      "Trial 149: LR=0.013232, SigmaM=1.6946, InitM=0.271182\n"
     ]
    },
    {
     "name": "stderr",
     "output_type": "stream",
     "text": [
      "Training Progress: 100%|██████████| 500/500 [00:04<00:00, 116.39it/s, loss=-0.000025, elapsed time=0.01, total time=4.31]\n",
      "[I 2025-05-23 09:44:03,277] Trial 149 finished with value: -2.4663180866133232e-05 and parameters: {'learning_rate': 0.013231740256749879, 'sigma_multiplier': 1.6945832310673747, 'initialization_multiplier': 0.2711819991068178}. Best is trial 77 with value: -0.00011012576492267536.\n"
     ]
    },
    {
     "name": "stdout",
     "output_type": "stream",
     "text": [
      "Training has not converged after 500 steps\n",
      "Trial 149 final loss: -0.00002466\n",
      "\n",
      "Trial 150: LR=0.018897, SigmaM=1.6492, InitM=0.135803\n"
     ]
    },
    {
     "name": "stderr",
     "output_type": "stream",
     "text": [
      "Training Progress: 100%|██████████| 500/500 [00:04<00:00, 118.02it/s, loss=-0.000026, elapsed time=0.01, total time=4.25]\n",
      "[I 2025-05-23 09:44:07,535] Trial 150 finished with value: -2.6320721821718268e-05 and parameters: {'learning_rate': 0.01889679288951089, 'sigma_multiplier': 1.649202274203783, 'initialization_multiplier': 0.13580335518421824}. Best is trial 77 with value: -0.00011012576492267536.\n"
     ]
    },
    {
     "name": "stdout",
     "output_type": "stream",
     "text": [
      "Training has not converged after 500 steps\n",
      "Trial 150 final loss: -0.00002632\n",
      "\n",
      "Trial 151: LR=0.016308, SigmaM=1.7868, InitM=0.106643\n"
     ]
    },
    {
     "name": "stderr",
     "output_type": "stream",
     "text": [
      "Training Progress: 100%|██████████| 500/500 [00:04<00:00, 117.29it/s, loss=-0.000079, elapsed time=0.01, total time=4.27]\n",
      "[I 2025-05-23 09:44:11,816] Trial 151 finished with value: -7.872327048808307e-05 and parameters: {'learning_rate': 0.016307971586228962, 'sigma_multiplier': 1.7868209971447955, 'initialization_multiplier': 0.10664271111608176}. Best is trial 77 with value: -0.00011012576492267536.\n"
     ]
    },
    {
     "name": "stdout",
     "output_type": "stream",
     "text": [
      "Training has not converged after 500 steps\n",
      "Trial 151 final loss: -0.00007872\n",
      "\n",
      "Trial 152: LR=0.025593, SigmaM=1.7893, InitM=0.110553\n"
     ]
    },
    {
     "name": "stderr",
     "output_type": "stream",
     "text": [
      "Training Progress: 100%|██████████| 500/500 [00:04<00:00, 118.08it/s, loss=-0.000026, elapsed time=0.01, total time=4.24]\n",
      "[I 2025-05-23 09:44:16,069] Trial 152 finished with value: -2.614642037867196e-05 and parameters: {'learning_rate': 0.025593467572501305, 'sigma_multiplier': 1.7892931145277176, 'initialization_multiplier': 0.11055344616131434}. Best is trial 77 with value: -0.00011012576492267536.\n"
     ]
    },
    {
     "name": "stdout",
     "output_type": "stream",
     "text": [
      "Training has not converged after 500 steps\n",
      "Trial 152 final loss: -0.00002615\n",
      "\n",
      "Trial 153: LR=0.022779, SigmaM=1.7410, InitM=0.225882\n"
     ]
    },
    {
     "name": "stderr",
     "output_type": "stream",
     "text": [
      "Training Progress: 100%|██████████| 500/500 [00:04<00:00, 115.42it/s, loss=0.000078, elapsed time=0.01, total time=4.34] \n",
      "[I 2025-05-23 09:44:20,422] Trial 153 finished with value: 7.76497270731051e-05 and parameters: {'learning_rate': 0.022779441444083188, 'sigma_multiplier': 1.7409596266065306, 'initialization_multiplier': 0.22588216594991023}. Best is trial 77 with value: -0.00011012576492267536.\n"
     ]
    },
    {
     "name": "stdout",
     "output_type": "stream",
     "text": [
      "Training has not converged after 500 steps\n",
      "Trial 153 final loss: 0.00007765\n",
      "\n",
      "Trial 154: LR=0.017415, SigmaM=1.5909, InitM=0.004692\n"
     ]
    },
    {
     "name": "stderr",
     "output_type": "stream",
     "text": [
      "Training Progress: 100%|██████████| 500/500 [00:04<00:00, 115.34it/s, loss=0.000086, elapsed time=0.01, total time=4.35] \n",
      "[I 2025-05-23 09:44:24,776] Trial 154 finished with value: 8.580430831249722e-05 and parameters: {'learning_rate': 0.017415395290328057, 'sigma_multiplier': 1.5908945039185474, 'initialization_multiplier': 0.004692226336250938}. Best is trial 77 with value: -0.00011012576492267536.\n"
     ]
    },
    {
     "name": "stdout",
     "output_type": "stream",
     "text": [
      "Training has not converged after 500 steps\n",
      "Trial 154 final loss: 0.00008580\n",
      "\n",
      "Trial 155: LR=0.013822, SigmaM=1.7042, InitM=0.160882\n"
     ]
    },
    {
     "name": "stderr",
     "output_type": "stream",
     "text": [
      "Training Progress: 100%|██████████| 500/500 [00:04<00:00, 118.24it/s, loss=0.000020, elapsed time=0.01, total time=4.24] \n",
      "[I 2025-05-23 09:44:29,025] Trial 155 finished with value: 2.0003120839566416e-05 and parameters: {'learning_rate': 0.013822115792728927, 'sigma_multiplier': 1.7041987115541626, 'initialization_multiplier': 0.160881823541468}. Best is trial 77 with value: -0.00011012576492267536.\n"
     ]
    },
    {
     "name": "stdout",
     "output_type": "stream",
     "text": [
      "Training has not converged after 500 steps\n",
      "Trial 155 final loss: 0.00002000\n",
      "\n",
      "Trial 156: LR=0.008085, SigmaM=1.7945, InitM=0.102441\n"
     ]
    },
    {
     "name": "stderr",
     "output_type": "stream",
     "text": [
      "Training Progress: 100%|██████████| 500/500 [00:04<00:00, 118.50it/s, loss=0.000038, elapsed time=0.01, total time=4.23] \n",
      "[I 2025-05-23 09:44:33,263] Trial 156 finished with value: 3.8104295012926644e-05 and parameters: {'learning_rate': 0.008084717763240486, 'sigma_multiplier': 1.7945399176848529, 'initialization_multiplier': 0.10244141770290634}. Best is trial 77 with value: -0.00011012576492267536.\n"
     ]
    },
    {
     "name": "stdout",
     "output_type": "stream",
     "text": [
      "Training has not converged after 500 steps\n",
      "Trial 156 final loss: 0.00003810\n",
      "\n",
      "Trial 157: LR=0.010612, SigmaM=1.8494, InitM=0.086239\n"
     ]
    },
    {
     "name": "stderr",
     "output_type": "stream",
     "text": [
      "Training Progress: 100%|██████████| 500/500 [00:04<00:00, 119.21it/s, loss=0.000001, elapsed time=0.01, total time=4.2]  \n",
      "[I 2025-05-23 09:44:37,475] Trial 157 finished with value: 1.0411486106159433e-06 and parameters: {'learning_rate': 0.010611825867647938, 'sigma_multiplier': 1.849442321257344, 'initialization_multiplier': 0.08623899239850093}. Best is trial 77 with value: -0.00011012576492267536.\n"
     ]
    },
    {
     "name": "stdout",
     "output_type": "stream",
     "text": [
      "Training has not converged after 500 steps\n",
      "Trial 157 final loss: 0.00000104\n",
      "\n",
      "Trial 158: LR=0.030112, SigmaM=1.7697, InitM=0.195263\n"
     ]
    },
    {
     "name": "stderr",
     "output_type": "stream",
     "text": [
      "Training Progress: 100%|██████████| 500/500 [00:04<00:00, 118.21it/s, loss=-0.000012, elapsed time=0.01, total time=4.24]\n",
      "[I 2025-05-23 09:44:41,724] Trial 158 finished with value: -1.1772885479966465e-05 and parameters: {'learning_rate': 0.030111614913090747, 'sigma_multiplier': 1.7697364047647803, 'initialization_multiplier': 0.1952626581793353}. Best is trial 77 with value: -0.00011012576492267536.\n"
     ]
    },
    {
     "name": "stdout",
     "output_type": "stream",
     "text": [
      "Training has not converged after 500 steps\n",
      "Trial 158 final loss: -0.00001177\n",
      "\n",
      "Trial 159: LR=0.022023, SigmaM=0.7309, InitM=0.122075\n"
     ]
    },
    {
     "name": "stderr",
     "output_type": "stream",
     "text": [
      "Training Progress: 100%|██████████| 500/500 [00:05<00:00, 98.38it/s, loss=0.001083, elapsed time=0.01, total time=5.09] \n",
      "[I 2025-05-23 09:44:46,825] Trial 159 finished with value: 0.001083326068458018 and parameters: {'learning_rate': 0.022022780331327287, 'sigma_multiplier': 0.7309121168733389, 'initialization_multiplier': 0.12207512082758668}. Best is trial 77 with value: -0.00011012576492267536.\n"
     ]
    },
    {
     "name": "stdout",
     "output_type": "stream",
     "text": [
      "Training has not converged after 500 steps\n",
      "Trial 159 final loss: 0.00108333\n",
      "\n",
      "Trial 160: LR=0.012923, SigmaM=1.6573, InitM=0.036584\n"
     ]
    },
    {
     "name": "stderr",
     "output_type": "stream",
     "text": [
      "Training Progress: 100%|██████████| 500/500 [00:04<00:00, 118.49it/s, loss=-0.000056, elapsed time=0.01, total time=4.23]\n",
      "[I 2025-05-23 09:44:51,063] Trial 160 finished with value: -5.593565687732684e-05 and parameters: {'learning_rate': 0.01292264135945501, 'sigma_multiplier': 1.6573420386611326, 'initialization_multiplier': 0.036584100801491895}. Best is trial 77 with value: -0.00011012576492267536.\n"
     ]
    },
    {
     "name": "stdout",
     "output_type": "stream",
     "text": [
      "Training has not converged after 500 steps\n",
      "Trial 160 final loss: -0.00005594\n",
      "\n",
      "Trial 161: LR=0.015571, SigmaM=1.6356, InitM=0.030675\n"
     ]
    },
    {
     "name": "stderr",
     "output_type": "stream",
     "text": [
      "Training Progress: 100%|██████████| 500/500 [00:04<00:00, 117.42it/s, loss=-0.000037, elapsed time=0.01, total time=4.27]\n",
      "[I 2025-05-23 09:44:55,340] Trial 161 finished with value: -3.6584800496169026e-05 and parameters: {'learning_rate': 0.015571474658235556, 'sigma_multiplier': 1.6356090723916543, 'initialization_multiplier': 0.030674883019314477}. Best is trial 77 with value: -0.00011012576492267536.\n"
     ]
    },
    {
     "name": "stdout",
     "output_type": "stream",
     "text": [
      "Training has not converged after 500 steps\n",
      "Trial 161 final loss: -0.00003658\n",
      "\n",
      "Trial 162: LR=0.011265, SigmaM=1.6716, InitM=0.045333\n"
     ]
    },
    {
     "name": "stderr",
     "output_type": "stream",
     "text": [
      "Training Progress: 100%|██████████| 500/500 [00:04<00:00, 118.77it/s, loss=-0.000027, elapsed time=0.01, total time=4.23]\n",
      "[I 2025-05-23 09:44:59,577] Trial 162 finished with value: -2.7023513310129488e-05 and parameters: {'learning_rate': 0.011264643825966902, 'sigma_multiplier': 1.6715804064758577, 'initialization_multiplier': 0.04533307527405849}. Best is trial 77 with value: -0.00011012576492267536.\n"
     ]
    },
    {
     "name": "stdout",
     "output_type": "stream",
     "text": [
      "Training has not converged after 500 steps\n",
      "Trial 162 final loss: -0.00002702\n",
      "\n",
      "Trial 163: LR=0.012784, SigmaM=1.7366, InitM=0.042153\n"
     ]
    },
    {
     "name": "stderr",
     "output_type": "stream",
     "text": [
      "Training Progress: 100%|██████████| 500/500 [00:04<00:00, 119.50it/s, loss=-0.000023, elapsed time=0.01, total time=4.19]\n",
      "[I 2025-05-23 09:45:03,780] Trial 163 finished with value: -2.2642523373260218e-05 and parameters: {'learning_rate': 0.012783793202740068, 'sigma_multiplier': 1.7366255068414864, 'initialization_multiplier': 0.042153282140008165}. Best is trial 77 with value: -0.00011012576492267536.\n"
     ]
    },
    {
     "name": "stdout",
     "output_type": "stream",
     "text": [
      "Training has not converged after 500 steps\n",
      "Trial 163 final loss: -0.00002264\n",
      "\n",
      "Trial 164: LR=0.017649, SigmaM=1.5610, InitM=0.035478\n"
     ]
    },
    {
     "name": "stderr",
     "output_type": "stream",
     "text": [
      "Training Progress: 100%|██████████| 500/500 [00:04<00:00, 116.72it/s, loss=-0.000028, elapsed time=0.01, total time=4.3] \n",
      "[I 2025-05-23 09:45:08,083] Trial 164 finished with value: -2.751991302551627e-05 and parameters: {'learning_rate': 0.017649405176311854, 'sigma_multiplier': 1.561014867667162, 'initialization_multiplier': 0.035477896943143156}. Best is trial 77 with value: -0.00011012576492267536.\n"
     ]
    },
    {
     "name": "stdout",
     "output_type": "stream",
     "text": [
      "Training has not converged after 500 steps\n",
      "Trial 164 final loss: -0.00002752\n",
      "\n",
      "Trial 165: LR=0.009265, SigmaM=1.2856, InitM=0.053777\n"
     ]
    },
    {
     "name": "stderr",
     "output_type": "stream",
     "text": [
      "Training Progress: 100%|██████████| 500/500 [00:04<00:00, 112.41it/s, loss=0.000047, elapsed time=0.01, total time=4.46] \n",
      "[I 2025-05-23 09:45:12,551] Trial 165 finished with value: 4.682004291544836e-05 and parameters: {'learning_rate': 0.009264731039824765, 'sigma_multiplier': 1.285593447875238, 'initialization_multiplier': 0.05377735171197467}. Best is trial 77 with value: -0.00011012576492267536.\n"
     ]
    },
    {
     "name": "stdout",
     "output_type": "stream",
     "text": [
      "Training has not converged after 500 steps\n",
      "Trial 165 final loss: 0.00004682\n",
      "\n",
      "Trial 166: LR=0.012608, SigmaM=1.7037, InitM=0.064210\n"
     ]
    },
    {
     "name": "stderr",
     "output_type": "stream",
     "text": [
      "Training Progress: 100%|██████████| 500/500 [00:04<00:00, 118.12it/s, loss=-0.000088, elapsed time=0.01, total time=4.24]\n",
      "[I 2025-05-23 09:45:16,803] Trial 166 finished with value: -8.790809237813907e-05 and parameters: {'learning_rate': 0.012608135321633079, 'sigma_multiplier': 1.7036715392424764, 'initialization_multiplier': 0.06421044755935151}. Best is trial 77 with value: -0.00011012576492267536.\n"
     ]
    },
    {
     "name": "stdout",
     "output_type": "stream",
     "text": [
      "Training has not converged after 500 steps\n",
      "Trial 166 final loss: -0.00008791\n",
      "\n",
      "Trial 167: LR=0.015957, SigmaM=1.8183, InitM=0.064837\n"
     ]
    },
    {
     "name": "stderr",
     "output_type": "stream",
     "text": [
      "Training Progress: 100%|██████████| 500/500 [00:04<00:00, 117.74it/s, loss=-0.000023, elapsed time=0.01, total time=4.26]\n",
      "[I 2025-05-23 09:45:21,068] Trial 167 finished with value: -2.262857909748954e-05 and parameters: {'learning_rate': 0.015956605764698623, 'sigma_multiplier': 1.81831559242461, 'initialization_multiplier': 0.06483719099092632}. Best is trial 77 with value: -0.00011012576492267536.\n"
     ]
    },
    {
     "name": "stdout",
     "output_type": "stream",
     "text": [
      "Training has not converged after 500 steps\n",
      "Trial 167 final loss: -0.00002263\n",
      "\n",
      "Trial 168: LR=0.012387, SigmaM=1.6137, InitM=0.059194\n"
     ]
    },
    {
     "name": "stderr",
     "output_type": "stream",
     "text": [
      "Training Progress: 100%|██████████| 500/500 [00:04<00:00, 117.14it/s, loss=0.000020, elapsed time=0.01, total time=4.28] \n",
      "[I 2025-05-23 09:45:25,356] Trial 168 finished with value: 1.9766131549748623e-05 and parameters: {'learning_rate': 0.012387379730560645, 'sigma_multiplier': 1.6136568620334846, 'initialization_multiplier': 0.059193986737260965}. Best is trial 77 with value: -0.00011012576492267536.\n"
     ]
    },
    {
     "name": "stdout",
     "output_type": "stream",
     "text": [
      "Training has not converged after 500 steps\n",
      "Trial 168 final loss: 0.00001977\n",
      "\n",
      "Trial 169: LR=0.007161, SigmaM=1.9094, InitM=0.075686\n"
     ]
    },
    {
     "name": "stderr",
     "output_type": "stream",
     "text": [
      "Training Progress: 100%|██████████| 500/500 [00:04<00:00, 120.69it/s, loss=-0.000044, elapsed time=0.01, total time=4.15]\n",
      "[I 2025-05-23 09:45:29,517] Trial 169 finished with value: -4.4226171852129146e-05 and parameters: {'learning_rate': 0.007161154925514427, 'sigma_multiplier': 1.9094447776776715, 'initialization_multiplier': 0.07568586654221389}. Best is trial 77 with value: -0.00011012576492267536.\n"
     ]
    },
    {
     "name": "stdout",
     "output_type": "stream",
     "text": [
      "Training has not converged after 500 steps\n",
      "Trial 169 final loss: -0.00004423\n",
      "\n",
      "Trial 170: LR=0.014402, SigmaM=0.4195, InitM=0.028553\n"
     ]
    },
    {
     "name": "stderr",
     "output_type": "stream",
     "text": [
      "Training Progress: 100%|██████████| 500/500 [00:05<00:00, 85.29it/s, loss=0.001538, elapsed time=0.01, total time=5.87]\n",
      "[I 2025-05-23 09:45:35,398] Trial 170 finished with value: 0.0015379382255788338 and parameters: {'learning_rate': 0.014401849804664921, 'sigma_multiplier': 0.419519995847219, 'initialization_multiplier': 0.0285529282136222}. Best is trial 77 with value: -0.00011012576492267536.\n"
     ]
    },
    {
     "name": "stdout",
     "output_type": "stream",
     "text": [
      "Training has not converged after 500 steps\n",
      "Trial 170 final loss: 0.00153794\n",
      "\n",
      "Trial 171: LR=0.020010, SigmaM=1.6985, InitM=0.096024\n"
     ]
    },
    {
     "name": "stderr",
     "output_type": "stream",
     "text": [
      "Training Progress: 100%|██████████| 500/500 [00:04<00:00, 119.06it/s, loss=0.000097, elapsed time=0.01, total time=4.21] \n",
      "[I 2025-05-23 09:45:39,617] Trial 171 finished with value: 9.723040687114496e-05 and parameters: {'learning_rate': 0.02001024497180008, 'sigma_multiplier': 1.6984558301220682, 'initialization_multiplier': 0.0960242305434757}. Best is trial 77 with value: -0.00011012576492267536.\n"
     ]
    },
    {
     "name": "stdout",
     "output_type": "stream",
     "text": [
      "Training has not converged after 500 steps\n",
      "Trial 171 final loss: 0.00009723\n",
      "\n",
      "Trial 172: LR=0.010321, SigmaM=1.7679, InitM=0.037565\n"
     ]
    },
    {
     "name": "stderr",
     "output_type": "stream",
     "text": [
      "Training Progress: 100%|██████████| 500/500 [00:04<00:00, 119.28it/s, loss=0.000081, elapsed time=0.01, total time=4.2]  \n",
      "[I 2025-05-23 09:45:43,826] Trial 172 finished with value: 8.0512433306418e-05 and parameters: {'learning_rate': 0.010320784510108646, 'sigma_multiplier': 1.7678610866079847, 'initialization_multiplier': 0.0375651683531695}. Best is trial 77 with value: -0.00011012576492267536.\n"
     ]
    },
    {
     "name": "stdout",
     "output_type": "stream",
     "text": [
      "Training has not converged after 500 steps\n",
      "Trial 172 final loss: 0.00008051\n",
      "\n",
      "Trial 173: LR=0.013193, SigmaM=1.6617, InitM=0.147045\n"
     ]
    },
    {
     "name": "stderr",
     "output_type": "stream",
     "text": [
      "Training Progress: 100%|██████████| 500/500 [00:04<00:00, 117.83it/s, loss=0.000090, elapsed time=0.01, total time=4.25] \n",
      "[I 2025-05-23 09:45:48,088] Trial 173 finished with value: 9.003343537832143e-05 and parameters: {'learning_rate': 0.013192701619022596, 'sigma_multiplier': 1.661729561891302, 'initialization_multiplier': 0.14704463593465436}. Best is trial 77 with value: -0.00011012576492267536.\n"
     ]
    },
    {
     "name": "stdout",
     "output_type": "stream",
     "text": [
      "Training has not converged after 500 steps\n",
      "Trial 173 final loss: 0.00009003\n",
      "\n",
      "Trial 174: LR=0.001581, SigmaM=1.1696, InitM=0.052282\n"
     ]
    },
    {
     "name": "stderr",
     "output_type": "stream",
     "text": [
      "Training Progress: 100%|██████████| 500/500 [00:04<00:00, 109.98it/s, loss=0.000915, elapsed time=0.01, total time=4.56]\n",
      "[I 2025-05-23 09:45:52,653] Trial 174 finished with value: 0.0009153531099709793 and parameters: {'learning_rate': 0.001581242906406165, 'sigma_multiplier': 1.16964031846878, 'initialization_multiplier': 0.0522817880318828}. Best is trial 77 with value: -0.00011012576492267536.\n"
     ]
    },
    {
     "name": "stdout",
     "output_type": "stream",
     "text": [
      "Training has not converged after 500 steps\n",
      "Trial 174 final loss: 0.00091535\n",
      "\n",
      "Trial 175: LR=0.017370, SigmaM=1.7355, InitM=0.067086\n"
     ]
    },
    {
     "name": "stderr",
     "output_type": "stream",
     "text": [
      "Training Progress: 100%|██████████| 500/500 [00:04<00:00, 118.89it/s, loss=-0.000010, elapsed time=0.01, total time=4.22]\n",
      "[I 2025-05-23 09:45:56,877] Trial 175 finished with value: -1.0479867753043267e-05 and parameters: {'learning_rate': 0.017369812803479795, 'sigma_multiplier': 1.7354535726367952, 'initialization_multiplier': 0.06708586864911104}. Best is trial 77 with value: -0.00011012576492267536.\n"
     ]
    },
    {
     "name": "stdout",
     "output_type": "stream",
     "text": [
      "Training has not converged after 500 steps\n",
      "Trial 175 final loss: -0.00001048\n",
      "\n",
      "Trial 176: LR=0.026342, SigmaM=1.8642, InitM=0.085458\n"
     ]
    },
    {
     "name": "stderr",
     "output_type": "stream",
     "text": [
      "Training Progress: 100%|██████████| 500/500 [00:04<00:00, 120.57it/s, loss=-0.000052, elapsed time=0.01, total time=4.16]\n",
      "[I 2025-05-23 09:46:01,043] Trial 176 finished with value: -5.238452426629127e-05 and parameters: {'learning_rate': 0.026341769698545466, 'sigma_multiplier': 1.8641997630698723, 'initialization_multiplier': 0.08545795007058811}. Best is trial 77 with value: -0.00011012576492267536.\n"
     ]
    },
    {
     "name": "stdout",
     "output_type": "stream",
     "text": [
      "Training has not converged after 500 steps\n",
      "Trial 176 final loss: -0.00005238\n",
      "\n",
      "Trial 177: LR=0.022165, SigmaM=1.8562, InitM=0.082131\n"
     ]
    },
    {
     "name": "stderr",
     "output_type": "stream",
     "text": [
      "Training Progress: 100%|██████████| 500/500 [00:04<00:00, 119.97it/s, loss=-0.000004, elapsed time=0.01, total time=4.18]\n",
      "[I 2025-05-23 09:46:05,230] Trial 177 finished with value: -3.5710476307514364e-06 and parameters: {'learning_rate': 0.02216510325314286, 'sigma_multiplier': 1.8561682211011683, 'initialization_multiplier': 0.08213078979059985}. Best is trial 77 with value: -0.00011012576492267536.\n"
     ]
    },
    {
     "name": "stdout",
     "output_type": "stream",
     "text": [
      "Training has not converged after 500 steps\n",
      "Trial 177 final loss: -0.00000357\n",
      "\n",
      "Trial 178: LR=0.008453, SigmaM=1.9316, InitM=0.426789\n"
     ]
    },
    {
     "name": "stderr",
     "output_type": "stream",
     "text": [
      "Training Progress: 100%|██████████| 500/500 [00:04<00:00, 118.29it/s, loss=-0.000034, elapsed time=0.01, total time=4.24]\n",
      "[I 2025-05-23 09:46:09,476] Trial 178 finished with value: -3.355760918769074e-05 and parameters: {'learning_rate': 0.00845257239788292, 'sigma_multiplier': 1.9315550267494248, 'initialization_multiplier': 0.4267893234201723}. Best is trial 77 with value: -0.00011012576492267536.\n"
     ]
    },
    {
     "name": "stdout",
     "output_type": "stream",
     "text": [
      "Training has not converged after 500 steps\n",
      "Trial 178 final loss: -0.00003356\n",
      "\n",
      "Trial 179: LR=0.014795, SigmaM=1.8257, InitM=0.042269\n"
     ]
    },
    {
     "name": "stderr",
     "output_type": "stream",
     "text": [
      "Training Progress: 100%|██████████| 500/500 [00:04<00:00, 119.15it/s, loss=0.000014, elapsed time=0.01, total time=4.21] \n",
      "[I 2025-05-23 09:46:13,692] Trial 179 finished with value: 1.3742599751482933e-05 and parameters: {'learning_rate': 0.014795346112837013, 'sigma_multiplier': 1.8256533986589132, 'initialization_multiplier': 0.04226928399761042}. Best is trial 77 with value: -0.00011012576492267536.\n"
     ]
    },
    {
     "name": "stdout",
     "output_type": "stream",
     "text": [
      "Training has not converged after 500 steps\n",
      "Trial 179 final loss: 0.00001374\n",
      "\n",
      "Trial 180: LR=0.025598, SigmaM=1.9707, InitM=0.076345\n"
     ]
    },
    {
     "name": "stderr",
     "output_type": "stream",
     "text": [
      "Training Progress: 100%|██████████| 500/500 [00:04<00:00, 116.28it/s, loss=-0.000018, elapsed time=0.01, total time=4.31]\n",
      "[I 2025-05-23 09:46:18,015] Trial 180 finished with value: -1.7697914439693062e-05 and parameters: {'learning_rate': 0.02559753495152493, 'sigma_multiplier': 1.9706939988424557, 'initialization_multiplier': 0.07634473368434196}. Best is trial 77 with value: -0.00011012576492267536.\n"
     ]
    },
    {
     "name": "stdout",
     "output_type": "stream",
     "text": [
      "Training has not converged after 500 steps\n",
      "Trial 180 final loss: -0.00001770\n",
      "\n",
      "Trial 181: LR=0.035826, SigmaM=1.6980, InitM=0.113263\n"
     ]
    },
    {
     "name": "stderr",
     "output_type": "stream",
     "text": [
      "Training Progress: 100%|██████████| 500/500 [00:04<00:00, 116.05it/s, loss=-0.000010, elapsed time=0.01, total time=4.32]\n",
      "[I 2025-05-23 09:46:22,345] Trial 181 finished with value: -1.0091440104038567e-05 and parameters: {'learning_rate': 0.03582567184121522, 'sigma_multiplier': 1.6980376330816425, 'initialization_multiplier': 0.11326272094324005}. Best is trial 77 with value: -0.00011012576492267536.\n"
     ]
    },
    {
     "name": "stdout",
     "output_type": "stream",
     "text": [
      "Training has not converged after 500 steps\n",
      "Trial 181 final loss: -0.00001009\n",
      "\n",
      "Trial 182: LR=0.030026, SigmaM=1.7897, InitM=0.092616\n"
     ]
    },
    {
     "name": "stderr",
     "output_type": "stream",
     "text": [
      "Training Progress: 100%|██████████| 500/500 [00:04<00:00, 118.32it/s, loss=-0.000068, elapsed time=0.01, total time=4.24]\n",
      "[I 2025-05-23 09:46:26,590] Trial 182 finished with value: -6.769811577117955e-05 and parameters: {'learning_rate': 0.030025522317909028, 'sigma_multiplier': 1.7896938310143, 'initialization_multiplier': 0.09261584048279942}. Best is trial 77 with value: -0.00011012576492267536.\n"
     ]
    },
    {
     "name": "stdout",
     "output_type": "stream",
     "text": [
      "Training has not converged after 500 steps\n",
      "Trial 182 final loss: -0.00006770\n",
      "\n",
      "Trial 183: LR=0.018532, SigmaM=1.7978, InitM=0.091748\n"
     ]
    },
    {
     "name": "stderr",
     "output_type": "stream",
     "text": [
      "Training Progress: 100%|██████████| 500/500 [00:04<00:00, 119.51it/s, loss=-0.000055, elapsed time=0.01, total time=4.19]\n",
      "[I 2025-05-23 09:46:30,792] Trial 183 finished with value: -5.466072661581382e-05 and parameters: {'learning_rate': 0.01853208365898011, 'sigma_multiplier': 1.7977891299099327, 'initialization_multiplier': 0.09174827806577414}. Best is trial 77 with value: -0.00011012576492267536.\n"
     ]
    },
    {
     "name": "stdout",
     "output_type": "stream",
     "text": [
      "Training has not converged after 500 steps\n",
      "Trial 183 final loss: -0.00005466\n",
      "\n",
      "Trial 184: LR=0.019014, SigmaM=1.7822, InitM=0.093630\n"
     ]
    },
    {
     "name": "stderr",
     "output_type": "stream",
     "text": [
      "Training Progress: 100%|██████████| 500/500 [00:04<00:00, 119.68it/s, loss=0.000016, elapsed time=0.01, total time=4.19] \n",
      "[I 2025-05-23 09:46:34,988] Trial 184 finished with value: 1.587855693342916e-05 and parameters: {'learning_rate': 0.019013555474066243, 'sigma_multiplier': 1.7822261386363625, 'initialization_multiplier': 0.09362961248914219}. Best is trial 77 with value: -0.00011012576492267536.\n"
     ]
    },
    {
     "name": "stdout",
     "output_type": "stream",
     "text": [
      "Training has not converged after 500 steps\n",
      "Trial 184 final loss: 0.00001588\n",
      "\n",
      "Trial 185: LR=0.031266, SigmaM=1.8733, InitM=0.124255\n"
     ]
    },
    {
     "name": "stderr",
     "output_type": "stream",
     "text": [
      "Training Progress: 100%|██████████| 500/500 [00:04<00:00, 120.36it/s, loss=0.000057, elapsed time=0.01, total time=4.17] \n",
      "[I 2025-05-23 09:46:39,163] Trial 185 finished with value: 5.697383628589311e-05 and parameters: {'learning_rate': 0.03126581943230229, 'sigma_multiplier': 1.8733299198988531, 'initialization_multiplier': 0.12425514739750444}. Best is trial 77 with value: -0.00011012576492267536.\n"
     ]
    },
    {
     "name": "stdout",
     "output_type": "stream",
     "text": [
      "Training has not converged after 500 steps\n",
      "Trial 185 final loss: 0.00005697\n",
      "\n",
      "Trial 186: LR=0.027779, SigmaM=1.8240, InitM=0.067921\n"
     ]
    },
    {
     "name": "stderr",
     "output_type": "stream",
     "text": [
      "Training Progress: 100%|██████████| 500/500 [00:04<00:00, 119.34it/s, loss=-0.000041, elapsed time=0.01, total time=4.2] \n",
      "[I 2025-05-23 09:46:43,373] Trial 186 finished with value: -4.062026815129118e-05 and parameters: {'learning_rate': 0.02777918825306445, 'sigma_multiplier': 1.8239845863948654, 'initialization_multiplier': 0.06792115348996047}. Best is trial 77 with value: -0.00011012576492267536.\n"
     ]
    },
    {
     "name": "stdout",
     "output_type": "stream",
     "text": [
      "Training has not converged after 500 steps\n",
      "Trial 186 final loss: -0.00004062\n",
      "\n",
      "Trial 187: LR=0.019823, SigmaM=1.9109, InitM=0.060957\n"
     ]
    },
    {
     "name": "stderr",
     "output_type": "stream",
     "text": [
      "Training Progress: 100%|██████████| 500/500 [00:04<00:00, 120.19it/s, loss=0.000024, elapsed time=0.01, total time=4.17] \n",
      "[I 2025-05-23 09:46:47,552] Trial 187 finished with value: 2.4340149148285052e-05 and parameters: {'learning_rate': 0.019822863269017776, 'sigma_multiplier': 1.9108997596473665, 'initialization_multiplier': 0.060957346988440735}. Best is trial 77 with value: -0.00011012576492267536.\n"
     ]
    },
    {
     "name": "stdout",
     "output_type": "stream",
     "text": [
      "Training has not converged after 500 steps\n",
      "Trial 187 final loss: 0.00002434\n",
      "\n",
      "Trial 188: LR=0.023485, SigmaM=1.7980, InitM=0.104854\n"
     ]
    },
    {
     "name": "stderr",
     "output_type": "stream",
     "text": [
      "Training Progress: 100%|██████████| 500/500 [00:04<00:00, 119.40it/s, loss=0.000071, elapsed time=0.01, total time=4.2]  \n",
      "[I 2025-05-23 09:46:51,757] Trial 188 finished with value: 7.112285553580144e-05 and parameters: {'learning_rate': 0.023485091110962784, 'sigma_multiplier': 1.7980132598148226, 'initialization_multiplier': 0.10485425244830762}. Best is trial 77 with value: -0.00011012576492267536.\n"
     ]
    },
    {
     "name": "stdout",
     "output_type": "stream",
     "text": [
      "Training has not converged after 500 steps\n",
      "Trial 188 final loss: 0.00007112\n",
      "\n",
      "Trial 189: LR=0.012273, SigmaM=1.8681, InitM=0.140792\n"
     ]
    },
    {
     "name": "stderr",
     "output_type": "stream",
     "text": [
      "Training Progress: 100%|██████████| 500/500 [00:04<00:00, 120.36it/s, loss=-0.000023, elapsed time=0.01, total time=4.16]\n",
      "[I 2025-05-23 09:46:55,930] Trial 189 finished with value: -2.3449625171292598e-05 and parameters: {'learning_rate': 0.01227324782548818, 'sigma_multiplier': 1.868070014939019, 'initialization_multiplier': 0.14079243004297173}. Best is trial 77 with value: -0.00011012576492267536.\n"
     ]
    },
    {
     "name": "stdout",
     "output_type": "stream",
     "text": [
      "Training has not converged after 500 steps\n",
      "Trial 189 final loss: -0.00002345\n",
      "\n",
      "Trial 190: LR=0.016740, SigmaM=1.7586, InitM=0.087301\n"
     ]
    },
    {
     "name": "stderr",
     "output_type": "stream",
     "text": [
      "Training Progress: 100%|██████████| 500/500 [00:04<00:00, 119.20it/s, loss=0.000028, elapsed time=0.01, total time=4.2]  \n",
      "[I 2025-05-23 09:47:00,144] Trial 190 finished with value: 2.8224083003950253e-05 and parameters: {'learning_rate': 0.016740384221872243, 'sigma_multiplier': 1.7586155672036865, 'initialization_multiplier': 0.08730149405538973}. Best is trial 77 with value: -0.00011012576492267536.\n"
     ]
    },
    {
     "name": "stdout",
     "output_type": "stream",
     "text": [
      "Training has not converged after 500 steps\n",
      "Trial 190 final loss: 0.00002822\n",
      "\n",
      "Trial 191: LR=0.014389, SigmaM=1.7203, InitM=0.079109\n"
     ]
    },
    {
     "name": "stderr",
     "output_type": "stream",
     "text": [
      "Training Progress: 100%|██████████| 500/500 [00:04<00:00, 119.42it/s, loss=0.000089, elapsed time=0.01, total time=4.2]  \n",
      "[I 2025-05-23 09:47:04,349] Trial 191 finished with value: 8.865716254776811e-05 and parameters: {'learning_rate': 0.014389167640560425, 'sigma_multiplier': 1.7203384500233618, 'initialization_multiplier': 0.07910931450540018}. Best is trial 77 with value: -0.00011012576492267536.\n"
     ]
    },
    {
     "name": "stdout",
     "output_type": "stream",
     "text": [
      "Training has not converged after 500 steps\n",
      "Trial 191 final loss: 0.00008866\n",
      "\n",
      "Trial 192: LR=0.010969, SigmaM=1.7681, InitM=0.070266\n"
     ]
    },
    {
     "name": "stderr",
     "output_type": "stream",
     "text": [
      "Training Progress: 100%|██████████| 500/500 [00:04<00:00, 119.04it/s, loss=0.000056, elapsed time=0.01, total time=4.21] \n",
      "[I 2025-05-23 09:47:08,569] Trial 192 finished with value: 5.5618184042586396e-05 and parameters: {'learning_rate': 0.01096855904669354, 'sigma_multiplier': 1.7681024253562243, 'initialization_multiplier': 0.07026647770955724}. Best is trial 77 with value: -0.00011012576492267536.\n"
     ]
    },
    {
     "name": "stdout",
     "output_type": "stream",
     "text": [
      "Training has not converged after 500 steps\n",
      "Trial 192 final loss: 0.00005562\n",
      "\n",
      "Trial 193: LR=0.016350, SigmaM=1.8053, InitM=0.092134\n"
     ]
    },
    {
     "name": "stderr",
     "output_type": "stream",
     "text": [
      "Training Progress: 100%|██████████| 500/500 [00:04<00:00, 119.89it/s, loss=-0.000005, elapsed time=0.01, total time=4.18]\n",
      "[I 2025-05-23 09:47:12,757] Trial 193 finished with value: -5.455899025494893e-06 and parameters: {'learning_rate': 0.01634970379543582, 'sigma_multiplier': 1.8052557653580334, 'initialization_multiplier': 0.092134401990349}. Best is trial 77 with value: -0.00011012576492267536.\n"
     ]
    },
    {
     "name": "stdout",
     "output_type": "stream",
     "text": [
      "Training has not converged after 500 steps\n",
      "Trial 193 final loss: -0.00000546\n",
      "\n",
      "Trial 194: LR=0.021660, SigmaM=1.8477, InitM=0.054243\n"
     ]
    },
    {
     "name": "stderr",
     "output_type": "stream",
     "text": [
      "Training Progress: 100%|██████████| 500/500 [00:04<00:00, 120.01it/s, loss=-0.000010, elapsed time=0.01, total time=4.18]\n",
      "[I 2025-05-23 09:47:16,944] Trial 194 finished with value: -9.628308065164615e-06 and parameters: {'learning_rate': 0.02166017056339099, 'sigma_multiplier': 1.847687192847665, 'initialization_multiplier': 0.05424348194262781}. Best is trial 77 with value: -0.00011012576492267536.\n"
     ]
    },
    {
     "name": "stdout",
     "output_type": "stream",
     "text": [
      "Training has not converged after 500 steps\n",
      "Trial 194 final loss: -0.00000963\n",
      "\n",
      "Trial 195: LR=0.012666, SigmaM=1.6781, InitM=0.174427\n"
     ]
    },
    {
     "name": "stderr",
     "output_type": "stream",
     "text": [
      "Training Progress: 100%|██████████| 500/500 [00:04<00:00, 118.77it/s, loss=-0.000036, elapsed time=0.01, total time=4.22]\n",
      "[I 2025-05-23 09:47:21,174] Trial 195 finished with value: -3.613480343326085e-05 and parameters: {'learning_rate': 0.01266641711961041, 'sigma_multiplier': 1.6781025191972345, 'initialization_multiplier': 0.1744272134630401}. Best is trial 77 with value: -0.00011012576492267536.\n"
     ]
    },
    {
     "name": "stdout",
     "output_type": "stream",
     "text": [
      "Training has not converged after 500 steps\n",
      "Trial 195 final loss: -0.00003613\n",
      "\n",
      "Trial 196: LR=0.017874, SigmaM=1.7382, InitM=0.083773\n"
     ]
    },
    {
     "name": "stderr",
     "output_type": "stream",
     "text": [
      "Training Progress: 100%|██████████| 500/500 [00:04<00:00, 119.20it/s, loss=-0.000062, elapsed time=0.01, total time=4.21]\n",
      "[I 2025-05-23 09:47:25,388] Trial 196 finished with value: -6.23277562027662e-05 and parameters: {'learning_rate': 0.017874308671324484, 'sigma_multiplier': 1.7382390345544358, 'initialization_multiplier': 0.08377253483327823}. Best is trial 77 with value: -0.00011012576492267536.\n"
     ]
    },
    {
     "name": "stdout",
     "output_type": "stream",
     "text": [
      "Training has not converged after 500 steps\n",
      "Trial 196 final loss: -0.00006233\n",
      "\n",
      "Trial 197: LR=0.000909, SigmaM=1.7415, InitM=0.105328\n"
     ]
    },
    {
     "name": "stderr",
     "output_type": "stream",
     "text": [
      "Training Progress: 100%|██████████| 500/500 [00:04<00:00, 120.16it/s, loss=0.003818, elapsed time=0.01, total time=4.17]\n",
      "[I 2025-05-23 09:47:29,567] Trial 197 finished with value: 0.003818242043674467 and parameters: {'learning_rate': 0.0009092482248144863, 'sigma_multiplier': 1.7414931916214487, 'initialization_multiplier': 0.10532801777194233}. Best is trial 77 with value: -0.00011012576492267536.\n"
     ]
    },
    {
     "name": "stdout",
     "output_type": "stream",
     "text": [
      "Training has not converged after 500 steps\n",
      "Trial 197 final loss: 0.00381824\n",
      "\n",
      "Trial 198: LR=0.018390, SigmaM=1.9439, InitM=0.072734\n"
     ]
    },
    {
     "name": "stderr",
     "output_type": "stream",
     "text": [
      "Training Progress: 100%|██████████| 500/500 [00:04<00:00, 121.84it/s, loss=0.000113, elapsed time=0.01, total time=4.11] \n",
      "[I 2025-05-23 09:47:33,690] Trial 198 finished with value: 0.00011297242337269437 and parameters: {'learning_rate': 0.018390084722251884, 'sigma_multiplier': 1.9439398183845296, 'initialization_multiplier': 0.07273376736871284}. Best is trial 77 with value: -0.00011012576492267536.\n"
     ]
    },
    {
     "name": "stdout",
     "output_type": "stream",
     "text": [
      "Training has not converged after 500 steps\n",
      "Trial 198 final loss: 0.00011297\n",
      "\n",
      "Trial 199: LR=0.003497, SigmaM=1.8995, InitM=0.120434\n"
     ]
    },
    {
     "name": "stderr",
     "output_type": "stream",
     "text": [
      "Training Progress: 100%|██████████| 500/500 [00:04<00:00, 112.11it/s, loss=0.000122, elapsed time=0.01, total time=4.47] \n",
      "[I 2025-05-23 09:47:38,169] Trial 199 finished with value: 0.00012195792513412038 and parameters: {'learning_rate': 0.0034972933914439322, 'sigma_multiplier': 1.8995206891758363, 'initialization_multiplier': 0.12043420876462517}. Best is trial 77 with value: -0.00011012576492267536.\n"
     ]
    },
    {
     "name": "stdout",
     "output_type": "stream",
     "text": [
      "Training has not converged after 500 steps\n",
      "Trial 199 final loss: 0.00012196\n",
      "\n",
      "Trial 200: LR=0.026092, SigmaM=1.8101, InitM=0.048151\n"
     ]
    },
    {
     "name": "stderr",
     "output_type": "stream",
     "text": [
      "Training Progress: 100%|██████████| 500/500 [00:04<00:00, 120.02it/s, loss=0.000067, elapsed time=0.01, total time=4.18] \n",
      "[I 2025-05-23 09:47:42,355] Trial 200 finished with value: 6.742396288895572e-05 and parameters: {'learning_rate': 0.026091769444859164, 'sigma_multiplier': 1.810096791709475, 'initialization_multiplier': 0.04815071408687706}. Best is trial 77 with value: -0.00011012576492267536.\n"
     ]
    },
    {
     "name": "stdout",
     "output_type": "stream",
     "text": [
      "Training has not converged after 500 steps\n",
      "Trial 200 final loss: 0.00006742\n",
      "\n",
      "Trial 201: LR=0.015043, SigmaM=1.6284, InitM=0.084836\n"
     ]
    },
    {
     "name": "stderr",
     "output_type": "stream",
     "text": [
      "Training Progress: 100%|██████████| 500/500 [00:04<00:00, 117.81it/s, loss=0.000061, elapsed time=0.01, total time=4.25] \n",
      "[I 2025-05-23 09:47:46,618] Trial 201 finished with value: 6.0885281645226446e-05 and parameters: {'learning_rate': 0.015042764354889342, 'sigma_multiplier': 1.6284214497740215, 'initialization_multiplier': 0.08483570638266254}. Best is trial 77 with value: -0.00011012576492267536.\n"
     ]
    },
    {
     "name": "stdout",
     "output_type": "stream",
     "text": [
      "Training has not converged after 500 steps\n",
      "Trial 201 final loss: 0.00006089\n",
      "\n",
      "Trial 202: LR=0.019478, SigmaM=1.7231, InitM=0.063133\n"
     ]
    },
    {
     "name": "stderr",
     "output_type": "stream",
     "text": [
      "Training Progress: 100%|██████████| 500/500 [00:04<00:00, 119.26it/s, loss=0.000012, elapsed time=0.01, total time=4.2]  \n",
      "[I 2025-05-23 09:47:50,829] Trial 202 finished with value: 1.2232830630361643e-05 and parameters: {'learning_rate': 0.01947817997376083, 'sigma_multiplier': 1.723059414429364, 'initialization_multiplier': 0.0631332410603234}. Best is trial 77 with value: -0.00011012576492267536.\n"
     ]
    },
    {
     "name": "stdout",
     "output_type": "stream",
     "text": [
      "Training has not converged after 500 steps\n",
      "Trial 202 final loss: 0.00001223\n",
      "\n",
      "Trial 203: LR=0.009893, SigmaM=1.7480, InitM=0.095415\n"
     ]
    },
    {
     "name": "stderr",
     "output_type": "stream",
     "text": [
      "Training Progress: 100%|██████████| 500/500 [00:04<00:00, 119.50it/s, loss=-0.000010, elapsed time=0.01, total time=4.19]\n",
      "[I 2025-05-23 09:47:55,033] Trial 203 finished with value: -9.991516158337825e-06 and parameters: {'learning_rate': 0.009893253666923753, 'sigma_multiplier': 1.7480298616318337, 'initialization_multiplier': 0.09541481676590305}. Best is trial 77 with value: -0.00011012576492267536.\n"
     ]
    },
    {
     "name": "stdout",
     "output_type": "stream",
     "text": [
      "Training has not converged after 500 steps\n",
      "Trial 203 final loss: -0.00000999\n",
      "\n",
      "Trial 204: LR=0.013040, SigmaM=1.6651, InitM=0.026075\n"
     ]
    },
    {
     "name": "stderr",
     "output_type": "stream",
     "text": [
      "Training Progress: 100%|██████████| 500/500 [00:04<00:00, 118.50it/s, loss=0.000024, elapsed time=0.01, total time=4.23] \n",
      "[I 2025-05-23 09:47:59,272] Trial 204 finished with value: 2.3912066870948802e-05 and parameters: {'learning_rate': 0.013040144440398038, 'sigma_multiplier': 1.665129426599795, 'initialization_multiplier': 0.026074679550854768}. Best is trial 77 with value: -0.00011012576492267536.\n"
     ]
    },
    {
     "name": "stdout",
     "output_type": "stream",
     "text": [
      "Training has not converged after 500 steps\n",
      "Trial 204 final loss: 0.00002391\n",
      "\n",
      "Trial 205: LR=0.015937, SigmaM=1.9981, InitM=0.080722\n"
     ]
    },
    {
     "name": "stderr",
     "output_type": "stream",
     "text": [
      "Training Progress: 100%|██████████| 500/500 [00:04<00:00, 120.59it/s, loss=-0.000011, elapsed time=0.01, total time=4.16]\n",
      "[I 2025-05-23 09:48:03,437] Trial 205 finished with value: -1.0902331314639311e-05 and parameters: {'learning_rate': 0.01593660607282002, 'sigma_multiplier': 1.9980714132328534, 'initialization_multiplier': 0.08072216613216472}. Best is trial 77 with value: -0.00011012576492267536.\n"
     ]
    },
    {
     "name": "stdout",
     "output_type": "stream",
     "text": [
      "Training has not converged after 500 steps\n",
      "Trial 205 final loss: -0.00001090\n",
      "\n",
      "Trial 206: LR=0.011264, SigmaM=1.7800, InitM=0.058058\n"
     ]
    },
    {
     "name": "stderr",
     "output_type": "stream",
     "text": [
      "Training Progress: 100%|██████████| 500/500 [00:04<00:00, 120.11it/s, loss=0.000019, elapsed time=0.01, total time=4.17] \n",
      "[I 2025-05-23 09:48:07,619] Trial 206 finished with value: 1.9491175303614165e-05 and parameters: {'learning_rate': 0.011264291377817901, 'sigma_multiplier': 1.779966499111716, 'initialization_multiplier': 0.0580582690243977}. Best is trial 77 with value: -0.00011012576492267536.\n"
     ]
    },
    {
     "name": "stdout",
     "output_type": "stream",
     "text": [
      "Training has not converged after 500 steps\n",
      "Trial 206 final loss: 0.00001949\n",
      "\n",
      "Trial 207: LR=0.022092, SigmaM=1.8434, InitM=0.071928\n"
     ]
    },
    {
     "name": "stderr",
     "output_type": "stream",
     "text": [
      "Training Progress: 100%|██████████| 500/500 [00:04<00:00, 121.06it/s, loss=0.000016, elapsed time=0.01, total time=4.14] \n",
      "[I 2025-05-23 09:48:11,768] Trial 207 finished with value: 1.6155047789177374e-05 and parameters: {'learning_rate': 0.022092430726591228, 'sigma_multiplier': 1.843441643241965, 'initialization_multiplier': 0.07192822176345462}. Best is trial 77 with value: -0.00011012576492267536.\n"
     ]
    },
    {
     "name": "stdout",
     "output_type": "stream",
     "text": [
      "Training has not converged after 500 steps\n",
      "Trial 207 final loss: 0.00001616\n",
      "\n",
      "Trial 208: LR=0.017283, SigmaM=1.7055, InitM=0.150803\n"
     ]
    },
    {
     "name": "stderr",
     "output_type": "stream",
     "text": [
      "Training Progress: 100%|██████████| 500/500 [00:04<00:00, 119.51it/s, loss=0.000006, elapsed time=0.01, total time=4.19] \n",
      "[I 2025-05-23 09:48:15,971] Trial 208 finished with value: 5.586141794284832e-06 and parameters: {'learning_rate': 0.017282584443497447, 'sigma_multiplier': 1.7055036263126835, 'initialization_multiplier': 0.15080320040100334}. Best is trial 77 with value: -0.00011012576492267536.\n"
     ]
    },
    {
     "name": "stdout",
     "output_type": "stream",
     "text": [
      "Training has not converged after 500 steps\n",
      "Trial 208 final loss: 0.00000559\n",
      "\n",
      "Trial 209: LR=0.013955, SigmaM=1.8810, InitM=0.108691\n"
     ]
    },
    {
     "name": "stderr",
     "output_type": "stream",
     "text": [
      "Training Progress: 100%|██████████| 500/500 [00:04<00:00, 120.16it/s, loss=-0.000001, elapsed time=0.01, total time=4.17]\n",
      "[I 2025-05-23 09:48:20,151] Trial 209 finished with value: -1.1297712040493368e-06 and parameters: {'learning_rate': 0.013954808348583215, 'sigma_multiplier': 1.8810377046787718, 'initialization_multiplier': 0.10869099812154011}. Best is trial 77 with value: -0.00011012576492267536.\n"
     ]
    },
    {
     "name": "stdout",
     "output_type": "stream",
     "text": [
      "Training has not converged after 500 steps\n",
      "Trial 209 final loss: -0.00000113\n",
      "\n",
      "Trial 210: LR=0.030094, SigmaM=1.7797, InitM=0.032926\n"
     ]
    },
    {
     "name": "stderr",
     "output_type": "stream",
     "text": [
      "Training Progress: 100%|██████████| 500/500 [00:04<00:00, 119.63it/s, loss=0.000008, elapsed time=0.01, total time=4.19] \n",
      "[I 2025-05-23 09:48:24,349] Trial 210 finished with value: 7.898838778376407e-06 and parameters: {'learning_rate': 0.03009429585990828, 'sigma_multiplier': 1.779703520569604, 'initialization_multiplier': 0.03292568123897089}. Best is trial 77 with value: -0.00011012576492267536.\n"
     ]
    },
    {
     "name": "stdout",
     "output_type": "stream",
     "text": [
      "Training has not converged after 500 steps\n",
      "Trial 210 final loss: 0.00000790\n",
      "\n",
      "Trial 211: LR=0.046181, SigmaM=1.7037, InitM=0.097805\n"
     ]
    },
    {
     "name": "stderr",
     "output_type": "stream",
     "text": [
      "Training Progress: 100%|██████████| 500/500 [00:04<00:00, 118.42it/s, loss=0.000025, elapsed time=0.01, total time=4.23] \n",
      "[I 2025-05-23 09:48:28,591] Trial 211 finished with value: 2.5141385746806214e-05 and parameters: {'learning_rate': 0.04618112844004438, 'sigma_multiplier': 1.703733764729162, 'initialization_multiplier': 0.09780531927938753}. Best is trial 77 with value: -0.00011012576492267536.\n"
     ]
    },
    {
     "name": "stdout",
     "output_type": "stream",
     "text": [
      "Training has not converged after 500 steps\n",
      "Trial 211 final loss: 0.00002514\n",
      "\n",
      "Trial 212: LR=0.042809, SigmaM=1.6519, InitM=0.086427\n"
     ]
    },
    {
     "name": "stderr",
     "output_type": "stream",
     "text": [
      "Training Progress: 100%|██████████| 500/500 [00:04<00:00, 117.15it/s, loss=0.000065, elapsed time=0.01, total time=4.28] \n",
      "[I 2025-05-23 09:48:32,880] Trial 212 finished with value: 6.536619568274662e-05 and parameters: {'learning_rate': 0.04280898950070655, 'sigma_multiplier': 1.65192573441707, 'initialization_multiplier': 0.08642732342749603}. Best is trial 77 with value: -0.00011012576492267536.\n"
     ]
    },
    {
     "name": "stdout",
     "output_type": "stream",
     "text": [
      "Training has not converged after 500 steps\n",
      "Trial 212 final loss: 0.00006537\n",
      "\n",
      "Trial 213: LR=0.037107, SigmaM=1.6088, InitM=0.133699\n"
     ]
    },
    {
     "name": "stderr",
     "output_type": "stream",
     "text": [
      "Training Progress: 100%|██████████| 500/500 [00:04<00:00, 117.10it/s, loss=-0.000036, elapsed time=0.01, total time=4.28]\n",
      "[I 2025-05-23 09:48:37,170] Trial 213 finished with value: -3.5509481367703925e-05 and parameters: {'learning_rate': 0.03710661281927955, 'sigma_multiplier': 1.608825490688366, 'initialization_multiplier': 0.13369888392961357}. Best is trial 77 with value: -0.00011012576492267536.\n"
     ]
    },
    {
     "name": "stdout",
     "output_type": "stream",
     "text": [
      "Training has not converged after 500 steps\n",
      "Trial 213 final loss: -0.00003551\n",
      "\n",
      "Trial 214: LR=0.025416, SigmaM=1.7384, InitM=0.580139\n"
     ]
    },
    {
     "name": "stderr",
     "output_type": "stream",
     "text": [
      "Training Progress: 100%|██████████| 500/500 [00:04<00:00, 118.30it/s, loss=-0.000001, elapsed time=0.01, total time=4.24]\n",
      "[I 2025-05-23 09:48:41,417] Trial 214 finished with value: -5.345793830914365e-07 and parameters: {'learning_rate': 0.025415622483657998, 'sigma_multiplier': 1.7383886508202286, 'initialization_multiplier': 0.5801392808427479}. Best is trial 77 with value: -0.00011012576492267536.\n"
     ]
    },
    {
     "name": "stdout",
     "output_type": "stream",
     "text": [
      "Training has not converged after 500 steps\n",
      "Trial 214 final loss: -0.00000053\n",
      "\n",
      "Trial 215: LR=0.060887, SigmaM=1.6892, InitM=0.111649\n"
     ]
    },
    {
     "name": "stderr",
     "output_type": "stream",
     "text": [
      "Training Progress: 100%|██████████| 500/500 [00:04<00:00, 117.51it/s, loss=0.000119, elapsed time=0.01, total time=4.27] \n",
      "[I 2025-05-23 09:48:45,691] Trial 215 finished with value: 0.00011909528501506688 and parameters: {'learning_rate': 0.06088690628948735, 'sigma_multiplier': 1.689249525434954, 'initialization_multiplier': 0.11164947423930155}. Best is trial 77 with value: -0.00011012576492267536.\n"
     ]
    },
    {
     "name": "stdout",
     "output_type": "stream",
     "text": [
      "Training has not converged after 500 steps\n",
      "Trial 215 final loss: 0.00011910\n",
      "\n",
      "Trial 216: LR=0.019800, SigmaM=1.8113, InitM=0.074173\n"
     ]
    },
    {
     "name": "stderr",
     "output_type": "stream",
     "text": [
      "Training Progress: 100%|██████████| 500/500 [00:04<00:00, 119.97it/s, loss=-0.000001, elapsed time=0.01, total time=4.18]\n",
      "[I 2025-05-23 09:48:49,878] Trial 216 finished with value: -1.4754541463348203e-06 and parameters: {'learning_rate': 0.019799576206820692, 'sigma_multiplier': 1.8113465931178412, 'initialization_multiplier': 0.07417313014597406}. Best is trial 77 with value: -0.00011012576492267536.\n"
     ]
    },
    {
     "name": "stdout",
     "output_type": "stream",
     "text": [
      "Training has not converged after 500 steps\n",
      "Trial 216 final loss: -0.00000148\n",
      "\n",
      "Trial 217: LR=0.030932, SigmaM=1.7611, InitM=0.063954\n"
     ]
    },
    {
     "name": "stderr",
     "output_type": "stream",
     "text": [
      "Training Progress: 100%|██████████| 500/500 [00:04<00:00, 119.13it/s, loss=0.000029, elapsed time=0.01, total time=4.21] \n",
      "[I 2025-05-23 09:48:54,095] Trial 217 finished with value: 2.9010622919831387e-05 and parameters: {'learning_rate': 0.030932497894321412, 'sigma_multiplier': 1.7610740370432514, 'initialization_multiplier': 0.06395390075162675}. Best is trial 77 with value: -0.00011012576492267536.\n"
     ]
    },
    {
     "name": "stdout",
     "output_type": "stream",
     "text": [
      "Training has not converged after 500 steps\n",
      "Trial 217 final loss: 0.00002901\n",
      "\n",
      "Trial 218: LR=0.000404, SigmaM=1.7193, InitM=0.088492\n"
     ]
    },
    {
     "name": "stderr",
     "output_type": "stream",
     "text": [
      "Training Progress: 100%|██████████| 500/500 [00:04<00:00, 123.57it/s, loss=0.032360, elapsed time=0.01, total time=4.06]\n",
      "[I 2025-05-23 09:48:58,162] Trial 218 finished with value: 0.03236014060651197 and parameters: {'learning_rate': 0.000404412023433654, 'sigma_multiplier': 1.7192927096459898, 'initialization_multiplier': 0.08849157947308943}. Best is trial 77 with value: -0.00011012576492267536.\n"
     ]
    },
    {
     "name": "stdout",
     "output_type": "stream",
     "text": [
      "Training has not converged after 500 steps\n",
      "Trial 218 final loss: 0.03236014\n",
      "\n",
      "Trial 219: LR=0.021902, SigmaM=1.6479, InitM=0.126931\n"
     ]
    },
    {
     "name": "stderr",
     "output_type": "stream",
     "text": [
      "Training Progress: 100%|██████████| 500/500 [00:04<00:00, 118.29it/s, loss=-0.000008, elapsed time=0.01, total time=4.24]\n",
      "[I 2025-05-23 09:49:02,408] Trial 219 finished with value: -8.348665121391996e-06 and parameters: {'learning_rate': 0.021901877748153817, 'sigma_multiplier': 1.6478939668589707, 'initialization_multiplier': 0.12693142378400304}. Best is trial 77 with value: -0.00011012576492267536.\n"
     ]
    },
    {
     "name": "stdout",
     "output_type": "stream",
     "text": [
      "Training has not converged after 500 steps\n",
      "Trial 219 final loss: -0.00000835\n",
      "\n",
      "Trial 220: LR=0.016031, SigmaM=1.8504, InitM=0.235040\n"
     ]
    },
    {
     "name": "stderr",
     "output_type": "stream",
     "text": [
      "Training Progress: 100%|██████████| 500/500 [00:04<00:00, 119.94it/s, loss=0.000091, elapsed time=0.01, total time=4.18] \n",
      "[I 2025-05-23 09:49:06,596] Trial 220 finished with value: 9.066736370655588e-05 and parameters: {'learning_rate': 0.01603055445850476, 'sigma_multiplier': 1.8503511490606477, 'initialization_multiplier': 0.23504049516495676}. Best is trial 77 with value: -0.00011012576492267536.\n"
     ]
    },
    {
     "name": "stdout",
     "output_type": "stream",
     "text": [
      "Training has not converged after 500 steps\n",
      "Trial 220 final loss: 0.00009067\n",
      "\n",
      "Trial 221: LR=0.008153, SigmaM=1.9255, InitM=0.077937\n"
     ]
    },
    {
     "name": "stderr",
     "output_type": "stream",
     "text": [
      "Training Progress: 100%|██████████| 500/500 [00:04<00:00, 120.79it/s, loss=-0.000042, elapsed time=0.01, total time=4.15]\n",
      "[I 2025-05-23 09:49:10,755] Trial 221 finished with value: -4.2016368281599273e-05 and parameters: {'learning_rate': 0.008152532727681664, 'sigma_multiplier': 1.9255120811935624, 'initialization_multiplier': 0.07793702553733284}. Best is trial 77 with value: -0.00011012576492267536.\n"
     ]
    },
    {
     "name": "stdout",
     "output_type": "stream",
     "text": [
      "Training has not converged after 500 steps\n",
      "Trial 221 final loss: -0.00004202\n",
      "\n",
      "Trial 222: LR=0.010051, SigmaM=1.9467, InitM=0.072022\n"
     ]
    },
    {
     "name": "stderr",
     "output_type": "stream",
     "text": [
      "Training Progress: 100%|██████████| 500/500 [00:04<00:00, 120.65it/s, loss=-0.000030, elapsed time=0.01, total time=4.15]\n",
      "[I 2025-05-23 09:49:14,919] Trial 222 finished with value: -2.9706449364654932e-05 and parameters: {'learning_rate': 0.010050818634157108, 'sigma_multiplier': 1.9466708964304305, 'initialization_multiplier': 0.07202159686381523}. Best is trial 77 with value: -0.00011012576492267536.\n"
     ]
    },
    {
     "name": "stdout",
     "output_type": "stream",
     "text": [
      "Training has not converged after 500 steps\n",
      "Trial 222 final loss: -0.00002971\n",
      "\n",
      "Trial 223: LR=0.006693, SigmaM=1.8989, InitM=0.058098\n"
     ]
    },
    {
     "name": "stderr",
     "output_type": "stream",
     "text": [
      "Training Progress: 100%|██████████| 500/500 [00:04<00:00, 117.45it/s, loss=-0.000034, elapsed time=0.01, total time=4.27]\n",
      "[I 2025-05-23 09:49:19,195] Trial 223 finished with value: -3.3522877493182685e-05 and parameters: {'learning_rate': 0.00669275655256735, 'sigma_multiplier': 1.8988905554198292, 'initialization_multiplier': 0.058098474955280845}. Best is trial 77 with value: -0.00011012576492267536.\n"
     ]
    },
    {
     "name": "stdout",
     "output_type": "stream",
     "text": [
      "Training has not converged after 500 steps\n",
      "Trial 223 final loss: -0.00003352\n",
      "\n",
      "Trial 224: LR=0.012111, SigmaM=1.8207, InitM=0.096414\n"
     ]
    },
    {
     "name": "stderr",
     "output_type": "stream",
     "text": [
      "Training Progress: 100%|██████████| 500/500 [00:04<00:00, 122.10it/s, loss=0.000058, elapsed time=0.01, total time=4.1]  \n",
      "[I 2025-05-23 09:49:23,308] Trial 224 finished with value: 5.764065071922408e-05 and parameters: {'learning_rate': 0.012110718840121772, 'sigma_multiplier': 1.8206742763924526, 'initialization_multiplier': 0.09641445521705379}. Best is trial 77 with value: -0.00011012576492267536.\n"
     ]
    },
    {
     "name": "stdout",
     "output_type": "stream",
     "text": [
      "Training has not converged after 500 steps\n",
      "Trial 224 final loss: 0.00005764\n",
      "\n",
      "Trial 225: LR=0.004705, SigmaM=1.7926, InitM=0.082720\n"
     ]
    },
    {
     "name": "stderr",
     "output_type": "stream",
     "text": [
      "Training Progress: 100%|██████████| 500/500 [00:04<00:00, 121.79it/s, loss=0.000081, elapsed time=0.01, total time=4.12] \n",
      "[I 2025-05-23 09:49:27,432] Trial 225 finished with value: 8.066754150961775e-05 and parameters: {'learning_rate': 0.004705460073168502, 'sigma_multiplier': 1.7926086812210427, 'initialization_multiplier': 0.0827195003328731}. Best is trial 77 with value: -0.00011012576492267536.\n"
     ]
    },
    {
     "name": "stdout",
     "output_type": "stream",
     "text": [
      "Training has not converged after 500 steps\n",
      "Trial 225 final loss: 0.00008067\n",
      "\n",
      "Trial 226: LR=0.013345, SigmaM=1.8785, InitM=0.101023\n"
     ]
    },
    {
     "name": "stderr",
     "output_type": "stream",
     "text": [
      "Training Progress: 100%|██████████| 500/500 [00:04<00:00, 121.90it/s, loss=0.000094, elapsed time=0.01, total time=4.11] \n",
      "[I 2025-05-23 09:49:31,552] Trial 226 finished with value: 9.376632130297764e-05 and parameters: {'learning_rate': 0.013345237950531108, 'sigma_multiplier': 1.8784863843122723, 'initialization_multiplier': 0.10102264413762992}. Best is trial 77 with value: -0.00011012576492267536.\n"
     ]
    },
    {
     "name": "stdout",
     "output_type": "stream",
     "text": [
      "Training has not converged after 500 steps\n",
      "Trial 226 final loss: 0.00009377\n",
      "\n",
      "Trial 227: LR=0.007390, SigmaM=1.7586, InitM=0.051602\n"
     ]
    },
    {
     "name": "stderr",
     "output_type": "stream",
     "text": [
      "Training Progress: 100%|██████████| 500/500 [00:04<00:00, 122.75it/s, loss=0.000102, elapsed time=0.01, total time=4.08] \n",
      "[I 2025-05-23 09:49:35,644] Trial 227 finished with value: 0.0001024334408175106 and parameters: {'learning_rate': 0.0073902888819735, 'sigma_multiplier': 1.7585648741226267, 'initialization_multiplier': 0.05160150274531196}. Best is trial 77 with value: -0.00011012576492267536.\n"
     ]
    },
    {
     "name": "stdout",
     "output_type": "stream",
     "text": [
      "Training has not converged after 500 steps\n",
      "Trial 227 final loss: 0.00010243\n",
      "\n",
      "Trial 228: LR=0.009077, SigmaM=1.6796, InitM=0.066866\n"
     ]
    },
    {
     "name": "stderr",
     "output_type": "stream",
     "text": [
      "Training Progress: 100%|██████████| 500/500 [00:04<00:00, 121.75it/s, loss=-0.000079, elapsed time=0.01, total time=4.12]\n",
      "[I 2025-05-23 09:49:39,771] Trial 228 finished with value: -7.927079675494432e-05 and parameters: {'learning_rate': 0.009076903967042266, 'sigma_multiplier': 1.679601943405118, 'initialization_multiplier': 0.06686564963735613}. Best is trial 77 with value: -0.00011012576492267536.\n"
     ]
    },
    {
     "name": "stdout",
     "output_type": "stream",
     "text": [
      "Training has not converged after 500 steps\n",
      "Trial 228 final loss: -0.00007927\n",
      "\n",
      "Trial 229: LR=0.009353, SigmaM=1.6683, InitM=0.192673\n"
     ]
    },
    {
     "name": "stderr",
     "output_type": "stream",
     "text": [
      "Training Progress: 100%|██████████| 500/500 [00:04<00:00, 120.66it/s, loss=-0.000060, elapsed time=0.01, total time=4.15]\n",
      "[I 2025-05-23 09:49:43,934] Trial 229 finished with value: -5.9963965236239517e-05 and parameters: {'learning_rate': 0.00935282017745898, 'sigma_multiplier': 1.6682788896256775, 'initialization_multiplier': 0.1926727882442012}. Best is trial 77 with value: -0.00011012576492267536.\n"
     ]
    },
    {
     "name": "stdout",
     "output_type": "stream",
     "text": [
      "Training has not converged after 500 steps\n",
      "Trial 229 final loss: -0.00005996\n",
      "\n",
      "Trial 230: LR=0.008658, SigmaM=1.5872, InitM=0.186517\n"
     ]
    },
    {
     "name": "stderr",
     "output_type": "stream",
     "text": [
      "Training Progress: 100%|██████████| 500/500 [00:04<00:00, 120.52it/s, loss=-0.000044, elapsed time=0.01, total time=4.16]\n",
      "[I 2025-05-23 09:49:48,103] Trial 230 finished with value: -4.389037406067484e-05 and parameters: {'learning_rate': 0.008657806233149578, 'sigma_multiplier': 1.587203875088988, 'initialization_multiplier': 0.18651714755273333}. Best is trial 77 with value: -0.00011012576492267536.\n"
     ]
    },
    {
     "name": "stdout",
     "output_type": "stream",
     "text": [
      "Training has not converged after 500 steps\n",
      "Trial 230 final loss: -0.00004389\n",
      "\n",
      "Trial 231: LR=0.005630, SigmaM=1.6991, InitM=0.166998\n"
     ]
    },
    {
     "name": "stderr",
     "output_type": "stream",
     "text": [
      "Training Progress: 100%|██████████| 500/500 [00:04<00:00, 121.61it/s, loss=0.000107, elapsed time=0.01, total time=4.12] \n",
      "[I 2025-05-23 09:49:52,233] Trial 231 finished with value: 0.00010701437073649875 and parameters: {'learning_rate': 0.005630142127790224, 'sigma_multiplier': 1.6991430483065753, 'initialization_multiplier': 0.16699840927152018}. Best is trial 77 with value: -0.00011012576492267536.\n"
     ]
    },
    {
     "name": "stdout",
     "output_type": "stream",
     "text": [
      "Training has not converged after 500 steps\n",
      "Trial 231 final loss: 0.00010701\n",
      "\n",
      "Trial 232: LR=0.010869, SigmaM=1.6688, InitM=0.065594\n"
     ]
    },
    {
     "name": "stderr",
     "output_type": "stream",
     "text": [
      "Training Progress: 100%|██████████| 500/500 [00:04<00:00, 122.93it/s, loss=0.000095, elapsed time=0.01, total time=4.08] \n",
      "[I 2025-05-23 09:49:56,319] Trial 232 finished with value: 9.476178669062928e-05 and parameters: {'learning_rate': 0.010868658311715573, 'sigma_multiplier': 1.6688203094489111, 'initialization_multiplier': 0.0655935726594034}. Best is trial 77 with value: -0.00011012576492267536.\n"
     ]
    },
    {
     "name": "stdout",
     "output_type": "stream",
     "text": [
      "Training has not converged after 500 steps\n",
      "Trial 232 final loss: 0.00009476\n",
      "\n",
      "Trial 233: LR=0.014334, SigmaM=1.6311, InitM=0.039317\n"
     ]
    },
    {
     "name": "stderr",
     "output_type": "stream",
     "text": [
      "Training Progress: 100%|██████████| 500/500 [00:04<00:00, 123.01it/s, loss=0.000055, elapsed time=0.01, total time=4.08] \n",
      "[I 2025-05-23 09:50:00,403] Trial 233 finished with value: 5.4980589199888076e-05 and parameters: {'learning_rate': 0.01433425847365208, 'sigma_multiplier': 1.631065822385259, 'initialization_multiplier': 0.03931691638069292}. Best is trial 77 with value: -0.00011012576492267536.\n"
     ]
    },
    {
     "name": "stdout",
     "output_type": "stream",
     "text": [
      "Training has not converged after 500 steps\n",
      "Trial 233 final loss: 0.00005498\n",
      "\n",
      "Trial 234: LR=0.009444, SigmaM=1.7266, InitM=0.342229\n"
     ]
    },
    {
     "name": "stderr",
     "output_type": "stream",
     "text": [
      "Training Progress: 100%|██████████| 500/500 [00:04<00:00, 123.53it/s, loss=-0.000033, elapsed time=0.01, total time=4.06]\n",
      "[I 2025-05-23 09:50:04,467] Trial 234 finished with value: -3.3338496032563316e-05 and parameters: {'learning_rate': 0.00944350413055342, 'sigma_multiplier': 1.7266434576864267, 'initialization_multiplier': 0.3422288172795648}. Best is trial 77 with value: -0.00011012576492267536.\n"
     ]
    },
    {
     "name": "stdout",
     "output_type": "stream",
     "text": [
      "Training has not converged after 500 steps\n",
      "Trial 234 final loss: -0.00003334\n",
      "\n",
      "Trial 235: LR=0.018630, SigmaM=1.6740, InitM=0.190172\n"
     ]
    },
    {
     "name": "stderr",
     "output_type": "stream",
     "text": [
      "Training Progress: 100%|██████████| 500/500 [00:04<00:00, 123.47it/s, loss=0.000018, elapsed time=0.01, total time=4.06] \n",
      "[I 2025-05-23 09:50:08,535] Trial 235 finished with value: 1.8007431329108243e-05 and parameters: {'learning_rate': 0.01862975319078964, 'sigma_multiplier': 1.6739790758021593, 'initialization_multiplier': 0.19017225911797425}. Best is trial 77 with value: -0.00011012576492267536.\n"
     ]
    },
    {
     "name": "stdout",
     "output_type": "stream",
     "text": [
      "Training has not converged after 500 steps\n",
      "Trial 235 final loss: 0.00001801\n",
      "\n",
      "Trial 236: LR=0.011533, SigmaM=1.7428, InitM=0.144712\n"
     ]
    },
    {
     "name": "stderr",
     "output_type": "stream",
     "text": [
      "Training Progress: 100%|██████████| 500/500 [00:04<00:00, 122.45it/s, loss=0.000044, elapsed time=0.01, total time=4.09] \n",
      "[I 2025-05-23 09:50:12,638] Trial 236 finished with value: 4.444798178213757e-05 and parameters: {'learning_rate': 0.011533385005110969, 'sigma_multiplier': 1.742802872114683, 'initialization_multiplier': 0.1447122824929871}. Best is trial 77 with value: -0.00011012576492267536.\n"
     ]
    },
    {
     "name": "stdout",
     "output_type": "stream",
     "text": [
      "Training has not converged after 500 steps\n",
      "Trial 236 final loss: 0.00004445\n",
      "\n",
      "Trial 237: LR=0.016045, SigmaM=1.6082, InitM=0.287602\n"
     ]
    },
    {
     "name": "stderr",
     "output_type": "stream",
     "text": [
      "Training Progress: 100%|██████████| 500/500 [00:04<00:00, 113.57it/s, loss=0.000136, elapsed time=0.01, total time=4.41] \n",
      "[I 2025-05-23 09:50:17,061] Trial 237 finished with value: 0.00013646882825123205 and parameters: {'learning_rate': 0.01604494971551748, 'sigma_multiplier': 1.608174266176956, 'initialization_multiplier': 0.28760164628882345}. Best is trial 77 with value: -0.00011012576492267536.\n"
     ]
    },
    {
     "name": "stdout",
     "output_type": "stream",
     "text": [
      "Training has not converged after 500 steps\n",
      "Trial 237 final loss: 0.00013647\n",
      "\n",
      "Trial 238: LR=0.024545, SigmaM=1.6966, InitM=0.209450\n"
     ]
    },
    {
     "name": "stderr",
     "output_type": "stream",
     "text": [
      "Training Progress: 100%|██████████| 500/500 [00:04<00:00, 118.09it/s, loss=0.000074, elapsed time=0.01, total time=4.25] \n",
      "[I 2025-05-23 09:50:21,317] Trial 238 finished with value: 7.442198272298148e-05 and parameters: {'learning_rate': 0.024545413607322607, 'sigma_multiplier': 1.6966047806935733, 'initialization_multiplier': 0.2094498461722553}. Best is trial 77 with value: -0.00011012576492267536.\n"
     ]
    },
    {
     "name": "stdout",
     "output_type": "stream",
     "text": [
      "Training has not converged after 500 steps\n",
      "Trial 238 final loss: 0.00007442\n",
      "\n",
      "Trial 239: LR=0.014005, SigmaM=1.7800, InitM=0.112479\n"
     ]
    },
    {
     "name": "stderr",
     "output_type": "stream",
     "text": [
      "Training Progress: 100%|██████████| 500/500 [00:04<00:00, 120.80it/s, loss=0.000006, elapsed time=0.01, total time=4.15] \n",
      "[I 2025-05-23 09:50:25,477] Trial 239 finished with value: 5.977678636525041e-06 and parameters: {'learning_rate': 0.014004524305045283, 'sigma_multiplier': 1.7800275897150668, 'initialization_multiplier': 0.11247922743723937}. Best is trial 77 with value: -0.00011012576492267536.\n"
     ]
    },
    {
     "name": "stdout",
     "output_type": "stream",
     "text": [
      "Training has not converged after 500 steps\n",
      "Trial 239 final loss: 0.00000598\n",
      "\n",
      "Trial 240: LR=0.017385, SigmaM=1.6523, InitM=0.082421\n"
     ]
    },
    {
     "name": "stderr",
     "output_type": "stream",
     "text": [
      "Training Progress: 100%|██████████| 500/500 [00:04<00:00, 119.55it/s, loss=-0.000021, elapsed time=0.01, total time=4.19]\n",
      "[I 2025-05-23 09:50:29,679] Trial 240 finished with value: -2.0967113737478963e-05 and parameters: {'learning_rate': 0.017384571325674, 'sigma_multiplier': 1.652295284678385, 'initialization_multiplier': 0.08242056749683635}. Best is trial 77 with value: -0.00011012576492267536.\n"
     ]
    },
    {
     "name": "stdout",
     "output_type": "stream",
     "text": [
      "Training has not converged after 500 steps\n",
      "Trial 240 final loss: -0.00002097\n",
      "\n",
      "Trial 241: LR=0.009583, SigmaM=1.9105, InitM=0.070635\n"
     ]
    },
    {
     "name": "stderr",
     "output_type": "stream",
     "text": [
      "Training Progress: 100%|██████████| 500/500 [00:04<00:00, 119.88it/s, loss=0.000241, elapsed time=0.01, total time=4.18] \n",
      "[I 2025-05-23 09:50:33,869] Trial 241 finished with value: 0.00024097579550218142 and parameters: {'learning_rate': 0.009582516262525102, 'sigma_multiplier': 1.910474421582772, 'initialization_multiplier': 0.07063520816989785}. Best is trial 77 with value: -0.00011012576492267536.\n"
     ]
    },
    {
     "name": "stdout",
     "output_type": "stream",
     "text": [
      "Training has not converged after 500 steps\n",
      "Trial 241 final loss: 0.00024098\n",
      "\n",
      "Trial 242: LR=0.007751, SigmaM=1.8370, InitM=0.076200\n"
     ]
    },
    {
     "name": "stderr",
     "output_type": "stream",
     "text": [
      "Training Progress: 100%|██████████| 500/500 [00:04<00:00, 122.66it/s, loss=-0.000049, elapsed time=0.01, total time=4.09]\n",
      "[I 2025-05-23 09:50:37,963] Trial 242 finished with value: -4.8730241967502895e-05 and parameters: {'learning_rate': 0.007751393155288238, 'sigma_multiplier': 1.8369663997719143, 'initialization_multiplier': 0.07619994388752087}. Best is trial 77 with value: -0.00011012576492267536.\n"
     ]
    },
    {
     "name": "stdout",
     "output_type": "stream",
     "text": [
      "Training has not converged after 500 steps\n",
      "Trial 242 final loss: -0.00004873\n",
      "\n",
      "Trial 243: LR=0.012329, SigmaM=1.8373, InitM=0.061732\n"
     ]
    },
    {
     "name": "stderr",
     "output_type": "stream",
     "text": [
      "Training Progress: 100%|██████████| 500/500 [00:04<00:00, 121.01it/s, loss=-0.000041, elapsed time=0.01, total time=4.14]\n",
      "[I 2025-05-23 09:50:42,113] Trial 243 finished with value: -4.065270927632507e-05 and parameters: {'learning_rate': 0.012329087295610955, 'sigma_multiplier': 1.8372868197686807, 'initialization_multiplier': 0.06173184130777189}. Best is trial 77 with value: -0.00011012576492267536.\n"
     ]
    },
    {
     "name": "stdout",
     "output_type": "stream",
     "text": [
      "Training has not converged after 500 steps\n",
      "Trial 243 final loss: -0.00004065\n",
      "\n",
      "Trial 244: LR=0.008540, SigmaM=1.7908, InitM=0.090898\n"
     ]
    },
    {
     "name": "stderr",
     "output_type": "stream",
     "text": [
      "Training Progress: 100%|██████████| 500/500 [00:04<00:00, 118.96it/s, loss=-0.000023, elapsed time=0.01, total time=4.21]\n",
      "[I 2025-05-23 09:50:46,337] Trial 244 finished with value: -2.2791035070124582e-05 and parameters: {'learning_rate': 0.008539926541795398, 'sigma_multiplier': 1.790838886320296, 'initialization_multiplier': 0.09089796531850991}. Best is trial 77 with value: -0.00011012576492267536.\n"
     ]
    },
    {
     "name": "stdout",
     "output_type": "stream",
     "text": [
      "Training has not converged after 500 steps\n",
      "Trial 244 final loss: -0.00002279\n",
      "\n",
      "Trial 245: LR=0.010991, SigmaM=1.7272, InitM=0.055276\n"
     ]
    },
    {
     "name": "stderr",
     "output_type": "stream",
     "text": [
      "Training Progress: 100%|██████████| 500/500 [00:04<00:00, 118.27it/s, loss=-0.000019, elapsed time=0.01, total time=4.24]\n",
      "[I 2025-05-23 09:50:50,584] Trial 245 finished with value: -1.9223929178283366e-05 and parameters: {'learning_rate': 0.010991487756707169, 'sigma_multiplier': 1.7271965875357533, 'initialization_multiplier': 0.05527597138464487}. Best is trial 77 with value: -0.00011012576492267536.\n"
     ]
    },
    {
     "name": "stdout",
     "output_type": "stream",
     "text": [
      "Training has not converged after 500 steps\n",
      "Trial 245 final loss: -0.00001922\n",
      "\n",
      "Trial 246: LR=0.013628, SigmaM=1.7514, InitM=0.073760\n"
     ]
    },
    {
     "name": "stderr",
     "output_type": "stream",
     "text": [
      "Training Progress: 100%|██████████| 500/500 [00:04<00:00, 117.43it/s, loss=0.000092, elapsed time=0.01, total time=4.27] \n",
      "[I 2025-05-23 09:50:54,860] Trial 246 finished with value: 9.191250376905883e-05 and parameters: {'learning_rate': 0.013627812556053593, 'sigma_multiplier': 1.7513711228228868, 'initialization_multiplier': 0.07375951804447577}. Best is trial 77 with value: -0.00011012576492267536.\n"
     ]
    },
    {
     "name": "stdout",
     "output_type": "stream",
     "text": [
      "Training has not converged after 500 steps\n",
      "Trial 246 final loss: 0.00009191\n",
      "\n",
      "Trial 247: LR=0.020188, SigmaM=1.8165, InitM=0.098775\n"
     ]
    },
    {
     "name": "stderr",
     "output_type": "stream",
     "text": [
      "Training Progress: 100%|██████████| 500/500 [00:04<00:00, 119.25it/s, loss=-0.000011, elapsed time=0.01, total time=4.2] \n",
      "[I 2025-05-23 09:50:59,073] Trial 247 finished with value: -1.1357560471641394e-05 and parameters: {'learning_rate': 0.02018781975943785, 'sigma_multiplier': 1.8164644838915627, 'initialization_multiplier': 0.09877532340535518}. Best is trial 77 with value: -0.00011012576492267536.\n"
     ]
    },
    {
     "name": "stdout",
     "output_type": "stream",
     "text": [
      "Training has not converged after 500 steps\n",
      "Trial 247 final loss: -0.00001136\n",
      "\n",
      "Trial 248: LR=0.015813, SigmaM=1.6788, InitM=0.046886\n"
     ]
    },
    {
     "name": "stderr",
     "output_type": "stream",
     "text": [
      "Training Progress: 100%|██████████| 500/500 [00:04<00:00, 117.05it/s, loss=0.000149, elapsed time=0.01, total time=4.28] \n",
      "[I 2025-05-23 09:51:03,364] Trial 248 finished with value: 0.00014883698764477397 and parameters: {'learning_rate': 0.015813304916108408, 'sigma_multiplier': 1.678794189273351, 'initialization_multiplier': 0.046886192282220414}. Best is trial 77 with value: -0.00011012576492267536.\n"
     ]
    },
    {
     "name": "stdout",
     "output_type": "stream",
     "text": [
      "Training has not converged after 500 steps\n",
      "Trial 248 final loss: 0.00014884\n",
      "\n",
      "Trial 249: LR=0.009777, SigmaM=1.7696, InitM=0.082745\n"
     ]
    },
    {
     "name": "stderr",
     "output_type": "stream",
     "text": [
      "Training Progress: 100%|██████████| 500/500 [00:04<00:00, 120.23it/s, loss=0.000019, elapsed time=0.01, total time=4.17] \n",
      "[I 2025-05-23 09:51:07,543] Trial 249 finished with value: 1.910438108670702e-05 and parameters: {'learning_rate': 0.009777052551415625, 'sigma_multiplier': 1.7695697131034516, 'initialization_multiplier': 0.08274476676887935}. Best is trial 77 with value: -0.00011012576492267536.\n"
     ]
    },
    {
     "name": "stdout",
     "output_type": "stream",
     "text": [
      "Training has not converged after 500 steps\n",
      "Trial 249 final loss: 0.00001910\n",
      "\n",
      "Trial 250: LR=0.028611, SigmaM=1.8539, InitM=0.063045\n"
     ]
    },
    {
     "name": "stderr",
     "output_type": "stream",
     "text": [
      "Training Progress: 100%|██████████| 500/500 [00:04<00:00, 120.74it/s, loss=-0.000016, elapsed time=0.01, total time=4.15]\n",
      "[I 2025-05-23 09:51:11,703] Trial 250 finished with value: -1.5862289198460415e-05 and parameters: {'learning_rate': 0.028611289064157535, 'sigma_multiplier': 1.8539351092790823, 'initialization_multiplier': 0.0630450977571254}. Best is trial 77 with value: -0.00011012576492267536.\n"
     ]
    },
    {
     "name": "stdout",
     "output_type": "stream",
     "text": [
      "Training has not converged after 500 steps\n",
      "Trial 250 final loss: -0.00001586\n",
      "\n",
      "Trial 251: LR=0.011517, SigmaM=1.7249, InitM=0.719423\n"
     ]
    },
    {
     "name": "stderr",
     "output_type": "stream",
     "text": [
      "Training Progress: 100%|██████████| 500/500 [00:04<00:00, 118.45it/s, loss=0.000008, elapsed time=0.01, total time=4.23] \n",
      "[I 2025-05-23 09:51:15,942] Trial 251 finished with value: 7.716964502269293e-06 and parameters: {'learning_rate': 0.011517289952620243, 'sigma_multiplier': 1.7248697755871893, 'initialization_multiplier': 0.7194232229968532}. Best is trial 77 with value: -0.00011012576492267536.\n"
     ]
    },
    {
     "name": "stdout",
     "output_type": "stream",
     "text": [
      "Training has not converged after 500 steps\n",
      "Trial 251 final loss: 0.00000772\n",
      "\n",
      "Trial 252: LR=0.017585, SigmaM=1.5599, InitM=0.118618\n"
     ]
    },
    {
     "name": "stderr",
     "output_type": "stream",
     "text": [
      "Training Progress: 100%|██████████| 500/500 [00:04<00:00, 119.21it/s, loss=0.000132, elapsed time=0.01, total time=4.2]  \n",
      "[I 2025-05-23 09:51:20,156] Trial 252 finished with value: 0.0001320366281970344 and parameters: {'learning_rate': 0.017584717883987216, 'sigma_multiplier': 1.55992096965826, 'initialization_multiplier': 0.11861768987972555}. Best is trial 77 with value: -0.00011012576492267536.\n"
     ]
    },
    {
     "name": "stdout",
     "output_type": "stream",
     "text": [
      "Training has not converged after 500 steps\n",
      "Trial 252 final loss: 0.00013204\n",
      "\n",
      "Trial 253: LR=0.006334, SigmaM=1.7067, InitM=0.068574\n"
     ]
    },
    {
     "name": "stderr",
     "output_type": "stream",
     "text": [
      "Training Progress: 100%|██████████| 500/500 [00:04<00:00, 119.28it/s, loss=-0.000037, elapsed time=0.01, total time=4.2] \n",
      "[I 2025-05-23 09:51:24,365] Trial 253 finished with value: -3.7265019140327374e-05 and parameters: {'learning_rate': 0.0063338766849603415, 'sigma_multiplier': 1.7066691581829931, 'initialization_multiplier': 0.06857357416183114}. Best is trial 77 with value: -0.00011012576492267536.\n"
     ]
    },
    {
     "name": "stdout",
     "output_type": "stream",
     "text": [
      "Training has not converged after 500 steps\n",
      "Trial 253 final loss: -0.00003727\n",
      "\n",
      "Trial 254: LR=0.023717, SigmaM=1.8105, InitM=0.158081\n"
     ]
    },
    {
     "name": "stderr",
     "output_type": "stream",
     "text": [
      "Training Progress: 100%|██████████| 500/500 [00:04<00:00, 121.49it/s, loss=0.000162, elapsed time=0.01, total time=4.13] \n",
      "[I 2025-05-23 09:51:28,500] Trial 254 finished with value: 0.00016244525543473583 and parameters: {'learning_rate': 0.023717323470787498, 'sigma_multiplier': 1.8105116446725869, 'initialization_multiplier': 0.1580807388604767}. Best is trial 77 with value: -0.00011012576492267536.\n"
     ]
    },
    {
     "name": "stdout",
     "output_type": "stream",
     "text": [
      "Training has not converged after 500 steps\n",
      "Trial 254 final loss: 0.00016245\n",
      "\n",
      "Trial 255: LR=0.037624, SigmaM=1.6308, InitM=0.089227\n"
     ]
    },
    {
     "name": "stderr",
     "output_type": "stream",
     "text": [
      "Training Progress: 100%|██████████| 500/500 [00:04<00:00, 119.36it/s, loss=0.000289, elapsed time=0.01, total time=4.2]  \n",
      "[I 2025-05-23 09:51:32,707] Trial 255 finished with value: 0.00028937619096169306 and parameters: {'learning_rate': 0.03762365001831909, 'sigma_multiplier': 1.6307919626436855, 'initialization_multiplier': 0.08922737495218183}. Best is trial 77 with value: -0.00011012576492267536.\n"
     ]
    },
    {
     "name": "stdout",
     "output_type": "stream",
     "text": [
      "Training has not converged after 500 steps\n",
      "Trial 255 final loss: 0.00028938\n",
      "\n",
      "Trial 256: LR=0.007591, SigmaM=1.7802, InitM=0.446952\n"
     ]
    },
    {
     "name": "stderr",
     "output_type": "stream",
     "text": [
      "Training Progress: 100%|██████████| 500/500 [00:04<00:00, 123.35it/s, loss=-0.000006, elapsed time=0.01, total time=4.06]\n",
      "[I 2025-05-23 09:51:36,782] Trial 256 finished with value: -5.966584087374168e-06 and parameters: {'learning_rate': 0.007590564105058321, 'sigma_multiplier': 1.7801954491247425, 'initialization_multiplier': 0.44695196379422714}. Best is trial 77 with value: -0.00011012576492267536.\n"
     ]
    },
    {
     "name": "stdout",
     "output_type": "stream",
     "text": [
      "Training has not converged after 500 steps\n",
      "Trial 256 final loss: -0.00000597\n",
      "\n",
      "Trial 257: LR=0.013888, SigmaM=1.8684, InitM=0.107718\n"
     ]
    },
    {
     "name": "stderr",
     "output_type": "stream",
     "text": [
      "Training Progress: 100%|██████████| 500/500 [00:03<00:00, 125.65it/s, loss=-0.000024, elapsed time=0.01, total time=3.99]\n",
      "[I 2025-05-23 09:51:40,779] Trial 257 finished with value: -2.359551580482354e-05 and parameters: {'learning_rate': 0.013887826230169318, 'sigma_multiplier': 1.8684148449003795, 'initialization_multiplier': 0.10771830960448454}. Best is trial 77 with value: -0.00011012576492267536.\n"
     ]
    },
    {
     "name": "stdout",
     "output_type": "stream",
     "text": [
      "Training has not converged after 500 steps\n",
      "Trial 257 final loss: -0.00002360\n",
      "\n",
      "Trial 258: LR=0.020499, SigmaM=1.7479, InitM=0.248739\n"
     ]
    },
    {
     "name": "stderr",
     "output_type": "stream",
     "text": [
      "Training Progress: 100%|██████████| 500/500 [00:04<00:00, 124.03it/s, loss=0.000011, elapsed time=0.01, total time=4.04] \n",
      "[I 2025-05-23 09:51:44,830] Trial 258 finished with value: 1.0923887573194134e-05 and parameters: {'learning_rate': 0.020499143674884056, 'sigma_multiplier': 1.7478804311062024, 'initialization_multiplier': 0.24873911270479074}. Best is trial 77 with value: -0.00011012576492267536.\n"
     ]
    },
    {
     "name": "stdout",
     "output_type": "stream",
     "text": [
      "Training has not converged after 500 steps\n",
      "Trial 258 final loss: 0.00001092\n",
      "\n",
      "Trial 259: LR=0.054955, SigmaM=1.6696, InitM=0.001084\n"
     ]
    },
    {
     "name": "stderr",
     "output_type": "stream",
     "text": [
      "Training Progress: 100%|██████████| 500/500 [00:04<00:00, 122.41it/s, loss=0.000116, elapsed time=0.01, total time=4.09] \n",
      "[I 2025-05-23 09:51:48,932] Trial 259 finished with value: 0.0001158855047826218 and parameters: {'learning_rate': 0.05495515572919562, 'sigma_multiplier': 1.6696361632008145, 'initialization_multiplier': 0.0010835133206529887}. Best is trial 77 with value: -0.00011012576492267536.\n"
     ]
    },
    {
     "name": "stdout",
     "output_type": "stream",
     "text": [
      "Training has not converged after 500 steps\n",
      "Trial 259 final loss: 0.00011589\n",
      "\n",
      "Trial 260: LR=0.002517, SigmaM=1.8459, InitM=0.054487\n"
     ]
    },
    {
     "name": "stderr",
     "output_type": "stream",
     "text": [
      "Training Progress: 100%|██████████| 500/500 [00:03<00:00, 125.32it/s, loss=-0.000051, elapsed time=0.01, total time=4]   \n",
      "[I 2025-05-23 09:51:52,939] Trial 260 finished with value: -5.0955738674156296e-05 and parameters: {'learning_rate': 0.0025170064385912506, 'sigma_multiplier': 1.8459433172651183, 'initialization_multiplier': 0.05448712780904939}. Best is trial 77 with value: -0.00011012576492267536.\n"
     ]
    },
    {
     "name": "stdout",
     "output_type": "stream",
     "text": [
      "Training has not converged after 500 steps\n",
      "Trial 260 final loss: -0.00005096\n",
      "\n",
      "Trial 261: LR=0.012567, SigmaM=1.8507, InitM=0.050409\n"
     ]
    },
    {
     "name": "stderr",
     "output_type": "stream",
     "text": [
      "Training Progress: 100%|██████████| 500/500 [00:03<00:00, 125.97it/s, loss=0.000034, elapsed time=0.01, total time=3.98] \n",
      "[I 2025-05-23 09:51:56,926] Trial 261 finished with value: 3.368273431169526e-05 and parameters: {'learning_rate': 0.012566947521155154, 'sigma_multiplier': 1.8506626120059952, 'initialization_multiplier': 0.05040925671108255}. Best is trial 77 with value: -0.00011012576492267536.\n"
     ]
    },
    {
     "name": "stdout",
     "output_type": "stream",
     "text": [
      "Training has not converged after 500 steps\n",
      "Trial 261 final loss: 0.00003368\n",
      "\n",
      "Trial 262: LR=0.003822, SigmaM=1.9506, InitM=0.052254\n"
     ]
    },
    {
     "name": "stderr",
     "output_type": "stream",
     "text": [
      "Training Progress: 100%|██████████| 500/500 [00:03<00:00, 125.06it/s, loss=0.000143, elapsed time=0.01, total time=4.01] \n",
      "[I 2025-05-23 09:52:00,942] Trial 262 finished with value: 0.0001425493055714224 and parameters: {'learning_rate': 0.0038223394026484056, 'sigma_multiplier': 1.9505658419050815, 'initialization_multiplier': 0.05225410099472284}. Best is trial 77 with value: -0.00011012576492267536.\n"
     ]
    },
    {
     "name": "stdout",
     "output_type": "stream",
     "text": [
      "Training has not converged after 500 steps\n",
      "Trial 262 final loss: 0.00014255\n",
      "\n",
      "Trial 263: LR=0.001690, SigmaM=1.8254, InitM=0.062787\n"
     ]
    },
    {
     "name": "stderr",
     "output_type": "stream",
     "text": [
      "Training Progress: 100%|██████████| 500/500 [00:03<00:00, 125.06it/s, loss=0.000160, elapsed time=0.01, total time=4.01]\n",
      "[I 2025-05-23 09:52:04,958] Trial 263 finished with value: 0.0001597977516775462 and parameters: {'learning_rate': 0.0016895266096133039, 'sigma_multiplier': 1.825448402853301, 'initialization_multiplier': 0.06278737630861851}. Best is trial 77 with value: -0.00011012576492267536.\n"
     ]
    },
    {
     "name": "stdout",
     "output_type": "stream",
     "text": [
      "Training has not converged after 500 steps\n",
      "Trial 263 final loss: 0.00015980\n",
      "\n",
      "Trial 264: LR=0.015733, SigmaM=1.9021, InitM=0.045578\n"
     ]
    },
    {
     "name": "stderr",
     "output_type": "stream",
     "text": [
      "Training Progress: 100%|██████████| 500/500 [00:03<00:00, 127.30it/s, loss=-0.000014, elapsed time=0.01, total time=3.94]\n",
      "[I 2025-05-23 09:52:08,904] Trial 264 finished with value: -1.3957910333096286e-05 and parameters: {'learning_rate': 0.01573262325266575, 'sigma_multiplier': 1.9021242699996157, 'initialization_multiplier': 0.04557808875096682}. Best is trial 77 with value: -0.00011012576492267536.\n"
     ]
    },
    {
     "name": "stdout",
     "output_type": "stream",
     "text": [
      "Training has not converged after 500 steps\n",
      "Trial 264 final loss: -0.00001396\n",
      "\n",
      "Trial 265: LR=0.003218, SigmaM=1.8820, InitM=0.057578\n"
     ]
    },
    {
     "name": "stderr",
     "output_type": "stream",
     "text": [
      "Training Progress: 100%|██████████| 500/500 [00:03<00:00, 125.01it/s, loss=-0.000012, elapsed time=0.01, total time=4.01]\n",
      "[I 2025-05-23 09:52:12,923] Trial 265 finished with value: -1.2201084724694564e-05 and parameters: {'learning_rate': 0.0032180563040464364, 'sigma_multiplier': 1.8820062056671678, 'initialization_multiplier': 0.05757843905312625}. Best is trial 77 with value: -0.00011012576492267536.\n"
     ]
    },
    {
     "name": "stdout",
     "output_type": "stream",
     "text": [
      "Training has not converged after 500 steps\n",
      "Trial 265 final loss: -0.00001220\n",
      "\n",
      "Trial 266: LR=0.009374, SigmaM=1.7948, InitM=0.036199\n"
     ]
    },
    {
     "name": "stderr",
     "output_type": "stream",
     "text": [
      "Training Progress: 100%|██████████| 500/500 [00:03<00:00, 125.28it/s, loss=-0.000043, elapsed time=0.01, total time=4]   \n",
      "[I 2025-05-23 09:52:16,933] Trial 266 finished with value: -4.2699565877902526e-05 and parameters: {'learning_rate': 0.009373889932653857, 'sigma_multiplier': 1.7948305805744322, 'initialization_multiplier': 0.036198611150604146}. Best is trial 77 with value: -0.00011012576492267536.\n"
     ]
    },
    {
     "name": "stdout",
     "output_type": "stream",
     "text": [
      "Training has not converged after 500 steps\n",
      "Trial 266 final loss: -0.00004270\n",
      "\n",
      "Trial 267: LR=0.005350, SigmaM=1.9721, InitM=0.073841\n"
     ]
    },
    {
     "name": "stderr",
     "output_type": "stream",
     "text": [
      "Training Progress: 100%|██████████| 500/500 [00:03<00:00, 126.44it/s, loss=-0.000036, elapsed time=0.01, total time=3.97]\n",
      "[I 2025-05-23 09:52:20,907] Trial 267 finished with value: -3.6488432161353714e-05 and parameters: {'learning_rate': 0.005349879495132032, 'sigma_multiplier': 1.9720870227921428, 'initialization_multiplier': 0.07384126465900911}. Best is trial 77 with value: -0.00011012576492267536.\n"
     ]
    },
    {
     "name": "stdout",
     "output_type": "stream",
     "text": [
      "Training has not converged after 500 steps\n",
      "Trial 267 final loss: -0.00003649\n",
      "\n",
      "Trial 268: LR=0.017988, SigmaM=1.8361, InitM=0.080651\n"
     ]
    },
    {
     "name": "stderr",
     "output_type": "stream",
     "text": [
      "Training Progress: 100%|██████████| 500/500 [00:03<00:00, 125.54it/s, loss=-0.000001, elapsed time=0.01, total time=3.99]\n",
      "[I 2025-05-23 09:52:24,909] Trial 268 finished with value: -8.406929729627866e-07 and parameters: {'learning_rate': 0.01798753499815997, 'sigma_multiplier': 1.8361259238732843, 'initialization_multiplier': 0.08065146096922648}. Best is trial 77 with value: -0.00011012576492267536.\n"
     ]
    },
    {
     "name": "stdout",
     "output_type": "stream",
     "text": [
      "Training has not converged after 500 steps\n",
      "Trial 268 final loss: -0.00000084\n",
      "\n",
      "Trial 269: LR=0.010558, SigmaM=1.4804, InitM=0.135148\n"
     ]
    },
    {
     "name": "stderr",
     "output_type": "stream",
     "text": [
      "Training Progress: 100%|██████████| 500/500 [00:04<00:00, 121.46it/s, loss=0.000016, elapsed time=0.01, total time=4.13] \n",
      "[I 2025-05-23 09:52:29,044] Trial 269 finished with value: 1.585833474000294e-05 and parameters: {'learning_rate': 0.010558490790545562, 'sigma_multiplier': 1.4803898487151388, 'initialization_multiplier': 0.1351481309183747}. Best is trial 77 with value: -0.00011012576492267536.\n"
     ]
    },
    {
     "name": "stdout",
     "output_type": "stream",
     "text": [
      "Training has not converged after 500 steps\n",
      "Trial 269 final loss: 0.00001586\n",
      "\n",
      "Trial 270: LR=0.014766, SigmaM=1.2277, InitM=0.066588\n"
     ]
    },
    {
     "name": "stderr",
     "output_type": "stream",
     "text": [
      "Training Progress: 100%|██████████| 500/500 [00:04<00:00, 116.79it/s, loss=0.000178, elapsed time=0.01, total time=4.29] \n",
      "[I 2025-05-23 09:52:33,347] Trial 270 finished with value: 0.00017834052071345202 and parameters: {'learning_rate': 0.014765661251436515, 'sigma_multiplier': 1.227706324931026, 'initialization_multiplier': 0.06658790765549058}. Best is trial 77 with value: -0.00011012576492267536.\n"
     ]
    },
    {
     "name": "stdout",
     "output_type": "stream",
     "text": [
      "Training has not converged after 500 steps\n",
      "Trial 270 final loss: 0.00017834\n",
      "\n",
      "Trial 271: LR=0.002219, SigmaM=1.7627, InitM=0.044358\n"
     ]
    },
    {
     "name": "stderr",
     "output_type": "stream",
     "text": [
      "Training Progress: 100%|██████████| 500/500 [00:04<00:00, 124.31it/s, loss=0.000007, elapsed time=0.01, total time=4.03] \n",
      "[I 2025-05-23 09:52:37,388] Trial 271 finished with value: 7.2071264083161255e-06 and parameters: {'learning_rate': 0.002219097169850859, 'sigma_multiplier': 1.7626635428735993, 'initialization_multiplier': 0.04435766279803551}. Best is trial 77 with value: -0.00011012576492267536.\n"
     ]
    },
    {
     "name": "stdout",
     "output_type": "stream",
     "text": [
      "Training has not converged after 500 steps\n",
      "Trial 271 final loss: 0.00000721\n",
      "\n",
      "Trial 272: LR=0.002440, SigmaM=1.9258, InitM=0.056827\n"
     ]
    },
    {
     "name": "stderr",
     "output_type": "stream",
     "text": [
      "Training Progress: 100%|██████████| 500/500 [00:03<00:00, 126.56it/s, loss=0.000005, elapsed time=0.01, total time=3.96] \n",
      "[I 2025-05-23 09:52:41,358] Trial 272 finished with value: 4.868965201774255e-06 and parameters: {'learning_rate': 0.002439826967465991, 'sigma_multiplier': 1.9257797059198187, 'initialization_multiplier': 0.05682652825304612}. Best is trial 77 with value: -0.00011012576492267536.\n"
     ]
    },
    {
     "name": "stdout",
     "output_type": "stream",
     "text": [
      "Training has not converged after 500 steps\n",
      "Trial 272 final loss: 0.00000487\n",
      "\n",
      "Trial 273: LR=0.012189, SigmaM=1.8104, InitM=0.029695\n"
     ]
    },
    {
     "name": "stderr",
     "output_type": "stream",
     "text": [
      "Training Progress: 100%|██████████| 500/500 [00:03<00:00, 125.60it/s, loss=-0.000029, elapsed time=0.01, total time=3.99]\n",
      "[I 2025-05-23 09:52:45,358] Trial 273 finished with value: -2.8599670333758626e-05 and parameters: {'learning_rate': 0.012189402423387211, 'sigma_multiplier': 1.8103848557628517, 'initialization_multiplier': 0.029695263695134005}. Best is trial 77 with value: -0.00011012576492267536.\n"
     ]
    },
    {
     "name": "stdout",
     "output_type": "stream",
     "text": [
      "Training has not converged after 500 steps\n",
      "Trial 273 final loss: -0.00002860\n",
      "\n",
      "Trial 274: LR=0.002868, SigmaM=1.8705, InitM=0.082553\n"
     ]
    },
    {
     "name": "stderr",
     "output_type": "stream",
     "text": [
      "Training Progress: 100%|██████████| 500/500 [00:03<00:00, 125.79it/s, loss=0.000023, elapsed time=0.01, total time=3.98] \n",
      "[I 2025-05-23 09:52:49,351] Trial 274 finished with value: 2.284998094068953e-05 and parameters: {'learning_rate': 0.0028676241612243837, 'sigma_multiplier': 1.870466873281826, 'initialization_multiplier': 0.08255303659078461}. Best is trial 77 with value: -0.00011012576492267536.\n"
     ]
    },
    {
     "name": "stdout",
     "output_type": "stream",
     "text": [
      "Training has not converged after 500 steps\n",
      "Trial 274 final loss: 0.00002285\n",
      "\n",
      "Trial 275: LR=0.098695, SigmaM=1.7169, InitM=0.071552\n"
     ]
    },
    {
     "name": "stderr",
     "output_type": "stream",
     "text": [
      "Training Progress: 100%|██████████| 500/500 [00:04<00:00, 123.21it/s, loss=0.000303, elapsed time=0.01, total time=4.07] \n",
      "[I 2025-05-23 09:52:53,426] Trial 275 finished with value: 0.0003034596389358477 and parameters: {'learning_rate': 0.09869460839828445, 'sigma_multiplier': 1.7168970026655062, 'initialization_multiplier': 0.07155215077977069}. Best is trial 77 with value: -0.00011012576492267536.\n"
     ]
    },
    {
     "name": "stdout",
     "output_type": "stream",
     "text": [
      "Training has not converged after 500 steps\n",
      "Trial 275 final loss: 0.00030346\n",
      "\n",
      "Trial 276: LR=0.077265, SigmaM=1.7633, InitM=0.096060\n"
     ]
    },
    {
     "name": "stderr",
     "output_type": "stream",
     "text": [
      "Training Progress: 100%|██████████| 500/500 [00:04<00:00, 122.87it/s, loss=0.000064, elapsed time=0.01, total time=4.08] \n",
      "[I 2025-05-23 09:52:57,515] Trial 276 finished with value: 6.447660216158452e-05 and parameters: {'learning_rate': 0.07726492495217413, 'sigma_multiplier': 1.7632713761523258, 'initialization_multiplier': 0.09605995918331971}. Best is trial 77 with value: -0.00011012576492267536.\n"
     ]
    },
    {
     "name": "stdout",
     "output_type": "stream",
     "text": [
      "Training has not converged after 500 steps\n",
      "Trial 276 final loss: 0.00006448\n",
      "\n",
      "Trial 277: LR=0.021832, SigmaM=1.6806, InitM=0.207823\n"
     ]
    },
    {
     "name": "stderr",
     "output_type": "stream",
     "text": [
      "Training Progress: 100%|██████████| 500/500 [00:04<00:00, 123.04it/s, loss=0.000018, elapsed time=0.01, total time=4.08] \n",
      "[I 2025-05-23 09:53:01,602] Trial 277 finished with value: 1.762716915357698e-05 and parameters: {'learning_rate': 0.021832264772682124, 'sigma_multiplier': 1.6805837925950435, 'initialization_multiplier': 0.20782306397429134}. Best is trial 77 with value: -0.00011012576492267536.\n"
     ]
    },
    {
     "name": "stdout",
     "output_type": "stream",
     "text": [
      "Training has not converged after 500 steps\n",
      "Trial 277 final loss: 0.00001763\n",
      "\n",
      "Trial 278: LR=0.018279, SigmaM=1.5932, InitM=0.001862\n"
     ]
    },
    {
     "name": "stderr",
     "output_type": "stream",
     "text": [
      "Training Progress: 100%|██████████| 500/500 [00:04<00:00, 123.03it/s, loss=0.000225, elapsed time=0.01, total time=4.07] \n",
      "[I 2025-05-23 09:53:05,685] Trial 278 finished with value: 0.0002249741095779464 and parameters: {'learning_rate': 0.018278928844732117, 'sigma_multiplier': 1.5932065608215806, 'initialization_multiplier': 0.0018615368428482435}. Best is trial 77 with value: -0.00011012576492267536.\n"
     ]
    },
    {
     "name": "stdout",
     "output_type": "stream",
     "text": [
      "Training has not converged after 500 steps\n",
      "Trial 278 final loss: 0.00022497\n",
      "\n",
      "Trial 279: LR=0.008445, SigmaM=1.7875, InitM=0.040874\n"
     ]
    },
    {
     "name": "stderr",
     "output_type": "stream",
     "text": [
      "Training Progress: 100%|██████████| 500/500 [00:03<00:00, 125.18it/s, loss=-0.000046, elapsed time=0.01, total time=4]   \n",
      "[I 2025-05-23 09:53:09,697] Trial 279 finished with value: -4.594377588441095e-05 and parameters: {'learning_rate': 0.008444518010535695, 'sigma_multiplier': 1.7875246014105934, 'initialization_multiplier': 0.04087435915948512}. Best is trial 77 with value: -0.00011012576492267536.\n"
     ]
    },
    {
     "name": "stdout",
     "output_type": "stream",
     "text": [
      "Training has not converged after 500 steps\n",
      "Trial 279 final loss: -0.00004594\n",
      "\n",
      "Trial 280: LR=0.014523, SigmaM=1.8489, InitM=0.124598\n"
     ]
    },
    {
     "name": "stderr",
     "output_type": "stream",
     "text": [
      "Training Progress: 100%|██████████| 500/500 [00:04<00:00, 124.65it/s, loss=-0.000025, elapsed time=0.01, total time=4.02]\n",
      "[I 2025-05-23 09:53:13,726] Trial 280 finished with value: -2.4988206268140608e-05 and parameters: {'learning_rate': 0.014522953089755593, 'sigma_multiplier': 1.848918744105941, 'initialization_multiplier': 0.12459839005408586}. Best is trial 77 with value: -0.00011012576492267536.\n"
     ]
    },
    {
     "name": "stdout",
     "output_type": "stream",
     "text": [
      "Training has not converged after 500 steps\n",
      "Trial 280 final loss: -0.00002499\n",
      "\n",
      "Trial 281: LR=0.010702, SigmaM=1.7303, InitM=0.174664\n"
     ]
    },
    {
     "name": "stderr",
     "output_type": "stream",
     "text": [
      "Training Progress: 100%|██████████| 500/500 [00:04<00:00, 123.39it/s, loss=0.000049, elapsed time=0.01, total time=4.06] \n",
      "[I 2025-05-23 09:53:17,797] Trial 281 finished with value: 4.908585436417092e-05 and parameters: {'learning_rate': 0.010701859757134677, 'sigma_multiplier': 1.7303142344581608, 'initialization_multiplier': 0.1746642737941451}. Best is trial 77 with value: -0.00011012576492267536.\n"
     ]
    },
    {
     "name": "stdout",
     "output_type": "stream",
     "text": [
      "Training has not converged after 500 steps\n",
      "Trial 281 final loss: 0.00004909\n",
      "\n",
      "Trial 282: LR=0.001950, SigmaM=0.2366, InitM=0.062367\n"
     ]
    },
    {
     "name": "stderr",
     "output_type": "stream",
     "text": [
      "Training Progress: 100%|██████████| 500/500 [00:05<00:00, 90.34it/s, loss=0.002100, elapsed time=0.01, total time=5.54]\n",
      "[I 2025-05-23 09:53:23,350] Trial 282 finished with value: 0.0020996240794924504 and parameters: {'learning_rate': 0.001949753202828099, 'sigma_multiplier': 0.2365817200500615, 'initialization_multiplier': 0.06236719415312768}. Best is trial 77 with value: -0.00011012576492267536.\n"
     ]
    },
    {
     "name": "stdout",
     "output_type": "stream",
     "text": [
      "Training has not converged after 500 steps\n",
      "Trial 282 final loss: 0.00209962\n",
      "\n",
      "Trial 283: LR=0.016515, SigmaM=1.6378, InitM=0.078202\n"
     ]
    },
    {
     "name": "stderr",
     "output_type": "stream",
     "text": [
      "Training Progress: 100%|██████████| 500/500 [00:03<00:00, 125.74it/s, loss=-0.000008, elapsed time=0.01, total time=3.99]\n",
      "[I 2025-05-23 09:53:27,345] Trial 283 finished with value: -8.306274021874818e-06 and parameters: {'learning_rate': 0.016515316650018933, 'sigma_multiplier': 1.6378198801855135, 'initialization_multiplier': 0.0782015710669195}. Best is trial 77 with value: -0.00011012576492267536.\n"
     ]
    },
    {
     "name": "stdout",
     "output_type": "stream",
     "text": [
      "Training has not converged after 500 steps\n",
      "Trial 283 final loss: -0.00000831\n",
      "\n",
      "Trial 284: LR=0.012952, SigmaM=1.1055, InitM=0.023007\n"
     ]
    },
    {
     "name": "stderr",
     "output_type": "stream",
     "text": [
      "Training Progress: 100%|██████████| 500/500 [00:04<00:00, 116.11it/s, loss=-0.000001, elapsed time=0.01, total time=4.32]\n",
      "[I 2025-05-23 09:53:31,669] Trial 284 finished with value: -1.0262447253728086e-06 and parameters: {'learning_rate': 0.012951737551149868, 'sigma_multiplier': 1.105470953424299, 'initialization_multiplier': 0.02300717226412803}. Best is trial 77 with value: -0.00011012576492267536.\n"
     ]
    },
    {
     "name": "stdout",
     "output_type": "stream",
     "text": [
      "Training has not converged after 500 steps\n",
      "Trial 284 final loss: -0.00000103\n",
      "\n",
      "Trial 285: LR=0.004639, SigmaM=1.9245, InitM=0.089818\n"
     ]
    },
    {
     "name": "stderr",
     "output_type": "stream",
     "text": [
      "Training Progress: 100%|██████████| 500/500 [00:04<00:00, 115.84it/s, loss=-0.000061, elapsed time=0.01, total time=4.33]\n",
      "[I 2025-05-23 09:53:36,004] Trial 285 finished with value: -6.065227028378379e-05 and parameters: {'learning_rate': 0.004638783453832098, 'sigma_multiplier': 1.924470317168566, 'initialization_multiplier': 0.08981755302687526}. Best is trial 77 with value: -0.00011012576492267536.\n"
     ]
    },
    {
     "name": "stdout",
     "output_type": "stream",
     "text": [
      "Training has not converged after 500 steps\n",
      "Trial 285 final loss: -0.00006065\n",
      "\n",
      "Trial 286: LR=0.005788, SigmaM=1.9726, InitM=0.102511\n"
     ]
    },
    {
     "name": "stderr",
     "output_type": "stream",
     "text": [
      "Training Progress: 100%|██████████| 500/500 [00:03<00:00, 127.29it/s, loss=-0.000020, elapsed time=0.01, total time=3.94]\n",
      "[I 2025-05-23 09:53:39,950] Trial 286 finished with value: -1.994427402213769e-05 and parameters: {'learning_rate': 0.005787861140000944, 'sigma_multiplier': 1.9725873769363869, 'initialization_multiplier': 0.10251073876845587}. Best is trial 77 with value: -0.00011012576492267536.\n"
     ]
    },
    {
     "name": "stdout",
     "output_type": "stream",
     "text": [
      "Training has not converged after 500 steps\n",
      "Trial 286 final loss: -0.00001994\n",
      "\n",
      "Trial 287: LR=0.006826, SigmaM=1.9129, InitM=0.086433\n"
     ]
    },
    {
     "name": "stderr",
     "output_type": "stream",
     "text": [
      "Training Progress: 100%|██████████| 500/500 [00:03<00:00, 125.34it/s, loss=0.000137, elapsed time=0.01, total time=4]    \n",
      "[I 2025-05-23 09:53:43,958] Trial 287 finished with value: 0.00013655781335827387 and parameters: {'learning_rate': 0.006826226837487776, 'sigma_multiplier': 1.9129266965128413, 'initialization_multiplier': 0.08643297066622987}. Best is trial 77 with value: -0.00011012576492267536.\n"
     ]
    },
    {
     "name": "stdout",
     "output_type": "stream",
     "text": [
      "Training has not converged after 500 steps\n",
      "Trial 287 final loss: 0.00013656\n",
      "\n",
      "Trial 288: LR=0.001312, SigmaM=1.9394, InitM=0.139036\n"
     ]
    },
    {
     "name": "stderr",
     "output_type": "stream",
     "text": [
      "Training Progress: 100%|██████████| 500/500 [00:03<00:00, 127.31it/s, loss=0.000673, elapsed time=0.01, total time=3.94]\n",
      "[I 2025-05-23 09:53:47,904] Trial 288 finished with value: 0.0006727198558234003 and parameters: {'learning_rate': 0.001312289342397842, 'sigma_multiplier': 1.9394155691429933, 'initialization_multiplier': 0.13903618737315654}. Best is trial 77 with value: -0.00011012576492267536.\n"
     ]
    },
    {
     "name": "stdout",
     "output_type": "stream",
     "text": [
      "Training has not converged after 500 steps\n",
      "Trial 288 final loss: 0.00067272\n",
      "\n",
      "Trial 289: LR=0.003846, SigmaM=1.8987, InitM=0.051086\n"
     ]
    },
    {
     "name": "stderr",
     "output_type": "stream",
     "text": [
      "Training Progress: 100%|██████████| 500/500 [00:03<00:00, 126.17it/s, loss=-0.000011, elapsed time=0.01, total time=3.97]\n",
      "[I 2025-05-23 09:53:51,886] Trial 289 finished with value: -1.1296655072255814e-05 and parameters: {'learning_rate': 0.0038463216767986043, 'sigma_multiplier': 1.8986890578031708, 'initialization_multiplier': 0.0510855491727592}. Best is trial 77 with value: -0.00011012576492267536.\n"
     ]
    },
    {
     "name": "stdout",
     "output_type": "stream",
     "text": [
      "Training has not converged after 500 steps\n",
      "Trial 289 final loss: -0.00001130\n",
      "\n",
      "Trial 290: LR=0.004700, SigmaM=1.8714, InitM=0.071117\n"
     ]
    },
    {
     "name": "stderr",
     "output_type": "stream",
     "text": [
      "Training Progress: 100%|██████████| 500/500 [00:03<00:00, 125.07it/s, loss=0.000154, elapsed time=0.01, total time=4.01] \n",
      "[I 2025-05-23 09:53:55,904] Trial 290 finished with value: 0.00015407138472549656 and parameters: {'learning_rate': 0.004700488951694911, 'sigma_multiplier': 1.8714427815803971, 'initialization_multiplier': 0.07111738868370501}. Best is trial 77 with value: -0.00011012576492267536.\n"
     ]
    },
    {
     "name": "stdout",
     "output_type": "stream",
     "text": [
      "Training has not converged after 500 steps\n",
      "Trial 290 final loss: 0.00015407\n",
      "\n",
      "Trial 291: LR=0.008443, SigmaM=1.9976, InitM=0.119101\n"
     ]
    },
    {
     "name": "stderr",
     "output_type": "stream",
     "text": [
      "Training Progress: 100%|██████████| 500/500 [00:03<00:00, 126.02it/s, loss=0.000077, elapsed time=0.01, total time=3.98] \n",
      "[I 2025-05-23 09:53:59,890] Trial 291 finished with value: 7.673382056715032e-05 and parameters: {'learning_rate': 0.008442641509546791, 'sigma_multiplier': 1.997643768870784, 'initialization_multiplier': 0.11910124493123402}. Best is trial 77 with value: -0.00011012576492267536.\n"
     ]
    },
    {
     "name": "stdout",
     "output_type": "stream",
     "text": [
      "Training has not converged after 500 steps\n",
      "Trial 291 final loss: 0.00007673\n",
      "\n",
      "Trial 292: LR=0.007305, SigmaM=1.8238, InitM=0.156316\n"
     ]
    },
    {
     "name": "stderr",
     "output_type": "stream",
     "text": [
      "Training Progress: 100%|██████████| 500/500 [00:03<00:00, 125.22it/s, loss=-0.000028, elapsed time=0.01, total time=4]   \n",
      "[I 2025-05-23 09:54:03,901] Trial 292 finished with value: -2.8006286175574377e-05 and parameters: {'learning_rate': 0.007305196702543771, 'sigma_multiplier': 1.8237622641908013, 'initialization_multiplier': 0.15631640464089608}. Best is trial 77 with value: -0.00011012576492267536.\n"
     ]
    },
    {
     "name": "stdout",
     "output_type": "stream",
     "text": [
      "Training has not converged after 500 steps\n",
      "Trial 292 final loss: -0.00002801\n",
      "\n",
      "Trial 293: LR=0.025905, SigmaM=1.8029, InitM=0.093402\n"
     ]
    },
    {
     "name": "stderr",
     "output_type": "stream",
     "text": [
      "Training Progress: 100%|██████████| 500/500 [00:03<00:00, 125.97it/s, loss=0.000140, elapsed time=0.01, total time=3.98] \n",
      "[I 2025-05-23 09:54:07,887] Trial 293 finished with value: 0.0001396644263055093 and parameters: {'learning_rate': 0.02590517829681047, 'sigma_multiplier': 1.8028881681620472, 'initialization_multiplier': 0.0934016661993623}. Best is trial 77 with value: -0.00011012576492267536.\n"
     ]
    },
    {
     "name": "stdout",
     "output_type": "stream",
     "text": [
      "Training has not converged after 500 steps\n",
      "Trial 293 final loss: 0.00013966\n",
      "\n",
      "Trial 294: LR=0.004185, SigmaM=1.8753, InitM=0.054526\n"
     ]
    },
    {
     "name": "stderr",
     "output_type": "stream",
     "text": [
      "Training Progress: 100%|██████████| 500/500 [00:03<00:00, 125.88it/s, loss=-0.000066, elapsed time=0.01, total time=3.98]\n",
      "[I 2025-05-23 09:54:11,877] Trial 294 finished with value: -6.591277741800472e-05 and parameters: {'learning_rate': 0.00418468077569568, 'sigma_multiplier': 1.875304729508538, 'initialization_multiplier': 0.054525551298411586}. Best is trial 77 with value: -0.00011012576492267536.\n"
     ]
    },
    {
     "name": "stdout",
     "output_type": "stream",
     "text": [
      "Training has not converged after 500 steps\n",
      "Trial 294 final loss: -0.00006591\n",
      "\n",
      "Trial 295: LR=0.004211, SigmaM=1.9345, InitM=0.058884\n"
     ]
    },
    {
     "name": "stderr",
     "output_type": "stream",
     "text": [
      "Training Progress: 100%|██████████| 500/500 [00:03<00:00, 126.52it/s, loss=-0.000003, elapsed time=0.01, total time=3.96]\n",
      "[I 2025-05-23 09:54:15,846] Trial 295 finished with value: -2.982569347588987e-06 and parameters: {'learning_rate': 0.0042109331148969375, 'sigma_multiplier': 1.9344853240253939, 'initialization_multiplier': 0.058883966303442996}. Best is trial 77 with value: -0.00011012576492267536.\n"
     ]
    },
    {
     "name": "stdout",
     "output_type": "stream",
     "text": [
      "Training has not converged after 500 steps\n",
      "Trial 295 final loss: -0.00000298\n",
      "\n",
      "Trial 296: LR=0.005588, SigmaM=1.8689, InitM=0.049627\n"
     ]
    },
    {
     "name": "stderr",
     "output_type": "stream",
     "text": [
      "Training Progress: 100%|██████████| 500/500 [00:04<00:00, 124.66it/s, loss=0.000085, elapsed time=0.01, total time=4.02] \n",
      "[I 2025-05-23 09:54:19,875] Trial 296 finished with value: 8.490791467229994e-05 and parameters: {'learning_rate': 0.005587746214251031, 'sigma_multiplier': 1.8689398039742864, 'initialization_multiplier': 0.049626570707129315}. Best is trial 77 with value: -0.00011012576492267536.\n"
     ]
    },
    {
     "name": "stdout",
     "output_type": "stream",
     "text": [
      "Training has not converged after 500 steps\n",
      "Trial 296 final loss: 0.00008491\n",
      "\n",
      "Trial 297: LR=0.004593, SigmaM=1.9120, InitM=0.039140\n"
     ]
    },
    {
     "name": "stderr",
     "output_type": "stream",
     "text": [
      "Training Progress: 100%|██████████| 500/500 [00:03<00:00, 126.37it/s, loss=-0.000034, elapsed time=0.01, total time=3.97]\n",
      "[I 2025-05-23 09:54:23,850] Trial 297 finished with value: -3.41861850873401e-05 and parameters: {'learning_rate': 0.0045930833799482495, 'sigma_multiplier': 1.9119676472790124, 'initialization_multiplier': 0.03914014463051392}. Best is trial 77 with value: -0.00011012576492267536.\n"
     ]
    },
    {
     "name": "stdout",
     "output_type": "stream",
     "text": [
      "Training has not converged after 500 steps\n",
      "Trial 297 final loss: -0.00003419\n",
      "\n",
      "Trial 298: LR=0.002552, SigmaM=1.8405, InitM=0.032952\n"
     ]
    },
    {
     "name": "stderr",
     "output_type": "stream",
     "text": [
      "Training Progress: 100%|██████████| 500/500 [00:03<00:00, 126.45it/s, loss=0.000022, elapsed time=0.01, total time=3.96] \n",
      "[I 2025-05-23 09:54:27,824] Trial 298 finished with value: 2.238762592803548e-05 and parameters: {'learning_rate': 0.0025522532925574626, 'sigma_multiplier': 1.8404734669131229, 'initialization_multiplier': 0.03295246215670519}. Best is trial 77 with value: -0.00011012576492267536.\n"
     ]
    },
    {
     "name": "stdout",
     "output_type": "stream",
     "text": [
      "Training has not converged after 500 steps\n",
      "Trial 298 final loss: 0.00002239\n",
      "\n",
      "Trial 299: LR=0.003056, SigmaM=1.4107, InitM=0.054709\n"
     ]
    },
    {
     "name": "stderr",
     "output_type": "stream",
     "text": [
      "Training Progress: 100%|██████████| 500/500 [00:04<00:00, 119.45it/s, loss=0.000214, elapsed time=0.01, total time=4.19] \n",
      "[I 2025-05-23 09:54:32,028] Trial 299 finished with value: 0.00021385003730777408 and parameters: {'learning_rate': 0.0030558860760480115, 'sigma_multiplier': 1.4107259529994256, 'initialization_multiplier': 0.05470898106367874}. Best is trial 77 with value: -0.00011012576492267536.\n"
     ]
    },
    {
     "name": "stdout",
     "output_type": "stream",
     "text": [
      "Training has not converged after 500 steps\n",
      "Trial 299 final loss: 0.00021385\n",
      "\n",
      "Trial 300: LR=0.009801, SigmaM=1.8635, InitM=0.066526\n"
     ]
    },
    {
     "name": "stderr",
     "output_type": "stream",
     "text": [
      "Training Progress: 100%|██████████| 500/500 [00:03<00:00, 127.20it/s, loss=-0.000013, elapsed time=0.01, total time=3.94]\n",
      "[I 2025-05-23 09:54:35,977] Trial 300 finished with value: -1.3277574352338117e-05 and parameters: {'learning_rate': 0.009801442166457152, 'sigma_multiplier': 1.8635397455658893, 'initialization_multiplier': 0.06652604585868357}. Best is trial 77 with value: -0.00011012576492267536.\n"
     ]
    },
    {
     "name": "stdout",
     "output_type": "stream",
     "text": [
      "Training has not converged after 500 steps\n",
      "Trial 300 final loss: -0.00001328\n",
      "\n",
      "Trial 301: LR=0.003760, SigmaM=0.7786, InitM=0.062794\n"
     ]
    },
    {
     "name": "stderr",
     "output_type": "stream",
     "text": [
      "Training Progress: 100%|██████████| 500/500 [00:04<00:00, 104.13it/s, loss=0.000961, elapsed time=0.01, total time=4.81]\n",
      "[I 2025-05-23 09:54:40,797] Trial 301 finished with value: 0.0009610505724850226 and parameters: {'learning_rate': 0.003760184624488426, 'sigma_multiplier': 0.7785560287950333, 'initialization_multiplier': 0.06279412910480313}. Best is trial 77 with value: -0.00011012576492267536.\n"
     ]
    },
    {
     "name": "stdout",
     "output_type": "stream",
     "text": [
      "Training has not converged after 500 steps\n",
      "Trial 301 final loss: 0.00096105\n",
      "\n",
      "Trial 302: LR=0.020992, SigmaM=1.9508, InitM=0.076687\n"
     ]
    },
    {
     "name": "stderr",
     "output_type": "stream",
     "text": [
      "Training Progress: 100%|██████████| 500/500 [00:03<00:00, 128.47it/s, loss=0.000033, elapsed time=0.01, total time=3.9]  \n",
      "[I 2025-05-23 09:54:44,708] Trial 302 finished with value: 3.2920515854275064e-05 and parameters: {'learning_rate': 0.020992438087979702, 'sigma_multiplier': 1.9508133532351164, 'initialization_multiplier': 0.07668735378302413}. Best is trial 77 with value: -0.00011012576492267536.\n"
     ]
    },
    {
     "name": "stdout",
     "output_type": "stream",
     "text": [
      "Training has not converged after 500 steps\n",
      "Trial 302 final loss: 0.00003292\n",
      "\n",
      "Trial 303: LR=0.000183, SigmaM=1.8845, InitM=0.045968\n"
     ]
    },
    {
     "name": "stderr",
     "output_type": "stream",
     "text": [
      "Training Progress: 100%|██████████| 500/500 [00:03<00:00, 135.30it/s, loss=0.060446, elapsed time=0.01, total time=3.71]\n",
      "[I 2025-05-23 09:54:48,422] Trial 303 finished with value: 0.06044603931152259 and parameters: {'learning_rate': 0.00018269803395347224, 'sigma_multiplier': 1.8844711607578564, 'initialization_multiplier': 0.04596788320822233}. Best is trial 77 with value: -0.00011012576492267536.\n"
     ]
    },
    {
     "name": "stdout",
     "output_type": "stream",
     "text": [
      "Training has not converged after 500 steps\n",
      "Trial 303 final loss: 0.06044604\n",
      "\n",
      "Trial 304: LR=0.005306, SigmaM=1.8187, InitM=0.102430\n"
     ]
    },
    {
     "name": "stderr",
     "output_type": "stream",
     "text": [
      "Training Progress: 100%|██████████| 500/500 [00:03<00:00, 125.64it/s, loss=0.000029, elapsed time=0.01, total time=3.99] \n",
      "[I 2025-05-23 09:54:52,420] Trial 304 finished with value: 2.9355832670021454e-05 and parameters: {'learning_rate': 0.005306445523182304, 'sigma_multiplier': 1.8187474592897708, 'initialization_multiplier': 0.10243001897517426}. Best is trial 77 with value: -0.00011012576492267536.\n"
     ]
    },
    {
     "name": "stdout",
     "output_type": "stream",
     "text": [
      "Training has not converged after 500 steps\n",
      "Trial 304 final loss: 0.00002936\n",
      "\n",
      "Trial 305: LR=0.006633, SigmaM=0.9526, InitM=0.087673\n"
     ]
    },
    {
     "name": "stderr",
     "output_type": "stream",
     "text": [
      "Training Progress: 100%|██████████| 500/500 [00:04<00:00, 111.58it/s, loss=0.000471, elapsed time=0.01, total time=4.49]\n",
      "[I 2025-05-23 09:54:56,920] Trial 305 finished with value: 0.0004713998831186422 and parameters: {'learning_rate': 0.006632728351263399, 'sigma_multiplier': 0.9526127255155163, 'initialization_multiplier': 0.08767298426684154}. Best is trial 77 with value: -0.00011012576492267536.\n"
     ]
    },
    {
     "name": "stdout",
     "output_type": "stream",
     "text": [
      "Training has not converged after 500 steps\n",
      "Trial 305 final loss: 0.00047140\n",
      "\n",
      "Trial 306: LR=0.000050, SigmaM=1.5330, InitM=0.073145\n"
     ]
    },
    {
     "name": "stderr",
     "output_type": "stream",
     "text": [
      "Training Progress: 100%|██████████| 500/500 [00:03<00:00, 134.60it/s, loss=0.110392, elapsed time=0.01, total time=3.73]\n",
      "[I 2025-05-23 09:55:00,653] Trial 306 finished with value: 0.11039237145978198 and parameters: {'learning_rate': 4.962248792053777e-05, 'sigma_multiplier': 1.5329571122866579, 'initialization_multiplier': 0.07314517958854987}. Best is trial 77 with value: -0.00011012576492267536.\n"
     ]
    },
    {
     "name": "stdout",
     "output_type": "stream",
     "text": [
      "Training has not converged after 500 steps\n",
      "Trial 306 final loss: 0.11039237\n",
      "\n",
      "Trial 307: LR=0.011487, SigmaM=1.7693, InitM=0.055808\n"
     ]
    },
    {
     "name": "stderr",
     "output_type": "stream",
     "text": [
      "Training Progress: 100%|██████████| 500/500 [00:03<00:00, 126.67it/s, loss=0.000214, elapsed time=0.01, total time=3.96] \n",
      "[I 2025-05-23 09:55:04,619] Trial 307 finished with value: 0.00021369775035217644 and parameters: {'learning_rate': 0.011487077657802438, 'sigma_multiplier': 1.769337636160289, 'initialization_multiplier': 0.055807720091783086}. Best is trial 77 with value: -0.00011012576492267536.\n"
     ]
    },
    {
     "name": "stdout",
     "output_type": "stream",
     "text": [
      "Training has not converged after 500 steps\n",
      "Trial 307 final loss: 0.00021370\n",
      "\n",
      "Trial 308: LR=0.009123, SigmaM=1.8905, InitM=0.086362\n"
     ]
    },
    {
     "name": "stderr",
     "output_type": "stream",
     "text": [
      "Training Progress: 100%|██████████| 500/500 [00:03<00:00, 127.76it/s, loss=-0.000044, elapsed time=0.01, total time=3.92]\n",
      "[I 2025-05-23 09:55:08,550] Trial 308 finished with value: -4.382614402305881e-05 and parameters: {'learning_rate': 0.009122527235501925, 'sigma_multiplier': 1.8904629246134284, 'initialization_multiplier': 0.0863615191069727}. Best is trial 77 with value: -0.00011012576492267536.\n"
     ]
    },
    {
     "name": "stdout",
     "output_type": "stream",
     "text": [
      "Training has not converged after 500 steps\n",
      "Trial 308 final loss: -0.00004383\n",
      "\n",
      "Trial 309: LR=0.027919, SigmaM=1.8358, InitM=0.068825\n"
     ]
    },
    {
     "name": "stderr",
     "output_type": "stream",
     "text": [
      "Training Progress: 100%|██████████| 500/500 [00:03<00:00, 126.73it/s, loss=0.000065, elapsed time=0.01, total time=3.95] \n",
      "[I 2025-05-23 09:55:12,513] Trial 309 finished with value: 6.454598075363213e-05 and parameters: {'learning_rate': 0.02791911033560088, 'sigma_multiplier': 1.8358347098355436, 'initialization_multiplier': 0.06882519959097914}. Best is trial 77 with value: -0.00011012576492267536.\n"
     ]
    },
    {
     "name": "stdout",
     "output_type": "stream",
     "text": [
      "Training has not converged after 500 steps\n",
      "Trial 309 final loss: 0.00006455\n",
      "\n",
      "Trial 310: LR=0.007936, SigmaM=1.9546, InitM=0.109908\n"
     ]
    },
    {
     "name": "stderr",
     "output_type": "stream",
     "text": [
      "Training Progress: 100%|██████████| 500/500 [00:03<00:00, 125.02it/s, loss=-0.000026, elapsed time=0.01, total time=4.01]\n",
      "[I 2025-05-23 09:55:16,531] Trial 310 finished with value: -2.5767367360457794e-05 and parameters: {'learning_rate': 0.007936486353114666, 'sigma_multiplier': 1.9545641013691681, 'initialization_multiplier': 0.10990811683830186}. Best is trial 77 with value: -0.00011012576492267536.\n"
     ]
    },
    {
     "name": "stdout",
     "output_type": "stream",
     "text": [
      "Training has not converged after 500 steps\n",
      "Trial 310 final loss: -0.00002577\n",
      "\n",
      "Trial 311: LR=0.012391, SigmaM=1.3427, InitM=0.058430\n"
     ]
    },
    {
     "name": "stderr",
     "output_type": "stream",
     "text": [
      "Training Progress: 100%|██████████| 500/500 [00:04<00:00, 120.56it/s, loss=0.000187, elapsed time=0.01, total time=4.16] \n",
      "[I 2025-05-23 09:55:20,696] Trial 311 finished with value: 0.00018718397361769984 and parameters: {'learning_rate': 0.012391385950329889, 'sigma_multiplier': 1.3426768102309803, 'initialization_multiplier': 0.058430158541291376}. Best is trial 77 with value: -0.00011012576492267536.\n"
     ]
    },
    {
     "name": "stdout",
     "output_type": "stream",
     "text": [
      "Training has not converged after 500 steps\n",
      "Trial 311 final loss: 0.00018718\n",
      "\n",
      "Trial 312: LR=0.022740, SigmaM=1.7941, InitM=0.026957\n"
     ]
    },
    {
     "name": "stderr",
     "output_type": "stream",
     "text": [
      "Training Progress: 100%|██████████| 500/500 [00:03<00:00, 126.72it/s, loss=0.000008, elapsed time=0.01, total time=3.96] \n",
      "[I 2025-05-23 09:55:24,660] Trial 312 finished with value: 8.291839892359851e-06 and parameters: {'learning_rate': 0.022740269827690354, 'sigma_multiplier': 1.7940853075277294, 'initialization_multiplier': 0.02695741951550967}. Best is trial 77 with value: -0.00011012576492267536.\n"
     ]
    },
    {
     "name": "stdout",
     "output_type": "stream",
     "text": [
      "Training has not converged after 500 steps\n",
      "Trial 312 final loss: 0.00000829\n",
      "\n",
      "Trial 313: LR=0.031697, SigmaM=1.7190, InitM=0.043503\n"
     ]
    },
    {
     "name": "stderr",
     "output_type": "stream",
     "text": [
      "Training Progress: 100%|██████████| 500/500 [00:04<00:00, 123.60it/s, loss=0.000068, elapsed time=0.01, total time=4.06] \n",
      "[I 2025-05-23 09:55:28,727] Trial 313 finished with value: 6.801870487739685e-05 and parameters: {'learning_rate': 0.03169694233678868, 'sigma_multiplier': 1.7190491359768676, 'initialization_multiplier': 0.04350314257506623}. Best is trial 77 with value: -0.00011012576492267536.\n"
     ]
    },
    {
     "name": "stdout",
     "output_type": "stream",
     "text": [
      "Training has not converged after 500 steps\n",
      "Trial 313 final loss: 0.00006802\n",
      "\n",
      "Trial 314: LR=0.018571, SigmaM=1.9257, InitM=0.080112\n"
     ]
    },
    {
     "name": "stderr",
     "output_type": "stream",
     "text": [
      "Training Progress: 100%|██████████| 500/500 [00:04<00:00, 123.21it/s, loss=-0.000066, elapsed time=0.01, total time=4.07]\n",
      "[I 2025-05-23 09:55:32,805] Trial 314 finished with value: -6.59078737750593e-05 and parameters: {'learning_rate': 0.01857124245809491, 'sigma_multiplier': 1.9257256185743716, 'initialization_multiplier': 0.08011234875358642}. Best is trial 77 with value: -0.00011012576492267536.\n"
     ]
    },
    {
     "name": "stdout",
     "output_type": "stream",
     "text": [
      "Training has not converged after 500 steps\n",
      "Trial 314 final loss: -0.00006591\n",
      "\n",
      "Trial 315: LR=0.018544, SigmaM=1.9172, InitM=0.077885\n"
     ]
    },
    {
     "name": "stderr",
     "output_type": "stream",
     "text": [
      "Training Progress: 100%|██████████| 500/500 [00:03<00:00, 125.11it/s, loss=0.000038, elapsed time=0.01, total time=4.01] \n",
      "[I 2025-05-23 09:55:36,821] Trial 315 finished with value: 3.7799518226771136e-05 and parameters: {'learning_rate': 0.018544102064486014, 'sigma_multiplier': 1.9171744552802623, 'initialization_multiplier': 0.07788546750331565}. Best is trial 77 with value: -0.00011012576492267536.\n"
     ]
    },
    {
     "name": "stdout",
     "output_type": "stream",
     "text": [
      "Training has not converged after 500 steps\n",
      "Trial 315 final loss: 0.00003780\n",
      "\n",
      "Trial 316: LR=0.014841, SigmaM=1.9648, InitM=0.097067\n"
     ]
    },
    {
     "name": "stderr",
     "output_type": "stream",
     "text": [
      "Training Progress: 100%|██████████| 500/500 [00:03<00:00, 126.17it/s, loss=-0.000072, elapsed time=0.01, total time=3.97]\n",
      "[I 2025-05-23 09:55:40,801] Trial 316 finished with value: -7.209312251577231e-05 and parameters: {'learning_rate': 0.014841338459864007, 'sigma_multiplier': 1.9647990361424394, 'initialization_multiplier': 0.09706665624804103}. Best is trial 77 with value: -0.00011012576492267536.\n"
     ]
    },
    {
     "name": "stdout",
     "output_type": "stream",
     "text": [
      "Training has not converged after 500 steps\n",
      "Trial 316 final loss: -0.00007209\n",
      "\n",
      "Trial 317: LR=0.015154, SigmaM=1.9626, InitM=0.098573\n"
     ]
    },
    {
     "name": "stderr",
     "output_type": "stream",
     "text": [
      "Training Progress: 100%|██████████| 500/500 [00:03<00:00, 125.68it/s, loss=-0.000045, elapsed time=0.01, total time=3.99]\n",
      "[I 2025-05-23 09:55:44,799] Trial 317 finished with value: -4.5282917912977965e-05 and parameters: {'learning_rate': 0.01515409848539339, 'sigma_multiplier': 1.962577950532754, 'initialization_multiplier': 0.09857339562806959}. Best is trial 77 with value: -0.00011012576492267536.\n"
     ]
    },
    {
     "name": "stdout",
     "output_type": "stream",
     "text": [
      "Training has not converged after 500 steps\n",
      "Trial 317 final loss: -0.00004528\n",
      "\n",
      "Trial 318: LR=0.018043, SigmaM=1.9808, InitM=0.116308\n"
     ]
    },
    {
     "name": "stderr",
     "output_type": "stream",
     "text": [
      "Training Progress: 100%|██████████| 500/500 [00:03<00:00, 128.16it/s, loss=-0.000026, elapsed time=0.01, total time=3.91]\n",
      "[I 2025-05-23 09:55:48,722] Trial 318 finished with value: -2.5522106917541363e-05 and parameters: {'learning_rate': 0.018042536202214386, 'sigma_multiplier': 1.9807650688364498, 'initialization_multiplier': 0.11630845057129788}. Best is trial 77 with value: -0.00011012576492267536.\n"
     ]
    },
    {
     "name": "stdout",
     "output_type": "stream",
     "text": [
      "Training has not converged after 500 steps\n",
      "Trial 318 final loss: -0.00002552\n",
      "\n",
      "Trial 319: LR=0.022616, SigmaM=0.1117, InitM=0.905220\n"
     ]
    },
    {
     "name": "stderr",
     "output_type": "stream",
     "text": [
      "Training Progress: 100%|██████████| 500/500 [00:05<00:00, 84.92it/s, loss=0.000019, elapsed time=0.01, total time=5.9]  \n",
      "[I 2025-05-23 09:55:54,627] Trial 319 finished with value: 1.9406114442547422e-05 and parameters: {'learning_rate': 0.022615634249914317, 'sigma_multiplier': 0.11166154463901967, 'initialization_multiplier': 0.9052204220563378}. Best is trial 77 with value: -0.00011012576492267536.\n"
     ]
    },
    {
     "name": "stdout",
     "output_type": "stream",
     "text": [
      "Training has not converged after 500 steps\n",
      "Trial 319 final loss: 0.00001941\n",
      "\n",
      "Trial 320: LR=0.014378, SigmaM=1.9267, InitM=0.087908\n"
     ]
    },
    {
     "name": "stderr",
     "output_type": "stream",
     "text": [
      "Training Progress: 100%|██████████| 500/500 [00:03<00:00, 126.71it/s, loss=-0.000035, elapsed time=0.01, total time=3.96]\n",
      "[I 2025-05-23 09:55:58,592] Trial 320 finished with value: -3.4617973205527434e-05 and parameters: {'learning_rate': 0.014378036293844204, 'sigma_multiplier': 1.9267225576047682, 'initialization_multiplier': 0.08790830684723826}. Best is trial 77 with value: -0.00011012576492267536.\n"
     ]
    },
    {
     "name": "stdout",
     "output_type": "stream",
     "text": [
      "Training has not converged after 500 steps\n",
      "Trial 320 final loss: -0.00003462\n",
      "\n",
      "Trial 321: LR=0.020013, SigmaM=1.9553, InitM=0.105454\n"
     ]
    },
    {
     "name": "stderr",
     "output_type": "stream",
     "text": [
      "Training Progress: 100%|██████████| 500/500 [00:03<00:00, 126.29it/s, loss=-0.000027, elapsed time=0.01, total time=3.97]\n",
      "[I 2025-05-23 09:56:02,571] Trial 321 finished with value: -2.6625116499930725e-05 and parameters: {'learning_rate': 0.020012738998545034, 'sigma_multiplier': 1.9553101703727178, 'initialization_multiplier': 0.10545417889644734}. Best is trial 77 with value: -0.00011012576492267536.\n"
     ]
    },
    {
     "name": "stdout",
     "output_type": "stream",
     "text": [
      "Training has not converged after 500 steps\n",
      "Trial 321 final loss: -0.00002663\n",
      "\n",
      "Trial 322: LR=0.016366, SigmaM=1.9821, InitM=0.064636\n"
     ]
    },
    {
     "name": "stderr",
     "output_type": "stream",
     "text": [
      "Training Progress: 100%|██████████| 500/500 [00:03<00:00, 127.87it/s, loss=-0.000045, elapsed time=0.01, total time=3.92]\n",
      "[I 2025-05-23 09:56:06,500] Trial 322 finished with value: -4.493724115142488e-05 and parameters: {'learning_rate': 0.016365878807976506, 'sigma_multiplier': 1.9821379501549847, 'initialization_multiplier': 0.0646360338332589}. Best is trial 77 with value: -0.00011012576492267536.\n"
     ]
    },
    {
     "name": "stdout",
     "output_type": "stream",
     "text": [
      "Training has not converged after 500 steps\n",
      "Trial 322 final loss: -0.00004494\n",
      "\n",
      "Trial 323: LR=0.024338, SigmaM=1.9114, InitM=0.091354\n"
     ]
    },
    {
     "name": "stderr",
     "output_type": "stream",
     "text": [
      "Training Progress: 100%|██████████| 500/500 [00:03<00:00, 126.34it/s, loss=-0.000048, elapsed time=0.01, total time=3.97]\n",
      "[I 2025-05-23 09:56:10,476] Trial 323 finished with value: -4.8383584985642386e-05 and parameters: {'learning_rate': 0.02433757529395, 'sigma_multiplier': 1.9113568209912204, 'initialization_multiplier': 0.09135435052987992}. Best is trial 77 with value: -0.00011012576492267536.\n"
     ]
    },
    {
     "name": "stdout",
     "output_type": "stream",
     "text": [
      "Training has not converged after 500 steps\n",
      "Trial 323 final loss: -0.00004838\n",
      "\n",
      "Trial 324: LR=0.013080, SigmaM=1.9921, InitM=0.127651\n"
     ]
    },
    {
     "name": "stderr",
     "output_type": "stream",
     "text": [
      "Training Progress: 100%|██████████| 500/500 [00:03<00:00, 127.76it/s, loss=0.000071, elapsed time=0.01, total time=3.92] \n",
      "[I 2025-05-23 09:56:14,408] Trial 324 finished with value: 7.052438445548739e-05 and parameters: {'learning_rate': 0.013080207250162765, 'sigma_multiplier': 1.992056080359422, 'initialization_multiplier': 0.12765054337647927}. Best is trial 77 with value: -0.00011012576492267536.\n"
     ]
    },
    {
     "name": "stdout",
     "output_type": "stream",
     "text": [
      "Training has not converged after 500 steps\n",
      "Trial 324 final loss: 0.00007052\n",
      "\n",
      "Trial 325: LR=0.003268, SigmaM=1.9212, InitM=0.051589\n"
     ]
    },
    {
     "name": "stderr",
     "output_type": "stream",
     "text": [
      "Training Progress: 100%|██████████| 500/500 [00:03<00:00, 126.21it/s, loss=0.000102, elapsed time=0.01, total time=3.97] \n",
      "[I 2025-05-23 09:56:18,388] Trial 325 finished with value: 0.00010159051141403824 and parameters: {'learning_rate': 0.003267538730093277, 'sigma_multiplier': 1.9211752950948697, 'initialization_multiplier': 0.05158949419350262}. Best is trial 77 with value: -0.00011012576492267536.\n"
     ]
    },
    {
     "name": "stdout",
     "output_type": "stream",
     "text": [
      "Training has not converged after 500 steps\n",
      "Trial 325 final loss: 0.00010159\n",
      "\n",
      "Trial 326: LR=0.019227, SigmaM=1.8843, InitM=0.080595\n"
     ]
    },
    {
     "name": "stderr",
     "output_type": "stream",
     "text": [
      "Training Progress: 100%|██████████| 500/500 [00:04<00:00, 124.69it/s, loss=-0.000016, elapsed time=0.01, total time=4.02]\n",
      "[I 2025-05-23 09:56:22,415] Trial 326 finished with value: -1.6305176728246987e-05 and parameters: {'learning_rate': 0.019226957297270506, 'sigma_multiplier': 1.8843343108413961, 'initialization_multiplier': 0.08059463587830512}. Best is trial 77 with value: -0.00011012576492267536.\n"
     ]
    },
    {
     "name": "stdout",
     "output_type": "stream",
     "text": [
      "Training has not converged after 500 steps\n",
      "Trial 326 final loss: -0.00001631\n",
      "\n",
      "Trial 327: LR=0.011195, SigmaM=0.6735, InitM=0.097397\n"
     ]
    },
    {
     "name": "stderr",
     "output_type": "stream",
     "text": [
      "Training Progress: 100%|██████████| 500/500 [00:05<00:00, 99.68it/s, loss=0.001391, elapsed time=0.01, total time=5.03] \n",
      "[I 2025-05-23 09:56:27,450] Trial 327 finished with value: 0.0013912550063913288 and parameters: {'learning_rate': 0.011195185687453413, 'sigma_multiplier': 0.6734764556390027, 'initialization_multiplier': 0.09739729354446243}. Best is trial 77 with value: -0.00011012576492267536.\n"
     ]
    },
    {
     "name": "stdout",
     "output_type": "stream",
     "text": [
      "Training has not converged after 500 steps\n",
      "Trial 327 final loss: 0.00139126\n",
      "\n",
      "Trial 328: LR=0.015056, SigmaM=1.6523, InitM=0.063230\n"
     ]
    },
    {
     "name": "stderr",
     "output_type": "stream",
     "text": [
      "Training Progress: 100%|██████████| 500/500 [00:03<00:00, 125.15it/s, loss=0.000044, elapsed time=0.01, total time=4.01] \n",
      "[I 2025-05-23 09:56:31,464] Trial 328 finished with value: 4.433820374316449e-05 and parameters: {'learning_rate': 0.015056454306973149, 'sigma_multiplier': 1.6522760603850188, 'initialization_multiplier': 0.0632303001137858}. Best is trial 77 with value: -0.00011012576492267536.\n"
     ]
    },
    {
     "name": "stdout",
     "output_type": "stream",
     "text": [
      "Training has not converged after 500 steps\n",
      "Trial 328 final loss: 0.00004434\n",
      "\n",
      "Trial 329: LR=0.000603, SigmaM=1.6949, InitM=0.074626\n"
     ]
    },
    {
     "name": "stderr",
     "output_type": "stream",
     "text": [
      "Training Progress: 100%|██████████| 500/500 [00:03<00:00, 128.34it/s, loss=0.014242, elapsed time=0.01, total time=3.91]\n",
      "[I 2025-05-23 09:56:35,378] Trial 329 finished with value: 0.014241521253950118 and parameters: {'learning_rate': 0.0006031281267361499, 'sigma_multiplier': 1.6948980096110438, 'initialization_multiplier': 0.07462572645814403}. Best is trial 77 with value: -0.00011012576492267536.\n"
     ]
    },
    {
     "name": "stdout",
     "output_type": "stream",
     "text": [
      "Training has not converged after 500 steps\n",
      "Trial 329 final loss: 0.01424152\n",
      "\n",
      "Trial 330: LR=0.026305, SigmaM=1.6112, InitM=0.116546\n"
     ]
    },
    {
     "name": "stderr",
     "output_type": "stream",
     "text": [
      "Training Progress: 100%|██████████| 500/500 [00:04<00:00, 123.54it/s, loss=0.000150, elapsed time=0.01, total time=4.06] \n",
      "[I 2025-05-23 09:56:39,444] Trial 330 finished with value: 0.00014966505132197613 and parameters: {'learning_rate': 0.026304983757715852, 'sigma_multiplier': 1.6111609319819449, 'initialization_multiplier': 0.11654575388456725}. Best is trial 77 with value: -0.00011012576492267536.\n"
     ]
    },
    {
     "name": "stdout",
     "output_type": "stream",
     "text": [
      "Training has not converged after 500 steps\n",
      "Trial 330 final loss: 0.00014967\n",
      "\n",
      "Trial 331: LR=0.017697, SigmaM=1.9405, InitM=0.328312\n"
     ]
    },
    {
     "name": "stderr",
     "output_type": "stream",
     "text": [
      "Training Progress: 100%|██████████| 500/500 [00:03<00:00, 125.96it/s, loss=0.000069, elapsed time=0.01, total time=3.98] \n",
      "[I 2025-05-23 09:56:43,434] Trial 331 finished with value: 6.946591278226583e-05 and parameters: {'learning_rate': 0.017697168539991114, 'sigma_multiplier': 1.9404811772206212, 'initialization_multiplier': 0.3283122756027787}. Best is trial 77 with value: -0.00011012576492267536.\n"
     ]
    },
    {
     "name": "stdout",
     "output_type": "stream",
     "text": [
      "Training has not converged after 500 steps\n",
      "Trial 331 final loss: 0.00006947\n",
      "\n",
      "Trial 332: LR=0.012901, SigmaM=0.4126, InitM=0.090660\n"
     ]
    },
    {
     "name": "stderr",
     "output_type": "stream",
     "text": [
      "Training Progress: 100%|██████████| 500/500 [00:05<00:00, 89.35it/s, loss=0.001865, elapsed time=0.01, total time=5.61]\n",
      "[I 2025-05-23 09:56:49,050] Trial 332 finished with value: 0.0018653843495340197 and parameters: {'learning_rate': 0.012900553952167009, 'sigma_multiplier': 0.412604389432919, 'initialization_multiplier': 0.0906599015271442}. Best is trial 77 with value: -0.00011012576492267536.\n"
     ]
    },
    {
     "name": "stdout",
     "output_type": "stream",
     "text": [
      "Training has not converged after 500 steps\n",
      "Trial 332 final loss: 0.00186538\n",
      "\n",
      "Trial 333: LR=0.021736, SigmaM=1.7374, InitM=0.068838\n"
     ]
    },
    {
     "name": "stderr",
     "output_type": "stream",
     "text": [
      "Training Progress: 100%|██████████| 500/500 [00:03<00:00, 125.04it/s, loss=0.000023, elapsed time=0.01, total time=4.01] \n",
      "[I 2025-05-23 09:56:53,067] Trial 333 finished with value: 2.3315628917567025e-05 and parameters: {'learning_rate': 0.02173625910211856, 'sigma_multiplier': 1.7374414118448935, 'initialization_multiplier': 0.06883794160037672}. Best is trial 77 with value: -0.00011012576492267536.\n"
     ]
    },
    {
     "name": "stdout",
     "output_type": "stream",
     "text": [
      "Training has not converged after 500 steps\n",
      "Trial 333 final loss: 0.00002332\n",
      "\n",
      "Trial 334: LR=0.004209, SigmaM=1.8922, InitM=0.519990\n"
     ]
    },
    {
     "name": "stderr",
     "output_type": "stream",
     "text": [
      "Training Progress: 100%|██████████| 500/500 [00:03<00:00, 126.05it/s, loss=-0.000035, elapsed time=0.01, total time=3.98]\n",
      "[I 2025-05-23 09:56:57,053] Trial 334 finished with value: -3.533842643205245e-05 and parameters: {'learning_rate': 0.004209093102121291, 'sigma_multiplier': 1.8922398554411712, 'initialization_multiplier': 0.5199895554620461}. Best is trial 77 with value: -0.00011012576492267536.\n"
     ]
    },
    {
     "name": "stdout",
     "output_type": "stream",
     "text": [
      "Training has not converged after 500 steps\n",
      "Trial 334 final loss: -0.00003534\n",
      "\n",
      "Trial 335: LR=0.010454, SigmaM=0.3367, InitM=0.057127\n"
     ]
    },
    {
     "name": "stderr",
     "output_type": "stream",
     "text": [
      "Training Progress: 100%|██████████| 500/500 [00:05<00:00, 87.41it/s, loss=0.002011, elapsed time=0.01, total time=5.73]\n",
      "[I 2025-05-23 09:57:02,793] Trial 335 finished with value: 0.0020111669009579575 and parameters: {'learning_rate': 0.010454377528457633, 'sigma_multiplier': 0.3367047907764372, 'initialization_multiplier': 0.05712651431002437}. Best is trial 77 with value: -0.00011012576492267536.\n"
     ]
    },
    {
     "name": "stdout",
     "output_type": "stream",
     "text": [
      "Training has not converged after 500 steps\n",
      "Trial 335 final loss: 0.00201117\n",
      "\n",
      "Trial 336: LR=0.015632, SigmaM=1.8572, InitM=0.137160\n"
     ]
    },
    {
     "name": "stderr",
     "output_type": "stream",
     "text": [
      "Training Progress: 100%|██████████| 500/500 [00:03<00:00, 125.77it/s, loss=-0.000069, elapsed time=0.01, total time=3.99]\n",
      "[I 2025-05-23 09:57:06,787] Trial 336 finished with value: -6.854906440785493e-05 and parameters: {'learning_rate': 0.015631670879492326, 'sigma_multiplier': 1.8571960089254405, 'initialization_multiplier': 0.137159588795337}. Best is trial 77 with value: -0.00011012576492267536.\n"
     ]
    },
    {
     "name": "stdout",
     "output_type": "stream",
     "text": [
      "Training has not converged after 500 steps\n",
      "Trial 336 final loss: -0.00006855\n",
      "\n",
      "Trial 337: LR=0.015467, SigmaM=1.5689, InitM=0.153787\n"
     ]
    },
    {
     "name": "stderr",
     "output_type": "stream",
     "text": [
      "Training Progress: 100%|██████████| 500/500 [00:04<00:00, 123.39it/s, loss=0.000057, elapsed time=0.01, total time=4.06] \n",
      "[I 2025-05-23 09:57:10,858] Trial 337 finished with value: 5.728621811263148e-05 and parameters: {'learning_rate': 0.01546717783748391, 'sigma_multiplier': 1.568856614942712, 'initialization_multiplier': 0.15378662975424862}. Best is trial 77 with value: -0.00011012576492267536.\n"
     ]
    },
    {
     "name": "stdout",
     "output_type": "stream",
     "text": [
      "Training has not converged after 500 steps\n",
      "Trial 337 final loss: 0.00005729\n",
      "\n",
      "Trial 338: LR=0.013132, SigmaM=1.6817, InitM=0.107821\n"
     ]
    },
    {
     "name": "stderr",
     "output_type": "stream",
     "text": [
      "Training Progress: 100%|██████████| 500/500 [00:03<00:00, 125.80it/s, loss=-0.000005, elapsed time=0.01, total time=3.98]\n",
      "[I 2025-05-23 09:57:14,850] Trial 338 finished with value: -4.656293630483456e-06 and parameters: {'learning_rate': 0.013132305134949234, 'sigma_multiplier': 1.6816896841635147, 'initialization_multiplier': 0.1078212279497452}. Best is trial 77 with value: -0.00011012576492267536.\n"
     ]
    },
    {
     "name": "stdout",
     "output_type": "stream",
     "text": [
      "Training has not converged after 500 steps\n",
      "Trial 338 final loss: -0.00000466\n",
      "\n",
      "Trial 339: LR=0.017376, SigmaM=1.8711, InitM=0.135863\n"
     ]
    },
    {
     "name": "stderr",
     "output_type": "stream",
     "text": [
      "Training Progress: 100%|██████████| 500/500 [00:03<00:00, 126.53it/s, loss=0.000015, elapsed time=0.01, total time=3.96] \n",
      "[I 2025-05-23 09:57:18,821] Trial 339 finished with value: 1.4692752292035882e-05 and parameters: {'learning_rate': 0.017376437954551543, 'sigma_multiplier': 1.8711426721057631, 'initialization_multiplier': 0.13586315135440108}. Best is trial 77 with value: -0.00011012576492267536.\n"
     ]
    },
    {
     "name": "stdout",
     "output_type": "stream",
     "text": [
      "Training has not converged after 500 steps\n",
      "Trial 339 final loss: 0.00001469\n",
      "\n",
      "Trial 340: LR=0.019055, SigmaM=1.9454, InitM=0.103625\n"
     ]
    },
    {
     "name": "stderr",
     "output_type": "stream",
     "text": [
      "Training Progress: 100%|██████████| 500/500 [00:03<00:00, 126.86it/s, loss=0.000098, elapsed time=0.01, total time=3.95] \n",
      "[I 2025-05-23 09:57:22,782] Trial 340 finished with value: 9.772342219559778e-05 and parameters: {'learning_rate': 0.01905463234604836, 'sigma_multiplier': 1.9453509208419817, 'initialization_multiplier': 0.1036251535758456}. Best is trial 77 with value: -0.00011012576492267536.\n"
     ]
    },
    {
     "name": "stdout",
     "output_type": "stream",
     "text": [
      "Training has not converged after 500 steps\n",
      "Trial 340 final loss: 0.00009772\n",
      "\n",
      "Trial 341: LR=0.032139, SigmaM=1.7474, InitM=0.008647\n"
     ]
    },
    {
     "name": "stderr",
     "output_type": "stream",
     "text": [
      "Training Progress: 100%|██████████| 500/500 [00:04<00:00, 124.80it/s, loss=0.000047, elapsed time=0.01, total time=4.02] \n",
      "[I 2025-05-23 09:57:26,808] Trial 341 finished with value: 4.6627022470586914e-05 and parameters: {'learning_rate': 0.03213866403860391, 'sigma_multiplier': 1.7473570740570392, 'initialization_multiplier': 0.008646851428769635}. Best is trial 77 with value: -0.00011012576492267536.\n"
     ]
    },
    {
     "name": "stdout",
     "output_type": "stream",
     "text": [
      "Training has not converged after 500 steps\n",
      "Trial 341 final loss: 0.00004663\n",
      "\n",
      "Trial 342: LR=0.014488, SigmaM=1.7962, InitM=0.244542\n"
     ]
    },
    {
     "name": "stderr",
     "output_type": "stream",
     "text": [
      "Training Progress: 100%|██████████| 500/500 [00:04<00:00, 124.73it/s, loss=0.000000, elapsed time=0.01, total time=4.02] \n",
      "[I 2025-05-23 09:57:30,835] Trial 342 finished with value: 3.2362120939677863e-07 and parameters: {'learning_rate': 0.014488162423271842, 'sigma_multiplier': 1.796174325937519, 'initialization_multiplier': 0.24454188810406963}. Best is trial 77 with value: -0.00011012576492267536.\n"
     ]
    },
    {
     "name": "stdout",
     "output_type": "stream",
     "text": [
      "Training has not converged after 500 steps\n",
      "Trial 342 final loss: 0.00000032\n",
      "\n",
      "Trial 343: LR=0.026434, SigmaM=1.6366, InitM=0.128735\n"
     ]
    },
    {
     "name": "stderr",
     "output_type": "stream",
     "text": [
      "Training Progress: 100%|██████████| 500/500 [00:04<00:00, 124.17it/s, loss=-0.000000, elapsed time=0.01, total time=4.04]\n",
      "[I 2025-05-23 09:57:34,880] Trial 343 finished with value: -4.3569520235507914e-08 and parameters: {'learning_rate': 0.026433583429451058, 'sigma_multiplier': 1.6366357648043028, 'initialization_multiplier': 0.12873524553381788}. Best is trial 77 with value: -0.00011012576492267536.\n"
     ]
    },
    {
     "name": "stdout",
     "output_type": "stream",
     "text": [
      "Training has not converged after 500 steps\n",
      "Trial 343 final loss: -0.00000004\n",
      "\n",
      "Trial 344: LR=0.011360, SigmaM=1.9261, InitM=0.146448\n"
     ]
    },
    {
     "name": "stderr",
     "output_type": "stream",
     "text": [
      "Training Progress: 100%|██████████| 500/500 [00:03<00:00, 128.28it/s, loss=0.000123, elapsed time=0.01, total time=3.91] \n",
      "[I 2025-05-23 09:57:38,797] Trial 344 finished with value: 0.00012296806416558622 and parameters: {'learning_rate': 0.011359941434790537, 'sigma_multiplier': 1.9260877704175785, 'initialization_multiplier': 0.14644835256494074}. Best is trial 77 with value: -0.00011012576492267536.\n"
     ]
    },
    {
     "name": "stdout",
     "output_type": "stream",
     "text": [
      "Training has not converged after 500 steps\n",
      "Trial 344 final loss: 0.00012297\n",
      "\n",
      "Trial 345: LR=0.020776, SigmaM=1.9007, InitM=0.084992\n"
     ]
    },
    {
     "name": "stderr",
     "output_type": "stream",
     "text": [
      "Training Progress: 100%|██████████| 500/500 [00:03<00:00, 127.64it/s, loss=-0.000054, elapsed time=0.01, total time=3.93]\n",
      "[I 2025-05-23 09:57:42,735] Trial 345 finished with value: -5.449885645501146e-05 and parameters: {'learning_rate': 0.020775960593110328, 'sigma_multiplier': 1.9007116998611446, 'initialization_multiplier': 0.08499207062036676}. Best is trial 77 with value: -0.00011012576492267536.\n"
     ]
    },
    {
     "name": "stdout",
     "output_type": "stream",
     "text": [
      "Training has not converged after 500 steps\n",
      "Trial 345 final loss: -0.00005450\n",
      "\n",
      "Trial 346: LR=0.015814, SigmaM=1.9917, InitM=0.082891\n"
     ]
    },
    {
     "name": "stderr",
     "output_type": "stream",
     "text": [
      "Training Progress: 100%|██████████| 500/500 [00:03<00:00, 128.18it/s, loss=0.000123, elapsed time=0.01, total time=3.91] \n",
      "[I 2025-05-23 09:57:46,655] Trial 346 finished with value: 0.00012301309631679408 and parameters: {'learning_rate': 0.0158137213022746, 'sigma_multiplier': 1.9917360734561584, 'initialization_multiplier': 0.08289124045271908}. Best is trial 77 with value: -0.00011012576492267536.\n"
     ]
    },
    {
     "name": "stdout",
     "output_type": "stream",
     "text": [
      "Training has not converged after 500 steps\n",
      "Trial 346 final loss: 0.00012301\n",
      "\n",
      "Trial 347: LR=0.020576, SigmaM=1.9121, InitM=0.210799\n"
     ]
    },
    {
     "name": "stderr",
     "output_type": "stream",
     "text": [
      "Training Progress: 100%|██████████| 500/500 [00:03<00:00, 127.82it/s, loss=-0.000024, elapsed time=0.01, total time=3.92]\n",
      "[I 2025-05-23 09:57:50,586] Trial 347 finished with value: -2.4215752670561976e-05 and parameters: {'learning_rate': 0.02057557697119081, 'sigma_multiplier': 1.9121407206932597, 'initialization_multiplier': 0.21079884779932756}. Best is trial 77 with value: -0.00011012576492267536.\n"
     ]
    },
    {
     "name": "stdout",
     "output_type": "stream",
     "text": [
      "Training has not converged after 500 steps\n",
      "Trial 347 final loss: -0.00002422\n",
      "\n",
      "Trial 348: LR=0.013174, SigmaM=1.6935, InitM=0.194085\n"
     ]
    },
    {
     "name": "stderr",
     "output_type": "stream",
     "text": [
      "Training Progress: 100%|██████████| 500/500 [00:03<00:00, 125.70it/s, loss=0.000114, elapsed time=0.01, total time=3.99] \n",
      "[I 2025-05-23 09:57:54,583] Trial 348 finished with value: 0.00011393913947152598 and parameters: {'learning_rate': 0.013173878692107586, 'sigma_multiplier': 1.693501080061678, 'initialization_multiplier': 0.1940853250643899}. Best is trial 77 with value: -0.00011012576492267536.\n"
     ]
    },
    {
     "name": "stdout",
     "output_type": "stream",
     "text": [
      "Training has not converged after 500 steps\n",
      "Trial 348 final loss: 0.00011394\n",
      "\n",
      "Trial 349: LR=0.016993, SigmaM=1.9540, InitM=0.115173\n"
     ]
    },
    {
     "name": "stderr",
     "output_type": "stream",
     "text": [
      "Training Progress: 100%|██████████| 500/500 [00:03<00:00, 128.32it/s, loss=-0.000079, elapsed time=0.01, total time=3.91]\n",
      "[I 2025-05-23 09:57:58,499] Trial 349 finished with value: -7.929024607583651e-05 and parameters: {'learning_rate': 0.016992864333354504, 'sigma_multiplier': 1.9539542194079442, 'initialization_multiplier': 0.11517319329107788}. Best is trial 77 with value: -0.00011012576492267536.\n"
     ]
    },
    {
     "name": "stdout",
     "output_type": "stream",
     "text": [
      "Training has not converged after 500 steps\n",
      "Trial 349 final loss: -0.00007929\n",
      "\n",
      "Trial 350: LR=0.009718, SigmaM=1.9652, InitM=0.134731\n"
     ]
    },
    {
     "name": "stderr",
     "output_type": "stream",
     "text": [
      "Training Progress: 100%|██████████| 500/500 [00:03<00:00, 126.89it/s, loss=0.000003, elapsed time=0.01, total time=3.95] \n",
      "[I 2025-05-23 09:58:02,459] Trial 350 finished with value: 2.8023953218870077e-06 and parameters: {'learning_rate': 0.00971807755385193, 'sigma_multiplier': 1.9652303427351083, 'initialization_multiplier': 0.1347307976485322}. Best is trial 77 with value: -0.00011012576492267536.\n"
     ]
    },
    {
     "name": "stdout",
     "output_type": "stream",
     "text": [
      "Training has not converged after 500 steps\n",
      "Trial 350 final loss: 0.00000280\n",
      "\n",
      "Trial 351: LR=0.016747, SigmaM=1.9978, InitM=0.177919\n"
     ]
    },
    {
     "name": "stderr",
     "output_type": "stream",
     "text": [
      "Training Progress: 100%|██████████| 500/500 [00:03<00:00, 126.51it/s, loss=-0.000025, elapsed time=0.01, total time=3.96]\n",
      "[I 2025-05-23 09:58:06,432] Trial 351 finished with value: -2.5377349339417794e-05 and parameters: {'learning_rate': 0.016747221397647852, 'sigma_multiplier': 1.9977564780433725, 'initialization_multiplier': 0.177918568816812}. Best is trial 77 with value: -0.00011012576492267536.\n"
     ]
    },
    {
     "name": "stdout",
     "output_type": "stream",
     "text": [
      "Training has not converged after 500 steps\n",
      "Trial 351 final loss: -0.00002538\n",
      "\n",
      "Trial 352: LR=0.011895, SigmaM=1.7620, InitM=0.103924\n"
     ]
    },
    {
     "name": "stderr",
     "output_type": "stream",
     "text": [
      "Training Progress: 100%|██████████| 500/500 [00:03<00:00, 126.67it/s, loss=0.000043, elapsed time=0.01, total time=3.96] \n",
      "[I 2025-05-23 09:58:10,399] Trial 352 finished with value: 4.260705368735015e-05 and parameters: {'learning_rate': 0.01189467592671572, 'sigma_multiplier': 1.7619971428444383, 'initialization_multiplier': 0.10392444086597126}. Best is trial 77 with value: -0.00011012576492267536.\n"
     ]
    },
    {
     "name": "stdout",
     "output_type": "stream",
     "text": [
      "Training has not converged after 500 steps\n",
      "Trial 352 final loss: 0.00004261\n",
      "\n",
      "Trial 353: LR=0.014316, SigmaM=1.9598, InitM=0.124522\n"
     ]
    },
    {
     "name": "stderr",
     "output_type": "stream",
     "text": [
      "Training Progress: 100%|██████████| 500/500 [00:03<00:00, 128.19it/s, loss=-0.000056, elapsed time=0.01, total time=3.91]\n",
      "[I 2025-05-23 09:58:14,319] Trial 353 finished with value: -5.607335113466482e-05 and parameters: {'learning_rate': 0.014316226323458825, 'sigma_multiplier': 1.959762323919082, 'initialization_multiplier': 0.12452188269780365}. Best is trial 77 with value: -0.00011012576492267536.\n"
     ]
    },
    {
     "name": "stdout",
     "output_type": "stream",
     "text": [
      "Training has not converged after 500 steps\n",
      "Trial 353 final loss: -0.00005607\n",
      "\n",
      "Trial 354: LR=0.013881, SigmaM=1.9721, InitM=0.164674\n"
     ]
    },
    {
     "name": "stderr",
     "output_type": "stream",
     "text": [
      "Training Progress: 100%|██████████| 500/500 [00:03<00:00, 128.04it/s, loss=-0.000041, elapsed time=0.01, total time=3.92]\n",
      "[I 2025-05-23 09:58:18,244] Trial 354 finished with value: -4.14112571670315e-05 and parameters: {'learning_rate': 0.013880557977996885, 'sigma_multiplier': 1.9721271924700536, 'initialization_multiplier': 0.16467403602426572}. Best is trial 77 with value: -0.00011012576492267536.\n"
     ]
    },
    {
     "name": "stdout",
     "output_type": "stream",
     "text": [
      "Training has not converged after 500 steps\n",
      "Trial 354 final loss: -0.00004141\n",
      "\n",
      "Trial 355: LR=0.010857, SigmaM=1.9471, InitM=0.120754\n"
     ]
    },
    {
     "name": "stderr",
     "output_type": "stream",
     "text": [
      "Training Progress: 100%|██████████| 500/500 [00:03<00:00, 128.37it/s, loss=-0.000008, elapsed time=0.01, total time=3.91]\n",
      "[I 2025-05-23 09:58:22,158] Trial 355 finished with value: -7.713482362862991e-06 and parameters: {'learning_rate': 0.010857405889971854, 'sigma_multiplier': 1.947126324409366, 'initialization_multiplier': 0.1207543691620965}. Best is trial 77 with value: -0.00011012576492267536.\n"
     ]
    },
    {
     "name": "stdout",
     "output_type": "stream",
     "text": [
      "Training has not converged after 500 steps\n",
      "Trial 355 final loss: -0.00000771\n",
      "\n",
      "Trial 356: LR=0.014424, SigmaM=1.9103, InitM=0.143453\n"
     ]
    },
    {
     "name": "stderr",
     "output_type": "stream",
     "text": [
      "Training Progress: 100%|██████████| 500/500 [00:03<00:00, 127.19it/s, loss=0.000042, elapsed time=0.01, total time=3.94] \n",
      "[I 2025-05-23 09:58:26,108] Trial 356 finished with value: 4.2217094195501834e-05 and parameters: {'learning_rate': 0.014424153990591876, 'sigma_multiplier': 1.91032791923074, 'initialization_multiplier': 0.14345266954380295}. Best is trial 77 with value: -0.00011012576492267536.\n"
     ]
    },
    {
     "name": "stdout",
     "output_type": "stream",
     "text": [
      "Training has not converged after 500 steps\n",
      "Trial 356 final loss: 0.00004222\n",
      "\n",
      "Trial 357: LR=0.009355, SigmaM=1.9584, InitM=0.120526\n"
     ]
    },
    {
     "name": "stderr",
     "output_type": "stream",
     "text": [
      "Training Progress: 100%|██████████| 500/500 [00:03<00:00, 127.96it/s, loss=0.000059, elapsed time=0.01, total time=3.92] \n",
      "[I 2025-05-23 09:58:30,033] Trial 357 finished with value: 5.944936665928876e-05 and parameters: {'learning_rate': 0.009354761051812197, 'sigma_multiplier': 1.9583949642728171, 'initialization_multiplier': 0.12052604027634967}. Best is trial 77 with value: -0.00011012576492267536.\n"
     ]
    },
    {
     "name": "stdout",
     "output_type": "stream",
     "text": [
      "Training has not converged after 500 steps\n",
      "Trial 357 final loss: 0.00005945\n",
      "\n",
      "Trial 358: LR=0.011679, SigmaM=1.9440, InitM=0.116099\n"
     ]
    },
    {
     "name": "stderr",
     "output_type": "stream",
     "text": [
      "Training Progress: 100%|██████████| 500/500 [00:03<00:00, 127.55it/s, loss=-0.000062, elapsed time=0.01, total time=3.93]\n",
      "[I 2025-05-23 09:58:33,971] Trial 358 finished with value: -6.177382430091979e-05 and parameters: {'learning_rate': 0.011679237117051723, 'sigma_multiplier': 1.9439943236252335, 'initialization_multiplier': 0.11609873441170128}. Best is trial 77 with value: -0.00011012576492267536.\n"
     ]
    },
    {
     "name": "stdout",
     "output_type": "stream",
     "text": [
      "Training has not converged after 500 steps\n",
      "Trial 358 final loss: -0.00006177\n",
      "\n",
      "Trial 359: LR=0.011651, SigmaM=1.9917, InitM=0.117021\n"
     ]
    },
    {
     "name": "stderr",
     "output_type": "stream",
     "text": [
      "Training Progress: 100%|██████████| 500/500 [00:03<00:00, 128.15it/s, loss=0.000228, elapsed time=0.01, total time=3.91] \n",
      "[I 2025-05-23 09:58:37,891] Trial 359 finished with value: 0.00022771345702165923 and parameters: {'learning_rate': 0.011650623916543576, 'sigma_multiplier': 1.9917117167721259, 'initialization_multiplier': 0.11702057905116665}. Best is trial 77 with value: -0.00011012576492267536.\n"
     ]
    },
    {
     "name": "stdout",
     "output_type": "stream",
     "text": [
      "Training has not converged after 500 steps\n",
      "Trial 359 final loss: 0.00022771\n",
      "\n",
      "Trial 360: LR=0.010161, SigmaM=1.9398, InitM=0.140512\n"
     ]
    },
    {
     "name": "stderr",
     "output_type": "stream",
     "text": [
      "Training Progress: 100%|██████████| 500/500 [00:03<00:00, 128.53it/s, loss=-0.000006, elapsed time=0.01, total time=3.9] \n",
      "[I 2025-05-23 09:58:41,801] Trial 360 finished with value: -5.512402126665431e-06 and parameters: {'learning_rate': 0.010161035924882642, 'sigma_multiplier': 1.9398000983301247, 'initialization_multiplier': 0.14051175497230314}. Best is trial 77 with value: -0.00011012576492267536.\n"
     ]
    },
    {
     "name": "stdout",
     "output_type": "stream",
     "text": [
      "Training has not converged after 500 steps\n",
      "Trial 360 final loss: -0.00000551\n",
      "\n",
      "Trial 361: LR=0.012530, SigmaM=1.6490, InitM=0.165933\n"
     ]
    },
    {
     "name": "stderr",
     "output_type": "stream",
     "text": [
      "Training Progress: 100%|██████████| 500/500 [00:03<00:00, 125.37it/s, loss=0.000035, elapsed time=0.01, total time=4]    \n",
      "[I 2025-05-23 09:58:45,807] Trial 361 finished with value: 3.536495202587271e-05 and parameters: {'learning_rate': 0.01252990189294755, 'sigma_multiplier': 1.6489854876779355, 'initialization_multiplier': 0.16593344894905782}. Best is trial 77 with value: -0.00011012576492267536.\n"
     ]
    },
    {
     "name": "stdout",
     "output_type": "stream",
     "text": [
      "Training has not converged after 500 steps\n",
      "Trial 361 final loss: 0.00003536\n",
      "\n",
      "Trial 362: LR=0.008778, SigmaM=1.9499, InitM=0.113478\n"
     ]
    },
    {
     "name": "stderr",
     "output_type": "stream",
     "text": [
      "Training Progress: 100%|██████████| 500/500 [00:03<00:00, 128.46it/s, loss=0.000053, elapsed time=0.01, total time=3.9]  \n",
      "[I 2025-05-23 09:58:49,718] Trial 362 finished with value: 5.334096546954778e-05 and parameters: {'learning_rate': 0.008777974450624544, 'sigma_multiplier': 1.9498508636125362, 'initialization_multiplier': 0.11347765107937352}. Best is trial 77 with value: -0.00011012576492267536.\n"
     ]
    },
    {
     "name": "stdout",
     "output_type": "stream",
     "text": [
      "Training has not converged after 500 steps\n",
      "Trial 362 final loss: 0.00005334\n",
      "\n",
      "Trial 363: LR=0.014755, SigmaM=1.6098, InitM=0.127546\n"
     ]
    },
    {
     "name": "stderr",
     "output_type": "stream",
     "text": [
      "Training Progress: 100%|██████████| 500/500 [00:04<00:00, 124.98it/s, loss=-0.000091, elapsed time=0.01, total time=4.01]\n",
      "[I 2025-05-23 09:58:53,738] Trial 363 finished with value: -9.051930076823136e-05 and parameters: {'learning_rate': 0.014755125369375618, 'sigma_multiplier': 1.6097617613116335, 'initialization_multiplier': 0.12754602274614452}. Best is trial 77 with value: -0.00011012576492267536.\n"
     ]
    },
    {
     "name": "stdout",
     "output_type": "stream",
     "text": [
      "Training has not converged after 500 steps\n",
      "Trial 363 final loss: -0.00009052\n",
      "\n",
      "Trial 364: LR=0.016315, SigmaM=1.5818, InitM=0.143415\n"
     ]
    },
    {
     "name": "stderr",
     "output_type": "stream",
     "text": [
      "Training Progress: 100%|██████████| 500/500 [00:04<00:00, 123.31it/s, loss=-0.000037, elapsed time=0.01, total time=4.06]\n",
      "[I 2025-05-23 09:58:57,812] Trial 364 finished with value: -3.7061727327893215e-05 and parameters: {'learning_rate': 0.016315365592769, 'sigma_multiplier': 1.5818466779693585, 'initialization_multiplier': 0.143414768506281}. Best is trial 77 with value: -0.00011012576492267536.\n"
     ]
    },
    {
     "name": "stdout",
     "output_type": "stream",
     "text": [
      "Training has not converged after 500 steps\n",
      "Trial 364 final loss: -0.00003706\n",
      "\n",
      "Trial 365: LR=0.014188, SigmaM=1.8812, InitM=0.120644\n"
     ]
    },
    {
     "name": "stderr",
     "output_type": "stream",
     "text": [
      "Training Progress: 100%|██████████| 500/500 [00:03<00:00, 126.58it/s, loss=0.000105, elapsed time=0.01, total time=3.96] \n",
      "[I 2025-05-23 09:59:01,782] Trial 365 finished with value: 0.00010541810297960148 and parameters: {'learning_rate': 0.014187665692690638, 'sigma_multiplier': 1.8811724313547964, 'initialization_multiplier': 0.12064411662485067}. Best is trial 77 with value: -0.00011012576492267536.\n"
     ]
    },
    {
     "name": "stdout",
     "output_type": "stream",
     "text": [
      "Training has not converged after 500 steps\n",
      "Trial 365 final loss: 0.00010542\n",
      "\n",
      "Trial 366: LR=0.011702, SigmaM=1.9946, InitM=0.131594\n"
     ]
    },
    {
     "name": "stderr",
     "output_type": "stream",
     "text": [
      "Training Progress: 100%|██████████| 500/500 [00:03<00:00, 128.69it/s, loss=-0.000003, elapsed time=0.01, total time=3.9] \n",
      "[I 2025-05-23 09:59:05,686] Trial 366 finished with value: -2.733667564101962e-06 and parameters: {'learning_rate': 0.011701543919088684, 'sigma_multiplier': 1.9945510117625491, 'initialization_multiplier': 0.1315941444862682}. Best is trial 77 with value: -0.00011012576492267536.\n"
     ]
    },
    {
     "name": "stdout",
     "output_type": "stream",
     "text": [
      "Training has not converged after 500 steps\n",
      "Trial 366 final loss: -0.00000273\n",
      "\n",
      "Trial 367: LR=0.016621, SigmaM=0.5362, InitM=0.101938\n"
     ]
    },
    {
     "name": "stderr",
     "output_type": "stream",
     "text": [
      "Training Progress: 100%|██████████| 500/500 [00:05<00:00, 94.50it/s, loss=0.001784, elapsed time=0.01, total time=5.3]  \n",
      "[I 2025-05-23 09:59:10,995] Trial 367 finished with value: 0.0017837160097054741 and parameters: {'learning_rate': 0.01662125660177799, 'sigma_multiplier': 0.5362042792077193, 'initialization_multiplier': 0.10193841262942008}. Best is trial 77 with value: -0.00011012576492267536.\n"
     ]
    },
    {
     "name": "stdout",
     "output_type": "stream",
     "text": [
      "Training has not converged after 500 steps\n",
      "Trial 367 final loss: 0.00178372\n",
      "\n",
      "Trial 368: LR=0.014574, SigmaM=1.6204, InitM=0.155856\n"
     ]
    },
    {
     "name": "stderr",
     "output_type": "stream",
     "text": [
      "Training Progress: 100%|██████████| 500/500 [00:04<00:00, 124.33it/s, loss=0.000233, elapsed time=0.01, total time=4.03] \n",
      "[I 2025-05-23 09:59:15,037] Trial 368 finished with value: 0.00023261303891130718 and parameters: {'learning_rate': 0.01457445819326437, 'sigma_multiplier': 1.6204074387337333, 'initialization_multiplier': 0.1558556931377039}. Best is trial 77 with value: -0.00011012576492267536.\n"
     ]
    },
    {
     "name": "stdout",
     "output_type": "stream",
     "text": [
      "Training has not converged after 500 steps\n",
      "Trial 368 final loss: 0.00023261\n",
      "\n",
      "Trial 369: LR=0.010439, SigmaM=1.5167, InitM=0.189888\n"
     ]
    },
    {
     "name": "stderr",
     "output_type": "stream",
     "text": [
      "Training Progress: 100%|██████████| 500/500 [00:04<00:00, 124.13it/s, loss=0.000029, elapsed time=0.01, total time=4.04] \n",
      "[I 2025-05-23 09:59:19,084] Trial 369 finished with value: 2.9263126088690044e-05 and parameters: {'learning_rate': 0.010438873378105019, 'sigma_multiplier': 1.5166669476385477, 'initialization_multiplier': 0.18988782868683524}. Best is trial 77 with value: -0.00011012576492267536.\n"
     ]
    },
    {
     "name": "stdout",
     "output_type": "stream",
     "text": [
      "Training has not converged after 500 steps\n",
      "Trial 369 final loss: 0.00002926\n",
      "\n",
      "Trial 370: LR=0.018343, SigmaM=1.9374, InitM=0.100857\n"
     ]
    },
    {
     "name": "stderr",
     "output_type": "stream",
     "text": [
      "Training Progress: 100%|██████████| 500/500 [00:03<00:00, 127.65it/s, loss=0.000011, elapsed time=0.01, total time=3.93] \n",
      "[I 2025-05-23 09:59:23,021] Trial 370 finished with value: 1.0936269030466302e-05 and parameters: {'learning_rate': 0.018342677635366025, 'sigma_multiplier': 1.9373763635999797, 'initialization_multiplier': 0.1008570579779376}. Best is trial 77 with value: -0.00011012576492267536.\n"
     ]
    },
    {
     "name": "stdout",
     "output_type": "stream",
     "text": [
      "Training has not converged after 500 steps\n",
      "Trial 370 final loss: 0.00001094\n",
      "\n",
      "Trial 371: LR=0.013374, SigmaM=1.7169, InitM=0.275500\n"
     ]
    },
    {
     "name": "stderr",
     "output_type": "stream",
     "text": [
      "Training Progress: 100%|██████████| 500/500 [00:03<00:00, 126.05it/s, loss=0.000039, elapsed time=0.01, total time=3.98] \n",
      "[I 2025-05-23 09:59:27,006] Trial 371 finished with value: 3.8669285193260445e-05 and parameters: {'learning_rate': 0.013374260290636847, 'sigma_multiplier': 1.7169019596820163, 'initialization_multiplier': 0.27549982616373764}. Best is trial 77 with value: -0.00011012576492267536.\n"
     ]
    },
    {
     "name": "stdout",
     "output_type": "stream",
     "text": [
      "Training has not converged after 500 steps\n",
      "Trial 371 final loss: 0.00003867\n",
      "\n",
      "Trial 372: LR=0.006320, SigmaM=1.8566, InitM=0.124198\n"
     ]
    },
    {
     "name": "stderr",
     "output_type": "stream",
     "text": [
      "Training Progress: 100%|██████████| 500/500 [00:03<00:00, 125.99it/s, loss=0.000221, elapsed time=0.01, total time=3.98] \n",
      "[I 2025-05-23 09:59:30,994] Trial 372 finished with value: 0.00022079831862366404 and parameters: {'learning_rate': 0.0063201472344588654, 'sigma_multiplier': 1.8566010576318805, 'initialization_multiplier': 0.12419798517283978}. Best is trial 77 with value: -0.00011012576492267536.\n"
     ]
    },
    {
     "name": "stdout",
     "output_type": "stream",
     "text": [
      "Training has not converged after 500 steps\n",
      "Trial 372 final loss: 0.00022080\n",
      "\n",
      "Trial 373: LR=0.008929, SigmaM=1.8937, InitM=0.104412\n"
     ]
    },
    {
     "name": "stderr",
     "output_type": "stream",
     "text": [
      "Training Progress: 100%|██████████| 500/500 [00:03<00:00, 127.99it/s, loss=-0.000105, elapsed time=0.01, total time=3.92]\n",
      "[I 2025-05-23 09:59:34,920] Trial 373 finished with value: -0.00010511638025390965 and parameters: {'learning_rate': 0.008929390980238943, 'sigma_multiplier': 1.8936576909336609, 'initialization_multiplier': 0.1044119527316891}. Best is trial 77 with value: -0.00011012576492267536.\n"
     ]
    },
    {
     "name": "stdout",
     "output_type": "stream",
     "text": [
      "Training has not converged after 500 steps\n",
      "Trial 373 final loss: -0.00010512\n",
      "\n",
      "Trial 374: LR=0.008220, SigmaM=1.8911, InitM=0.091974\n"
     ]
    },
    {
     "name": "stderr",
     "output_type": "stream",
     "text": [
      "Training Progress: 100%|██████████| 500/500 [00:03<00:00, 126.36it/s, loss=0.000212, elapsed time=0.01, total time=3.97] \n",
      "[I 2025-05-23 09:59:38,896] Trial 374 finished with value: 0.00021195889337682528 and parameters: {'learning_rate': 0.008220035349789663, 'sigma_multiplier': 1.8910563930598767, 'initialization_multiplier': 0.09197407252739806}. Best is trial 77 with value: -0.00011012576492267536.\n"
     ]
    },
    {
     "name": "stdout",
     "output_type": "stream",
     "text": [
      "Training has not converged after 500 steps\n",
      "Trial 374 final loss: 0.00021196\n",
      "\n",
      "Trial 375: LR=0.007268, SigmaM=1.8336, InitM=0.108778\n"
     ]
    },
    {
     "name": "stderr",
     "output_type": "stream",
     "text": [
      "Training Progress: 100%|██████████| 500/500 [00:03<00:00, 125.36it/s, loss=0.000015, elapsed time=0.01, total time=4]    \n",
      "[I 2025-05-23 09:59:42,905] Trial 375 finished with value: 1.477772293941659e-05 and parameters: {'learning_rate': 0.007267941531920048, 'sigma_multiplier': 1.833612760746981, 'initialization_multiplier': 0.10877770031303315}. Best is trial 77 with value: -0.00011012576492267536.\n"
     ]
    },
    {
     "name": "stdout",
     "output_type": "stream",
     "text": [
      "Training has not converged after 500 steps\n",
      "Trial 375 final loss: 0.00001478\n",
      "\n",
      "Trial 376: LR=0.009327, SigmaM=1.8849, InitM=0.096932\n"
     ]
    },
    {
     "name": "stderr",
     "output_type": "stream",
     "text": [
      "Training Progress: 100%|██████████| 500/500 [00:04<00:00, 124.66it/s, loss=0.000023, elapsed time=0.01, total time=4.02] \n",
      "[I 2025-05-23 09:59:46,938] Trial 376 finished with value: 2.3415474944922494e-05 and parameters: {'learning_rate': 0.009327481723823942, 'sigma_multiplier': 1.8848602359514217, 'initialization_multiplier': 0.09693224442945454}. Best is trial 77 with value: -0.00011012576492267536.\n"
     ]
    },
    {
     "name": "stdout",
     "output_type": "stream",
     "text": [
      "Training has not converged after 500 steps\n",
      "Trial 376 final loss: 0.00002342\n",
      "\n",
      "Trial 377: LR=0.008657, SigmaM=1.5600, InitM=0.077046\n"
     ]
    },
    {
     "name": "stderr",
     "output_type": "stream",
     "text": [
      "Training Progress: 100%|██████████| 500/500 [00:04<00:00, 123.07it/s, loss=0.000035, elapsed time=0.01, total time=4.08] \n",
      "[I 2025-05-23 09:59:51,024] Trial 377 finished with value: 3.534623843989322e-05 and parameters: {'learning_rate': 0.00865660759420994, 'sigma_multiplier': 1.5599829694732303, 'initialization_multiplier': 0.07704565983719447}. Best is trial 77 with value: -0.00011012576492267536.\n"
     ]
    },
    {
     "name": "stdout",
     "output_type": "stream",
     "text": [
      "Training has not converged after 500 steps\n",
      "Trial 377 final loss: 0.00003535\n",
      "\n",
      "Trial 378: LR=0.000089, SigmaM=1.7678, InitM=0.111646\n"
     ]
    },
    {
     "name": "stderr",
     "output_type": "stream",
     "text": [
      "Training Progress: 100%|██████████| 500/500 [00:03<00:00, 135.14it/s, loss=0.079674, elapsed time=0.01, total time=3.71]\n",
      "[I 2025-05-23 09:59:54,743] Trial 378 finished with value: 0.07967405313102177 and parameters: {'learning_rate': 8.936982392679093e-05, 'sigma_multiplier': 1.7677663659731808, 'initialization_multiplier': 0.11164615484490731}. Best is trial 77 with value: -0.00011012576492267536.\n"
     ]
    },
    {
     "name": "stdout",
     "output_type": "stream",
     "text": [
      "Training has not converged after 500 steps\n",
      "Trial 378 final loss: 0.07967405\n",
      "\n",
      "Trial 379: LR=0.011034, SigmaM=1.6856, InitM=0.647876\n"
     ]
    },
    {
     "name": "stderr",
     "output_type": "stream",
     "text": [
      "Training Progress: 100%|██████████| 500/500 [00:04<00:00, 123.79it/s, loss=0.000002, elapsed time=0.01, total time=4.05] \n",
      "[I 2025-05-23 09:59:58,802] Trial 379 finished with value: 1.782887297113965e-06 and parameters: {'learning_rate': 0.011034121580298022, 'sigma_multiplier': 1.6856461838166203, 'initialization_multiplier': 0.6478763020012829}. Best is trial 77 with value: -0.00011012576492267536.\n"
     ]
    },
    {
     "name": "stdout",
     "output_type": "stream",
     "text": [
      "Training has not converged after 500 steps\n",
      "Trial 379 final loss: 0.00000178\n",
      "\n",
      "Trial 380: LR=0.023109, SigmaM=1.8400, InitM=0.097877\n"
     ]
    },
    {
     "name": "stderr",
     "output_type": "stream",
     "text": [
      "Training Progress: 100%|██████████| 500/500 [00:03<00:00, 125.55it/s, loss=0.000006, elapsed time=0.01, total time=3.99] \n",
      "[I 2025-05-23 10:00:02,803] Trial 380 finished with value: 5.969592603575805e-06 and parameters: {'learning_rate': 0.02310865811606838, 'sigma_multiplier': 1.840043898081377, 'initialization_multiplier': 0.09787722212197388}. Best is trial 77 with value: -0.00011012576492267536.\n"
     ]
    },
    {
     "name": "stdout",
     "output_type": "stream",
     "text": [
      "Training has not converged after 500 steps\n",
      "Trial 380 final loss: 0.00000597\n",
      "\n",
      "Trial 381: LR=0.004844, SigmaM=1.9177, InitM=0.151692\n"
     ]
    },
    {
     "name": "stderr",
     "output_type": "stream",
     "text": [
      "Training Progress: 100%|██████████| 500/500 [00:03<00:00, 126.67it/s, loss=0.000100, elapsed time=0.01, total time=3.96] \n",
      "[I 2025-05-23 10:00:06,769] Trial 381 finished with value: 0.00010001551780556143 and parameters: {'learning_rate': 0.004843643814987959, 'sigma_multiplier': 1.9176779415917813, 'initialization_multiplier': 0.15169154625128792}. Best is trial 77 with value: -0.00011012576492267536.\n"
     ]
    },
    {
     "name": "stdout",
     "output_type": "stream",
     "text": [
      "Training has not converged after 500 steps\n",
      "Trial 381 final loss: 0.00010002\n",
      "\n",
      "Trial 382: LR=0.007310, SigmaM=1.6106, InitM=0.071134\n"
     ]
    },
    {
     "name": "stderr",
     "output_type": "stream",
     "text": [
      "Training Progress: 100%|██████████| 500/500 [00:04<00:00, 122.98it/s, loss=-0.000003, elapsed time=0.01, total time=4.08]\n",
      "[I 2025-05-23 10:00:10,854] Trial 382 finished with value: -2.9700650883013817e-06 and parameters: {'learning_rate': 0.007310111658455945, 'sigma_multiplier': 1.610615428297226, 'initialization_multiplier': 0.07113441330751762}. Best is trial 77 with value: -0.00011012576492267536.\n"
     ]
    },
    {
     "name": "stdout",
     "output_type": "stream",
     "text": [
      "Training has not converged after 500 steps\n",
      "Trial 382 final loss: -0.00000297\n",
      "\n",
      "Trial 383: LR=0.011591, SigmaM=1.7182, InitM=0.086981\n"
     ]
    },
    {
     "name": "stderr",
     "output_type": "stream",
     "text": [
      "Training Progress: 100%|██████████| 500/500 [00:04<00:00, 124.89it/s, loss=0.000170, elapsed time=0.01, total time=4.01] \n",
      "[I 2025-05-23 10:00:14,877] Trial 383 finished with value: 0.00016971148003765206 and parameters: {'learning_rate': 0.011591470701894278, 'sigma_multiplier': 1.7182483679907585, 'initialization_multiplier': 0.08698053617756475}. Best is trial 77 with value: -0.00011012576492267536.\n"
     ]
    },
    {
     "name": "stdout",
     "output_type": "stream",
     "text": [
      "Training has not converged after 500 steps\n",
      "Trial 383 final loss: 0.00016971\n",
      "\n",
      "Trial 384: LR=0.009597, SigmaM=1.8171, InitM=0.130435\n"
     ]
    },
    {
     "name": "stderr",
     "output_type": "stream",
     "text": [
      "Training Progress: 100%|██████████| 500/500 [00:03<00:00, 126.31it/s, loss=-0.000012, elapsed time=0.01, total time=3.97]\n",
      "[I 2025-05-23 10:00:18,855] Trial 384 finished with value: -1.2199079474149697e-05 and parameters: {'learning_rate': 0.009596672983503, 'sigma_multiplier': 1.8170925542934826, 'initialization_multiplier': 0.13043473278847784}. Best is trial 77 with value: -0.00011012576492267536.\n"
     ]
    },
    {
     "name": "stdout",
     "output_type": "stream",
     "text": [
      "Training has not converged after 500 steps\n",
      "Trial 384 final loss: -0.00001220\n",
      "\n",
      "Trial 385: LR=0.017094, SigmaM=1.8681, InitM=0.111218\n"
     ]
    },
    {
     "name": "stderr",
     "output_type": "stream",
     "text": [
      "Training Progress: 100%|██████████| 500/500 [00:03<00:00, 126.66it/s, loss=-0.000029, elapsed time=0.01, total time=3.96]\n",
      "[I 2025-05-23 10:00:22,822] Trial 385 finished with value: -2.9180909029952517e-05 and parameters: {'learning_rate': 0.017093760230185242, 'sigma_multiplier': 1.8680977637513587, 'initialization_multiplier': 0.1112181407842503}. Best is trial 77 with value: -0.00011012576492267536.\n"
     ]
    },
    {
     "name": "stdout",
     "output_type": "stream",
     "text": [
      "Training has not converged after 500 steps\n",
      "Trial 385 final loss: -0.00002918\n",
      "\n",
      "Trial 386: LR=0.020764, SigmaM=1.7728, InitM=0.173205\n"
     ]
    },
    {
     "name": "stderr",
     "output_type": "stream",
     "text": [
      "Training Progress: 100%|██████████| 500/500 [00:03<00:00, 126.34it/s, loss=0.000047, elapsed time=0.01, total time=3.97] \n",
      "[I 2025-05-23 10:00:26,798] Trial 386 finished with value: 4.6982067979158874e-05 and parameters: {'learning_rate': 0.02076351483445688, 'sigma_multiplier': 1.7728466635973588, 'initialization_multiplier': 0.17320503348579186}. Best is trial 77 with value: -0.00011012576492267536.\n"
     ]
    },
    {
     "name": "stdout",
     "output_type": "stream",
     "text": [
      "Training has not converged after 500 steps\n",
      "Trial 386 final loss: 0.00004698\n",
      "\n",
      "Trial 387: LR=0.006069, SigmaM=1.9199, InitM=0.079062\n"
     ]
    },
    {
     "name": "stderr",
     "output_type": "stream",
     "text": [
      "Training Progress: 100%|██████████| 500/500 [00:03<00:00, 126.64it/s, loss=0.000051, elapsed time=0.01, total time=3.96] \n",
      "[I 2025-05-23 10:00:30,765] Trial 387 finished with value: 5.108503594006409e-05 and parameters: {'learning_rate': 0.006069186732813437, 'sigma_multiplier': 1.919881811911567, 'initialization_multiplier': 0.07906225458648133}. Best is trial 77 with value: -0.00011012576492267536.\n"
     ]
    },
    {
     "name": "stdout",
     "output_type": "stream",
     "text": [
      "Training has not converged after 500 steps\n",
      "Trial 387 final loss: 0.00005109\n",
      "\n",
      "Trial 388: LR=0.012412, SigmaM=1.6606, InitM=0.225342\n"
     ]
    },
    {
     "name": "stderr",
     "output_type": "stream",
     "text": [
      "Training Progress: 100%|██████████| 500/500 [00:04<00:00, 124.11it/s, loss=0.000084, elapsed time=0.01, total time=4.04] \n",
      "[I 2025-05-23 10:00:34,814] Trial 388 finished with value: 8.421059103532074e-05 and parameters: {'learning_rate': 0.01241217210512624, 'sigma_multiplier': 1.660606670959111, 'initialization_multiplier': 0.22534248338814813}. Best is trial 77 with value: -0.00011012576492267536.\n"
     ]
    },
    {
     "name": "stdout",
     "output_type": "stream",
     "text": [
      "Training has not converged after 500 steps\n",
      "Trial 388 final loss: 0.00008421\n",
      "\n",
      "Trial 389: LR=0.016139, SigmaM=0.8862, InitM=0.091966\n"
     ]
    },
    {
     "name": "stderr",
     "output_type": "stream",
     "text": [
      "Training Progress: 100%|██████████| 500/500 [00:05<00:00, 95.79it/s, loss=0.000577, elapsed time=0.01, total time=5.23] \n",
      "[I 2025-05-23 10:00:40,054] Trial 389 finished with value: 0.0005771999170921064 and parameters: {'learning_rate': 0.0161390804148944, 'sigma_multiplier': 0.8862402658269988, 'initialization_multiplier': 0.0919660590257715}. Best is trial 77 with value: -0.00011012576492267536.\n"
     ]
    },
    {
     "name": "stdout",
     "output_type": "stream",
     "text": [
      "Training has not converged after 500 steps\n",
      "Trial 389 final loss: 0.00057720\n",
      "\n",
      "Trial 390: LR=0.010112, SigmaM=1.7396, InitM=0.069011\n"
     ]
    },
    {
     "name": "stderr",
     "output_type": "stream",
     "text": [
      "Training Progress: 100%|██████████| 500/500 [00:04<00:00, 121.42it/s, loss=-0.000028, elapsed time=0.01, total time=4.13]\n",
      "[I 2025-05-23 10:00:44,194] Trial 390 finished with value: -2.839890127113487e-05 and parameters: {'learning_rate': 0.010112476454697877, 'sigma_multiplier': 1.739642668951652, 'initialization_multiplier': 0.06901089131119205}. Best is trial 77 with value: -0.00011012576492267536.\n"
     ]
    },
    {
     "name": "stdout",
     "output_type": "stream",
     "text": [
      "Training has not converged after 500 steps\n",
      "Trial 390 final loss: -0.00002840\n",
      "\n",
      "Trial 391: LR=0.018394, SigmaM=1.8023, InitM=0.144104\n"
     ]
    },
    {
     "name": "stderr",
     "output_type": "stream",
     "text": [
      "Training Progress: 100%|██████████| 500/500 [00:03<00:00, 125.38it/s, loss=0.000157, elapsed time=0.01, total time=4]    \n",
      "[I 2025-05-23 10:00:48,206] Trial 391 finished with value: 0.0001567232594895199 and parameters: {'learning_rate': 0.01839400137760364, 'sigma_multiplier': 1.8023089190450017, 'initialization_multiplier': 0.14410395130112888}. Best is trial 77 with value: -0.00011012576492267536.\n"
     ]
    },
    {
     "name": "stdout",
     "output_type": "stream",
     "text": [
      "Training has not converged after 500 steps\n",
      "Trial 391 final loss: 0.00015672\n",
      "\n",
      "Trial 392: LR=0.008089, SigmaM=1.7041, InitM=0.106153\n"
     ]
    },
    {
     "name": "stderr",
     "output_type": "stream",
     "text": [
      "Training Progress: 100%|██████████| 500/500 [00:04<00:00, 124.05it/s, loss=0.000019, elapsed time=0.01, total time=4.04] \n",
      "[I 2025-05-23 10:00:52,256] Trial 392 finished with value: 1.9482751496520887e-05 and parameters: {'learning_rate': 0.00808908138899214, 'sigma_multiplier': 1.704078845576407, 'initialization_multiplier': 0.10615260158725168}. Best is trial 77 with value: -0.00011012576492267536.\n"
     ]
    },
    {
     "name": "stdout",
     "output_type": "stream",
     "text": [
      "Training has not converged after 500 steps\n",
      "Trial 392 final loss: 0.00001948\n",
      "\n",
      "Trial 393: LR=0.012973, SigmaM=1.8491, InitM=0.080919\n"
     ]
    },
    {
     "name": "stderr",
     "output_type": "stream",
     "text": [
      "Training Progress: 100%|██████████| 500/500 [00:03<00:00, 126.13it/s, loss=0.000124, elapsed time=0.01, total time=3.97] \n",
      "[I 2025-05-23 10:00:56,239] Trial 393 finished with value: 0.00012402226909272786 and parameters: {'learning_rate': 0.012972759811033746, 'sigma_multiplier': 1.8491244402247946, 'initialization_multiplier': 0.08091864540114048}. Best is trial 77 with value: -0.00011012576492267536.\n"
     ]
    },
    {
     "name": "stdout",
     "output_type": "stream",
     "text": [
      "Training has not converged after 500 steps\n",
      "Trial 393 final loss: 0.00012402\n",
      "\n",
      "Trial 394: LR=0.022811, SigmaM=1.9296, InitM=0.384520\n"
     ]
    },
    {
     "name": "stderr",
     "output_type": "stream",
     "text": [
      "Training Progress: 100%|██████████| 500/500 [00:03<00:00, 125.18it/s, loss=0.000022, elapsed time=0.01, total time=4]    \n",
      "[I 2025-05-23 10:01:00,253] Trial 394 finished with value: 2.2056639416666865e-05 and parameters: {'learning_rate': 0.022810952790848077, 'sigma_multiplier': 1.929623133142242, 'initialization_multiplier': 0.38452025696765374}. Best is trial 77 with value: -0.00011012576492267536.\n"
     ]
    },
    {
     "name": "stdout",
     "output_type": "stream",
     "text": [
      "Training has not converged after 500 steps\n",
      "Trial 394 final loss: 0.00002206\n",
      "\n",
      "Trial 395: LR=0.014939, SigmaM=1.8815, InitM=0.063625\n"
     ]
    },
    {
     "name": "stderr",
     "output_type": "stream",
     "text": [
      "Training Progress: 100%|██████████| 500/500 [00:03<00:00, 127.34it/s, loss=0.000100, elapsed time=0.01, total time=3.94] \n",
      "[I 2025-05-23 10:01:04,204] Trial 395 finished with value: 9.963158005173673e-05 and parameters: {'learning_rate': 0.014939027888170944, 'sigma_multiplier': 1.8815271121347512, 'initialization_multiplier': 0.06362461991438584}. Best is trial 77 with value: -0.00011012576492267536.\n"
     ]
    },
    {
     "name": "stdout",
     "output_type": "stream",
     "text": [
      "Training has not converged after 500 steps\n",
      "Trial 395 final loss: 0.00009963\n",
      "\n",
      "Trial 396: LR=0.010337, SigmaM=1.7924, InitM=0.095476\n"
     ]
    },
    {
     "name": "stderr",
     "output_type": "stream",
     "text": [
      "Training Progress: 100%|██████████| 500/500 [00:03<00:00, 126.09it/s, loss=-0.000065, elapsed time=0.01, total time=3.98]\n",
      "[I 2025-05-23 10:01:08,190] Trial 396 finished with value: -6.4854752454887e-05 and parameters: {'learning_rate': 0.010337228274917015, 'sigma_multiplier': 1.7924127151225928, 'initialization_multiplier': 0.09547563094737659}. Best is trial 77 with value: -0.00011012576492267536.\n"
     ]
    },
    {
     "name": "stdout",
     "output_type": "stream",
     "text": [
      "Training has not converged after 500 steps\n",
      "Trial 396 final loss: -0.00006485\n",
      "\n",
      "Trial 397: LR=0.010597, SigmaM=1.8148, InitM=0.092424\n"
     ]
    },
    {
     "name": "stderr",
     "output_type": "stream",
     "text": [
      "Training Progress: 100%|██████████| 500/500 [00:04<00:00, 111.81it/s, loss=0.000019, elapsed time=0.01, total time=4.48] \n",
      "[I 2025-05-23 10:01:12,682] Trial 397 finished with value: 1.928228510928547e-05 and parameters: {'learning_rate': 0.010596662729439044, 'sigma_multiplier': 1.814796744065283, 'initialization_multiplier': 0.09242373925110706}. Best is trial 77 with value: -0.00011012576492267536.\n"
     ]
    },
    {
     "name": "stdout",
     "output_type": "stream",
     "text": [
      "Training has not converged after 500 steps\n",
      "Trial 397 final loss: 0.00001928\n",
      "\n",
      "Trial 398: LR=0.009038, SigmaM=1.9016, InitM=0.003028\n"
     ]
    },
    {
     "name": "stderr",
     "output_type": "stream",
     "text": [
      "Training Progress: 100%|██████████| 500/500 [00:04<00:00, 114.30it/s, loss=0.000038, elapsed time=0.01, total time=4.39] \n",
      "[I 2025-05-23 10:01:17,077] Trial 398 finished with value: 3.791953225863391e-05 and parameters: {'learning_rate': 0.009037553822445388, 'sigma_multiplier': 1.90159459933397, 'initialization_multiplier': 0.003027789490284377}. Best is trial 77 with value: -0.00011012576492267536.\n"
     ]
    },
    {
     "name": "stdout",
     "output_type": "stream",
     "text": [
      "Training has not converged after 500 steps\n",
      "Trial 398 final loss: 0.00003792\n",
      "\n",
      "Trial 399: LR=0.011809, SigmaM=1.6012, InitM=0.077381\n"
     ]
    },
    {
     "name": "stderr",
     "output_type": "stream",
     "text": [
      "Training Progress: 100%|██████████| 500/500 [00:04<00:00, 121.53it/s, loss=0.000095, elapsed time=0.01, total time=4.13] \n",
      "[I 2025-05-23 10:01:21,212] Trial 399 finished with value: 9.543946401171694e-05 and parameters: {'learning_rate': 0.011808955661429818, 'sigma_multiplier': 1.6012470144034667, 'initialization_multiplier': 0.0773812492672675}. Best is trial 77 with value: -0.00011012576492267536.\n"
     ]
    },
    {
     "name": "stdout",
     "output_type": "stream",
     "text": [
      "Training has not converged after 500 steps\n",
      "Trial 399 final loss: 0.00009544\n",
      "\n",
      "Trial 400: LR=0.006920, SigmaM=1.9560, InitM=0.096274\n"
     ]
    },
    {
     "name": "stderr",
     "output_type": "stream",
     "text": [
      "Training Progress: 100%|██████████| 500/500 [00:04<00:00, 123.22it/s, loss=-0.000027, elapsed time=0.01, total time=4.07]\n",
      "[I 2025-05-23 10:01:25,292] Trial 400 finished with value: -2.6668961071718075e-05 and parameters: {'learning_rate': 0.006920160895044909, 'sigma_multiplier': 1.9560146756023096, 'initialization_multiplier': 0.09627358897782974}. Best is trial 77 with value: -0.00011012576492267536.\n"
     ]
    },
    {
     "name": "stdout",
     "output_type": "stream",
     "text": [
      "Training has not converged after 500 steps\n",
      "Trial 400 final loss: -0.00002667\n",
      "\n",
      "Trial 401: LR=0.009228, SigmaM=1.6655, InitM=0.109759\n"
     ]
    },
    {
     "name": "stderr",
     "output_type": "stream",
     "text": [
      "Training Progress: 100%|██████████| 500/500 [00:04<00:00, 119.95it/s, loss=-0.000054, elapsed time=0.01, total time=4.18]\n",
      "[I 2025-05-23 10:01:29,483] Trial 401 finished with value: -5.4351877430507234e-05 and parameters: {'learning_rate': 0.009227710758180494, 'sigma_multiplier': 1.6654722116644363, 'initialization_multiplier': 0.109758658668854}. Best is trial 77 with value: -0.00011012576492267536.\n"
     ]
    },
    {
     "name": "stdout",
     "output_type": "stream",
     "text": [
      "Training has not converged after 500 steps\n",
      "Trial 401 final loss: -0.00005435\n",
      "\n",
      "Trial 402: LR=0.013147, SigmaM=1.7390, InitM=0.085873\n"
     ]
    },
    {
     "name": "stderr",
     "output_type": "stream",
     "text": [
      "Training Progress: 100%|██████████| 500/500 [00:04<00:00, 120.47it/s, loss=-0.000017, elapsed time=0.01, total time=4.16]\n",
      "[I 2025-05-23 10:01:33,655] Trial 402 finished with value: -1.6790131353114085e-05 and parameters: {'learning_rate': 0.013146668112660482, 'sigma_multiplier': 1.7390219402151867, 'initialization_multiplier': 0.08587321268725308}. Best is trial 77 with value: -0.00011012576492267536.\n"
     ]
    },
    {
     "name": "stdout",
     "output_type": "stream",
     "text": [
      "Training has not converged after 500 steps\n",
      "Trial 402 final loss: -0.00001679\n",
      "\n",
      "Trial 403: LR=0.011129, SigmaM=1.8535, InitM=0.069668\n"
     ]
    },
    {
     "name": "stderr",
     "output_type": "stream",
     "text": [
      "Training Progress: 100%|██████████| 500/500 [00:04<00:00, 122.60it/s, loss=0.000015, elapsed time=0.01, total time=4.09] \n",
      "[I 2025-05-23 10:01:37,755] Trial 403 finished with value: 1.4681174333426457e-05 and parameters: {'learning_rate': 0.011129333273770175, 'sigma_multiplier': 1.8535212413901745, 'initialization_multiplier': 0.06966789013190809}. Best is trial 77 with value: -0.00011012576492267536.\n"
     ]
    },
    {
     "name": "stdout",
     "output_type": "stream",
     "text": [
      "Training has not converged after 500 steps\n",
      "Trial 403 final loss: 0.00001468\n",
      "\n",
      "Trial 404: LR=0.015061, SigmaM=1.0543, InitM=0.101085\n"
     ]
    },
    {
     "name": "stderr",
     "output_type": "stream",
     "text": [
      "Training Progress: 100%|██████████| 500/500 [00:04<00:00, 111.76it/s, loss=0.000279, elapsed time=0.01, total time=4.48] \n",
      "[I 2025-05-23 10:01:42,248] Trial 404 finished with value: 0.0002786439849916193 and parameters: {'learning_rate': 0.015061195253860595, 'sigma_multiplier': 1.05425965124379, 'initialization_multiplier': 0.10108525880541068}. Best is trial 77 with value: -0.00011012576492267536.\n"
     ]
    },
    {
     "name": "stdout",
     "output_type": "stream",
     "text": [
      "Training has not converged after 500 steps\n",
      "Trial 404 final loss: 0.00027864\n",
      "\n",
      "Trial 405: LR=0.012506, SigmaM=1.7927, InitM=0.078180\n"
     ]
    },
    {
     "name": "stderr",
     "output_type": "stream",
     "text": [
      "Training Progress: 100%|██████████| 500/500 [00:04<00:00, 122.37it/s, loss=0.000014, elapsed time=0.01, total time=4.1]  \n",
      "[I 2025-05-23 10:01:46,354] Trial 405 finished with value: 1.3583190888972642e-05 and parameters: {'learning_rate': 0.012505634238961087, 'sigma_multiplier': 1.7927007395963699, 'initialization_multiplier': 0.07817961113779093}. Best is trial 77 with value: -0.00011012576492267536.\n"
     ]
    },
    {
     "name": "stdout",
     "output_type": "stream",
     "text": [
      "Training has not converged after 500 steps\n",
      "Trial 405 final loss: 0.00001358\n",
      "\n",
      "Trial 406: LR=0.007714, SigmaM=1.9090, InitM=0.118240\n"
     ]
    },
    {
     "name": "stderr",
     "output_type": "stream",
     "text": [
      "Training Progress: 100%|██████████| 500/500 [00:04<00:00, 116.77it/s, loss=0.000066, elapsed time=0.01, total time=4.29] \n",
      "[I 2025-05-23 10:01:50,656] Trial 406 finished with value: 6.62982283848715e-05 and parameters: {'learning_rate': 0.00771419104987096, 'sigma_multiplier': 1.9090403430217608, 'initialization_multiplier': 0.11823950357641164}. Best is trial 77 with value: -0.00011012576492267536.\n"
     ]
    },
    {
     "name": "stdout",
     "output_type": "stream",
     "text": [
      "Training has not converged after 500 steps\n",
      "Trial 406 final loss: 0.00006630\n",
      "\n",
      "Trial 407: LR=0.005200, SigmaM=1.7020, InitM=0.062415\n"
     ]
    },
    {
     "name": "stderr",
     "output_type": "stream",
     "text": [
      "Training Progress: 100%|██████████| 500/500 [00:04<00:00, 121.53it/s, loss=-0.000009, elapsed time=0.01, total time=4.13]\n",
      "[I 2025-05-23 10:01:54,792] Trial 407 finished with value: -9.017683797016304e-06 and parameters: {'learning_rate': 0.00520033927853841, 'sigma_multiplier': 1.7019726123520678, 'initialization_multiplier': 0.06241543930875204}. Best is trial 77 with value: -0.00011012576492267536.\n"
     ]
    },
    {
     "name": "stdout",
     "output_type": "stream",
     "text": [
      "Training has not converged after 500 steps\n",
      "Trial 407 final loss: -0.00000902\n",
      "\n",
      "Trial 408: LR=0.009829, SigmaM=1.9950, InitM=0.089356\n"
     ]
    },
    {
     "name": "stderr",
     "output_type": "stream",
     "text": [
      "Training Progress: 100%|██████████| 500/500 [00:04<00:00, 123.35it/s, loss=0.000121, elapsed time=0.01, total time=4.06] \n",
      "[I 2025-05-23 10:01:58,866] Trial 408 finished with value: 0.00012147131912345629 and parameters: {'learning_rate': 0.009829032663212093, 'sigma_multiplier': 1.995012926869665, 'initialization_multiplier': 0.08935603460359655}. Best is trial 77 with value: -0.00011012576492267536.\n"
     ]
    },
    {
     "name": "stdout",
     "output_type": "stream",
     "text": [
      "Training has not converged after 500 steps\n",
      "Trial 408 final loss: 0.00012147\n",
      "\n",
      "Trial 409: LR=0.016016, SigmaM=1.7641, InitM=0.072994\n"
     ]
    },
    {
     "name": "stderr",
     "output_type": "stream",
     "text": [
      "Training Progress: 100%|██████████| 500/500 [00:04<00:00, 118.33it/s, loss=0.000067, elapsed time=0.01, total time=4.24] \n",
      "[I 2025-05-23 10:02:03,112] Trial 409 finished with value: 6.689915894341449e-05 and parameters: {'learning_rate': 0.016015988091911473, 'sigma_multiplier': 1.7641106313680541, 'initialization_multiplier': 0.07299375267838118}. Best is trial 77 with value: -0.00011012576492267536.\n"
     ]
    },
    {
     "name": "stdout",
     "output_type": "stream",
     "text": [
      "Training has not converged after 500 steps\n",
      "Trial 409 final loss: 0.00006690\n",
      "\n",
      "Trial 410: LR=0.018761, SigmaM=1.6278, InitM=0.453994\n"
     ]
    },
    {
     "name": "stderr",
     "output_type": "stream",
     "text": [
      "Training Progress: 100%|██████████| 500/500 [00:04<00:00, 117.41it/s, loss=0.000067, elapsed time=0.01, total time=4.27] \n",
      "[I 2025-05-23 10:02:07,391] Trial 410 finished with value: 6.727480968422263e-05 and parameters: {'learning_rate': 0.018761253619235186, 'sigma_multiplier': 1.627841275692509, 'initialization_multiplier': 0.45399438794762637}. Best is trial 77 with value: -0.00011012576492267536.\n"
     ]
    },
    {
     "name": "stdout",
     "output_type": "stream",
     "text": [
      "Training has not converged after 500 steps\n",
      "Trial 410 final loss: 0.00006727\n",
      "\n",
      "Trial 411: LR=0.013636, SigmaM=1.8765, InitM=0.098321\n"
     ]
    },
    {
     "name": "stderr",
     "output_type": "stream",
     "text": [
      "Training Progress: 100%|██████████| 500/500 [00:04<00:00, 120.64it/s, loss=0.000008, elapsed time=0.01, total time=4.15] \n",
      "[I 2025-05-23 10:02:11,559] Trial 411 finished with value: 7.942205418433278e-06 and parameters: {'learning_rate': 0.01363592697972093, 'sigma_multiplier': 1.876511807749293, 'initialization_multiplier': 0.09832104380725766}. Best is trial 77 with value: -0.00011012576492267536.\n"
     ]
    },
    {
     "name": "stdout",
     "output_type": "stream",
     "text": [
      "Training has not converged after 500 steps\n",
      "Trial 411 final loss: 0.00000794\n",
      "\n",
      "Trial 412: LR=0.011140, SigmaM=1.9544, InitM=0.126055\n"
     ]
    },
    {
     "name": "stderr",
     "output_type": "stream",
     "text": [
      "Training Progress: 100%|██████████| 500/500 [00:04<00:00, 124.41it/s, loss=0.000027, elapsed time=0.01, total time=4.03] \n",
      "[I 2025-05-23 10:02:15,601] Trial 412 finished with value: 2.7286235476798887e-05 and parameters: {'learning_rate': 0.011139500823520106, 'sigma_multiplier': 1.9543533220574725, 'initialization_multiplier': 0.1260545859666759}. Best is trial 77 with value: -0.00011012576492267536.\n"
     ]
    },
    {
     "name": "stdout",
     "output_type": "stream",
     "text": [
      "Training has not converged after 500 steps\n",
      "Trial 412 final loss: 0.00002729\n",
      "\n",
      "Trial 413: LR=0.016071, SigmaM=1.8230, InitM=0.086650\n"
     ]
    },
    {
     "name": "stderr",
     "output_type": "stream",
     "text": [
      "Training Progress: 100%|██████████| 500/500 [00:04<00:00, 116.00it/s, loss=0.000019, elapsed time=0.01, total time=4.32] \n",
      "[I 2025-05-23 10:02:19,931] Trial 413 finished with value: 1.8860470909078197e-05 and parameters: {'learning_rate': 0.016071006910786972, 'sigma_multiplier': 1.8230003726366337, 'initialization_multiplier': 0.0866495750003943}. Best is trial 77 with value: -0.00011012576492267536.\n"
     ]
    },
    {
     "name": "stdout",
     "output_type": "stream",
     "text": [
      "Training has not converged after 500 steps\n",
      "Trial 413 final loss: 0.00001886\n",
      "\n",
      "Trial 414: LR=0.003536, SigmaM=1.7364, InitM=0.065573\n"
     ]
    },
    {
     "name": "stderr",
     "output_type": "stream",
     "text": [
      "Training Progress: 100%|██████████| 500/500 [00:04<00:00, 117.70it/s, loss=-0.000023, elapsed time=0.01, total time=4.26]\n",
      "[I 2025-05-23 10:02:24,208] Trial 414 finished with value: -2.3381098538654923e-05 and parameters: {'learning_rate': 0.0035357647541566666, 'sigma_multiplier': 1.7364425600507587, 'initialization_multiplier': 0.06557335901752787}. Best is trial 77 with value: -0.00011012576492267536.\n"
     ]
    },
    {
     "name": "stdout",
     "output_type": "stream",
     "text": [
      "Training has not converged after 500 steps\n",
      "Trial 414 final loss: -0.00002338\n",
      "\n",
      "Trial 415: LR=0.007971, SigmaM=1.9208, InitM=0.108830\n"
     ]
    },
    {
     "name": "stderr",
     "output_type": "stream",
     "text": [
      "Training Progress: 100%|██████████| 500/500 [00:04<00:00, 122.06it/s, loss=0.000110, elapsed time=0.01, total time=4.11] \n",
      "[I 2025-05-23 10:02:28,326] Trial 415 finished with value: 0.00011033216369773745 and parameters: {'learning_rate': 0.007970817132878496, 'sigma_multiplier': 1.9208152581655726, 'initialization_multiplier': 0.10883038019152923}. Best is trial 77 with value: -0.00011012576492267536.\n"
     ]
    },
    {
     "name": "stdout",
     "output_type": "stream",
     "text": [
      "Training has not converged after 500 steps\n",
      "Trial 415 final loss: 0.00011033\n",
      "\n",
      "Trial 416: LR=0.010588, SigmaM=1.4889, InitM=0.079248\n"
     ]
    },
    {
     "name": "stderr",
     "output_type": "stream",
     "text": [
      "Training Progress: 100%|██████████| 500/500 [00:04<00:00, 117.47it/s, loss=0.000005, elapsed time=0.01, total time=4.27] \n",
      "[I 2025-05-23 10:02:32,603] Trial 416 finished with value: 4.656572203770365e-06 and parameters: {'learning_rate': 0.010587649356955836, 'sigma_multiplier': 1.4889220383350743, 'initialization_multiplier': 0.07924827999680752}. Best is trial 77 with value: -0.00011012576492267536.\n"
     ]
    },
    {
     "name": "stdout",
     "output_type": "stream",
     "text": [
      "Training has not converged after 500 steps\n",
      "Trial 416 final loss: 0.00000466\n",
      "\n",
      "Trial 417: LR=0.001010, SigmaM=1.6705, InitM=0.127274\n"
     ]
    },
    {
     "name": "stderr",
     "output_type": "stream",
     "text": [
      "Training Progress: 100%|██████████| 500/500 [00:04<00:00, 121.79it/s, loss=0.003019, elapsed time=0.01, total time=4.12]\n",
      "[I 2025-05-23 10:02:36,731] Trial 417 finished with value: 0.003019076483468014 and parameters: {'learning_rate': 0.0010099150087292347, 'sigma_multiplier': 1.670469580508924, 'initialization_multiplier': 0.12727365388529863}. Best is trial 77 with value: -0.00011012576492267536.\n"
     ]
    },
    {
     "name": "stdout",
     "output_type": "stream",
     "text": [
      "Training has not converged after 500 steps\n",
      "Trial 417 final loss: 0.00301908\n",
      "\n",
      "Trial 418: LR=0.006072, SigmaM=1.5397, InitM=0.058582\n"
     ]
    },
    {
     "name": "stderr",
     "output_type": "stream",
     "text": [
      "Training Progress: 100%|██████████| 500/500 [00:04<00:00, 120.44it/s, loss=0.000136, elapsed time=0.01, total time=4.16] \n",
      "[I 2025-05-23 10:02:40,903] Trial 418 finished with value: 0.00013615579271964446 and parameters: {'learning_rate': 0.006072261374352514, 'sigma_multiplier': 1.5397266063553814, 'initialization_multiplier': 0.05858215954310278}. Best is trial 77 with value: -0.00011012576492267536.\n"
     ]
    },
    {
     "name": "stdout",
     "output_type": "stream",
     "text": [
      "Training has not converged after 500 steps\n",
      "Trial 418 final loss: 0.00013616\n",
      "\n",
      "Trial 419: LR=0.012759, SigmaM=1.8530, InitM=0.094712\n"
     ]
    },
    {
     "name": "stderr",
     "output_type": "stream",
     "text": [
      "Training Progress: 100%|██████████| 500/500 [00:04<00:00, 123.65it/s, loss=0.000002, elapsed time=0.01, total time=4.05] \n",
      "[I 2025-05-23 10:02:44,966] Trial 419 finished with value: 2.4266519849264845e-06 and parameters: {'learning_rate': 0.01275900400005691, 'sigma_multiplier': 1.8530068675661704, 'initialization_multiplier': 0.0947121816726133}. Best is trial 77 with value: -0.00011012576492267536.\n"
     ]
    },
    {
     "name": "stdout",
     "output_type": "stream",
     "text": [
      "Training has not converged after 500 steps\n",
      "Trial 419 final loss: 0.00000243\n",
      "\n",
      "Trial 420: LR=0.019974, SigmaM=1.7943, InitM=0.070389\n"
     ]
    },
    {
     "name": "stderr",
     "output_type": "stream",
     "text": [
      "Training Progress: 100%|██████████| 500/500 [00:04<00:00, 122.35it/s, loss=0.000151, elapsed time=0.01, total time=4.1]  \n",
      "[I 2025-05-23 10:02:49,073] Trial 420 finished with value: 0.0001507652357435573 and parameters: {'learning_rate': 0.01997448259603157, 'sigma_multiplier': 1.7943135594409028, 'initialization_multiplier': 0.07038933570263178}. Best is trial 77 with value: -0.00011012576492267536.\n"
     ]
    },
    {
     "name": "stdout",
     "output_type": "stream",
     "text": [
      "Training has not converged after 500 steps\n",
      "Trial 420 final loss: 0.00015077\n",
      "\n",
      "Trial 421: LR=0.008636, SigmaM=1.9686, InitM=0.109985\n"
     ]
    },
    {
     "name": "stderr",
     "output_type": "stream",
     "text": [
      "Training Progress: 100%|██████████| 500/500 [00:04<00:00, 122.78it/s, loss=-0.000049, elapsed time=0.01, total time=4.08]\n",
      "[I 2025-05-23 10:02:53,166] Trial 421 finished with value: -4.935903104880162e-05 and parameters: {'learning_rate': 0.008636395790764083, 'sigma_multiplier': 1.9685600812635229, 'initialization_multiplier': 0.10998542138461775}. Best is trial 77 with value: -0.00011012576492267536.\n"
     ]
    },
    {
     "name": "stdout",
     "output_type": "stream",
     "text": [
      "Training has not converged after 500 steps\n",
      "Trial 421 final loss: -0.00004936\n",
      "\n",
      "Trial 422: LR=0.014437, SigmaM=1.5826, InitM=0.310761\n"
     ]
    },
    {
     "name": "stderr",
     "output_type": "stream",
     "text": [
      "Training Progress: 100%|██████████| 500/500 [00:04<00:00, 117.48it/s, loss=0.000185, elapsed time=0.01, total time=4.27] \n",
      "[I 2025-05-23 10:02:57,445] Trial 422 finished with value: 0.00018545949483796535 and parameters: {'learning_rate': 0.014436508950412626, 'sigma_multiplier': 1.5825784825713636, 'initialization_multiplier': 0.3107610513227981}. Best is trial 77 with value: -0.00011012576492267536.\n"
     ]
    },
    {
     "name": "stdout",
     "output_type": "stream",
     "text": [
      "Training has not converged after 500 steps\n",
      "Trial 422 final loss: 0.00018546\n",
      "\n",
      "Trial 423: LR=0.017767, SigmaM=1.8927, InitM=0.081823\n"
     ]
    },
    {
     "name": "stderr",
     "output_type": "stream",
     "text": [
      "Training Progress: 100%|██████████| 500/500 [00:04<00:00, 122.36it/s, loss=-0.000038, elapsed time=0.01, total time=4.1] \n",
      "[I 2025-05-23 10:03:01,554] Trial 423 finished with value: -3.8340353621083345e-05 and parameters: {'learning_rate': 0.017766655846855845, 'sigma_multiplier': 1.892673906872388, 'initialization_multiplier': 0.0818234123274205}. Best is trial 77 with value: -0.00011012576492267536.\n"
     ]
    },
    {
     "name": "stdout",
     "output_type": "stream",
     "text": [
      "Training has not converged after 500 steps\n",
      "Trial 423 final loss: -0.00003834\n",
      "\n",
      "Trial 424: LR=0.010003, SigmaM=1.1564, InitM=0.136693\n"
     ]
    },
    {
     "name": "stderr",
     "output_type": "stream",
     "text": [
      "Training Progress: 100%|██████████| 500/500 [00:04<00:00, 111.28it/s, loss=0.000252, elapsed time=0.01, total time=4.5]  \n",
      "[I 2025-05-23 10:03:06,068] Trial 424 finished with value: 0.00025190223184307374 and parameters: {'learning_rate': 0.010002871454753905, 'sigma_multiplier': 1.1564255354383535, 'initialization_multiplier': 0.13669308115581175}. Best is trial 77 with value: -0.00011012576492267536.\n"
     ]
    },
    {
     "name": "stdout",
     "output_type": "stream",
     "text": [
      "Training has not converged after 500 steps\n",
      "Trial 424 final loss: 0.00025190\n",
      "\n",
      "Trial 425: LR=0.004401, SigmaM=1.7688, InitM=0.051443\n"
     ]
    },
    {
     "name": "stderr",
     "output_type": "stream",
     "text": [
      "Training Progress: 100%|██████████| 500/500 [00:04<00:00, 118.47it/s, loss=0.000119, elapsed time=0.01, total time=4.23] \n",
      "[I 2025-05-23 10:03:10,310] Trial 425 finished with value: 0.0001192807955041509 and parameters: {'learning_rate': 0.0044006322241334495, 'sigma_multiplier': 1.76881701599858, 'initialization_multiplier': 0.051442538778083836}. Best is trial 77 with value: -0.00011012576492267536.\n"
     ]
    },
    {
     "name": "stdout",
     "output_type": "stream",
     "text": [
      "Training has not converged after 500 steps\n",
      "Trial 425 final loss: 0.00011928\n",
      "\n",
      "Trial 426: LR=0.011679, SigmaM=1.7032, InitM=0.096216\n"
     ]
    },
    {
     "name": "stderr",
     "output_type": "stream",
     "text": [
      "Training Progress: 100%|██████████| 500/500 [00:04<00:00, 119.13it/s, loss=-0.000023, elapsed time=0.01, total time=4.21]\n",
      "[I 2025-05-23 10:03:14,529] Trial 426 finished with value: -2.3032081160708805e-05 and parameters: {'learning_rate': 0.011678910417602769, 'sigma_multiplier': 1.703227099971298, 'initialization_multiplier': 0.09621558562617631}. Best is trial 77 with value: -0.00011012576492267536.\n"
     ]
    },
    {
     "name": "stdout",
     "output_type": "stream",
     "text": [
      "Training has not converged after 500 steps\n",
      "Trial 426 final loss: -0.00002303\n",
      "\n",
      "Trial 427: LR=0.015620, SigmaM=1.9318, InitM=0.115067\n"
     ]
    },
    {
     "name": "stderr",
     "output_type": "stream",
     "text": [
      "Training Progress: 100%|██████████| 500/500 [00:04<00:00, 121.99it/s, loss=0.000058, elapsed time=0.01, total time=4.11] \n",
      "[I 2025-05-23 10:03:18,650] Trial 427 finished with value: 5.812457724077611e-05 and parameters: {'learning_rate': 0.015620447629496433, 'sigma_multiplier': 1.9318361534841644, 'initialization_multiplier': 0.11506706759373164}. Best is trial 77 with value: -0.00011012576492267536.\n"
     ]
    },
    {
     "name": "stdout",
     "output_type": "stream",
     "text": [
      "Training has not converged after 500 steps\n",
      "Trial 427 final loss: 0.00005812\n",
      "\n",
      "Trial 428: LR=0.013439, SigmaM=1.8330, InitM=0.061699\n"
     ]
    },
    {
     "name": "stderr",
     "output_type": "stream",
     "text": [
      "Training Progress: 100%|██████████| 500/500 [00:04<00:00, 120.63it/s, loss=-0.000061, elapsed time=0.01, total time=4.16]\n",
      "[I 2025-05-23 10:03:22,817] Trial 428 finished with value: -6.113560721802539e-05 and parameters: {'learning_rate': 0.013439489820819921, 'sigma_multiplier': 1.8330152959674748, 'initialization_multiplier': 0.061699306484136775}. Best is trial 77 with value: -0.00011012576492267536.\n"
     ]
    },
    {
     "name": "stdout",
     "output_type": "stream",
     "text": [
      "Training has not converged after 500 steps\n",
      "Trial 428 final loss: -0.00006114\n",
      "\n",
      "Trial 429: LR=0.013793, SigmaM=1.8181, InitM=0.058781\n"
     ]
    },
    {
     "name": "stderr",
     "output_type": "stream",
     "text": [
      "Training Progress: 100%|██████████| 500/500 [00:04<00:00, 120.57it/s, loss=0.000119, elapsed time=0.01, total time=4.16] \n",
      "[I 2025-05-23 10:03:26,986] Trial 429 finished with value: 0.00011939488749656845 and parameters: {'learning_rate': 0.013793143660114748, 'sigma_multiplier': 1.8180533579909257, 'initialization_multiplier': 0.0587807460823543}. Best is trial 77 with value: -0.00011012576492267536.\n"
     ]
    },
    {
     "name": "stdout",
     "output_type": "stream",
     "text": [
      "Training has not converged after 500 steps\n",
      "Trial 429 final loss: 0.00011939\n",
      "\n",
      "Trial 430: LR=0.017950, SigmaM=1.8559, InitM=0.047653\n"
     ]
    },
    {
     "name": "stderr",
     "output_type": "stream",
     "text": [
      "Training Progress: 100%|██████████| 500/500 [00:04<00:00, 120.32it/s, loss=0.000038, elapsed time=0.01, total time=4.17] \n",
      "[I 2025-05-23 10:03:31,166] Trial 430 finished with value: 3.7783230224973994e-05 and parameters: {'learning_rate': 0.017950498999200884, 'sigma_multiplier': 1.8559343163053608, 'initialization_multiplier': 0.04765260610728407}. Best is trial 77 with value: -0.00011012576492267536.\n"
     ]
    },
    {
     "name": "stdout",
     "output_type": "stream",
     "text": [
      "Training has not converged after 500 steps\n",
      "Trial 430 final loss: 0.00003778\n",
      "\n",
      "Trial 431: LR=0.019513, SigmaM=1.8376, InitM=0.067828\n"
     ]
    },
    {
     "name": "stderr",
     "output_type": "stream",
     "text": [
      "Training Progress: 100%|██████████| 500/500 [00:04<00:00, 122.07it/s, loss=0.000079, elapsed time=0.01, total time=4.11] \n",
      "[I 2025-05-23 10:03:35,283] Trial 431 finished with value: 7.909586214052394e-05 and parameters: {'learning_rate': 0.019512577171133656, 'sigma_multiplier': 1.8376004599768276, 'initialization_multiplier': 0.06782785497713728}. Best is trial 77 with value: -0.00011012576492267536.\n"
     ]
    },
    {
     "name": "stdout",
     "output_type": "stream",
     "text": [
      "Training has not converged after 500 steps\n",
      "Trial 431 final loss: 0.00007910\n",
      "\n",
      "Trial 432: LR=0.014306, SigmaM=1.8842, InitM=0.074451\n"
     ]
    },
    {
     "name": "stderr",
     "output_type": "stream",
     "text": [
      "Training Progress: 100%|██████████| 500/500 [00:04<00:00, 121.40it/s, loss=0.000019, elapsed time=0.01, total time=4.13] \n",
      "[I 2025-05-23 10:03:39,423] Trial 432 finished with value: 1.8737789818862473e-05 and parameters: {'learning_rate': 0.014306343022727461, 'sigma_multiplier': 1.8842217865233244, 'initialization_multiplier': 0.07445140344568078}. Best is trial 77 with value: -0.00011012576492267536.\n"
     ]
    },
    {
     "name": "stdout",
     "output_type": "stream",
     "text": [
      "Training has not converged after 500 steps\n",
      "Trial 432 final loss: 0.00001874\n",
      "\n",
      "Trial 433: LR=0.022885, SigmaM=1.7929, InitM=0.018151\n"
     ]
    },
    {
     "name": "stderr",
     "output_type": "stream",
     "text": [
      "Training Progress: 100%|██████████| 500/500 [00:04<00:00, 120.50it/s, loss=-0.000080, elapsed time=0.01, total time=4.16]\n",
      "[I 2025-05-23 10:03:43,594] Trial 433 finished with value: -7.999282126953705e-05 and parameters: {'learning_rate': 0.022884728066397256, 'sigma_multiplier': 1.792910690310027, 'initialization_multiplier': 0.01815081526538404}. Best is trial 77 with value: -0.00011012576492267536.\n"
     ]
    },
    {
     "name": "stdout",
     "output_type": "stream",
     "text": [
      "Training has not converged after 500 steps\n",
      "Trial 433 final loss: -0.00007999\n",
      "\n",
      "Trial 434: LR=0.028296, SigmaM=1.7955, InitM=0.010840\n"
     ]
    },
    {
     "name": "stderr",
     "output_type": "stream",
     "text": [
      "Training Progress: 100%|██████████| 500/500 [00:04<00:00, 121.17it/s, loss=0.000099, elapsed time=0.01, total time=4.14] \n",
      "[I 2025-05-23 10:03:47,742] Trial 434 finished with value: 9.915193941170707e-05 and parameters: {'learning_rate': 0.028295698619120676, 'sigma_multiplier': 1.7954667337048091, 'initialization_multiplier': 0.010839719583748532}. Best is trial 77 with value: -0.00011012576492267536.\n"
     ]
    },
    {
     "name": "stdout",
     "output_type": "stream",
     "text": [
      "Training has not converged after 500 steps\n",
      "Trial 434 final loss: 0.00009915\n",
      "\n",
      "Trial 435: LR=0.023657, SigmaM=1.7758, InitM=0.006099\n"
     ]
    },
    {
     "name": "stderr",
     "output_type": "stream",
     "text": [
      "Training Progress: 100%|██████████| 500/500 [00:04<00:00, 120.72it/s, loss=-0.000007, elapsed time=0.01, total time=4.15]\n",
      "[I 2025-05-23 10:03:51,905] Trial 435 finished with value: -7.314142419156237e-06 and parameters: {'learning_rate': 0.023656600703168183, 'sigma_multiplier': 1.775767990469685, 'initialization_multiplier': 0.00609936137058239}. Best is trial 77 with value: -0.00011012576492267536.\n"
     ]
    },
    {
     "name": "stdout",
     "output_type": "stream",
     "text": [
      "Training has not converged after 500 steps\n",
      "Trial 435 final loss: -0.00000731\n",
      "\n",
      "Trial 436: LR=0.021853, SigmaM=1.8214, InitM=0.056056\n"
     ]
    },
    {
     "name": "stderr",
     "output_type": "stream",
     "text": [
      "Training Progress: 100%|██████████| 500/500 [00:04<00:00, 122.05it/s, loss=0.000008, elapsed time=0.01, total time=4.11] \n",
      "[I 2025-05-23 10:03:56,023] Trial 436 finished with value: 7.875477532301116e-06 and parameters: {'learning_rate': 0.02185316573972167, 'sigma_multiplier': 1.8213782245343713, 'initialization_multiplier': 0.056056274930423186}. Best is trial 77 with value: -0.00011012576492267536.\n"
     ]
    },
    {
     "name": "stdout",
     "output_type": "stream",
     "text": [
      "Training has not converged after 500 steps\n",
      "Trial 436 final loss: 0.00000788\n",
      "\n",
      "Trial 437: LR=0.027472, SigmaM=1.7664, InitM=0.062418\n"
     ]
    },
    {
     "name": "stderr",
     "output_type": "stream",
     "text": [
      "Training Progress: 100%|██████████| 500/500 [00:04<00:00, 123.72it/s, loss=0.000097, elapsed time=0.01, total time=4.05] \n",
      "[I 2025-05-23 10:04:00,087] Trial 437 finished with value: 9.697989339841689e-05 and parameters: {'learning_rate': 0.027471891930765272, 'sigma_multiplier': 1.7663930968462398, 'initialization_multiplier': 0.06241793847771557}. Best is trial 77 with value: -0.00011012576492267536.\n"
     ]
    },
    {
     "name": "stdout",
     "output_type": "stream",
     "text": [
      "Training has not converged after 500 steps\n",
      "Trial 437 final loss: 0.00009698\n",
      "\n",
      "Trial 438: LR=0.033550, SigmaM=1.7386, InitM=0.051777\n"
     ]
    },
    {
     "name": "stderr",
     "output_type": "stream",
     "text": [
      "Training Progress: 100%|██████████| 500/500 [00:04<00:00, 118.84it/s, loss=0.000151, elapsed time=0.01, total time=4.22] \n",
      "[I 2025-05-23 10:04:04,317] Trial 438 finished with value: 0.0001506737522549114 and parameters: {'learning_rate': 0.033550274864952295, 'sigma_multiplier': 1.7386352157279406, 'initialization_multiplier': 0.05177734403529441}. Best is trial 77 with value: -0.00011012576492267536.\n"
     ]
    },
    {
     "name": "stdout",
     "output_type": "stream",
     "text": [
      "Training has not converged after 500 steps\n",
      "Trial 438 final loss: 0.00015067\n",
      "\n",
      "Trial 439: LR=0.019223, SigmaM=1.8016, InitM=0.869393\n"
     ]
    },
    {
     "name": "stderr",
     "output_type": "stream",
     "text": [
      "Training Progress: 100%|██████████| 500/500 [00:04<00:00, 117.83it/s, loss=0.000073, elapsed time=0.01, total time=4.25] \n",
      "[I 2025-05-23 10:04:08,583] Trial 439 finished with value: 7.284767927065387e-05 and parameters: {'learning_rate': 0.019222846296031364, 'sigma_multiplier': 1.801621394305141, 'initialization_multiplier': 0.8693933988564341}. Best is trial 77 with value: -0.00011012576492267536.\n"
     ]
    },
    {
     "name": "stdout",
     "output_type": "stream",
     "text": [
      "Training has not converged after 500 steps\n",
      "Trial 439 final loss: 0.00007285\n",
      "\n",
      "Trial 440: LR=0.016685, SigmaM=1.8609, InitM=0.012842\n"
     ]
    },
    {
     "name": "stderr",
     "output_type": "stream",
     "text": [
      "Training Progress: 100%|██████████| 500/500 [00:04<00:00, 120.65it/s, loss=-0.000024, elapsed time=0.01, total time=4.15]\n",
      "[I 2025-05-23 10:04:12,747] Trial 440 finished with value: -2.370818463022056e-05 and parameters: {'learning_rate': 0.01668463344029742, 'sigma_multiplier': 1.8608931461288287, 'initialization_multiplier': 0.0128417399138876}. Best is trial 77 with value: -0.00011012576492267536.\n"
     ]
    },
    {
     "name": "stdout",
     "output_type": "stream",
     "text": [
      "Training has not converged after 500 steps\n",
      "Trial 440 final loss: -0.00002371\n",
      "\n",
      "Trial 441: LR=0.023681, SigmaM=1.7349, InitM=0.016831\n"
     ]
    },
    {
     "name": "stderr",
     "output_type": "stream",
     "text": [
      "Training Progress: 100%|██████████| 500/500 [00:04<00:00, 120.16it/s, loss=0.000046, elapsed time=0.01, total time=4.17] \n",
      "[I 2025-05-23 10:04:16,932] Trial 441 finished with value: 4.5823795010537374e-05 and parameters: {'learning_rate': 0.023680697057244307, 'sigma_multiplier': 1.7348651487583542, 'initialization_multiplier': 0.01683086139948807}. Best is trial 77 with value: -0.00011012576492267536.\n"
     ]
    },
    {
     "name": "stdout",
     "output_type": "stream",
     "text": [
      "Training has not converged after 500 steps\n",
      "Trial 441 final loss: 0.00004582\n",
      "\n",
      "Trial 442: LR=0.012777, SigmaM=1.8308, InitM=0.064668\n"
     ]
    },
    {
     "name": "stderr",
     "output_type": "stream",
     "text": [
      "Training Progress: 100%|██████████| 500/500 [00:04<00:00, 119.71it/s, loss=0.000024, elapsed time=0.01, total time=4.19] \n",
      "[I 2025-05-23 10:04:21,133] Trial 442 finished with value: 2.3615026701401022e-05 and parameters: {'learning_rate': 0.012776927144906544, 'sigma_multiplier': 1.8308383876250298, 'initialization_multiplier': 0.06466757300831454}. Best is trial 77 with value: -0.00011012576492267536.\n"
     ]
    },
    {
     "name": "stdout",
     "output_type": "stream",
     "text": [
      "Training has not converged after 500 steps\n",
      "Trial 442 final loss: 0.00002362\n",
      "\n",
      "Trial 443: LR=0.016465, SigmaM=1.7868, InitM=0.075962\n"
     ]
    },
    {
     "name": "stderr",
     "output_type": "stream",
     "text": [
      "Training Progress: 100%|██████████| 500/500 [00:04<00:00, 121.33it/s, loss=0.000035, elapsed time=0.01, total time=4.13] \n",
      "[I 2025-05-23 10:04:25,277] Trial 443 finished with value: 3.470997525919329e-05 and parameters: {'learning_rate': 0.016464827433956497, 'sigma_multiplier': 1.7867728053619607, 'initialization_multiplier': 0.07596196119118394}. Best is trial 77 with value: -0.00011012576492267536.\n"
     ]
    },
    {
     "name": "stdout",
     "output_type": "stream",
     "text": [
      "Training has not converged after 500 steps\n",
      "Trial 443 final loss: 0.00003471\n",
      "\n",
      "Trial 444: LR=0.014569, SigmaM=1.8487, InitM=0.043390\n"
     ]
    },
    {
     "name": "stderr",
     "output_type": "stream",
     "text": [
      "Training Progress: 100%|██████████| 500/500 [00:04<00:00, 122.44it/s, loss=-0.000022, elapsed time=0.01, total time=4.09]\n",
      "[I 2025-05-23 10:04:29,383] Trial 444 finished with value: -2.1944335884532497e-05 and parameters: {'learning_rate': 0.014569152434046745, 'sigma_multiplier': 1.8487204629184955, 'initialization_multiplier': 0.04338994043203137}. Best is trial 77 with value: -0.00011012576492267536.\n"
     ]
    },
    {
     "name": "stdout",
     "output_type": "stream",
     "text": [
      "Training has not converged after 500 steps\n",
      "Trial 444 final loss: -0.00002194\n",
      "\n",
      "Trial 445: LR=0.011762, SigmaM=1.7635, InitM=0.018122\n"
     ]
    },
    {
     "name": "stderr",
     "output_type": "stream",
     "text": [
      "Training Progress: 100%|██████████| 500/500 [00:04<00:00, 119.45it/s, loss=0.000131, elapsed time=0.01, total time=4.2]  \n",
      "[I 2025-05-23 10:04:33,592] Trial 445 finished with value: 0.0001312480153859315 and parameters: {'learning_rate': 0.01176244299978243, 'sigma_multiplier': 1.7634866181233517, 'initialization_multiplier': 0.018122313515640226}. Best is trial 77 with value: -0.00011012576492267536.\n"
     ]
    },
    {
     "name": "stdout",
     "output_type": "stream",
     "text": [
      "Training has not converged after 500 steps\n",
      "Trial 445 final loss: 0.00013125\n",
      "\n",
      "Trial 446: LR=0.020765, SigmaM=1.8858, InitM=0.013806\n"
     ]
    },
    {
     "name": "stderr",
     "output_type": "stream",
     "text": [
      "Training Progress: 100%|██████████| 500/500 [00:04<00:00, 121.35it/s, loss=0.000114, elapsed time=0.01, total time=4.13] \n",
      "[I 2025-05-23 10:04:37,733] Trial 446 finished with value: 0.0001137107347077034 and parameters: {'learning_rate': 0.020765004130944457, 'sigma_multiplier': 1.885781367567764, 'initialization_multiplier': 0.013805738917761618}. Best is trial 77 with value: -0.00011012576492267536.\n"
     ]
    },
    {
     "name": "stdout",
     "output_type": "stream",
     "text": [
      "Training has not converged after 500 steps\n",
      "Trial 446 final loss: 0.00011371\n",
      "\n",
      "Trial 447: LR=0.016205, SigmaM=1.7154, InitM=0.083330\n"
     ]
    },
    {
     "name": "stderr",
     "output_type": "stream",
     "text": [
      "Training Progress: 100%|██████████| 500/500 [00:04<00:00, 121.66it/s, loss=0.000125, elapsed time=0.01, total time=4.12] \n",
      "[I 2025-05-23 10:04:41,865] Trial 447 finished with value: 0.00012466447496910945 and parameters: {'learning_rate': 0.016205054476641556, 'sigma_multiplier': 1.7153607502782857, 'initialization_multiplier': 0.08333035052804397}. Best is trial 77 with value: -0.00011012576492267536.\n"
     ]
    },
    {
     "name": "stdout",
     "output_type": "stream",
     "text": [
      "Training has not converged after 500 steps\n",
      "Trial 447 final loss: 0.00012466\n",
      "\n",
      "Trial 448: LR=0.012654, SigmaM=1.9972, InitM=0.069955\n"
     ]
    },
    {
     "name": "stderr",
     "output_type": "stream",
     "text": [
      "Training Progress: 100%|██████████| 500/500 [00:04<00:00, 122.09it/s, loss=-0.000071, elapsed time=0.01, total time=4.1] \n",
      "[I 2025-05-23 10:04:45,980] Trial 448 finished with value: -7.098408121667445e-05 and parameters: {'learning_rate': 0.012653731825919638, 'sigma_multiplier': 1.9972294903180834, 'initialization_multiplier': 0.06995473569630023}. Best is trial 77 with value: -0.00011012576492267536.\n"
     ]
    },
    {
     "name": "stdout",
     "output_type": "stream",
     "text": [
      "Training has not converged after 500 steps\n",
      "Trial 448 final loss: -0.00007098\n",
      "\n",
      "Trial 449: LR=0.010456, SigmaM=1.9910, InitM=0.022603\n"
     ]
    },
    {
     "name": "stderr",
     "output_type": "stream",
     "text": [
      "Training Progress: 100%|██████████| 500/500 [00:04<00:00, 122.46it/s, loss=-0.000062, elapsed time=0.01, total time=4.09]\n",
      "[I 2025-05-23 10:04:50,086] Trial 449 finished with value: -6.156430818414689e-05 and parameters: {'learning_rate': 0.010455805115704923, 'sigma_multiplier': 1.9909978991388757, 'initialization_multiplier': 0.02260279425668646}. Best is trial 77 with value: -0.00011012576492267536.\n"
     ]
    },
    {
     "name": "stdout",
     "output_type": "stream",
     "text": [
      "Training has not converged after 500 steps\n",
      "Trial 449 final loss: -0.00006156\n",
      "\n",
      "Trial 450: LR=0.019122, SigmaM=1.9672, InitM=0.101761\n"
     ]
    },
    {
     "name": "stderr",
     "output_type": "stream",
     "text": [
      "Training Progress: 100%|██████████| 500/500 [00:04<00:00, 123.48it/s, loss=0.000075, elapsed time=0.01, total time=4.06] \n",
      "[I 2025-05-23 10:04:54,156] Trial 450 finished with value: 7.538934211104253e-05 and parameters: {'learning_rate': 0.01912233155809151, 'sigma_multiplier': 1.9672073910079382, 'initialization_multiplier': 0.10176051613420718}. Best is trial 77 with value: -0.00011012576492267536.\n"
     ]
    },
    {
     "name": "stdout",
     "output_type": "stream",
     "text": [
      "Training has not converged after 500 steps\n",
      "Trial 450 final loss: 0.00007539\n",
      "\n",
      "Trial 451: LR=0.011997, SigmaM=1.9958, InitM=0.070984\n"
     ]
    },
    {
     "name": "stderr",
     "output_type": "stream",
     "text": [
      "Training Progress: 100%|██████████| 500/500 [00:04<00:00, 121.85it/s, loss=0.000134, elapsed time=0.01, total time=4.11] \n",
      "[I 2025-05-23 10:04:58,283] Trial 451 finished with value: 0.0001337728517696445 and parameters: {'learning_rate': 0.0119973564487716, 'sigma_multiplier': 1.9957977738711825, 'initialization_multiplier': 0.07098367435188237}. Best is trial 77 with value: -0.00011012576492267536.\n"
     ]
    },
    {
     "name": "stdout",
     "output_type": "stream",
     "text": [
      "Training has not converged after 500 steps\n",
      "Trial 451 final loss: 0.00013377\n",
      "\n",
      "Trial 452: LR=0.039196, SigmaM=1.9506, InitM=0.088222\n"
     ]
    },
    {
     "name": "stderr",
     "output_type": "stream",
     "text": [
      "Training Progress: 100%|██████████| 500/500 [00:04<00:00, 119.97it/s, loss=-0.000018, elapsed time=0.01, total time=4.18]\n",
      "[I 2025-05-23 10:05:02,473] Trial 452 finished with value: -1.796745017365528e-05 and parameters: {'learning_rate': 0.03919616948211842, 'sigma_multiplier': 1.9505917784595501, 'initialization_multiplier': 0.08822200350970144}. Best is trial 77 with value: -0.00011012576492267536.\n"
     ]
    },
    {
     "name": "stdout",
     "output_type": "stream",
     "text": [
      "Training has not converged after 500 steps\n",
      "Trial 452 final loss: -0.00001797\n",
      "\n",
      "Trial 453: LR=0.026589, SigmaM=1.9384, InitM=0.116105\n"
     ]
    },
    {
     "name": "stderr",
     "output_type": "stream",
     "text": [
      "Training Progress: 100%|██████████| 500/500 [00:04<00:00, 121.68it/s, loss=-0.000012, elapsed time=0.01, total time=4.12]\n",
      "[I 2025-05-23 10:05:06,605] Trial 453 finished with value: -1.2026772108051085e-05 and parameters: {'learning_rate': 0.02658883905712362, 'sigma_multiplier': 1.9384448586581868, 'initialization_multiplier': 0.11610471264635332}. Best is trial 77 with value: -0.00011012576492267536.\n"
     ]
    },
    {
     "name": "stdout",
     "output_type": "stream",
     "text": [
      "Training has not converged after 500 steps\n",
      "Trial 453 final loss: -0.00001203\n",
      "\n",
      "Trial 454: LR=0.022388, SigmaM=1.9602, InitM=0.079206\n"
     ]
    },
    {
     "name": "stderr",
     "output_type": "stream",
     "text": [
      "Training Progress: 100%|██████████| 500/500 [00:04<00:00, 121.69it/s, loss=-0.000016, elapsed time=0.01, total time=4.12]\n",
      "[I 2025-05-23 10:05:10,734] Trial 454 finished with value: -1.554110079403854e-05 and parameters: {'learning_rate': 0.02238800103497281, 'sigma_multiplier': 1.9601920867470681, 'initialization_multiplier': 0.07920631534178314}. Best is trial 77 with value: -0.00011012576492267536.\n"
     ]
    },
    {
     "name": "stdout",
     "output_type": "stream",
     "text": [
      "Training has not converged after 500 steps\n",
      "Trial 454 final loss: -0.00001554\n",
      "\n",
      "Trial 455: LR=0.015399, SigmaM=1.9148, InitM=0.010000\n"
     ]
    },
    {
     "name": "stderr",
     "output_type": "stream",
     "text": [
      "Training Progress: 100%|██████████| 500/500 [00:03<00:00, 125.07it/s, loss=-0.000053, elapsed time=0.01, total time=4.01]\n",
      "[I 2025-05-23 10:05:14,755] Trial 455 finished with value: -5.324123785491908e-05 and parameters: {'learning_rate': 0.015399264696196404, 'sigma_multiplier': 1.9148111006706594, 'initialization_multiplier': 0.009999726046215116}. Best is trial 77 with value: -0.00011012576492267536.\n"
     ]
    },
    {
     "name": "stdout",
     "output_type": "stream",
     "text": [
      "Training has not converged after 500 steps\n",
      "Trial 455 final loss: -0.00005324\n",
      "\n",
      "Trial 456: LR=0.010504, SigmaM=1.9898, InitM=0.100308\n"
     ]
    },
    {
     "name": "stderr",
     "output_type": "stream",
     "text": [
      "Training Progress: 100%|██████████| 500/500 [00:03<00:00, 125.62it/s, loss=0.000014, elapsed time=0.01, total time=3.99] \n",
      "[I 2025-05-23 10:05:18,757] Trial 456 finished with value: 1.432656955751043e-05 and parameters: {'learning_rate': 0.010504172854579096, 'sigma_multiplier': 1.989758517551169, 'initialization_multiplier': 0.10030846079100605}. Best is trial 77 with value: -0.00011012576492267536.\n"
     ]
    },
    {
     "name": "stdout",
     "output_type": "stream",
     "text": [
      "Training has not converged after 500 steps\n",
      "Trial 456 final loss: 0.00001433\n",
      "\n",
      "Trial 457: LR=0.012785, SigmaM=1.2622, InitM=0.126724\n"
     ]
    },
    {
     "name": "stderr",
     "output_type": "stream",
     "text": [
      "Training Progress: 100%|██████████| 500/500 [00:04<00:00, 117.24it/s, loss=0.000070, elapsed time=0.01, total time=4.27] \n",
      "[I 2025-05-23 10:05:23,041] Trial 457 finished with value: 7.03525357224296e-05 and parameters: {'learning_rate': 0.012784589273571808, 'sigma_multiplier': 1.2621938743506278, 'initialization_multiplier': 0.1267243123260016}. Best is trial 77 with value: -0.00011012576492267536.\n"
     ]
    },
    {
     "name": "stdout",
     "output_type": "stream",
     "text": [
      "Training has not converged after 500 steps\n",
      "Trial 457 final loss: 0.00007035\n",
      "\n",
      "Trial 458: LR=0.018179, SigmaM=1.9026, InitM=0.069553\n"
     ]
    },
    {
     "name": "stderr",
     "output_type": "stream",
     "text": [
      "Training Progress: 100%|██████████| 500/500 [00:04<00:00, 121.56it/s, loss=0.000110, elapsed time=0.01, total time=4.12] \n",
      "[I 2025-05-23 10:05:27,175] Trial 458 finished with value: 0.00010963881377696154 and parameters: {'learning_rate': 0.018179302021694356, 'sigma_multiplier': 1.902610180349577, 'initialization_multiplier': 0.06955318191867252}. Best is trial 77 with value: -0.00011012576492267536.\n"
     ]
    },
    {
     "name": "stdout",
     "output_type": "stream",
     "text": [
      "Training has not converged after 500 steps\n",
      "Trial 458 final loss: 0.00010964\n",
      "\n",
      "Trial 459: LR=0.001370, SigmaM=1.7014, InitM=0.091616\n"
     ]
    },
    {
     "name": "stderr",
     "output_type": "stream",
     "text": [
      "Training Progress: 100%|██████████| 500/500 [00:04<00:00, 121.19it/s, loss=0.000553, elapsed time=0.01, total time=4.14]\n",
      "[I 2025-05-23 10:05:31,322] Trial 459 finished with value: 0.0005525964888447864 and parameters: {'learning_rate': 0.001369927729242187, 'sigma_multiplier': 1.7014048052952044, 'initialization_multiplier': 0.09161639146161069}. Best is trial 77 with value: -0.00011012576492267536.\n"
     ]
    },
    {
     "name": "stdout",
     "output_type": "stream",
     "text": [
      "Training has not converged after 500 steps\n",
      "Trial 459 final loss: 0.00055260\n",
      "\n",
      "Trial 460: LR=0.009274, SigmaM=1.9525, InitM=0.015792\n"
     ]
    },
    {
     "name": "stderr",
     "output_type": "stream",
     "text": [
      "Training Progress: 100%|██████████| 500/500 [00:03<00:00, 125.68it/s, loss=-0.000035, elapsed time=0.01, total time=3.99]\n",
      "[I 2025-05-23 10:05:35,322] Trial 460 finished with value: -3.498586967987545e-05 and parameters: {'learning_rate': 0.009274433537813858, 'sigma_multiplier': 1.9525314286306745, 'initialization_multiplier': 0.015792329488687668}. Best is trial 77 with value: -0.00011012576492267536.\n"
     ]
    },
    {
     "name": "stdout",
     "output_type": "stream",
     "text": [
      "Training has not converged after 500 steps\n",
      "Trial 460 final loss: -0.00003499\n",
      "\n",
      "Trial 461: LR=0.029861, SigmaM=0.8236, InitM=0.019464\n"
     ]
    },
    {
     "name": "stderr",
     "output_type": "stream",
     "text": [
      "Training Progress: 100%|██████████| 500/500 [00:04<00:00, 101.40it/s, loss=0.000577, elapsed time=0.01, total time=4.94]\n",
      "[I 2025-05-23 10:05:40,274] Trial 461 finished with value: 0.0005765502312524588 and parameters: {'learning_rate': 0.029860845333495437, 'sigma_multiplier': 0.8236366857943405, 'initialization_multiplier': 0.0194641432830698}. Best is trial 77 with value: -0.00011012576492267536.\n"
     ]
    },
    {
     "name": "stdout",
     "output_type": "stream",
     "text": [
      "Training has not converged after 500 steps\n",
      "Trial 461 final loss: 0.00057655\n",
      "\n",
      "Trial 462: LR=0.014849, SigmaM=1.6523, InitM=0.056080\n"
     ]
    },
    {
     "name": "stderr",
     "output_type": "stream",
     "text": [
      "Training Progress: 100%|██████████| 500/500 [00:04<00:00, 118.46it/s, loss=-0.000045, elapsed time=0.01, total time=4.23]\n",
      "[I 2025-05-23 10:05:44,518] Trial 462 finished with value: -4.5385267475217397e-05 and parameters: {'learning_rate': 0.014849118685277033, 'sigma_multiplier': 1.6522869494356986, 'initialization_multiplier': 0.05608025249970305}. Best is trial 77 with value: -0.00011012576492267536.\n"
     ]
    },
    {
     "name": "stdout",
     "output_type": "stream",
     "text": [
      "Training has not converged after 500 steps\n",
      "Trial 462 final loss: -0.00004539\n",
      "\n",
      "Trial 463: LR=0.012114, SigmaM=1.7376, InitM=0.001367\n"
     ]
    },
    {
     "name": "stderr",
     "output_type": "stream",
     "text": [
      "Training Progress: 100%|██████████| 500/500 [00:04<00:00, 121.11it/s, loss=0.000093, elapsed time=0.01, total time=4.14] \n",
      "[I 2025-05-23 10:05:48,670] Trial 463 finished with value: 9.308710811572208e-05 and parameters: {'learning_rate': 0.012113545693779575, 'sigma_multiplier': 1.7375582285292248, 'initialization_multiplier': 0.0013666184747039402}. Best is trial 77 with value: -0.00011012576492267536.\n"
     ]
    },
    {
     "name": "stdout",
     "output_type": "stream",
     "text": [
      "Training has not converged after 500 steps\n",
      "Trial 463 final loss: 0.00009309\n",
      "\n",
      "Trial 464: LR=0.020660, SigmaM=1.8841, InitM=0.108316\n"
     ]
    },
    {
     "name": "stderr",
     "output_type": "stream",
     "text": [
      "Training Progress: 100%|██████████| 500/500 [00:04<00:00, 122.72it/s, loss=0.000009, elapsed time=0.01, total time=4.08] \n",
      "[I 2025-05-23 10:05:52,766] Trial 464 finished with value: 9.389252759655914e-06 and parameters: {'learning_rate': 0.02066038822549928, 'sigma_multiplier': 1.8840517682181164, 'initialization_multiplier': 0.10831569946889893}. Best is trial 77 with value: -0.00011012576492267536.\n"
     ]
    },
    {
     "name": "stdout",
     "output_type": "stream",
     "text": [
      "Training has not converged after 500 steps\n",
      "Trial 464 final loss: 0.00000939\n",
      "\n",
      "Trial 465: LR=0.018133, SigmaM=1.9270, InitM=0.083072\n"
     ]
    },
    {
     "name": "stderr",
     "output_type": "stream",
     "text": [
      "Training Progress: 100%|██████████| 500/500 [00:04<00:00, 122.06it/s, loss=0.000024, elapsed time=0.01, total time=4.11] \n",
      "[I 2025-05-23 10:05:56,885] Trial 465 finished with value: 2.36954362917134e-05 and parameters: {'learning_rate': 0.018133275693339574, 'sigma_multiplier': 1.9269703215067029, 'initialization_multiplier': 0.08307191263527254}. Best is trial 77 with value: -0.00011012576492267536.\n"
     ]
    },
    {
     "name": "stdout",
     "output_type": "stream",
     "text": [
      "Training has not converged after 500 steps\n",
      "Trial 465 final loss: 0.00002370\n",
      "\n",
      "Trial 466: LR=0.024969, SigmaM=1.4503, InitM=0.136391\n"
     ]
    },
    {
     "name": "stderr",
     "output_type": "stream",
     "text": [
      "Training Progress: 100%|██████████| 500/500 [00:04<00:00, 116.67it/s, loss=0.000106, elapsed time=0.01, total time=4.3]  \n",
      "[I 2025-05-23 10:06:01,191] Trial 466 finished with value: 0.00010585265814384864 and parameters: {'learning_rate': 0.024968882133927565, 'sigma_multiplier': 1.4502754578305983, 'initialization_multiplier': 0.13639112869043898}. Best is trial 77 with value: -0.00011012576492267536.\n"
     ]
    },
    {
     "name": "stdout",
     "output_type": "stream",
     "text": [
      "Training has not converged after 500 steps\n",
      "Trial 466 final loss: 0.00010585\n",
      "\n",
      "Trial 467: LR=0.008650, SigmaM=1.7777, InitM=0.069765\n"
     ]
    },
    {
     "name": "stderr",
     "output_type": "stream",
     "text": [
      "Training Progress: 100%|██████████| 500/500 [00:04<00:00, 121.94it/s, loss=-0.000007, elapsed time=0.01, total time=4.11]\n",
      "[I 2025-05-23 10:06:05,313] Trial 467 finished with value: -6.882205162057918e-06 and parameters: {'learning_rate': 0.008650489174926865, 'sigma_multiplier': 1.7777056242539828, 'initialization_multiplier': 0.06976503775512047}. Best is trial 77 with value: -0.00011012576492267536.\n"
     ]
    },
    {
     "name": "stdout",
     "output_type": "stream",
     "text": [
      "Training has not converged after 500 steps\n",
      "Trial 467 final loss: -0.00000688\n",
      "\n",
      "Trial 468: LR=0.014177, SigmaM=1.9967, InitM=0.097111\n"
     ]
    },
    {
     "name": "stderr",
     "output_type": "stream",
     "text": [
      "Training Progress: 100%|██████████| 500/500 [00:03<00:00, 126.06it/s, loss=-0.000058, elapsed time=0.01, total time=3.98]\n",
      "[I 2025-05-23 10:06:09,300] Trial 468 finished with value: -5.783739306814811e-05 and parameters: {'learning_rate': 0.01417726792962877, 'sigma_multiplier': 1.9967072826622283, 'initialization_multiplier': 0.09711091183570845}. Best is trial 77 with value: -0.00011012576492267536.\n"
     ]
    },
    {
     "name": "stdout",
     "output_type": "stream",
     "text": [
      "Training has not converged after 500 steps\n",
      "Trial 468 final loss: -0.00005784\n",
      "\n",
      "Trial 469: LR=0.001892, SigmaM=1.6296, InitM=0.061129\n"
     ]
    },
    {
     "name": "stderr",
     "output_type": "stream",
     "text": [
      "Training Progress: 100%|██████████| 500/500 [00:04<00:00, 122.21it/s, loss=0.000259, elapsed time=0.01, total time=4.1] \n",
      "[I 2025-05-23 10:06:13,412] Trial 469 finished with value: 0.00025893848116114804 and parameters: {'learning_rate': 0.0018919908587737124, 'sigma_multiplier': 1.6295671816920192, 'initialization_multiplier': 0.061128809093835515}. Best is trial 77 with value: -0.00011012576492267536.\n"
     ]
    },
    {
     "name": "stdout",
     "output_type": "stream",
     "text": [
      "Training has not converged after 500 steps\n",
      "Trial 469 final loss: 0.00025894\n",
      "\n",
      "Trial 470: LR=0.010921, SigmaM=1.8034, InitM=0.085577\n"
     ]
    },
    {
     "name": "stderr",
     "output_type": "stream",
     "text": [
      "Training Progress: 100%|██████████| 500/500 [00:04<00:00, 124.50it/s, loss=-0.000003, elapsed time=0.01, total time=4.03]\n",
      "[I 2025-05-23 10:06:17,448] Trial 470 finished with value: -2.568028946733159e-06 and parameters: {'learning_rate': 0.010920624674250838, 'sigma_multiplier': 1.8033588748939402, 'initialization_multiplier': 0.08557675248596755}. Best is trial 77 with value: -0.00011012576492267536.\n"
     ]
    },
    {
     "name": "stdout",
     "output_type": "stream",
     "text": [
      "Training has not converged after 500 steps\n",
      "Trial 470 final loss: -0.00000257\n",
      "\n",
      "Trial 471: LR=0.016860, SigmaM=1.6857, InitM=0.113706\n"
     ]
    },
    {
     "name": "stderr",
     "output_type": "stream",
     "text": [
      "Training Progress: 100%|██████████| 500/500 [00:04<00:00, 118.98it/s, loss=-0.000013, elapsed time=0.01, total time=4.21]\n",
      "[I 2025-05-23 10:06:21,672] Trial 471 finished with value: -1.2671616731867633e-05 and parameters: {'learning_rate': 0.01686045707110905, 'sigma_multiplier': 1.6857203326558747, 'initialization_multiplier': 0.11370561502341604}. Best is trial 77 with value: -0.00011012576492267536.\n"
     ]
    },
    {
     "name": "stdout",
     "output_type": "stream",
     "text": [
      "Training has not converged after 500 steps\n",
      "Trial 471 final loss: -0.00001267\n",
      "\n",
      "Trial 472: LR=0.013585, SigmaM=1.8663, InitM=0.156261\n"
     ]
    },
    {
     "name": "stderr",
     "output_type": "stream",
     "text": [
      "Training Progress: 100%|██████████| 500/500 [00:04<00:00, 121.19it/s, loss=0.000048, elapsed time=0.01, total time=4.14] \n",
      "[I 2025-05-23 10:06:25,820] Trial 472 finished with value: 4.76622400880162e-05 and parameters: {'learning_rate': 0.013584607256074575, 'sigma_multiplier': 1.8662962989686611, 'initialization_multiplier': 0.15626120084931575}. Best is trial 77 with value: -0.00011012576492267536.\n"
     ]
    },
    {
     "name": "stdout",
     "output_type": "stream",
     "text": [
      "Training has not converged after 500 steps\n",
      "Trial 472 final loss: 0.00004766\n",
      "\n",
      "Trial 473: LR=0.007627, SigmaM=1.7448, InitM=0.051214\n"
     ]
    },
    {
     "name": "stderr",
     "output_type": "stream",
     "text": [
      "Training Progress: 100%|██████████| 500/500 [00:04<00:00, 122.64it/s, loss=0.000090, elapsed time=0.01, total time=4.09] \n",
      "[I 2025-05-23 10:06:29,919] Trial 473 finished with value: 9.036534850413022e-05 and parameters: {'learning_rate': 0.007627253501181276, 'sigma_multiplier': 1.7447956476427087, 'initialization_multiplier': 0.051214173846869625}. Best is trial 77 with value: -0.00011012576492267536.\n"
     ]
    },
    {
     "name": "stdout",
     "output_type": "stream",
     "text": [
      "Training has not converged after 500 steps\n",
      "Trial 473 final loss: 0.00009037\n",
      "\n",
      "Trial 474: LR=0.009844, SigmaM=1.9004, InitM=0.077110\n"
     ]
    },
    {
     "name": "stderr",
     "output_type": "stream",
     "text": [
      "Training Progress: 100%|██████████| 500/500 [00:03<00:00, 125.80it/s, loss=-0.000028, elapsed time=0.01, total time=3.98]\n",
      "[I 2025-05-23 10:06:33,914] Trial 474 finished with value: -2.7881925140784533e-05 and parameters: {'learning_rate': 0.0098439273507517, 'sigma_multiplier': 1.9003523429097915, 'initialization_multiplier': 0.07710970217888534}. Best is trial 77 with value: -0.00011012576492267536.\n"
     ]
    },
    {
     "name": "stdout",
     "output_type": "stream",
     "text": [
      "Training has not converged after 500 steps\n",
      "Trial 474 final loss: -0.00002788\n",
      "\n",
      "Trial 475: LR=0.011609, SigmaM=1.8081, InitM=0.131480\n"
     ]
    },
    {
     "name": "stderr",
     "output_type": "stream",
     "text": [
      "Training Progress: 100%|██████████| 500/500 [00:04<00:00, 122.29it/s, loss=0.000059, elapsed time=0.01, total time=4.1]  \n",
      "[I 2025-05-23 10:06:38,023] Trial 475 finished with value: 5.9061926965748154e-05 and parameters: {'learning_rate': 0.011608935870902311, 'sigma_multiplier': 1.8081444822708481, 'initialization_multiplier': 0.13147991822142044}. Best is trial 77 with value: -0.00011012576492267536.\n"
     ]
    },
    {
     "name": "stdout",
     "output_type": "stream",
     "text": [
      "Training has not converged after 500 steps\n",
      "Trial 475 final loss: 0.00005906\n",
      "\n",
      "Trial 476: LR=0.000724, SigmaM=1.3507, InitM=0.542403\n"
     ]
    },
    {
     "name": "stderr",
     "output_type": "stream",
     "text": [
      "Training Progress: 100%|██████████| 500/500 [00:04<00:00, 115.97it/s, loss=0.000379, elapsed time=0.01, total time=4.32]\n",
      "[I 2025-05-23 10:06:42,357] Trial 476 finished with value: 0.0003786350985100301 and parameters: {'learning_rate': 0.0007243368814161121, 'sigma_multiplier': 1.35073146649493, 'initialization_multiplier': 0.5424026804793359}. Best is trial 77 with value: -0.00011012576492267536.\n"
     ]
    },
    {
     "name": "stdout",
     "output_type": "stream",
     "text": [
      "Training has not converged after 500 steps\n",
      "Trial 476 final loss: 0.00037864\n",
      "\n",
      "Trial 477: LR=0.015908, SigmaM=1.9574, InitM=0.102730\n"
     ]
    },
    {
     "name": "stderr",
     "output_type": "stream",
     "text": [
      "Training Progress: 100%|██████████| 500/500 [00:04<00:00, 120.04it/s, loss=0.000037, elapsed time=0.01, total time=4.18] \n",
      "[I 2025-05-23 10:06:46,545] Trial 477 finished with value: 3.7149115831724915e-05 and parameters: {'learning_rate': 0.015908464723109642, 'sigma_multiplier': 1.9574407446404536, 'initialization_multiplier': 0.10272987705490505}. Best is trial 77 with value: -0.00011012576492267536.\n"
     ]
    },
    {
     "name": "stdout",
     "output_type": "stream",
     "text": [
      "Training has not converged after 500 steps\n",
      "Trial 477 final loss: 0.00003715\n",
      "\n",
      "Trial 478: LR=0.021886, SigmaM=1.9287, InitM=0.067293\n"
     ]
    },
    {
     "name": "stderr",
     "output_type": "stream",
     "text": [
      "Training Progress: 100%|██████████| 500/500 [00:04<00:00, 120.85it/s, loss=0.000008, elapsed time=0.01, total time=4.15] \n",
      "[I 2025-05-23 10:06:50,703] Trial 478 finished with value: 7.504252503266035e-06 and parameters: {'learning_rate': 0.02188564773571834, 'sigma_multiplier': 1.9287401609676347, 'initialization_multiplier': 0.06729349678400084}. Best is trial 77 with value: -0.00011012576492267536.\n"
     ]
    },
    {
     "name": "stdout",
     "output_type": "stream",
     "text": [
      "Training has not converged after 500 steps\n",
      "Trial 478 final loss: 0.00000750\n",
      "\n",
      "Trial 479: LR=0.013657, SigmaM=1.7129, InitM=0.089514\n"
     ]
    },
    {
     "name": "stderr",
     "output_type": "stream",
     "text": [
      "Training Progress: 100%|██████████| 500/500 [00:04<00:00, 122.24it/s, loss=-0.000028, elapsed time=0.01, total time=4.1] \n",
      "[I 2025-05-23 10:06:54,816] Trial 479 finished with value: -2.769857439055759e-05 and parameters: {'learning_rate': 0.013656895816977809, 'sigma_multiplier': 1.7128854327165262, 'initialization_multiplier': 0.08951398652289273}. Best is trial 77 with value: -0.00011012576492267536.\n"
     ]
    },
    {
     "name": "stdout",
     "output_type": "stream",
     "text": [
      "Training has not converged after 500 steps\n",
      "Trial 479 final loss: -0.00002770\n",
      "\n",
      "Trial 480: LR=0.019990, SigmaM=1.8470, InitM=0.079020\n"
     ]
    },
    {
     "name": "stderr",
     "output_type": "stream",
     "text": [
      "Training Progress: 100%|██████████| 500/500 [00:04<00:00, 121.44it/s, loss=0.000042, elapsed time=0.01, total time=4.13] \n",
      "[I 2025-05-23 10:06:58,956] Trial 480 finished with value: 4.1987963292202484e-05 and parameters: {'learning_rate': 0.019990080062995904, 'sigma_multiplier': 1.8470490242853659, 'initialization_multiplier': 0.07901962759370187}. Best is trial 77 with value: -0.00011012576492267536.\n"
     ]
    },
    {
     "name": "stdout",
     "output_type": "stream",
     "text": [
      "Training has not converged after 500 steps\n",
      "Trial 480 final loss: 0.00004199\n",
      "\n",
      "Trial 481: LR=0.017054, SigmaM=1.7456, InitM=0.046518\n"
     ]
    },
    {
     "name": "stderr",
     "output_type": "stream",
     "text": [
      "Training Progress: 100%|██████████| 500/500 [00:04<00:00, 120.65it/s, loss=0.000002, elapsed time=0.01, total time=4.15] \n",
      "[I 2025-05-23 10:07:03,122] Trial 481 finished with value: 1.6537406634577707e-06 and parameters: {'learning_rate': 0.01705434927173694, 'sigma_multiplier': 1.7455938156044937, 'initialization_multiplier': 0.046518017882407066}. Best is trial 77 with value: -0.00011012576492267536.\n"
     ]
    },
    {
     "name": "stdout",
     "output_type": "stream",
     "text": [
      "Training has not converged after 500 steps\n",
      "Trial 481 final loss: 0.00000165\n",
      "\n",
      "Trial 482: LR=0.012284, SigmaM=1.9030, InitM=0.119983\n"
     ]
    },
    {
     "name": "stderr",
     "output_type": "stream",
     "text": [
      "Training Progress: 100%|██████████| 500/500 [00:04<00:00, 122.63it/s, loss=-0.000055, elapsed time=0.01, total time=4.09]\n",
      "[I 2025-05-23 10:07:07,222] Trial 482 finished with value: -5.514246012870448e-05 and parameters: {'learning_rate': 0.012283890182342503, 'sigma_multiplier': 1.9030118910795104, 'initialization_multiplier': 0.11998310663366832}. Best is trial 77 with value: -0.00011012576492267536.\n"
     ]
    },
    {
     "name": "stdout",
     "output_type": "stream",
     "text": [
      "Training has not converged after 500 steps\n",
      "Trial 482 final loss: -0.00005514\n",
      "\n",
      "Trial 483: LR=0.008893, SigmaM=1.9994, InitM=0.063040\n"
     ]
    },
    {
     "name": "stderr",
     "output_type": "stream",
     "text": [
      "Training Progress: 100%|██████████| 500/500 [00:04<00:00, 124.25it/s, loss=0.000006, elapsed time=0.01, total time=4.03] \n",
      "[I 2025-05-23 10:07:11,267] Trial 483 finished with value: 5.613290897438479e-06 and parameters: {'learning_rate': 0.008893454018540017, 'sigma_multiplier': 1.9993898237319212, 'initialization_multiplier': 0.06304003662396893}. Best is trial 77 with value: -0.00011012576492267536.\n"
     ]
    },
    {
     "name": "stdout",
     "output_type": "stream",
     "text": [
      "Training has not converged after 500 steps\n",
      "Trial 483 final loss: 0.00000561\n",
      "\n",
      "Trial 484: LR=0.031121, SigmaM=1.5920, InitM=0.102980\n"
     ]
    },
    {
     "name": "stderr",
     "output_type": "stream",
     "text": [
      "Training Progress: 100%|██████████| 500/500 [00:04<00:00, 120.69it/s, loss=0.000015, elapsed time=0.01, total time=4.15] \n",
      "[I 2025-05-23 10:07:15,431] Trial 484 finished with value: 1.4565431824660262e-05 and parameters: {'learning_rate': 0.03112131653874837, 'sigma_multiplier': 1.5919632512942987, 'initialization_multiplier': 0.10297960682294142}. Best is trial 77 with value: -0.00011012576492267536.\n"
     ]
    },
    {
     "name": "stdout",
     "output_type": "stream",
     "text": [
      "Training has not converged after 500 steps\n",
      "Trial 484 final loss: 0.00001457\n",
      "\n",
      "Trial 485: LR=0.024530, SigmaM=1.6697, InitM=0.073374\n"
     ]
    },
    {
     "name": "stderr",
     "output_type": "stream",
     "text": [
      "Training Progress: 100%|██████████| 500/500 [00:04<00:00, 122.01it/s, loss=0.000012, elapsed time=0.01, total time=4.11] \n",
      "[I 2025-05-23 10:07:19,551] Trial 485 finished with value: 1.2108587155458056e-05 and parameters: {'learning_rate': 0.02452959147588031, 'sigma_multiplier': 1.6696812654711441, 'initialization_multiplier': 0.07337411415387136}. Best is trial 77 with value: -0.00011012576492267536.\n"
     ]
    },
    {
     "name": "stdout",
     "output_type": "stream",
     "text": [
      "Training has not converged after 500 steps\n",
      "Trial 485 final loss: 0.00001211\n",
      "\n",
      "Trial 486: LR=0.015121, SigmaM=1.8748, InitM=0.089448\n"
     ]
    },
    {
     "name": "stderr",
     "output_type": "stream",
     "text": [
      "Training Progress: 100%|██████████| 500/500 [00:04<00:00, 124.85it/s, loss=0.000099, elapsed time=0.01, total time=4.01] \n",
      "[I 2025-05-23 10:07:23,577] Trial 486 finished with value: 9.924627315584428e-05 and parameters: {'learning_rate': 0.015120841772213064, 'sigma_multiplier': 1.8747550493255438, 'initialization_multiplier': 0.08944773354329204}. Best is trial 77 with value: -0.00011012576492267536.\n"
     ]
    },
    {
     "name": "stdout",
     "output_type": "stream",
     "text": [
      "Training has not converged after 500 steps\n",
      "Trial 486 final loss: 0.00009925\n",
      "\n",
      "Trial 487: LR=0.000334, SigmaM=1.7758, InitM=0.057358\n"
     ]
    },
    {
     "name": "stderr",
     "output_type": "stream",
     "text": [
      "Training Progress: 100%|██████████| 500/500 [00:03<00:00, 129.86it/s, loss=0.038829, elapsed time=0.01, total time=3.86]\n",
      "[I 2025-05-23 10:07:27,449] Trial 487 finished with value: 0.03882910085207559 and parameters: {'learning_rate': 0.00033391188048712423, 'sigma_multiplier': 1.7758123807585469, 'initialization_multiplier': 0.0573576981434232}. Best is trial 77 with value: -0.00011012576492267536.\n"
     ]
    },
    {
     "name": "stdout",
     "output_type": "stream",
     "text": [
      "Training has not converged after 500 steps\n",
      "Trial 487 final loss: 0.03882910\n",
      "\n",
      "Trial 488: LR=0.010494, SigmaM=1.9519, InitM=0.146022\n"
     ]
    },
    {
     "name": "stderr",
     "output_type": "stream",
     "text": [
      "Training Progress: 100%|██████████| 500/500 [00:03<00:00, 125.14it/s, loss=-0.000010, elapsed time=0.01, total time=4.01]\n",
      "[I 2025-05-23 10:07:31,467] Trial 488 finished with value: -1.0481229389530979e-05 and parameters: {'learning_rate': 0.010494136834504822, 'sigma_multiplier': 1.951930504889387, 'initialization_multiplier': 0.14602230180928327}. Best is trial 77 with value: -0.00011012576492267536.\n"
     ]
    },
    {
     "name": "stdout",
     "output_type": "stream",
     "text": [
      "Training has not converged after 500 steps\n",
      "Trial 488 final loss: -0.00001048\n",
      "\n",
      "Trial 489: LR=0.018619, SigmaM=1.8199, InitM=0.122067\n"
     ]
    },
    {
     "name": "stderr",
     "output_type": "stream",
     "text": [
      "Training Progress: 100%|██████████| 500/500 [00:04<00:00, 124.19it/s, loss=-0.000038, elapsed time=0.01, total time=4.04]\n",
      "[I 2025-05-23 10:07:35,515] Trial 489 finished with value: -3.8268384363870396e-05 and parameters: {'learning_rate': 0.018619037839306296, 'sigma_multiplier': 1.8198763382185752, 'initialization_multiplier': 0.12206653533290758}. Best is trial 77 with value: -0.00011012576492267536.\n"
     ]
    },
    {
     "name": "stdout",
     "output_type": "stream",
     "text": [
      "Training has not converged after 500 steps\n",
      "Trial 489 final loss: -0.00003827\n",
      "\n",
      "Trial 490: LR=0.012770, SigmaM=1.6313, InitM=0.072926\n"
     ]
    },
    {
     "name": "stderr",
     "output_type": "stream",
     "text": [
      "Training Progress: 100%|██████████| 500/500 [00:04<00:00, 121.47it/s, loss=-0.000034, elapsed time=0.01, total time=4.13]\n",
      "[I 2025-05-23 10:07:39,652] Trial 490 finished with value: -3.426764470871728e-05 and parameters: {'learning_rate': 0.012770041085953986, 'sigma_multiplier': 1.6313058545968526, 'initialization_multiplier': 0.07292602946919144}. Best is trial 77 with value: -0.00011012576492267536.\n"
     ]
    },
    {
     "name": "stdout",
     "output_type": "stream",
     "text": [
      "Training has not converged after 500 steps\n",
      "Trial 490 final loss: -0.00003427\n",
      "\n",
      "Trial 491: LR=0.006951, SigmaM=1.9168, InitM=0.106523\n"
     ]
    },
    {
     "name": "stderr",
     "output_type": "stream",
     "text": [
      "Training Progress: 100%|██████████| 500/500 [00:04<00:00, 124.79it/s, loss=-0.000004, elapsed time=0.01, total time=4.02]\n",
      "[I 2025-05-23 10:07:43,680] Trial 491 finished with value: -4.448664021521956e-06 and parameters: {'learning_rate': 0.006951267344798191, 'sigma_multiplier': 1.9167643434337815, 'initialization_multiplier': 0.10652270387470235}. Best is trial 77 with value: -0.00011012576492267536.\n"
     ]
    },
    {
     "name": "stdout",
     "output_type": "stream",
     "text": [
      "Training has not converged after 500 steps\n",
      "Trial 491 final loss: -0.00000445\n",
      "\n",
      "Trial 492: LR=0.015826, SigmaM=1.7009, InitM=0.090220\n"
     ]
    },
    {
     "name": "stderr",
     "output_type": "stream",
     "text": [
      "Training Progress: 100%|██████████| 500/500 [00:04<00:00, 103.28it/s, loss=-0.000040, elapsed time=0.01, total time=4.85]\n",
      "[I 2025-05-23 10:07:48,541] Trial 492 finished with value: -3.9594598680903654e-05 and parameters: {'learning_rate': 0.01582564806003804, 'sigma_multiplier': 1.7008629019795796, 'initialization_multiplier': 0.09022011498793531}. Best is trial 77 with value: -0.00011012576492267536.\n"
     ]
    },
    {
     "name": "stdout",
     "output_type": "stream",
     "text": [
      "Training has not converged after 500 steps\n",
      "Trial 492 final loss: -0.00003959\n",
      "\n",
      "Trial 493: LR=0.010904, SigmaM=1.8650, InitM=0.080338\n"
     ]
    },
    {
     "name": "stderr",
     "output_type": "stream",
     "text": [
      "Training Progress: 100%|██████████| 500/500 [00:04<00:00, 124.45it/s, loss=0.000090, elapsed time=0.01, total time=4.03] \n",
      "[I 2025-05-23 10:07:52,581] Trial 493 finished with value: 9.000071447593465e-05 and parameters: {'learning_rate': 0.010903872378872711, 'sigma_multiplier': 1.8649985620798597, 'initialization_multiplier': 0.0803379088918199}. Best is trial 77 with value: -0.00011012576492267536.\n"
     ]
    },
    {
     "name": "stdout",
     "output_type": "stream",
     "text": [
      "Training has not converged after 500 steps\n",
      "Trial 493 final loss: 0.00009000\n",
      "\n",
      "Trial 494: LR=0.021817, SigmaM=1.7843, InitM=0.740727\n"
     ]
    },
    {
     "name": "stderr",
     "output_type": "stream",
     "text": [
      "Training Progress: 100%|██████████| 500/500 [00:04<00:00, 122.65it/s, loss=0.000019, elapsed time=0.01, total time=4.09] \n",
      "[I 2025-05-23 10:07:56,680] Trial 494 finished with value: 1.9467863455209484e-05 and parameters: {'learning_rate': 0.02181712787583945, 'sigma_multiplier': 1.7842958100187207, 'initialization_multiplier': 0.7407265307285097}. Best is trial 77 with value: -0.00011012576492267536.\n"
     ]
    },
    {
     "name": "stdout",
     "output_type": "stream",
     "text": [
      "Training has not converged after 500 steps\n",
      "Trial 494 final loss: 0.00001947\n",
      "\n",
      "Trial 495: LR=0.008330, SigmaM=1.7405, InitM=0.051353\n"
     ]
    },
    {
     "name": "stderr",
     "output_type": "stream",
     "text": [
      "Training Progress: 100%|██████████| 500/500 [00:04<00:00, 124.82it/s, loss=0.000170, elapsed time=0.01, total time=4.02] \n",
      "[I 2025-05-23 10:08:00,707] Trial 495 finished with value: 0.00016963082007665447 and parameters: {'learning_rate': 0.00833033832918302, 'sigma_multiplier': 1.740545268420614, 'initialization_multiplier': 0.051352824327015184}. Best is trial 77 with value: -0.00011012576492267536.\n"
     ]
    },
    {
     "name": "stdout",
     "output_type": "stream",
     "text": [
      "Training has not converged after 500 steps\n",
      "Trial 495 final loss: 0.00016963\n",
      "\n",
      "Trial 496: LR=0.013683, SigmaM=1.5527, InitM=0.361538\n"
     ]
    },
    {
     "name": "stderr",
     "output_type": "stream",
     "text": [
      "Training Progress: 100%|██████████| 500/500 [00:04<00:00, 120.26it/s, loss=0.000149, elapsed time=0.01, total time=4.17] \n",
      "[I 2025-05-23 10:08:04,885] Trial 496 finished with value: 0.0001485770348293198 and parameters: {'learning_rate': 0.013683338978242619, 'sigma_multiplier': 1.5527361866008602, 'initialization_multiplier': 0.3615377839875691}. Best is trial 77 with value: -0.00011012576492267536.\n"
     ]
    },
    {
     "name": "stdout",
     "output_type": "stream",
     "text": [
      "Training has not converged after 500 steps\n",
      "Trial 496 final loss: 0.00014858\n",
      "\n",
      "Trial 497: LR=0.016831, SigmaM=1.9628, InitM=0.063638\n"
     ]
    },
    {
     "name": "stderr",
     "output_type": "stream",
     "text": [
      "Training Progress: 100%|██████████| 500/500 [00:04<00:00, 124.27it/s, loss=0.000015, elapsed time=0.01, total time=4.03] \n",
      "[I 2025-05-23 10:08:08,928] Trial 497 finished with value: 1.4645333703644408e-05 and parameters: {'learning_rate': 0.016830543637255824, 'sigma_multiplier': 1.9627570685496092, 'initialization_multiplier': 0.06363778513805073}. Best is trial 77 with value: -0.00011012576492267536.\n"
     ]
    },
    {
     "name": "stdout",
     "output_type": "stream",
     "text": [
      "Training has not converged after 500 steps\n",
      "Trial 497 final loss: 0.00001465\n",
      "\n",
      "Trial 498: LR=0.009868, SigmaM=0.9708, InitM=0.167778\n"
     ]
    },
    {
     "name": "stderr",
     "output_type": "stream",
     "text": [
      "Training Progress: 100%|██████████| 500/500 [00:04<00:00, 109.44it/s, loss=0.000457, elapsed time=0.01, total time=4.58] \n",
      "[I 2025-05-23 10:08:13,517] Trial 498 finished with value: 0.00045724626956872923 and parameters: {'learning_rate': 0.009868482755421152, 'sigma_multiplier': 0.9707627969360724, 'initialization_multiplier': 0.167777970034576}. Best is trial 77 with value: -0.00011012576492267536.\n"
     ]
    },
    {
     "name": "stdout",
     "output_type": "stream",
     "text": [
      "Training has not converged after 500 steps\n",
      "Trial 498 final loss: 0.00045725\n",
      "\n",
      "Trial 499: LR=0.012033, SigmaM=1.8267, InitM=0.139802\n"
     ]
    },
    {
     "name": "stderr",
     "output_type": "stream",
     "text": [
      "Training Progress: 100%|██████████| 500/500 [00:04<00:00, 123.58it/s, loss=0.000202, elapsed time=0.01, total time=4.06] \n",
      "[I 2025-05-23 10:08:17,587] Trial 499 finished with value: 0.00020196886246293854 and parameters: {'learning_rate': 0.012032641924433204, 'sigma_multiplier': 1.8266971860037782, 'initialization_multiplier': 0.13980186233125744}. Best is trial 77 with value: -0.00011012576492267536.\n"
     ]
    },
    {
     "name": "stdout",
     "output_type": "stream",
     "text": [
      "Training has not converged after 500 steps\n",
      "Trial 499 final loss: 0.00020197\n",
      "\n",
      "Trial 500: LR=0.024473, SigmaM=1.9002, InitM=0.111342\n"
     ]
    },
    {
     "name": "stderr",
     "output_type": "stream",
     "text": [
      "Training Progress: 100%|██████████| 500/500 [00:04<00:00, 123.38it/s, loss=-0.000020, elapsed time=0.01, total time=4.06]\n",
      "[I 2025-05-23 10:08:21,661] Trial 500 finished with value: -1.981965277752218e-05 and parameters: {'learning_rate': 0.024473274026005073, 'sigma_multiplier': 1.900187456698065, 'initialization_multiplier': 0.11134159131782964}. Best is trial 77 with value: -0.00011012576492267536.\n"
     ]
    },
    {
     "name": "stdout",
     "output_type": "stream",
     "text": [
      "Training has not converged after 500 steps\n",
      "Trial 500 final loss: -0.00001982\n",
      "\n",
      "Trial 501: LR=0.018951, SigmaM=1.6720, InitM=0.006889\n"
     ]
    },
    {
     "name": "stderr",
     "output_type": "stream",
     "text": [
      "Training Progress: 100%|██████████| 500/500 [00:04<00:00, 122.62it/s, loss=0.000074, elapsed time=0.01, total time=4.09] \n",
      "[I 2025-05-23 10:08:25,759] Trial 501 finished with value: 7.429217709627398e-05 and parameters: {'learning_rate': 0.01895137686783091, 'sigma_multiplier': 1.671980431445467, 'initialization_multiplier': 0.006889151799074594}. Best is trial 77 with value: -0.00011012576492267536.\n"
     ]
    },
    {
     "name": "stdout",
     "output_type": "stream",
     "text": [
      "Training has not converged after 500 steps\n",
      "Trial 501 final loss: 0.00007429\n",
      "\n",
      "Trial 502: LR=0.014562, SigmaM=1.8524, InitM=0.038863\n"
     ]
    },
    {
     "name": "stderr",
     "output_type": "stream",
     "text": [
      "Training Progress: 100%|██████████| 500/500 [00:04<00:00, 124.08it/s, loss=0.000046, elapsed time=0.01, total time=4.04] \n",
      "[I 2025-05-23 10:08:29,811] Trial 502 finished with value: 4.566123014608819e-05 and parameters: {'learning_rate': 0.014562258802596859, 'sigma_multiplier': 1.8524327157578098, 'initialization_multiplier': 0.038863340607527004}. Best is trial 77 with value: -0.00011012576492267536.\n"
     ]
    },
    {
     "name": "stdout",
     "output_type": "stream",
     "text": [
      "Training has not converged after 500 steps\n",
      "Trial 502 final loss: 0.00004566\n",
      "\n",
      "Trial 503: LR=0.011770, SigmaM=1.9293, InitM=0.095459\n"
     ]
    },
    {
     "name": "stderr",
     "output_type": "stream",
     "text": [
      "Training Progress: 100%|██████████| 500/500 [00:04<00:00, 124.62it/s, loss=-0.000040, elapsed time=0.01, total time=4.02]\n",
      "[I 2025-05-23 10:08:33,844] Trial 503 finished with value: -3.9793962807220727e-05 and parameters: {'learning_rate': 0.011769835139739643, 'sigma_multiplier': 1.9293236233984312, 'initialization_multiplier': 0.095458771242342}. Best is trial 77 with value: -0.00011012576492267536.\n"
     ]
    },
    {
     "name": "stdout",
     "output_type": "stream",
     "text": [
      "Training has not converged after 500 steps\n",
      "Trial 503 final loss: -0.00003979\n",
      "\n",
      "Trial 504: LR=0.035141, SigmaM=1.7872, InitM=0.074144\n"
     ]
    },
    {
     "name": "stderr",
     "output_type": "stream",
     "text": [
      "Training Progress: 100%|██████████| 500/500 [00:04<00:00, 123.81it/s, loss=-0.000005, elapsed time=0.01, total time=4.05]\n",
      "[I 2025-05-23 10:08:37,904] Trial 504 finished with value: -5.368679276070684e-06 and parameters: {'learning_rate': 0.035141239739528485, 'sigma_multiplier': 1.7872463772969758, 'initialization_multiplier': 0.07414440781972301}. Best is trial 77 with value: -0.00011012576492267536.\n"
     ]
    },
    {
     "name": "stdout",
     "output_type": "stream",
     "text": [
      "Training has not converged after 500 steps\n",
      "Trial 504 final loss: -0.00000537\n",
      "\n",
      "Trial 505: LR=0.017448, SigmaM=1.7237, InitM=0.056416\n"
     ]
    },
    {
     "name": "stderr",
     "output_type": "stream",
     "text": [
      "Training Progress: 100%|██████████| 500/500 [00:04<00:00, 123.56it/s, loss=-0.000026, elapsed time=0.01, total time=4.06]\n",
      "[I 2025-05-23 10:08:41,972] Trial 505 finished with value: -2.595457886978568e-05 and parameters: {'learning_rate': 0.017448396633920497, 'sigma_multiplier': 1.7236952796416047, 'initialization_multiplier': 0.05641597467884604}. Best is trial 77 with value: -0.00011012576492267536.\n"
     ]
    },
    {
     "name": "stdout",
     "output_type": "stream",
     "text": [
      "Training has not converged after 500 steps\n",
      "Trial 505 final loss: -0.00002595\n",
      "\n",
      "Trial 506: LR=0.027967, SigmaM=1.9587, InitM=0.084309\n"
     ]
    },
    {
     "name": "stderr",
     "output_type": "stream",
     "text": [
      "Training Progress: 100%|██████████| 500/500 [00:04<00:00, 124.91it/s, loss=0.000125, elapsed time=0.01, total time=4.01] \n",
      "[I 2025-05-23 10:08:45,996] Trial 506 finished with value: 0.00012532796607317865 and parameters: {'learning_rate': 0.027967451066780773, 'sigma_multiplier': 1.958740259093107, 'initialization_multiplier': 0.08430878807780523}. Best is trial 77 with value: -0.00011012576492267536.\n"
     ]
    },
    {
     "name": "stdout",
     "output_type": "stream",
     "text": [
      "Training has not converged after 500 steps\n",
      "Trial 506 final loss: 0.00012533\n",
      "\n",
      "Trial 507: LR=0.014229, SigmaM=1.9977, InitM=0.100874\n"
     ]
    },
    {
     "name": "stderr",
     "output_type": "stream",
     "text": [
      "Training Progress: 100%|██████████| 500/500 [00:03<00:00, 125.92it/s, loss=0.000014, elapsed time=0.01, total time=3.98] \n",
      "[I 2025-05-23 10:08:49,988] Trial 507 finished with value: 1.4359427157637218e-05 and parameters: {'learning_rate': 0.014228606349664703, 'sigma_multiplier': 1.9976750194205837, 'initialization_multiplier': 0.10087362910244048}. Best is trial 77 with value: -0.00011012576492267536.\n"
     ]
    },
    {
     "name": "stdout",
     "output_type": "stream",
     "text": [
      "Training has not converged after 500 steps\n",
      "Trial 507 final loss: 0.00001436\n",
      "\n",
      "Trial 508: LR=0.009248, SigmaM=1.8181, InitM=0.125677\n"
     ]
    },
    {
     "name": "stderr",
     "output_type": "stream",
     "text": [
      "Training Progress: 100%|██████████| 500/500 [00:04<00:00, 124.96it/s, loss=-0.000039, elapsed time=0.01, total time=4.01]\n",
      "[I 2025-05-23 10:08:54,013] Trial 508 finished with value: -3.920923578194902e-05 and parameters: {'learning_rate': 0.009247773674429015, 'sigma_multiplier': 1.8180702595624278, 'initialization_multiplier': 0.12567696686865115}. Best is trial 77 with value: -0.00011012576492267536.\n"
     ]
    },
    {
     "name": "stdout",
     "output_type": "stream",
     "text": [
      "Training has not converged after 500 steps\n",
      "Trial 508 final loss: -0.00003921\n",
      "\n",
      "Trial 509: LR=0.000144, SigmaM=1.8773, InitM=0.067948\n"
     ]
    },
    {
     "name": "stderr",
     "output_type": "stream",
     "text": [
      "Training Progress: 100%|██████████| 500/500 [00:03<00:00, 131.35it/s, loss=0.065610, elapsed time=0.01, total time=3.82]\n",
      "[I 2025-05-23 10:08:57,842] Trial 509 finished with value: 0.06561003213686699 and parameters: {'learning_rate': 0.00014442140468292282, 'sigma_multiplier': 1.8773306947756765, 'initialization_multiplier': 0.06794758317081857}. Best is trial 77 with value: -0.00011012576492267536.\n"
     ]
    },
    {
     "name": "stdout",
     "output_type": "stream",
     "text": [
      "Training has not converged after 500 steps\n",
      "Trial 509 final loss: 0.06561003\n",
      "\n",
      "Trial 510: LR=0.007578, SigmaM=1.7543, InitM=0.088017\n"
     ]
    },
    {
     "name": "stderr",
     "output_type": "stream",
     "text": [
      "Training Progress: 100%|██████████| 500/500 [00:04<00:00, 123.18it/s, loss=-0.000049, elapsed time=0.01, total time=4.07]\n",
      "[I 2025-05-23 10:09:01,923] Trial 510 finished with value: -4.8696595865201774e-05 and parameters: {'learning_rate': 0.00757791800815659, 'sigma_multiplier': 1.754252389554654, 'initialization_multiplier': 0.0880166878501791}. Best is trial 77 with value: -0.00011012576492267536.\n"
     ]
    },
    {
     "name": "stdout",
     "output_type": "stream",
     "text": [
      "Training has not converged after 500 steps\n",
      "Trial 510 final loss: -0.00004870\n",
      "\n",
      "Trial 511: LR=0.021831, SigmaM=1.6224, InitM=0.114467\n"
     ]
    },
    {
     "name": "stderr",
     "output_type": "stream",
     "text": [
      "Training Progress: 100%|██████████| 500/500 [00:04<00:00, 122.11it/s, loss=0.000059, elapsed time=0.01, total time=4.1]  \n",
      "[I 2025-05-23 10:09:06,038] Trial 511 finished with value: 5.909095692353587e-05 and parameters: {'learning_rate': 0.021831489287581128, 'sigma_multiplier': 1.6224397298306714, 'initialization_multiplier': 0.11446694538031946}. Best is trial 77 with value: -0.00011012576492267536.\n"
     ]
    },
    {
     "name": "stdout",
     "output_type": "stream",
     "text": [
      "Training has not converged after 500 steps\n",
      "Trial 511 final loss: 0.00005909\n",
      "\n",
      "Trial 512: LR=0.010971, SigmaM=1.9256, InitM=0.059497\n"
     ]
    },
    {
     "name": "stderr",
     "output_type": "stream",
     "text": [
      "Training Progress: 100%|██████████| 500/500 [00:03<00:00, 125.09it/s, loss=-0.000043, elapsed time=0.01, total time=4.01]\n",
      "[I 2025-05-23 10:09:10,058] Trial 512 finished with value: -4.28835587178222e-05 and parameters: {'learning_rate': 0.010971207857933213, 'sigma_multiplier': 1.9255596992745954, 'initialization_multiplier': 0.05949673116773338}. Best is trial 77 with value: -0.00011012576492267536.\n"
     ]
    },
    {
     "name": "stdout",
     "output_type": "stream",
     "text": [
      "Training has not converged after 500 steps\n",
      "Trial 512 final loss: -0.00004288\n",
      "\n",
      "Trial 513: LR=0.015241, SigmaM=1.6888, InitM=0.076538\n"
     ]
    },
    {
     "name": "stderr",
     "output_type": "stream",
     "text": [
      "Training Progress: 100%|██████████| 500/500 [00:04<00:00, 123.61it/s, loss=0.000180, elapsed time=0.01, total time=4.05] \n",
      "[I 2025-05-23 10:09:14,122] Trial 513 finished with value: 0.0001800184433507512 and parameters: {'learning_rate': 0.015240707151343166, 'sigma_multiplier': 1.688846447687463, 'initialization_multiplier': 0.07653769515562855}. Best is trial 77 with value: -0.00011012576492267536.\n"
     ]
    },
    {
     "name": "stdout",
     "output_type": "stream",
     "text": [
      "Training has not converged after 500 steps\n",
      "Trial 513 final loss: 0.00018002\n",
      "\n",
      "Trial 514: LR=0.019040, SigmaM=1.7673, InitM=0.153586\n"
     ]
    },
    {
     "name": "stderr",
     "output_type": "stream",
     "text": [
      "Training Progress: 100%|██████████| 500/500 [00:04<00:00, 124.42it/s, loss=0.000086, elapsed time=0.01, total time=4.03] \n",
      "[I 2025-05-23 10:09:18,162] Trial 514 finished with value: 8.614876899421291e-05 and parameters: {'learning_rate': 0.01904014594705382, 'sigma_multiplier': 1.767296851998764, 'initialization_multiplier': 0.15358559517620735}. Best is trial 77 with value: -0.00011012576492267536.\n"
     ]
    },
    {
     "name": "stdout",
     "output_type": "stream",
     "text": [
      "Training has not converged after 500 steps\n",
      "Trial 514 final loss: 0.00008615\n",
      "\n",
      "Trial 515: LR=0.012496, SigmaM=1.8404, InitM=0.047435\n"
     ]
    },
    {
     "name": "stderr",
     "output_type": "stream",
     "text": [
      "Training Progress: 100%|██████████| 500/500 [00:04<00:00, 123.53it/s, loss=-0.000012, elapsed time=0.01, total time=4.06]\n",
      "[I 2025-05-23 10:09:22,231] Trial 515 finished with value: -1.181914990279441e-05 and parameters: {'learning_rate': 0.012496475607538082, 'sigma_multiplier': 1.8403988186527152, 'initialization_multiplier': 0.047435435296212115}. Best is trial 77 with value: -0.00011012576492267536.\n"
     ]
    },
    {
     "name": "stdout",
     "output_type": "stream",
     "text": [
      "Training has not converged after 500 steps\n",
      "Trial 515 final loss: -0.00001182\n",
      "\n",
      "Trial 516: LR=0.002831, SigmaM=1.8872, InitM=0.096605\n"
     ]
    },
    {
     "name": "stderr",
     "output_type": "stream",
     "text": [
      "Training Progress: 100%|██████████| 500/500 [00:04<00:00, 123.26it/s, loss=0.000090, elapsed time=0.01, total time=4.07] \n",
      "[I 2025-05-23 10:09:26,311] Trial 516 finished with value: 8.976292103531038e-05 and parameters: {'learning_rate': 0.002830881631070469, 'sigma_multiplier': 1.8872263584014488, 'initialization_multiplier': 0.09660476582421887}. Best is trial 77 with value: -0.00011012576492267536.\n"
     ]
    },
    {
     "name": "stdout",
     "output_type": "stream",
     "text": [
      "Training has not converged after 500 steps\n",
      "Trial 516 final loss: 0.00008976\n",
      "\n",
      "Trial 517: LR=0.016812, SigmaM=1.9574, InitM=0.067096\n"
     ]
    },
    {
     "name": "stderr",
     "output_type": "stream",
     "text": [
      "Training Progress: 100%|██████████| 500/500 [00:04<00:00, 124.46it/s, loss=-0.000029, elapsed time=0.01, total time=4.03]\n",
      "[I 2025-05-23 10:09:30,350] Trial 517 finished with value: -2.8512278660409235e-05 and parameters: {'learning_rate': 0.016811894761164223, 'sigma_multiplier': 1.957370688928657, 'initialization_multiplier': 0.06709552765629787}. Best is trial 77 with value: -0.00011012576492267536.\n"
     ]
    },
    {
     "name": "stdout",
     "output_type": "stream",
     "text": [
      "Training has not converged after 500 steps\n",
      "Trial 517 final loss: -0.00002851\n",
      "\n",
      "Trial 518: LR=0.002248, SigmaM=1.7232, InitM=0.080904\n"
     ]
    },
    {
     "name": "stderr",
     "output_type": "stream",
     "text": [
      "Training Progress: 100%|██████████| 500/500 [00:04<00:00, 122.63it/s, loss=0.000007, elapsed time=0.01, total time=4.09] \n",
      "[I 2025-05-23 10:09:34,448] Trial 518 finished with value: 6.861887227221869e-06 and parameters: {'learning_rate': 0.0022475450521049264, 'sigma_multiplier': 1.7231726829884237, 'initialization_multiplier': 0.08090350965416533}. Best is trial 77 with value: -0.00011012576492267536.\n"
     ]
    },
    {
     "name": "stdout",
     "output_type": "stream",
     "text": [
      "Training has not converged after 500 steps\n",
      "Trial 518 final loss: 0.00000686\n",
      "\n",
      "Trial 519: LR=0.009682, SigmaM=1.8116, InitM=0.130053\n"
     ]
    },
    {
     "name": "stderr",
     "output_type": "stream",
     "text": [
      "Training Progress: 100%|██████████| 500/500 [00:04<00:00, 124.23it/s, loss=-0.000003, elapsed time=0.01, total time=4.04]\n",
      "[I 2025-05-23 10:09:38,495] Trial 519 finished with value: -3.4321403701023083e-06 and parameters: {'learning_rate': 0.009681734256402891, 'sigma_multiplier': 1.8116287870281682, 'initialization_multiplier': 0.130053095118437}. Best is trial 77 with value: -0.00011012576492267536.\n"
     ]
    },
    {
     "name": "stdout",
     "output_type": "stream",
     "text": [
      "Training has not converged after 500 steps\n",
      "Trial 519 final loss: -0.00000343\n",
      "\n",
      "Trial 520: LR=0.001586, SigmaM=1.6497, InitM=0.098109\n"
     ]
    },
    {
     "name": "stderr",
     "output_type": "stream",
     "text": [
      "Training Progress: 100%|██████████| 500/500 [00:04<00:00, 122.26it/s, loss=0.000356, elapsed time=0.01, total time=4.1] \n",
      "[I 2025-05-23 10:09:42,606] Trial 520 finished with value: 0.00035577106472538397 and parameters: {'learning_rate': 0.0015861544527222297, 'sigma_multiplier': 1.6496717536352088, 'initialization_multiplier': 0.09810901958401032}. Best is trial 77 with value: -0.00011012576492267536.\n"
     ]
    },
    {
     "name": "stdout",
     "output_type": "stream",
     "text": [
      "Training has not converged after 500 steps\n",
      "Trial 520 final loss: 0.00035577\n",
      "\n",
      "Trial 521: LR=0.013524, SigmaM=1.9122, InitM=0.111204\n"
     ]
    },
    {
     "name": "stderr",
     "output_type": "stream",
     "text": [
      "Training Progress: 100%|██████████| 500/500 [00:04<00:00, 124.53it/s, loss=0.000019, elapsed time=0.01, total time=4.02] \n",
      "[I 2025-05-23 10:09:46,642] Trial 521 finished with value: 1.9201620873205405e-05 and parameters: {'learning_rate': 0.013523709954168656, 'sigma_multiplier': 1.9121955755715065, 'initialization_multiplier': 0.11120354560262671}. Best is trial 77 with value: -0.00011012576492267536.\n"
     ]
    },
    {
     "name": "stdout",
     "output_type": "stream",
     "text": [
      "Training has not converged after 500 steps\n",
      "Trial 521 final loss: 0.00001920\n",
      "\n",
      "Trial 522: LR=0.020608, SigmaM=0.6241, InitM=0.054686\n"
     ]
    },
    {
     "name": "stderr",
     "output_type": "stream",
     "text": [
      "Training Progress: 100%|██████████| 500/500 [00:05<00:00, 96.25it/s, loss=0.000874, elapsed time=0.01, total time=5.2]  \n",
      "[I 2025-05-23 10:09:51,858] Trial 522 finished with value: 0.000874364403378503 and parameters: {'learning_rate': 0.02060838929625431, 'sigma_multiplier': 0.6241364448748856, 'initialization_multiplier': 0.05468619906602413}. Best is trial 77 with value: -0.00011012576492267536.\n"
     ]
    },
    {
     "name": "stdout",
     "output_type": "stream",
     "text": [
      "Training has not converged after 500 steps\n",
      "Trial 522 final loss: 0.00087436\n",
      "\n",
      "Trial 523: LR=0.006955, SigmaM=1.5939, InitM=0.069350\n"
     ]
    },
    {
     "name": "stderr",
     "output_type": "stream",
     "text": [
      "Training Progress: 100%|██████████| 500/500 [00:04<00:00, 121.46it/s, loss=-0.000050, elapsed time=0.01, total time=4.13]\n",
      "[I 2025-05-23 10:09:55,996] Trial 523 finished with value: -4.9974898756604526e-05 and parameters: {'learning_rate': 0.006955447821765081, 'sigma_multiplier': 1.5938893899246482, 'initialization_multiplier': 0.0693500383014733}. Best is trial 77 with value: -0.00011012576492267536.\n"
     ]
    },
    {
     "name": "stdout",
     "output_type": "stream",
     "text": [
      "Training has not converged after 500 steps\n",
      "Trial 523 final loss: -0.00004997\n",
      "\n",
      "Trial 524: LR=0.011026, SigmaM=1.9966, InitM=0.093326\n"
     ]
    },
    {
     "name": "stderr",
     "output_type": "stream",
     "text": [
      "Training Progress: 100%|██████████| 500/500 [00:04<00:00, 124.51it/s, loss=-0.000016, elapsed time=0.01, total time=4.03]\n",
      "[I 2025-05-23 10:10:00,034] Trial 524 finished with value: -1.556391999577018e-05 and parameters: {'learning_rate': 0.01102564411467667, 'sigma_multiplier': 1.9965566159259465, 'initialization_multiplier': 0.09332569672031112}. Best is trial 77 with value: -0.00011012576492267536.\n"
     ]
    },
    {
     "name": "stdout",
     "output_type": "stream",
     "text": [
      "Training has not converged after 500 steps\n",
      "Trial 524 final loss: -0.00001556\n",
      "\n",
      "Trial 525: LR=0.024456, SigmaM=1.5205, InitM=0.082521\n"
     ]
    },
    {
     "name": "stderr",
     "output_type": "stream",
     "text": [
      "Training Progress: 100%|██████████| 500/500 [00:04<00:00, 119.69it/s, loss=0.000100, elapsed time=0.01, total time=4.19] \n",
      "[I 2025-05-23 10:10:04,232] Trial 525 finished with value: 9.989047769636171e-05 and parameters: {'learning_rate': 0.024456302455697767, 'sigma_multiplier': 1.5204773377109164, 'initialization_multiplier': 0.08252133671590198}. Best is trial 77 with value: -0.00011012576492267536.\n"
     ]
    },
    {
     "name": "stdout",
     "output_type": "stream",
     "text": [
      "Training has not converged after 500 steps\n",
      "Trial 525 final loss: 0.00009989\n",
      "\n",
      "Trial 526: LR=0.008488, SigmaM=1.7609, InitM=0.409601\n"
     ]
    },
    {
     "name": "stderr",
     "output_type": "stream",
     "text": [
      "Training Progress: 100%|██████████| 500/500 [00:04<00:00, 122.24it/s, loss=0.000137, elapsed time=0.01, total time=4.1]  \n",
      "[I 2025-05-23 10:10:08,346] Trial 526 finished with value: 0.00013666082374821047 and parameters: {'learning_rate': 0.008488058953609098, 'sigma_multiplier': 1.7608566207246237, 'initialization_multiplier': 0.4096012940912784}. Best is trial 77 with value: -0.00011012576492267536.\n"
     ]
    },
    {
     "name": "stdout",
     "output_type": "stream",
     "text": [
      "Training has not converged after 500 steps\n",
      "Trial 526 final loss: 0.00013666\n",
      "\n",
      "Trial 527: LR=0.016035, SigmaM=1.8593, InitM=0.117896\n"
     ]
    },
    {
     "name": "stderr",
     "output_type": "stream",
     "text": [
      "Training Progress: 100%|██████████| 500/500 [00:03<00:00, 125.52it/s, loss=0.000215, elapsed time=0.01, total time=3.99] \n",
      "[I 2025-05-23 10:10:12,352] Trial 527 finished with value: 0.00021457975010883234 and parameters: {'learning_rate': 0.016035276492638736, 'sigma_multiplier': 1.8592773571172392, 'initialization_multiplier': 0.11789575477167082}. Best is trial 77 with value: -0.00011012576492267536.\n"
     ]
    },
    {
     "name": "stdout",
     "output_type": "stream",
     "text": [
      "Training has not converged after 500 steps\n",
      "Trial 527 final loss: 0.00021458\n",
      "\n",
      "Trial 528: LR=0.042477, SigmaM=1.8037, InitM=0.139403\n"
     ]
    },
    {
     "name": "stderr",
     "output_type": "stream",
     "text": [
      "Training Progress: 100%|██████████| 500/500 [00:04<00:00, 123.00it/s, loss=-0.000006, elapsed time=0.01, total time=4.08]\n",
      "[I 2025-05-23 10:10:16,439] Trial 528 finished with value: -6.48622747175695e-06 and parameters: {'learning_rate': 0.04247684529796915, 'sigma_multiplier': 1.8037317241340587, 'initialization_multiplier': 0.1394034279273667}. Best is trial 77 with value: -0.00011012576492267536.\n"
     ]
    },
    {
     "name": "stdout",
     "output_type": "stream",
     "text": [
      "Training has not converged after 500 steps\n",
      "Trial 528 final loss: -0.00000649\n",
      "\n",
      "Trial 529: LR=0.014676, SigmaM=1.9353, InitM=0.062696\n"
     ]
    },
    {
     "name": "stderr",
     "output_type": "stream",
     "text": [
      "Training Progress: 100%|██████████| 500/500 [00:03<00:00, 125.37it/s, loss=-0.000007, elapsed time=0.01, total time=4]   \n",
      "[I 2025-05-23 10:10:20,448] Trial 529 finished with value: -7.071536830323576e-06 and parameters: {'learning_rate': 0.01467595911528706, 'sigma_multiplier': 1.9353297258862987, 'initialization_multiplier': 0.06269618771617505}. Best is trial 77 with value: -0.00011012576492267536.\n"
     ]
    },
    {
     "name": "stdout",
     "output_type": "stream",
     "text": [
      "Training has not converged after 500 steps\n",
      "Trial 529 final loss: -0.00000707\n",
      "\n",
      "Trial 530: LR=0.012355, SigmaM=1.7043, InitM=0.076560\n"
     ]
    },
    {
     "name": "stderr",
     "output_type": "stream",
     "text": [
      "Training Progress: 100%|██████████| 500/500 [00:04<00:00, 122.83it/s, loss=0.000018, elapsed time=0.01, total time=4.08] \n",
      "[I 2025-05-23 10:10:24,541] Trial 530 finished with value: 1.824909624320281e-05 and parameters: {'learning_rate': 0.01235483653534142, 'sigma_multiplier': 1.7043431871247725, 'initialization_multiplier': 0.0765603856586852}. Best is trial 77 with value: -0.00011012576492267536.\n"
     ]
    },
    {
     "name": "stdout",
     "output_type": "stream",
     "text": [
      "Training has not converged after 500 steps\n",
      "Trial 530 final loss: 0.00001825\n",
      "\n",
      "Trial 531: LR=0.018688, SigmaM=0.1732, InitM=0.169907\n"
     ]
    },
    {
     "name": "stderr",
     "output_type": "stream",
     "text": [
      "Training Progress: 100%|██████████| 500/500 [00:05<00:00, 85.68it/s, loss=0.000037, elapsed time=0.01, total time=5.85] \n",
      "[I 2025-05-23 10:10:30,398] Trial 531 finished with value: 3.6516425782355954e-05 and parameters: {'learning_rate': 0.018688335593025726, 'sigma_multiplier': 0.1732101970263651, 'initialization_multiplier': 0.16990747051743438}. Best is trial 77 with value: -0.00011012576492267536.\n"
     ]
    },
    {
     "name": "stdout",
     "output_type": "stream",
     "text": [
      "Training has not converged after 500 steps\n",
      "Trial 531 final loss: 0.00003652\n",
      "\n",
      "Trial 532: LR=0.006096, SigmaM=1.8904, InitM=0.025536\n"
     ]
    },
    {
     "name": "stderr",
     "output_type": "stream",
     "text": [
      "Training Progress: 100%|██████████| 500/500 [00:04<00:00, 124.04it/s, loss=0.000029, elapsed time=0.01, total time=4.04] \n",
      "[I 2025-05-23 10:10:34,451] Trial 532 finished with value: 2.9279604693482483e-05 and parameters: {'learning_rate': 0.006095935367033245, 'sigma_multiplier': 1.890395813532306, 'initialization_multiplier': 0.025536406019716965}. Best is trial 77 with value: -0.00011012576492267536.\n"
     ]
    },
    {
     "name": "stdout",
     "output_type": "stream",
     "text": [
      "Training has not converged after 500 steps\n",
      "Trial 532 final loss: 0.00002928\n",
      "\n",
      "Trial 533: LR=0.010105, SigmaM=1.9619, InitM=0.105433\n"
     ]
    },
    {
     "name": "stderr",
     "output_type": "stream",
     "text": [
      "Training Progress: 100%|██████████| 500/500 [00:04<00:00, 124.05it/s, loss=-0.000048, elapsed time=0.01, total time=4.04]\n",
      "[I 2025-05-23 10:10:38,504] Trial 533 finished with value: -4.830986386634166e-05 and parameters: {'learning_rate': 0.01010467909885865, 'sigma_multiplier': 1.961919832055438, 'initialization_multiplier': 0.1054334143333674}. Best is trial 77 with value: -0.00011012576492267536.\n"
     ]
    },
    {
     "name": "stdout",
     "output_type": "stream",
     "text": [
      "Training has not converged after 500 steps\n",
      "Trial 533 final loss: -0.00004831\n",
      "\n",
      "Trial 534: LR=0.028211, SigmaM=1.8423, InitM=0.090361\n"
     ]
    },
    {
     "name": "stderr",
     "output_type": "stream",
     "text": [
      "Training Progress: 100%|██████████| 500/500 [00:04<00:00, 121.34it/s, loss=-0.000014, elapsed time=0.01, total time=4.14]\n",
      "[I 2025-05-23 10:10:42,654] Trial 534 finished with value: -1.4419956385695308e-05 and parameters: {'learning_rate': 0.028211304872298275, 'sigma_multiplier': 1.8422695608075983, 'initialization_multiplier': 0.09036131524036674}. Best is trial 77 with value: -0.00011012576492267536.\n"
     ]
    },
    {
     "name": "stdout",
     "output_type": "stream",
     "text": [
      "Training has not converged after 500 steps\n",
      "Trial 534 final loss: -0.00001442\n",
      "\n",
      "Trial 535: LR=0.013474, SigmaM=1.6726, InitM=0.053686\n"
     ]
    },
    {
     "name": "stderr",
     "output_type": "stream",
     "text": [
      "Training Progress: 100%|██████████| 500/500 [00:04<00:00, 122.16it/s, loss=0.000022, elapsed time=0.01, total time=4.1]  \n",
      "[I 2025-05-23 10:10:46,769] Trial 535 finished with value: 2.238496593144409e-05 and parameters: {'learning_rate': 0.013473705294429258, 'sigma_multiplier': 1.6726099887438068, 'initialization_multiplier': 0.05368599563295606}. Best is trial 77 with value: -0.00011012576492267536.\n"
     ]
    },
    {
     "name": "stdout",
     "output_type": "stream",
     "text": [
      "Training has not converged after 500 steps\n",
      "Trial 535 final loss: 0.00002238\n",
      "\n",
      "Trial 536: LR=0.021043, SigmaM=1.7852, InitM=0.046760\n"
     ]
    },
    {
     "name": "stderr",
     "output_type": "stream",
     "text": [
      "Training Progress: 100%|██████████| 500/500 [00:04<00:00, 124.37it/s, loss=-0.000035, elapsed time=0.01, total time=4.03]\n",
      "[I 2025-05-23 10:10:50,811] Trial 536 finished with value: -3.511124927553577e-05 and parameters: {'learning_rate': 0.021042812697492832, 'sigma_multiplier': 1.785213664495555, 'initialization_multiplier': 0.04676000819780954}. Best is trial 77 with value: -0.00011012576492267536.\n"
     ]
    },
    {
     "name": "stdout",
     "output_type": "stream",
     "text": [
      "Training has not converged after 500 steps\n",
      "Trial 536 final loss: -0.00003511\n",
      "\n",
      "Trial 537: LR=0.016846, SigmaM=0.3506, InitM=0.266788\n"
     ]
    },
    {
     "name": "stderr",
     "output_type": "stream",
     "text": [
      "Training Progress: 100%|██████████| 500/500 [00:05<00:00, 84.06it/s, loss=0.001303, elapsed time=0.01, total time=5.96]\n",
      "[I 2025-05-23 10:10:56,780] Trial 537 finished with value: 0.0013027868470096003 and parameters: {'learning_rate': 0.01684557315442245, 'sigma_multiplier': 0.3506261522380938, 'initialization_multiplier': 0.2667877098775198}. Best is trial 77 with value: -0.00011012576492267536.\n"
     ]
    },
    {
     "name": "stdout",
     "output_type": "stream",
     "text": [
      "Training has not converged after 500 steps\n",
      "Trial 537 final loss: 0.00130279\n",
      "\n",
      "Trial 538: LR=0.011937, SigmaM=1.7301, InitM=0.071856\n"
     ]
    },
    {
     "name": "stderr",
     "output_type": "stream",
     "text": [
      "Training Progress: 100%|██████████| 500/500 [00:04<00:00, 123.81it/s, loss=0.000083, elapsed time=0.01, total time=4.05] \n",
      "[I 2025-05-23 10:11:00,840] Trial 538 finished with value: 8.285528490309769e-05 and parameters: {'learning_rate': 0.011937375470827728, 'sigma_multiplier': 1.7300923245827893, 'initialization_multiplier': 0.07185618037648935}. Best is trial 77 with value: -0.00011012576492267536.\n"
     ]
    },
    {
     "name": "stdout",
     "output_type": "stream",
     "text": [
      "Training has not converged after 500 steps\n",
      "Trial 538 final loss: 0.00008286\n",
      "\n",
      "Trial 539: LR=0.008385, SigmaM=1.9109, InitM=0.125512\n"
     ]
    },
    {
     "name": "stderr",
     "output_type": "stream",
     "text": [
      "Training Progress: 100%|██████████| 500/500 [00:03<00:00, 125.08it/s, loss=-0.000014, elapsed time=0.01, total time=4.01]\n",
      "[I 2025-05-23 10:11:04,859] Trial 539 finished with value: -1.4298083120594117e-05 and parameters: {'learning_rate': 0.008384558966098752, 'sigma_multiplier': 1.9109481085331281, 'initialization_multiplier': 0.1255122193988385}. Best is trial 77 with value: -0.00011012576492267536.\n"
     ]
    },
    {
     "name": "stdout",
     "output_type": "stream",
     "text": [
      "Training has not converged after 500 steps\n",
      "Trial 539 final loss: -0.00001430\n",
      "\n",
      "Trial 540: LR=0.014584, SigmaM=1.8644, InitM=0.061503\n"
     ]
    },
    {
     "name": "stderr",
     "output_type": "stream",
     "text": [
      "Training Progress: 100%|██████████| 500/500 [00:04<00:00, 124.54it/s, loss=0.000019, elapsed time=0.01, total time=4.03] \n",
      "[I 2025-05-23 10:11:08,896] Trial 540 finished with value: 1.9391066359497166e-05 and parameters: {'learning_rate': 0.014584455338685381, 'sigma_multiplier': 1.8643649399754505, 'initialization_multiplier': 0.06150284111424641}. Best is trial 77 with value: -0.00011012576492267536.\n"
     ]
    },
    {
     "name": "stdout",
     "output_type": "stream",
     "text": [
      "Training has not converged after 500 steps\n",
      "Trial 540 final loss: 0.00001939\n",
      "\n",
      "Trial 541: LR=0.033106, SigmaM=1.7650, InitM=0.085917\n"
     ]
    },
    {
     "name": "stderr",
     "output_type": "stream",
     "text": [
      "Training Progress: 100%|██████████| 500/500 [00:04<00:00, 124.02it/s, loss=0.000037, elapsed time=0.01, total time=4.04] \n",
      "[I 2025-05-23 10:11:12,950] Trial 541 finished with value: 3.731604169382239e-05 and parameters: {'learning_rate': 0.03310592992780033, 'sigma_multiplier': 1.7649813333690727, 'initialization_multiplier': 0.08591725823194134}. Best is trial 77 with value: -0.00011012576492267536.\n"
     ]
    },
    {
     "name": "stdout",
     "output_type": "stream",
     "text": [
      "Training has not converged after 500 steps\n",
      "Trial 541 final loss: 0.00003732\n",
      "\n",
      "Trial 542: LR=0.010002, SigmaM=1.9708, InitM=0.041024\n"
     ]
    },
    {
     "name": "stderr",
     "output_type": "stream",
     "text": [
      "Training Progress: 100%|██████████| 500/500 [00:03<00:00, 126.28it/s, loss=-0.000033, elapsed time=0.01, total time=3.97]\n",
      "[I 2025-05-23 10:11:16,932] Trial 542 finished with value: -3.268082969569237e-05 and parameters: {'learning_rate': 0.010002314113632848, 'sigma_multiplier': 1.9707522747268689, 'initialization_multiplier': 0.041023547999686695}. Best is trial 77 with value: -0.00011012576492267536.\n"
     ]
    },
    {
     "name": "stdout",
     "output_type": "stream",
     "text": [
      "Training has not converged after 500 steps\n",
      "Trial 542 final loss: -0.00003268\n",
      "\n",
      "Trial 543: LR=0.023689, SigmaM=1.8073, InitM=0.106382\n"
     ]
    },
    {
     "name": "stderr",
     "output_type": "stream",
     "text": [
      "Training Progress: 100%|██████████| 500/500 [00:03<00:00, 125.27it/s, loss=0.000005, elapsed time=0.01, total time=4]    \n",
      "[I 2025-05-23 10:11:20,945] Trial 543 finished with value: 4.8098951809302685e-06 and parameters: {'learning_rate': 0.02368920965432673, 'sigma_multiplier': 1.8073364276549977, 'initialization_multiplier': 0.10638219148437648}. Best is trial 77 with value: -0.00011012576492267536.\n"
     ]
    },
    {
     "name": "stdout",
     "output_type": "stream",
     "text": [
      "Training has not converged after 500 steps\n",
      "Trial 543 final loss: 0.00000481\n",
      "\n",
      "Trial 544: LR=0.000040, SigmaM=1.6273, InitM=0.151012\n"
     ]
    },
    {
     "name": "stderr",
     "output_type": "stream",
     "text": [
      "Training Progress: 100%|██████████| 500/500 [00:03<00:00, 130.80it/s, loss=0.099791, elapsed time=0.01, total time=3.83]\n",
      "[I 2025-05-23 10:11:24,788] Trial 544 finished with value: 0.09979074658115417 and parameters: {'learning_rate': 3.978338717577224e-05, 'sigma_multiplier': 1.6272842137856172, 'initialization_multiplier': 0.1510118729350303}. Best is trial 77 with value: -0.00011012576492267536.\n"
     ]
    },
    {
     "name": "stdout",
     "output_type": "stream",
     "text": [
      "Training has not converged after 500 steps\n",
      "Trial 544 final loss: 0.09979075\n",
      "\n",
      "Trial 545: LR=0.018561, SigmaM=1.9310, InitM=0.033294\n"
     ]
    },
    {
     "name": "stderr",
     "output_type": "stream",
     "text": [
      "Training Progress: 100%|██████████| 500/500 [00:03<00:00, 126.23it/s, loss=0.000096, elapsed time=0.01, total time=3.98] \n",
      "[I 2025-05-23 10:11:28,776] Trial 545 finished with value: 9.563876311860937e-05 and parameters: {'learning_rate': 0.018561464227414358, 'sigma_multiplier': 1.9310229089938613, 'initialization_multiplier': 0.03329425627276529}. Best is trial 77 with value: -0.00011012576492267536.\n"
     ]
    },
    {
     "name": "stdout",
     "output_type": "stream",
     "text": [
      "Training has not converged after 500 steps\n",
      "Trial 545 final loss: 0.00009564\n",
      "\n",
      "Trial 546: LR=0.012727, SigmaM=1.9999, InitM=0.074945\n"
     ]
    },
    {
     "name": "stderr",
     "output_type": "stream",
     "text": [
      "Training Progress: 100%|██████████| 500/500 [00:03<00:00, 126.10it/s, loss=0.000035, elapsed time=0.01, total time=3.98] \n",
      "[I 2025-05-23 10:11:32,764] Trial 546 finished with value: 3.538743020900796e-05 and parameters: {'learning_rate': 0.01272654568176855, 'sigma_multiplier': 1.9998724972992832, 'initialization_multiplier': 0.07494529377506447}. Best is trial 77 with value: -0.00011012576492267536.\n"
     ]
    },
    {
     "name": "stdout",
     "output_type": "stream",
     "text": [
      "Training has not converged after 500 steps\n",
      "Trial 546 final loss: 0.00003539\n",
      "\n",
      "Trial 547: LR=0.016082, SigmaM=1.7146, InitM=0.094622\n"
     ]
    },
    {
     "name": "stderr",
     "output_type": "stream",
     "text": [
      "Training Progress: 100%|██████████| 500/500 [00:04<00:00, 124.54it/s, loss=0.000082, elapsed time=0.01, total time=4.02] \n",
      "[I 2025-05-23 10:11:36,799] Trial 547 finished with value: 8.196479001628075e-05 and parameters: {'learning_rate': 0.016082156653612654, 'sigma_multiplier': 1.7146076947244453, 'initialization_multiplier': 0.09462223677454305}. Best is trial 77 with value: -0.00011012576492267536.\n"
     ]
    },
    {
     "name": "stdout",
     "output_type": "stream",
     "text": [
      "Training has not converged after 500 steps\n",
      "Trial 547 final loss: 0.00008196\n",
      "\n",
      "Trial 548: LR=0.000031, SigmaM=1.5706, InitM=0.194716\n"
     ]
    },
    {
     "name": "stderr",
     "output_type": "stream",
     "text": [
      "Training Progress: 100%|██████████| 500/500 [00:03<00:00, 131.19it/s, loss=0.107052, elapsed time=0.01, total time=3.82]\n",
      "[I 2025-05-23 10:11:40,631] Trial 548 finished with value: 0.10705157913700168 and parameters: {'learning_rate': 3.088092744389835e-05, 'sigma_multiplier': 1.5705747122416842, 'initialization_multiplier': 0.1947160814927487}. Best is trial 77 with value: -0.00011012576492267536.\n"
     ]
    },
    {
     "name": "stdout",
     "output_type": "stream",
     "text": [
      "Training has not converged after 500 steps\n",
      "Trial 548 final loss: 0.10705158\n",
      "\n",
      "Trial 549: LR=0.010896, SigmaM=1.8894, InitM=0.113207\n"
     ]
    },
    {
     "name": "stderr",
     "output_type": "stream",
     "text": [
      "Training Progress: 100%|██████████| 500/500 [00:03<00:00, 125.80it/s, loss=0.000002, elapsed time=0.01, total time=3.99] \n",
      "[I 2025-05-23 10:11:44,629] Trial 549 finished with value: 2.2561322989615297e-06 and parameters: {'learning_rate': 0.010895540654648516, 'sigma_multiplier': 1.889418936466855, 'initialization_multiplier': 0.11320735199645596}. Best is trial 77 with value: -0.00011012576492267536.\n"
     ]
    },
    {
     "name": "stdout",
     "output_type": "stream",
     "text": [
      "Training has not converged after 500 steps\n",
      "Trial 549 final loss: 0.00000226\n",
      "\n",
      "Trial 550: LR=0.019779, SigmaM=1.8354, InitM=0.064902\n"
     ]
    },
    {
     "name": "stderr",
     "output_type": "stream",
     "text": [
      "Training Progress: 100%|██████████| 500/500 [00:03<00:00, 125.89it/s, loss=0.000000, elapsed time=0.01, total time=3.98] \n",
      "[I 2025-05-23 10:11:48,624] Trial 550 finished with value: 4.804594353720799e-07 and parameters: {'learning_rate': 0.019779404464860477, 'sigma_multiplier': 1.8354227044990008, 'initialization_multiplier': 0.06490151811430947}. Best is trial 77 with value: -0.00011012576492267536.\n"
     ]
    },
    {
     "name": "stdout",
     "output_type": "stream",
     "text": [
      "Training has not converged after 500 steps\n",
      "Trial 550 final loss: 0.00000048\n",
      "\n",
      "Trial 551: LR=0.014292, SigmaM=1.6637, InitM=0.077078\n"
     ]
    },
    {
     "name": "stderr",
     "output_type": "stream",
     "text": [
      "Training Progress: 100%|██████████| 500/500 [00:04<00:00, 124.09it/s, loss=0.000022, elapsed time=0.01, total time=4.04] \n",
      "[I 2025-05-23 10:11:52,675] Trial 551 finished with value: 2.181029455875821e-05 and parameters: {'learning_rate': 0.01429181279293277, 'sigma_multiplier': 1.66374463420424, 'initialization_multiplier': 0.07707840465433985}. Best is trial 77 with value: -0.00011012576492267536.\n"
     ]
    },
    {
     "name": "stdout",
     "output_type": "stream",
     "text": [
      "Training has not converged after 500 steps\n",
      "Trial 551 final loss: 0.00002181\n",
      "\n",
      "Trial 552: LR=0.007971, SigmaM=1.1224, InitM=0.131335\n"
     ]
    },
    {
     "name": "stderr",
     "output_type": "stream",
     "text": [
      "Training Progress: 100%|██████████| 500/500 [00:04<00:00, 115.01it/s, loss=0.000286, elapsed time=0.01, total time=4.36] \n",
      "[I 2025-05-23 10:11:57,044] Trial 552 finished with value: 0.00028617436486390237 and parameters: {'learning_rate': 0.00797059086592173, 'sigma_multiplier': 1.1223869166774731, 'initialization_multiplier': 0.13133538302277878}. Best is trial 77 with value: -0.00011012576492267536.\n"
     ]
    },
    {
     "name": "stdout",
     "output_type": "stream",
     "text": [
      "Training has not converged after 500 steps\n",
      "Trial 552 final loss: 0.00028617\n",
      "\n",
      "Trial 553: LR=0.011802, SigmaM=1.7483, InitM=0.084607\n"
     ]
    },
    {
     "name": "stderr",
     "output_type": "stream",
     "text": [
      "Training Progress: 100%|██████████| 500/500 [00:04<00:00, 124.39it/s, loss=0.000053, elapsed time=0.01, total time=4.03] \n",
      "[I 2025-05-23 10:12:01,087] Trial 553 finished with value: 5.3086938437976775e-05 and parameters: {'learning_rate': 0.011802328683197923, 'sigma_multiplier': 1.748310798729723, 'initialization_multiplier': 0.08460698783257231}. Best is trial 77 with value: -0.00011012576492267536.\n"
     ]
    },
    {
     "name": "stdout",
     "output_type": "stream",
     "text": [
      "Training has not converged after 500 steps\n",
      "Trial 553 final loss: 0.00005309\n",
      "\n",
      "Trial 554: LR=0.016826, SigmaM=1.9346, InitM=0.099531\n"
     ]
    },
    {
     "name": "stderr",
     "output_type": "stream",
     "text": [
      "Training Progress: 100%|██████████| 500/500 [00:03<00:00, 126.46it/s, loss=0.000032, elapsed time=0.01, total time=3.96] \n",
      "[I 2025-05-23 10:12:05,060] Trial 554 finished with value: 3.1778780410058265e-05 and parameters: {'learning_rate': 0.016825818979614462, 'sigma_multiplier': 1.934636999533124, 'initialization_multiplier': 0.09953062612305229}. Best is trial 77 with value: -0.00011012576492267536.\n"
     ]
    },
    {
     "name": "stdout",
     "output_type": "stream",
     "text": [
      "Training has not converged after 500 steps\n",
      "Trial 554 final loss: 0.00003178\n",
      "\n",
      "Trial 555: LR=0.025504, SigmaM=1.8152, InitM=0.054989\n"
     ]
    },
    {
     "name": "stderr",
     "output_type": "stream",
     "text": [
      "Training Progress: 100%|██████████| 500/500 [00:04<00:00, 124.78it/s, loss=0.000121, elapsed time=0.01, total time=4.02] \n",
      "[I 2025-05-23 10:12:09,090] Trial 555 finished with value: 0.0001209731839852915 and parameters: {'learning_rate': 0.02550365539189122, 'sigma_multiplier': 1.815203518125271, 'initialization_multiplier': 0.054989299439835}. Best is trial 77 with value: -0.00011012576492267536.\n"
     ]
    },
    {
     "name": "stdout",
     "output_type": "stream",
     "text": [
      "Training has not converged after 500 steps\n",
      "Trial 555 final loss: 0.00012097\n",
      "\n",
      "Trial 556: LR=0.009684, SigmaM=1.8727, InitM=0.066527\n"
     ]
    },
    {
     "name": "stderr",
     "output_type": "stream",
     "text": [
      "Training Progress: 100%|██████████| 500/500 [00:03<00:00, 125.25it/s, loss=-0.000066, elapsed time=0.01, total time=4]   \n",
      "[I 2025-05-23 10:12:13,103] Trial 556 finished with value: -6.623809347417779e-05 and parameters: {'learning_rate': 0.00968422308683369, 'sigma_multiplier': 1.87273973571731, 'initialization_multiplier': 0.06652709254619076}. Best is trial 77 with value: -0.00011012576492267536.\n"
     ]
    },
    {
     "name": "stdout",
     "output_type": "stream",
     "text": [
      "Training has not converged after 500 steps\n",
      "Trial 556 final loss: -0.00006624\n",
      "\n",
      "Trial 557: LR=0.006749, SigmaM=1.8493, InitM=0.062035\n"
     ]
    },
    {
     "name": "stderr",
     "output_type": "stream",
     "text": [
      "Training Progress: 100%|██████████| 500/500 [00:03<00:00, 125.45it/s, loss=-0.000057, elapsed time=0.01, total time=3.99]\n",
      "[I 2025-05-23 10:12:17,109] Trial 557 finished with value: -5.745871805358174e-05 and parameters: {'learning_rate': 0.0067493399718010876, 'sigma_multiplier': 1.8493253678586525, 'initialization_multiplier': 0.062035201406572815}. Best is trial 77 with value: -0.00011012576492267536.\n"
     ]
    },
    {
     "name": "stdout",
     "output_type": "stream",
     "text": [
      "Training has not converged after 500 steps\n",
      "Trial 557 final loss: -0.00005746\n",
      "\n",
      "Trial 558: LR=0.007897, SigmaM=1.7920, InitM=0.047265\n"
     ]
    },
    {
     "name": "stderr",
     "output_type": "stream",
     "text": [
      "Training Progress: 100%|██████████| 500/500 [00:03<00:00, 125.35it/s, loss=0.000076, elapsed time=0.01, total time=4]    \n",
      "[I 2025-05-23 10:12:21,118] Trial 558 finished with value: 7.556505425273982e-05 and parameters: {'learning_rate': 0.007896511419225255, 'sigma_multiplier': 1.7919902971225277, 'initialization_multiplier': 0.04726472527214922}. Best is trial 77 with value: -0.00011012576492267536.\n"
     ]
    },
    {
     "name": "stdout",
     "output_type": "stream",
     "text": [
      "Training has not converged after 500 steps\n",
      "Trial 558 final loss: 0.00007557\n",
      "\n",
      "Trial 559: LR=0.009514, SigmaM=1.8851, InitM=0.068711\n"
     ]
    },
    {
     "name": "stderr",
     "output_type": "stream",
     "text": [
      "Training Progress: 100%|██████████| 500/500 [00:04<00:00, 123.38it/s, loss=-0.000028, elapsed time=0.01, total time=4.06]\n",
      "[I 2025-05-23 10:12:25,191] Trial 559 finished with value: -2.7905946353945682e-05 and parameters: {'learning_rate': 0.009513520094346301, 'sigma_multiplier': 1.8850759685225726, 'initialization_multiplier': 0.06871054133866507}. Best is trial 77 with value: -0.00011012576492267536.\n"
     ]
    },
    {
     "name": "stdout",
     "output_type": "stream",
     "text": [
      "Training has not converged after 500 steps\n",
      "Trial 559 final loss: -0.00002791\n",
      "\n",
      "Trial 560: LR=0.005935, SigmaM=1.7700, InitM=0.002715\n"
     ]
    },
    {
     "name": "stderr",
     "output_type": "stream",
     "text": [
      "Training Progress: 100%|██████████| 500/500 [00:03<00:00, 125.39it/s, loss=-0.000008, elapsed time=0.01, total time=4]   \n",
      "[I 2025-05-23 10:12:29,201] Trial 560 finished with value: -7.797760822011022e-06 and parameters: {'learning_rate': 0.005935317433444441, 'sigma_multiplier': 1.7699560709452973, 'initialization_multiplier': 0.002715138291384523}. Best is trial 77 with value: -0.00011012576492267536.\n"
     ]
    },
    {
     "name": "stdout",
     "output_type": "stream",
     "text": [
      "Training has not converged after 500 steps\n",
      "Trial 560 final loss: -0.00000780\n",
      "\n",
      "Trial 561: LR=0.009215, SigmaM=1.3144, InitM=0.059221\n"
     ]
    },
    {
     "name": "stderr",
     "output_type": "stream",
     "text": [
      "Training Progress: 100%|██████████| 500/500 [00:04<00:00, 118.94it/s, loss=-0.000018, elapsed time=0.01, total time=4.21]\n",
      "[I 2025-05-23 10:12:33,428] Trial 561 finished with value: -1.8398001971889122e-05 and parameters: {'learning_rate': 0.009214601118155794, 'sigma_multiplier': 1.314415143524391, 'initialization_multiplier': 0.05922057016242915}. Best is trial 77 with value: -0.00011012576492267536.\n"
     ]
    },
    {
     "name": "stdout",
     "output_type": "stream",
     "text": [
      "Training has not converged after 500 steps\n",
      "Trial 561 final loss: -0.00001840\n",
      "\n",
      "Trial 562: LR=0.021996, SigmaM=1.6918, InitM=0.071533\n"
     ]
    },
    {
     "name": "stderr",
     "output_type": "stream",
     "text": [
      "Training Progress: 100%|██████████| 500/500 [00:04<00:00, 123.35it/s, loss=0.000085, elapsed time=0.01, total time=4.06] \n",
      "[I 2025-05-23 10:12:37,502] Trial 562 finished with value: 8.488823213390268e-05 and parameters: {'learning_rate': 0.021996497921496987, 'sigma_multiplier': 1.6917924232846608, 'initialization_multiplier': 0.07153261602843283}. Best is trial 77 with value: -0.00011012576492267536.\n"
     ]
    },
    {
     "name": "stdout",
     "output_type": "stream",
     "text": [
      "Training has not converged after 500 steps\n",
      "Trial 562 final loss: 0.00008489\n",
      "\n",
      "Trial 563: LR=0.013651, SigmaM=1.8383, InitM=0.055321\n"
     ]
    },
    {
     "name": "stderr",
     "output_type": "stream",
     "text": [
      "Training Progress: 100%|██████████| 500/500 [00:03<00:00, 125.65it/s, loss=0.000099, elapsed time=0.01, total time=3.99] \n",
      "[I 2025-05-23 10:12:41,503] Trial 563 finished with value: 9.899315025144851e-05 and parameters: {'learning_rate': 0.013651452262250304, 'sigma_multiplier': 1.8383126633052609, 'initialization_multiplier': 0.055321293116501795}. Best is trial 77 with value: -0.00011012576492267536.\n"
     ]
    },
    {
     "name": "stdout",
     "output_type": "stream",
     "text": [
      "Training has not converged after 500 steps\n",
      "Trial 563 final loss: 0.00009899\n",
      "\n",
      "Trial 564: LR=0.030035, SigmaM=1.7373, InitM=0.065789\n"
     ]
    },
    {
     "name": "stderr",
     "output_type": "stream",
     "text": [
      "Training Progress: 100%|██████████| 500/500 [00:04<00:00, 123.24it/s, loss=0.000003, elapsed time=0.01, total time=4.07] \n",
      "[I 2025-05-23 10:12:45,582] Trial 564 finished with value: 2.8577984551206276e-06 and parameters: {'learning_rate': 0.030034523303594275, 'sigma_multiplier': 1.7373140396931925, 'initialization_multiplier': 0.06578926019969675}. Best is trial 77 with value: -0.00011012576492267536.\n"
     ]
    },
    {
     "name": "stdout",
     "output_type": "stream",
     "text": [
      "Training has not converged after 500 steps\n",
      "Trial 564 final loss: 0.00000286\n",
      "\n",
      "Trial 565: LR=0.018027, SigmaM=1.8023, InitM=0.080996\n"
     ]
    },
    {
     "name": "stderr",
     "output_type": "stream",
     "text": [
      "Training Progress: 100%|██████████| 500/500 [00:04<00:00, 124.80it/s, loss=0.000093, elapsed time=0.01, total time=4.02] \n",
      "[I 2025-05-23 10:12:49,609] Trial 565 finished with value: 9.343517081491915e-05 and parameters: {'learning_rate': 0.018026635942972512, 'sigma_multiplier': 1.8022993744573506, 'initialization_multiplier': 0.08099555265137433}. Best is trial 77 with value: -0.00011012576492267536.\n"
     ]
    },
    {
     "name": "stdout",
     "output_type": "stream",
     "text": [
      "Training has not converged after 500 steps\n",
      "Trial 565 final loss: 0.00009344\n",
      "\n",
      "Trial 566: LR=0.010316, SigmaM=1.8622, InitM=0.049026\n"
     ]
    },
    {
     "name": "stderr",
     "output_type": "stream",
     "text": [
      "Training Progress: 100%|██████████| 500/500 [00:03<00:00, 125.70it/s, loss=-0.000061, elapsed time=0.01, total time=3.99]\n",
      "[I 2025-05-23 10:12:53,609] Trial 566 finished with value: -6.076433025775996e-05 and parameters: {'learning_rate': 0.010315603994062235, 'sigma_multiplier': 1.8622096028368547, 'initialization_multiplier': 0.049026314240515775}. Best is trial 77 with value: -0.00011012576492267536.\n"
     ]
    },
    {
     "name": "stdout",
     "output_type": "stream",
     "text": [
      "Training has not converged after 500 steps\n",
      "Trial 566 final loss: -0.00006076\n",
      "\n",
      "Trial 567: LR=0.015300, SigmaM=1.6490, InitM=0.021263\n"
     ]
    },
    {
     "name": "stderr",
     "output_type": "stream",
     "text": [
      "Training Progress: 100%|██████████| 500/500 [00:04<00:00, 120.46it/s, loss=0.000111, elapsed time=0.01, total time=4.16] \n",
      "[I 2025-05-23 10:12:57,782] Trial 567 finished with value: 0.00011090893509466483 and parameters: {'learning_rate': 0.015300005847425297, 'sigma_multiplier': 1.6489688526052115, 'initialization_multiplier': 0.021263078845106653}. Best is trial 77 with value: -0.00011012576492267536.\n"
     ]
    },
    {
     "name": "stdout",
     "output_type": "stream",
     "text": [
      "Training has not converged after 500 steps\n",
      "Trial 567 final loss: 0.00011091\n",
      "\n",
      "Trial 568: LR=0.020459, SigmaM=1.8909, InitM=0.072348\n"
     ]
    },
    {
     "name": "stderr",
     "output_type": "stream",
     "text": [
      "Training Progress: 100%|██████████| 500/500 [00:03<00:00, 125.04it/s, loss=-0.000063, elapsed time=0.01, total time=4.01]\n",
      "[I 2025-05-23 10:13:01,801] Trial 568 finished with value: -6.315215864962928e-05 and parameters: {'learning_rate': 0.020458845755819452, 'sigma_multiplier': 1.8909335154367044, 'initialization_multiplier': 0.07234838720314364}. Best is trial 77 with value: -0.00011012576492267536.\n"
     ]
    },
    {
     "name": "stdout",
     "output_type": "stream",
     "text": [
      "Training has not converged after 500 steps\n",
      "Trial 568 final loss: -0.00006315\n",
      "\n",
      "Trial 569: LR=0.025939, SigmaM=1.8919, InitM=0.054615\n"
     ]
    },
    {
     "name": "stderr",
     "output_type": "stream",
     "text": [
      "Training Progress: 100%|██████████| 500/500 [00:04<00:00, 124.63it/s, loss=0.000036, elapsed time=0.01, total time=4.02] \n",
      "[I 2025-05-23 10:13:05,836] Trial 569 finished with value: 3.59564324520664e-05 and parameters: {'learning_rate': 0.025939038449188573, 'sigma_multiplier': 1.891908801830934, 'initialization_multiplier': 0.05461525294803614}. Best is trial 77 with value: -0.00011012576492267536.\n"
     ]
    },
    {
     "name": "stdout",
     "output_type": "stream",
     "text": [
      "Training has not converged after 500 steps\n",
      "Trial 569 final loss: 0.00003596\n",
      "\n",
      "Trial 570: LR=0.021047, SigmaM=1.8729, InitM=0.066333\n"
     ]
    },
    {
     "name": "stderr",
     "output_type": "stream",
     "text": [
      "Training Progress: 100%|██████████| 500/500 [00:04<00:00, 121.03it/s, loss=-0.000002, elapsed time=0.01, total time=4.14]\n",
      "[I 2025-05-23 10:13:09,990] Trial 570 finished with value: -1.6371538736644963e-06 and parameters: {'learning_rate': 0.02104723417848481, 'sigma_multiplier': 1.872868309757096, 'initialization_multiplier': 0.0663330934542721}. Best is trial 77 with value: -0.00011012576492267536.\n"
     ]
    },
    {
     "name": "stdout",
     "output_type": "stream",
     "text": [
      "Training has not converged after 500 steps\n",
      "Trial 570 final loss: -0.00000164\n",
      "\n",
      "Trial 571: LR=0.036032, SigmaM=1.9109, InitM=0.042926\n"
     ]
    },
    {
     "name": "stderr",
     "output_type": "stream",
     "text": [
      "Training Progress: 100%|██████████| 500/500 [00:04<00:00, 122.07it/s, loss=-0.000035, elapsed time=0.01, total time=4.11]\n",
      "[I 2025-05-23 10:13:14,111] Trial 571 finished with value: -3.52087363255526e-05 and parameters: {'learning_rate': 0.03603227963240353, 'sigma_multiplier': 1.910928424171479, 'initialization_multiplier': 0.04292646148538166}. Best is trial 77 with value: -0.00011012576492267536.\n"
     ]
    },
    {
     "name": "stdout",
     "output_type": "stream",
     "text": [
      "Training has not converged after 500 steps\n",
      "Trial 571 final loss: -0.00003521\n",
      "\n",
      "Trial 572: LR=0.008413, SigmaM=1.8358, InitM=0.070647\n"
     ]
    },
    {
     "name": "stderr",
     "output_type": "stream",
     "text": [
      "Training Progress: 100%|██████████| 500/500 [00:04<00:00, 124.66it/s, loss=-0.000026, elapsed time=0.01, total time=4.02]\n",
      "[I 2025-05-23 10:13:18,144] Trial 572 finished with value: -2.6439281792331608e-05 and parameters: {'learning_rate': 0.008412983562013586, 'sigma_multiplier': 1.8357752875130513, 'initialization_multiplier': 0.0706472988860864}. Best is trial 77 with value: -0.00011012576492267536.\n"
     ]
    },
    {
     "name": "stdout",
     "output_type": "stream",
     "text": [
      "Training has not converged after 500 steps\n",
      "Trial 572 final loss: -0.00002644\n",
      "\n",
      "Trial 573: LR=0.013063, SigmaM=1.9106, InitM=0.058968\n"
     ]
    },
    {
     "name": "stderr",
     "output_type": "stream",
     "text": [
      "Training Progress: 100%|██████████| 500/500 [00:04<00:00, 124.98it/s, loss=0.000114, elapsed time=0.01, total time=4.01] \n",
      "[I 2025-05-23 10:13:22,168] Trial 573 finished with value: 0.00011437876324611453 and parameters: {'learning_rate': 0.013063338775323992, 'sigma_multiplier': 1.9105576928267674, 'initialization_multiplier': 0.0589680270206733}. Best is trial 77 with value: -0.00011012576492267536.\n"
     ]
    },
    {
     "name": "stdout",
     "output_type": "stream",
     "text": [
      "Training has not converged after 500 steps\n",
      "Trial 573 final loss: 0.00011438\n",
      "\n",
      "Trial 574: LR=0.010888, SigmaM=1.8694, InitM=0.078187\n"
     ]
    },
    {
     "name": "stderr",
     "output_type": "stream",
     "text": [
      "Training Progress: 100%|██████████| 500/500 [00:04<00:00, 124.61it/s, loss=0.000177, elapsed time=0.01, total time=4.02] \n",
      "[I 2025-05-23 10:13:26,201] Trial 574 finished with value: 0.0001769336765815779 and parameters: {'learning_rate': 0.010887595039802368, 'sigma_multiplier': 1.8693884621491845, 'initialization_multiplier': 0.07818698210091853}. Best is trial 77 with value: -0.00011012576492267536.\n"
     ]
    },
    {
     "name": "stdout",
     "output_type": "stream",
     "text": [
      "Training has not converged after 500 steps\n",
      "Trial 574 final loss: 0.00017693\n",
      "\n",
      "Trial 575: LR=0.022255, SigmaM=0.4969, InitM=0.087391\n"
     ]
    },
    {
     "name": "stderr",
     "output_type": "stream",
     "text": [
      "Training Progress: 100%|██████████| 500/500 [00:05<00:00, 88.79it/s, loss=0.001589, elapsed time=0.01, total time=5.64]\n",
      "[I 2025-05-23 10:13:31,854] Trial 575 finished with value: 0.001588913892404541 and parameters: {'learning_rate': 0.022254513017126627, 'sigma_multiplier': 0.4968795325757933, 'initialization_multiplier': 0.08739145541293862}. Best is trial 77 with value: -0.00011012576492267536.\n"
     ]
    },
    {
     "name": "stdout",
     "output_type": "stream",
     "text": [
      "Training has not converged after 500 steps\n",
      "Trial 575 final loss: 0.00158891\n",
      "\n",
      "Trial 576: LR=0.029634, SigmaM=1.9596, InitM=0.618327\n"
     ]
    },
    {
     "name": "stderr",
     "output_type": "stream",
     "text": [
      "Training Progress: 100%|██████████| 500/500 [00:04<00:00, 121.26it/s, loss=0.000074, elapsed time=0.01, total time=4.13] \n",
      "[I 2025-05-23 10:13:36,001] Trial 576 finished with value: 7.369166842943306e-05 and parameters: {'learning_rate': 0.029633645121470455, 'sigma_multiplier': 1.959636010048983, 'initialization_multiplier': 0.618326739423424}. Best is trial 77 with value: -0.00011012576492267536.\n"
     ]
    },
    {
     "name": "stdout",
     "output_type": "stream",
     "text": [
      "Training has not converged after 500 steps\n",
      "Trial 576 final loss: 0.00007369\n",
      "\n",
      "Trial 577: LR=0.016385, SigmaM=1.9175, InitM=0.061610\n"
     ]
    },
    {
     "name": "stderr",
     "output_type": "stream",
     "text": [
      "Training Progress: 100%|██████████| 500/500 [00:04<00:00, 118.67it/s, loss=-0.000024, elapsed time=0.01, total time=4.22]\n",
      "[I 2025-05-23 10:13:40,239] Trial 577 finished with value: -2.3799383362205777e-05 and parameters: {'learning_rate': 0.016385401380048157, 'sigma_multiplier': 1.9175466156939773, 'initialization_multiplier': 0.06161039766467127}. Best is trial 77 with value: -0.00011012576492267536.\n"
     ]
    },
    {
     "name": "stdout",
     "output_type": "stream",
     "text": [
      "Training has not converged after 500 steps\n",
      "Trial 577 final loss: -0.00002380\n",
      "\n",
      "Trial 578: LR=0.019483, SigmaM=1.8508, InitM=0.070896\n"
     ]
    },
    {
     "name": "stderr",
     "output_type": "stream",
     "text": [
      "Training Progress: 100%|██████████| 500/500 [00:04<00:00, 119.92it/s, loss=-0.000068, elapsed time=0.01, total time=4.18]\n",
      "[I 2025-05-23 10:13:44,431] Trial 578 finished with value: -6.766687962229789e-05 and parameters: {'learning_rate': 0.019482562478349178, 'sigma_multiplier': 1.8508085215080818, 'initialization_multiplier': 0.07089606192496137}. Best is trial 77 with value: -0.00011012576492267536.\n"
     ]
    },
    {
     "name": "stdout",
     "output_type": "stream",
     "text": [
      "Training has not converged after 500 steps\n",
      "Trial 578 final loss: -0.00006767\n",
      "\n",
      "Trial 579: LR=0.007482, SigmaM=1.0273, InitM=0.004707\n"
     ]
    },
    {
     "name": "stderr",
     "output_type": "stream",
     "text": [
      "Training Progress: 100%|██████████| 500/500 [00:04<00:00, 110.55it/s, loss=0.000610, elapsed time=0.01, total time=4.53] \n",
      "[I 2025-05-23 10:13:48,977] Trial 579 finished with value: 0.0006104796959107418 and parameters: {'learning_rate': 0.007482153360068452, 'sigma_multiplier': 1.0272589055005448, 'initialization_multiplier': 0.004707302270105468}. Best is trial 77 with value: -0.00011012576492267536.\n"
     ]
    },
    {
     "name": "stdout",
     "output_type": "stream",
     "text": [
      "Training has not converged after 500 steps\n",
      "Trial 579 final loss: 0.00061048\n",
      "\n",
      "Trial 580: LR=0.013095, SigmaM=1.8230, InitM=0.048870\n"
     ]
    },
    {
     "name": "stderr",
     "output_type": "stream",
     "text": [
      "Training Progress: 100%|██████████| 500/500 [00:04<00:00, 123.47it/s, loss=0.000008, elapsed time=0.01, total time=4.06] \n",
      "[I 2025-05-23 10:13:53,048] Trial 580 finished with value: 8.22584334556995e-06 and parameters: {'learning_rate': 0.013095351618960228, 'sigma_multiplier': 1.8230456440014604, 'initialization_multiplier': 0.0488696287958656}. Best is trial 77 with value: -0.00011012576492267536.\n"
     ]
    },
    {
     "name": "stdout",
     "output_type": "stream",
     "text": [
      "Training has not converged after 500 steps\n",
      "Trial 580 final loss: 0.00000823\n",
      "\n",
      "Trial 581: LR=0.009668, SigmaM=1.8378, InitM=0.457809\n"
     ]
    },
    {
     "name": "stderr",
     "output_type": "stream",
     "text": [
      "Training Progress: 100%|██████████| 500/500 [00:04<00:00, 123.53it/s, loss=-0.000045, elapsed time=0.01, total time=4.06]\n",
      "[I 2025-05-23 10:13:57,121] Trial 581 finished with value: -4.4614642522599175e-05 and parameters: {'learning_rate': 0.009667763014354265, 'sigma_multiplier': 1.8378498601703794, 'initialization_multiplier': 0.4578087996570855}. Best is trial 77 with value: -0.00011012576492267536.\n"
     ]
    },
    {
     "name": "stdout",
     "output_type": "stream",
     "text": [
      "Training has not converged after 500 steps\n",
      "Trial 581 final loss: -0.00004461\n",
      "\n",
      "Trial 582: LR=0.015000, SigmaM=1.7898, InitM=0.081890\n"
     ]
    },
    {
     "name": "stderr",
     "output_type": "stream",
     "text": [
      "Training Progress: 100%|██████████| 500/500 [00:04<00:00, 121.76it/s, loss=0.000276, elapsed time=0.01, total time=4.12] \n",
      "[I 2025-05-23 10:14:01,254] Trial 582 finished with value: 0.00027581265067211364 and parameters: {'learning_rate': 0.014999590476284727, 'sigma_multiplier': 1.7897834929346776, 'initialization_multiplier': 0.0818904574234966}. Best is trial 77 with value: -0.00011012576492267536.\n"
     ]
    },
    {
     "name": "stdout",
     "output_type": "stream",
     "text": [
      "Training has not converged after 500 steps\n",
      "Trial 582 final loss: 0.00027581\n",
      "\n",
      "Trial 583: LR=0.018047, SigmaM=1.8621, InitM=0.224941\n"
     ]
    },
    {
     "name": "stderr",
     "output_type": "stream",
     "text": [
      "Training Progress: 100%|██████████| 500/500 [00:04<00:00, 123.90it/s, loss=0.000061, elapsed time=0.01, total time=4.05] \n",
      "[I 2025-05-23 10:14:05,311] Trial 583 finished with value: 6.068801094150659e-05 and parameters: {'learning_rate': 0.018047089601275466, 'sigma_multiplier': 1.8620760381440442, 'initialization_multiplier': 0.22494057698358663}. Best is trial 77 with value: -0.00011012576492267536.\n"
     ]
    },
    {
     "name": "stdout",
     "output_type": "stream",
     "text": [
      "Training has not converged after 500 steps\n",
      "Trial 583 final loss: 0.00006069\n",
      "\n",
      "Trial 584: LR=0.010953, SigmaM=1.8241, InitM=0.008951\n"
     ]
    },
    {
     "name": "stderr",
     "output_type": "stream",
     "text": [
      "Training Progress: 100%|██████████| 500/500 [00:04<00:00, 123.92it/s, loss=-0.000001, elapsed time=0.01, total time=4.04]\n",
      "[I 2025-05-23 10:14:09,367] Trial 584 finished with value: -1.317380661429719e-06 and parameters: {'learning_rate': 0.010953275823603963, 'sigma_multiplier': 1.8240569111318767, 'initialization_multiplier': 0.008950642414358993}. Best is trial 77 with value: -0.00011012576492267536.\n"
     ]
    },
    {
     "name": "stdout",
     "output_type": "stream",
     "text": [
      "Training has not converged after 500 steps\n",
      "Trial 584 final loss: -0.00000132\n",
      "\n",
      "Trial 585: LR=0.012377, SigmaM=1.5972, InitM=0.053011\n"
     ]
    },
    {
     "name": "stderr",
     "output_type": "stream",
     "text": [
      "Training Progress: 100%|██████████| 500/500 [00:04<00:00, 119.83it/s, loss=0.000048, elapsed time=0.01, total time=4.18] \n",
      "[I 2025-05-23 10:14:13,562] Trial 585 finished with value: 4.804740549909058e-05 and parameters: {'learning_rate': 0.012377199288389302, 'sigma_multiplier': 1.5971846581814928, 'initialization_multiplier': 0.05301146785444468}. Best is trial 77 with value: -0.00011012576492267536.\n"
     ]
    },
    {
     "name": "stdout",
     "output_type": "stream",
     "text": [
      "Training has not converged after 500 steps\n",
      "Trial 585 final loss: 0.00004805\n",
      "\n",
      "Trial 586: LR=0.005089, SigmaM=1.7726, InitM=0.094831\n"
     ]
    },
    {
     "name": "stderr",
     "output_type": "stream",
     "text": [
      "Training Progress: 100%|██████████| 500/500 [00:04<00:00, 121.14it/s, loss=0.000021, elapsed time=0.01, total time=4.14] \n",
      "[I 2025-05-23 10:14:17,712] Trial 586 finished with value: 2.1423648201947716e-05 and parameters: {'learning_rate': 0.005089261013491038, 'sigma_multiplier': 1.7726321697489904, 'initialization_multiplier': 0.09483090588435587}. Best is trial 77 with value: -0.00011012576492267536.\n"
     ]
    },
    {
     "name": "stdout",
     "output_type": "stream",
     "text": [
      "Training has not converged after 500 steps\n",
      "Trial 586 final loss: 0.00002142\n",
      "\n",
      "Trial 587: LR=0.025536, SigmaM=1.9600, InitM=0.011307\n"
     ]
    },
    {
     "name": "stderr",
     "output_type": "stream",
     "text": [
      "Training Progress: 100%|██████████| 500/500 [00:04<00:00, 123.65it/s, loss=-0.000002, elapsed time=0.01, total time=4.05]\n",
      "[I 2025-05-23 10:14:21,777] Trial 587 finished with value: -2.0324725958178974e-06 and parameters: {'learning_rate': 0.025535732432099126, 'sigma_multiplier': 1.9600280917011028, 'initialization_multiplier': 0.011306928831831221}. Best is trial 77 with value: -0.00011012576492267536.\n"
     ]
    },
    {
     "name": "stdout",
     "output_type": "stream",
     "text": [
      "Training has not converged after 500 steps\n",
      "Trial 587 final loss: -0.00000203\n",
      "\n",
      "Trial 588: LR=0.006791, SigmaM=1.8655, InitM=0.062924\n"
     ]
    },
    {
     "name": "stderr",
     "output_type": "stream",
     "text": [
      "Training Progress: 100%|██████████| 500/500 [00:04<00:00, 123.00it/s, loss=0.000064, elapsed time=0.01, total time=4.07] \n",
      "[I 2025-05-23 10:14:25,865] Trial 588 finished with value: 6.367419656185758e-05 and parameters: {'learning_rate': 0.006790591581779581, 'sigma_multiplier': 1.8655154978836188, 'initialization_multiplier': 0.06292374528051206}. Best is trial 77 with value: -0.00011012576492267536.\n"
     ]
    },
    {
     "name": "stdout",
     "output_type": "stream",
     "text": [
      "Training has not converged after 500 steps\n",
      "Trial 588 final loss: 0.00006367\n",
      "\n",
      "Trial 589: LR=0.009068, SigmaM=1.8084, InitM=0.036906\n"
     ]
    },
    {
     "name": "stderr",
     "output_type": "stream",
     "text": [
      "Training Progress: 100%|██████████| 500/500 [00:04<00:00, 122.18it/s, loss=0.000185, elapsed time=0.01, total time=4.1]  \n",
      "[I 2025-05-23 10:14:29,983] Trial 589 finished with value: 0.0001850063705662553 and parameters: {'learning_rate': 0.009067566432291656, 'sigma_multiplier': 1.8083707018852586, 'initialization_multiplier': 0.0369057715097144}. Best is trial 77 with value: -0.00011012576492267536.\n"
     ]
    },
    {
     "name": "stdout",
     "output_type": "stream",
     "text": [
      "Training has not converged after 500 steps\n",
      "Trial 589 final loss: 0.00018501\n",
      "\n",
      "Trial 590: LR=0.001207, SigmaM=1.9080, InitM=0.072390\n"
     ]
    },
    {
     "name": "stderr",
     "output_type": "stream",
     "text": [
      "Training Progress: 100%|██████████| 500/500 [00:04<00:00, 121.79it/s, loss=0.001317, elapsed time=0.01, total time=4.12]\n",
      "[I 2025-05-23 10:14:34,112] Trial 590 finished with value: 0.0013169543440266919 and parameters: {'learning_rate': 0.001207327051103028, 'sigma_multiplier': 1.9080057388893783, 'initialization_multiplier': 0.07239048231680764}. Best is trial 77 with value: -0.00011012576492267536.\n"
     ]
    },
    {
     "name": "stdout",
     "output_type": "stream",
     "text": [
      "Training has not converged after 500 steps\n",
      "Trial 590 final loss: 0.00131695\n",
      "\n",
      "Trial 591: LR=0.015834, SigmaM=1.1993, InitM=0.102559\n"
     ]
    },
    {
     "name": "stderr",
     "output_type": "stream",
     "text": [
      "Training Progress: 100%|██████████| 500/500 [00:04<00:00, 114.66it/s, loss=0.000218, elapsed time=0.01, total time=4.37] \n",
      "[I 2025-05-23 10:14:38,496] Trial 591 finished with value: 0.00021846587944793582 and parameters: {'learning_rate': 0.015833692121160155, 'sigma_multiplier': 1.1992886544642756, 'initialization_multiplier': 0.10255902393736918}. Best is trial 77 with value: -0.00011012576492267536.\n"
     ]
    },
    {
     "name": "stdout",
     "output_type": "stream",
     "text": [
      "Training has not converged after 500 steps\n",
      "Trial 591 final loss: 0.00021847\n",
      "\n",
      "Trial 592: LR=0.018862, SigmaM=1.9348, InitM=0.085098\n"
     ]
    },
    {
     "name": "stderr",
     "output_type": "stream",
     "text": [
      "Training Progress: 100%|██████████| 500/500 [00:04<00:00, 124.84it/s, loss=0.000008, elapsed time=0.01, total time=4.01] \n",
      "[I 2025-05-23 10:14:42,523] Trial 592 finished with value: 8.367695463233507e-06 and parameters: {'learning_rate': 0.018861742100242985, 'sigma_multiplier': 1.9347789290756356, 'initialization_multiplier': 0.08509822423054232}. Best is trial 77 with value: -0.00011012576492267536.\n"
     ]
    },
    {
     "name": "stdout",
     "output_type": "stream",
     "text": [
      "Training has not converged after 500 steps\n",
      "Trial 592 final loss: 0.00000837\n",
      "\n",
      "Trial 593: LR=0.013984, SigmaM=1.5499, InitM=0.059451\n"
     ]
    },
    {
     "name": "stderr",
     "output_type": "stream",
     "text": [
      "Training Progress: 100%|██████████| 500/500 [00:04<00:00, 120.67it/s, loss=-0.000057, elapsed time=0.01, total time=4.15]\n",
      "[I 2025-05-23 10:14:46,688] Trial 593 finished with value: -5.7082222208997046e-05 and parameters: {'learning_rate': 0.013984346601709706, 'sigma_multiplier': 1.5499223712588843, 'initialization_multiplier': 0.05945130568828149}. Best is trial 77 with value: -0.00011012576492267536.\n"
     ]
    },
    {
     "name": "stdout",
     "output_type": "stream",
     "text": [
      "Training has not converged after 500 steps\n",
      "Trial 593 final loss: -0.00005708\n",
      "\n",
      "Trial 594: LR=0.011096, SigmaM=1.7646, InitM=0.074883\n"
     ]
    },
    {
     "name": "stderr",
     "output_type": "stream",
     "text": [
      "Training Progress: 100%|██████████| 500/500 [00:04<00:00, 122.78it/s, loss=-0.000012, elapsed time=0.01, total time=4.08]\n",
      "[I 2025-05-23 10:14:50,784] Trial 594 finished with value: -1.2470485316368338e-05 and parameters: {'learning_rate': 0.011095900407809648, 'sigma_multiplier': 1.7645969768000047, 'initialization_multiplier': 0.07488320674289375}. Best is trial 77 with value: -0.00011012576492267536.\n"
     ]
    },
    {
     "name": "stdout",
     "output_type": "stream",
     "text": [
      "Training has not converged after 500 steps\n",
      "Trial 594 final loss: -0.00001247\n",
      "\n",
      "Trial 595: LR=0.017169, SigmaM=1.6968, InitM=0.140419\n"
     ]
    },
    {
     "name": "stderr",
     "output_type": "stream",
     "text": [
      "Training Progress: 100%|██████████| 500/500 [00:04<00:00, 121.78it/s, loss=0.000113, elapsed time=0.01, total time=4.12] \n",
      "[I 2025-05-23 10:14:54,912] Trial 595 finished with value: 0.00011296368510637016 and parameters: {'learning_rate': 0.01716881608471573, 'sigma_multiplier': 1.6968288903636009, 'initialization_multiplier': 0.14041859072140592}. Best is trial 77 with value: -0.00011012576492267536.\n"
     ]
    },
    {
     "name": "stdout",
     "output_type": "stream",
     "text": [
      "Training has not converged after 500 steps\n",
      "Trial 595 final loss: 0.00011296\n",
      "\n",
      "Trial 596: LR=0.022293, SigmaM=1.8674, InitM=0.177276\n"
     ]
    },
    {
     "name": "stderr",
     "output_type": "stream",
     "text": [
      "Training Progress: 100%|██████████| 500/500 [00:04<00:00, 123.31it/s, loss=0.000155, elapsed time=0.01, total time=4.07] \n",
      "[I 2025-05-23 10:14:58,990] Trial 596 finished with value: 0.0001553971550420481 and parameters: {'learning_rate': 0.02229294739816909, 'sigma_multiplier': 1.8673766808951933, 'initialization_multiplier': 0.17727578351894654}. Best is trial 77 with value: -0.00011012576492267536.\n"
     ]
    },
    {
     "name": "stdout",
     "output_type": "stream",
     "text": [
      "Training has not converged after 500 steps\n",
      "Trial 596 final loss: 0.00015540\n",
      "\n",
      "Trial 597: LR=0.008816, SigmaM=1.7936, InitM=0.090240\n"
     ]
    },
    {
     "name": "stderr",
     "output_type": "stream",
     "text": [
      "Training Progress: 100%|██████████| 500/500 [00:04<00:00, 123.83it/s, loss=-0.000006, elapsed time=0.01, total time=4.05]\n",
      "[I 2025-05-23 10:15:03,051] Trial 597 finished with value: -5.721791317671319e-06 and parameters: {'learning_rate': 0.008815731880140704, 'sigma_multiplier': 1.793594115926435, 'initialization_multiplier': 0.0902398087114068}. Best is trial 77 with value: -0.00011012576492267536.\n"
     ]
    },
    {
     "name": "stdout",
     "output_type": "stream",
     "text": [
      "Training has not converged after 500 steps\n",
      "Trial 597 final loss: -0.00000572\n",
      "\n",
      "Trial 598: LR=0.013501, SigmaM=1.9589, InitM=0.064393\n"
     ]
    },
    {
     "name": "stderr",
     "output_type": "stream",
     "text": [
      "Training Progress: 100%|██████████| 500/500 [00:03<00:00, 125.17it/s, loss=0.000114, elapsed time=0.01, total time=4.01] \n",
      "[I 2025-05-23 10:15:07,068] Trial 598 finished with value: 0.00011420010188101802 and parameters: {'learning_rate': 0.013500775633077403, 'sigma_multiplier': 1.9588512760755794, 'initialization_multiplier': 0.06439318247241906}. Best is trial 77 with value: -0.00011012576492267536.\n"
     ]
    },
    {
     "name": "stdout",
     "output_type": "stream",
     "text": [
      "Training has not converged after 500 steps\n",
      "Trial 598 final loss: 0.00011420\n",
      "\n",
      "Trial 599: LR=0.011407, SigmaM=1.7453, InitM=0.111454\n"
     ]
    },
    {
     "name": "stderr",
     "output_type": "stream",
     "text": [
      "Training Progress: 100%|██████████| 500/500 [00:04<00:00, 123.56it/s, loss=0.000037, elapsed time=0.01, total time=4.06] \n",
      "[I 2025-05-23 10:15:11,138] Trial 599 finished with value: 3.701211425516573e-05 and parameters: {'learning_rate': 0.011406684580920808, 'sigma_multiplier': 1.7452626789145587, 'initialization_multiplier': 0.11145416674139975}. Best is trial 77 with value: -0.00011012576492267536.\n"
     ]
    },
    {
     "name": "stdout",
     "output_type": "stream",
     "text": [
      "Training has not converged after 500 steps\n",
      "Trial 599 final loss: 0.00003701\n",
      "\n",
      "Trial 600: LR=0.018758, SigmaM=1.8345, InitM=0.051152\n"
     ]
    },
    {
     "name": "stderr",
     "output_type": "stream",
     "text": [
      "Training Progress: 100%|██████████| 500/500 [00:04<00:00, 124.60it/s, loss=0.000159, elapsed time=0.01, total time=4.02] \n",
      "[I 2025-05-23 10:15:15,174] Trial 600 finished with value: 0.00015854870298516617 and parameters: {'learning_rate': 0.018758211947687075, 'sigma_multiplier': 1.8345283556198768, 'initialization_multiplier': 0.0511517799567424}. Best is trial 77 with value: -0.00011012576492267536.\n"
     ]
    },
    {
     "name": "stdout",
     "output_type": "stream",
     "text": [
      "Training has not converged after 500 steps\n",
      "Trial 600 final loss: 0.00015855\n",
      "\n",
      "Trial 601: LR=0.014983, SigmaM=1.9959, InitM=0.042455\n"
     ]
    },
    {
     "name": "stderr",
     "output_type": "stream",
     "text": [
      "Training Progress: 100%|██████████| 500/500 [00:03<00:00, 125.46it/s, loss=0.000036, elapsed time=0.01, total time=4]    \n",
      "[I 2025-05-23 10:15:19,181] Trial 601 finished with value: 3.600647363670579e-05 and parameters: {'learning_rate': 0.014983157540983791, 'sigma_multiplier': 1.995882919106084, 'initialization_multiplier': 0.04245543949219032}. Best is trial 77 with value: -0.00011012576492267536.\n"
     ]
    },
    {
     "name": "stdout",
     "output_type": "stream",
     "text": [
      "Training has not converged after 500 steps\n",
      "Trial 601 final loss: 0.00003601\n",
      "\n",
      "Trial 602: LR=0.010021, SigmaM=1.6350, InitM=0.076776\n"
     ]
    },
    {
     "name": "stderr",
     "output_type": "stream",
     "text": [
      "Training Progress: 100%|██████████| 500/500 [00:04<00:00, 122.20it/s, loss=-0.000015, elapsed time=0.01, total time=4.1] \n",
      "[I 2025-05-23 10:15:23,295] Trial 602 finished with value: -1.4977795148078839e-05 and parameters: {'learning_rate': 0.010020691763280083, 'sigma_multiplier': 1.6350293985736122, 'initialization_multiplier': 0.07677578577879487}. Best is trial 77 with value: -0.00011012576492267536.\n"
     ]
    },
    {
     "name": "stdout",
     "output_type": "stream",
     "text": [
      "Training has not converged after 500 steps\n",
      "Trial 602 final loss: -0.00001498\n",
      "\n",
      "Trial 603: LR=0.007363, SigmaM=1.8933, InitM=0.098428\n"
     ]
    },
    {
     "name": "stderr",
     "output_type": "stream",
     "text": [
      "Training Progress: 100%|██████████| 500/500 [00:04<00:00, 124.37it/s, loss=0.000006, elapsed time=0.01, total time=4.03] \n",
      "[I 2025-05-23 10:15:27,338] Trial 603 finished with value: 6.13387961601047e-06 and parameters: {'learning_rate': 0.007362859810655442, 'sigma_multiplier': 1.8932567444003299, 'initialization_multiplier': 0.09842835368118126}. Best is trial 77 with value: -0.00011012576492267536.\n"
     ]
    },
    {
     "name": "stdout",
     "output_type": "stream",
     "text": [
      "Training has not converged after 500 steps\n",
      "Trial 603 final loss: 0.00000613\n",
      "\n",
      "Trial 604: LR=0.024633, SigmaM=1.7095, InitM=0.838268\n"
     ]
    },
    {
     "name": "stderr",
     "output_type": "stream",
     "text": [
      "Training Progress: 100%|██████████| 500/500 [00:04<00:00, 120.81it/s, loss=-0.000033, elapsed time=0.01, total time=4.15]\n",
      "[I 2025-05-23 10:15:31,499] Trial 604 finished with value: -3.320645568022407e-05 and parameters: {'learning_rate': 0.024632653477367823, 'sigma_multiplier': 1.709486359451202, 'initialization_multiplier': 0.8382680923536815}. Best is trial 77 with value: -0.00011012576492267536.\n"
     ]
    },
    {
     "name": "stdout",
     "output_type": "stream",
     "text": [
      "Training has not converged after 500 steps\n",
      "Trial 604 final loss: -0.00003321\n",
      "\n",
      "Trial 605: LR=0.012499, SigmaM=1.4110, InitM=0.068221\n"
     ]
    },
    {
     "name": "stderr",
     "output_type": "stream",
     "text": [
      "Training Progress: 100%|██████████| 500/500 [00:04<00:00, 118.69it/s, loss=-0.000040, elapsed time=0.01, total time=4.22]\n",
      "[I 2025-05-23 10:15:35,735] Trial 605 finished with value: -3.957811057487816e-05 and parameters: {'learning_rate': 0.012498884476240429, 'sigma_multiplier': 1.410980336110767, 'initialization_multiplier': 0.06822099082949327}. Best is trial 77 with value: -0.00011012576492267536.\n"
     ]
    },
    {
     "name": "stdout",
     "output_type": "stream",
     "text": [
      "Training has not converged after 500 steps\n",
      "Trial 605 final loss: -0.00003958\n",
      "\n",
      "Trial 606: LR=0.015176, SigmaM=1.9269, InitM=0.125459\n"
     ]
    },
    {
     "name": "stderr",
     "output_type": "stream",
     "text": [
      "Training Progress: 100%|██████████| 500/500 [00:04<00:00, 124.60it/s, loss=0.000003, elapsed time=0.01, total time=4.02] \n",
      "[I 2025-05-23 10:15:39,770] Trial 606 finished with value: 3.372345611544618e-06 and parameters: {'learning_rate': 0.01517560464746305, 'sigma_multiplier': 1.9269152410913408, 'initialization_multiplier': 0.12545907772585932}. Best is trial 77 with value: -0.00011012576492267536.\n"
     ]
    },
    {
     "name": "stdout",
     "output_type": "stream",
     "text": [
      "Training has not converged after 500 steps\n",
      "Trial 606 final loss: 0.00000337\n",
      "\n",
      "Trial 607: LR=0.020401, SigmaM=1.4966, InitM=0.014497\n"
     ]
    },
    {
     "name": "stderr",
     "output_type": "stream",
     "text": [
      "Training Progress: 100%|██████████| 500/500 [00:04<00:00, 102.01it/s, loss=0.000148, elapsed time=0.01, total time=4.91] \n",
      "[I 2025-05-23 10:15:44,694] Trial 607 finished with value: 0.00014814051957976767 and parameters: {'learning_rate': 0.020400948405894376, 'sigma_multiplier': 1.4966137971419724, 'initialization_multiplier': 0.014496582452053236}. Best is trial 77 with value: -0.00011012576492267536.\n"
     ]
    },
    {
     "name": "stdout",
     "output_type": "stream",
     "text": [
      "Training has not converged after 500 steps\n",
      "Trial 607 final loss: 0.00014814\n",
      "\n",
      "Trial 608: LR=0.000553, SigmaM=1.9994, InitM=0.029392\n"
     ]
    },
    {
     "name": "stderr",
     "output_type": "stream",
     "text": [
      "Training Progress: 100%|██████████| 500/500 [00:03<00:00, 128.31it/s, loss=0.012449, elapsed time=0.01, total time=3.91]\n",
      "[I 2025-05-23 10:15:48,614] Trial 608 finished with value: 0.012449188498482892 and parameters: {'learning_rate': 0.0005529879373714834, 'sigma_multiplier': 1.9994034806279952, 'initialization_multiplier': 0.029391596654740768}. Best is trial 77 with value: -0.00011012576492267536.\n"
     ]
    },
    {
     "name": "stdout",
     "output_type": "stream",
     "text": [
      "Training has not converged after 500 steps\n",
      "Trial 608 final loss: 0.01244919\n",
      "\n",
      "Trial 609: LR=0.017043, SigmaM=1.8453, InitM=0.086330\n"
     ]
    },
    {
     "name": "stderr",
     "output_type": "stream",
     "text": [
      "Training Progress: 100%|██████████| 500/500 [00:04<00:00, 124.34it/s, loss=-0.000064, elapsed time=0.01, total time=4.03]\n",
      "[I 2025-05-23 10:15:52,660] Trial 609 finished with value: -6.382569490257485e-05 and parameters: {'learning_rate': 0.01704347211054905, 'sigma_multiplier': 1.8452800834246759, 'initialization_multiplier': 0.08633023976069408}. Best is trial 77 with value: -0.00011012576492267536.\n"
     ]
    },
    {
     "name": "stdout",
     "output_type": "stream",
     "text": [
      "Training has not converged after 500 steps\n",
      "Trial 609 final loss: -0.00006383\n",
      "\n",
      "Trial 610: LR=0.005610, SigmaM=1.7914, InitM=0.102264\n"
     ]
    },
    {
     "name": "stderr",
     "output_type": "stream",
     "text": [
      "Training Progress: 100%|██████████| 500/500 [00:04<00:00, 122.45it/s, loss=0.000182, elapsed time=0.01, total time=4.09] \n",
      "[I 2025-05-23 10:15:56,767] Trial 610 finished with value: 0.00018226236309576064 and parameters: {'learning_rate': 0.005610170117637985, 'sigma_multiplier': 1.7914312584859187, 'initialization_multiplier': 0.10226423180119044}. Best is trial 77 with value: -0.00011012576492267536.\n"
     ]
    },
    {
     "name": "stdout",
     "output_type": "stream",
     "text": [
      "Training has not converged after 500 steps\n",
      "Trial 610 final loss: 0.00018226\n",
      "\n",
      "Trial 611: LR=0.049363, SigmaM=1.8828, InitM=0.993897\n"
     ]
    },
    {
     "name": "stderr",
     "output_type": "stream",
     "text": [
      "Training Progress: 100%|██████████| 500/500 [00:04<00:00, 121.34it/s, loss=-0.000031, elapsed time=0.01, total time=4.13]\n",
      "[I 2025-05-23 10:16:00,912] Trial 611 finished with value: -3.132461677206509e-05 and parameters: {'learning_rate': 0.04936274303399986, 'sigma_multiplier': 1.8827525399197078, 'initialization_multiplier': 0.9938969371925758}. Best is trial 77 with value: -0.00011012576492267536.\n"
     ]
    },
    {
     "name": "stdout",
     "output_type": "stream",
     "text": [
      "Training has not converged after 500 steps\n",
      "Trial 611 final loss: -0.00003132\n",
      "\n",
      "Trial 612: LR=0.012333, SigmaM=1.6069, InitM=0.055401\n"
     ]
    },
    {
     "name": "stderr",
     "output_type": "stream",
     "text": [
      "Training Progress: 100%|██████████| 500/500 [00:04<00:00, 120.78it/s, loss=-0.000043, elapsed time=0.01, total time=4.15]\n",
      "[I 2025-05-23 10:16:05,075] Trial 612 finished with value: -4.321735183073909e-05 and parameters: {'learning_rate': 0.012333439087903943, 'sigma_multiplier': 1.6068990620391759, 'initialization_multiplier': 0.05540082700331161}. Best is trial 77 with value: -0.00011012576492267536.\n"
     ]
    },
    {
     "name": "stdout",
     "output_type": "stream",
     "text": [
      "Training has not converged after 500 steps\n",
      "Trial 612 final loss: -0.00004322\n",
      "\n",
      "Trial 613: LR=0.008473, SigmaM=1.6645, InitM=0.078697\n"
     ]
    },
    {
     "name": "stderr",
     "output_type": "stream",
     "text": [
      "Training Progress: 100%|██████████| 500/500 [00:04<00:00, 120.79it/s, loss=-0.000047, elapsed time=0.01, total time=4.15]\n",
      "[I 2025-05-23 10:16:09,240] Trial 613 finished with value: -4.694339114195991e-05 and parameters: {'learning_rate': 0.008472914351684842, 'sigma_multiplier': 1.6644683908752265, 'initialization_multiplier': 0.07869690940178713}. Best is trial 77 with value: -0.00011012576492267536.\n"
     ]
    },
    {
     "name": "stdout",
     "output_type": "stream",
     "text": [
      "Training has not converged after 500 steps\n",
      "Trial 613 final loss: -0.00004694\n",
      "\n",
      "Trial 614: LR=0.027994, SigmaM=1.9416, InitM=0.150802\n"
     ]
    },
    {
     "name": "stderr",
     "output_type": "stream",
     "text": [
      "Training Progress: 100%|██████████| 500/500 [00:04<00:00, 124.04it/s, loss=-0.000039, elapsed time=0.01, total time=4.04]\n",
      "[I 2025-05-23 10:16:13,292] Trial 614 finished with value: -3.914598576948512e-05 and parameters: {'learning_rate': 0.027993847334409256, 'sigma_multiplier': 1.941572755078908, 'initialization_multiplier': 0.1508024715679274}. Best is trial 77 with value: -0.00011012576492267536.\n"
     ]
    },
    {
     "name": "stdout",
     "output_type": "stream",
     "text": [
      "Training has not converged after 500 steps\n",
      "Trial 614 final loss: -0.00003915\n",
      "\n",
      "Trial 615: LR=0.010102, SigmaM=1.7574, InitM=0.068027\n"
     ]
    },
    {
     "name": "stderr",
     "output_type": "stream",
     "text": [
      "Training Progress: 100%|██████████| 500/500 [00:04<00:00, 123.31it/s, loss=0.000036, elapsed time=0.01, total time=4.07] \n",
      "[I 2025-05-23 10:16:17,369] Trial 615 finished with value: 3.630778892222948e-05 and parameters: {'learning_rate': 0.010101905316011633, 'sigma_multiplier': 1.7573717420997075, 'initialization_multiplier': 0.06802748119587265}. Best is trial 77 with value: -0.00011012576492267536.\n"
     ]
    },
    {
     "name": "stdout",
     "output_type": "stream",
     "text": [
      "Training has not converged after 500 steps\n",
      "Trial 615 final loss: 0.00003631\n",
      "\n",
      "Trial 616: LR=0.014153, SigmaM=1.8152, InitM=0.327004\n"
     ]
    },
    {
     "name": "stderr",
     "output_type": "stream",
     "text": [
      "Training Progress: 100%|██████████| 500/500 [00:04<00:00, 123.13it/s, loss=-0.000040, elapsed time=0.01, total time=4.07]\n",
      "[I 2025-05-23 10:16:21,452] Trial 616 finished with value: -3.991580867295612e-05 and parameters: {'learning_rate': 0.014152711186144336, 'sigma_multiplier': 1.8151757392672576, 'initialization_multiplier': 0.3270043130792458}. Best is trial 77 with value: -0.00011012576492267536.\n"
     ]
    },
    {
     "name": "stdout",
     "output_type": "stream",
     "text": [
      "Training has not converged after 500 steps\n",
      "Trial 616 final loss: -0.00003992\n",
      "\n",
      "Trial 617: LR=0.003636, SigmaM=1.7353, InitM=0.116940\n"
     ]
    },
    {
     "name": "stderr",
     "output_type": "stream",
     "text": [
      "Training Progress: 100%|██████████| 500/500 [00:04<00:00, 122.38it/s, loss=0.000084, elapsed time=0.01, total time=4.1]  \n",
      "[I 2025-05-23 10:16:25,561] Trial 617 finished with value: 8.420476075318072e-05 and parameters: {'learning_rate': 0.0036359643326087155, 'sigma_multiplier': 1.7352555136464944, 'initialization_multiplier': 0.11693968546966028}. Best is trial 77 with value: -0.00011012576492267536.\n"
     ]
    },
    {
     "name": "stdout",
     "output_type": "stream",
     "text": [
      "Training has not converged after 500 steps\n",
      "Trial 617 final loss: 0.00008420\n",
      "\n",
      "Trial 618: LR=0.033178, SigmaM=1.9080, InitM=0.060127\n"
     ]
    },
    {
     "name": "stderr",
     "output_type": "stream",
     "text": [
      "Training Progress: 100%|██████████| 500/500 [00:04<00:00, 124.15it/s, loss=-0.000036, elapsed time=0.01, total time=4.04]\n",
      "[I 2025-05-23 10:16:29,611] Trial 618 finished with value: -3.648120109191449e-05 and parameters: {'learning_rate': 0.033178478402740505, 'sigma_multiplier': 1.9079710860549117, 'initialization_multiplier': 0.06012695214112612}. Best is trial 77 with value: -0.00011012576492267536.\n"
     ]
    },
    {
     "name": "stdout",
     "output_type": "stream",
     "text": [
      "Training has not converged after 500 steps\n",
      "Trial 618 final loss: -0.00003648\n",
      "\n",
      "Trial 619: LR=0.019201, SigmaM=1.8487, InitM=0.093424\n"
     ]
    },
    {
     "name": "stderr",
     "output_type": "stream",
     "text": [
      "Training Progress: 100%|██████████| 500/500 [00:04<00:00, 122.13it/s, loss=-0.000006, elapsed time=0.01, total time=4.11]\n",
      "[I 2025-05-23 10:16:33,729] Trial 619 finished with value: -6.368085922875439e-06 and parameters: {'learning_rate': 0.019200861729061748, 'sigma_multiplier': 1.8486692063274788, 'initialization_multiplier': 0.09342417708567073}. Best is trial 77 with value: -0.00011012576492267536.\n"
     ]
    },
    {
     "name": "stdout",
     "output_type": "stream",
     "text": [
      "Training has not converged after 500 steps\n",
      "Trial 619 final loss: -0.00000637\n",
      "\n",
      "Trial 620: LR=0.016432, SigmaM=1.9620, InitM=0.079128\n"
     ]
    },
    {
     "name": "stderr",
     "output_type": "stream",
     "text": [
      "Training Progress: 100%|██████████| 500/500 [00:04<00:00, 121.80it/s, loss=-0.000063, elapsed time=0.01, total time=4.12]\n",
      "[I 2025-05-23 10:16:37,858] Trial 620 finished with value: -6.294936895361886e-05 and parameters: {'learning_rate': 0.01643167492697963, 'sigma_multiplier': 1.962016403509971, 'initialization_multiplier': 0.07912837257258248}. Best is trial 77 with value: -0.00011012576492267536.\n"
     ]
    },
    {
     "name": "stdout",
     "output_type": "stream",
     "text": [
      "Training has not converged after 500 steps\n",
      "Trial 620 final loss: -0.00006295\n",
      "\n",
      "Trial 621: LR=0.011501, SigmaM=1.6955, InitM=0.131456\n"
     ]
    },
    {
     "name": "stderr",
     "output_type": "stream",
     "text": [
      "Training Progress: 100%|██████████| 500/500 [00:04<00:00, 122.19it/s, loss=0.000054, elapsed time=0.01, total time=4.1]  \n",
      "[I 2025-05-23 10:16:41,974] Trial 621 finished with value: 5.417179688074015e-05 and parameters: {'learning_rate': 0.011500681802572299, 'sigma_multiplier': 1.6955218008058763, 'initialization_multiplier': 0.13145556824021282}. Best is trial 77 with value: -0.00011012576492267536.\n"
     ]
    },
    {
     "name": "stdout",
     "output_type": "stream",
     "text": [
      "Training has not converged after 500 steps\n",
      "Trial 621 final loss: 0.00005417\n",
      "\n",
      "Trial 622: LR=0.022763, SigmaM=1.7964, InitM=0.047970\n"
     ]
    },
    {
     "name": "stderr",
     "output_type": "stream",
     "text": [
      "Training Progress: 100%|██████████| 500/500 [00:04<00:00, 122.58it/s, loss=-0.000030, elapsed time=0.01, total time=4.09]\n",
      "[I 2025-05-23 10:16:46,076] Trial 622 finished with value: -2.9929420091566457e-05 and parameters: {'learning_rate': 0.022762748983489508, 'sigma_multiplier': 1.7964066695026362, 'initialization_multiplier': 0.04797004124323609}. Best is trial 77 with value: -0.00011012576492267536.\n"
     ]
    },
    {
     "name": "stdout",
     "output_type": "stream",
     "text": [
      "Training has not converged after 500 steps\n",
      "Trial 622 final loss: -0.00002993\n",
      "\n",
      "Trial 623: LR=0.013435, SigmaM=1.8762, InitM=0.107172\n"
     ]
    },
    {
     "name": "stderr",
     "output_type": "stream",
     "text": [
      "Training Progress: 100%|██████████| 500/500 [00:04<00:00, 123.78it/s, loss=0.000151, elapsed time=0.01, total time=4.05] \n",
      "[I 2025-05-23 10:16:50,139] Trial 623 finished with value: 0.00015074189325737472 and parameters: {'learning_rate': 0.013434676942312538, 'sigma_multiplier': 1.876247892762311, 'initialization_multiplier': 0.10717247048535504}. Best is trial 77 with value: -0.00011012576492267536.\n"
     ]
    },
    {
     "name": "stdout",
     "output_type": "stream",
     "text": [
      "Training has not converged after 500 steps\n",
      "Trial 623 final loss: 0.00015074\n",
      "\n",
      "Trial 624: LR=0.002045, SigmaM=1.9207, InitM=0.070379\n"
     ]
    },
    {
     "name": "stderr",
     "output_type": "stream",
     "text": [
      "Training Progress: 100%|██████████| 500/500 [00:04<00:00, 124.21it/s, loss=0.000010, elapsed time=0.01, total time=4.04] \n",
      "[I 2025-05-23 10:16:54,190] Trial 624 finished with value: 1.0115525936248773e-05 and parameters: {'learning_rate': 0.002044514451006897, 'sigma_multiplier': 1.92066302158524, 'initialization_multiplier': 0.07037891295253323}. Best is trial 77 with value: -0.00011012576492267536.\n"
     ]
    },
    {
     "name": "stdout",
     "output_type": "stream",
     "text": [
      "Training has not converged after 500 steps\n",
      "Trial 624 final loss: 0.00001012\n",
      "\n",
      "Trial 625: LR=0.009495, SigmaM=1.8268, InitM=0.163103\n"
     ]
    },
    {
     "name": "stderr",
     "output_type": "stream",
     "text": [
      "Training Progress: 100%|██████████| 500/500 [00:04<00:00, 124.11it/s, loss=0.000138, elapsed time=0.01, total time=4.04] \n",
      "[I 2025-05-23 10:16:58,241] Trial 625 finished with value: 0.00013782931298104094 and parameters: {'learning_rate': 0.009494700698971669, 'sigma_multiplier': 1.8268254259348198, 'initialization_multiplier': 0.16310262061616954}. Best is trial 77 with value: -0.00011012576492267536.\n"
     ]
    },
    {
     "name": "stdout",
     "output_type": "stream",
     "text": [
      "Training has not converged after 500 steps\n",
      "Trial 625 final loss: 0.00013783\n",
      "\n",
      "Trial 626: LR=0.006783, SigmaM=1.7684, InitM=0.086375\n"
     ]
    },
    {
     "name": "stderr",
     "output_type": "stream",
     "text": [
      "Training Progress: 100%|██████████| 500/500 [00:04<00:00, 122.23it/s, loss=-0.000045, elapsed time=0.01, total time=4.1] \n",
      "[I 2025-05-23 10:17:02,354] Trial 626 finished with value: -4.5433538725312695e-05 and parameters: {'learning_rate': 0.006782500931788649, 'sigma_multiplier': 1.7684214558973572, 'initialization_multiplier': 0.0863747471060519}. Best is trial 77 with value: -0.00011012576492267536.\n"
     ]
    },
    {
     "name": "stdout",
     "output_type": "stream",
     "text": [
      "Training has not converged after 500 steps\n",
      "Trial 626 final loss: -0.00004543\n",
      "\n",
      "Trial 627: LR=0.015500, SigmaM=1.9648, InitM=0.059230\n"
     ]
    },
    {
     "name": "stderr",
     "output_type": "stream",
     "text": [
      "Training Progress: 100%|██████████| 500/500 [00:04<00:00, 124.01it/s, loss=-0.000081, elapsed time=0.01, total time=4.04]\n",
      "[I 2025-05-23 10:17:06,408] Trial 627 finished with value: -8.065443773606016e-05 and parameters: {'learning_rate': 0.015500379907812544, 'sigma_multiplier': 1.964835364278989, 'initialization_multiplier': 0.05922986726884371}. Best is trial 77 with value: -0.00011012576492267536.\n"
     ]
    },
    {
     "name": "stdout",
     "output_type": "stream",
     "text": [
      "Training has not converged after 500 steps\n",
      "Trial 627 final loss: -0.00008065\n",
      "\n",
      "Trial 628: LR=0.017413, SigmaM=1.9726, InitM=0.053847\n"
     ]
    },
    {
     "name": "stderr",
     "output_type": "stream",
     "text": [
      "Training Progress: 100%|██████████| 500/500 [00:04<00:00, 123.82it/s, loss=-0.000029, elapsed time=0.01, total time=4.05]\n",
      "[I 2025-05-23 10:17:10,469] Trial 628 finished with value: -2.8541130561836282e-05 and parameters: {'learning_rate': 0.017413392935101385, 'sigma_multiplier': 1.9726337928796367, 'initialization_multiplier': 0.053846527481227084}. Best is trial 77 with value: -0.00011012576492267536.\n"
     ]
    },
    {
     "name": "stdout",
     "output_type": "stream",
     "text": [
      "Training has not converged after 500 steps\n",
      "Trial 628 final loss: -0.00002854\n",
      "\n",
      "Trial 629: LR=0.021365, SigmaM=1.9973, InitM=0.058600\n"
     ]
    },
    {
     "name": "stderr",
     "output_type": "stream",
     "text": [
      "Training Progress: 100%|██████████| 500/500 [00:03<00:00, 125.14it/s, loss=-0.000020, elapsed time=0.01, total time=4.01]\n",
      "[I 2025-05-23 10:17:14,487] Trial 629 finished with value: -2.046064563552512e-05 and parameters: {'learning_rate': 0.021365341827326793, 'sigma_multiplier': 1.9972784740652132, 'initialization_multiplier': 0.05859985474312065}. Best is trial 77 with value: -0.00011012576492267536.\n"
     ]
    },
    {
     "name": "stdout",
     "output_type": "stream",
     "text": [
      "Training has not converged after 500 steps\n",
      "Trial 629 final loss: -0.00002046\n",
      "\n",
      "Trial 630: LR=0.015533, SigmaM=1.9557, InitM=0.041825\n"
     ]
    },
    {
     "name": "stderr",
     "output_type": "stream",
     "text": [
      "Training Progress: 100%|██████████| 500/500 [00:03<00:00, 125.06it/s, loss=-0.000015, elapsed time=0.01, total time=4.01]\n",
      "[I 2025-05-23 10:17:18,509] Trial 630 finished with value: -1.53863140154004e-05 and parameters: {'learning_rate': 0.015532944738037048, 'sigma_multiplier': 1.9557101232711331, 'initialization_multiplier': 0.04182503105020739}. Best is trial 77 with value: -0.00011012576492267536.\n"
     ]
    },
    {
     "name": "stdout",
     "output_type": "stream",
     "text": [
      "Training has not converged after 500 steps\n",
      "Trial 630 final loss: -0.00001539\n",
      "\n",
      "Trial 631: LR=0.019507, SigmaM=1.9574, InitM=0.047747\n"
     ]
    },
    {
     "name": "stderr",
     "output_type": "stream",
     "text": [
      "Training Progress: 100%|██████████| 500/500 [00:04<00:00, 123.34it/s, loss=0.000068, elapsed time=0.01, total time=4.06] \n",
      "[I 2025-05-23 10:17:22,585] Trial 631 finished with value: 6.829419809877948e-05 and parameters: {'learning_rate': 0.019506923143119075, 'sigma_multiplier': 1.9573647776979497, 'initialization_multiplier': 0.04774708132180619}. Best is trial 77 with value: -0.00011012576492267536.\n"
     ]
    },
    {
     "name": "stdout",
     "output_type": "stream",
     "text": [
      "Training has not converged after 500 steps\n",
      "Trial 631 final loss: 0.00006829\n",
      "\n",
      "Trial 632: LR=0.025446, SigmaM=1.9307, InitM=0.062658\n"
     ]
    },
    {
     "name": "stderr",
     "output_type": "stream",
     "text": [
      "Training Progress: 100%|██████████| 500/500 [00:04<00:00, 122.85it/s, loss=0.000007, elapsed time=0.01, total time=4.08] \n",
      "[I 2025-05-23 10:17:26,679] Trial 632 finished with value: 7.059018224040734e-06 and parameters: {'learning_rate': 0.02544571646150447, 'sigma_multiplier': 1.9307413356392842, 'initialization_multiplier': 0.06265803777865302}. Best is trial 77 with value: -0.00011012576492267536.\n"
     ]
    },
    {
     "name": "stdout",
     "output_type": "stream",
     "text": [
      "Training has not converged after 500 steps\n",
      "Trial 632 final loss: 0.00000706\n",
      "\n",
      "Trial 633: LR=0.015380, SigmaM=1.9045, InitM=0.052729\n"
     ]
    },
    {
     "name": "stderr",
     "output_type": "stream",
     "text": [
      "Training Progress: 100%|██████████| 500/500 [00:04<00:00, 121.40it/s, loss=-0.000014, elapsed time=0.01, total time=4.13]\n",
      "[I 2025-05-23 10:17:30,823] Trial 633 finished with value: -1.3817919773855708e-05 and parameters: {'learning_rate': 0.01537983055091235, 'sigma_multiplier': 1.90447740649795, 'initialization_multiplier': 0.052728769055652755}. Best is trial 77 with value: -0.00011012576492267536.\n"
     ]
    },
    {
     "name": "stdout",
     "output_type": "stream",
     "text": [
      "Training has not converged after 500 steps\n",
      "Trial 633 final loss: -0.00001382\n",
      "\n",
      "Trial 634: LR=0.018104, SigmaM=1.9552, InitM=0.066122\n"
     ]
    },
    {
     "name": "stderr",
     "output_type": "stream",
     "text": [
      "Training Progress: 100%|██████████| 500/500 [00:04<00:00, 121.83it/s, loss=0.000052, elapsed time=0.01, total time=4.12] \n",
      "[I 2025-05-23 10:17:34,952] Trial 634 finished with value: 5.169743531716273e-05 and parameters: {'learning_rate': 0.01810423018118124, 'sigma_multiplier': 1.9552248535738217, 'initialization_multiplier': 0.06612207498021468}. Best is trial 77 with value: -0.00011012576492267536.\n"
     ]
    },
    {
     "name": "stdout",
     "output_type": "stream",
     "text": [
      "Training has not converged after 500 steps\n",
      "Trial 634 final loss: 0.00005170\n",
      "\n",
      "Trial 635: LR=0.013564, SigmaM=1.9249, InitM=0.017994\n"
     ]
    },
    {
     "name": "stderr",
     "output_type": "stream",
     "text": [
      "Training Progress: 100%|██████████| 500/500 [00:04<00:00, 116.50it/s, loss=0.000017, elapsed time=0.01, total time=4.3]  \n",
      "[I 2025-05-23 10:17:39,267] Trial 635 finished with value: 1.6599062498930105e-05 and parameters: {'learning_rate': 0.013564240179611317, 'sigma_multiplier': 1.9249249622952478, 'initialization_multiplier': 0.01799431565762973}. Best is trial 77 with value: -0.00011012576492267536.\n"
     ]
    },
    {
     "name": "stdout",
     "output_type": "stream",
     "text": [
      "Training has not converged after 500 steps\n",
      "Trial 635 final loss: 0.00001660\n",
      "\n",
      "Trial 636: LR=0.002920, SigmaM=1.9719, InitM=0.067719\n"
     ]
    },
    {
     "name": "stderr",
     "output_type": "stream",
     "text": [
      "Training Progress: 100%|██████████| 500/500 [00:04<00:00, 121.16it/s, loss=-0.000039, elapsed time=0.01, total time=4.14]\n",
      "[I 2025-05-23 10:17:43,420] Trial 636 finished with value: -3.858000072106057e-05 and parameters: {'learning_rate': 0.0029200744149175516, 'sigma_multiplier': 1.9718656655039701, 'initialization_multiplier': 0.06771909391824157}. Best is trial 77 with value: -0.00011012576492267536.\n"
     ]
    },
    {
     "name": "stdout",
     "output_type": "stream",
     "text": [
      "Training has not converged after 500 steps\n",
      "Trial 636 final loss: -0.00003858\n",
      "\n",
      "Trial 637: LR=0.022365, SigmaM=1.9975, InitM=0.052535\n"
     ]
    },
    {
     "name": "stderr",
     "output_type": "stream",
     "text": [
      "Training Progress: 100%|██████████| 500/500 [00:04<00:00, 119.53it/s, loss=-0.000009, elapsed time=0.01, total time=4.19]\n",
      "[I 2025-05-23 10:17:47,626] Trial 637 finished with value: -9.416247101219927e-06 and parameters: {'learning_rate': 0.02236500040420572, 'sigma_multiplier': 1.9975319815462833, 'initialization_multiplier': 0.05253472842972918}. Best is trial 77 with value: -0.00011012576492267536.\n"
     ]
    },
    {
     "name": "stdout",
     "output_type": "stream",
     "text": [
      "Training has not converged after 500 steps\n",
      "Trial 637 final loss: -0.00000942\n",
      "\n",
      "Trial 638: LR=0.014988, SigmaM=1.9003, InitM=0.074978\n"
     ]
    },
    {
     "name": "stderr",
     "output_type": "stream",
     "text": [
      "Training Progress: 100%|██████████| 500/500 [00:04<00:00, 118.06it/s, loss=0.000026, elapsed time=0.01, total time=4.25] \n",
      "[I 2025-05-23 10:17:51,894] Trial 638 finished with value: 2.561768549742142e-05 and parameters: {'learning_rate': 0.01498837884288996, 'sigma_multiplier': 1.9003303375509988, 'initialization_multiplier': 0.07497764454208733}. Best is trial 77 with value: -0.00011012576492267536.\n"
     ]
    },
    {
     "name": "stdout",
     "output_type": "stream",
     "text": [
      "Training has not converged after 500 steps\n",
      "Trial 638 final loss: 0.00002562\n",
      "\n",
      "Trial 639: LR=0.017321, SigmaM=0.7283, InitM=0.061295\n"
     ]
    },
    {
     "name": "stderr",
     "output_type": "stream",
     "text": [
      "Training Progress: 100%|██████████| 500/500 [00:05<00:00, 95.67it/s, loss=0.001024, elapsed time=0.01, total time=5.24] \n",
      "[I 2025-05-23 10:17:57,146] Trial 639 finished with value: 0.0010238736594204716 and parameters: {'learning_rate': 0.017320870098559944, 'sigma_multiplier': 0.72829782160951, 'initialization_multiplier': 0.0612949537758418}. Best is trial 77 with value: -0.00011012576492267536.\n"
     ]
    },
    {
     "name": "stdout",
     "output_type": "stream",
     "text": [
      "Training has not converged after 500 steps\n",
      "Trial 639 final loss: 0.00102387\n",
      "\n",
      "Trial 640: LR=0.013326, SigmaM=1.5703, InitM=0.036431\n"
     ]
    },
    {
     "name": "stderr",
     "output_type": "stream",
     "text": [
      "Training Progress: 100%|██████████| 500/500 [00:04<00:00, 117.08it/s, loss=0.000121, elapsed time=0.01, total time=4.28] \n",
      "[I 2025-05-23 10:18:01,439] Trial 640 finished with value: 0.0001205468867633867 and parameters: {'learning_rate': 0.013325573444002066, 'sigma_multiplier': 1.5703050985113303, 'initialization_multiplier': 0.03643130763741962}. Best is trial 77 with value: -0.00011012576492267536.\n"
     ]
    },
    {
     "name": "stdout",
     "output_type": "stream",
     "text": [
      "Training has not converged after 500 steps\n",
      "Trial 640 final loss: 0.00012055\n",
      "\n",
      "Trial 641: LR=0.028874, SigmaM=1.8721, InitM=0.045948\n"
     ]
    },
    {
     "name": "stderr",
     "output_type": "stream",
     "text": [
      "Training Progress: 100%|██████████| 500/500 [00:04<00:00, 121.21it/s, loss=-0.000025, elapsed time=0.01, total time=4.14]\n",
      "[I 2025-05-23 10:18:05,590] Trial 641 finished with value: -2.475423504894875e-05 and parameters: {'learning_rate': 0.028873753018356072, 'sigma_multiplier': 1.872120426452303, 'initialization_multiplier': 0.04594772795699791}. Best is trial 77 with value: -0.00011012576492267536.\n"
     ]
    },
    {
     "name": "stdout",
     "output_type": "stream",
     "text": [
      "Training has not converged after 500 steps\n",
      "Trial 641 final loss: -0.00002475\n",
      "\n",
      "Trial 642: LR=0.020093, SigmaM=1.9247, InitM=0.073746\n"
     ]
    },
    {
     "name": "stderr",
     "output_type": "stream",
     "text": [
      "Training Progress: 100%|██████████| 500/500 [00:04<00:00, 116.33it/s, loss=0.000002, elapsed time=0.01, total time=4.31] \n",
      "[I 2025-05-23 10:18:09,911] Trial 642 finished with value: 2.2185468500354466e-06 and parameters: {'learning_rate': 0.020092622796680625, 'sigma_multiplier': 1.9246789122852945, 'initialization_multiplier': 0.07374634635339156}. Best is trial 77 with value: -0.00011012576492267536.\n"
     ]
    },
    {
     "name": "stdout",
     "output_type": "stream",
     "text": [
      "Training has not converged after 500 steps\n",
      "Trial 642 final loss: 0.00000222\n",
      "\n",
      "Trial 643: LR=0.038859, SigmaM=1.6684, InitM=0.058463\n"
     ]
    },
    {
     "name": "stderr",
     "output_type": "stream",
     "text": [
      "Training Progress: 100%|██████████| 500/500 [00:04<00:00, 117.60it/s, loss=0.000002, elapsed time=0.01, total time=4.26] \n",
      "[I 2025-05-23 10:18:14,186] Trial 643 finished with value: 1.888068137557154e-06 and parameters: {'learning_rate': 0.03885938636784527, 'sigma_multiplier': 1.6684328362758631, 'initialization_multiplier': 0.05846340058668481}. Best is trial 77 with value: -0.00011012576492267536.\n"
     ]
    },
    {
     "name": "stdout",
     "output_type": "stream",
     "text": [
      "Training has not converged after 500 steps\n",
      "Trial 643 final loss: 0.00000189\n",
      "\n",
      "Trial 644: LR=0.000961, SigmaM=1.8881, InitM=0.515143\n"
     ]
    },
    {
     "name": "stderr",
     "output_type": "stream",
     "text": [
      "Training Progress: 100%|██████████| 500/500 [00:04<00:00, 121.21it/s, loss=-0.000016, elapsed time=0.01, total time=4.14]\n",
      "[I 2025-05-23 10:18:18,336] Trial 644 finished with value: -1.5854530487852916e-05 and parameters: {'learning_rate': 0.0009605633866887272, 'sigma_multiplier': 1.8881359996406524, 'initialization_multiplier': 0.5151427529609112}. Best is trial 77 with value: -0.00011012576492267536.\n"
     ]
    },
    {
     "name": "stdout",
     "output_type": "stream",
     "text": [
      "Training has not converged after 500 steps\n",
      "Trial 644 final loss: -0.00001585\n",
      "\n",
      "Trial 645: LR=0.011727, SigmaM=1.9639, InitM=0.082443\n"
     ]
    },
    {
     "name": "stderr",
     "output_type": "stream",
     "text": [
      "Training Progress: 100%|██████████| 500/500 [00:04<00:00, 121.39it/s, loss=0.000034, elapsed time=0.01, total time=4.13] \n",
      "[I 2025-05-23 10:18:22,476] Trial 645 finished with value: 3.409961548414125e-05 and parameters: {'learning_rate': 0.011727369829476073, 'sigma_multiplier': 1.9638628814821786, 'initialization_multiplier': 0.08244250676721525}. Best is trial 77 with value: -0.00011012576492267536.\n"
     ]
    },
    {
     "name": "stdout",
     "output_type": "stream",
     "text": [
      "Training has not converged after 500 steps\n",
      "Trial 645 final loss: 0.00003410\n",
      "\n",
      "Trial 646: LR=0.016520, SigmaM=1.6224, InitM=0.066002\n"
     ]
    },
    {
     "name": "stderr",
     "output_type": "stream",
     "text": [
      "Training Progress: 100%|██████████| 500/500 [00:04<00:00, 118.57it/s, loss=-0.000011, elapsed time=0.01, total time=4.23]\n",
      "[I 2025-05-23 10:18:26,717] Trial 646 finished with value: -1.0906197360359216e-05 and parameters: {'learning_rate': 0.016519812155582677, 'sigma_multiplier': 1.6224099092207829, 'initialization_multiplier': 0.06600201532758894}. Best is trial 77 with value: -0.00011012576492267536.\n"
     ]
    },
    {
     "name": "stdout",
     "output_type": "stream",
     "text": [
      "Training has not converged after 500 steps\n",
      "Trial 646 final loss: -0.00001091\n",
      "\n",
      "Trial 647: LR=0.012627, SigmaM=1.8607, InitM=0.251423\n"
     ]
    },
    {
     "name": "stderr",
     "output_type": "stream",
     "text": [
      "Training Progress: 100%|██████████| 500/500 [00:04<00:00, 122.05it/s, loss=0.000015, elapsed time=0.01, total time=4.11] \n",
      "[I 2025-05-23 10:18:30,841] Trial 647 finished with value: 1.47862202429302e-05 and parameters: {'learning_rate': 0.012627077418076239, 'sigma_multiplier': 1.8607369313928883, 'initialization_multiplier': 0.2514231031630142}. Best is trial 77 with value: -0.00011012576492267536.\n"
     ]
    },
    {
     "name": "stdout",
     "output_type": "stream",
     "text": [
      "Training has not converged after 500 steps\n",
      "Trial 647 final loss: 0.00001479\n",
      "\n",
      "Trial 648: LR=0.024095, SigmaM=1.9301, InitM=0.208818\n"
     ]
    },
    {
     "name": "stderr",
     "output_type": "stream",
     "text": [
      "Training Progress: 100%|██████████| 500/500 [00:04<00:00, 117.46it/s, loss=0.000092, elapsed time=0.01, total time=4.27] \n",
      "[I 2025-05-23 10:18:35,120] Trial 648 finished with value: 9.210037225543695e-05 and parameters: {'learning_rate': 0.024095129823662468, 'sigma_multiplier': 1.9301245626501993, 'initialization_multiplier': 0.2088184285988711}. Best is trial 77 with value: -0.00011012576492267536.\n"
     ]
    },
    {
     "name": "stdout",
     "output_type": "stream",
     "text": [
      "Training has not converged after 500 steps\n",
      "Trial 648 final loss: 0.00009210\n",
      "\n",
      "Trial 649: LR=0.018595, SigmaM=1.7120, InitM=0.684486\n"
     ]
    },
    {
     "name": "stderr",
     "output_type": "stream",
     "text": [
      "Training Progress: 100%|██████████| 500/500 [00:04<00:00, 118.37it/s, loss=-0.000003, elapsed time=0.01, total time=4.24]\n",
      "[I 2025-05-23 10:18:39,370] Trial 649 finished with value: -3.3328720951292064e-06 and parameters: {'learning_rate': 0.018595461692549466, 'sigma_multiplier': 1.712014512975761, 'initialization_multiplier': 0.684486310178323}. Best is trial 77 with value: -0.00011012576492267536.\n"
     ]
    },
    {
     "name": "stdout",
     "output_type": "stream",
     "text": [
      "Training has not converged after 500 steps\n",
      "Trial 649 final loss: -0.00000333\n",
      "\n",
      "Trial 650: LR=0.015405, SigmaM=1.8876, InitM=0.057263\n"
     ]
    },
    {
     "name": "stderr",
     "output_type": "stream",
     "text": [
      "Training Progress: 100%|██████████| 500/500 [00:04<00:00, 122.26it/s, loss=-0.000047, elapsed time=0.01, total time=4.1] \n",
      "[I 2025-05-23 10:18:43,483] Trial 650 finished with value: -4.682316323919633e-05 and parameters: {'learning_rate': 0.015405061147345961, 'sigma_multiplier': 1.8875984245155666, 'initialization_multiplier': 0.05726336552981261}. Best is trial 77 with value: -0.00011012576492267536.\n"
     ]
    },
    {
     "name": "stdout",
     "output_type": "stream",
     "text": [
      "Training has not converged after 500 steps\n",
      "Trial 650 final loss: -0.00004682\n",
      "\n",
      "Trial 651: LR=0.013975, SigmaM=1.8439, InitM=0.072815\n"
     ]
    },
    {
     "name": "stderr",
     "output_type": "stream",
     "text": [
      "Training Progress: 100%|██████████| 500/500 [00:04<00:00, 121.13it/s, loss=-0.000068, elapsed time=0.01, total time=4.14]\n",
      "[I 2025-05-23 10:18:47,637] Trial 651 finished with value: -6.757652601525511e-05 and parameters: {'learning_rate': 0.013974500612457415, 'sigma_multiplier': 1.8439158588331808, 'initialization_multiplier': 0.07281512085959653}. Best is trial 77 with value: -0.00011012576492267536.\n"
     ]
    },
    {
     "name": "stdout",
     "output_type": "stream",
     "text": [
      "Training has not converged after 500 steps\n",
      "Trial 651 final loss: -0.00006758\n",
      "\n",
      "Trial 652: LR=0.011592, SigmaM=0.9210, InitM=0.050617\n"
     ]
    },
    {
     "name": "stderr",
     "output_type": "stream",
     "text": [
      "Training Progress: 100%|██████████| 500/500 [00:04<00:00, 105.94it/s, loss=0.000525, elapsed time=0.01, total time=4.73]\n",
      "[I 2025-05-23 10:18:52,381] Trial 652 finished with value: 0.0005250343325506255 and parameters: {'learning_rate': 0.01159177023680043, 'sigma_multiplier': 0.9209951103264351, 'initialization_multiplier': 0.05061687194213665}. Best is trial 77 with value: -0.00011012576492267536.\n"
     ]
    },
    {
     "name": "stdout",
     "output_type": "stream",
     "text": [
      "Training has not converged after 500 steps\n",
      "Trial 652 final loss: 0.00052503\n",
      "\n",
      "Trial 653: LR=0.013657, SigmaM=1.8315, InitM=0.065134\n"
     ]
    },
    {
     "name": "stderr",
     "output_type": "stream",
     "text": [
      "Training Progress: 100%|██████████| 500/500 [00:04<00:00, 121.80it/s, loss=0.000066, elapsed time=0.01, total time=4.12] \n",
      "[I 2025-05-23 10:18:56,509] Trial 653 finished with value: 6.553083448438141e-05 and parameters: {'learning_rate': 0.013657417320173561, 'sigma_multiplier': 1.8314792216510412, 'initialization_multiplier': 0.06513392956894276}. Best is trial 77 with value: -0.00011012576492267536.\n"
     ]
    },
    {
     "name": "stdout",
     "output_type": "stream",
     "text": [
      "Training has not converged after 500 steps\n",
      "Trial 653 final loss: 0.00006553\n",
      "\n",
      "Trial 654: LR=0.010371, SigmaM=1.8380, InitM=0.141643\n"
     ]
    },
    {
     "name": "stderr",
     "output_type": "stream",
     "text": [
      "Training Progress: 100%|██████████| 500/500 [00:04<00:00, 120.54it/s, loss=0.000086, elapsed time=0.01, total time=4.16] \n",
      "[I 2025-05-23 10:19:00,682] Trial 654 finished with value: 8.645541420783926e-05 and parameters: {'learning_rate': 0.010371200659909012, 'sigma_multiplier': 1.8379650134894019, 'initialization_multiplier': 0.14164278379223086}. Best is trial 77 with value: -0.00011012576492267536.\n"
     ]
    },
    {
     "name": "stdout",
     "output_type": "stream",
     "text": [
      "Training has not converged after 500 steps\n",
      "Trial 654 final loss: 0.00008646\n",
      "\n",
      "Trial 655: LR=0.012037, SigmaM=1.8053, InitM=0.072236\n"
     ]
    },
    {
     "name": "stderr",
     "output_type": "stream",
     "text": [
      "Training Progress: 100%|██████████| 500/500 [00:04<00:00, 121.55it/s, loss=0.000032, elapsed time=0.01, total time=4.12] \n",
      "[I 2025-05-23 10:19:04,821] Trial 655 finished with value: 3.1635307113560905e-05 and parameters: {'learning_rate': 0.012037361975638664, 'sigma_multiplier': 1.8053005273238327, 'initialization_multiplier': 0.07223558528863078}. Best is trial 77 with value: -0.00011012576492267536.\n"
     ]
    },
    {
     "name": "stdout",
     "output_type": "stream",
     "text": [
      "Training has not converged after 500 steps\n",
      "Trial 655 final loss: 0.00003164\n",
      "\n",
      "Trial 656: LR=0.008124, SigmaM=1.7334, InitM=0.056691\n"
     ]
    },
    {
     "name": "stderr",
     "output_type": "stream",
     "text": [
      "Training Progress: 100%|██████████| 500/500 [00:04<00:00, 119.47it/s, loss=-0.000077, elapsed time=0.01, total time=4.2] \n",
      "[I 2025-05-23 10:19:09,029] Trial 656 finished with value: -7.691634989385217e-05 and parameters: {'learning_rate': 0.008123738398660693, 'sigma_multiplier': 1.7333886445747555, 'initialization_multiplier': 0.056691274768179395}. Best is trial 77 with value: -0.00011012576492267536.\n"
     ]
    },
    {
     "name": "stdout",
     "output_type": "stream",
     "text": [
      "Training has not converged after 500 steps\n",
      "Trial 656 final loss: -0.00007692\n",
      "\n",
      "Trial 657: LR=0.008760, SigmaM=1.7363, InitM=0.090130\n"
     ]
    },
    {
     "name": "stderr",
     "output_type": "stream",
     "text": [
      "Training Progress: 100%|██████████| 500/500 [00:04<00:00, 121.25it/s, loss=0.000010, elapsed time=0.01, total time=4.13] \n",
      "[I 2025-05-23 10:19:13,176] Trial 657 finished with value: 9.70042670723608e-06 and parameters: {'learning_rate': 0.00875967955465992, 'sigma_multiplier': 1.7363304678206462, 'initialization_multiplier': 0.09013017892295243}. Best is trial 77 with value: -0.00011012576492267536.\n"
     ]
    },
    {
     "name": "stdout",
     "output_type": "stream",
     "text": [
      "Training has not converged after 500 steps\n",
      "Trial 657 final loss: 0.00000970\n",
      "\n",
      "Trial 658: LR=0.007590, SigmaM=1.6651, InitM=0.060633\n"
     ]
    },
    {
     "name": "stderr",
     "output_type": "stream",
     "text": [
      "Training Progress: 100%|██████████| 500/500 [00:04<00:00, 120.43it/s, loss=0.000116, elapsed time=0.01, total time=4.16] \n",
      "[I 2025-05-23 10:19:17,352] Trial 658 finished with value: 0.00011561723986103932 and parameters: {'learning_rate': 0.007589843499450105, 'sigma_multiplier': 1.6651007739219488, 'initialization_multiplier': 0.06063317439257504}. Best is trial 77 with value: -0.00011012576492267536.\n"
     ]
    },
    {
     "name": "stdout",
     "output_type": "stream",
     "text": [
      "Training has not converged after 500 steps\n",
      "Trial 658 final loss: 0.00011562\n",
      "\n",
      "Trial 659: LR=0.008965, SigmaM=1.7105, InitM=0.122657\n"
     ]
    },
    {
     "name": "stderr",
     "output_type": "stream",
     "text": [
      "Training Progress: 100%|██████████| 500/500 [00:04<00:00, 121.32it/s, loss=0.000038, elapsed time=0.01, total time=4.13] \n",
      "[I 2025-05-23 10:19:21,496] Trial 659 finished with value: 3.822245022037286e-05 and parameters: {'learning_rate': 0.008964944315681638, 'sigma_multiplier': 1.7105158448328348, 'initialization_multiplier': 0.12265682157530403}. Best is trial 77 with value: -0.00011012576492267536.\n"
     ]
    },
    {
     "name": "stdout",
     "output_type": "stream",
     "text": [
      "Training has not converged after 500 steps\n",
      "Trial 659 final loss: 0.00003822\n",
      "\n",
      "Trial 660: LR=0.000301, SigmaM=1.7534, InitM=0.288324\n"
     ]
    },
    {
     "name": "stderr",
     "output_type": "stream",
     "text": [
      "Training Progress: 100%|██████████| 500/500 [00:04<00:00, 122.24it/s, loss=0.019527, elapsed time=0.01, total time=4.1] \n",
      "[I 2025-05-23 10:19:25,609] Trial 660 finished with value: 0.019526789324498216 and parameters: {'learning_rate': 0.0003011817940801712, 'sigma_multiplier': 1.753401824700055, 'initialization_multiplier': 0.2883235904665378}. Best is trial 77 with value: -0.00011012576492267536.\n"
     ]
    },
    {
     "name": "stdout",
     "output_type": "stream",
     "text": [
      "Training has not converged after 500 steps\n",
      "Trial 660 final loss: 0.01952679\n",
      "\n",
      "Trial 661: LR=0.010610, SigmaM=1.6947, InitM=0.072434\n"
     ]
    },
    {
     "name": "stderr",
     "output_type": "stream",
     "text": [
      "Training Progress: 100%|██████████| 500/500 [00:04<00:00, 120.08it/s, loss=0.000105, elapsed time=0.01, total time=4.17] \n",
      "[I 2025-05-23 10:19:29,795] Trial 661 finished with value: 0.0001047753605958973 and parameters: {'learning_rate': 0.010610495311824049, 'sigma_multiplier': 1.6946685299826898, 'initialization_multiplier': 0.07243355414899909}. Best is trial 77 with value: -0.00011012576492267536.\n"
     ]
    },
    {
     "name": "stdout",
     "output_type": "stream",
     "text": [
      "Training has not converged after 500 steps\n",
      "Trial 661 final loss: 0.00010478\n",
      "\n",
      "Trial 662: LR=0.007883, SigmaM=1.6315, InitM=0.170897\n"
     ]
    },
    {
     "name": "stderr",
     "output_type": "stream",
     "text": [
      "Training Progress: 100%|██████████| 500/500 [00:04<00:00, 117.21it/s, loss=0.000169, elapsed time=0.01, total time=4.28] \n",
      "[I 2025-05-23 10:19:34,084] Trial 662 finished with value: 0.00016886329502695287 and parameters: {'learning_rate': 0.007883060129506788, 'sigma_multiplier': 1.6315241829157021, 'initialization_multiplier': 0.1708973892921199}. Best is trial 77 with value: -0.00011012576492267536.\n"
     ]
    },
    {
     "name": "stdout",
     "output_type": "stream",
     "text": [
      "Training has not converged after 500 steps\n",
      "Trial 662 final loss: 0.00016886\n",
      "\n",
      "Trial 663: LR=0.009991, SigmaM=1.7442, InitM=0.078551\n"
     ]
    },
    {
     "name": "stderr",
     "output_type": "stream",
     "text": [
      "Training Progress: 100%|██████████| 500/500 [00:04<00:00, 119.82it/s, loss=0.000077, elapsed time=0.01, total time=4.18] \n",
      "[I 2025-05-23 10:19:38,283] Trial 663 finished with value: 7.673317261393894e-05 and parameters: {'learning_rate': 0.00999086869098348, 'sigma_multiplier': 1.7441752891714688, 'initialization_multiplier': 0.07855066643212544}. Best is trial 77 with value: -0.00011012576492267536.\n"
     ]
    },
    {
     "name": "stdout",
     "output_type": "stream",
     "text": [
      "Training has not converged after 500 steps\n",
      "Trial 663 final loss: 0.00007673\n",
      "\n",
      "Trial 664: LR=0.012872, SigmaM=1.6809, InitM=0.042030\n"
     ]
    },
    {
     "name": "stderr",
     "output_type": "stream",
     "text": [
      "Training Progress: 100%|██████████| 500/500 [00:04<00:00, 116.86it/s, loss=0.000089, elapsed time=0.01, total time=4.29] \n",
      "[I 2025-05-23 10:19:42,586] Trial 664 finished with value: 8.931245665481523e-05 and parameters: {'learning_rate': 0.012872171703693895, 'sigma_multiplier': 1.6809422908317688, 'initialization_multiplier': 0.04202973430047199}. Best is trial 77 with value: -0.00011012576492267536.\n"
     ]
    },
    {
     "name": "stdout",
     "output_type": "stream",
     "text": [
      "Training has not converged after 500 steps\n",
      "Trial 664 final loss: 0.00008931\n",
      "\n",
      "Trial 665: LR=0.015092, SigmaM=1.7850, InitM=0.101264\n"
     ]
    },
    {
     "name": "stderr",
     "output_type": "stream",
     "text": [
      "Training Progress: 100%|██████████| 500/500 [00:04<00:00, 120.90it/s, loss=-0.000005, elapsed time=0.01, total time=4.15]\n",
      "[I 2025-05-23 10:19:46,747] Trial 665 finished with value: -4.517688033717775e-06 and parameters: {'learning_rate': 0.015092399292805314, 'sigma_multiplier': 1.7850038535698698, 'initialization_multiplier': 0.1012642031960102}. Best is trial 77 with value: -0.00011012576492267536.\n"
     ]
    },
    {
     "name": "stdout",
     "output_type": "stream",
     "text": [
      "Training has not converged after 500 steps\n",
      "Trial 665 final loss: -0.00000452\n",
      "\n",
      "Trial 666: LR=0.006470, SigmaM=1.7375, InitM=0.057837\n"
     ]
    },
    {
     "name": "stderr",
     "output_type": "stream",
     "text": [
      "Training Progress: 100%|██████████| 500/500 [00:04<00:00, 119.92it/s, loss=0.000154, elapsed time=0.01, total time=4.18] \n",
      "[I 2025-05-23 10:19:50,939] Trial 666 finished with value: 0.0001536836298140118 and parameters: {'learning_rate': 0.0064697950959124355, 'sigma_multiplier': 1.737494405713353, 'initialization_multiplier': 0.05783682097325113}. Best is trial 77 with value: -0.00011012576492267536.\n"
     ]
    },
    {
     "name": "stdout",
     "output_type": "stream",
     "text": [
      "Training has not converged after 500 steps\n",
      "Trial 666 final loss: 0.00015368\n",
      "\n",
      "Trial 667: LR=0.011547, SigmaM=1.7681, InitM=0.111711\n"
     ]
    },
    {
     "name": "stderr",
     "output_type": "stream",
     "text": [
      "Training Progress: 100%|██████████| 500/500 [00:04<00:00, 120.37it/s, loss=-0.000010, elapsed time=0.01, total time=4.17]\n",
      "[I 2025-05-23 10:19:55,119] Trial 667 finished with value: -9.746025995496243e-06 and parameters: {'learning_rate': 0.01154738060049376, 'sigma_multiplier': 1.7681054398832812, 'initialization_multiplier': 0.11171132726870972}. Best is trial 77 with value: -0.00011012576492267536.\n"
     ]
    },
    {
     "name": "stdout",
     "output_type": "stream",
     "text": [
      "Training has not converged after 500 steps\n",
      "Trial 667 final loss: -0.00000975\n",
      "\n",
      "Trial 668: LR=0.008808, SigmaM=1.6422, InitM=0.090429\n"
     ]
    },
    {
     "name": "stderr",
     "output_type": "stream",
     "text": [
      "Training Progress: 100%|██████████| 500/500 [00:04<00:00, 119.66it/s, loss=0.000115, elapsed time=0.01, total time=4.19] \n",
      "[I 2025-05-23 10:19:59,324] Trial 668 finished with value: 0.00011458766831529483 and parameters: {'learning_rate': 0.008808334771059799, 'sigma_multiplier': 1.6421839923960895, 'initialization_multiplier': 0.09042901658395815}. Best is trial 77 with value: -0.00011012576492267536.\n"
     ]
    },
    {
     "name": "stdout",
     "output_type": "stream",
     "text": [
      "Training has not converged after 500 steps\n",
      "Trial 668 final loss: 0.00011459\n",
      "\n",
      "Trial 669: LR=0.013334, SigmaM=1.6953, InitM=0.065873\n"
     ]
    },
    {
     "name": "stderr",
     "output_type": "stream",
     "text": [
      "Training Progress: 100%|██████████| 500/500 [00:04<00:00, 118.66it/s, loss=0.000028, elapsed time=0.01, total time=4.23] \n",
      "[I 2025-05-23 10:20:03,570] Trial 669 finished with value: 2.7623064402907225e-05 and parameters: {'learning_rate': 0.013333541688910051, 'sigma_multiplier': 1.6952860278935813, 'initialization_multiplier': 0.06587338185005617}. Best is trial 77 with value: -0.00011012576492267536.\n"
     ]
    },
    {
     "name": "stdout",
     "output_type": "stream",
     "text": [
      "Training has not converged after 500 steps\n",
      "Trial 669 final loss: 0.00002762\n",
      "\n",
      "Trial 670: LR=0.010566, SigmaM=1.5743, InitM=0.003850\n"
     ]
    },
    {
     "name": "stderr",
     "output_type": "stream",
     "text": [
      "Training Progress: 100%|██████████| 500/500 [00:04<00:00, 117.28it/s, loss=0.000243, elapsed time=0.01, total time=4.27] \n",
      "[I 2025-05-23 10:20:07,856] Trial 670 finished with value: 0.00024258495661619333 and parameters: {'learning_rate': 0.010566320198649875, 'sigma_multiplier': 1.5742646870232917, 'initialization_multiplier': 0.0038495556343707605}. Best is trial 77 with value: -0.00011012576492267536.\n"
     ]
    },
    {
     "name": "stdout",
     "output_type": "stream",
     "text": [
      "Training has not converged after 500 steps\n",
      "Trial 670 final loss: 0.00024258\n",
      "\n",
      "Trial 671: LR=0.014711, SigmaM=1.7999, InitM=0.082120\n"
     ]
    },
    {
     "name": "stderr",
     "output_type": "stream",
     "text": [
      "Training Progress: 100%|██████████| 500/500 [00:04<00:00, 119.08it/s, loss=0.000196, elapsed time=0.01, total time=4.21] \n",
      "[I 2025-05-23 10:20:12,078] Trial 671 finished with value: 0.00019628890641884127 and parameters: {'learning_rate': 0.01471132913461319, 'sigma_multiplier': 1.799948981035655, 'initialization_multiplier': 0.08212029742574885}. Best is trial 77 with value: -0.00011012576492267536.\n"
     ]
    },
    {
     "name": "stdout",
     "output_type": "stream",
     "text": [
      "Training has not converged after 500 steps\n",
      "Trial 671 final loss: 0.00019629\n",
      "\n",
      "Trial 672: LR=0.016191, SigmaM=1.7091, InitM=0.050757\n"
     ]
    },
    {
     "name": "stderr",
     "output_type": "stream",
     "text": [
      "Training Progress: 100%|██████████| 500/500 [00:04<00:00, 119.21it/s, loss=0.000025, elapsed time=0.01, total time=4.2]  \n",
      "[I 2025-05-23 10:20:16,295] Trial 672 finished with value: 2.4727943834634982e-05 and parameters: {'learning_rate': 0.016190620363730424, 'sigma_multiplier': 1.7091066038068639, 'initialization_multiplier': 0.05075747040902162}. Best is trial 77 with value: -0.00011012576492267536.\n"
     ]
    },
    {
     "name": "stdout",
     "output_type": "stream",
     "text": [
      "Training has not converged after 500 steps\n",
      "Trial 672 final loss: 0.00002473\n",
      "\n",
      "Trial 673: LR=0.000084, SigmaM=1.6006, InitM=0.148210\n"
     ]
    },
    {
     "name": "stderr",
     "output_type": "stream",
     "text": [
      "Training Progress: 100%|██████████| 500/500 [00:03<00:00, 125.73it/s, loss=0.090603, elapsed time=0.01, total time=3.99]\n",
      "[I 2025-05-23 10:20:20,297] Trial 673 finished with value: 0.09060258658066157 and parameters: {'learning_rate': 8.37954481758212e-05, 'sigma_multiplier': 1.6005605829473677, 'initialization_multiplier': 0.14820990629185346}. Best is trial 77 with value: -0.00011012576492267536.\n"
     ]
    },
    {
     "name": "stdout",
     "output_type": "stream",
     "text": [
      "Training has not converged after 500 steps\n",
      "Trial 673 final loss: 0.09060259\n",
      "\n",
      "Trial 674: LR=0.011900, SigmaM=1.7713, InitM=0.072929\n"
     ]
    },
    {
     "name": "stderr",
     "output_type": "stream",
     "text": [
      "Training Progress: 100%|██████████| 500/500 [00:04<00:00, 120.18it/s, loss=0.000144, elapsed time=0.01, total time=4.17] \n",
      "[I 2025-05-23 10:20:24,482] Trial 674 finished with value: 0.00014421182103132614 and parameters: {'learning_rate': 0.011899800399869617, 'sigma_multiplier': 1.7712988183837393, 'initialization_multiplier': 0.07292946211765783}. Best is trial 77 with value: -0.00011012576492267536.\n"
     ]
    },
    {
     "name": "stdout",
     "output_type": "stream",
     "text": [
      "Training has not converged after 500 steps\n",
      "Trial 674 final loss: 0.00014421\n",
      "\n",
      "Trial 675: LR=0.008025, SigmaM=1.7396, InitM=0.117526\n"
     ]
    },
    {
     "name": "stderr",
     "output_type": "stream",
     "text": [
      "Training Progress: 100%|██████████| 500/500 [00:04<00:00, 119.51it/s, loss=-0.000063, elapsed time=0.01, total time=4.19]\n",
      "[I 2025-05-23 10:20:28,691] Trial 675 finished with value: -6.294933666146163e-05 and parameters: {'learning_rate': 0.008024626329339195, 'sigma_multiplier': 1.7396307071530153, 'initialization_multiplier': 0.11752629654413564}. Best is trial 77 with value: -0.00011012576492267536.\n"
     ]
    },
    {
     "name": "stdout",
     "output_type": "stream",
     "text": [
      "Training has not converged after 500 steps\n",
      "Trial 675 final loss: -0.00006295\n",
      "\n",
      "Trial 676: LR=0.009432, SigmaM=1.6681, InitM=0.062015\n"
     ]
    },
    {
     "name": "stderr",
     "output_type": "stream",
     "text": [
      "Training Progress: 100%|██████████| 500/500 [00:04<00:00, 118.24it/s, loss=0.000147, elapsed time=0.01, total time=4.24] \n",
      "[I 2025-05-23 10:20:32,944] Trial 676 finished with value: 0.00014740919740423 and parameters: {'learning_rate': 0.009431961766023397, 'sigma_multiplier': 1.6681004049525447, 'initialization_multiplier': 0.06201511836956042}. Best is trial 77 with value: -0.00011012576492267536.\n"
     ]
    },
    {
     "name": "stdout",
     "output_type": "stream",
     "text": [
      "Training has not converged after 500 steps\n",
      "Trial 676 final loss: 0.00014741\n",
      "\n",
      "Trial 677: LR=0.013822, SigmaM=1.8154, InitM=0.096452\n"
     ]
    },
    {
     "name": "stderr",
     "output_type": "stream",
     "text": [
      "Training Progress: 100%|██████████| 500/500 [00:04<00:00, 121.51it/s, loss=-0.000031, elapsed time=0.01, total time=4.13]\n",
      "[I 2025-05-23 10:20:37,083] Trial 677 finished with value: -3.0735161651519566e-05 and parameters: {'learning_rate': 0.013822408530819928, 'sigma_multiplier': 1.8154212627041675, 'initialization_multiplier': 0.0964521498079056}. Best is trial 77 with value: -0.00011012576492267536.\n"
     ]
    },
    {
     "name": "stdout",
     "output_type": "stream",
     "text": [
      "Training has not converged after 500 steps\n",
      "Trial 677 final loss: -0.00003074\n",
      "\n",
      "Trial 678: LR=0.017151, SigmaM=1.8453, InitM=0.081638\n"
     ]
    },
    {
     "name": "stderr",
     "output_type": "stream",
     "text": [
      "Training Progress: 100%|██████████| 500/500 [00:04<00:00, 121.49it/s, loss=-0.000016, elapsed time=0.01, total time=4.13]\n",
      "[I 2025-05-23 10:20:41,222] Trial 678 finished with value: -1.6430133468871955e-05 and parameters: {'learning_rate': 0.017151383713906943, 'sigma_multiplier': 1.845254068453151, 'initialization_multiplier': 0.08163783111748499}. Best is trial 77 with value: -0.00011012576492267536.\n"
     ]
    },
    {
     "name": "stdout",
     "output_type": "stream",
     "text": [
      "Training has not converged after 500 steps\n",
      "Trial 678 final loss: -0.00001643\n",
      "\n",
      "Trial 679: LR=0.010806, SigmaM=1.7249, InitM=0.188030\n"
     ]
    },
    {
     "name": "stderr",
     "output_type": "stream",
     "text": [
      "Training Progress: 100%|██████████| 500/500 [00:04<00:00, 119.49it/s, loss=0.000100, elapsed time=0.01, total time=4.19] \n",
      "[I 2025-05-23 10:20:45,432] Trial 679 finished with value: 9.992669473382551e-05 and parameters: {'learning_rate': 0.01080611824049403, 'sigma_multiplier': 1.7248665969421164, 'initialization_multiplier': 0.1880301800287768}. Best is trial 77 with value: -0.00011012576492267536.\n"
     ]
    },
    {
     "name": "stdout",
     "output_type": "stream",
     "text": [
      "Training has not converged after 500 steps\n",
      "Trial 679 final loss: 0.00009993\n",
      "\n",
      "Trial 680: LR=0.020346, SigmaM=1.7913, InitM=0.012298\n"
     ]
    },
    {
     "name": "stderr",
     "output_type": "stream",
     "text": [
      "Training Progress: 100%|██████████| 500/500 [00:04<00:00, 121.64it/s, loss=-0.000034, elapsed time=0.01, total time=4.12]\n",
      "[I 2025-05-23 10:20:49,565] Trial 680 finished with value: -3.422331393242438e-05 and parameters: {'learning_rate': 0.020346286597736327, 'sigma_multiplier': 1.7913380538059587, 'initialization_multiplier': 0.01229788689149802}. Best is trial 77 with value: -0.00011012576492267536.\n"
     ]
    },
    {
     "name": "stdout",
     "output_type": "stream",
     "text": [
      "Training has not converged after 500 steps\n",
      "Trial 680 final loss: -0.00003422\n",
      "\n",
      "Trial 681: LR=0.013719, SigmaM=1.6358, InitM=0.046366\n"
     ]
    },
    {
     "name": "stderr",
     "output_type": "stream",
     "text": [
      "Training Progress: 100%|██████████| 500/500 [00:04<00:00, 121.04it/s, loss=0.000064, elapsed time=0.01, total time=4.14] \n",
      "[I 2025-05-23 10:20:53,720] Trial 681 finished with value: 6.38563285538633e-05 and parameters: {'learning_rate': 0.013718611170312358, 'sigma_multiplier': 1.6357969943033313, 'initialization_multiplier': 0.04636604294429571}. Best is trial 77 with value: -0.00011012576492267536.\n"
     ]
    },
    {
     "name": "stdout",
     "output_type": "stream",
     "text": [
      "Training has not converged after 500 steps\n",
      "Trial 681 final loss: 0.00006386\n",
      "\n",
      "Trial 682: LR=0.012141, SigmaM=1.8547, InitM=0.131702\n"
     ]
    },
    {
     "name": "stderr",
     "output_type": "stream",
     "text": [
      "Training Progress: 100%|██████████| 500/500 [00:04<00:00, 122.87it/s, loss=-0.000052, elapsed time=0.01, total time=4.08]\n",
      "[I 2025-05-23 10:20:57,815] Trial 682 finished with value: -5.162370307383402e-05 and parameters: {'learning_rate': 0.012141174781666595, 'sigma_multiplier': 1.8547092482791045, 'initialization_multiplier': 0.13170150790466034}. Best is trial 77 with value: -0.00011012576492267536.\n"
     ]
    },
    {
     "name": "stdout",
     "output_type": "stream",
     "text": [
      "Training has not converged after 500 steps\n",
      "Trial 682 final loss: -0.00005162\n",
      "\n",
      "Trial 683: LR=0.016155, SigmaM=1.9982, InitM=0.007445\n"
     ]
    },
    {
     "name": "stderr",
     "output_type": "stream",
     "text": [
      "Training Progress: 100%|██████████| 500/500 [00:04<00:00, 118.50it/s, loss=0.000116, elapsed time=0.01, total time=4.23] \n",
      "[I 2025-05-23 10:21:02,059] Trial 683 finished with value: 0.00011558985561235502 and parameters: {'learning_rate': 0.01615549650190832, 'sigma_multiplier': 1.9981957352406983, 'initialization_multiplier': 0.0074453156568848565}. Best is trial 77 with value: -0.00011012576492267536.\n"
     ]
    },
    {
     "name": "stdout",
     "output_type": "stream",
     "text": [
      "Training has not converged after 500 steps\n",
      "Trial 683 final loss: 0.00011559\n",
      "\n",
      "Trial 684: LR=0.018969, SigmaM=1.7692, InitM=0.069087\n"
     ]
    },
    {
     "name": "stderr",
     "output_type": "stream",
     "text": [
      "Training Progress: 100%|██████████| 500/500 [00:04<00:00, 120.74it/s, loss=0.000044, elapsed time=0.01, total time=4.15] \n",
      "[I 2025-05-23 10:21:06,223] Trial 684 finished with value: 4.381654553643846e-05 and parameters: {'learning_rate': 0.01896889810397315, 'sigma_multiplier': 1.7692125770093874, 'initialization_multiplier': 0.06908714340307673}. Best is trial 77 with value: -0.00011012576492267536.\n"
     ]
    },
    {
     "name": "stdout",
     "output_type": "stream",
     "text": [
      "Training has not converged after 500 steps\n",
      "Trial 684 final loss: 0.00004382\n",
      "\n",
      "Trial 685: LR=0.009613, SigmaM=1.7237, InitM=0.056726\n"
     ]
    },
    {
     "name": "stderr",
     "output_type": "stream",
     "text": [
      "Training Progress: 100%|██████████| 500/500 [00:04<00:00, 120.21it/s, loss=0.000063, elapsed time=0.01, total time=4.17] \n",
      "[I 2025-05-23 10:21:10,407] Trial 685 finished with value: 6.343618287011522e-05 and parameters: {'learning_rate': 0.009613001965171283, 'sigma_multiplier': 1.7236872186212953, 'initialization_multiplier': 0.056726264575810724}. Best is trial 77 with value: -0.00011012576492267536.\n"
     ]
    },
    {
     "name": "stdout",
     "output_type": "stream",
     "text": [
      "Training has not converged after 500 steps\n",
      "Trial 685 final loss: 0.00006344\n",
      "\n",
      "Trial 686: LR=0.006908, SigmaM=1.8213, InitM=0.091765\n"
     ]
    },
    {
     "name": "stderr",
     "output_type": "stream",
     "text": [
      "Training Progress: 100%|██████████| 500/500 [00:04<00:00, 120.78it/s, loss=0.000049, elapsed time=0.01, total time=4.15] \n",
      "[I 2025-05-23 10:21:14,571] Trial 686 finished with value: 4.918887704447268e-05 and parameters: {'learning_rate': 0.006908401933824549, 'sigma_multiplier': 1.8213404933051742, 'initialization_multiplier': 0.09176470335663812}. Best is trial 77 with value: -0.00011012576492267536.\n"
     ]
    },
    {
     "name": "stdout",
     "output_type": "stream",
     "text": [
      "Training has not converged after 500 steps\n",
      "Trial 686 final loss: 0.00004919\n",
      "\n",
      "Trial 687: LR=0.031527, SigmaM=1.6604, InitM=0.106910\n"
     ]
    },
    {
     "name": "stderr",
     "output_type": "stream",
     "text": [
      "Training Progress: 100%|██████████| 500/500 [00:04<00:00, 119.67it/s, loss=0.000096, elapsed time=0.01, total time=4.19] \n",
      "[I 2025-05-23 10:21:18,774] Trial 687 finished with value: 9.581395700473562e-05 and parameters: {'learning_rate': 0.031527271860205354, 'sigma_multiplier': 1.6603875958998662, 'initialization_multiplier': 0.10691044598310076}. Best is trial 77 with value: -0.00011012576492267536.\n"
     ]
    },
    {
     "name": "stdout",
     "output_type": "stream",
     "text": [
      "Training has not converged after 500 steps\n",
      "Trial 687 final loss: 0.00009581\n",
      "\n",
      "Trial 688: LR=0.014348, SigmaM=1.9648, InitM=0.074334\n"
     ]
    },
    {
     "name": "stderr",
     "output_type": "stream",
     "text": [
      "Training Progress: 100%|██████████| 500/500 [00:04<00:00, 122.49it/s, loss=0.000086, elapsed time=0.01, total time=4.09] \n",
      "[I 2025-05-23 10:21:22,881] Trial 688 finished with value: 8.595978249954527e-05 and parameters: {'learning_rate': 0.014347670762395301, 'sigma_multiplier': 1.9647594829728559, 'initialization_multiplier': 0.07433356056700857}. Best is trial 77 with value: -0.00011012576492267536.\n"
     ]
    },
    {
     "name": "stdout",
     "output_type": "stream",
     "text": [
      "Training has not converged after 500 steps\n",
      "Trial 688 final loss: 0.00008596\n",
      "\n",
      "Trial 689: LR=0.023435, SigmaM=1.8940, InitM=0.065567\n"
     ]
    },
    {
     "name": "stderr",
     "output_type": "stream",
     "text": [
      "Training Progress: 100%|██████████| 500/500 [00:04<00:00, 121.31it/s, loss=0.000030, elapsed time=0.01, total time=4.13] \n",
      "[I 2025-05-23 10:21:27,027] Trial 689 finished with value: 2.9769509685938026e-05 and parameters: {'learning_rate': 0.0234353184077137, 'sigma_multiplier': 1.8940316744685144, 'initialization_multiplier': 0.06556678141369619}. Best is trial 77 with value: -0.00011012576492267536.\n"
     ]
    },
    {
     "name": "stdout",
     "output_type": "stream",
     "text": [
      "Training has not converged after 500 steps\n",
      "Trial 689 final loss: 0.00002977\n",
      "\n",
      "Trial 690: LR=0.011208, SigmaM=1.8578, InitM=0.054938\n"
     ]
    },
    {
     "name": "stderr",
     "output_type": "stream",
     "text": [
      "Training Progress: 100%|██████████| 500/500 [00:04<00:00, 122.13it/s, loss=0.000054, elapsed time=0.01, total time=4.1]  \n",
      "[I 2025-05-23 10:21:31,145] Trial 690 finished with value: 5.4000088597920475e-05 and parameters: {'learning_rate': 0.011207532230995784, 'sigma_multiplier': 1.8578041113662103, 'initialization_multiplier': 0.05493832484221986}. Best is trial 77 with value: -0.00011012576492267536.\n"
     ]
    },
    {
     "name": "stdout",
     "output_type": "stream",
     "text": [
      "Training has not converged after 500 steps\n",
      "Trial 690 final loss: 0.00005400\n",
      "\n",
      "Trial 691: LR=0.017197, SigmaM=1.5435, InitM=0.128036\n"
     ]
    },
    {
     "name": "stderr",
     "output_type": "stream",
     "text": [
      "Training Progress: 100%|██████████| 500/500 [00:04<00:00, 115.47it/s, loss=-0.000077, elapsed time=0.01, total time=4.34]\n",
      "[I 2025-05-23 10:21:35,500] Trial 691 finished with value: -7.686122840046984e-05 and parameters: {'learning_rate': 0.017197218669459845, 'sigma_multiplier': 1.5435022225067887, 'initialization_multiplier': 0.1280361020229588}. Best is trial 77 with value: -0.00011012576492267536.\n"
     ]
    },
    {
     "name": "stdout",
     "output_type": "stream",
     "text": [
      "Training has not converged after 500 steps\n",
      "Trial 691 final loss: -0.00007686\n",
      "\n",
      "Trial 692: LR=0.020428, SigmaM=1.5883, InitM=0.154212\n"
     ]
    },
    {
     "name": "stderr",
     "output_type": "stream",
     "text": [
      "Training Progress: 100%|██████████| 500/500 [00:04<00:00, 116.70it/s, loss=0.000126, elapsed time=0.01, total time=4.29] \n",
      "[I 2025-05-23 10:21:39,806] Trial 692 finished with value: 0.00012569957860036145 and parameters: {'learning_rate': 0.02042800545783727, 'sigma_multiplier': 1.588296809489612, 'initialization_multiplier': 0.15421192716592289}. Best is trial 77 with value: -0.00011012576492267536.\n"
     ]
    },
    {
     "name": "stdout",
     "output_type": "stream",
     "text": [
      "Training has not converged after 500 steps\n",
      "Trial 692 final loss: 0.00012570\n",
      "\n",
      "Trial 693: LR=0.017515, SigmaM=1.5037, InitM=0.133243\n"
     ]
    },
    {
     "name": "stderr",
     "output_type": "stream",
     "text": [
      "Training Progress: 100%|██████████| 500/500 [00:04<00:00, 116.78it/s, loss=0.000054, elapsed time=0.01, total time=4.29] \n",
      "[I 2025-05-23 10:21:44,113] Trial 693 finished with value: 5.391946243244012e-05 and parameters: {'learning_rate': 0.017515251785514795, 'sigma_multiplier': 1.5037311381308298, 'initialization_multiplier': 0.133242687287683}. Best is trial 77 with value: -0.00011012576492267536.\n"
     ]
    },
    {
     "name": "stdout",
     "output_type": "stream",
     "text": [
      "Training has not converged after 500 steps\n",
      "Trial 693 final loss: 0.00005392\n",
      "\n",
      "Trial 694: LR=0.026831, SigmaM=1.5707, InitM=0.131471\n"
     ]
    },
    {
     "name": "stderr",
     "output_type": "stream",
     "text": [
      "Training Progress: 100%|██████████| 500/500 [00:04<00:00, 118.04it/s, loss=-0.000003, elapsed time=0.01, total time=4.25]\n",
      "[I 2025-05-23 10:21:48,374] Trial 694 finished with value: -3.440177824657038e-06 and parameters: {'learning_rate': 0.026831376554381333, 'sigma_multiplier': 1.5706777555701033, 'initialization_multiplier': 0.13147117146045617}. Best is trial 77 with value: -0.00011012576492267536.\n"
     ]
    },
    {
     "name": "stdout",
     "output_type": "stream",
     "text": [
      "Training has not converged after 500 steps\n",
      "Trial 694 final loss: -0.00000344\n",
      "\n",
      "Trial 695: LR=0.020905, SigmaM=1.5084, InitM=0.151202\n"
     ]
    },
    {
     "name": "stderr",
     "output_type": "stream",
     "text": [
      "Training Progress: 100%|██████████| 500/500 [00:04<00:00, 116.95it/s, loss=0.000021, elapsed time=0.01, total time=4.29] \n",
      "[I 2025-05-23 10:21:52,674] Trial 695 finished with value: 2.0934384615543803e-05 and parameters: {'learning_rate': 0.0209053214897913, 'sigma_multiplier': 1.5083970125528778, 'initialization_multiplier': 0.15120170442216338}. Best is trial 77 with value: -0.00011012576492267536.\n"
     ]
    },
    {
     "name": "stdout",
     "output_type": "stream",
     "text": [
      "Training has not converged after 500 steps\n",
      "Trial 695 final loss: 0.00002093\n",
      "\n",
      "Trial 696: LR=0.017267, SigmaM=1.5504, InitM=0.120743\n"
     ]
    },
    {
     "name": "stderr",
     "output_type": "stream",
     "text": [
      "Training Progress: 100%|██████████| 500/500 [00:04<00:00, 117.12it/s, loss=-0.000000, elapsed time=0.01, total time=4.28]\n",
      "[I 2025-05-23 10:21:56,967] Trial 696 finished with value: -3.125439306321037e-07 and parameters: {'learning_rate': 0.017266564593523936, 'sigma_multiplier': 1.5503705183330079, 'initialization_multiplier': 0.12074287393520759}. Best is trial 77 with value: -0.00011012576492267536.\n"
     ]
    },
    {
     "name": "stdout",
     "output_type": "stream",
     "text": [
      "Training has not converged after 500 steps\n",
      "Trial 696 final loss: -0.00000031\n",
      "\n",
      "Trial 697: LR=0.015736, SigmaM=1.4541, InitM=0.187189\n"
     ]
    },
    {
     "name": "stderr",
     "output_type": "stream",
     "text": [
      "Training Progress: 100%|██████████| 500/500 [00:04<00:00, 116.91it/s, loss=0.000131, elapsed time=0.01, total time=4.29] \n",
      "[I 2025-05-23 10:22:01,270] Trial 697 finished with value: 0.0001310577132562514 and parameters: {'learning_rate': 0.015736187375119386, 'sigma_multiplier': 1.454094591985643, 'initialization_multiplier': 0.18718895572218136}. Best is trial 77 with value: -0.00011012576492267536.\n"
     ]
    },
    {
     "name": "stdout",
     "output_type": "stream",
     "text": [
      "Training has not converged after 500 steps\n",
      "Trial 697 final loss: 0.00013106\n",
      "\n",
      "Trial 698: LR=0.024946, SigmaM=1.5372, InitM=0.109256\n"
     ]
    },
    {
     "name": "stderr",
     "output_type": "stream",
     "text": [
      "Training Progress: 100%|██████████| 500/500 [00:04<00:00, 118.12it/s, loss=-0.000033, elapsed time=0.01, total time=4.24]\n",
      "[I 2025-05-23 10:22:05,527] Trial 698 finished with value: -3.287650532203961e-05 and parameters: {'learning_rate': 0.024946219698973458, 'sigma_multiplier': 1.537180147009105, 'initialization_multiplier': 0.10925554085898902}. Best is trial 77 with value: -0.00011012576492267536.\n"
     ]
    },
    {
     "name": "stdout",
     "output_type": "stream",
     "text": [
      "Training has not converged after 500 steps\n",
      "Trial 698 final loss: -0.00003288\n",
      "\n",
      "Trial 699: LR=0.014920, SigmaM=1.6042, InitM=0.163793\n"
     ]
    },
    {
     "name": "stderr",
     "output_type": "stream",
     "text": [
      "Training Progress: 100%|██████████| 500/500 [00:04<00:00, 118.20it/s, loss=0.000157, elapsed time=0.01, total time=4.24] \n",
      "[I 2025-05-23 10:22:09,781] Trial 699 finished with value: 0.00015717363027828134 and parameters: {'learning_rate': 0.014920421384155735, 'sigma_multiplier': 1.6042363196184353, 'initialization_multiplier': 0.16379282901362935}. Best is trial 77 with value: -0.00011012576492267536.\n"
     ]
    },
    {
     "name": "stdout",
     "output_type": "stream",
     "text": [
      "Training has not converged after 500 steps\n",
      "Trial 699 final loss: 0.00015717\n",
      "\n",
      "Trial 700: LR=0.018387, SigmaM=1.5230, InitM=0.127183\n"
     ]
    },
    {
     "name": "stderr",
     "output_type": "stream",
     "text": [
      "Training Progress: 100%|██████████| 500/500 [00:04<00:00, 118.96it/s, loss=0.000134, elapsed time=0.01, total time=4.21] \n",
      "[I 2025-05-23 10:22:14,008] Trial 700 finished with value: 0.00013391439159549313 and parameters: {'learning_rate': 0.018387436738282095, 'sigma_multiplier': 1.5230368573088982, 'initialization_multiplier': 0.12718286442861249}. Best is trial 77 with value: -0.00011012576492267536.\n"
     ]
    },
    {
     "name": "stdout",
     "output_type": "stream",
     "text": [
      "Training has not converged after 500 steps\n",
      "Trial 700 final loss: 0.00013391\n",
      "\n",
      "Trial 701: LR=0.022924, SigmaM=1.6397, InitM=0.106228\n"
     ]
    },
    {
     "name": "stderr",
     "output_type": "stream",
     "text": [
      "Training Progress: 100%|██████████| 500/500 [00:04<00:00, 119.39it/s, loss=0.000013, elapsed time=0.01, total time=4.2]  \n",
      "[I 2025-05-23 10:22:18,218] Trial 701 finished with value: 1.3450689101047895e-05 and parameters: {'learning_rate': 0.022924190102265457, 'sigma_multiplier': 1.6396561249839818, 'initialization_multiplier': 0.10622750621515456}. Best is trial 77 with value: -0.00011012576492267536.\n"
     ]
    },
    {
     "name": "stdout",
     "output_type": "stream",
     "text": [
      "Training has not converged after 500 steps\n",
      "Trial 701 final loss: 0.00001345\n",
      "\n",
      "Trial 702: LR=0.013536, SigmaM=1.6000, InitM=0.118202\n"
     ]
    },
    {
     "name": "stderr",
     "output_type": "stream",
     "text": [
      "Training Progress: 100%|██████████| 500/500 [00:04<00:00, 119.09it/s, loss=0.000130, elapsed time=0.01, total time=4.21] \n",
      "[I 2025-05-23 10:22:22,443] Trial 702 finished with value: 0.00012950152607237232 and parameters: {'learning_rate': 0.01353560471716404, 'sigma_multiplier': 1.6000002088097587, 'initialization_multiplier': 0.11820241058395949}. Best is trial 77 with value: -0.00011012576492267536.\n"
     ]
    },
    {
     "name": "stdout",
     "output_type": "stream",
     "text": [
      "Training has not converged after 500 steps\n",
      "Trial 702 final loss: 0.00012950\n",
      "\n",
      "Trial 703: LR=0.019699, SigmaM=1.6951, InitM=0.097534\n"
     ]
    },
    {
     "name": "stderr",
     "output_type": "stream",
     "text": [
      "Training Progress: 100%|██████████| 500/500 [00:04<00:00, 119.79it/s, loss=0.000019, elapsed time=0.01, total time=4.18] \n",
      "[I 2025-05-23 10:22:26,640] Trial 703 finished with value: 1.907071620721244e-05 and parameters: {'learning_rate': 0.019699231478017696, 'sigma_multiplier': 1.6951105203789818, 'initialization_multiplier': 0.09753354393831937}. Best is trial 77 with value: -0.00011012576492267536.\n"
     ]
    },
    {
     "name": "stdout",
     "output_type": "stream",
     "text": [
      "Training has not converged after 500 steps\n",
      "Trial 703 final loss: 0.00001907\n",
      "\n",
      "Trial 704: LR=0.016740, SigmaM=1.5443, InitM=0.002096\n"
     ]
    },
    {
     "name": "stderr",
     "output_type": "stream",
     "text": [
      "Training Progress: 100%|██████████| 500/500 [00:04<00:00, 118.95it/s, loss=0.000080, elapsed time=0.01, total time=4.21] \n",
      "[I 2025-05-23 10:22:30,867] Trial 704 finished with value: 7.955162617728648e-05 and parameters: {'learning_rate': 0.016739705273996708, 'sigma_multiplier': 1.5442899135520889, 'initialization_multiplier': 0.0020964954658734985}. Best is trial 77 with value: -0.00011012576492267536.\n"
     ]
    },
    {
     "name": "stdout",
     "output_type": "stream",
     "text": [
      "Training has not converged after 500 steps\n",
      "Trial 704 final loss: 0.00007955\n",
      "\n",
      "Trial 705: LR=0.012570, SigmaM=1.6175, InitM=0.026169\n"
     ]
    },
    {
     "name": "stderr",
     "output_type": "stream",
     "text": [
      "Training Progress: 100%|██████████| 500/500 [00:04<00:00, 119.56it/s, loss=0.000070, elapsed time=0.01, total time=4.19] \n",
      "[I 2025-05-23 10:22:35,070] Trial 705 finished with value: 6.975257355587645e-05 and parameters: {'learning_rate': 0.012570234396816194, 'sigma_multiplier': 1.617514054096529, 'initialization_multiplier': 0.026168532678936415}. Best is trial 77 with value: -0.00011012576492267536.\n"
     ]
    },
    {
     "name": "stdout",
     "output_type": "stream",
     "text": [
      "Training has not converged after 500 steps\n",
      "Trial 705 final loss: 0.00006975\n",
      "\n",
      "Trial 706: LR=0.015244, SigmaM=1.6737, InitM=0.134339\n"
     ]
    },
    {
     "name": "stderr",
     "output_type": "stream",
     "text": [
      "Training Progress: 100%|██████████| 500/500 [00:04<00:00, 117.59it/s, loss=0.000067, elapsed time=0.01, total time=4.26] \n",
      "[I 2025-05-23 10:22:39,348] Trial 706 finished with value: 6.702695218490035e-05 and parameters: {'learning_rate': 0.015243873235975139, 'sigma_multiplier': 1.6736513626142815, 'initialization_multiplier': 0.13433862851779854}. Best is trial 77 with value: -0.00011012576492267536.\n"
     ]
    },
    {
     "name": "stdout",
     "output_type": "stream",
     "text": [
      "Training has not converged after 500 steps\n",
      "Trial 706 final loss: 0.00006703\n",
      "\n",
      "Trial 707: LR=0.021119, SigmaM=1.7399, InitM=0.088754\n"
     ]
    },
    {
     "name": "stderr",
     "output_type": "stream",
     "text": [
      "Training Progress: 100%|██████████| 500/500 [00:04<00:00, 120.23it/s, loss=0.000039, elapsed time=0.01, total time=4.17] \n",
      "[I 2025-05-23 10:22:43,531] Trial 707 finished with value: 3.910762817328384e-05 and parameters: {'learning_rate': 0.02111863245326396, 'sigma_multiplier': 1.7398563995763396, 'initialization_multiplier': 0.08875416740976626}. Best is trial 77 with value: -0.00011012576492267536.\n"
     ]
    },
    {
     "name": "stdout",
     "output_type": "stream",
     "text": [
      "Training has not converged after 500 steps\n",
      "Trial 707 final loss: 0.00003911\n",
      "\n",
      "Trial 708: LR=0.013442, SigmaM=1.6501, InitM=0.101266\n"
     ]
    },
    {
     "name": "stderr",
     "output_type": "stream",
     "text": [
      "Training Progress: 100%|██████████| 500/500 [00:04<00:00, 119.58it/s, loss=0.000081, elapsed time=0.01, total time=4.19] \n",
      "[I 2025-05-23 10:22:47,735] Trial 708 finished with value: 8.06969294781017e-05 and parameters: {'learning_rate': 0.013441633554352305, 'sigma_multiplier': 1.650130622957569, 'initialization_multiplier': 0.10126600235924442}. Best is trial 77 with value: -0.00011012576492267536.\n"
     ]
    },
    {
     "name": "stdout",
     "output_type": "stream",
     "text": [
      "Training has not converged after 500 steps\n",
      "Trial 708 final loss: 0.00008070\n",
      "\n",
      "Trial 709: LR=0.030381, SigmaM=1.5743, InitM=0.020338\n"
     ]
    },
    {
     "name": "stderr",
     "output_type": "stream",
     "text": [
      "Training Progress: 100%|██████████| 500/500 [00:04<00:00, 119.30it/s, loss=-0.000046, elapsed time=0.01, total time=4.2] \n",
      "[I 2025-05-23 10:22:51,949] Trial 709 finished with value: -4.557001069223502e-05 and parameters: {'learning_rate': 0.03038114558794716, 'sigma_multiplier': 1.5743101865667133, 'initialization_multiplier': 0.020338370515766476}. Best is trial 77 with value: -0.00011012576492267536.\n"
     ]
    },
    {
     "name": "stdout",
     "output_type": "stream",
     "text": [
      "Training has not converged after 500 steps\n",
      "Trial 709 final loss: -0.00004557\n",
      "\n",
      "Trial 710: LR=0.018013, SigmaM=1.7684, InitM=0.145862\n"
     ]
    },
    {
     "name": "stderr",
     "output_type": "stream",
     "text": [
      "Training Progress: 100%|██████████| 500/500 [00:04<00:00, 120.99it/s, loss=-0.000010, elapsed time=0.01, total time=4.14]\n",
      "[I 2025-05-23 10:22:56,109] Trial 710 finished with value: -1.0185345181840429e-05 and parameters: {'learning_rate': 0.018013433113529768, 'sigma_multiplier': 1.768384286993731, 'initialization_multiplier': 0.14586185755581538}. Best is trial 77 with value: -0.00011012576492267536.\n"
     ]
    },
    {
     "name": "stdout",
     "output_type": "stream",
     "text": [
      "Training has not converged after 500 steps\n",
      "Trial 710 final loss: -0.00001019\n",
      "\n",
      "Trial 711: LR=0.015553, SigmaM=1.6786, InitM=0.116767\n"
     ]
    },
    {
     "name": "stderr",
     "output_type": "stream",
     "text": [
      "Training Progress: 100%|██████████| 500/500 [00:04<00:00, 119.85it/s, loss=-0.000034, elapsed time=0.01, total time=4.18]\n",
      "[I 2025-05-23 10:23:00,304] Trial 711 finished with value: -3.4042226013879674e-05 and parameters: {'learning_rate': 0.015553489515651187, 'sigma_multiplier': 1.6786007840554242, 'initialization_multiplier': 0.11676655862914202}. Best is trial 77 with value: -0.00011012576492267536.\n"
     ]
    },
    {
     "name": "stdout",
     "output_type": "stream",
     "text": [
      "Training has not converged after 500 steps\n",
      "Trial 711 final loss: -0.00003404\n",
      "\n",
      "Trial 712: LR=0.011795, SigmaM=1.7147, InitM=0.081895\n"
     ]
    },
    {
     "name": "stderr",
     "output_type": "stream",
     "text": [
      "Training Progress: 100%|██████████| 500/500 [00:04<00:00, 120.39it/s, loss=0.000076, elapsed time=0.01, total time=4.16] \n",
      "[I 2025-05-23 10:23:04,483] Trial 712 finished with value: 7.57056542276134e-05 and parameters: {'learning_rate': 0.01179486283863679, 'sigma_multiplier': 1.7147067919450816, 'initialization_multiplier': 0.08189480422258756}. Best is trial 77 with value: -0.00011012576492267536.\n"
     ]
    },
    {
     "name": "stdout",
     "output_type": "stream",
     "text": [
      "Training has not converged after 500 steps\n",
      "Trial 712 final loss: 0.00007571\n",
      "\n",
      "Trial 713: LR=0.025842, SigmaM=1.9459, InitM=0.364107\n"
     ]
    },
    {
     "name": "stderr",
     "output_type": "stream",
     "text": [
      "Training Progress: 100%|██████████| 500/500 [00:04<00:00, 121.35it/s, loss=0.000009, elapsed time=0.01, total time=4.13] \n",
      "[I 2025-05-23 10:23:08,629] Trial 713 finished with value: 8.920479430612365e-06 and parameters: {'learning_rate': 0.02584193213435099, 'sigma_multiplier': 1.9458929569006365, 'initialization_multiplier': 0.36410729188977314}. Best is trial 77 with value: -0.00011012576492267536.\n"
     ]
    },
    {
     "name": "stdout",
     "output_type": "stream",
     "text": [
      "Training has not converged after 500 steps\n",
      "Trial 713 final loss: 0.00000892\n",
      "\n",
      "Trial 714: LR=0.014694, SigmaM=1.9694, InitM=0.093246\n"
     ]
    },
    {
     "name": "stderr",
     "output_type": "stream",
     "text": [
      "Training Progress: 100%|██████████| 500/500 [00:04<00:00, 123.13it/s, loss=-0.000020, elapsed time=0.01, total time=4.07]\n",
      "[I 2025-05-23 10:23:12,713] Trial 714 finished with value: -1.9929090515361545e-05 and parameters: {'learning_rate': 0.014693707871471067, 'sigma_multiplier': 1.9694102622222431, 'initialization_multiplier': 0.09324623674565888}. Best is trial 77 with value: -0.00011012576492267536.\n"
     ]
    },
    {
     "name": "stdout",
     "output_type": "stream",
     "text": [
      "Training has not converged after 500 steps\n",
      "Trial 714 final loss: -0.00001993\n",
      "\n",
      "Trial 715: LR=0.041537, SigmaM=1.7851, InitM=0.228463\n"
     ]
    },
    {
     "name": "stderr",
     "output_type": "stream",
     "text": [
      "Training Progress: 100%|██████████| 500/500 [00:04<00:00, 120.72it/s, loss=0.000012, elapsed time=0.01, total time=4.15] \n",
      "[I 2025-05-23 10:23:16,881] Trial 715 finished with value: 1.1537139374574148e-05 and parameters: {'learning_rate': 0.04153744147324255, 'sigma_multiplier': 1.7850803220241207, 'initialization_multiplier': 0.22846293312330626}. Best is trial 77 with value: -0.00011012576492267536.\n"
     ]
    },
    {
     "name": "stdout",
     "output_type": "stream",
     "text": [
      "Training has not converged after 500 steps\n",
      "Trial 715 final loss: 0.00001154\n",
      "\n",
      "Trial 716: LR=0.020329, SigmaM=1.6290, InitM=0.005617\n"
     ]
    },
    {
     "name": "stderr",
     "output_type": "stream",
     "text": [
      "Training Progress: 100%|██████████| 500/500 [00:04<00:00, 119.78it/s, loss=0.000093, elapsed time=0.01, total time=4.18] \n",
      "[I 2025-05-23 10:23:21,081] Trial 716 finished with value: 9.330490373182235e-05 and parameters: {'learning_rate': 0.020328606639668876, 'sigma_multiplier': 1.629001076864415, 'initialization_multiplier': 0.0056172835009783845}. Best is trial 77 with value: -0.00011012576492267536.\n"
     ]
    },
    {
     "name": "stdout",
     "output_type": "stream",
     "text": [
      "Training has not converged after 500 steps\n",
      "Trial 716 final loss: 0.00009330\n",
      "\n",
      "Trial 717: LR=0.012347, SigmaM=0.8479, InitM=0.175005\n"
     ]
    },
    {
     "name": "stderr",
     "output_type": "stream",
     "text": [
      "Training Progress: 100%|██████████| 500/500 [00:04<00:00, 103.23it/s, loss=0.001052, elapsed time=0.01, total time=4.85]\n",
      "[I 2025-05-23 10:23:25,949] Trial 717 finished with value: 0.0010516367101497668 and parameters: {'learning_rate': 0.012347107912114963, 'sigma_multiplier': 0.8478652968706354, 'initialization_multiplier': 0.17500521133505265}. Best is trial 77 with value: -0.00011012576492267536.\n"
     ]
    },
    {
     "name": "stdout",
     "output_type": "stream",
     "text": [
      "Training has not converged after 500 steps\n",
      "Trial 717 final loss: 0.00105164\n",
      "\n",
      "Trial 718: LR=0.017404, SigmaM=1.7484, InitM=0.106609\n"
     ]
    },
    {
     "name": "stderr",
     "output_type": "stream",
     "text": [
      "Training Progress: 100%|██████████| 500/500 [00:04<00:00, 121.54it/s, loss=-0.000011, elapsed time=0.01, total time=4.12]\n",
      "[I 2025-05-23 10:23:30,086] Trial 718 finished with value: -1.0537843548057146e-05 and parameters: {'learning_rate': 0.017404247537464432, 'sigma_multiplier': 1.748447912981611, 'initialization_multiplier': 0.10660933561044654}. Best is trial 77 with value: -0.00011012576492267536.\n"
     ]
    },
    {
     "name": "stdout",
     "output_type": "stream",
     "text": [
      "Training has not converged after 500 steps\n",
      "Trial 718 final loss: -0.00001054\n",
      "\n",
      "Trial 719: LR=0.013980, SigmaM=1.8013, InitM=0.140846\n"
     ]
    },
    {
     "name": "stderr",
     "output_type": "stream",
     "text": [
      "Training Progress: 100%|██████████| 500/500 [00:04<00:00, 120.46it/s, loss=0.000031, elapsed time=0.01, total time=4.16] \n",
      "[I 2025-05-23 10:23:34,258] Trial 719 finished with value: 3.149373542723065e-05 and parameters: {'learning_rate': 0.01397953893608975, 'sigma_multiplier': 1.8012674290519666, 'initialization_multiplier': 0.14084591631420226}. Best is trial 77 with value: -0.00011012576492267536.\n"
     ]
    },
    {
     "name": "stdout",
     "output_type": "stream",
     "text": [
      "Training has not converged after 500 steps\n",
      "Trial 719 final loss: 0.00003149\n",
      "\n",
      "Trial 720: LR=0.022375, SigmaM=1.9953, InitM=0.086808\n"
     ]
    },
    {
     "name": "stderr",
     "output_type": "stream",
     "text": [
      "Training Progress: 100%|██████████| 500/500 [00:04<00:00, 122.70it/s, loss=0.000018, elapsed time=0.01, total time=4.09] \n",
      "[I 2025-05-23 10:23:38,356] Trial 720 finished with value: 1.849610739148739e-05 and parameters: {'learning_rate': 0.022374872596509405, 'sigma_multiplier': 1.9952501591084206, 'initialization_multiplier': 0.0868082325681912}. Best is trial 77 with value: -0.00011012576492267536.\n"
     ]
    },
    {
     "name": "stdout",
     "output_type": "stream",
     "text": [
      "Training has not converged after 500 steps\n",
      "Trial 720 final loss: 0.00001850\n",
      "\n",
      "Trial 721: LR=0.016050, SigmaM=1.7163, InitM=0.038926\n"
     ]
    },
    {
     "name": "stderr",
     "output_type": "stream",
     "text": [
      "Training Progress: 100%|██████████| 500/500 [00:04<00:00, 121.96it/s, loss=0.000137, elapsed time=0.01, total time=4.11] \n",
      "[I 2025-05-23 10:23:42,480] Trial 721 finished with value: 0.00013706073348046998 and parameters: {'learning_rate': 0.016050131794324313, 'sigma_multiplier': 1.716349987003238, 'initialization_multiplier': 0.03892605090039205}. Best is trial 77 with value: -0.00011012576492267536.\n"
     ]
    },
    {
     "name": "stdout",
     "output_type": "stream",
     "text": [
      "Training has not converged after 500 steps\n",
      "Trial 721 final loss: 0.00013706\n",
      "\n",
      "Trial 722: LR=0.010686, SigmaM=1.9308, InitM=0.120917\n"
     ]
    },
    {
     "name": "stderr",
     "output_type": "stream",
     "text": [
      "Training Progress: 100%|██████████| 500/500 [00:04<00:00, 123.30it/s, loss=-0.000007, elapsed time=0.01, total time=4.07]\n",
      "[I 2025-05-23 10:23:46,560] Trial 722 finished with value: -7.195050228092941e-06 and parameters: {'learning_rate': 0.010685909740648845, 'sigma_multiplier': 1.930796872762375, 'initialization_multiplier': 0.12091661104506357}. Best is trial 77 with value: -0.00011012576492267536.\n"
     ]
    },
    {
     "name": "stdout",
     "output_type": "stream",
     "text": [
      "Training has not converged after 500 steps\n",
      "Trial 722 final loss: -0.00000720\n",
      "\n",
      "Trial 723: LR=0.033930, SigmaM=1.6820, InitM=0.076689\n"
     ]
    },
    {
     "name": "stderr",
     "output_type": "stream",
     "text": [
      "Training Progress: 100%|██████████| 500/500 [00:04<00:00, 121.20it/s, loss=0.000069, elapsed time=0.01, total time=4.14] \n",
      "[I 2025-05-23 10:23:50,710] Trial 723 finished with value: 6.939009280662032e-05 and parameters: {'learning_rate': 0.03392996729125241, 'sigma_multiplier': 1.6820197827663108, 'initialization_multiplier': 0.0766894710704383}. Best is trial 77 with value: -0.00011012576492267536.\n"
     ]
    },
    {
     "name": "stdout",
     "output_type": "stream",
     "text": [
      "Training has not converged after 500 steps\n",
      "Trial 723 final loss: 0.00006939\n",
      "\n",
      "Trial 724: LR=0.012738, SigmaM=1.4811, InitM=0.100133\n"
     ]
    },
    {
     "name": "stderr",
     "output_type": "stream",
     "text": [
      "Training Progress: 100%|██████████| 500/500 [00:04<00:00, 118.72it/s, loss=-0.000052, elapsed time=0.01, total time=4.22]\n",
      "[I 2025-05-23 10:23:54,946] Trial 724 finished with value: -5.238217196683679e-05 and parameters: {'learning_rate': 0.01273842591666614, 'sigma_multiplier': 1.4810951273807413, 'initialization_multiplier': 0.10013260236235703}. Best is trial 77 with value: -0.00011012576492267536.\n"
     ]
    },
    {
     "name": "stdout",
     "output_type": "stream",
     "text": [
      "Training has not converged after 500 steps\n",
      "Trial 724 final loss: -0.00005238\n",
      "\n",
      "Trial 725: LR=0.018996, SigmaM=1.6084, InitM=0.031141\n"
     ]
    },
    {
     "name": "stderr",
     "output_type": "stream",
     "text": [
      "Training Progress: 100%|██████████| 500/500 [00:04<00:00, 119.28it/s, loss=0.000033, elapsed time=0.01, total time=4.2]  \n",
      "[I 2025-05-23 10:23:59,164] Trial 725 finished with value: 3.337167930542848e-05 and parameters: {'learning_rate': 0.01899649437374629, 'sigma_multiplier': 1.608403220022826, 'initialization_multiplier': 0.03114148747517103}. Best is trial 77 with value: -0.00011012576492267536.\n"
     ]
    },
    {
     "name": "stdout",
     "output_type": "stream",
     "text": [
      "Training has not converged after 500 steps\n",
      "Trial 725 final loss: 0.00003337\n",
      "\n",
      "Trial 726: LR=0.008438, SigmaM=1.7590, InitM=0.048159\n"
     ]
    },
    {
     "name": "stderr",
     "output_type": "stream",
     "text": [
      "Training Progress: 100%|██████████| 500/500 [00:04<00:00, 121.98it/s, loss=-0.000023, elapsed time=0.01, total time=4.11]\n",
      "[I 2025-05-23 10:24:03,289] Trial 726 finished with value: -2.3100444792457073e-05 and parameters: {'learning_rate': 0.008438057031442103, 'sigma_multiplier': 1.7589911236781202, 'initialization_multiplier': 0.04815911238171915}. Best is trial 77 with value: -0.00011012576492267536.\n"
     ]
    },
    {
     "name": "stdout",
     "output_type": "stream",
     "text": [
      "Training has not converged after 500 steps\n",
      "Trial 726 final loss: -0.00002310\n",
      "\n",
      "Trial 727: LR=0.011118, SigmaM=1.8208, InitM=0.079717\n"
     ]
    },
    {
     "name": "stderr",
     "output_type": "stream",
     "text": [
      "Training Progress: 100%|██████████| 500/500 [00:04<00:00, 122.07it/s, loss=-0.000036, elapsed time=0.01, total time=4.11]\n",
      "[I 2025-05-23 10:24:07,410] Trial 727 finished with value: -3.557712903695894e-05 and parameters: {'learning_rate': 0.011117932561631752, 'sigma_multiplier': 1.8208423386740027, 'initialization_multiplier': 0.07971650545791274}. Best is trial 77 with value: -0.00011012576492267536.\n"
     ]
    },
    {
     "name": "stdout",
     "output_type": "stream",
     "text": [
      "Training has not converged after 500 steps\n",
      "Trial 727 final loss: -0.00003558\n",
      "\n",
      "Trial 728: LR=0.016028, SigmaM=1.9012, InitM=0.158879\n"
     ]
    },
    {
     "name": "stderr",
     "output_type": "stream",
     "text": [
      "Training Progress: 100%|██████████| 500/500 [00:04<00:00, 119.54it/s, loss=-0.000007, elapsed time=0.01, total time=4.19]\n",
      "[I 2025-05-23 10:24:11,619] Trial 728 finished with value: -7.481574031440043e-06 and parameters: {'learning_rate': 0.016028364817823375, 'sigma_multiplier': 1.90123600497888, 'initialization_multiplier': 0.15887892261314968}. Best is trial 77 with value: -0.00011012576492267536.\n"
     ]
    },
    {
     "name": "stdout",
     "output_type": "stream",
     "text": [
      "Training has not converged after 500 steps\n",
      "Trial 728 final loss: -0.00000748\n",
      "\n",
      "Trial 729: LR=0.026241, SigmaM=1.3912, InitM=0.058702\n"
     ]
    },
    {
     "name": "stderr",
     "output_type": "stream",
     "text": [
      "Training Progress: 100%|██████████| 500/500 [00:04<00:00, 112.97it/s, loss=0.000048, elapsed time=0.01, total time=4.44] \n",
      "[I 2025-05-23 10:24:16,072] Trial 729 finished with value: 4.797778910079618e-05 and parameters: {'learning_rate': 0.026241071012278412, 'sigma_multiplier': 1.3911500621638393, 'initialization_multiplier': 0.05870238703127377}. Best is trial 77 with value: -0.00011012576492267536.\n"
     ]
    },
    {
     "name": "stdout",
     "output_type": "stream",
     "text": [
      "Training has not converged after 500 steps\n",
      "Trial 729 final loss: 0.00004798\n",
      "\n",
      "Trial 730: LR=0.013521, SigmaM=1.9398, InitM=0.113274\n"
     ]
    },
    {
     "name": "stderr",
     "output_type": "stream",
     "text": [
      "Training Progress: 100%|██████████| 500/500 [00:04<00:00, 123.22it/s, loss=0.000108, elapsed time=0.01, total time=4.07] \n",
      "[I 2025-05-23 10:24:20,156] Trial 730 finished with value: 0.00010817035057173394 and parameters: {'learning_rate': 0.013521049200637332, 'sigma_multiplier': 1.9398180224051096, 'initialization_multiplier': 0.11327392983734925}. Best is trial 77 with value: -0.00011012576492267536.\n"
     ]
    },
    {
     "name": "stdout",
     "output_type": "stream",
     "text": [
      "Training has not converged after 500 steps\n",
      "Trial 730 final loss: 0.00010817\n",
      "\n",
      "Trial 731: LR=0.020442, SigmaM=1.6511, InitM=0.070275\n"
     ]
    },
    {
     "name": "stderr",
     "output_type": "stream",
     "text": [
      "Training Progress: 100%|██████████| 500/500 [00:04<00:00, 121.43it/s, loss=0.000003, elapsed time=0.01, total time=4.13] \n",
      "[I 2025-05-23 10:24:24,297] Trial 731 finished with value: 3.230379206594539e-06 and parameters: {'learning_rate': 0.020441775471809892, 'sigma_multiplier': 1.6510946702983473, 'initialization_multiplier': 0.07027529175896494}. Best is trial 77 with value: -0.00011012576492267536.\n"
     ]
    },
    {
     "name": "stdout",
     "output_type": "stream",
     "text": [
      "Training has not converged after 500 steps\n",
      "Trial 731 final loss: 0.00000323\n",
      "\n",
      "Trial 732: LR=0.017022, SigmaM=1.8341, InitM=0.089263\n"
     ]
    },
    {
     "name": "stderr",
     "output_type": "stream",
     "text": [
      "Training Progress: 100%|██████████| 500/500 [00:05<00:00, 97.10it/s, loss=-0.000017, elapsed time=0.01, total time=5.16] \n",
      "[I 2025-05-23 10:24:29,470] Trial 732 finished with value: -1.6690347542327465e-05 and parameters: {'learning_rate': 0.017022199457763808, 'sigma_multiplier': 1.8340676128650837, 'initialization_multiplier': 0.08926319461154068}. Best is trial 77 with value: -0.00011012576492267536.\n"
     ]
    },
    {
     "name": "stdout",
     "output_type": "stream",
     "text": [
      "Training has not converged after 500 steps\n",
      "Trial 732 final loss: -0.00001669\n",
      "\n",
      "Trial 733: LR=0.009891, SigmaM=1.7169, InitM=0.100194\n"
     ]
    },
    {
     "name": "stderr",
     "output_type": "stream",
     "text": [
      "Training Progress: 100%|██████████| 500/500 [00:04<00:00, 120.16it/s, loss=-0.000022, elapsed time=0.01, total time=4.17]\n",
      "[I 2025-05-23 10:24:33,655] Trial 733 finished with value: -2.179017606887084e-05 and parameters: {'learning_rate': 0.009890818661905464, 'sigma_multiplier': 1.7169236543907984, 'initialization_multiplier': 0.10019372742163904}. Best is trial 77 with value: -0.00011012576492267536.\n"
     ]
    },
    {
     "name": "stdout",
     "output_type": "stream",
     "text": [
      "Training has not converged after 500 steps\n",
      "Trial 733 final loss: -0.00002179\n",
      "\n",
      "Trial 734: LR=0.005940, SigmaM=1.9984, InitM=0.141741\n"
     ]
    },
    {
     "name": "stderr",
     "output_type": "stream",
     "text": [
      "Training Progress: 100%|██████████| 500/500 [00:04<00:00, 121.61it/s, loss=0.000018, elapsed time=0.01, total time=4.12] \n",
      "[I 2025-05-23 10:24:37,790] Trial 734 finished with value: 1.8078261289296235e-05 and parameters: {'learning_rate': 0.005940045186286899, 'sigma_multiplier': 1.9983515117941881, 'initialization_multiplier': 0.14174106769121889}. Best is trial 77 with value: -0.00011012576492267536.\n"
     ]
    },
    {
     "name": "stdout",
     "output_type": "stream",
     "text": [
      "Training has not converged after 500 steps\n",
      "Trial 734 final loss: 0.00001808\n",
      "\n",
      "Trial 735: LR=0.000054, SigmaM=1.7823, InitM=0.063623\n"
     ]
    },
    {
     "name": "stderr",
     "output_type": "stream",
     "text": [
      "Training Progress: 100%|██████████| 500/500 [00:03<00:00, 128.55it/s, loss=0.093063, elapsed time=0.01, total time=3.9] \n",
      "[I 2025-05-23 10:24:41,707] Trial 735 finished with value: 0.09306253639945615 and parameters: {'learning_rate': 5.378025709439568e-05, 'sigma_multiplier': 1.7822646740364274, 'initialization_multiplier': 0.06362342357404428}. Best is trial 77 with value: -0.00011012576492267536.\n"
     ]
    },
    {
     "name": "stdout",
     "output_type": "stream",
     "text": [
      "Training has not converged after 500 steps\n",
      "Trial 735 final loss: 0.09306254\n",
      "\n",
      "Trial 736: LR=0.022844, SigmaM=1.5442, InitM=0.051572\n"
     ]
    },
    {
     "name": "stderr",
     "output_type": "stream",
     "text": [
      "Training Progress: 100%|██████████| 500/500 [00:04<00:00, 117.77it/s, loss=-0.000012, elapsed time=0.01, total time=4.26]\n",
      "[I 2025-05-23 10:24:45,976] Trial 736 finished with value: -1.1925916710122583e-05 and parameters: {'learning_rate': 0.022844373879621665, 'sigma_multiplier': 1.5441631828003188, 'initialization_multiplier': 0.05157169020257327}. Best is trial 77 with value: -0.00011012576492267536.\n"
     ]
    },
    {
     "name": "stdout",
     "output_type": "stream",
     "text": [
      "Training has not converged after 500 steps\n",
      "Trial 736 final loss: -0.00001193\n",
      "\n",
      "Trial 737: LR=0.014252, SigmaM=1.8991, InitM=0.079139\n"
     ]
    },
    {
     "name": "stderr",
     "output_type": "stream",
     "text": [
      "Training Progress: 100%|██████████| 500/500 [00:04<00:00, 123.06it/s, loss=-0.000070, elapsed time=0.01, total time=4.07]\n",
      "[I 2025-05-23 10:24:50,065] Trial 737 finished with value: -6.967029824389283e-05 and parameters: {'learning_rate': 0.01425209421365765, 'sigma_multiplier': 1.8991388864390684, 'initialization_multiplier': 0.07913921380286873}. Best is trial 77 with value: -0.00011012576492267536.\n"
     ]
    },
    {
     "name": "stdout",
     "output_type": "stream",
     "text": [
      "Training has not converged after 500 steps\n",
      "Trial 737 final loss: -0.00006967\n",
      "\n",
      "Trial 738: LR=0.011268, SigmaM=1.9009, InitM=0.127613\n"
     ]
    },
    {
     "name": "stderr",
     "output_type": "stream",
     "text": [
      "Training Progress: 100%|██████████| 500/500 [00:04<00:00, 120.37it/s, loss=0.000049, elapsed time=0.01, total time=4.16] \n",
      "[I 2025-05-23 10:24:54,243] Trial 738 finished with value: 4.9406116247323725e-05 and parameters: {'learning_rate': 0.01126754648293177, 'sigma_multiplier': 1.900893842196617, 'initialization_multiplier': 0.12761286431439253}. Best is trial 77 with value: -0.00011012576492267536.\n"
     ]
    },
    {
     "name": "stdout",
     "output_type": "stream",
     "text": [
      "Training has not converged after 500 steps\n",
      "Trial 738 final loss: 0.00004941\n",
      "\n",
      "Trial 739: LR=0.013802, SigmaM=1.9229, InitM=0.083710\n"
     ]
    },
    {
     "name": "stderr",
     "output_type": "stream",
     "text": [
      "Training Progress: 100%|██████████| 500/500 [00:04<00:00, 122.15it/s, loss=-0.000083, elapsed time=0.01, total time=4.1] \n",
      "[I 2025-05-23 10:24:58,361] Trial 739 finished with value: -8.32490272663116e-05 and parameters: {'learning_rate': 0.013801977196809385, 'sigma_multiplier': 1.9229071240285118, 'initialization_multiplier': 0.0837104256521976}. Best is trial 77 with value: -0.00011012576492267536.\n"
     ]
    },
    {
     "name": "stdout",
     "output_type": "stream",
     "text": [
      "Training has not converged after 500 steps\n",
      "Trial 739 final loss: -0.00008325\n",
      "\n",
      "Trial 740: LR=0.012658, SigmaM=1.8704, InitM=0.085088\n"
     ]
    },
    {
     "name": "stderr",
     "output_type": "stream",
     "text": [
      "Training Progress: 100%|██████████| 500/500 [00:04<00:00, 121.84it/s, loss=-0.000009, elapsed time=0.01, total time=4.12]\n",
      "[I 2025-05-23 10:25:02,490] Trial 740 finished with value: -8.993743996666678e-06 and parameters: {'learning_rate': 0.0126577066113351, 'sigma_multiplier': 1.8703902476147236, 'initialization_multiplier': 0.08508841061301498}. Best is trial 77 with value: -0.00011012576492267536.\n"
     ]
    },
    {
     "name": "stdout",
     "output_type": "stream",
     "text": [
      "Training has not converged after 500 steps\n",
      "Trial 740 final loss: -0.00000899\n",
      "\n",
      "Trial 741: LR=0.008018, SigmaM=1.8701, InitM=0.074523\n"
     ]
    },
    {
     "name": "stderr",
     "output_type": "stream",
     "text": [
      "Training Progress: 100%|██████████| 500/500 [00:04<00:00, 120.13it/s, loss=0.000116, elapsed time=0.01, total time=4.17] \n",
      "[I 2025-05-23 10:25:06,675] Trial 741 finished with value: 0.00011606199321623963 and parameters: {'learning_rate': 0.008018207302727618, 'sigma_multiplier': 1.8701146069522656, 'initialization_multiplier': 0.0745233629330321}. Best is trial 77 with value: -0.00011012576492267536.\n"
     ]
    },
    {
     "name": "stdout",
     "output_type": "stream",
     "text": [
      "Training has not converged after 500 steps\n",
      "Trial 741 final loss: 0.00011606\n",
      "\n",
      "Trial 742: LR=0.009854, SigmaM=1.9165, InitM=0.081071\n"
     ]
    },
    {
     "name": "stderr",
     "output_type": "stream",
     "text": [
      "Training Progress: 100%|██████████| 500/500 [00:04<00:00, 122.14it/s, loss=-0.000032, elapsed time=0.01, total time=4.11]\n",
      "[I 2025-05-23 10:25:10,796] Trial 742 finished with value: -3.223257742845679e-05 and parameters: {'learning_rate': 0.009854465301519125, 'sigma_multiplier': 1.916456552754222, 'initialization_multiplier': 0.08107142387276821}. Best is trial 77 with value: -0.00011012576492267536.\n"
     ]
    },
    {
     "name": "stdout",
     "output_type": "stream",
     "text": [
      "Training has not converged after 500 steps\n",
      "Trial 742 final loss: -0.00003223\n",
      "\n",
      "Trial 743: LR=0.013201, SigmaM=1.8581, InitM=0.070691\n"
     ]
    },
    {
     "name": "stderr",
     "output_type": "stream",
     "text": [
      "Training Progress: 100%|██████████| 500/500 [00:04<00:00, 121.96it/s, loss=0.000085, elapsed time=0.01, total time=4.11] \n",
      "[I 2025-05-23 10:25:14,920] Trial 743 finished with value: 8.455043291776768e-05 and parameters: {'learning_rate': 0.013201341582303855, 'sigma_multiplier': 1.8581292549536659, 'initialization_multiplier': 0.0706907599858163}. Best is trial 77 with value: -0.00011012576492267536.\n"
     ]
    },
    {
     "name": "stdout",
     "output_type": "stream",
     "text": [
      "Training has not converged after 500 steps\n",
      "Trial 743 final loss: 0.00008455\n",
      "\n",
      "Trial 744: LR=0.011233, SigmaM=1.9091, InitM=0.092552\n"
     ]
    },
    {
     "name": "stderr",
     "output_type": "stream",
     "text": [
      "Training Progress: 100%|██████████| 500/500 [00:04<00:00, 121.86it/s, loss=0.000027, elapsed time=0.01, total time=4.11] \n",
      "[I 2025-05-23 10:25:19,048] Trial 744 finished with value: 2.7007568203419744e-05 and parameters: {'learning_rate': 0.011232840531749208, 'sigma_multiplier': 1.9090816856710633, 'initialization_multiplier': 0.09255235887961867}. Best is trial 77 with value: -0.00011012576492267536.\n"
     ]
    },
    {
     "name": "stdout",
     "output_type": "stream",
     "text": [
      "Training has not converged after 500 steps\n",
      "Trial 744 final loss: 0.00002701\n",
      "\n",
      "Trial 745: LR=0.008817, SigmaM=1.8234, InitM=0.080788\n"
     ]
    },
    {
     "name": "stderr",
     "output_type": "stream",
     "text": [
      "Training Progress: 100%|██████████| 500/500 [00:04<00:00, 121.50it/s, loss=0.000007, elapsed time=0.01, total time=4.13] \n",
      "[I 2025-05-23 10:25:23,187] Trial 745 finished with value: 7.29490487476171e-06 and parameters: {'learning_rate': 0.008816932341335893, 'sigma_multiplier': 1.8234035077654147, 'initialization_multiplier': 0.08078781243481964}. Best is trial 77 with value: -0.00011012576492267536.\n"
     ]
    },
    {
     "name": "stdout",
     "output_type": "stream",
     "text": [
      "Training has not converged after 500 steps\n",
      "Trial 745 final loss: 0.00000729\n",
      "\n",
      "Trial 746: LR=0.014671, SigmaM=1.9316, InitM=0.575460\n"
     ]
    },
    {
     "name": "stderr",
     "output_type": "stream",
     "text": [
      "Training Progress: 100%|██████████| 500/500 [00:04<00:00, 121.91it/s, loss=0.000092, elapsed time=0.01, total time=4.11] \n",
      "[I 2025-05-23 10:25:27,316] Trial 746 finished with value: 9.237001816067888e-05 and parameters: {'learning_rate': 0.01467057144116431, 'sigma_multiplier': 1.9316227677823286, 'initialization_multiplier': 0.5754599886226267}. Best is trial 77 with value: -0.00011012576492267536.\n"
     ]
    },
    {
     "name": "stdout",
     "output_type": "stream",
     "text": [
      "Training has not converged after 500 steps\n",
      "Trial 746 final loss: 0.00009237\n",
      "\n",
      "Trial 747: LR=0.012052, SigmaM=1.8735, InitM=0.059369\n"
     ]
    },
    {
     "name": "stderr",
     "output_type": "stream",
     "text": [
      "Training Progress: 100%|██████████| 500/500 [00:04<00:00, 122.37it/s, loss=0.000008, elapsed time=0.01, total time=4.1]  \n",
      "[I 2025-05-23 10:25:31,426] Trial 747 finished with value: 7.528510721236279e-06 and parameters: {'learning_rate': 0.012051626785236818, 'sigma_multiplier': 1.8734922484696053, 'initialization_multiplier': 0.05936854215199425}. Best is trial 77 with value: -0.00011012576492267536.\n"
     ]
    },
    {
     "name": "stdout",
     "output_type": "stream",
     "text": [
      "Training has not converged after 500 steps\n",
      "Trial 747 final loss: 0.00000753\n",
      "\n",
      "Trial 748: LR=0.013873, SigmaM=1.8455, InitM=0.069653\n"
     ]
    },
    {
     "name": "stderr",
     "output_type": "stream",
     "text": [
      "Training Progress: 100%|██████████| 500/500 [00:04<00:00, 121.50it/s, loss=0.000109, elapsed time=0.01, total time=4.13] \n",
      "[I 2025-05-23 10:25:35,568] Trial 748 finished with value: 0.000108589486591326 and parameters: {'learning_rate': 0.013873344012476627, 'sigma_multiplier': 1.8454672982358324, 'initialization_multiplier': 0.06965280014959141}. Best is trial 77 with value: -0.00011012576492267536.\n"
     ]
    },
    {
     "name": "stdout",
     "output_type": "stream",
     "text": [
      "Training has not converged after 500 steps\n",
      "Trial 748 final loss: 0.00010859\n",
      "\n",
      "Trial 749: LR=0.017061, SigmaM=1.9441, InitM=0.094146\n"
     ]
    },
    {
     "name": "stderr",
     "output_type": "stream",
     "text": [
      "Training Progress: 100%|██████████| 500/500 [00:04<00:00, 121.29it/s, loss=-0.000021, elapsed time=0.01, total time=4.13]\n",
      "[I 2025-05-23 10:25:39,716] Trial 749 finished with value: -2.0607014054019956e-05 and parameters: {'learning_rate': 0.01706094839617807, 'sigma_multiplier': 1.9440614567470496, 'initialization_multiplier': 0.0941458953332283}. Best is trial 77 with value: -0.00011012576492267536.\n"
     ]
    },
    {
     "name": "stdout",
     "output_type": "stream",
     "text": [
      "Training has not converged after 500 steps\n",
      "Trial 749 final loss: -0.00002061\n",
      "\n",
      "Trial 750: LR=0.009974, SigmaM=1.8922, InitM=0.078866\n"
     ]
    },
    {
     "name": "stderr",
     "output_type": "stream",
     "text": [
      "Training Progress: 100%|██████████| 500/500 [00:04<00:00, 121.24it/s, loss=-0.000034, elapsed time=0.01, total time=4.14]\n",
      "[I 2025-05-23 10:25:43,867] Trial 750 finished with value: -3.406332641091892e-05 and parameters: {'learning_rate': 0.009973939009322865, 'sigma_multiplier': 1.8922333678336767, 'initialization_multiplier': 0.07886602105796825}. Best is trial 77 with value: -0.00011012576492267536.\n"
     ]
    },
    {
     "name": "stdout",
     "output_type": "stream",
     "text": [
      "Training has not converged after 500 steps\n",
      "Trial 750 final loss: -0.00003406\n",
      "\n",
      "Trial 751: LR=0.014843, SigmaM=1.8236, InitM=0.418097\n"
     ]
    },
    {
     "name": "stderr",
     "output_type": "stream",
     "text": [
      "Training Progress: 100%|██████████| 500/500 [00:04<00:00, 119.71it/s, loss=0.000037, elapsed time=0.01, total time=4.19] \n",
      "[I 2025-05-23 10:25:48,068] Trial 751 finished with value: 3.721699490194414e-05 and parameters: {'learning_rate': 0.014843439018030657, 'sigma_multiplier': 1.8235654450217955, 'initialization_multiplier': 0.4180969052204016}. Best is trial 77 with value: -0.00011012576492267536.\n"
     ]
    },
    {
     "name": "stdout",
     "output_type": "stream",
     "text": [
      "Training has not converged after 500 steps\n",
      "Trial 751 final loss: 0.00003722\n",
      "\n",
      "Trial 752: LR=0.007002, SigmaM=1.9600, InitM=0.065292\n"
     ]
    },
    {
     "name": "stderr",
     "output_type": "stream",
     "text": [
      "Training Progress: 100%|██████████| 500/500 [00:04<00:00, 122.92it/s, loss=-0.000040, elapsed time=0.01, total time=4.08]\n",
      "[I 2025-05-23 10:25:52,166] Trial 752 finished with value: -4.033297194678861e-05 and parameters: {'learning_rate': 0.007002159621273462, 'sigma_multiplier': 1.9600237114043022, 'initialization_multiplier': 0.06529156017798013}. Best is trial 77 with value: -0.00011012576492267536.\n"
     ]
    },
    {
     "name": "stdout",
     "output_type": "stream",
     "text": [
      "Training has not converged after 500 steps\n",
      "Trial 752 final loss: -0.00004033\n",
      "\n",
      "Trial 753: LR=0.011294, SigmaM=1.8516, InitM=0.055736\n"
     ]
    },
    {
     "name": "stderr",
     "output_type": "stream",
     "text": [
      "Training Progress: 100%|██████████| 500/500 [00:04<00:00, 121.08it/s, loss=-0.000053, elapsed time=0.01, total time=4.14]\n",
      "[I 2025-05-23 10:25:56,322] Trial 753 finished with value: -5.288023069299105e-05 and parameters: {'learning_rate': 0.011294121414197379, 'sigma_multiplier': 1.851569794472781, 'initialization_multiplier': 0.05573583460760265}. Best is trial 77 with value: -0.00011012576492267536.\n"
     ]
    },
    {
     "name": "stdout",
     "output_type": "stream",
     "text": [
      "Training has not converged after 500 steps\n",
      "Trial 753 final loss: -0.00005288\n",
      "\n",
      "Trial 754: LR=0.018484, SigmaM=1.8954, InitM=0.102150\n"
     ]
    },
    {
     "name": "stderr",
     "output_type": "stream",
     "text": [
      "Training Progress: 100%|██████████| 500/500 [00:04<00:00, 122.54it/s, loss=0.000073, elapsed time=0.01, total time=4.09] \n",
      "[I 2025-05-23 10:26:00,425] Trial 754 finished with value: 7.274043146493966e-05 and parameters: {'learning_rate': 0.01848430491917855, 'sigma_multiplier': 1.8954055733958899, 'initialization_multiplier': 0.10215006342503855}. Best is trial 77 with value: -0.00011012576492267536.\n"
     ]
    },
    {
     "name": "stdout",
     "output_type": "stream",
     "text": [
      "Training has not converged after 500 steps\n",
      "Trial 754 final loss: 0.00007274\n",
      "\n",
      "Trial 755: LR=0.029056, SigmaM=1.9208, InitM=0.041741\n"
     ]
    },
    {
     "name": "stderr",
     "output_type": "stream",
     "text": [
      "Training Progress: 100%|██████████| 500/500 [00:04<00:00, 123.06it/s, loss=-0.000045, elapsed time=0.01, total time=4.07]\n",
      "[I 2025-05-23 10:26:04,512] Trial 755 finished with value: -4.471043972739412e-05 and parameters: {'learning_rate': 0.029055924465959282, 'sigma_multiplier': 1.9208382524916257, 'initialization_multiplier': 0.04174079924477782}. Best is trial 77 with value: -0.00011012576492267536.\n"
     ]
    },
    {
     "name": "stdout",
     "output_type": "stream",
     "text": [
      "Training has not converged after 500 steps\n",
      "Trial 755 final loss: -0.00004471\n",
      "\n",
      "Trial 756: LR=0.013243, SigmaM=1.8005, InitM=0.088520\n"
     ]
    },
    {
     "name": "stderr",
     "output_type": "stream",
     "text": [
      "Training Progress: 100%|██████████| 500/500 [00:04<00:00, 122.18it/s, loss=0.000047, elapsed time=0.01, total time=4.1]  \n",
      "[I 2025-05-23 10:26:08,630] Trial 756 finished with value: 4.6936921068510436e-05 and parameters: {'learning_rate': 0.013243243830168089, 'sigma_multiplier': 1.8004697824460756, 'initialization_multiplier': 0.08851954860777857}. Best is trial 77 with value: -0.00011012576492267536.\n"
     ]
    },
    {
     "name": "stdout",
     "output_type": "stream",
     "text": [
      "Training has not converged after 500 steps\n",
      "Trial 756 final loss: 0.00004694\n",
      "\n",
      "Trial 757: LR=0.008614, SigmaM=1.9627, InitM=0.075851\n"
     ]
    },
    {
     "name": "stderr",
     "output_type": "stream",
     "text": [
      "Training Progress: 100%|██████████| 500/500 [00:04<00:00, 124.11it/s, loss=0.000057, elapsed time=0.01, total time=4.04] \n",
      "[I 2025-05-23 10:26:12,685] Trial 757 finished with value: 5.68853966312716e-05 and parameters: {'learning_rate': 0.008613704892659304, 'sigma_multiplier': 1.9627493236184819, 'initialization_multiplier': 0.07585062062136769}. Best is trial 77 with value: -0.00011012576492267536.\n"
     ]
    },
    {
     "name": "stdout",
     "output_type": "stream",
     "text": [
      "Training has not converged after 500 steps\n",
      "Trial 757 final loss: 0.00005689\n",
      "\n",
      "Trial 758: LR=0.015178, SigmaM=1.8914, InitM=0.064711\n"
     ]
    },
    {
     "name": "stderr",
     "output_type": "stream",
     "text": [
      "Training Progress: 100%|██████████| 500/500 [00:04<00:00, 121.62it/s, loss=0.000169, elapsed time=0.01, total time=4.12] \n",
      "[I 2025-05-23 10:26:16,821] Trial 758 finished with value: 0.00016884190806759522 and parameters: {'learning_rate': 0.015177783466650966, 'sigma_multiplier': 1.8914044710709073, 'initialization_multiplier': 0.06471147440773047}. Best is trial 77 with value: -0.00011012576492267536.\n"
     ]
    },
    {
     "name": "stdout",
     "output_type": "stream",
     "text": [
      "Training has not converged after 500 steps\n",
      "Trial 758 final loss: 0.00016884\n",
      "\n",
      "Trial 759: LR=0.010566, SigmaM=1.8273, InitM=0.110671\n"
     ]
    },
    {
     "name": "stderr",
     "output_type": "stream",
     "text": [
      "Training Progress: 100%|██████████| 500/500 [00:04<00:00, 120.86it/s, loss=-0.000016, elapsed time=0.01, total time=4.15]\n",
      "[I 2025-05-23 10:26:20,983] Trial 759 finished with value: -1.6135954577806175e-05 and parameters: {'learning_rate': 0.010565707261437338, 'sigma_multiplier': 1.8273309469525596, 'initialization_multiplier': 0.11067095293690635}. Best is trial 77 with value: -0.00011012576492267536.\n"
     ]
    },
    {
     "name": "stdout",
     "output_type": "stream",
     "text": [
      "Training has not converged after 500 steps\n",
      "Trial 759 final loss: -0.00001614\n",
      "\n",
      "Trial 760: LR=0.012403, SigmaM=1.9348, InitM=0.015048\n"
     ]
    },
    {
     "name": "stderr",
     "output_type": "stream",
     "text": [
      "Training Progress: 100%|██████████| 500/500 [00:04<00:00, 123.11it/s, loss=-0.000043, elapsed time=0.01, total time=4.07]\n",
      "[I 2025-05-23 10:26:25,072] Trial 760 finished with value: -4.2504503065903386e-05 and parameters: {'learning_rate': 0.012403031670784851, 'sigma_multiplier': 1.9348414074911222, 'initialization_multiplier': 0.0150484299409708}. Best is trial 77 with value: -0.00011012576492267536.\n"
     ]
    },
    {
     "name": "stdout",
     "output_type": "stream",
     "text": [
      "Training has not converged after 500 steps\n",
      "Trial 760 final loss: -0.00004250\n",
      "\n",
      "Trial 761: LR=0.018482, SigmaM=1.7855, InitM=0.045616\n"
     ]
    },
    {
     "name": "stderr",
     "output_type": "stream",
     "text": [
      "Training Progress: 100%|██████████| 500/500 [00:04<00:00, 120.91it/s, loss=0.000045, elapsed time=0.01, total time=4.14] \n",
      "[I 2025-05-23 10:26:29,230] Trial 761 finished with value: 4.479815100232312e-05 and parameters: {'learning_rate': 0.018481886602411193, 'sigma_multiplier': 1.785512781936409, 'initialization_multiplier': 0.04561603290354148}. Best is trial 77 with value: -0.00011012576492267536.\n"
     ]
    },
    {
     "name": "stdout",
     "output_type": "stream",
     "text": [
      "Training has not converged after 500 steps\n",
      "Trial 761 final loss: 0.00004480\n",
      "\n",
      "Trial 762: LR=0.022667, SigmaM=1.9991, InitM=0.084646\n"
     ]
    },
    {
     "name": "stderr",
     "output_type": "stream",
     "text": [
      "Training Progress: 100%|██████████| 500/500 [00:04<00:00, 122.15it/s, loss=-0.000028, elapsed time=0.01, total time=4.12]\n",
      "[I 2025-05-23 10:26:33,359] Trial 762 finished with value: -2.8005744921055074e-05 and parameters: {'learning_rate': 0.022666502488451635, 'sigma_multiplier': 1.9990726530412672, 'initialization_multiplier': 0.08464628302915288}. Best is trial 77 with value: -0.00011012576492267536.\n"
     ]
    },
    {
     "name": "stdout",
     "output_type": "stream",
     "text": [
      "Training has not converged after 500 steps\n",
      "Trial 762 final loss: -0.00002801\n",
      "\n",
      "Trial 763: LR=0.015297, SigmaM=1.8589, InitM=0.054497\n"
     ]
    },
    {
     "name": "stderr",
     "output_type": "stream",
     "text": [
      "Training Progress: 100%|██████████| 500/500 [00:04<00:00, 121.02it/s, loss=-0.000002, elapsed time=0.01, total time=4.14]\n",
      "[I 2025-05-23 10:26:37,516] Trial 763 finished with value: -2.156847522920824e-06 and parameters: {'learning_rate': 0.01529660305608583, 'sigma_multiplier': 1.8589470051373949, 'initialization_multiplier': 0.054496703303487035}. Best is trial 77 with value: -0.00011012576492267536.\n"
     ]
    },
    {
     "name": "stdout",
     "output_type": "stream",
     "text": [
      "Training has not converged after 500 steps\n",
      "Trial 763 final loss: -0.00000216\n",
      "\n",
      "Trial 764: LR=0.010024, SigmaM=1.8974, InitM=0.009832\n"
     ]
    },
    {
     "name": "stderr",
     "output_type": "stream",
     "text": [
      "Training Progress: 100%|██████████| 500/500 [00:04<00:00, 121.55it/s, loss=0.000064, elapsed time=0.01, total time=4.12] \n",
      "[I 2025-05-23 10:26:41,653] Trial 764 finished with value: 6.407952128071684e-05 and parameters: {'learning_rate': 0.010023640324485682, 'sigma_multiplier': 1.8973863455752487, 'initialization_multiplier': 0.009832446508613635}. Best is trial 77 with value: -0.00011012576492267536.\n"
     ]
    },
    {
     "name": "stdout",
     "output_type": "stream",
     "text": [
      "Training has not converged after 500 steps\n",
      "Trial 764 final loss: 0.00006408\n",
      "\n",
      "Trial 765: LR=0.000450, SigmaM=1.8111, InitM=0.023586\n"
     ]
    },
    {
     "name": "stderr",
     "output_type": "stream",
     "text": [
      "Training Progress: 100%|██████████| 500/500 [00:03<00:00, 126.11it/s, loss=0.021072, elapsed time=0.01, total time=3.98]\n",
      "[I 2025-05-23 10:26:45,643] Trial 765 finished with value: 0.021071832580228853 and parameters: {'learning_rate': 0.000450139651153947, 'sigma_multiplier': 1.811139882862857, 'initialization_multiplier': 0.02358563652067886}. Best is trial 77 with value: -0.00011012576492267536.\n"
     ]
    },
    {
     "name": "stdout",
     "output_type": "stream",
     "text": [
      "Training has not converged after 500 steps\n",
      "Trial 765 final loss: 0.02107183\n",
      "\n",
      "Trial 766: LR=0.012527, SigmaM=1.9419, InitM=0.070780\n"
     ]
    },
    {
     "name": "stderr",
     "output_type": "stream",
     "text": [
      "Training Progress: 100%|██████████| 500/500 [00:04<00:00, 122.46it/s, loss=0.000022, elapsed time=0.01, total time=4.09] \n",
      "[I 2025-05-23 10:26:49,750] Trial 766 finished with value: 2.2240536391529006e-05 and parameters: {'learning_rate': 0.012527356903674656, 'sigma_multiplier': 1.9419303947573097, 'initialization_multiplier': 0.07078021586795262}. Best is trial 77 with value: -0.00011012576492267536.\n"
     ]
    },
    {
     "name": "stdout",
     "output_type": "stream",
     "text": [
      "Training has not converged after 500 steps\n",
      "Trial 766 final loss: 0.00002224\n",
      "\n",
      "Trial 767: LR=0.007687, SigmaM=1.7542, InitM=0.095016\n"
     ]
    },
    {
     "name": "stderr",
     "output_type": "stream",
     "text": [
      "Training Progress: 100%|██████████| 500/500 [00:04<00:00, 120.00it/s, loss=-0.000014, elapsed time=0.01, total time=4.18]\n",
      "[I 2025-05-23 10:26:53,944] Trial 767 finished with value: -1.41126086791592e-05 and parameters: {'learning_rate': 0.007686983799131435, 'sigma_multiplier': 1.7542092758467722, 'initialization_multiplier': 0.09501591036730091}. Best is trial 77 with value: -0.00011012576492267536.\n"
     ]
    },
    {
     "name": "stdout",
     "output_type": "stream",
     "text": [
      "Training has not converged after 500 steps\n",
      "Trial 767 final loss: -0.00001411\n",
      "\n",
      "Trial 768: LR=0.017256, SigmaM=1.2878, InitM=0.105982\n"
     ]
    },
    {
     "name": "stderr",
     "output_type": "stream",
     "text": [
      "Training Progress: 100%|██████████| 500/500 [00:04<00:00, 114.69it/s, loss=0.000301, elapsed time=0.01, total time=4.37] \n",
      "[I 2025-05-23 10:26:58,330] Trial 768 finished with value: 0.0003010924443071388 and parameters: {'learning_rate': 0.017256068226810903, 'sigma_multiplier': 1.287799881063275, 'initialization_multiplier': 0.10598181554795144}. Best is trial 77 with value: -0.00011012576492267536.\n"
     ]
    },
    {
     "name": "stdout",
     "output_type": "stream",
     "text": [
      "Training has not converged after 500 steps\n",
      "Trial 768 final loss: 0.00030109\n",
      "\n",
      "Trial 769: LR=0.034410, SigmaM=1.5778, InitM=0.059718\n"
     ]
    },
    {
     "name": "stderr",
     "output_type": "stream",
     "text": [
      "Training Progress: 100%|██████████| 500/500 [00:04<00:00, 119.09it/s, loss=0.000018, elapsed time=0.01, total time=4.21] \n",
      "[I 2025-05-23 10:27:02,555] Trial 769 finished with value: 1.7954372747859903e-05 and parameters: {'learning_rate': 0.0344100554743485, 'sigma_multiplier': 1.5778409303781384, 'initialization_multiplier': 0.05971808161737205}. Best is trial 77 with value: -0.00011012576492267536.\n"
     ]
    },
    {
     "name": "stdout",
     "output_type": "stream",
     "text": [
      "Training has not converged after 500 steps\n",
      "Trial 769 final loss: 0.00001795\n",
      "\n",
      "Trial 770: LR=0.014692, SigmaM=0.2803, InitM=0.078996\n"
     ]
    },
    {
     "name": "stderr",
     "output_type": "stream",
     "text": [
      "Training Progress: 100%|██████████| 500/500 [00:05<00:00, 84.60it/s, loss=0.001287, elapsed time=0.01, total time=5.92]\n",
      "[I 2025-05-23 10:27:08,490] Trial 770 finished with value: 0.0012870268211337965 and parameters: {'learning_rate': 0.01469218089348685, 'sigma_multiplier': 0.28028220993444075, 'initialization_multiplier': 0.07899594683999621}. Best is trial 77 with value: -0.00011012576492267536.\n"
     ]
    },
    {
     "name": "stdout",
     "output_type": "stream",
     "text": [
      "Training has not converged after 500 steps\n",
      "Trial 770 final loss: 0.00128703\n",
      "\n",
      "Trial 771: LR=0.020496, SigmaM=1.8579, InitM=0.088653\n"
     ]
    },
    {
     "name": "stderr",
     "output_type": "stream",
     "text": [
      "Training Progress: 100%|██████████| 500/500 [00:04<00:00, 122.83it/s, loss=-0.000040, elapsed time=0.01, total time=4.08]\n",
      "[I 2025-05-23 10:27:12,585] Trial 771 finished with value: -4.009831946589175e-05 and parameters: {'learning_rate': 0.020495563071295634, 'sigma_multiplier': 1.8579207438943164, 'initialization_multiplier': 0.08865276726138235}. Best is trial 77 with value: -0.00011012576492267536.\n"
     ]
    },
    {
     "name": "stdout",
     "output_type": "stream",
     "text": [
      "Training has not converged after 500 steps\n",
      "Trial 771 final loss: -0.00004010\n",
      "\n",
      "Trial 772: LR=0.025225, SigmaM=1.9166, InitM=0.069744\n"
     ]
    },
    {
     "name": "stderr",
     "output_type": "stream",
     "text": [
      "Training Progress: 100%|██████████| 500/500 [00:04<00:00, 123.13it/s, loss=-0.000022, elapsed time=0.01, total time=4.07]\n",
      "[I 2025-05-23 10:27:16,669] Trial 772 finished with value: -2.2278387850010557e-05 and parameters: {'learning_rate': 0.025225092614224565, 'sigma_multiplier': 1.9165958603772328, 'initialization_multiplier': 0.06974364246455078}. Best is trial 77 with value: -0.00011012576492267536.\n"
     ]
    },
    {
     "name": "stdout",
     "output_type": "stream",
     "text": [
      "Training has not converged after 500 steps\n",
      "Trial 772 final loss: -0.00002228\n",
      "\n",
      "Trial 773: LR=0.009077, SigmaM=1.7848, InitM=0.808977\n"
     ]
    },
    {
     "name": "stderr",
     "output_type": "stream",
     "text": [
      "Training Progress: 100%|██████████| 500/500 [00:04<00:00, 121.17it/s, loss=0.000071, elapsed time=0.01, total time=4.14] \n",
      "[I 2025-05-23 10:27:20,822] Trial 773 finished with value: 7.130970025185798e-05 and parameters: {'learning_rate': 0.00907691141981247, 'sigma_multiplier': 1.784783642623092, 'initialization_multiplier': 0.8089769644216236}. Best is trial 77 with value: -0.00011012576492267536.\n"
     ]
    },
    {
     "name": "stdout",
     "output_type": "stream",
     "text": [
      "Training has not converged after 500 steps\n",
      "Trial 773 final loss: 0.00007131\n",
      "\n",
      "Trial 774: LR=0.011527, SigmaM=1.8371, InitM=0.049464\n"
     ]
    },
    {
     "name": "stderr",
     "output_type": "stream",
     "text": [
      "Training Progress: 100%|██████████| 500/500 [00:04<00:00, 122.54it/s, loss=0.000112, elapsed time=0.01, total time=4.09] \n",
      "[I 2025-05-23 10:27:24,927] Trial 774 finished with value: 0.00011232774455976153 and parameters: {'learning_rate': 0.011527413859358293, 'sigma_multiplier': 1.8371484299601208, 'initialization_multiplier': 0.04946401976211808}. Best is trial 77 with value: -0.00011012576492267536.\n"
     ]
    },
    {
     "name": "stdout",
     "output_type": "stream",
     "text": [
      "Training has not converged after 500 steps\n",
      "Trial 774 final loss: 0.00011233\n",
      "\n",
      "Trial 775: LR=0.017276, SigmaM=1.9691, InitM=0.116824\n"
     ]
    },
    {
     "name": "stderr",
     "output_type": "stream",
     "text": [
      "Training Progress: 100%|██████████| 500/500 [00:04<00:00, 122.43it/s, loss=-0.000047, elapsed time=0.01, total time=4.09]\n",
      "[I 2025-05-23 10:27:29,036] Trial 775 finished with value: -4.683031458253647e-05 and parameters: {'learning_rate': 0.01727591841321614, 'sigma_multiplier': 1.9690550925526529, 'initialization_multiplier': 0.11682378478813103}. Best is trial 77 with value: -0.00011012576492267536.\n"
     ]
    },
    {
     "name": "stdout",
     "output_type": "stream",
     "text": [
      "Training has not converged after 500 steps\n",
      "Trial 775 final loss: -0.00004683\n",
      "\n",
      "Trial 776: LR=0.013569, SigmaM=1.0231, InitM=0.061057\n"
     ]
    },
    {
     "name": "stderr",
     "output_type": "stream",
     "text": [
      "Training Progress: 100%|██████████| 500/500 [00:04<00:00, 107.86it/s, loss=0.000422, elapsed time=0.01, total time=4.65] \n",
      "[I 2025-05-23 10:27:33,698] Trial 776 finished with value: 0.0004223473266570752 and parameters: {'learning_rate': 0.013568824370858584, 'sigma_multiplier': 1.0231382738652068, 'initialization_multiplier': 0.06105698998128767}. Best is trial 77 with value: -0.00011012576492267536.\n"
     ]
    },
    {
     "name": "stdout",
     "output_type": "stream",
     "text": [
      "Training has not converged after 500 steps\n",
      "Trial 776 final loss: 0.00042235\n",
      "\n",
      "Trial 777: LR=0.000820, SigmaM=1.8780, InitM=0.098093\n"
     ]
    },
    {
     "name": "stderr",
     "output_type": "stream",
     "text": [
      "Training Progress: 100%|██████████| 500/500 [00:04<00:00, 116.89it/s, loss=0.005004, elapsed time=0.01, total time=4.29]\n",
      "[I 2025-05-23 10:27:38,000] Trial 777 finished with value: 0.0050039599072630985 and parameters: {'learning_rate': 0.0008203762460178975, 'sigma_multiplier': 1.8779936747296628, 'initialization_multiplier': 0.09809261243894761}. Best is trial 77 with value: -0.00011012576492267536.\n"
     ]
    },
    {
     "name": "stdout",
     "output_type": "stream",
     "text": [
      "Training has not converged after 500 steps\n",
      "Trial 777 final loss: 0.00500396\n",
      "\n",
      "Trial 778: LR=0.020405, SigmaM=1.8115, InitM=0.075309\n"
     ]
    },
    {
     "name": "stderr",
     "output_type": "stream",
     "text": [
      "Training Progress: 100%|██████████| 500/500 [00:04<00:00, 116.89it/s, loss=0.000030, elapsed time=0.01, total time=4.29] \n",
      "[I 2025-05-23 10:27:42,302] Trial 778 finished with value: 3.034981175173603e-05 and parameters: {'learning_rate': 0.020404719816461223, 'sigma_multiplier': 1.811451310640941, 'initialization_multiplier': 0.07530942022569255}. Best is trial 77 with value: -0.00011012576492267536.\n"
     ]
    },
    {
     "name": "stdout",
     "output_type": "stream",
     "text": [
      "Training has not converged after 500 steps\n",
      "Trial 778 final loss: 0.00003035\n",
      "\n",
      "Trial 779: LR=0.010870, SigmaM=1.7520, InitM=0.085601\n"
     ]
    },
    {
     "name": "stderr",
     "output_type": "stream",
     "text": [
      "Training Progress: 100%|██████████| 500/500 [00:04<00:00, 124.08it/s, loss=0.000024, elapsed time=0.01, total time=4.04] \n",
      "[I 2025-05-23 10:27:46,356] Trial 779 finished with value: 2.402057910454555e-05 and parameters: {'learning_rate': 0.010869616510458383, 'sigma_multiplier': 1.752039660004247, 'initialization_multiplier': 0.08560136117938151}. Best is trial 77 with value: -0.00011012576492267536.\n"
     ]
    },
    {
     "name": "stdout",
     "output_type": "stream",
     "text": [
      "Training has not converged after 500 steps\n",
      "Trial 779 final loss: 0.00002402\n",
      "\n",
      "Trial 780: LR=0.005828, SigmaM=1.9677, InitM=0.036201\n"
     ]
    },
    {
     "name": "stderr",
     "output_type": "stream",
     "text": [
      "Training Progress: 100%|██████████| 500/500 [00:03<00:00, 125.78it/s, loss=0.000072, elapsed time=0.01, total time=3.98] \n",
      "[I 2025-05-23 10:27:50,355] Trial 780 finished with value: 7.240876302976856e-05 and parameters: {'learning_rate': 0.005827921887636458, 'sigma_multiplier': 1.967740697894683, 'initialization_multiplier': 0.036200507201117886}. Best is trial 77 with value: -0.00011012576492267536.\n"
     ]
    },
    {
     "name": "stdout",
     "output_type": "stream",
     "text": [
      "Training has not converged after 500 steps\n",
      "Trial 780 final loss: 0.00007241\n",
      "\n",
      "Trial 781: LR=0.015413, SigmaM=1.9167, InitM=0.066439\n"
     ]
    },
    {
     "name": "stderr",
     "output_type": "stream",
     "text": [
      "Training Progress: 100%|██████████| 500/500 [00:03<00:00, 125.77it/s, loss=-0.000025, elapsed time=0.01, total time=3.98]\n",
      "[I 2025-05-23 10:27:54,353] Trial 781 finished with value: -2.5405578458924923e-05 and parameters: {'learning_rate': 0.015413412989439901, 'sigma_multiplier': 1.9167318832563425, 'initialization_multiplier': 0.0664386370401782}. Best is trial 77 with value: -0.00011012576492267536.\n"
     ]
    },
    {
     "name": "stdout",
     "output_type": "stream",
     "text": [
      "Training has not converged after 500 steps\n",
      "Trial 781 final loss: -0.00002541\n",
      "\n",
      "Trial 782: LR=0.012321, SigmaM=1.8688, InitM=0.053640\n"
     ]
    },
    {
     "name": "stderr",
     "output_type": "stream",
     "text": [
      "Training Progress: 100%|██████████| 500/500 [00:03<00:00, 125.75it/s, loss=-0.000081, elapsed time=0.01, total time=3.98]\n",
      "[I 2025-05-23 10:27:58,351] Trial 782 finished with value: -8.098917026801061e-05 and parameters: {'learning_rate': 0.012321165295242343, 'sigma_multiplier': 1.8688338064980416, 'initialization_multiplier': 0.05364029139039764}. Best is trial 77 with value: -0.00011012576492267536.\n"
     ]
    },
    {
     "name": "stdout",
     "output_type": "stream",
     "text": [
      "Training has not converged after 500 steps\n",
      "Trial 782 final loss: -0.00008099\n",
      "\n",
      "Trial 783: LR=0.007806, SigmaM=1.5990, InitM=0.041430\n"
     ]
    },
    {
     "name": "stderr",
     "output_type": "stream",
     "text": [
      "Training Progress: 100%|██████████| 500/500 [00:04<00:00, 122.98it/s, loss=-0.000016, elapsed time=0.01, total time=4.07]\n",
      "[I 2025-05-23 10:28:02,440] Trial 783 finished with value: -1.5750044985199048e-05 and parameters: {'learning_rate': 0.007805963770868485, 'sigma_multiplier': 1.5989550838260895, 'initialization_multiplier': 0.04143013248626329}. Best is trial 77 with value: -0.00011012576492267536.\n"
     ]
    },
    {
     "name": "stdout",
     "output_type": "stream",
     "text": [
      "Training has not converged after 500 steps\n",
      "Trial 783 final loss: -0.00001575\n",
      "\n",
      "Trial 784: LR=0.009093, SigmaM=1.9382, InitM=0.045149\n"
     ]
    },
    {
     "name": "stderr",
     "output_type": "stream",
     "text": [
      "Training Progress: 100%|██████████| 500/500 [00:04<00:00, 123.87it/s, loss=0.000086, elapsed time=0.01, total time=4.05] \n",
      "[I 2025-05-23 10:28:06,500] Trial 784 finished with value: 8.570282384343713e-05 and parameters: {'learning_rate': 0.00909281494879995, 'sigma_multiplier': 1.9381524388119793, 'initialization_multiplier': 0.0451491743030532}. Best is trial 77 with value: -0.00011012576492267536.\n"
     ]
    },
    {
     "name": "stdout",
     "output_type": "stream",
     "text": [
      "Training has not converged after 500 steps\n",
      "Trial 784 final loss: 0.00008570\n",
      "\n",
      "Trial 785: LR=0.011534, SigmaM=1.8881, InitM=0.048584\n"
     ]
    },
    {
     "name": "stderr",
     "output_type": "stream",
     "text": [
      "Training Progress: 100%|██████████| 500/500 [00:04<00:00, 120.85it/s, loss=0.000069, elapsed time=0.01, total time=4.15] \n",
      "[I 2025-05-23 10:28:10,665] Trial 785 finished with value: 6.903976299888967e-05 and parameters: {'learning_rate': 0.011533857757240222, 'sigma_multiplier': 1.8881155910961303, 'initialization_multiplier': 0.04858417757285948}. Best is trial 77 with value: -0.00011012576492267536.\n"
     ]
    },
    {
     "name": "stdout",
     "output_type": "stream",
     "text": [
      "Training has not converged after 500 steps\n",
      "Trial 785 final loss: 0.00006904\n",
      "\n",
      "Trial 786: LR=0.004920, SigmaM=1.9992, InitM=0.031780\n"
     ]
    },
    {
     "name": "stderr",
     "output_type": "stream",
     "text": [
      "Training Progress: 100%|██████████| 500/500 [00:04<00:00, 121.21it/s, loss=-0.000014, elapsed time=0.01, total time=4.14]\n",
      "[I 2025-05-23 10:28:14,817] Trial 786 finished with value: -1.3645814566942925e-05 and parameters: {'learning_rate': 0.004919843785867294, 'sigma_multiplier': 1.999238466017013, 'initialization_multiplier': 0.03178040746264751}. Best is trial 77 with value: -0.00011012576492267536.\n"
     ]
    },
    {
     "name": "stdout",
     "output_type": "stream",
     "text": [
      "Training has not converged after 500 steps\n",
      "Trial 786 final loss: -0.00001365\n",
      "\n",
      "Trial 787: LR=0.009492, SigmaM=1.9091, InitM=0.052530\n"
     ]
    },
    {
     "name": "stderr",
     "output_type": "stream",
     "text": [
      "Training Progress: 100%|██████████| 500/500 [00:03<00:00, 125.26it/s, loss=0.000023, elapsed time=0.01, total time=4]    \n",
      "[I 2025-05-23 10:28:18,833] Trial 787 finished with value: 2.3116521777727535e-05 and parameters: {'learning_rate': 0.009492105918691039, 'sigma_multiplier': 1.9091162730947888, 'initialization_multiplier': 0.05253011989698721}. Best is trial 77 with value: -0.00011012576492267536.\n"
     ]
    },
    {
     "name": "stdout",
     "output_type": "stream",
     "text": [
      "Training has not converged after 500 steps\n",
      "Trial 787 final loss: 0.00002312\n",
      "\n",
      "Trial 788: LR=0.012470, SigmaM=1.9600, InitM=0.053308\n"
     ]
    },
    {
     "name": "stderr",
     "output_type": "stream",
     "text": [
      "Training Progress: 100%|██████████| 500/500 [00:03<00:00, 125.83it/s, loss=0.000152, elapsed time=0.01, total time=3.98] \n",
      "[I 2025-05-23 10:28:22,830] Trial 788 finished with value: 0.00015159518973639755 and parameters: {'learning_rate': 0.01247040219092945, 'sigma_multiplier': 1.9599580489728965, 'initialization_multiplier': 0.05330806436569805}. Best is trial 77 with value: -0.00011012576492267536.\n"
     ]
    },
    {
     "name": "stdout",
     "output_type": "stream",
     "text": [
      "Training has not converged after 500 steps\n",
      "Trial 788 final loss: 0.00015160\n",
      "\n",
      "Trial 789: LR=0.029130, SigmaM=1.1345, InitM=0.057734\n"
     ]
    },
    {
     "name": "stderr",
     "output_type": "stream",
     "text": [
      "Training Progress: 100%|██████████| 500/500 [00:04<00:00, 114.50it/s, loss=0.000186, elapsed time=0.01, total time=4.38] \n",
      "[I 2025-05-23 10:28:27,220] Trial 789 finished with value: 0.00018633485794574382 and parameters: {'learning_rate': 0.029129702441443285, 'sigma_multiplier': 1.134500276200251, 'initialization_multiplier': 0.05773369978900624}. Best is trial 77 with value: -0.00011012576492267536.\n"
     ]
    },
    {
     "name": "stdout",
     "output_type": "stream",
     "text": [
      "Training has not converged after 500 steps\n",
      "Trial 789 final loss: 0.00018633\n",
      "\n",
      "Trial 790: LR=0.006993, SigmaM=1.8696, InitM=0.202881\n"
     ]
    },
    {
     "name": "stderr",
     "output_type": "stream",
     "text": [
      "Training Progress: 100%|██████████| 500/500 [00:04<00:00, 124.87it/s, loss=-0.000013, elapsed time=0.01, total time=4.02]\n",
      "[I 2025-05-23 10:28:31,248] Trial 790 finished with value: -1.2544044401922645e-05 and parameters: {'learning_rate': 0.006992662512735265, 'sigma_multiplier': 1.8696255896275058, 'initialization_multiplier': 0.20288101318037327}. Best is trial 77 with value: -0.00011012576492267536.\n"
     ]
    },
    {
     "name": "stdout",
     "output_type": "stream",
     "text": [
      "Training has not converged after 500 steps\n",
      "Trial 790 final loss: -0.00001254\n",
      "\n",
      "Trial 791: LR=0.010463, SigmaM=0.5226, InitM=0.043214\n"
     ]
    },
    {
     "name": "stderr",
     "output_type": "stream",
     "text": [
      "Training Progress: 100%|██████████| 500/500 [00:05<00:00, 91.54it/s, loss=0.001292, elapsed time=0.01, total time=5.47]\n",
      "[I 2025-05-23 10:28:36,733] Trial 791 finished with value: 0.0012921613935501283 and parameters: {'learning_rate': 0.010462687043367537, 'sigma_multiplier': 0.5225907953641992, 'initialization_multiplier': 0.04321434612688542}. Best is trial 77 with value: -0.00011012576492267536.\n"
     ]
    },
    {
     "name": "stdout",
     "output_type": "stream",
     "text": [
      "Training has not converged after 500 steps\n",
      "Trial 791 final loss: 0.00129216\n",
      "\n",
      "Trial 792: LR=0.022972, SigmaM=1.6890, InitM=0.111359\n"
     ]
    },
    {
     "name": "stderr",
     "output_type": "stream",
     "text": [
      "Training Progress: 100%|██████████| 500/500 [00:04<00:00, 123.18it/s, loss=0.000141, elapsed time=0.01, total time=4.07] \n",
      "[I 2025-05-23 10:28:40,816] Trial 792 finished with value: 0.00014066764671423173 and parameters: {'learning_rate': 0.022972318941434897, 'sigma_multiplier': 1.6890092380600965, 'initialization_multiplier': 0.11135880203069866}. Best is trial 77 with value: -0.00011012576492267536.\n"
     ]
    },
    {
     "name": "stdout",
     "output_type": "stream",
     "text": [
      "Training has not converged after 500 steps\n",
      "Trial 792 final loss: 0.00014067\n",
      "\n",
      "Trial 793: LR=0.016990, SigmaM=1.6426, InitM=0.278228\n"
     ]
    },
    {
     "name": "stderr",
     "output_type": "stream",
     "text": [
      "Training Progress: 100%|██████████| 500/500 [00:04<00:00, 121.85it/s, loss=0.000154, elapsed time=0.01, total time=4.11] \n",
      "[I 2025-05-23 10:28:44,942] Trial 793 finished with value: 0.00015350080664460174 and parameters: {'learning_rate': 0.01698963982108011, 'sigma_multiplier': 1.6426352671165225, 'initialization_multiplier': 0.2782280935395318}. Best is trial 77 with value: -0.00011012576492267536.\n"
     ]
    },
    {
     "name": "stdout",
     "output_type": "stream",
     "text": [
      "Training has not converged after 500 steps\n",
      "Trial 793 final loss: 0.00015350\n",
      "\n",
      "Trial 794: LR=0.013345, SigmaM=1.5186, InitM=0.057736\n"
     ]
    },
    {
     "name": "stderr",
     "output_type": "stream",
     "text": [
      "Training Progress: 100%|██████████| 500/500 [00:04<00:00, 121.43it/s, loss=0.000063, elapsed time=0.01, total time=4.13] \n",
      "[I 2025-05-23 10:28:49,082] Trial 794 finished with value: 6.309668138646404e-05 and parameters: {'learning_rate': 0.013345337353781052, 'sigma_multiplier': 1.518556562616663, 'initialization_multiplier': 0.0577356373870889}. Best is trial 77 with value: -0.00011012576492267536.\n"
     ]
    },
    {
     "name": "stdout",
     "output_type": "stream",
     "text": [
      "Training has not converged after 500 steps\n",
      "Trial 794 final loss: 0.00006310\n",
      "\n",
      "Trial 795: LR=0.019534, SigmaM=1.7275, InitM=0.016832\n"
     ]
    },
    {
     "name": "stderr",
     "output_type": "stream",
     "text": [
      "Training Progress: 100%|██████████| 500/500 [00:04<00:00, 123.67it/s, loss=0.000060, elapsed time=0.01, total time=4.05] \n",
      "[I 2025-05-23 10:28:53,150] Trial 795 finished with value: 6.016084645905834e-05 and parameters: {'learning_rate': 0.019533954241665524, 'sigma_multiplier': 1.7274786011754795, 'initialization_multiplier': 0.01683178175974287}. Best is trial 77 with value: -0.00011012576492267536.\n"
     ]
    },
    {
     "name": "stdout",
     "output_type": "stream",
     "text": [
      "Training has not converged after 500 steps\n",
      "Trial 795 final loss: 0.00006016\n",
      "\n",
      "Trial 796: LR=0.008197, SigmaM=1.7783, InitM=0.123018\n"
     ]
    },
    {
     "name": "stderr",
     "output_type": "stream",
     "text": [
      "Training Progress: 100%|██████████| 500/500 [00:04<00:00, 123.70it/s, loss=0.000037, elapsed time=0.01, total time=4.05] \n",
      "[I 2025-05-23 10:28:57,215] Trial 796 finished with value: 3.7028763665474904e-05 and parameters: {'learning_rate': 0.008196762992634886, 'sigma_multiplier': 1.7783160710199453, 'initialization_multiplier': 0.1230182204993765}. Best is trial 77 with value: -0.00011012576492267536.\n"
     ]
    },
    {
     "name": "stdout",
     "output_type": "stream",
     "text": [
      "Training has not converged after 500 steps\n",
      "Trial 796 final loss: 0.00003703\n",
      "\n",
      "Trial 797: LR=0.015335, SigmaM=1.9313, InitM=0.048744\n"
     ]
    },
    {
     "name": "stderr",
     "output_type": "stream",
     "text": [
      "Training Progress: 100%|██████████| 500/500 [00:03<00:00, 125.75it/s, loss=0.000127, elapsed time=0.01, total time=3.99] \n",
      "[I 2025-05-23 10:29:01,213] Trial 797 finished with value: 0.00012696446212047332 and parameters: {'learning_rate': 0.01533475398572947, 'sigma_multiplier': 1.9312544849915718, 'initialization_multiplier': 0.04874389968831658}. Best is trial 77 with value: -0.00011012576492267536.\n"
     ]
    },
    {
     "name": "stdout",
     "output_type": "stream",
     "text": [
      "Training has not converged after 500 steps\n",
      "Trial 797 final loss: 0.00012696\n",
      "\n",
      "Trial 798: LR=0.010561, SigmaM=1.8314, InitM=0.035014\n"
     ]
    },
    {
     "name": "stderr",
     "output_type": "stream",
     "text": [
      "Training Progress: 100%|██████████| 500/500 [00:03<00:00, 125.82it/s, loss=0.000034, elapsed time=0.01, total time=3.99] \n",
      "[I 2025-05-23 10:29:05,212] Trial 798 finished with value: 3.413844151751761e-05 and parameters: {'learning_rate': 0.010560808356237445, 'sigma_multiplier': 1.8313797371502372, 'initialization_multiplier': 0.03501429733398426}. Best is trial 77 with value: -0.00011012576492267536.\n"
     ]
    },
    {
     "name": "stdout",
     "output_type": "stream",
     "text": [
      "Training has not converged after 500 steps\n",
      "Trial 798 final loss: 0.00003414\n",
      "\n",
      "Trial 799: LR=0.011761, SigmaM=0.7696, InitM=0.062548\n"
     ]
    },
    {
     "name": "stderr",
     "output_type": "stream",
     "text": [
      "Training Progress: 100%|██████████| 500/500 [00:04<00:00, 102.54it/s, loss=0.000912, elapsed time=0.01, total time=4.89]\n",
      "[I 2025-05-23 10:29:10,113] Trial 799 finished with value: 0.0009117344164591332 and parameters: {'learning_rate': 0.011761079271251026, 'sigma_multiplier': 0.7696345149345605, 'initialization_multiplier': 0.06254841993665027}. Best is trial 77 with value: -0.00011012576492267536.\n"
     ]
    },
    {
     "name": "stdout",
     "output_type": "stream",
     "text": [
      "Training has not converged after 500 steps\n",
      "Trial 799 final loss: 0.00091173\n",
      "\n",
      "Trial 800: LR=0.017557, SigmaM=1.8872, InitM=0.100308\n"
     ]
    },
    {
     "name": "stderr",
     "output_type": "stream",
     "text": [
      "Training Progress: 100%|██████████| 500/500 [00:03<00:00, 125.76it/s, loss=-0.000068, elapsed time=0.01, total time=3.99]\n",
      "[I 2025-05-23 10:29:14,112] Trial 800 finished with value: -6.785436377776376e-05 and parameters: {'learning_rate': 0.017557318627920593, 'sigma_multiplier': 1.8872498707664052, 'initialization_multiplier': 0.1003077503007624}. Best is trial 77 with value: -0.00011012576492267536.\n"
     ]
    },
    {
     "name": "stdout",
     "output_type": "stream",
     "text": [
      "Training has not converged after 500 steps\n",
      "Trial 800 final loss: -0.00006785\n",
      "\n",
      "Trial 801: LR=0.013385, SigmaM=1.9594, InitM=0.106950\n"
     ]
    },
    {
     "name": "stderr",
     "output_type": "stream",
     "text": [
      "Training Progress: 100%|██████████| 500/500 [00:03<00:00, 126.97it/s, loss=0.000098, elapsed time=0.01, total time=3.95] \n",
      "[I 2025-05-23 10:29:18,073] Trial 801 finished with value: 9.849438643550326e-05 and parameters: {'learning_rate': 0.013384513436970641, 'sigma_multiplier': 1.9594249243587671, 'initialization_multiplier': 0.10695003038383663}. Best is trial 77 with value: -0.00011012576492267536.\n"
     ]
    },
    {
     "name": "stdout",
     "output_type": "stream",
     "text": [
      "Training has not converged after 500 steps\n",
      "Trial 801 final loss: 0.00009849\n",
      "\n",
      "Trial 802: LR=0.016095, SigmaM=1.2491, InitM=0.124359\n"
     ]
    },
    {
     "name": "stderr",
     "output_type": "stream",
     "text": [
      "Training Progress: 100%|██████████| 500/500 [00:04<00:00, 117.38it/s, loss=-0.000020, elapsed time=0.01, total time=4.27]\n",
      "[I 2025-05-23 10:29:22,358] Trial 802 finished with value: -2.0431760309579836e-05 and parameters: {'learning_rate': 0.01609497002545369, 'sigma_multiplier': 1.2491325620025246, 'initialization_multiplier': 0.12435913823032639}. Best is trial 77 with value: -0.00011012576492267536.\n"
     ]
    },
    {
     "name": "stdout",
     "output_type": "stream",
     "text": [
      "Training has not converged after 500 steps\n",
      "Trial 802 final loss: -0.00002043\n",
      "\n",
      "Trial 803: LR=0.009484, SigmaM=1.9001, InitM=0.105767\n"
     ]
    },
    {
     "name": "stderr",
     "output_type": "stream",
     "text": [
      "Training Progress: 100%|██████████| 500/500 [00:03<00:00, 125.83it/s, loss=0.000006, elapsed time=0.01, total time=3.98] \n",
      "[I 2025-05-23 10:29:26,355] Trial 803 finished with value: 6.472603590643929e-06 and parameters: {'learning_rate': 0.009484447008985555, 'sigma_multiplier': 1.900072920507174, 'initialization_multiplier': 0.10576660710473534}. Best is trial 77 with value: -0.00011012576492267536.\n"
     ]
    },
    {
     "name": "stdout",
     "output_type": "stream",
     "text": [
      "Training has not converged after 500 steps\n",
      "Trial 803 final loss: 0.00000647\n",
      "\n",
      "Trial 804: LR=0.011453, SigmaM=1.4581, InitM=0.146769\n"
     ]
    },
    {
     "name": "stderr",
     "output_type": "stream",
     "text": [
      "Training Progress: 100%|██████████| 500/500 [00:04<00:00, 120.33it/s, loss=0.000009, elapsed time=0.01, total time=4.17] \n",
      "[I 2025-05-23 10:29:30,535] Trial 804 finished with value: 9.48815519883745e-06 and parameters: {'learning_rate': 0.011452689187320755, 'sigma_multiplier': 1.4581233083494167, 'initialization_multiplier': 0.14676869528724087}. Best is trial 77 with value: -0.00011012576492267536.\n"
     ]
    },
    {
     "name": "stdout",
     "output_type": "stream",
     "text": [
      "Training has not converged after 500 steps\n",
      "Trial 804 final loss: 0.00000949\n",
      "\n",
      "Trial 805: LR=0.000247, SigmaM=1.9379, InitM=0.093542\n"
     ]
    },
    {
     "name": "stderr",
     "output_type": "stream",
     "text": [
      "Training Progress: 100%|██████████| 500/500 [00:03<00:00, 131.92it/s, loss=0.041394, elapsed time=0.01, total time=3.8] \n",
      "[I 2025-05-23 10:29:34,349] Trial 805 finished with value: 0.04139442034431753 and parameters: {'learning_rate': 0.00024722904589591653, 'sigma_multiplier': 1.937878476775973, 'initialization_multiplier': 0.09354238492955212}. Best is trial 77 with value: -0.00011012576492267536.\n"
     ]
    },
    {
     "name": "stdout",
     "output_type": "stream",
     "text": [
      "Training has not converged after 500 steps\n",
      "Trial 805 final loss: 0.04139442\n",
      "\n",
      "Trial 806: LR=0.014119, SigmaM=1.5636, InitM=0.130070\n"
     ]
    },
    {
     "name": "stderr",
     "output_type": "stream",
     "text": [
      "Training Progress: 100%|██████████| 500/500 [00:04<00:00, 121.83it/s, loss=0.000107, elapsed time=0.01, total time=4.11] \n",
      "[I 2025-05-23 10:29:38,477] Trial 806 finished with value: 0.00010684559942141272 and parameters: {'learning_rate': 0.014118678176200392, 'sigma_multiplier': 1.5635945617272586, 'initialization_multiplier': 0.1300698175853104}. Best is trial 77 with value: -0.00011012576492267536.\n"
     ]
    },
    {
     "name": "stdout",
     "output_type": "stream",
     "text": [
      "Training has not converged after 500 steps\n",
      "Trial 806 final loss: 0.00010685\n",
      "\n",
      "Trial 807: LR=0.017221, SigmaM=1.8936, InitM=0.099005\n"
     ]
    },
    {
     "name": "stderr",
     "output_type": "stream",
     "text": [
      "Training Progress: 100%|██████████| 500/500 [00:03<00:00, 125.24it/s, loss=-0.000002, elapsed time=0.01, total time=4]   \n",
      "[I 2025-05-23 10:29:42,494] Trial 807 finished with value: -1.5665490673422417e-06 and parameters: {'learning_rate': 0.017221360318346878, 'sigma_multiplier': 1.893628982659289, 'initialization_multiplier': 0.09900458452030012}. Best is trial 77 with value: -0.00011012576492267536.\n"
     ]
    },
    {
     "name": "stdout",
     "output_type": "stream",
     "text": [
      "Training has not converged after 500 steps\n",
      "Trial 807 final loss: -0.00000157\n",
      "\n",
      "Trial 808: LR=0.011866, SigmaM=1.9701, InitM=0.116261\n"
     ]
    },
    {
     "name": "stderr",
     "output_type": "stream",
     "text": [
      "Training Progress: 100%|██████████| 500/500 [00:03<00:00, 125.92it/s, loss=-0.000065, elapsed time=0.01, total time=3.98]\n",
      "[I 2025-05-23 10:29:46,490] Trial 808 finished with value: -6.494300450698032e-05 and parameters: {'learning_rate': 0.011865969556748191, 'sigma_multiplier': 1.9700578483969413, 'initialization_multiplier': 0.11626102638449642}. Best is trial 77 with value: -0.00011012576492267536.\n"
     ]
    },
    {
     "name": "stdout",
     "output_type": "stream",
     "text": [
      "Training has not converged after 500 steps\n",
      "Trial 808 final loss: -0.00006494\n",
      "\n",
      "Trial 809: LR=0.037782, SigmaM=1.6058, InitM=0.093744\n"
     ]
    },
    {
     "name": "stderr",
     "output_type": "stream",
     "text": [
      "Training Progress: 100%|██████████| 500/500 [00:04<00:00, 118.30it/s, loss=0.000071, elapsed time=0.01, total time=4.24] \n",
      "[I 2025-05-23 10:29:50,739] Trial 809 finished with value: 7.058696621173011e-05 and parameters: {'learning_rate': 0.03778182345056243, 'sigma_multiplier': 1.605754133819389, 'initialization_multiplier': 0.09374416582597689}. Best is trial 77 with value: -0.00011012576492267536.\n"
     ]
    },
    {
     "name": "stdout",
     "output_type": "stream",
     "text": [
      "Training has not converged after 500 steps\n",
      "Trial 809 final loss: 0.00007059\n",
      "\n",
      "Trial 810: LR=0.014270, SigmaM=1.9992, InitM=0.159902\n"
     ]
    },
    {
     "name": "stderr",
     "output_type": "stream",
     "text": [
      "Training Progress: 100%|██████████| 500/500 [00:03<00:00, 125.53it/s, loss=0.000019, elapsed time=0.01, total time=3.99] \n",
      "[I 2025-05-23 10:29:54,748] Trial 810 finished with value: 1.8604252620969255e-05 and parameters: {'learning_rate': 0.014269611951409536, 'sigma_multiplier': 1.9991929188569777, 'initialization_multiplier': 0.15990152045274886}. Best is trial 77 with value: -0.00011012576492267536.\n"
     ]
    },
    {
     "name": "stdout",
     "output_type": "stream",
     "text": [
      "Training has not converged after 500 steps\n",
      "Trial 810 final loss: 0.00001860\n",
      "\n",
      "Trial 811: LR=0.009158, SigmaM=1.0801, InitM=0.104814\n"
     ]
    },
    {
     "name": "stderr",
     "output_type": "stream",
     "text": [
      "Training Progress: 100%|██████████| 500/500 [00:04<00:00, 112.36it/s, loss=0.000503, elapsed time=0.01, total time=4.46]\n",
      "[I 2025-05-23 10:29:59,224] Trial 811 finished with value: 0.0005030856050371923 and parameters: {'learning_rate': 0.009158128474583672, 'sigma_multiplier': 1.0801135822932721, 'initialization_multiplier': 0.104813510213938}. Best is trial 77 with value: -0.00011012576492267536.\n"
     ]
    },
    {
     "name": "stdout",
     "output_type": "stream",
     "text": [
      "Training has not converged after 500 steps\n",
      "Trial 811 final loss: 0.00050309\n",
      "\n",
      "Trial 812: LR=0.006919, SigmaM=1.9177, InitM=0.113903\n"
     ]
    },
    {
     "name": "stderr",
     "output_type": "stream",
     "text": [
      "Training Progress: 100%|██████████| 500/500 [00:03<00:00, 125.69it/s, loss=-0.000034, elapsed time=0.01, total time=3.99]\n",
      "[I 2025-05-23 10:30:03,225] Trial 812 finished with value: -3.399212164707188e-05 and parameters: {'learning_rate': 0.006918579175393124, 'sigma_multiplier': 1.9176936958037236, 'initialization_multiplier': 0.11390324455156223}. Best is trial 77 with value: -0.00011012576492267536.\n"
     ]
    },
    {
     "name": "stdout",
     "output_type": "stream",
     "text": [
      "Training has not converged after 500 steps\n",
      "Trial 812 final loss: -0.00003399\n",
      "\n",
      "Trial 813: LR=0.016576, SigmaM=1.8717, InitM=0.133894\n"
     ]
    },
    {
     "name": "stderr",
     "output_type": "stream",
     "text": [
      "Training Progress: 100%|██████████| 500/500 [00:03<00:00, 125.05it/s, loss=-0.000018, elapsed time=0.01, total time=4.01]\n",
      "[I 2025-05-23 10:30:07,250] Trial 813 finished with value: -1.8299297918578698e-05 and parameters: {'learning_rate': 0.01657572850873797, 'sigma_multiplier': 1.8717494650584312, 'initialization_multiplier': 0.13389369081529612}. Best is trial 77 with value: -0.00011012576492267536.\n"
     ]
    },
    {
     "name": "stdout",
     "output_type": "stream",
     "text": [
      "Training has not converged after 500 steps\n",
      "Trial 813 final loss: -0.00001830\n",
      "\n",
      "Trial 814: LR=0.024363, SigmaM=1.6752, InitM=0.088486\n"
     ]
    },
    {
     "name": "stderr",
     "output_type": "stream",
     "text": [
      "Training Progress: 100%|██████████| 500/500 [00:04<00:00, 122.88it/s, loss=0.000072, elapsed time=0.01, total time=4.08] \n",
      "[I 2025-05-23 10:30:11,343] Trial 814 finished with value: 7.16636674937674e-05 and parameters: {'learning_rate': 0.024363158971947012, 'sigma_multiplier': 1.6752061167044006, 'initialization_multiplier': 0.08848628336167054}. Best is trial 77 with value: -0.00011012576492267536.\n"
     ]
    },
    {
     "name": "stdout",
     "output_type": "stream",
     "text": [
      "Training has not converged after 500 steps\n",
      "Trial 814 final loss: 0.00007166\n",
      "\n",
      "Trial 815: LR=0.013221, SigmaM=1.7271, InitM=0.507179\n"
     ]
    },
    {
     "name": "stderr",
     "output_type": "stream",
     "text": [
      "Training Progress: 100%|██████████| 500/500 [00:04<00:00, 122.24it/s, loss=0.000080, elapsed time=0.01, total time=4.1]  \n",
      "[I 2025-05-23 10:30:15,455] Trial 815 finished with value: 8.040102935172897e-05 and parameters: {'learning_rate': 0.01322066870672905, 'sigma_multiplier': 1.7271149265568184, 'initialization_multiplier': 0.5071787015134478}. Best is trial 77 with value: -0.00011012576492267536.\n"
     ]
    },
    {
     "name": "stdout",
     "output_type": "stream",
     "text": [
      "Training has not converged after 500 steps\n",
      "Trial 815 final loss: 0.00008040\n",
      "\n",
      "Trial 816: LR=0.018325, SigmaM=1.8157, InitM=0.083668\n"
     ]
    },
    {
     "name": "stderr",
     "output_type": "stream",
     "text": [
      "Training Progress: 100%|██████████| 500/500 [00:04<00:00, 124.54it/s, loss=-0.000007, elapsed time=0.01, total time=4.02]\n",
      "[I 2025-05-23 10:30:19,495] Trial 816 finished with value: -6.70088200330495e-06 and parameters: {'learning_rate': 0.018324791300491427, 'sigma_multiplier': 1.815671753289701, 'initialization_multiplier': 0.0836682394780631}. Best is trial 77 with value: -0.00011012576492267536.\n"
     ]
    },
    {
     "name": "stdout",
     "output_type": "stream",
     "text": [
      "Training has not converged after 500 steps\n",
      "Trial 816 final loss: -0.00000670\n",
      "\n",
      "Trial 817: LR=0.010525, SigmaM=1.9362, InitM=0.102810\n"
     ]
    },
    {
     "name": "stderr",
     "output_type": "stream",
     "text": [
      "Training Progress: 100%|██████████| 500/500 [00:03<00:00, 125.17it/s, loss=0.000026, elapsed time=0.01, total time=4.01] \n",
      "[I 2025-05-23 10:30:23,514] Trial 817 finished with value: 2.618733905561114e-05 and parameters: {'learning_rate': 0.010525428800749801, 'sigma_multiplier': 1.93617028128414, 'initialization_multiplier': 0.10280978332025793}. Best is trial 77 with value: -0.00011012576492267536.\n"
     ]
    },
    {
     "name": "stdout",
     "output_type": "stream",
     "text": [
      "Training has not converged after 500 steps\n",
      "Trial 817 final loss: 0.00002619\n",
      "\n",
      "Trial 818: LR=0.014947, SigmaM=1.8759, InitM=0.178623\n"
     ]
    },
    {
     "name": "stderr",
     "output_type": "stream",
     "text": [
      "Training Progress: 100%|██████████| 500/500 [00:04<00:00, 122.95it/s, loss=0.000018, elapsed time=0.01, total time=4.08] \n",
      "[I 2025-05-23 10:30:27,603] Trial 818 finished with value: 1.8495948422476644e-05 and parameters: {'learning_rate': 0.014947375732104562, 'sigma_multiplier': 1.8758882821833345, 'initialization_multiplier': 0.17862344448561976}. Best is trial 77 with value: -0.00011012576492267536.\n"
     ]
    },
    {
     "name": "stdout",
     "output_type": "stream",
     "text": [
      "Training has not converged after 500 steps\n",
      "Trial 818 final loss: 0.00001850\n",
      "\n",
      "Trial 819: LR=0.012213, SigmaM=1.6278, InitM=0.135651\n"
     ]
    },
    {
     "name": "stderr",
     "output_type": "stream",
     "text": [
      "Training Progress: 100%|██████████| 500/500 [00:04<00:00, 122.80it/s, loss=-0.000020, elapsed time=0.01, total time=4.08]\n",
      "[I 2025-05-23 10:30:31,699] Trial 819 finished with value: -1.9828657913351573e-05 and parameters: {'learning_rate': 0.012213464820860262, 'sigma_multiplier': 1.6277524431786647, 'initialization_multiplier': 0.13565146441393466}. Best is trial 77 with value: -0.00011012576492267536.\n"
     ]
    },
    {
     "name": "stdout",
     "output_type": "stream",
     "text": [
      "Training has not converged after 500 steps\n",
      "Trial 819 final loss: -0.00001983\n",
      "\n",
      "Trial 820: LR=0.007884, SigmaM=1.7664, InitM=0.082541\n"
     ]
    },
    {
     "name": "stderr",
     "output_type": "stream",
     "text": [
      "Training Progress: 100%|██████████| 500/500 [00:04<00:00, 123.51it/s, loss=-0.000044, elapsed time=0.01, total time=4.06]\n",
      "[I 2025-05-23 10:30:35,773] Trial 820 finished with value: -4.4201639941286546e-05 and parameters: {'learning_rate': 0.007883926558167538, 'sigma_multiplier': 1.7664001690251943, 'initialization_multiplier': 0.08254106039322505}. Best is trial 77 with value: -0.00011012576492267536.\n"
     ]
    },
    {
     "name": "stdout",
     "output_type": "stream",
     "text": [
      "Training has not converged after 500 steps\n",
      "Trial 820 final loss: -0.00004420\n",
      "\n",
      "Trial 821: LR=0.047930, SigmaM=1.9054, InitM=0.001442\n"
     ]
    },
    {
     "name": "stderr",
     "output_type": "stream",
     "text": [
      "Training Progress: 100%|██████████| 500/500 [00:04<00:00, 122.68it/s, loss=0.000018, elapsed time=0.01, total time=4.09] \n",
      "[I 2025-05-23 10:30:39,871] Trial 821 finished with value: 1.7528198708945845e-05 and parameters: {'learning_rate': 0.0479300863476973, 'sigma_multiplier': 1.9053818770644173, 'initialization_multiplier': 0.001441860535677448}. Best is trial 77 with value: -0.00011012576492267536.\n"
     ]
    },
    {
     "name": "stdout",
     "output_type": "stream",
     "text": [
      "Training has not converged after 500 steps\n",
      "Trial 821 final loss: 0.00001753\n",
      "\n",
      "Trial 822: LR=0.021598, SigmaM=1.9683, InitM=0.120528\n"
     ]
    },
    {
     "name": "stderr",
     "output_type": "stream",
     "text": [
      "Training Progress: 100%|██████████| 500/500 [00:04<00:00, 123.56it/s, loss=0.000031, elapsed time=0.01, total time=4.06] \n",
      "[I 2025-05-23 10:30:43,942] Trial 822 finished with value: 3.133567475405451e-05 and parameters: {'learning_rate': 0.02159802240533088, 'sigma_multiplier': 1.9682912692973673, 'initialization_multiplier': 0.12052829659162499}. Best is trial 77 with value: -0.00011012576492267536.\n"
     ]
    },
    {
     "name": "stdout",
     "output_type": "stream",
     "text": [
      "Training has not converged after 500 steps\n",
      "Trial 822 final loss: 0.00003134\n",
      "\n",
      "Trial 823: LR=0.010105, SigmaM=1.6998, InitM=0.309375\n"
     ]
    },
    {
     "name": "stderr",
     "output_type": "stream",
     "text": [
      "Training Progress: 100%|██████████| 500/500 [00:04<00:00, 121.06it/s, loss=-0.000013, elapsed time=0.01, total time=4.14]\n",
      "[I 2025-05-23 10:30:48,096] Trial 823 finished with value: -1.3389929850181389e-05 and parameters: {'learning_rate': 0.010105245440970466, 'sigma_multiplier': 1.6997957408281776, 'initialization_multiplier': 0.30937510841916654}. Best is trial 77 with value: -0.00011012576492267536.\n"
     ]
    },
    {
     "name": "stdout",
     "output_type": "stream",
     "text": [
      "Training has not converged after 500 steps\n",
      "Trial 823 final loss: -0.00001339\n",
      "\n",
      "Trial 824: LR=0.018771, SigmaM=1.8504, InitM=0.095413\n"
     ]
    },
    {
     "name": "stderr",
     "output_type": "stream",
     "text": [
      "Training Progress: 100%|██████████| 500/500 [00:04<00:00, 122.57it/s, loss=0.000087, elapsed time=0.01, total time=4.09] \n",
      "[I 2025-05-23 10:30:52,200] Trial 824 finished with value: 8.738706334985765e-05 and parameters: {'learning_rate': 0.018771291849660445, 'sigma_multiplier': 1.85044929444237, 'initialization_multiplier': 0.09541254330399601}. Best is trial 77 with value: -0.00011012576492267536.\n"
     ]
    },
    {
     "name": "stdout",
     "output_type": "stream",
     "text": [
      "Training has not converged after 500 steps\n",
      "Trial 824 final loss: 0.00008739\n",
      "\n",
      "Trial 825: LR=0.015054, SigmaM=1.7883, InitM=0.074716\n"
     ]
    },
    {
     "name": "stderr",
     "output_type": "stream",
     "text": [
      "Training Progress: 100%|██████████| 500/500 [00:04<00:00, 121.02it/s, loss=0.000099, elapsed time=0.01, total time=4.14] \n",
      "[I 2025-05-23 10:30:56,357] Trial 825 finished with value: 9.891647206114479e-05 and parameters: {'learning_rate': 0.015053783667058375, 'sigma_multiplier': 1.7883355561511078, 'initialization_multiplier': 0.07471569269430328}. Best is trial 77 with value: -0.00011012576492267536.\n"
     ]
    },
    {
     "name": "stdout",
     "output_type": "stream",
     "text": [
      "Training has not converged after 500 steps\n",
      "Trial 825 final loss: 0.00009892\n",
      "\n",
      "Trial 826: LR=0.026779, SigmaM=1.9299, InitM=0.039673\n"
     ]
    },
    {
     "name": "stderr",
     "output_type": "stream",
     "text": [
      "Training Progress: 100%|██████████| 500/500 [00:04<00:00, 124.14it/s, loss=0.000009, elapsed time=0.01, total time=4.04] \n",
      "[I 2025-05-23 10:31:00,410] Trial 826 finished with value: 8.94762299061025e-06 and parameters: {'learning_rate': 0.026779164685013665, 'sigma_multiplier': 1.929947092438295, 'initialization_multiplier': 0.03967310673753494}. Best is trial 77 with value: -0.00011012576492267536.\n"
     ]
    },
    {
     "name": "stdout",
     "output_type": "stream",
     "text": [
      "Training has not converged after 500 steps\n",
      "Trial 826 final loss: 0.00000895\n",
      "\n",
      "Trial 827: LR=0.012622, SigmaM=1.7461, InitM=0.235976\n"
     ]
    },
    {
     "name": "stderr",
     "output_type": "stream",
     "text": [
      "Training Progress: 100%|██████████| 500/500 [00:04<00:00, 121.52it/s, loss=0.000204, elapsed time=0.01, total time=4.13] \n",
      "[I 2025-05-23 10:31:04,549] Trial 827 finished with value: 0.00020419593921245142 and parameters: {'learning_rate': 0.012621705444172864, 'sigma_multiplier': 1.7460984938937965, 'initialization_multiplier': 0.2359764903903599}. Best is trial 77 with value: -0.00011012576492267536.\n"
     ]
    },
    {
     "name": "stdout",
     "output_type": "stream",
     "text": [
      "Training has not converged after 500 steps\n",
      "Trial 827 final loss: 0.00020420\n",
      "\n",
      "Trial 828: LR=0.008643, SigmaM=1.6586, InitM=0.051543\n"
     ]
    },
    {
     "name": "stderr",
     "output_type": "stream",
     "text": [
      "Training Progress: 100%|██████████| 500/500 [00:04<00:00, 120.26it/s, loss=0.000030, elapsed time=0.01, total time=4.17] \n",
      "[I 2025-05-23 10:31:08,732] Trial 828 finished with value: 3.007694423340944e-05 and parameters: {'learning_rate': 0.00864260577574467, 'sigma_multiplier': 1.6585957738590509, 'initialization_multiplier': 0.05154260285412977}. Best is trial 77 with value: -0.00011012576492267536.\n"
     ]
    },
    {
     "name": "stdout",
     "output_type": "stream",
     "text": [
      "Training has not converged after 500 steps\n",
      "Trial 828 final loss: 0.00003008\n",
      "\n",
      "Trial 829: LR=0.005957, SigmaM=1.8070, InitM=0.065348\n"
     ]
    },
    {
     "name": "stderr",
     "output_type": "stream",
     "text": [
      "Training Progress: 100%|██████████| 500/500 [00:04<00:00, 122.11it/s, loss=0.000067, elapsed time=0.01, total time=4.11] \n",
      "[I 2025-05-23 10:31:12,851] Trial 829 finished with value: 6.65144307210929e-05 and parameters: {'learning_rate': 0.005956704585179231, 'sigma_multiplier': 1.8069807205352013, 'initialization_multiplier': 0.0653481899472653}. Best is trial 77 with value: -0.00011012576492267536.\n"
     ]
    },
    {
     "name": "stdout",
     "output_type": "stream",
     "text": [
      "Training has not converged after 500 steps\n",
      "Trial 829 final loss: 0.00006651\n",
      "\n",
      "Trial 830: LR=0.016658, SigmaM=1.8818, InitM=0.112782\n"
     ]
    },
    {
     "name": "stderr",
     "output_type": "stream",
     "text": [
      "Training Progress: 100%|██████████| 500/500 [00:03<00:00, 125.58it/s, loss=-0.000026, elapsed time=0.01, total time=3.99]\n",
      "[I 2025-05-23 10:31:16,857] Trial 830 finished with value: -2.5572911769873413e-05 and parameters: {'learning_rate': 0.016658124013451025, 'sigma_multiplier': 1.8818143283562556, 'initialization_multiplier': 0.11278164350302261}. Best is trial 77 with value: -0.00011012576492267536.\n"
     ]
    },
    {
     "name": "stdout",
     "output_type": "stream",
     "text": [
      "Training has not converged after 500 steps\n",
      "Trial 830 final loss: -0.00002557\n",
      "\n",
      "Trial 831: LR=0.011053, SigmaM=1.9669, InitM=0.087266\n"
     ]
    },
    {
     "name": "stderr",
     "output_type": "stream",
     "text": [
      "Training Progress: 100%|██████████| 500/500 [00:03<00:00, 126.08it/s, loss=0.000102, elapsed time=0.01, total time=3.98] \n",
      "[I 2025-05-23 10:31:20,847] Trial 831 finished with value: 0.00010222473584611882 and parameters: {'learning_rate': 0.011052989901077106, 'sigma_multiplier': 1.966928021276668, 'initialization_multiplier': 0.08726649342807508}. Best is trial 77 with value: -0.00011012576492267536.\n"
     ]
    },
    {
     "name": "stdout",
     "output_type": "stream",
     "text": [
      "Training has not converged after 500 steps\n",
      "Trial 831 final loss: 0.00010222\n",
      "\n",
      "Trial 832: LR=0.020286, SigmaM=1.8465, InitM=0.154130\n"
     ]
    },
    {
     "name": "stderr",
     "output_type": "stream",
     "text": [
      "Training Progress: 100%|██████████| 500/500 [00:04<00:00, 120.18it/s, loss=0.000003, elapsed time=0.01, total time=4.17] \n",
      "[I 2025-05-23 10:31:25,033] Trial 832 finished with value: 2.565354908304257e-06 and parameters: {'learning_rate': 0.020286073560707458, 'sigma_multiplier': 1.8465251304480728, 'initialization_multiplier': 0.15413010926579218}. Best is trial 77 with value: -0.00011012576492267536.\n"
     ]
    },
    {
     "name": "stdout",
     "output_type": "stream",
     "text": [
      "Training has not converged after 500 steps\n",
      "Trial 832 final loss: 0.00000257\n",
      "\n",
      "Trial 833: LR=0.014054, SigmaM=1.7090, InitM=0.078831\n"
     ]
    },
    {
     "name": "stderr",
     "output_type": "stream",
     "text": [
      "Training Progress: 100%|██████████| 500/500 [00:04<00:00, 121.89it/s, loss=0.000030, elapsed time=0.01, total time=4.11] \n",
      "[I 2025-05-23 10:31:29,161] Trial 833 finished with value: 2.9786457026960357e-05 and parameters: {'learning_rate': 0.014054051921297273, 'sigma_multiplier': 1.7089741570167487, 'initialization_multiplier': 0.07883090864739291}. Best is trial 77 with value: -0.00011012576492267536.\n"
     ]
    },
    {
     "name": "stdout",
     "output_type": "stream",
     "text": [
      "Training has not converged after 500 steps\n",
      "Trial 833 final loss: 0.00002979\n",
      "\n",
      "Trial 834: LR=0.012613, SigmaM=1.5870, InitM=0.057575\n"
     ]
    },
    {
     "name": "stderr",
     "output_type": "stream",
     "text": [
      "Training Progress: 100%|██████████| 500/500 [00:04<00:00, 121.74it/s, loss=0.000175, elapsed time=0.01, total time=4.12] \n",
      "[I 2025-05-23 10:31:33,293] Trial 834 finished with value: 0.00017478181020670974 and parameters: {'learning_rate': 0.012613014435924006, 'sigma_multiplier': 1.5869743033533465, 'initialization_multiplier': 0.05757519012874718}. Best is trial 77 with value: -0.00011012576492267536.\n"
     ]
    },
    {
     "name": "stdout",
     "output_type": "stream",
     "text": [
      "Training has not converged after 500 steps\n",
      "Trial 834 final loss: 0.00017478\n",
      "\n",
      "Trial 835: LR=0.009748, SigmaM=1.9055, InitM=0.101200\n"
     ]
    },
    {
     "name": "stderr",
     "output_type": "stream",
     "text": [
      "Training Progress: 100%|██████████| 500/500 [00:03<00:00, 128.67it/s, loss=0.000013, elapsed time=0.01, total time=3.9]  \n",
      "[I 2025-05-23 10:31:37,201] Trial 835 finished with value: 1.3031564272697023e-05 and parameters: {'learning_rate': 0.009748225966460418, 'sigma_multiplier': 1.9054548793024566, 'initialization_multiplier': 0.10120008271717612}. Best is trial 77 with value: -0.00011012576492267536.\n"
     ]
    },
    {
     "name": "stdout",
     "output_type": "stream",
     "text": [
      "Training has not converged after 500 steps\n",
      "Trial 835 final loss: 0.00001303\n",
      "\n",
      "Trial 836: LR=0.016744, SigmaM=1.7536, InitM=0.062634\n"
     ]
    },
    {
     "name": "stderr",
     "output_type": "stream",
     "text": [
      "Training Progress: 100%|██████████| 500/500 [00:03<00:00, 126.67it/s, loss=-0.000059, elapsed time=0.01, total time=3.96]\n",
      "[I 2025-05-23 10:31:41,175] Trial 836 finished with value: -5.868203870347971e-05 and parameters: {'learning_rate': 0.016744385851140974, 'sigma_multiplier': 1.7536180307967468, 'initialization_multiplier': 0.06263439692785132}. Best is trial 77 with value: -0.00011012576492267536.\n"
     ]
    },
    {
     "name": "stdout",
     "output_type": "stream",
     "text": [
      "Training has not converged after 500 steps\n",
      "Trial 836 final loss: -0.00005868\n",
      "\n",
      "Trial 837: LR=0.022349, SigmaM=1.8148, InitM=0.129184\n"
     ]
    },
    {
     "name": "stderr",
     "output_type": "stream",
     "text": [
      "Training Progress: 100%|██████████| 500/500 [00:03<00:00, 125.30it/s, loss=0.000002, elapsed time=0.01, total time=4]    \n",
      "[I 2025-05-23 10:31:45,188] Trial 837 finished with value: 1.9039474570887125e-06 and parameters: {'learning_rate': 0.0223489229039187, 'sigma_multiplier': 1.8147808751657226, 'initialization_multiplier': 0.12918359971287885}. Best is trial 77 with value: -0.00011012576492267536.\n"
     ]
    },
    {
     "name": "stdout",
     "output_type": "stream",
     "text": [
      "Training has not converged after 500 steps\n",
      "Trial 837 final loss: 0.00000190\n",
      "\n",
      "Trial 838: LR=0.031023, SigmaM=0.4475, InitM=0.045718\n"
     ]
    },
    {
     "name": "stderr",
     "output_type": "stream",
     "text": [
      "Training Progress: 100%|██████████| 500/500 [00:05<00:00, 90.71it/s, loss=0.001310, elapsed time=0.01, total time=5.52]\n",
      "[I 2025-05-23 10:31:50,723] Trial 838 finished with value: 0.0013098506135920238 and parameters: {'learning_rate': 0.031022623332641452, 'sigma_multiplier': 0.44751258850523756, 'initialization_multiplier': 0.04571760153753891}. Best is trial 77 with value: -0.00011012576492267536.\n"
     ]
    },
    {
     "name": "stdout",
     "output_type": "stream",
     "text": [
      "Training has not converged after 500 steps\n",
      "Trial 838 final loss: 0.00130985\n",
      "\n",
      "Trial 839: LR=0.014608, SigmaM=1.9411, InitM=0.075892\n"
     ]
    },
    {
     "name": "stderr",
     "output_type": "stream",
     "text": [
      "Training Progress: 100%|██████████| 500/500 [00:04<00:00, 124.62it/s, loss=0.000047, elapsed time=0.01, total time=4.02] \n",
      "[I 2025-05-23 10:31:54,758] Trial 839 finished with value: 4.662034312424816e-05 and parameters: {'learning_rate': 0.014608324787587569, 'sigma_multiplier': 1.941114392140691, 'initialization_multiplier': 0.07589217098636612}. Best is trial 77 with value: -0.00011012576492267536.\n"
     ]
    },
    {
     "name": "stdout",
     "output_type": "stream",
     "text": [
      "Training has not converged after 500 steps\n",
      "Trial 839 final loss: 0.00004662\n",
      "\n",
      "Trial 840: LR=0.007898, SigmaM=1.5451, InitM=0.091421\n"
     ]
    },
    {
     "name": "stderr",
     "output_type": "stream",
     "text": [
      "Training Progress: 100%|██████████| 500/500 [00:03<00:00, 125.81it/s, loss=0.000080, elapsed time=0.01, total time=3.98] \n",
      "[I 2025-05-23 10:31:58,754] Trial 840 finished with value: 7.997176278790277e-05 and parameters: {'learning_rate': 0.007897993551573229, 'sigma_multiplier': 1.5451068387619977, 'initialization_multiplier': 0.09142127808944897}. Best is trial 77 with value: -0.00011012576492267536.\n"
     ]
    },
    {
     "name": "stdout",
     "output_type": "stream",
     "text": [
      "Training has not converged after 500 steps\n",
      "Trial 840 final loss: 0.00007997\n",
      "\n",
      "Trial 841: LR=0.011693, SigmaM=1.8752, InitM=0.116266\n"
     ]
    },
    {
     "name": "stderr",
     "output_type": "stream",
     "text": [
      "Training Progress: 100%|██████████| 500/500 [00:03<00:00, 127.39it/s, loss=0.000035, elapsed time=0.01, total time=3.94] \n",
      "[I 2025-05-23 10:32:02,702] Trial 841 finished with value: 3.481699553210866e-05 and parameters: {'learning_rate': 0.011693190942576844, 'sigma_multiplier': 1.8752428982542682, 'initialization_multiplier': 0.11626571302473172}. Best is trial 77 with value: -0.00011012576492267536.\n"
     ]
    },
    {
     "name": "stdout",
     "output_type": "stream",
     "text": [
      "Training has not converged after 500 steps\n",
      "Trial 841 final loss: 0.00003482\n",
      "\n",
      "Trial 842: LR=0.000128, SigmaM=1.6608, InitM=0.051962\n"
     ]
    },
    {
     "name": "stderr",
     "output_type": "stream",
     "text": [
      "Training Progress: 100%|██████████| 500/500 [00:03<00:00, 137.03it/s, loss=0.092000, elapsed time=0.01, total time=3.66]\n",
      "[I 2025-05-23 10:32:06,374] Trial 842 finished with value: 0.092000218349143 and parameters: {'learning_rate': 0.00012754499654014118, 'sigma_multiplier': 1.6608252346414332, 'initialization_multiplier': 0.05196236591059029}. Best is trial 77 with value: -0.00011012576492267536.\n"
     ]
    },
    {
     "name": "stdout",
     "output_type": "stream",
     "text": [
      "Training has not converged after 500 steps\n",
      "Trial 842 final loss: 0.09200022\n",
      "\n",
      "Trial 843: LR=0.018124, SigmaM=1.9746, InitM=0.063834\n"
     ]
    },
    {
     "name": "stderr",
     "output_type": "stream",
     "text": [
      "Training Progress: 100%|██████████| 500/500 [00:03<00:00, 129.08it/s, loss=-0.000046, elapsed time=0.01, total time=3.88]\n",
      "[I 2025-05-23 10:32:10,269] Trial 843 finished with value: -4.606253391267239e-05 and parameters: {'learning_rate': 0.018123858900893828, 'sigma_multiplier': 1.9746217791451082, 'initialization_multiplier': 0.06383393776367433}. Best is trial 77 with value: -0.00011012576492267536.\n"
     ]
    },
    {
     "name": "stdout",
     "output_type": "stream",
     "text": [
      "Training has not converged after 500 steps\n",
      "Trial 843 final loss: -0.00004606\n",
      "\n",
      "Trial 844: LR=0.010177, SigmaM=1.7770, InitM=0.100463\n"
     ]
    },
    {
     "name": "stderr",
     "output_type": "stream",
     "text": [
      "Training Progress: 100%|██████████| 500/500 [00:03<00:00, 127.78it/s, loss=0.000077, elapsed time=0.01, total time=3.92] \n",
      "[I 2025-05-23 10:32:14,204] Trial 844 finished with value: 7.670971335114569e-05 and parameters: {'learning_rate': 0.010177033547862225, 'sigma_multiplier': 1.7770462567635643, 'initialization_multiplier': 0.10046280346404582}. Best is trial 77 with value: -0.00011012576492267536.\n"
     ]
    },
    {
     "name": "stdout",
     "output_type": "stream",
     "text": [
      "Training has not converged after 500 steps\n",
      "Trial 844 final loss: 0.00007671\n",
      "\n",
      "Trial 845: LR=0.012969, SigmaM=1.8331, InitM=0.082893\n"
     ]
    },
    {
     "name": "stderr",
     "output_type": "stream",
     "text": [
      "Training Progress: 100%|██████████| 500/500 [00:03<00:00, 128.87it/s, loss=-0.000001, elapsed time=0.01, total time=3.89]\n",
      "[I 2025-05-23 10:32:18,106] Trial 845 finished with value: -7.857761117150862e-07 and parameters: {'learning_rate': 0.012969447447539334, 'sigma_multiplier': 1.833066833188648, 'initialization_multiplier': 0.08289280660992095}. Best is trial 77 with value: -0.00011012576492267536.\n"
     ]
    },
    {
     "name": "stdout",
     "output_type": "stream",
     "text": [
      "Training has not converged after 500 steps\n",
      "Trial 845 final loss: -0.00000079\n",
      "\n",
      "Trial 846: LR=0.015844, SigmaM=1.9177, InitM=0.012650\n"
     ]
    },
    {
     "name": "stderr",
     "output_type": "stream",
     "text": [
      "Training Progress: 100%|██████████| 500/500 [00:03<00:00, 129.27it/s, loss=0.000001, elapsed time=0.01, total time=3.88] \n",
      "[I 2025-05-23 10:32:21,995] Trial 846 finished with value: 1.0460262844460557e-06 and parameters: {'learning_rate': 0.015844177575322048, 'sigma_multiplier': 1.917725601927968, 'initialization_multiplier': 0.01264991460743475}. Best is trial 77 with value: -0.00011012576492267536.\n"
     ]
    },
    {
     "name": "stdout",
     "output_type": "stream",
     "text": [
      "Training has not converged after 500 steps\n",
      "Trial 846 final loss: 0.00000105\n",
      "\n",
      "Trial 847: LR=0.023930, SigmaM=1.6235, InitM=0.142333\n"
     ]
    },
    {
     "name": "stderr",
     "output_type": "stream",
     "text": [
      "Training Progress: 100%|██████████| 500/500 [00:03<00:00, 126.12it/s, loss=0.000057, elapsed time=0.01, total time=3.97] \n",
      "[I 2025-05-23 10:32:25,981] Trial 847 finished with value: 5.718373052668362e-05 and parameters: {'learning_rate': 0.02392978280405471, 'sigma_multiplier': 1.623508031078477, 'initialization_multiplier': 0.14233347448389433}. Best is trial 77 with value: -0.00011012576492267536.\n"
     ]
    },
    {
     "name": "stdout",
     "output_type": "stream",
     "text": [
      "Training has not converged after 500 steps\n",
      "Trial 847 final loss: 0.00005718\n",
      "\n",
      "Trial 848: LR=0.019150, SigmaM=1.9996, InitM=0.068335\n"
     ]
    },
    {
     "name": "stderr",
     "output_type": "stream",
     "text": [
      "Training Progress: 100%|██████████| 500/500 [00:03<00:00, 129.81it/s, loss=0.000016, elapsed time=0.01, total time=3.86] \n",
      "[I 2025-05-23 10:32:29,855] Trial 848 finished with value: 1.6386753868093783e-05 and parameters: {'learning_rate': 0.019150335925408032, 'sigma_multiplier': 1.9995839827143902, 'initialization_multiplier': 0.06833479345203941}. Best is trial 77 with value: -0.00011012576492267536.\n"
     ]
    },
    {
     "name": "stdout",
     "output_type": "stream",
     "text": [
      "Training has not converged after 500 steps\n",
      "Trial 848 final loss: 0.00001639\n",
      "\n",
      "Trial 849: LR=0.009001, SigmaM=1.7074, InitM=0.028263\n"
     ]
    },
    {
     "name": "stderr",
     "output_type": "stream",
     "text": [
      "Training Progress: 100%|██████████| 500/500 [00:03<00:00, 127.12it/s, loss=0.000187, elapsed time=0.01, total time=3.94] \n",
      "[I 2025-05-23 10:32:33,811] Trial 849 finished with value: 0.00018685177143175534 and parameters: {'learning_rate': 0.009000676828889595, 'sigma_multiplier': 1.7074317916701194, 'initialization_multiplier': 0.02826275847525242}. Best is trial 77 with value: -0.00011012576492267536.\n"
     ]
    },
    {
     "name": "stdout",
     "output_type": "stream",
     "text": [
      "Training has not converged after 500 steps\n",
      "Trial 849 final loss: 0.00018685\n",
      "\n",
      "Trial 850: LR=0.014585, SigmaM=1.8672, InitM=0.110180\n"
     ]
    },
    {
     "name": "stderr",
     "output_type": "stream",
     "text": [
      "Training Progress: 100%|██████████| 500/500 [00:03<00:00, 128.14it/s, loss=0.000111, elapsed time=0.01, total time=3.91] \n",
      "[I 2025-05-23 10:32:37,736] Trial 850 finished with value: 0.00011133240909320808 and parameters: {'learning_rate': 0.014585386538585527, 'sigma_multiplier': 1.8671948319529537, 'initialization_multiplier': 0.11018034328690167}. Best is trial 77 with value: -0.00011012576492267536.\n"
     ]
    },
    {
     "name": "stdout",
     "output_type": "stream",
     "text": [
      "Training has not converged after 500 steps\n",
      "Trial 850 final loss: 0.00011133\n",
      "\n",
      "Trial 851: LR=0.011167, SigmaM=1.9535, InitM=0.171493\n"
     ]
    },
    {
     "name": "stderr",
     "output_type": "stream",
     "text": [
      "Training Progress: 100%|██████████| 500/500 [00:03<00:00, 128.54it/s, loss=0.000023, elapsed time=0.01, total time=3.9]  \n",
      "[I 2025-05-23 10:32:41,648] Trial 851 finished with value: 2.3337028333040494e-05 and parameters: {'learning_rate': 0.011167474673044579, 'sigma_multiplier': 1.953544173469693, 'initialization_multiplier': 0.1714925661385515}. Best is trial 77 with value: -0.00011012576492267536.\n"
     ]
    },
    {
     "name": "stdout",
     "output_type": "stream",
     "text": [
      "Training has not converged after 500 steps\n",
      "Trial 851 final loss: 0.00002334\n",
      "\n",
      "Trial 852: LR=0.004198, SigmaM=0.6285, InitM=0.092619\n"
     ]
    },
    {
     "name": "stderr",
     "output_type": "stream",
     "text": [
      "Training Progress: 100%|██████████| 500/500 [00:05<00:00, 98.64it/s, loss=0.001831, elapsed time=0.01, total time=5.08] \n",
      "[I 2025-05-23 10:32:46,739] Trial 852 finished with value: 0.0018310644665562859 and parameters: {'learning_rate': 0.004197948986842064, 'sigma_multiplier': 0.6285289241256564, 'initialization_multiplier': 0.09261853297716145}. Best is trial 77 with value: -0.00011012576492267536.\n"
     ]
    },
    {
     "name": "stdout",
     "output_type": "stream",
     "text": [
      "Training has not converged after 500 steps\n",
      "Trial 852 final loss: 0.00183106\n",
      "\n",
      "Trial 853: LR=0.027378, SigmaM=1.7884, InitM=0.056872\n"
     ]
    },
    {
     "name": "stderr",
     "output_type": "stream",
     "text": [
      "Training Progress: 100%|██████████| 500/500 [00:03<00:00, 128.18it/s, loss=-0.000008, elapsed time=0.01, total time=3.91]\n",
      "[I 2025-05-23 10:32:50,662] Trial 853 finished with value: -7.916213246468525e-06 and parameters: {'learning_rate': 0.02737790621172183, 'sigma_multiplier': 1.7883508345449046, 'initialization_multiplier': 0.056871913135859736}. Best is trial 77 with value: -0.00011012576492267536.\n"
     ]
    },
    {
     "name": "stdout",
     "output_type": "stream",
     "text": [
      "Training has not converged after 500 steps\n",
      "Trial 853 final loss: -0.00000792\n",
      "\n",
      "Trial 854: LR=0.012210, SigmaM=1.8913, InitM=0.069465\n"
     ]
    },
    {
     "name": "stderr",
     "output_type": "stream",
     "text": [
      "Training Progress: 100%|██████████| 500/500 [00:03<00:00, 129.04it/s, loss=-0.000069, elapsed time=0.01, total time=3.89]\n",
      "[I 2025-05-23 10:32:54,561] Trial 854 finished with value: -6.931832805332877e-05 and parameters: {'learning_rate': 0.01221001281125106, 'sigma_multiplier': 1.8912984463332507, 'initialization_multiplier': 0.06946534870251433}. Best is trial 77 with value: -0.00011012576492267536.\n"
     ]
    },
    {
     "name": "stdout",
     "output_type": "stream",
     "text": [
      "Training has not converged after 500 steps\n",
      "Trial 854 final loss: -0.00006932\n",
      "\n",
      "Trial 855: LR=0.012104, SigmaM=1.9121, InitM=0.046609\n"
     ]
    },
    {
     "name": "stderr",
     "output_type": "stream",
     "text": [
      "Training Progress: 100%|██████████| 500/500 [00:03<00:00, 129.87it/s, loss=-0.000048, elapsed time=0.01, total time=3.86]\n",
      "[I 2025-05-23 10:32:58,434] Trial 855 finished with value: -4.8422370399317356e-05 and parameters: {'learning_rate': 0.01210438438771995, 'sigma_multiplier': 1.9121147272603294, 'initialization_multiplier': 0.04660859985560882}. Best is trial 77 with value: -0.00011012576492267536.\n"
     ]
    },
    {
     "name": "stdout",
     "output_type": "stream",
     "text": [
      "Training has not converged after 500 steps\n",
      "Trial 855 final loss: -0.00004842\n",
      "\n",
      "Trial 856: LR=0.009838, SigmaM=1.8938, InitM=0.055049\n"
     ]
    },
    {
     "name": "stderr",
     "output_type": "stream",
     "text": [
      "Training Progress: 100%|██████████| 500/500 [00:03<00:00, 126.68it/s, loss=0.000084, elapsed time=0.01, total time=3.96] \n",
      "[I 2025-05-23 10:33:02,402] Trial 856 finished with value: 8.412062097319104e-05 and parameters: {'learning_rate': 0.009838139521781182, 'sigma_multiplier': 1.8938173926871156, 'initialization_multiplier': 0.05504947149749006}. Best is trial 77 with value: -0.00011012576492267536.\n"
     ]
    },
    {
     "name": "stdout",
     "output_type": "stream",
     "text": [
      "Training has not converged after 500 steps\n",
      "Trial 856 final loss: 0.00008412\n",
      "\n",
      "Trial 857: LR=0.007082, SigmaM=1.9345, InitM=0.067324\n"
     ]
    },
    {
     "name": "stderr",
     "output_type": "stream",
     "text": [
      "Training Progress: 100%|██████████| 500/500 [00:04<00:00, 124.21it/s, loss=0.000029, elapsed time=0.01, total time=4.04] \n",
      "[I 2025-05-23 10:33:06,452] Trial 857 finished with value: 2.9333853887705625e-05 and parameters: {'learning_rate': 0.007081851740171995, 'sigma_multiplier': 1.9345466868127874, 'initialization_multiplier': 0.0673238163285678}. Best is trial 77 with value: -0.00011012576492267536.\n"
     ]
    },
    {
     "name": "stdout",
     "output_type": "stream",
     "text": [
      "Training has not converged after 500 steps\n",
      "Trial 857 final loss: 0.00002933\n",
      "\n",
      "Trial 858: LR=0.011364, SigmaM=1.9025, InitM=0.062078\n"
     ]
    },
    {
     "name": "stderr",
     "output_type": "stream",
     "text": [
      "Training Progress: 100%|██████████| 500/500 [00:03<00:00, 126.47it/s, loss=0.000001, elapsed time=0.01, total time=3.96] \n",
      "[I 2025-05-23 10:33:10,432] Trial 858 finished with value: 6.301993645582958e-07 and parameters: {'learning_rate': 0.011363552176473573, 'sigma_multiplier': 1.9024536866552821, 'initialization_multiplier': 0.06207752783795595}. Best is trial 77 with value: -0.00011012576492267536.\n"
     ]
    },
    {
     "name": "stdout",
     "output_type": "stream",
     "text": [
      "Training has not converged after 500 steps\n",
      "Trial 858 final loss: 0.00000063\n",
      "\n",
      "Trial 859: LR=0.013993, SigmaM=1.9684, InitM=0.071275\n"
     ]
    },
    {
     "name": "stderr",
     "output_type": "stream",
     "text": [
      "Training Progress: 100%|██████████| 500/500 [00:03<00:00, 129.11it/s, loss=0.000007, elapsed time=0.01, total time=3.88] \n",
      "[I 2025-05-23 10:33:14,326] Trial 859 finished with value: 7.026317608844592e-06 and parameters: {'learning_rate': 0.013993361278104586, 'sigma_multiplier': 1.9683755657705257, 'initialization_multiplier': 0.07127515816238553}. Best is trial 77 with value: -0.00011012576492267536.\n"
     ]
    },
    {
     "name": "stdout",
     "output_type": "stream",
     "text": [
      "Training has not converged after 500 steps\n",
      "Trial 859 final loss: 0.00000703\n",
      "\n",
      "Trial 860: LR=0.008392, SigmaM=1.8656, InitM=0.052604\n"
     ]
    },
    {
     "name": "stderr",
     "output_type": "stream",
     "text": [
      "Training Progress:   0%|          | 0/500 [00:00<?, ?it/s, elapsed time=0, loss=0, total time=0]"
     ]
    }
   ],
   "source": [
    "study = optuna.create_study(direction=\"minimize\")\n",
    "study.optimize(objective, n_trials=1000) "
   ]
  },
  {
   "cell_type": "code",
   "execution_count": 7,
   "metadata": {},
   "outputs": [
    {
     "name": "stdout",
     "output_type": "stream",
     "text": [
      "\n",
      "Optimization Finished!\n",
      "Best hyperparameters found: {'learning_rate': 0.009172089519608987, 'sigma_multiplier': 1.9666857648128913, 'initialization_multiplier': 0.0003543470455562567}\n",
      "Best loss value: -9.512582234126067e-05\n"
     ]
    }
   ],
   "source": [
    "best_hyperparams = study.best_params\n",
    "best_loss_value = study.best_value\n",
    "\n",
    "print(\"\\nOptimization Finished!\")\n",
    "print(f\"Best hyperparameters found: {best_hyperparams}\")\n",
    "print(f\"Best loss value: {best_loss_value}\")"
   ]
  },
  {
   "cell_type": "code",
   "execution_count": null,
   "metadata": {},
   "outputs": [
    {
     "name": "stdout",
     "output_type": "stream",
     "text": [
      "\n",
      "Running full training with best hyperparameters...\n",
      "Training with: LR=0.009172, SigmaM=1.9667, InitM=0.000354\n"
     ]
    },
    {
     "name": "stderr",
     "output_type": "stream",
     "text": [
      "Training Progress: 100%|██████████| 2500/2500 [00:46<00:00, 53.20it/s, loss=0.000035, elapsed time=0.02, total time=47]   \n"
     ]
    },
    {
     "name": "stdout",
     "output_type": "stream",
     "text": [
      "Training has not converged after 2500 steps\n",
      "\n",
      "Full training with best params completed.\n",
      "Final loss: 0.00003535\n"
     ]
    }
   ],
   "source": [
    "print(\"\\nRunning full training with best hyperparameters...\")\n",
    "\n",
    "LEARNING_RATE_BEST = best_hyperparams['learning_rate']\n",
    "SIGMA_MULTIPLIER_BEST = best_hyperparams['sigma_multiplier']\n",
    "INITIALIZATION_MULTIPLIER_BEST = best_hyperparams['initialization_multiplier']\n",
    "\n",
    "# Re-initialize components with best hyperparameters\n",
    "sigma_val = median_heuristic(train_ds) * SIGMA_MULTIPLIER_BEST\n",
    "params_init_best = initialize_from_data(gates, jnp.array(train_ds)) * INITIALIZATION_MULTIPLIER_BEST\n",
    "\n",
    "loss_kwarg_best = {\n",
    "    \"params\": params_init_best,\n",
    "    \"iqp_circuit\": circ,\n",
    "    \"ground_truth\": jnp.array(train_ds),\n",
    "    \"sigma\": [sigma_val],\n",
    "    \"n_ops\": 2000, \n",
    "    \"n_samples\": 2000, \n",
    "    \"key\": base_key, \n",
    "}\n",
    "\n",
    "loss_fn_best = genq.mmd_loss_iqp\n",
    "trainer_best = iqp.Trainer(\"Adam\", loss_fn_best, stepsize=LEARNING_RATE_BEST)\n",
    "\n",
    "print(f\"Training with: LR={LEARNING_RATE_BEST:.6f}, SigmaM={SIGMA_MULTIPLIER_BEST:.4f}, InitM={INITIALIZATION_MULTIPLIER_BEST:.6f}\")\n",
    "history_best = trainer_best.train(n_iters=2500, loss_kwargs=loss_kwarg_best, turbo=1) # Original iterations\n",
    "trained_params_best = trainer_best.final_params\n",
    "final_loss_best_run = trainer_best.losses[-1]\n",
    "\n",
    "print(f\"\\nFull training with best params completed.\")\n",
    "print(f\"Final loss: {final_loss_best_run:.8f}\")"
   ]
  }
 ],
 "metadata": {
  "kernelspec": {
   "display_name": ".venv",
   "language": "python",
   "name": "python3"
  },
  "language_info": {
   "codemirror_mode": {
    "name": "ipython",
    "version": 3
   },
   "file_extension": ".py",
   "mimetype": "text/x-python",
   "name": "python",
   "nbconvert_exporter": "python",
   "pygments_lexer": "ipython3",
   "version": "3.12.6"
  }
 },
 "nbformat": 4,
 "nbformat_minor": 2
}
