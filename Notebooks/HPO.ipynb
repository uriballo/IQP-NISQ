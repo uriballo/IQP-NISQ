{
 "cells": [
  {
   "cell_type": "markdown",
   "metadata": {},
   "source": [
    "# HPO"
   ]
  },
  {
   "cell_type": "code",
   "execution_count": 1,
   "metadata": {},
   "outputs": [
    {
     "name": "stdout",
     "output_type": "stream",
     "text": [
      "/Users/uribagi/Documents/GitHub/Latent-IQP\n"
     ]
    }
   ],
   "source": [
    "%cd .."
   ]
  },
  {
   "cell_type": "code",
   "execution_count": 2,
   "metadata": {},
   "outputs": [
    {
     "name": "stderr",
     "output_type": "stream",
     "text": [
      "/Users/uribagi/Documents/GitHub/Latent-IQP/.venv/lib/python3.12/site-packages/tqdm/auto.py:21: TqdmWarning: IProgress not found. Please update jupyter and ipywidgets. See https://ipywidgets.readthedocs.io/en/stable/user_install.html\n",
      "  from .autonotebook import tqdm as notebook_tqdm\n"
     ]
    }
   ],
   "source": [
    "import iqpopt as iqp\n",
    "from iqpopt.utils import initialize_from_data, local_gates\n",
    "import iqpopt.gen_qml as genq\n",
    "from iqpopt.gen_qml.utils import median_heuristic\n",
    "import optuna\n",
    "import pennylane as qml\n",
    "import jax\n",
    "from jax import numpy as jnp\n",
    "from utils.nisq import aachen_connectivity, efficient_connectivity_gates\n",
    "from datasets.bipartites import BipartiteGraphDataset"
   ]
  },
  {
   "cell_type": "code",
   "execution_count": null,
   "metadata": {},
   "outputs": [
    {
     "name": "stdout",
     "output_type": "stream",
     "text": [
      "\n",
      "Bipartite Dataset (k=10, p=0.2, connected=True):\n",
      "Target samples: 512, Generated samples: 512\n",
      "Bipartite: 512, Non-Bipartite: 0\n",
      "Target Ratio (Bipartite): 1.000, Actual Ratio: 1.000\n"
     ]
    }
   ],
   "source": [
    "nodes = 10\n",
    "grid_conn = aachen_connectivity()\n",
    "num_qubits = nodes * (nodes - 1) // 2\n",
    "gates = efficient_connectivity_gates(grid_conn, num_qubits, 1) \n",
    "circ = iqp.IqpSimulator(num_qubits, gates, device='lightning.qubit')\n",
    "\n",
    "train_dataset = BipartiteGraphDataset(num_samples=256, # Full samples for objective\n",
    "                                      num_vertices=nodes,\n",
    "                                      ratio_bipartite=1.0,\n",
    "                                      edge_prob=0.2)\n",
    "train_ds, _ = train_dataset.get_all_data() \n",
    "train_ds = jnp.array(train_ds)\n",
    "\n",
    "base_key = jax.random.PRNGKey(42)"
   ]
  },
  {
   "cell_type": "code",
   "execution_count": 4,
   "metadata": {},
   "outputs": [],
   "source": [
    "base_sigma = median_heuristic(train_ds)\n",
    "base_params_init = initialize_from_data(gates, train_ds)"
   ]
  },
  {
   "cell_type": "code",
   "execution_count": 5,
   "metadata": {},
   "outputs": [],
   "source": [
    "from utils.hpo import run_hpo"
   ]
  },
  {
   "cell_type": "code",
   "execution_count": 6,
   "metadata": {},
   "outputs": [
    {
     "name": "stderr",
     "output_type": "stream",
     "text": [
      "[I 2025-05-23 14:21:32,925] A new study created in memory with name: no-name-c35d4e5a-4e9c-40d5-8b64-037d551cb40b\n"
     ]
    },
    {
     "name": "stdout",
     "output_type": "stream",
     "text": [
      "Trial 0:\n",
      "  Learning Rate: 0.0023061066398712316\n",
      "  Sigma Multiplier: 1.9365813118345911\n",
      "  Initialization Multiplier: 0.01\n"
     ]
    },
    {
     "name": "stderr",
     "output_type": "stream",
     "text": [
      "Training Progress: 100%|██████████| 500/500 [00:12<00:00, 40.95it/s, loss=-0.000124, elapsed time=0.02, total time=12.9]\n",
      "[I 2025-05-23 14:21:45,956] Trial 0 finished with value: -0.00012370248856206212 and parameters: {'learning_rate': 0.0023061066398712316, 'sigma_multiplier': 1.9365813118345911, 'initialization_multiplier': 0.01}. Best is trial 0 with value: -0.00012370248856206212.\n"
     ]
    },
    {
     "name": "stdout",
     "output_type": "stream",
     "text": [
      "Training has not converged after 500 steps\n",
      "Trial 0 final loss: -0.00012370\n",
      "Trial 1:\n",
      "  Learning Rate: 0.09476086559660529\n",
      "  Sigma Multiplier: 0.10204858785512157\n",
      "  Initialization Multiplier: 0.1\n"
     ]
    },
    {
     "name": "stderr",
     "output_type": "stream",
     "text": [
      "Training Progress: 100%|██████████| 500/500 [00:22<00:00, 22.15it/s, loss=-0.000001, elapsed time=0.04, total time=22.6]\n",
      "[I 2025-05-23 14:22:08,546] Trial 1 finished with value: -1.199055560233657e-06 and parameters: {'learning_rate': 0.09476086559660529, 'sigma_multiplier': 0.10204858785512157, 'initialization_multiplier': 0.1}. Best is trial 0 with value: -0.00012370248856206212.\n"
     ]
    },
    {
     "name": "stdout",
     "output_type": "stream",
     "text": [
      "Training has not converged after 500 steps\n",
      "Trial 1 final loss: -0.00000120\n",
      "Trial 2:\n",
      "  Learning Rate: 0.003997726837414164\n",
      "  Sigma Multiplier: 0.22166044302995414\n",
      "  Initialization Multiplier: 0.01\n"
     ]
    },
    {
     "name": "stderr",
     "output_type": "stream",
     "text": [
      "Training Progress: 100%|██████████| 500/500 [00:21<00:00, 23.06it/s, loss=0.000855, elapsed time=0.04, total time=21.7]\n",
      "[I 2025-05-23 14:22:30,242] Trial 2 finished with value: 0.0008549768257430442 and parameters: {'learning_rate': 0.003997726837414164, 'sigma_multiplier': 0.22166044302995414, 'initialization_multiplier': 0.01}. Best is trial 0 with value: -0.00012370248856206212.\n"
     ]
    },
    {
     "name": "stdout",
     "output_type": "stream",
     "text": [
      "Training has not converged after 500 steps\n",
      "Trial 2 final loss: 0.00085498\n",
      "Trial 3:\n",
      "  Learning Rate: 0.03598660841937735\n",
      "  Sigma Multiplier: 1.2274512834269369\n",
      "  Initialization Multiplier: 1\n"
     ]
    },
    {
     "name": "stderr",
     "output_type": "stream",
     "text": [
      "Training Progress: 100%|██████████| 500/500 [00:13<00:00, 37.31it/s, loss=-0.000295, elapsed time=0.03, total time=13.4]\n",
      "[I 2025-05-23 14:22:43,675] Trial 3 finished with value: -0.0002945968421625088 and parameters: {'learning_rate': 0.03598660841937735, 'sigma_multiplier': 1.2274512834269369, 'initialization_multiplier': 1}. Best is trial 3 with value: -0.0002945968421625088.\n"
     ]
    },
    {
     "name": "stdout",
     "output_type": "stream",
     "text": [
      "Training has not converged after 500 steps\n",
      "Trial 3 final loss: -0.00029460\n",
      "Trial 4:\n",
      "  Learning Rate: 0.04786579361849749\n",
      "  Sigma Multiplier: 1.515730910606856\n",
      "  Initialization Multiplier: 2\n"
     ]
    },
    {
     "name": "stderr",
     "output_type": "stream",
     "text": [
      "Training Progress: 100%|██████████| 500/500 [00:12<00:00, 39.53it/s, loss=-0.000230, elapsed time=0.02, total time=12.7]\n",
      "[I 2025-05-23 14:22:56,338] Trial 4 finished with value: -0.00023042266115596717 and parameters: {'learning_rate': 0.04786579361849749, 'sigma_multiplier': 1.515730910606856, 'initialization_multiplier': 2}. Best is trial 3 with value: -0.0002945968421625088.\n"
     ]
    },
    {
     "name": "stdout",
     "output_type": "stream",
     "text": [
      "Training has not converged after 500 steps\n",
      "Trial 4 final loss: -0.00023042\n",
      "Trial 5:\n",
      "  Learning Rate: 0.002321071238261336\n",
      "  Sigma Multiplier: 0.26238792992856247\n",
      "  Initialization Multiplier: 0.001\n"
     ]
    },
    {
     "name": "stderr",
     "output_type": "stream",
     "text": [
      "Training Progress: 100%|██████████| 500/500 [00:21<00:00, 23.69it/s, loss=0.003511, elapsed time=0.04, total time=21.1]\n",
      "[I 2025-05-23 14:23:17,460] Trial 5 finished with value: 0.0035108697712164885 and parameters: {'learning_rate': 0.002321071238261336, 'sigma_multiplier': 0.26238792992856247, 'initialization_multiplier': 0.001}. Best is trial 3 with value: -0.0002945968421625088.\n"
     ]
    },
    {
     "name": "stdout",
     "output_type": "stream",
     "text": [
      "Training has not converged after 500 steps\n",
      "Trial 5 final loss: 0.00351087\n",
      "Trial 6:\n",
      "  Learning Rate: 0.00672451696152811\n",
      "  Sigma Multiplier: 1.8377032154176474\n",
      "  Initialization Multiplier: 0.001\n"
     ]
    },
    {
     "name": "stderr",
     "output_type": "stream",
     "text": [
      "Training Progress: 100%|██████████| 500/500 [00:11<00:00, 42.59it/s, loss=-0.000096, elapsed time=0.02, total time=11.8]\n",
      "[I 2025-05-23 14:23:29,215] Trial 6 finished with value: -9.636736804726902e-05 and parameters: {'learning_rate': 0.00672451696152811, 'sigma_multiplier': 1.8377032154176474, 'initialization_multiplier': 0.001}. Best is trial 3 with value: -0.0002945968421625088.\n"
     ]
    },
    {
     "name": "stdout",
     "output_type": "stream",
     "text": [
      "Training has not converged after 500 steps\n",
      "Trial 6 final loss: -0.00009637\n",
      "Trial 7:\n",
      "  Learning Rate: 0.0012306154849491958\n",
      "  Sigma Multiplier: 1.9212045073538468\n",
      "  Initialization Multiplier: 1\n"
     ]
    },
    {
     "name": "stderr",
     "output_type": "stream",
     "text": [
      "Training Progress: 100%|██████████| 500/500 [00:11<00:00, 42.92it/s, loss=-0.000103, elapsed time=0.02, total time=11.7]\n",
      "[I 2025-05-23 14:23:40,879] Trial 7 finished with value: -0.00010334265639519689 and parameters: {'learning_rate': 0.0012306154849491958, 'sigma_multiplier': 1.9212045073538468, 'initialization_multiplier': 1}. Best is trial 3 with value: -0.0002945968421625088.\n"
     ]
    },
    {
     "name": "stdout",
     "output_type": "stream",
     "text": [
      "Training has not converged after 500 steps\n",
      "Trial 7 final loss: -0.00010334\n",
      "Trial 8:\n",
      "  Learning Rate: 0.0009443017720379149\n",
      "  Sigma Multiplier: 1.3615386127578866\n",
      "  Initialization Multiplier: 0.1\n"
     ]
    },
    {
     "name": "stderr",
     "output_type": "stream",
     "text": [
      "Training Progress: 100%|██████████| 500/500 [00:12<00:00, 39.34it/s, loss=0.005272, elapsed time=0.03, total time=12.7]\n",
      "[I 2025-05-23 14:23:53,603] Trial 8 finished with value: 0.005272452019626551 and parameters: {'learning_rate': 0.0009443017720379149, 'sigma_multiplier': 1.3615386127578866, 'initialization_multiplier': 0.1}. Best is trial 3 with value: -0.0002945968421625088.\n"
     ]
    },
    {
     "name": "stdout",
     "output_type": "stream",
     "text": [
      "Training has not converged after 500 steps\n",
      "Trial 8 final loss: 0.00527245\n",
      "Trial 9:\n",
      "  Learning Rate: 0.0008999824955298059\n",
      "  Sigma Multiplier: 0.4526142835785258\n",
      "  Initialization Multiplier: 0.01\n"
     ]
    },
    {
     "name": "stderr",
     "output_type": "stream",
     "text": [
      "Training Progress: 100%|██████████| 500/500 [00:19<00:00, 25.83it/s, loss=0.039461, elapsed time=0.04, total time=19.4]\n",
      "[I 2025-05-23 14:24:12,978] Trial 9 finished with value: 0.03946081942256807 and parameters: {'learning_rate': 0.0008999824955298059, 'sigma_multiplier': 0.4526142835785258, 'initialization_multiplier': 0.01}. Best is trial 3 with value: -0.0002945968421625088.\n"
     ]
    },
    {
     "name": "stdout",
     "output_type": "stream",
     "text": [
      "Training has not converged after 500 steps\n",
      "Trial 9 final loss: 0.03946082\n",
      "Trial 10:\n",
      "  Learning Rate: 3.4149481726491665e-05\n",
      "  Sigma Multiplier: 0.8651937236924894\n",
      "  Initialization Multiplier: 1\n"
     ]
    },
    {
     "name": "stderr",
     "output_type": "stream",
     "text": [
      "Training Progress: 100%|██████████| 500/500 [00:15<00:00, 33.20it/s, loss=0.008786, elapsed time=0.03, total time=15.1]\n",
      "[I 2025-05-23 14:24:28,057] Trial 10 finished with value: 0.008786256829068381 and parameters: {'learning_rate': 3.4149481726491665e-05, 'sigma_multiplier': 0.8651937236924894, 'initialization_multiplier': 1}. Best is trial 3 with value: -0.0002945968421625088.\n"
     ]
    },
    {
     "name": "stdout",
     "output_type": "stream",
     "text": [
      "Training has not converged after 500 steps\n",
      "Trial 10 final loss: 0.00878626\n",
      "Trial 11:\n",
      "  Learning Rate: 0.07672207518983579\n",
      "  Sigma Multiplier: 1.3251107283250145\n",
      "  Initialization Multiplier: 2\n"
     ]
    },
    {
     "name": "stderr",
     "output_type": "stream",
     "text": [
      "Training Progress: 100%|██████████| 500/500 [00:13<00:00, 38.22it/s, loss=-0.000152, elapsed time=0.02, total time=13.1]\n",
      "[I 2025-05-23 14:24:41,156] Trial 11 finished with value: -0.00015195863983718424 and parameters: {'learning_rate': 0.07672207518983579, 'sigma_multiplier': 1.3251107283250145, 'initialization_multiplier': 2}. Best is trial 3 with value: -0.0002945968421625088.\n"
     ]
    },
    {
     "name": "stdout",
     "output_type": "stream",
     "text": [
      "Training has not converged after 500 steps\n",
      "Trial 11 final loss: -0.00015196\n",
      "Trial 12:\n",
      "  Learning Rate: 0.0200493639993202\n",
      "  Sigma Multiplier: 1.471466482627243\n",
      "  Initialization Multiplier: 2\n"
     ]
    },
    {
     "name": "stderr",
     "output_type": "stream",
     "text": [
      "Training Progress: 100%|██████████| 500/500 [00:12<00:00, 39.70it/s, loss=-0.000277, elapsed time=0.02, total time=12.6]\n",
      "[I 2025-05-23 14:24:53,769] Trial 12 finished with value: -0.000277431060173229 and parameters: {'learning_rate': 0.0200493639993202, 'sigma_multiplier': 1.471466482627243, 'initialization_multiplier': 2}. Best is trial 3 with value: -0.0002945968421625088.\n"
     ]
    },
    {
     "name": "stdout",
     "output_type": "stream",
     "text": [
      "Training has not converged after 500 steps\n",
      "Trial 12 final loss: -0.00027743\n",
      "Trial 13:\n",
      "  Learning Rate: 0.013544986823322754\n",
      "  Sigma Multiplier: 0.9231101325452946\n",
      "  Initialization Multiplier: 0.0001\n"
     ]
    },
    {
     "name": "stderr",
     "output_type": "stream",
     "text": [
      "Training Progress: 100%|██████████| 500/500 [00:15<00:00, 32.81it/s, loss=0.000109, elapsed time=0.03, total time=15.2] \n",
      "[I 2025-05-23 14:25:09,028] Trial 13 finished with value: 0.00010857407755731736 and parameters: {'learning_rate': 0.013544986823322754, 'sigma_multiplier': 0.9231101325452946, 'initialization_multiplier': 0.0001}. Best is trial 3 with value: -0.0002945968421625088.\n"
     ]
    },
    {
     "name": "stdout",
     "output_type": "stream",
     "text": [
      "Training has not converged after 500 steps\n",
      "Trial 13 final loss: 0.00010857\n",
      "Trial 14:\n",
      "  Learning Rate: 0.019306812360259686\n",
      "  Sigma Multiplier: 1.1197365017163077\n",
      "  Initialization Multiplier: 1\n"
     ]
    },
    {
     "name": "stderr",
     "output_type": "stream",
     "text": [
      "Training Progress: 100%|██████████| 500/500 [00:14<00:00, 35.48it/s, loss=-0.000274, elapsed time=0.03, total time=14.1]\n",
      "[I 2025-05-23 14:25:23,141] Trial 14 finished with value: -0.00027382334008356555 and parameters: {'learning_rate': 0.019306812360259686, 'sigma_multiplier': 1.1197365017163077, 'initialization_multiplier': 1}. Best is trial 3 with value: -0.0002945968421625088.\n"
     ]
    },
    {
     "name": "stdout",
     "output_type": "stream",
     "text": [
      "Training has not converged after 500 steps\n",
      "Trial 14 final loss: -0.00027382\n",
      "Trial 15:\n",
      "  Learning Rate: 0.00023296456264974028\n",
      "  Sigma Multiplier: 1.614133958509044\n",
      "  Initialization Multiplier: 2\n"
     ]
    },
    {
     "name": "stderr",
     "output_type": "stream",
     "text": [
      "Training Progress: 100%|██████████| 500/500 [00:12<00:00, 40.23it/s, loss=0.023827, elapsed time=0.02, total time=12.4]\n",
      "[I 2025-05-23 14:25:35,589] Trial 15 finished with value: 0.02382712638904683 and parameters: {'learning_rate': 0.00023296456264974028, 'sigma_multiplier': 1.614133958509044, 'initialization_multiplier': 2}. Best is trial 3 with value: -0.0002945968421625088.\n"
     ]
    },
    {
     "name": "stdout",
     "output_type": "stream",
     "text": [
      "Training has not converged after 500 steps\n",
      "Trial 15 final loss: 0.02382713\n",
      "Trial 16:\n",
      "  Learning Rate: 0.03372008821593135\n",
      "  Sigma Multiplier: 0.7355156274059894\n",
      "  Initialization Multiplier: 2\n"
     ]
    },
    {
     "name": "stderr",
     "output_type": "stream",
     "text": [
      "Training Progress: 100%|██████████| 500/500 [00:17<00:00, 28.81it/s, loss=0.000108, elapsed time=0.03, total time=17.4] \n",
      "[I 2025-05-23 14:25:52,966] Trial 16 finished with value: 0.00010842665815847597 and parameters: {'learning_rate': 0.03372008821593135, 'sigma_multiplier': 0.7355156274059894, 'initialization_multiplier': 2}. Best is trial 3 with value: -0.0002945968421625088.\n"
     ]
    },
    {
     "name": "stdout",
     "output_type": "stream",
     "text": [
      "Training has not converged after 500 steps\n",
      "Trial 16 final loss: 0.00010843\n",
      "Trial 17:\n",
      "  Learning Rate: 0.028544110208731\n",
      "  Sigma Multiplier: 1.108645091716603\n",
      "  Initialization Multiplier: 0.0001\n"
     ]
    },
    {
     "name": "stderr",
     "output_type": "stream",
     "text": [
      "Training Progress: 100%|██████████| 500/500 [00:14<00:00, 35.16it/s, loss=-0.000030, elapsed time=0.03, total time=14.2]\n",
      "[I 2025-05-23 14:26:07,204] Trial 17 finished with value: -2.9764147706795242e-05 and parameters: {'learning_rate': 0.028544110208731, 'sigma_multiplier': 1.108645091716603, 'initialization_multiplier': 0.0001}. Best is trial 3 with value: -0.0002945968421625088.\n"
     ]
    },
    {
     "name": "stdout",
     "output_type": "stream",
     "text": [
      "Training has not converged after 500 steps\n",
      "Trial 17 final loss: -0.00002976\n",
      "Trial 18:\n",
      "  Learning Rate: 0.008888034241189726\n",
      "  Sigma Multiplier: 1.668774852443971\n",
      "  Initialization Multiplier: 1\n"
     ]
    },
    {
     "name": "stderr",
     "output_type": "stream",
     "text": [
      "Training Progress: 100%|██████████| 500/500 [00:12<00:00, 40.47it/s, loss=-0.000174, elapsed time=0.02, total time=12.4]\n",
      "[I 2025-05-23 14:26:19,575] Trial 18 finished with value: -0.00017371421511560764 and parameters: {'learning_rate': 0.008888034241189726, 'sigma_multiplier': 1.668774852443971, 'initialization_multiplier': 1}. Best is trial 3 with value: -0.0002945968421625088.\n"
     ]
    },
    {
     "name": "stdout",
     "output_type": "stream",
     "text": [
      "Training has not converged after 500 steps\n",
      "Trial 18 final loss: -0.00017371\n",
      "Trial 19:\n",
      "  Learning Rate: 0.0002980229019016885\n",
      "  Sigma Multiplier: 1.3111611344201783\n",
      "  Initialization Multiplier: 2\n"
     ]
    },
    {
     "name": "stderr",
     "output_type": "stream",
     "text": [
      "Training Progress: 100%|██████████| 500/500 [00:13<00:00, 37.49it/s, loss=0.027127, elapsed time=0.03, total time=13.3]\n",
      "[I 2025-05-23 14:26:32,930] Trial 19 finished with value: 0.027126700607750288 and parameters: {'learning_rate': 0.0002980229019016885, 'sigma_multiplier': 1.3111611344201783, 'initialization_multiplier': 2}. Best is trial 3 with value: -0.0002945968421625088.\n"
     ]
    },
    {
     "name": "stdout",
     "output_type": "stream",
     "text": [
      "Training has not converged after 500 steps\n",
      "Trial 19 final loss: 0.02712670\n",
      "Trial 20:\n",
      "  Learning Rate: 0.006415770348778654\n",
      "  Sigma Multiplier: 0.7010868749026258\n",
      "  Initialization Multiplier: 1\n"
     ]
    },
    {
     "name": "stderr",
     "output_type": "stream",
     "text": [
      "Training Progress: 100%|██████████| 500/500 [00:17<00:00, 28.71it/s, loss=0.000141, elapsed time=0.03, total time=17.4] \n",
      "[I 2025-05-23 14:26:50,364] Trial 20 finished with value: 0.00014131375569474816 and parameters: {'learning_rate': 0.006415770348778654, 'sigma_multiplier': 0.7010868749026258, 'initialization_multiplier': 1}. Best is trial 3 with value: -0.0002945968421625088.\n"
     ]
    },
    {
     "name": "stdout",
     "output_type": "stream",
     "text": [
      "Training has not converged after 500 steps\n",
      "Trial 20 final loss: 0.00014131\n",
      "Trial 21:\n",
      "  Learning Rate: 0.019606160993020753\n",
      "  Sigma Multiplier: 1.120520472436566\n",
      "  Initialization Multiplier: 1\n"
     ]
    },
    {
     "name": "stderr",
     "output_type": "stream",
     "text": [
      "Training Progress: 100%|██████████| 500/500 [00:14<00:00, 35.68it/s, loss=-0.000047, elapsed time=0.03, total time=14]  \n",
      "[I 2025-05-23 14:27:04,396] Trial 21 finished with value: -4.673985892185556e-05 and parameters: {'learning_rate': 0.019606160993020753, 'sigma_multiplier': 1.120520472436566, 'initialization_multiplier': 1}. Best is trial 3 with value: -0.0002945968421625088.\n"
     ]
    },
    {
     "name": "stdout",
     "output_type": "stream",
     "text": [
      "Training has not converged after 500 steps\n",
      "Trial 21 final loss: -0.00004674\n",
      "Trial 22:\n",
      "  Learning Rate: 0.0196837026629027\n",
      "  Sigma Multiplier: 1.1965115871525562\n",
      "  Initialization Multiplier: 1\n"
     ]
    },
    {
     "name": "stderr",
     "output_type": "stream",
     "text": [
      "Training Progress: 100%|██████████| 500/500 [00:13<00:00, 36.58it/s, loss=-0.000158, elapsed time=0.03, total time=13.7]\n",
      "[I 2025-05-23 14:27:18,088] Trial 22 finished with value: -0.0001581120408679282 and parameters: {'learning_rate': 0.0196837026629027, 'sigma_multiplier': 1.1965115871525562, 'initialization_multiplier': 1}. Best is trial 3 with value: -0.0002945968421625088.\n"
     ]
    },
    {
     "name": "stdout",
     "output_type": "stream",
     "text": [
      "Training has not converged after 500 steps\n",
      "Trial 22 final loss: -0.00015811\n",
      "Trial 23:\n",
      "  Learning Rate: 0.043114141140964415\n",
      "  Sigma Multiplier: 1.5010568393776165\n",
      "  Initialization Multiplier: 1\n"
     ]
    },
    {
     "name": "stderr",
     "output_type": "stream",
     "text": [
      "Training Progress: 100%|██████████| 500/500 [00:12<00:00, 39.55it/s, loss=-0.000216, elapsed time=0.02, total time=12.7]\n",
      "[I 2025-05-23 14:27:30,747] Trial 23 finished with value: -0.00021601465227323997 and parameters: {'learning_rate': 0.043114141140964415, 'sigma_multiplier': 1.5010568393776165, 'initialization_multiplier': 1}. Best is trial 3 with value: -0.0002945968421625088.\n"
     ]
    },
    {
     "name": "stdout",
     "output_type": "stream",
     "text": [
      "Training has not converged after 500 steps\n",
      "Trial 23 final loss: -0.00021601\n",
      "Trial 24:\n",
      "  Learning Rate: 0.012794809953647018\n",
      "  Sigma Multiplier: 0.9358811434892141\n",
      "  Initialization Multiplier: 1\n"
     ]
    },
    {
     "name": "stderr",
     "output_type": "stream",
     "text": [
      "Training Progress: 100%|██████████| 500/500 [00:15<00:00, 32.87it/s, loss=-0.000334, elapsed time=0.03, total time=15.2]\n",
      "[I 2025-05-23 14:27:45,977] Trial 24 finished with value: -0.00033393625067007265 and parameters: {'learning_rate': 0.012794809953647018, 'sigma_multiplier': 0.9358811434892141, 'initialization_multiplier': 1}. Best is trial 24 with value: -0.00033393625067007265.\n"
     ]
    },
    {
     "name": "stdout",
     "output_type": "stream",
     "text": [
      "Training has not converged after 500 steps\n",
      "Trial 24 final loss: -0.00033394\n",
      "Trial 25:\n",
      "  Learning Rate: 0.011231483540856221\n",
      "  Sigma Multiplier: 0.9383577756891114\n",
      "  Initialization Multiplier: 0.0001\n"
     ]
    },
    {
     "name": "stderr",
     "output_type": "stream",
     "text": [
      "Training Progress: 100%|██████████| 500/500 [00:15<00:00, 31.48it/s, loss=0.000250, elapsed time=0.03, total time=15.9] \n",
      "[I 2025-05-23 14:28:01,877] Trial 25 finished with value: 0.00024985786647849413 and parameters: {'learning_rate': 0.011231483540856221, 'sigma_multiplier': 0.9383577756891114, 'initialization_multiplier': 0.0001}. Best is trial 24 with value: -0.00033393625067007265.\n"
     ]
    },
    {
     "name": "stdout",
     "output_type": "stream",
     "text": [
      "Training has not converged after 500 steps\n",
      "Trial 25 final loss: 0.00024986\n",
      "Trial 26:\n",
      "  Learning Rate: 0.004620804851585193\n",
      "  Sigma Multiplier: 0.5030655478158174\n",
      "  Initialization Multiplier: 0.1\n"
     ]
    },
    {
     "name": "stderr",
     "output_type": "stream",
     "text": [
      "Training Progress: 100%|██████████| 500/500 [00:21<00:00, 23.40it/s, loss=0.002222, elapsed time=0.04, total time=21.4]\n",
      "[I 2025-05-23 14:28:23,265] Trial 26 finished with value: 0.0022217606052288793 and parameters: {'learning_rate': 0.004620804851585193, 'sigma_multiplier': 0.5030655478158174, 'initialization_multiplier': 0.1}. Best is trial 24 with value: -0.00033393625067007265.\n"
     ]
    },
    {
     "name": "stdout",
     "output_type": "stream",
     "text": [
      "Training has not converged after 500 steps\n",
      "Trial 26 final loss: 0.00222176\n",
      "Trial 27:\n",
      "  Learning Rate: 0.056986634226058396\n",
      "  Sigma Multiplier: 1.7646731848354578\n",
      "  Initialization Multiplier: 0.001\n"
     ]
    },
    {
     "name": "stderr",
     "output_type": "stream",
     "text": [
      "Training Progress: 100%|██████████| 500/500 [00:12<00:00, 39.01it/s, loss=-0.000140, elapsed time=0.02, total time=12.8]\n",
      "[I 2025-05-23 14:28:36,099] Trial 27 finished with value: -0.0001397660811929444 and parameters: {'learning_rate': 0.056986634226058396, 'sigma_multiplier': 1.7646731848354578, 'initialization_multiplier': 0.001}. Best is trial 24 with value: -0.00033393625067007265.\n"
     ]
    },
    {
     "name": "stdout",
     "output_type": "stream",
     "text": [
      "Training has not converged after 500 steps\n",
      "Trial 27 final loss: -0.00013977\n",
      "Trial 28:\n",
      "  Learning Rate: 0.026560035040551395\n",
      "  Sigma Multiplier: 1.3860371836578935\n",
      "  Initialization Multiplier: 2\n"
     ]
    },
    {
     "name": "stderr",
     "output_type": "stream",
     "text": [
      "Training Progress: 100%|██████████| 500/500 [00:13<00:00, 36.51it/s, loss=-0.000290, elapsed time=0.03, total time=13.7]\n",
      "[I 2025-05-23 14:28:49,810] Trial 28 finished with value: -0.0002902148886509547 and parameters: {'learning_rate': 0.026560035040551395, 'sigma_multiplier': 1.3860371836578935, 'initialization_multiplier': 2}. Best is trial 24 with value: -0.00033393625067007265.\n"
     ]
    },
    {
     "name": "stdout",
     "output_type": "stream",
     "text": [
      "Training has not converged after 500 steps\n",
      "Trial 28 final loss: -0.00029021\n",
      "Trial 29:\n",
      "  Learning Rate: 0.002633038280291809\n",
      "  Sigma Multiplier: 1.2520422095250683\n",
      "  Initialization Multiplier: 0.01\n"
     ]
    },
    {
     "name": "stderr",
     "output_type": "stream",
     "text": [
      "Training Progress: 100%|██████████| 500/500 [00:14<00:00, 34.97it/s, loss=0.000018, elapsed time=0.03, total time=14.3] \n",
      "[I 2025-05-23 14:29:04,128] Trial 29 finished with value: 1.816893024964844e-05 and parameters: {'learning_rate': 0.002633038280291809, 'sigma_multiplier': 1.2520422095250683, 'initialization_multiplier': 0.01}. Best is trial 24 with value: -0.00033393625067007265.\n"
     ]
    },
    {
     "name": "stdout",
     "output_type": "stream",
     "text": [
      "Training has not converged after 500 steps\n",
      "Trial 29 final loss: 0.00001817\n",
      "Trial 30:\n",
      "  Learning Rate: 0.01161580333389999\n",
      "  Sigma Multiplier: 1.0037132455911433\n",
      "  Initialization Multiplier: 1\n"
     ]
    },
    {
     "name": "stderr",
     "output_type": "stream",
     "text": [
      "Training Progress: 100%|██████████| 500/500 [00:15<00:00, 32.10it/s, loss=-0.000182, elapsed time=0.03, total time=15.6]\n",
      "[I 2025-05-23 14:29:19,724] Trial 30 finished with value: -0.000181954839137912 and parameters: {'learning_rate': 0.01161580333389999, 'sigma_multiplier': 1.0037132455911433, 'initialization_multiplier': 1}. Best is trial 24 with value: -0.00033393625067007265.\n"
     ]
    },
    {
     "name": "stdout",
     "output_type": "stream",
     "text": [
      "Training has not converged after 500 steps\n",
      "Trial 30 final loss: -0.00018195\n",
      "Trial 31:\n",
      "  Learning Rate: 0.023366705653540574\n",
      "  Sigma Multiplier: 1.4718571392357698\n",
      "  Initialization Multiplier: 2\n"
     ]
    },
    {
     "name": "stderr",
     "output_type": "stream",
     "text": [
      "Training Progress: 100%|██████████| 500/500 [00:13<00:00, 36.85it/s, loss=-0.000238, elapsed time=0.03, total time=13.6]\n",
      "[I 2025-05-23 14:29:33,314] Trial 31 finished with value: -0.00023832729062165623 and parameters: {'learning_rate': 0.023366705653540574, 'sigma_multiplier': 1.4718571392357698, 'initialization_multiplier': 2}. Best is trial 24 with value: -0.00033393625067007265.\n"
     ]
    },
    {
     "name": "stdout",
     "output_type": "stream",
     "text": [
      "Training has not converged after 500 steps\n",
      "Trial 31 final loss: -0.00023833\n",
      "Trial 32:\n",
      "  Learning Rate: 0.08632935673231715\n",
      "  Sigma Multiplier: 1.4260191015296673\n",
      "  Initialization Multiplier: 2\n"
     ]
    },
    {
     "name": "stderr",
     "output_type": "stream",
     "text": [
      "Training Progress: 100%|██████████| 500/500 [00:13<00:00, 35.79it/s, loss=-0.000134, elapsed time=0.03, total time=14]  \n",
      "[I 2025-05-23 14:29:47,305] Trial 32 finished with value: -0.00013374384753044009 and parameters: {'learning_rate': 0.08632935673231715, 'sigma_multiplier': 1.4260191015296673, 'initialization_multiplier': 2}. Best is trial 24 with value: -0.00033393625067007265.\n"
     ]
    },
    {
     "name": "stdout",
     "output_type": "stream",
     "text": [
      "Training has not converged after 500 steps\n",
      "Trial 32 final loss: -0.00013374\n",
      "Trial 33:\n",
      "  Learning Rate: 0.04334602683506269\n",
      "  Sigma Multiplier: 1.5936403311529297\n",
      "  Initialization Multiplier: 2\n"
     ]
    },
    {
     "name": "stderr",
     "output_type": "stream",
     "text": [
      "Training Progress: 100%|██████████| 500/500 [00:13<00:00, 37.11it/s, loss=-0.000210, elapsed time=0.02, total time=13.5]\n",
      "[I 2025-05-23 14:30:00,796] Trial 33 finished with value: -0.00021037134091644766 and parameters: {'learning_rate': 0.04334602683506269, 'sigma_multiplier': 1.5936403311529297, 'initialization_multiplier': 2}. Best is trial 24 with value: -0.00033393625067007265.\n"
     ]
    },
    {
     "name": "stdout",
     "output_type": "stream",
     "text": [
      "Training has not converged after 500 steps\n",
      "Trial 33 final loss: -0.00021037\n",
      "Trial 34:\n",
      "  Learning Rate: 0.013625020338339153\n",
      "  Sigma Multiplier: 0.7217866010861366\n",
      "  Initialization Multiplier: 2\n"
     ]
    },
    {
     "name": "stderr",
     "output_type": "stream",
     "text": [
      "Training Progress: 100%|██████████| 500/500 [00:18<00:00, 26.79it/s, loss=0.000179, elapsed time=0.04, total time=18.7] \n",
      "[I 2025-05-23 14:30:19,476] Trial 34 finished with value: 0.0001790597828627782 and parameters: {'learning_rate': 0.013625020338339153, 'sigma_multiplier': 0.7217866010861366, 'initialization_multiplier': 2}. Best is trial 24 with value: -0.00033393625067007265.\n"
     ]
    },
    {
     "name": "stdout",
     "output_type": "stream",
     "text": [
      "Training has not converged after 500 steps\n",
      "Trial 34 final loss: 0.00017906\n",
      "Trial 35:\n",
      "  Learning Rate: 0.0037090313376354485\n",
      "  Sigma Multiplier: 1.2115358503023799\n",
      "  Initialization Multiplier: 0.1\n"
     ]
    },
    {
     "name": "stderr",
     "output_type": "stream",
     "text": [
      "Training Progress: 100%|██████████| 500/500 [00:14<00:00, 34.19it/s, loss=0.000171, elapsed time=0.03, total time=14.6] \n",
      "[I 2025-05-23 14:30:34,122] Trial 35 finished with value: 0.00017103199201221037 and parameters: {'learning_rate': 0.0037090313376354485, 'sigma_multiplier': 1.2115358503023799, 'initialization_multiplier': 0.1}. Best is trial 24 with value: -0.00033393625067007265.\n"
     ]
    },
    {
     "name": "stdout",
     "output_type": "stream",
     "text": [
      "Training has not converged after 500 steps\n",
      "Trial 35 final loss: 0.00017103\n",
      "Trial 36:\n",
      "  Learning Rate: 0.09863575347261991\n",
      "  Sigma Multiplier: 1.7125888905277493\n",
      "  Initialization Multiplier: 0.01\n"
     ]
    },
    {
     "name": "stderr",
     "output_type": "stream",
     "text": [
      "Training Progress: 100%|██████████| 500/500 [00:13<00:00, 38.34it/s, loss=-0.000145, elapsed time=0.02, total time=13.1]\n",
      "[I 2025-05-23 14:30:47,180] Trial 36 finished with value: -0.0001454567862570143 and parameters: {'learning_rate': 0.09863575347261991, 'sigma_multiplier': 1.7125888905277493, 'initialization_multiplier': 0.01}. Best is trial 24 with value: -0.00033393625067007265.\n"
     ]
    },
    {
     "name": "stdout",
     "output_type": "stream",
     "text": [
      "Training has not converged after 500 steps\n",
      "Trial 36 final loss: -0.00014546\n",
      "Trial 37:\n",
      "  Learning Rate: 0.05981139785367845\n",
      "  Sigma Multiplier: 1.3882543956310607\n",
      "  Initialization Multiplier: 0.001\n"
     ]
    },
    {
     "name": "stderr",
     "output_type": "stream",
     "text": [
      "Training Progress: 100%|██████████| 500/500 [00:13<00:00, 36.40it/s, loss=-0.000226, elapsed time=0.03, total time=13.8]\n",
      "[I 2025-05-23 14:31:00,935] Trial 37 finished with value: -0.00022582143721343464 and parameters: {'learning_rate': 0.05981139785367845, 'sigma_multiplier': 1.3882543956310607, 'initialization_multiplier': 0.001}. Best is trial 24 with value: -0.00033393625067007265.\n"
     ]
    },
    {
     "name": "stdout",
     "output_type": "stream",
     "text": [
      "Training has not converged after 500 steps\n",
      "Trial 37 final loss: -0.00022582\n",
      "Trial 38:\n",
      "  Learning Rate: 0.00651625788270731\n",
      "  Sigma Multiplier: 1.0237904384859253\n",
      "  Initialization Multiplier: 2\n"
     ]
    },
    {
     "name": "stderr",
     "output_type": "stream",
     "text": [
      "Training Progress: 100%|██████████| 500/500 [00:15<00:00, 32.48it/s, loss=-0.000056, elapsed time=0.03, total time=15.4]\n",
      "[I 2025-05-23 14:31:16,349] Trial 38 finished with value: -5.5787304369557105e-05 and parameters: {'learning_rate': 0.00651625788270731, 'sigma_multiplier': 1.0237904384859253, 'initialization_multiplier': 2}. Best is trial 24 with value: -0.00033393625067007265.\n"
     ]
    },
    {
     "name": "stdout",
     "output_type": "stream",
     "text": [
      "Training has not converged after 500 steps\n",
      "Trial 38 final loss: -0.00005579\n",
      "Trial 39:\n",
      "  Learning Rate: 0.03207678244660555\n",
      "  Sigma Multiplier: 0.8408929874733667\n",
      "  Initialization Multiplier: 1\n"
     ]
    },
    {
     "name": "stderr",
     "output_type": "stream",
     "text": [
      "Training Progress: 100%|██████████| 500/500 [00:16<00:00, 29.69it/s, loss=0.000131, elapsed time=0.03, total time=16.9] \n",
      "[I 2025-05-23 14:31:33,209] Trial 39 finished with value: 0.0001305846605234624 and parameters: {'learning_rate': 0.03207678244660555, 'sigma_multiplier': 0.8408929874733667, 'initialization_multiplier': 1}. Best is trial 24 with value: -0.00033393625067007265.\n"
     ]
    },
    {
     "name": "stdout",
     "output_type": "stream",
     "text": [
      "Training has not converged after 500 steps\n",
      "Trial 39 final loss: 0.00013058\n",
      "Trial 40:\n",
      "  Learning Rate: 0.0005551255836291894\n",
      "  Sigma Multiplier: 1.949177944524357\n",
      "  Initialization Multiplier: 2\n"
     ]
    },
    {
     "name": "stderr",
     "output_type": "stream",
     "text": [
      "Training Progress: 100%|██████████| 500/500 [00:12<00:00, 39.21it/s, loss=0.008513, elapsed time=0.02, total time=12.8]\n",
      "[I 2025-05-23 14:31:45,980] Trial 40 finished with value: 0.008513247315008042 and parameters: {'learning_rate': 0.0005551255836291894, 'sigma_multiplier': 1.949177944524357, 'initialization_multiplier': 2}. Best is trial 24 with value: -0.00033393625067007265.\n"
     ]
    },
    {
     "name": "stdout",
     "output_type": "stream",
     "text": [
      "Training has not converged after 500 steps\n",
      "Trial 40 final loss: 0.00851325\n",
      "Trial 41:\n",
      "  Learning Rate: 0.01814590892905525\n",
      "  Sigma Multiplier: 1.1605650071020535\n",
      "  Initialization Multiplier: 1\n"
     ]
    },
    {
     "name": "stderr",
     "output_type": "stream",
     "text": [
      "Training Progress: 100%|██████████| 500/500 [00:14<00:00, 33.90it/s, loss=-0.000256, elapsed time=0.05, total time=14.8]\n",
      "[I 2025-05-23 14:32:00,752] Trial 41 finished with value: -0.00025619876948242875 and parameters: {'learning_rate': 0.01814590892905525, 'sigma_multiplier': 1.1605650071020535, 'initialization_multiplier': 1}. Best is trial 24 with value: -0.00033393625067007265.\n"
     ]
    },
    {
     "name": "stdout",
     "output_type": "stream",
     "text": [
      "Training has not converged after 500 steps\n",
      "Trial 41 final loss: -0.00025620\n",
      "Trial 42:\n",
      "  Learning Rate: 0.027386560741231577\n",
      "  Sigma Multiplier: 1.2556517088984283\n",
      "  Initialization Multiplier: 1\n"
     ]
    },
    {
     "name": "stderr",
     "output_type": "stream",
     "text": [
      "Training Progress: 100%|██████████| 500/500 [00:14<00:00, 33.66it/s, loss=-0.000250, elapsed time=0.03, total time=14.9]\n",
      "[I 2025-05-23 14:32:15,630] Trial 42 finished with value: -0.000250096453389886 and parameters: {'learning_rate': 0.027386560741231577, 'sigma_multiplier': 1.2556517088984283, 'initialization_multiplier': 1}. Best is trial 24 with value: -0.00033393625067007265.\n"
     ]
    },
    {
     "name": "stdout",
     "output_type": "stream",
     "text": [
      "Training has not converged after 500 steps\n",
      "Trial 42 final loss: -0.00025010\n",
      "Trial 43:\n",
      "  Learning Rate: 0.009281692068348129\n",
      "  Sigma Multiplier: 1.0721327710201012\n",
      "  Initialization Multiplier: 1\n"
     ]
    },
    {
     "name": "stderr",
     "output_type": "stream",
     "text": [
      "Training Progress: 100%|██████████| 500/500 [00:14<00:00, 33.53it/s, loss=-0.000236, elapsed time=0.03, total time=14.9]\n",
      "[I 2025-05-23 14:32:30,559] Trial 43 finished with value: -0.00023580399242054817 and parameters: {'learning_rate': 0.009281692068348129, 'sigma_multiplier': 1.0721327710201012, 'initialization_multiplier': 1}. Best is trial 24 with value: -0.00033393625067007265.\n"
     ]
    },
    {
     "name": "stdout",
     "output_type": "stream",
     "text": [
      "Training has not converged after 500 steps\n",
      "Trial 43 final loss: -0.00023580\n",
      "Trial 44:\n",
      "  Learning Rate: 0.016197800023288658\n",
      "  Sigma Multiplier: 1.554634823982873\n",
      "  Initialization Multiplier: 1\n"
     ]
    },
    {
     "name": "stderr",
     "output_type": "stream",
     "text": [
      "Training Progress: 100%|██████████| 500/500 [00:12<00:00, 38.76it/s, loss=-0.000185, elapsed time=0.02, total time=12.9]\n",
      "[I 2025-05-23 14:32:43,479] Trial 44 finished with value: -0.00018523793261911314 and parameters: {'learning_rate': 0.016197800023288658, 'sigma_multiplier': 1.554634823982873, 'initialization_multiplier': 1}. Best is trial 24 with value: -0.00033393625067007265.\n"
     ]
    },
    {
     "name": "stdout",
     "output_type": "stream",
     "text": [
      "Training has not converged after 500 steps\n",
      "Trial 44 final loss: -0.00018524\n",
      "Trial 45:\n",
      "  Learning Rate: 4.004329467531325e-05\n",
      "  Sigma Multiplier: 1.3127892848824256\n",
      "  Initialization Multiplier: 0.1\n"
     ]
    },
    {
     "name": "stderr",
     "output_type": "stream",
     "text": [
      "Training Progress: 100%|██████████| 500/500 [00:11<00:00, 44.08it/s, loss=0.153863, elapsed time=0.02, total time=11.4]\n",
      "[I 2025-05-23 14:32:54,841] Trial 45 finished with value: 0.15386258988975937 and parameters: {'learning_rate': 4.004329467531325e-05, 'sigma_multiplier': 1.3127892848824256, 'initialization_multiplier': 0.1}. Best is trial 24 with value: -0.00033393625067007265.\n"
     ]
    },
    {
     "name": "stdout",
     "output_type": "stream",
     "text": [
      "Training has not converged after 500 steps\n",
      "Trial 45 final loss: 0.15386259\n",
      "Trial 46:\n",
      "  Learning Rate: 0.04495891327187866\n",
      "  Sigma Multiplier: 0.9696650475642403\n",
      "  Initialization Multiplier: 0.001\n"
     ]
    },
    {
     "name": "stderr",
     "output_type": "stream",
     "text": [
      "Training Progress: 100%|██████████| 500/500 [00:15<00:00, 32.78it/s, loss=-0.000061, elapsed time=0.03, total time=15.3]\n",
      "[I 2025-05-23 14:33:10,114] Trial 46 finished with value: -6.0743733238967296e-05 and parameters: {'learning_rate': 0.04495891327187866, 'sigma_multiplier': 0.9696650475642403, 'initialization_multiplier': 0.001}. Best is trial 24 with value: -0.00033393625067007265.\n"
     ]
    },
    {
     "name": "stdout",
     "output_type": "stream",
     "text": [
      "Training has not converged after 500 steps\n",
      "Trial 46 final loss: -0.00006074\n",
      "Trial 47:\n",
      "  Learning Rate: 0.001941590099737057\n",
      "  Sigma Multiplier: 0.7875850247809054\n",
      "  Initialization Multiplier: 0.0001\n"
     ]
    },
    {
     "name": "stderr",
     "output_type": "stream",
     "text": [
      "Training Progress: 100%|██████████| 500/500 [00:17<00:00, 28.31it/s, loss=0.001307, elapsed time=0.04, total time=17.7]\n",
      "[I 2025-05-23 14:33:27,798] Trial 47 finished with value: 0.001306660455309074 and parameters: {'learning_rate': 0.001941590099737057, 'sigma_multiplier': 0.7875850247809054, 'initialization_multiplier': 0.0001}. Best is trial 24 with value: -0.00033393625067007265.\n"
     ]
    },
    {
     "name": "stdout",
     "output_type": "stream",
     "text": [
      "Training has not converged after 500 steps\n",
      "Trial 47 final loss: 0.00130666\n",
      "Trial 48:\n",
      "  Learning Rate: 0.06508192296096943\n",
      "  Sigma Multiplier: 0.6387936931597491\n",
      "  Initialization Multiplier: 1\n"
     ]
    },
    {
     "name": "stderr",
     "output_type": "stream",
     "text": [
      "Training Progress: 100%|██████████| 500/500 [00:19<00:00, 25.22it/s, loss=0.000475, elapsed time=0.04, total time=19.8]\n",
      "[I 2025-05-23 14:33:47,643] Trial 48 finished with value: 0.0004754402611484313 and parameters: {'learning_rate': 0.06508192296096943, 'sigma_multiplier': 0.6387936931597491, 'initialization_multiplier': 1}. Best is trial 24 with value: -0.00033393625067007265.\n"
     ]
    },
    {
     "name": "stdout",
     "output_type": "stream",
     "text": [
      "Training has not converged after 500 steps\n",
      "Trial 48 final loss: 0.00047544\n",
      "Trial 49:\n",
      "  Learning Rate: 0.0040498124933071\n",
      "  Sigma Multiplier: 1.4210634761667253\n",
      "  Initialization Multiplier: 2\n"
     ]
    },
    {
     "name": "stderr",
     "output_type": "stream",
     "text": [
      "Training Progress: 100%|██████████| 500/500 [00:13<00:00, 35.84it/s, loss=0.000703, elapsed time=0.03, total time=14]  \n",
      "[I 2025-05-23 14:34:01,613] Trial 49 finished with value: 0.0007027955349101681 and parameters: {'learning_rate': 0.0040498124933071, 'sigma_multiplier': 1.4210634761667253, 'initialization_multiplier': 2}. Best is trial 24 with value: -0.00033393625067007265.\n"
     ]
    },
    {
     "name": "stdout",
     "output_type": "stream",
     "text": [
      "Training has not converged after 500 steps\n",
      "Trial 49 final loss: 0.00070280\n",
      "Trial 50:\n",
      "  Learning Rate: 0.032962379060778535\n",
      "  Sigma Multiplier: 0.8647187088819225\n",
      "  Initialization Multiplier: 0.01\n"
     ]
    },
    {
     "name": "stderr",
     "output_type": "stream",
     "text": [
      "Training Progress: 100%|██████████| 500/500 [00:19<00:00, 25.91it/s, loss=0.000268, elapsed time=0.03, total time=19.3] \n",
      "[I 2025-05-23 14:34:20,931] Trial 50 finished with value: 0.00026790346049465266 and parameters: {'learning_rate': 0.032962379060778535, 'sigma_multiplier': 0.8647187088819225, 'initialization_multiplier': 0.01}. Best is trial 24 with value: -0.00033393625067007265.\n"
     ]
    },
    {
     "name": "stdout",
     "output_type": "stream",
     "text": [
      "Training has not converged after 500 steps\n",
      "Trial 50 final loss: 0.00026790\n",
      "Trial 51:\n",
      "  Learning Rate: 0.01703442578096317\n",
      "  Sigma Multiplier: 1.1462768984773586\n",
      "  Initialization Multiplier: 1\n"
     ]
    },
    {
     "name": "stderr",
     "output_type": "stream",
     "text": [
      "Training Progress: 100%|██████████| 500/500 [00:14<00:00, 33.46it/s, loss=-0.000164, elapsed time=0.03, total time=15]  \n",
      "[I 2025-05-23 14:34:35,894] Trial 51 finished with value: -0.0001639104385526276 and parameters: {'learning_rate': 0.01703442578096317, 'sigma_multiplier': 1.1462768984773586, 'initialization_multiplier': 1}. Best is trial 24 with value: -0.00033393625067007265.\n"
     ]
    },
    {
     "name": "stdout",
     "output_type": "stream",
     "text": [
      "Training has not converged after 500 steps\n",
      "Trial 51 final loss: -0.00016391\n",
      "Trial 52:\n",
      "  Learning Rate: 0.02382908829821567\n",
      "  Sigma Multiplier: 1.1622084483098234\n",
      "  Initialization Multiplier: 1\n"
     ]
    },
    {
     "name": "stderr",
     "output_type": "stream",
     "text": [
      "Training Progress: 100%|██████████| 500/500 [00:15<00:00, 31.59it/s, loss=-0.000169, elapsed time=0.03, total time=15.8]\n",
      "[I 2025-05-23 14:34:51,740] Trial 52 finished with value: -0.00016931966110343905 and parameters: {'learning_rate': 0.02382908829821567, 'sigma_multiplier': 1.1622084483098234, 'initialization_multiplier': 1}. Best is trial 24 with value: -0.00033393625067007265.\n"
     ]
    },
    {
     "name": "stdout",
     "output_type": "stream",
     "text": [
      "Training has not converged after 500 steps\n",
      "Trial 52 final loss: -0.00016932\n",
      "Trial 53:\n",
      "  Learning Rate: 0.008067433711134575\n",
      "  Sigma Multiplier: 1.073483360485121\n",
      "  Initialization Multiplier: 1\n"
     ]
    },
    {
     "name": "stderr",
     "output_type": "stream",
     "text": [
      "Training Progress: 100%|██████████| 500/500 [00:16<00:00, 30.34it/s, loss=-0.000200, elapsed time=0.03, total time=16.5]\n",
      "[I 2025-05-23 14:35:08,239] Trial 53 finished with value: -0.00020033730741006025 and parameters: {'learning_rate': 0.008067433711134575, 'sigma_multiplier': 1.073483360485121, 'initialization_multiplier': 1}. Best is trial 24 with value: -0.00033393625067007265.\n"
     ]
    },
    {
     "name": "stdout",
     "output_type": "stream",
     "text": [
      "Training has not converged after 500 steps\n",
      "Trial 53 final loss: -0.00020034\n",
      "Trial 54:\n",
      "  Learning Rate: 0.015333080109625658\n",
      "  Sigma Multiplier: 1.2767011808005093\n",
      "  Initialization Multiplier: 1\n"
     ]
    },
    {
     "name": "stderr",
     "output_type": "stream",
     "text": [
      "Training Progress: 100%|██████████| 500/500 [00:14<00:00, 34.71it/s, loss=-0.000230, elapsed time=0.03, total time=14.4]\n",
      "[I 2025-05-23 14:35:22,664] Trial 54 finished with value: -0.00022981943779934252 and parameters: {'learning_rate': 0.015333080109625658, 'sigma_multiplier': 1.2767011808005093, 'initialization_multiplier': 1}. Best is trial 24 with value: -0.00033393625067007265.\n"
     ]
    },
    {
     "name": "stdout",
     "output_type": "stream",
     "text": [
      "Training has not converged after 500 steps\n",
      "Trial 54 final loss: -0.00022982\n",
      "Trial 55:\n",
      "  Learning Rate: 0.021623343589977074\n",
      "  Sigma Multiplier: 1.4772509748741385\n",
      "  Initialization Multiplier: 1\n"
     ]
    },
    {
     "name": "stderr",
     "output_type": "stream",
     "text": [
      "Training Progress: 100%|██████████| 500/500 [00:13<00:00, 36.43it/s, loss=-0.000213, elapsed time=0.03, total time=13.7]\n",
      "[I 2025-05-23 14:35:36,409] Trial 55 finished with value: -0.000213157181665924 and parameters: {'learning_rate': 0.021623343589977074, 'sigma_multiplier': 1.4772509748741385, 'initialization_multiplier': 1}. Best is trial 24 with value: -0.00033393625067007265.\n"
     ]
    },
    {
     "name": "stdout",
     "output_type": "stream",
     "text": [
      "Training has not converged after 500 steps\n",
      "Trial 55 final loss: -0.00021316\n",
      "Trial 56:\n",
      "  Learning Rate: 0.03569865907700116\n",
      "  Sigma Multiplier: 1.371791615247802\n",
      "  Initialization Multiplier: 1\n"
     ]
    },
    {
     "name": "stderr",
     "output_type": "stream",
     "text": [
      "Training Progress: 100%|██████████| 500/500 [00:13<00:00, 35.74it/s, loss=-0.000227, elapsed time=0.03, total time=14]  \n",
      "[I 2025-05-23 14:35:50,417] Trial 56 finished with value: -0.0002271654181601548 and parameters: {'learning_rate': 0.03569865907700116, 'sigma_multiplier': 1.371791615247802, 'initialization_multiplier': 1}. Best is trial 24 with value: -0.00033393625067007265.\n"
     ]
    },
    {
     "name": "stdout",
     "output_type": "stream",
     "text": [
      "Training has not converged after 500 steps\n",
      "Trial 56 final loss: -0.00022717\n",
      "Trial 57:\n",
      "  Learning Rate: 0.010660164783904559\n",
      "  Sigma Multiplier: 1.1929824515505245\n",
      "  Initialization Multiplier: 2\n"
     ]
    },
    {
     "name": "stderr",
     "output_type": "stream",
     "text": [
      "Training Progress: 100%|██████████| 500/500 [00:14<00:00, 34.05it/s, loss=-0.000230, elapsed time=0.03, total time=14.7]\n",
      "[I 2025-05-23 14:36:05,121] Trial 57 finished with value: -0.0002302571403410153 and parameters: {'learning_rate': 0.010660164783904559, 'sigma_multiplier': 1.1929824515505245, 'initialization_multiplier': 2}. Best is trial 24 with value: -0.00033393625067007265.\n"
     ]
    },
    {
     "name": "stdout",
     "output_type": "stream",
     "text": [
      "Training has not converged after 500 steps\n",
      "Trial 57 final loss: -0.00023026\n",
      "Trial 58:\n",
      "  Learning Rate: 0.052060861798660964\n",
      "  Sigma Multiplier: 0.12088249272301899\n",
      "  Initialization Multiplier: 0.0001\n"
     ]
    },
    {
     "name": "stderr",
     "output_type": "stream",
     "text": [
      "Training Progress: 100%|██████████| 500/500 [00:24<00:00, 20.75it/s, loss=-0.000013, elapsed time=0.05, total time=24.1]\n",
      "[I 2025-05-23 14:36:29,237] Trial 58 finished with value: -1.2577737926856354e-05 and parameters: {'learning_rate': 0.052060861798660964, 'sigma_multiplier': 0.12088249272301899, 'initialization_multiplier': 0.0001}. Best is trial 24 with value: -0.00033393625067007265.\n"
     ]
    },
    {
     "name": "stdout",
     "output_type": "stream",
     "text": [
      "Training has not converged after 500 steps\n",
      "Trial 58 final loss: -0.00001258\n",
      "Trial 59:\n",
      "  Learning Rate: 0.005128110195471876\n",
      "  Sigma Multiplier: 0.9345476120013037\n",
      "  Initialization Multiplier: 1\n"
     ]
    },
    {
     "name": "stderr",
     "output_type": "stream",
     "text": [
      "Training Progress: 100%|██████████| 500/500 [00:17<00:00, 28.75it/s, loss=-0.000196, elapsed time=0.04, total time=17.4]\n",
      "[I 2025-05-23 14:36:46,650] Trial 59 finished with value: -0.00019583528421126224 and parameters: {'learning_rate': 0.005128110195471876, 'sigma_multiplier': 0.9345476120013037, 'initialization_multiplier': 1}. Best is trial 24 with value: -0.00033393625067007265.\n"
     ]
    },
    {
     "name": "stdout",
     "output_type": "stream",
     "text": [
      "Training has not converged after 500 steps\n",
      "Trial 59 final loss: -0.00019584\n",
      "Trial 60:\n",
      "  Learning Rate: 0.07247927754468668\n",
      "  Sigma Multiplier: 1.8427287991054548\n",
      "  Initialization Multiplier: 1\n"
     ]
    },
    {
     "name": "stderr",
     "output_type": "stream",
     "text": [
      "Training Progress: 100%|██████████| 500/500 [00:13<00:00, 36.12it/s, loss=-0.000170, elapsed time=0.02, total time=13.9]\n",
      "[I 2025-05-23 14:37:00,515] Trial 60 finished with value: -0.00016959685477109719 and parameters: {'learning_rate': 0.07247927754468668, 'sigma_multiplier': 1.8427287991054548, 'initialization_multiplier': 1}. Best is trial 24 with value: -0.00033393625067007265.\n"
     ]
    },
    {
     "name": "stdout",
     "output_type": "stream",
     "text": [
      "Training has not converged after 500 steps\n",
      "Trial 60 final loss: -0.00016960\n",
      "Trial 61:\n",
      "  Learning Rate: 0.028637929219717112\n",
      "  Sigma Multiplier: 1.253627091700073\n",
      "  Initialization Multiplier: 1\n"
     ]
    },
    {
     "name": "stderr",
     "output_type": "stream",
     "text": [
      "Training Progress: 100%|██████████| 500/500 [00:14<00:00, 35.09it/s, loss=-0.000311, elapsed time=0.03, total time=14.3]\n",
      "[I 2025-05-23 14:37:14,784] Trial 61 finished with value: -0.00031062550791006744 and parameters: {'learning_rate': 0.028637929219717112, 'sigma_multiplier': 1.253627091700073, 'initialization_multiplier': 1}. Best is trial 24 with value: -0.00033393625067007265.\n"
     ]
    },
    {
     "name": "stdout",
     "output_type": "stream",
     "text": [
      "Training has not converged after 500 steps\n",
      "Trial 61 final loss: -0.00031063\n",
      "Trial 62:\n",
      "  Learning Rate: 0.019343984699731927\n",
      "  Sigma Multiplier: 1.323367529937524\n",
      "  Initialization Multiplier: 1\n"
     ]
    },
    {
     "name": "stderr",
     "output_type": "stream",
     "text": [
      "Training Progress: 100%|██████████| 500/500 [00:13<00:00, 36.33it/s, loss=-0.000159, elapsed time=0.03, total time=13.8]\n",
      "[I 2025-05-23 14:37:28,566] Trial 62 finished with value: -0.0001586647886991349 and parameters: {'learning_rate': 0.019343984699731927, 'sigma_multiplier': 1.323367529937524, 'initialization_multiplier': 1}. Best is trial 24 with value: -0.00033393625067007265.\n"
     ]
    },
    {
     "name": "stdout",
     "output_type": "stream",
     "text": [
      "Training has not converged after 500 steps\n",
      "Trial 62 final loss: -0.00015866\n",
      "Trial 63:\n",
      "  Learning Rate: 0.025718874628638397\n",
      "  Sigma Multiplier: 1.0508349190311752\n",
      "  Initialization Multiplier: 1\n"
     ]
    },
    {
     "name": "stderr",
     "output_type": "stream",
     "text": [
      "Training Progress: 100%|██████████| 500/500 [00:14<00:00, 34.66it/s, loss=-0.000272, elapsed time=0.03, total time=14.4]\n",
      "[I 2025-05-23 14:37:43,011] Trial 63 finished with value: -0.00027219922823719345 and parameters: {'learning_rate': 0.025718874628638397, 'sigma_multiplier': 1.0508349190311752, 'initialization_multiplier': 1}. Best is trial 24 with value: -0.00033393625067007265.\n"
     ]
    },
    {
     "name": "stdout",
     "output_type": "stream",
     "text": [
      "Training has not converged after 500 steps\n",
      "Trial 63 final loss: -0.00027220\n",
      "Trial 64:\n",
      "  Learning Rate: 0.0383891728036062\n",
      "  Sigma Multiplier: 1.0927269068846432\n",
      "  Initialization Multiplier: 2\n"
     ]
    },
    {
     "name": "stderr",
     "output_type": "stream",
     "text": [
      "Training Progress: 100%|██████████| 500/500 [00:14<00:00, 34.55it/s, loss=-0.000185, elapsed time=0.03, total time=14.5]\n",
      "[I 2025-05-23 14:37:57,500] Trial 64 finished with value: -0.00018453929626893135 and parameters: {'learning_rate': 0.0383891728036062, 'sigma_multiplier': 1.0927269068846432, 'initialization_multiplier': 2}. Best is trial 24 with value: -0.00033393625067007265.\n"
     ]
    },
    {
     "name": "stdout",
     "output_type": "stream",
     "text": [
      "Training has not converged after 500 steps\n",
      "Trial 64 final loss: -0.00018454\n",
      "Trial 65:\n",
      "  Learning Rate: 0.02560882484356468\n",
      "  Sigma Multiplier: 1.2367454829857218\n",
      "  Initialization Multiplier: 1\n"
     ]
    },
    {
     "name": "stderr",
     "output_type": "stream",
     "text": [
      "Training Progress: 100%|██████████| 500/500 [00:13<00:00, 36.05it/s, loss=-0.000280, elapsed time=0.03, total time=13.9]\n",
      "[I 2025-05-23 14:38:11,387] Trial 65 finished with value: -0.0002800322260425095 and parameters: {'learning_rate': 0.02560882484356468, 'sigma_multiplier': 1.2367454829857218, 'initialization_multiplier': 1}. Best is trial 24 with value: -0.00033393625067007265.\n"
     ]
    },
    {
     "name": "stdout",
     "output_type": "stream",
     "text": [
      "Training has not converged after 500 steps\n",
      "Trial 65 final loss: -0.00028003\n",
      "Trial 66:\n",
      "  Learning Rate: 0.01294582171937269\n",
      "  Sigma Multiplier: 1.5320028834075803\n",
      "  Initialization Multiplier: 0.1\n"
     ]
    },
    {
     "name": "stderr",
     "output_type": "stream",
     "text": [
      "Training Progress: 100%|██████████| 500/500 [00:12<00:00, 39.35it/s, loss=-0.000118, elapsed time=0.02, total time=12.7]\n",
      "[I 2025-05-23 14:38:24,115] Trial 66 finished with value: -0.00011774754882727068 and parameters: {'learning_rate': 0.01294582171937269, 'sigma_multiplier': 1.5320028834075803, 'initialization_multiplier': 0.1}. Best is trial 24 with value: -0.00033393625067007265.\n"
     ]
    },
    {
     "name": "stdout",
     "output_type": "stream",
     "text": [
      "Training has not converged after 500 steps\n",
      "Trial 66 final loss: -0.00011775\n",
      "Trial 67:\n",
      "  Learning Rate: 0.029513670884953953\n",
      "  Sigma Multiplier: 1.2415245430019044\n",
      "  Initialization Multiplier: 0.001\n"
     ]
    },
    {
     "name": "stderr",
     "output_type": "stream",
     "text": [
      "Training Progress: 100%|██████████| 500/500 [00:13<00:00, 35.83it/s, loss=-0.000162, elapsed time=0.03, total time=14]  \n",
      "[I 2025-05-23 14:38:38,090] Trial 67 finished with value: -0.0001617465565704264 and parameters: {'learning_rate': 0.029513670884953953, 'sigma_multiplier': 1.2415245430019044, 'initialization_multiplier': 0.001}. Best is trial 24 with value: -0.00033393625067007265.\n"
     ]
    },
    {
     "name": "stdout",
     "output_type": "stream",
     "text": [
      "Training has not converged after 500 steps\n",
      "Trial 67 final loss: -0.00016175\n",
      "Trial 68:\n",
      "  Learning Rate: 0.00771299294935961\n",
      "  Sigma Multiplier: 1.4283299314686861\n",
      "  Initialization Multiplier: 0.01\n"
     ]
    },
    {
     "name": "stderr",
     "output_type": "stream",
     "text": [
      "Training Progress: 100%|██████████| 500/500 [00:15<00:00, 32.84it/s, loss=-0.000162, elapsed time=0.03, total time=15.2]\n",
      "[I 2025-05-23 14:38:53,336] Trial 68 finished with value: -0.0001622080505869461 and parameters: {'learning_rate': 0.00771299294935961, 'sigma_multiplier': 1.4283299314686861, 'initialization_multiplier': 0.01}. Best is trial 24 with value: -0.00033393625067007265.\n"
     ]
    },
    {
     "name": "stdout",
     "output_type": "stream",
     "text": [
      "Training has not converged after 500 steps\n",
      "Trial 68 final loss: -0.00016221\n",
      "Trial 69:\n",
      "  Learning Rate: 0.05122363146439367\n",
      "  Sigma Multiplier: 1.3401094386296362\n",
      "  Initialization Multiplier: 2\n"
     ]
    },
    {
     "name": "stderr",
     "output_type": "stream",
     "text": [
      "Training Progress: 100%|██████████| 500/500 [00:15<00:00, 32.57it/s, loss=-0.000168, elapsed time=0.03, total time=15.4]\n",
      "[I 2025-05-23 14:39:08,713] Trial 69 finished with value: -0.00016818379282213273 and parameters: {'learning_rate': 0.05122363146439367, 'sigma_multiplier': 1.3401094386296362, 'initialization_multiplier': 2}. Best is trial 24 with value: -0.00033393625067007265.\n"
     ]
    },
    {
     "name": "stdout",
     "output_type": "stream",
     "text": [
      "Training has not converged after 500 steps\n",
      "Trial 69 final loss: -0.00016818\n",
      "Trial 70:\n",
      "  Learning Rate: 0.0028615173335430092\n",
      "  Sigma Multiplier: 1.6025524329180214\n",
      "  Initialization Multiplier: 1\n"
     ]
    },
    {
     "name": "stderr",
     "output_type": "stream",
     "text": [
      "Training Progress: 100%|██████████| 500/500 [00:14<00:00, 33.93it/s, loss=-0.000229, elapsed time=0.02, total time=14.8]\n",
      "[I 2025-05-23 14:39:23,473] Trial 70 finished with value: -0.00022889453725712767 and parameters: {'learning_rate': 0.0028615173335430092, 'sigma_multiplier': 1.6025524329180214, 'initialization_multiplier': 1}. Best is trial 24 with value: -0.00033393625067007265.\n"
     ]
    },
    {
     "name": "stdout",
     "output_type": "stream",
     "text": [
      "Training has not converged after 500 steps\n",
      "Trial 70 final loss: -0.00022889\n",
      "Trial 71:\n",
      "  Learning Rate: 0.023489154220795033\n",
      "  Sigma Multiplier: 1.116142224956017\n",
      "  Initialization Multiplier: 1\n"
     ]
    },
    {
     "name": "stderr",
     "output_type": "stream",
     "text": [
      "Training Progress: 100%|██████████| 500/500 [00:14<00:00, 34.57it/s, loss=-0.000224, elapsed time=0.03, total time=14.5]\n",
      "[I 2025-05-23 14:39:37,963] Trial 71 finished with value: -0.0002242998342111286 and parameters: {'learning_rate': 0.023489154220795033, 'sigma_multiplier': 1.116142224956017, 'initialization_multiplier': 1}. Best is trial 24 with value: -0.00033393625067007265.\n"
     ]
    },
    {
     "name": "stdout",
     "output_type": "stream",
     "text": [
      "Training has not converged after 500 steps\n",
      "Trial 71 final loss: -0.00022430\n",
      "Trial 72:\n",
      "  Learning Rate: 0.025567702315345647\n",
      "  Sigma Multiplier: 1.0075359422606391\n",
      "  Initialization Multiplier: 1\n"
     ]
    },
    {
     "name": "stderr",
     "output_type": "stream",
     "text": [
      "Training Progress: 100%|██████████| 500/500 [00:15<00:00, 33.11it/s, loss=-0.000153, elapsed time=0.03, total time=15.1]\n",
      "[I 2025-05-23 14:39:53,085] Trial 72 finished with value: -0.00015321539062346346 and parameters: {'learning_rate': 0.025567702315345647, 'sigma_multiplier': 1.0075359422606391, 'initialization_multiplier': 1}. Best is trial 24 with value: -0.00033393625067007265.\n"
     ]
    },
    {
     "name": "stdout",
     "output_type": "stream",
     "text": [
      "Training has not converged after 500 steps\n",
      "Trial 72 final loss: -0.00015322\n",
      "Trial 73:\n",
      "  Learning Rate: 0.012983490434037974\n",
      "  Sigma Multiplier: 1.2151623451611424\n",
      "  Initialization Multiplier: 1\n"
     ]
    },
    {
     "name": "stderr",
     "output_type": "stream",
     "text": [
      "Training Progress: 100%|██████████| 500/500 [00:16<00:00, 31.14it/s, loss=-0.000176, elapsed time=0.03, total time=16.1]\n",
      "[I 2025-05-23 14:40:09,163] Trial 73 finished with value: -0.00017551115908934754 and parameters: {'learning_rate': 0.012983490434037974, 'sigma_multiplier': 1.2151623451611424, 'initialization_multiplier': 1}. Best is trial 24 with value: -0.00033393625067007265.\n"
     ]
    },
    {
     "name": "stdout",
     "output_type": "stream",
     "text": [
      "Training has not converged after 500 steps\n",
      "Trial 73 final loss: -0.00017551\n",
      "Trial 74:\n",
      "  Learning Rate: 0.04276750077434316\n",
      "  Sigma Multiplier: 1.046238851071391\n",
      "  Initialization Multiplier: 1\n"
     ]
    },
    {
     "name": "stderr",
     "output_type": "stream",
     "text": [
      "Training Progress: 100%|██████████| 500/500 [00:18<00:00, 27.77it/s, loss=-0.000322, elapsed time=0.04, total time=18]  \n",
      "[I 2025-05-23 14:40:27,202] Trial 74 finished with value: -0.0003217649401573658 and parameters: {'learning_rate': 0.04276750077434316, 'sigma_multiplier': 1.046238851071391, 'initialization_multiplier': 1}. Best is trial 24 with value: -0.00033393625067007265.\n"
     ]
    },
    {
     "name": "stdout",
     "output_type": "stream",
     "text": [
      "Training has not converged after 500 steps\n",
      "Trial 74 final loss: -0.00032176\n",
      "Trial 75:\n",
      "  Learning Rate: 0.036361707992981045\n",
      "  Sigma Multiplier: 1.2785977347126272\n",
      "  Initialization Multiplier: 1\n"
     ]
    },
    {
     "name": "stderr",
     "output_type": "stream",
     "text": [
      "Training Progress: 100%|██████████| 500/500 [00:14<00:00, 34.77it/s, loss=-0.000298, elapsed time=0.03, total time=14.4]\n",
      "[I 2025-05-23 14:40:41,621] Trial 75 finished with value: -0.00029761886222451453 and parameters: {'learning_rate': 0.036361707992981045, 'sigma_multiplier': 1.2785977347126272, 'initialization_multiplier': 1}. Best is trial 24 with value: -0.00033393625067007265.\n"
     ]
    },
    {
     "name": "stdout",
     "output_type": "stream",
     "text": [
      "Training has not converged after 500 steps\n",
      "Trial 75 final loss: -0.00029762\n",
      "Trial 76:\n",
      "  Learning Rate: 0.07608175359888654\n",
      "  Sigma Multiplier: 1.6631381848799784\n",
      "  Initialization Multiplier: 1\n"
     ]
    },
    {
     "name": "stderr",
     "output_type": "stream",
     "text": [
      "Training Progress: 100%|██████████| 500/500 [00:12<00:00, 38.54it/s, loss=-0.000166, elapsed time=0.02, total time=13]  \n",
      "[I 2025-05-23 14:40:54,613] Trial 76 finished with value: -0.00016564373236335812 and parameters: {'learning_rate': 0.07608175359888654, 'sigma_multiplier': 1.6631381848799784, 'initialization_multiplier': 1}. Best is trial 24 with value: -0.00033393625067007265.\n"
     ]
    },
    {
     "name": "stdout",
     "output_type": "stream",
     "text": [
      "Training has not converged after 500 steps\n",
      "Trial 76 final loss: -0.00016564\n",
      "Trial 77:\n",
      "  Learning Rate: 0.04227910515838242\n",
      "  Sigma Multiplier: 1.289996246523956\n",
      "  Initialization Multiplier: 2\n"
     ]
    },
    {
     "name": "stderr",
     "output_type": "stream",
     "text": [
      "Training Progress: 100%|██████████| 500/500 [00:13<00:00, 36.84it/s, loss=-0.000281, elapsed time=0.03, total time=13.6]\n",
      "[I 2025-05-23 14:41:08,204] Trial 77 finished with value: -0.000281065204428302 and parameters: {'learning_rate': 0.04227910515838242, 'sigma_multiplier': 1.289996246523956, 'initialization_multiplier': 2}. Best is trial 24 with value: -0.00033393625067007265.\n"
     ]
    },
    {
     "name": "stdout",
     "output_type": "stream",
     "text": [
      "Training has not converged after 500 steps\n",
      "Trial 77 final loss: -0.00028107\n",
      "Trial 78:\n",
      "  Learning Rate: 0.04068465313760405\n",
      "  Sigma Multiplier: 1.2902127416224207\n",
      "  Initialization Multiplier: 2\n"
     ]
    },
    {
     "name": "stderr",
     "output_type": "stream",
     "text": [
      "Training Progress: 100%|██████████| 500/500 [00:13<00:00, 36.12it/s, loss=-0.000256, elapsed time=0.03, total time=13.9]\n",
      "[I 2025-05-23 14:41:22,066] Trial 78 finished with value: -0.00025624601342797256 and parameters: {'learning_rate': 0.04068465313760405, 'sigma_multiplier': 1.2902127416224207, 'initialization_multiplier': 2}. Best is trial 24 with value: -0.00033393625067007265.\n"
     ]
    },
    {
     "name": "stdout",
     "output_type": "stream",
     "text": [
      "Training has not converged after 500 steps\n",
      "Trial 78 final loss: -0.00025625\n",
      "Trial 79:\n",
      "  Learning Rate: 0.059994600825503605\n",
      "  Sigma Multiplier: 1.3761192471746917\n",
      "  Initialization Multiplier: 0.0001\n"
     ]
    },
    {
     "name": "stderr",
     "output_type": "stream",
     "text": [
      "Training Progress: 100%|██████████| 500/500 [00:14<00:00, 35.44it/s, loss=-0.000237, elapsed time=0.03, total time=14.1]\n",
      "[I 2025-05-23 14:41:36,194] Trial 79 finished with value: -0.00023657476229509445 and parameters: {'learning_rate': 0.059994600825503605, 'sigma_multiplier': 1.3761192471746917, 'initialization_multiplier': 0.0001}. Best is trial 24 with value: -0.00033393625067007265.\n"
     ]
    },
    {
     "name": "stdout",
     "output_type": "stream",
     "text": [
      "Training has not converged after 500 steps\n",
      "Trial 79 final loss: -0.00023657\n",
      "Trial 80:\n",
      "  Learning Rate: 0.09876386844001364\n",
      "  Sigma Multiplier: 1.1726914654020222\n",
      "  Initialization Multiplier: 1\n"
     ]
    },
    {
     "name": "stderr",
     "output_type": "stream",
     "text": [
      "Training Progress: 100%|██████████| 500/500 [00:14<00:00, 35.14it/s, loss=-0.000170, elapsed time=0.03, total time=14.2]\n",
      "[I 2025-05-23 14:41:50,444] Trial 80 finished with value: -0.0001703224055708229 and parameters: {'learning_rate': 0.09876386844001364, 'sigma_multiplier': 1.1726914654020222, 'initialization_multiplier': 1}. Best is trial 24 with value: -0.00033393625067007265.\n"
     ]
    },
    {
     "name": "stdout",
     "output_type": "stream",
     "text": [
      "Training has not converged after 500 steps\n",
      "Trial 80 final loss: -0.00017032\n",
      "Trial 81:\n",
      "  Learning Rate: 0.03439749645242657\n",
      "  Sigma Multiplier: 1.4342168244893838\n",
      "  Initialization Multiplier: 2\n"
     ]
    },
    {
     "name": "stderr",
     "output_type": "stream",
     "text": [
      "Training Progress: 100%|██████████| 500/500 [00:13<00:00, 37.45it/s, loss=-0.000240, elapsed time=0.03, total time=13.4]\n",
      "[I 2025-05-23 14:42:03,814] Trial 81 finished with value: -0.00024029123765036725 and parameters: {'learning_rate': 0.03439749645242657, 'sigma_multiplier': 1.4342168244893838, 'initialization_multiplier': 2}. Best is trial 24 with value: -0.00033393625067007265.\n"
     ]
    },
    {
     "name": "stdout",
     "output_type": "stream",
     "text": [
      "Training has not converged after 500 steps\n",
      "Trial 81 final loss: -0.00024029\n",
      "Trial 82:\n",
      "  Learning Rate: 0.04597432781917054\n",
      "  Sigma Multiplier: 1.2641281666623745\n",
      "  Initialization Multiplier: 2\n"
     ]
    },
    {
     "name": "stderr",
     "output_type": "stream",
     "text": [
      "Training Progress: 100%|██████████| 500/500 [00:13<00:00, 36.20it/s, loss=-0.000231, elapsed time=0.03, total time=13.8]\n",
      "[I 2025-05-23 14:42:17,651] Trial 82 finished with value: -0.00023105954055681305 and parameters: {'learning_rate': 0.04597432781917054, 'sigma_multiplier': 1.2641281666623745, 'initialization_multiplier': 2}. Best is trial 24 with value: -0.00033393625067007265.\n"
     ]
    },
    {
     "name": "stdout",
     "output_type": "stream",
     "text": [
      "Training has not converged after 500 steps\n",
      "Trial 82 final loss: -0.00023106\n",
      "Trial 83:\n",
      "  Learning Rate: 0.028665393374694207\n",
      "  Sigma Multiplier: 1.495389720904745\n",
      "  Initialization Multiplier: 2\n"
     ]
    },
    {
     "name": "stderr",
     "output_type": "stream",
     "text": [
      "Training Progress: 100%|██████████| 500/500 [00:13<00:00, 37.31it/s, loss=-0.000094, elapsed time=0.03, total time=13.4]\n",
      "[I 2025-05-23 14:42:31,072] Trial 83 finished with value: -9.435662156850156e-05 and parameters: {'learning_rate': 0.028665393374694207, 'sigma_multiplier': 1.495389720904745, 'initialization_multiplier': 2}. Best is trial 24 with value: -0.00033393625067007265.\n"
     ]
    },
    {
     "name": "stdout",
     "output_type": "stream",
     "text": [
      "Training has not converged after 500 steps\n",
      "Trial 83 final loss: -0.00009436\n",
      "Trial 84:\n",
      "  Learning Rate: 0.040347614325850864\n",
      "  Sigma Multiplier: 1.2192094481248084\n",
      "  Initialization Multiplier: 2\n"
     ]
    },
    {
     "name": "stderr",
     "output_type": "stream",
     "text": [
      "Training Progress: 100%|██████████| 500/500 [00:13<00:00, 35.83it/s, loss=-0.000157, elapsed time=0.03, total time=14]  \n",
      "[I 2025-05-23 14:42:45,047] Trial 84 finished with value: -0.00015655693986551663 and parameters: {'learning_rate': 0.040347614325850864, 'sigma_multiplier': 1.2192094481248084, 'initialization_multiplier': 2}. Best is trial 24 with value: -0.00033393625067007265.\n"
     ]
    },
    {
     "name": "stdout",
     "output_type": "stream",
     "text": [
      "Training has not converged after 500 steps\n",
      "Trial 84 final loss: -0.00015656\n",
      "Trial 85:\n",
      "  Learning Rate: 0.052642534614918024\n",
      "  Sigma Multiplier: 0.9083460584714648\n",
      "  Initialization Multiplier: 1\n"
     ]
    },
    {
     "name": "stderr",
     "output_type": "stream",
     "text": [
      "Training Progress: 100%|██████████| 500/500 [00:15<00:00, 31.74it/s, loss=0.000004, elapsed time=0.03, total time=15.8] \n",
      "[I 2025-05-23 14:43:00,819] Trial 85 finished with value: 4.271041967867265e-06 and parameters: {'learning_rate': 0.052642534614918024, 'sigma_multiplier': 0.9083460584714648, 'initialization_multiplier': 1}. Best is trial 24 with value: -0.00033393625067007265.\n"
     ]
    },
    {
     "name": "stdout",
     "output_type": "stream",
     "text": [
      "Training has not converged after 500 steps\n",
      "Trial 85 final loss: 0.00000427\n",
      "Trial 86:\n",
      "  Learning Rate: 0.0013659347693286605\n",
      "  Sigma Multiplier: 1.3452467221675886\n",
      "  Initialization Multiplier: 0.1\n"
     ]
    },
    {
     "name": "stderr",
     "output_type": "stream",
     "text": [
      "Training Progress: 100%|██████████| 500/500 [00:13<00:00, 37.68it/s, loss=0.000852, elapsed time=0.03, total time=13.3]\n",
      "[I 2025-05-23 14:43:14,107] Trial 86 finished with value: 0.0008515971894329326 and parameters: {'learning_rate': 0.0013659347693286605, 'sigma_multiplier': 1.3452467221675886, 'initialization_multiplier': 0.1}. Best is trial 24 with value: -0.00033393625067007265.\n"
     ]
    },
    {
     "name": "stdout",
     "output_type": "stream",
     "text": [
      "Training has not converged after 500 steps\n",
      "Trial 86 final loss: 0.00085160\n",
      "Trial 87:\n",
      "  Learning Rate: 0.01575191648759049\n",
      "  Sigma Multiplier: 0.9989873939423126\n",
      "  Initialization Multiplier: 0.001\n"
     ]
    },
    {
     "name": "stderr",
     "output_type": "stream",
     "text": [
      "Training Progress: 100%|██████████| 500/500 [00:14<00:00, 33.61it/s, loss=0.000139, elapsed time=0.03, total time=14.9] \n",
      "[I 2025-05-23 14:43:29,004] Trial 87 finished with value: 0.0001388462086290293 and parameters: {'learning_rate': 0.01575191648759049, 'sigma_multiplier': 0.9989873939423126, 'initialization_multiplier': 0.001}. Best is trial 24 with value: -0.00033393625067007265.\n"
     ]
    },
    {
     "name": "stdout",
     "output_type": "stream",
     "text": [
      "Training has not converged after 500 steps\n",
      "Trial 87 final loss: 0.00013885\n",
      "Trial 88:\n",
      "  Learning Rate: 0.07130308875279096\n",
      "  Sigma Multiplier: 1.1306622372492574\n",
      "  Initialization Multiplier: 2\n"
     ]
    },
    {
     "name": "stderr",
     "output_type": "stream",
     "text": [
      "Training Progress: 100%|██████████| 500/500 [00:15<00:00, 32.27it/s, loss=-0.000294, elapsed time=0.03, total time=15.5]\n",
      "[I 2025-05-23 14:43:44,517] Trial 88 finished with value: -0.00029370546518621486 and parameters: {'learning_rate': 0.07130308875279096, 'sigma_multiplier': 1.1306622372492574, 'initialization_multiplier': 2}. Best is trial 24 with value: -0.00033393625067007265.\n"
     ]
    },
    {
     "name": "stdout",
     "output_type": "stream",
     "text": [
      "Training has not converged after 500 steps\n",
      "Trial 88 final loss: -0.00029371\n",
      "Trial 89:\n",
      "  Learning Rate: 0.06972532399292455\n",
      "  Sigma Multiplier: 1.1132575488318859\n",
      "  Initialization Multiplier: 0.01\n"
     ]
    },
    {
     "name": "stderr",
     "output_type": "stream",
     "text": [
      "Training Progress: 100%|██████████| 500/500 [00:17<00:00, 29.04it/s, loss=-0.000200, elapsed time=0.03, total time=17.2]\n",
      "[I 2025-05-23 14:44:01,757] Trial 89 finished with value: -0.0001998876177591893 and parameters: {'learning_rate': 0.06972532399292455, 'sigma_multiplier': 1.1132575488318859, 'initialization_multiplier': 0.01}. Best is trial 24 with value: -0.00033393625067007265.\n"
     ]
    },
    {
     "name": "stdout",
     "output_type": "stream",
     "text": [
      "Training has not converged after 500 steps\n",
      "Trial 89 final loss: -0.00019989\n",
      "Trial 90:\n",
      "  Learning Rate: 0.08426016075621631\n",
      "  Sigma Multiplier: 1.2946127615051657\n",
      "  Initialization Multiplier: 1\n"
     ]
    },
    {
     "name": "stderr",
     "output_type": "stream",
     "text": [
      "Training Progress: 100%|██████████| 500/500 [00:15<00:00, 32.27it/s, loss=-0.000173, elapsed time=0.03, total time=15.5]\n",
      "[I 2025-05-23 14:44:17,279] Trial 90 finished with value: -0.00017281907483790844 and parameters: {'learning_rate': 0.08426016075621631, 'sigma_multiplier': 1.2946127615051657, 'initialization_multiplier': 1}. Best is trial 24 with value: -0.00033393625067007265.\n"
     ]
    },
    {
     "name": "stdout",
     "output_type": "stream",
     "text": [
      "Training has not converged after 500 steps\n",
      "Trial 90 final loss: -0.00017282\n",
      "Trial 91:\n",
      "  Learning Rate: 0.02125198289592879\n",
      "  Sigma Multiplier: 1.3847789413324991\n",
      "  Initialization Multiplier: 2\n"
     ]
    },
    {
     "name": "stderr",
     "output_type": "stream",
     "text": [
      "Training Progress: 100%|██████████| 500/500 [00:13<00:00, 36.70it/s, loss=-0.000306, elapsed time=0.03, total time=13.6]\n",
      "[I 2025-05-23 14:44:30,924] Trial 91 finished with value: -0.00030558409354038455 and parameters: {'learning_rate': 0.02125198289592879, 'sigma_multiplier': 1.3847789413324991, 'initialization_multiplier': 2}. Best is trial 24 with value: -0.00033393625067007265.\n"
     ]
    },
    {
     "name": "stdout",
     "output_type": "stream",
     "text": [
      "Training has not converged after 500 steps\n",
      "Trial 91 final loss: -0.00030558\n",
      "Trial 92:\n",
      "  Learning Rate: 0.03251881042230624\n",
      "  Sigma Multiplier: 1.1593586234627258\n",
      "  Initialization Multiplier: 2\n"
     ]
    },
    {
     "name": "stderr",
     "output_type": "stream",
     "text": [
      "Training Progress: 100%|██████████| 500/500 [00:14<00:00, 35.33it/s, loss=-0.000169, elapsed time=0.03, total time=14.2]\n",
      "[I 2025-05-23 14:44:45,096] Trial 92 finished with value: -0.00016882576369250994 and parameters: {'learning_rate': 0.03251881042230624, 'sigma_multiplier': 1.1593586234627258, 'initialization_multiplier': 2}. Best is trial 24 with value: -0.00033393625067007265.\n"
     ]
    },
    {
     "name": "stdout",
     "output_type": "stream",
     "text": [
      "Training has not converged after 500 steps\n",
      "Trial 92 final loss: -0.00016883\n",
      "Trial 93:\n",
      "  Learning Rate: 0.060903755783358084\n",
      "  Sigma Multiplier: 1.3863847541283987\n",
      "  Initialization Multiplier: 2\n"
     ]
    },
    {
     "name": "stderr",
     "output_type": "stream",
     "text": [
      "Training Progress: 100%|██████████| 500/500 [00:13<00:00, 37.73it/s, loss=-0.000167, elapsed time=0.03, total time=13.3]\n",
      "[I 2025-05-23 14:44:58,368] Trial 93 finished with value: -0.00016708316769201354 and parameters: {'learning_rate': 0.060903755783358084, 'sigma_multiplier': 1.3863847541283987, 'initialization_multiplier': 2}. Best is trial 24 with value: -0.00033393625067007265.\n"
     ]
    },
    {
     "name": "stdout",
     "output_type": "stream",
     "text": [
      "Training has not converged after 500 steps\n",
      "Trial 93 final loss: -0.00016708\n",
      "Trial 94:\n",
      "  Learning Rate: 0.00013060301747415466\n",
      "  Sigma Multiplier: 1.2204075482187298\n",
      "  Initialization Multiplier: 2\n"
     ]
    },
    {
     "name": "stderr",
     "output_type": "stream",
     "text": [
      "Training Progress: 100%|██████████| 500/500 [00:13<00:00, 35.83it/s, loss=0.058724, elapsed time=0.03, total time=14]  \n",
      "[I 2025-05-23 14:45:12,344] Trial 94 finished with value: 0.05872425500739992 and parameters: {'learning_rate': 0.00013060301747415466, 'sigma_multiplier': 1.2204075482187298, 'initialization_multiplier': 2}. Best is trial 24 with value: -0.00033393625067007265.\n"
     ]
    },
    {
     "name": "stdout",
     "output_type": "stream",
     "text": [
      "Training has not converged after 500 steps\n",
      "Trial 94 final loss: 0.05872426\n",
      "Trial 95:\n",
      "  Learning Rate: 0.043402516507368996\n",
      "  Sigma Multiplier: 1.043602888176703\n",
      "  Initialization Multiplier: 2\n"
     ]
    },
    {
     "name": "stderr",
     "output_type": "stream",
     "text": [
      "Training Progress: 100%|██████████| 500/500 [00:14<00:00, 34.10it/s, loss=-0.000185, elapsed time=0.03, total time=14.7]\n",
      "[I 2025-05-23 14:45:27,026] Trial 95 finished with value: -0.00018481352067838748 and parameters: {'learning_rate': 0.043402516507368996, 'sigma_multiplier': 1.043602888176703, 'initialization_multiplier': 2}. Best is trial 24 with value: -0.00033393625067007265.\n"
     ]
    },
    {
     "name": "stdout",
     "output_type": "stream",
     "text": [
      "Training has not converged after 500 steps\n",
      "Trial 95 final loss: -0.00018481\n",
      "Trial 96:\n",
      "  Learning Rate: 0.02234621717862802\n",
      "  Sigma Multiplier: 0.780089183541842\n",
      "  Initialization Multiplier: 1\n"
     ]
    },
    {
     "name": "stderr",
     "output_type": "stream",
     "text": [
      "Training Progress: 100%|██████████| 500/500 [00:16<00:00, 30.20it/s, loss=0.000151, elapsed time=0.03, total time=16.6] \n",
      "[I 2025-05-23 14:45:43,600] Trial 96 finished with value: 0.00015052872146658884 and parameters: {'learning_rate': 0.02234621717862802, 'sigma_multiplier': 0.780089183541842, 'initialization_multiplier': 1}. Best is trial 24 with value: -0.00033393625067007265.\n"
     ]
    },
    {
     "name": "stdout",
     "output_type": "stream",
     "text": [
      "Training has not converged after 500 steps\n",
      "Trial 96 final loss: 0.00015053\n",
      "Trial 97:\n",
      "  Learning Rate: 0.019718905797807808\n",
      "  Sigma Multiplier: 1.2551491056341657\n",
      "  Initialization Multiplier: 2\n"
     ]
    },
    {
     "name": "stderr",
     "output_type": "stream",
     "text": [
      "Training Progress: 100%|██████████| 500/500 [00:13<00:00, 36.19it/s, loss=-0.000291, elapsed time=0.03, total time=13.8]\n",
      "[I 2025-05-23 14:45:57,436] Trial 97 finished with value: -0.00029110449993381276 and parameters: {'learning_rate': 0.019718905797807808, 'sigma_multiplier': 1.2551491056341657, 'initialization_multiplier': 2}. Best is trial 24 with value: -0.00033393625067007265.\n"
     ]
    },
    {
     "name": "stdout",
     "output_type": "stream",
     "text": [
      "Training has not converged after 500 steps\n",
      "Trial 97 final loss: -0.00029110\n",
      "Trial 98:\n",
      "  Learning Rate: 0.01953051677747107\n",
      "  Sigma Multiplier: 1.3117244750963923\n",
      "  Initialization Multiplier: 2\n"
     ]
    },
    {
     "name": "stderr",
     "output_type": "stream",
     "text": [
      "Training Progress: 100%|██████████| 500/500 [00:13<00:00, 36.61it/s, loss=-0.000179, elapsed time=0.03, total time=13.7]\n",
      "[I 2025-05-23 14:46:11,115] Trial 98 finished with value: -0.0001794914552515593 and parameters: {'learning_rate': 0.01953051677747107, 'sigma_multiplier': 1.3117244750963923, 'initialization_multiplier': 2}. Best is trial 24 with value: -0.00033393625067007265.\n"
     ]
    },
    {
     "name": "stdout",
     "output_type": "stream",
     "text": [
      "Training has not converged after 500 steps\n",
      "Trial 98 final loss: -0.00017949\n",
      "Trial 99:\n",
      "  Learning Rate: 0.010127310441447736\n",
      "  Sigma Multiplier: 1.455661436653867\n",
      "  Initialization Multiplier: 2\n"
     ]
    },
    {
     "name": "stderr",
     "output_type": "stream",
     "text": [
      "Training Progress: 100%|██████████| 500/500 [00:13<00:00, 38.10it/s, loss=-0.000307, elapsed time=0.03, total time=13.1]\n",
      "[I 2025-05-23 14:46:24,258] Trial 99 finished with value: -0.00030711956069233616 and parameters: {'learning_rate': 0.010127310441447736, 'sigma_multiplier': 1.455661436653867, 'initialization_multiplier': 2}. Best is trial 24 with value: -0.00033393625067007265.\n"
     ]
    },
    {
     "name": "stdout",
     "output_type": "stream",
     "text": [
      "Training has not converged after 500 steps\n",
      "Trial 99 final loss: -0.00030712\n",
      "Best trial #24 → value: -0.000334\n",
      "  params: {'learning_rate': 0.012794809953647018, 'sigma_multiplier': 0.9358811434892141, 'initialization_multiplier': 1}\n"
     ]
    },
    {
     "data": {
      "text/plain": [
       "<optuna.study.study.Study at 0x166271040>"
      ]
     },
     "execution_count": 6,
     "metadata": {},
     "output_type": "execute_result"
    }
   ],
   "source": [
    "study = run_hpo(\n",
    "    iqp_circ = circ,\n",
    "    base_sigma = base_sigma,\n",
    "    base_params_init = base_params_init,\n",
    "    train_ds = train_ds,\n",
    "    n_trials = 100,\n",
    "    n_iters_hpo = 250,\n",
    "    n_ops = 2500,\n",
    "    n_samples = 2500,\n",
    ")"
   ]
  },
  {
   "cell_type": "code",
   "execution_count": 7,
   "metadata": {},
   "outputs": [
    {
     "ename": "NameError",
     "evalue": "name 'study' is not defined",
     "output_type": "error",
     "traceback": [
      "\u001b[31m---------------------------------------------------------------------------\u001b[39m",
      "\u001b[31mNameError\u001b[39m                                 Traceback (most recent call last)",
      "\u001b[36mCell\u001b[39m\u001b[36m \u001b[39m\u001b[32mIn[7]\u001b[39m\u001b[32m, line 1\u001b[39m\n\u001b[32m----> \u001b[39m\u001b[32m1\u001b[39m best_hyperparams = \u001b[43mstudy\u001b[49m.best_params\n\u001b[32m      2\u001b[39m best_loss_value = study.best_value\n\u001b[32m      4\u001b[39m \u001b[38;5;28mprint\u001b[39m(\u001b[33m\"\u001b[39m\u001b[38;5;130;01m\\n\u001b[39;00m\u001b[33mOptimization Finished!\u001b[39m\u001b[33m\"\u001b[39m)\n",
      "\u001b[31mNameError\u001b[39m: name 'study' is not defined"
     ]
    }
   ],
   "source": [
    "best_hyperparams = study.best_params\n",
    "best_loss_value = study.best_value\n",
    "\n",
    "print(\"\\nOptimization Finished!\")\n",
    "print(f\"Best hyperparameters found: {best_hyperparams}\")\n",
    "print(f\"Best loss value: {best_loss_value}\")"
   ]
  },
  {
   "cell_type": "code",
   "execution_count": null,
   "metadata": {},
   "outputs": [
    {
     "name": "stdout",
     "output_type": "stream",
     "text": [
      "\n",
      "Running full training with best hyperparameters...\n",
      "Training with: LR=0.023320, SigmaM=1.7404, InitM=0.053727\n"
     ]
    },
    {
     "name": "stderr",
     "output_type": "stream",
     "text": [
      "Training Progress: 100%|██████████| 2500/2500 [00:19<00:00, 129.98it/s, loss=0.000040, elapsed time=0.01, total time=19.2] "
     ]
    },
    {
     "name": "stdout",
     "output_type": "stream",
     "text": [
      "Training has not converged after 2500 steps\n",
      "\n",
      "Full training with best params completed.\n",
      "Final loss: 0.00003967\n"
     ]
    },
    {
     "name": "stderr",
     "output_type": "stream",
     "text": [
      "\n"
     ]
    }
   ],
   "source": [
    "print(\"\\nRunning full training with best hyperparameters...\")\n",
    "\n",
    "LEARNING_RATE_BEST = best_hyperparams['learning_rate']\n",
    "SIGMA_MULTIPLIER_BEST = best_hyperparams['sigma_multiplier']\n",
    "INITIALIZATION_MULTIPLIER_BEST = best_hyperparams['initialization_multiplier']\n",
    "\n",
    "# Re-initialize components with best hyperparameters\n",
    "sigma_val = median_heuristic(train_ds) * SIGMA_MULTIPLIER_BEST\n",
    "params_init_best = initialize_from_data(gates, jnp.array(train_ds)) * INITIALIZATION_MULTIPLIER_BEST\n",
    "\n",
    "loss_kwarg_best = {\n",
    "    \"params\": params_init_best,\n",
    "    \"iqp_circuit\": circ,\n",
    "    \"ground_truth\": jnp.array(train_ds),\n",
    "    \"sigma\": [sigma_val],\n",
    "    \"n_ops\": 2500, \n",
    "    \"n_samples\": 5000, \n",
    "    \"key\": base_key, \n",
    "}\n",
    "\n",
    "loss_fn_best = genq.mmd_loss_iqp\n",
    "trainer_best = iqp.Trainer(\"Adam\", loss_fn_best, stepsize=LEARNING_RATE_BEST)\n",
    "\n",
    "print(f\"Training with: LR={LEARNING_RATE_BEST:.6f}, SigmaM={SIGMA_MULTIPLIER_BEST:.4f}, InitM={INITIALIZATION_MULTIPLIER_BEST:.6f}\")\n",
    "history_best = trainer_best.train(n_iters=2500, loss_kwargs=loss_kwarg_best, turbo=1) # Original iterations\n",
    "trained_params_best = trainer_best.final_params\n",
    "final_loss_best_run = trainer_best.losses[-1]\n",
    "\n",
    "print(f\"\\nFull training with best params completed.\")\n",
    "print(f\"Final loss: {final_loss_best_run:.8f}\")"
   ]
  }
 ],
 "metadata": {
  "kernelspec": {
   "display_name": ".venv",
   "language": "python",
   "name": "python3"
  },
  "language_info": {
   "codemirror_mode": {
    "name": "ipython",
    "version": 3
   },
   "file_extension": ".py",
   "mimetype": "text/x-python",
   "name": "python",
   "nbconvert_exporter": "python",
   "pygments_lexer": "ipython3",
   "version": "3.12.6"
  }
 },
 "nbformat": 4,
 "nbformat_minor": 2
}
