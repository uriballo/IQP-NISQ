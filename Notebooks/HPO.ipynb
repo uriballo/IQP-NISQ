{
 "cells": [
  {
   "cell_type": "markdown",
   "metadata": {},
   "source": [
    "# HPO"
   ]
  },
  {
   "cell_type": "code",
   "execution_count": 10,
   "metadata": {},
   "outputs": [
    {
     "name": "stdout",
     "output_type": "stream",
     "text": [
      "/Users/uribagi/Documents/GitHub\n"
     ]
    }
   ],
   "source": [
    "%cd .."
   ]
  },
  {
   "cell_type": "code",
   "execution_count": 11,
   "metadata": {},
   "outputs": [],
   "source": [
    "import iqpopt as iqp\n",
    "from iqpopt.utils import initialize_from_data, local_gates\n",
    "import iqpopt.gen_qml as genq\n",
    "from iqpopt.gen_qml.utils import median_heuristic\n",
    "import optuna\n",
    "import pennylane as qml\n",
    "import jax\n",
    "from jax import numpy as jnp\n",
    "from utils.nisq import create_grid_connectivity_manual, efficient_connectivity_gates\n",
    "from datasets.bipartites import BipartiteGraphDataset"
   ]
  },
  {
   "cell_type": "code",
   "execution_count": 12,
   "metadata": {},
   "outputs": [
    {
     "name": "stdout",
     "output_type": "stream",
     "text": [
      "\n",
      "Bipartite Dataset (k=10, p=0.2, connected=True):\n",
      "Target samples: 2048, Generated samples: 2048\n",
      "Bipartite: 2048, Non-Bipartite: 0\n",
      "Target Ratio (Bipartite): 1.000, Actual Ratio: 1.000\n"
     ]
    }
   ],
   "source": [
    "nodes = 10\n",
    "grid_conn = create_grid_connectivity_manual()\n",
    "num_qubits = nodes * (nodes - 1) // 2\n",
    "gates = efficient_connectivity_gates(grid_conn, num_qubits, 1) \n",
    "circ = iqp.IqpSimulator(num_qubits, gates, device='lightning.qubit')\n",
    "\n",
    "train_dataset = BipartiteGraphDataset(num_samples=2048, # Full samples for objective\n",
    "                                num_vertices=nodes,\n",
    "                                ratio_bipartite=1.0,\n",
    "                                edge_prob=0.2)\n",
    "train_ds, _ = train_dataset.get_all_data() \n",
    "train_ds = jnp.array(train_ds)\n",
    "base_key = jax.random.PRNGKey(42)"
   ]
  },
  {
   "cell_type": "code",
   "execution_count": 4,
   "metadata": {},
   "outputs": [],
   "source": [
    "base_sigma = median_heuristic(train_ds)\n",
    "base_params_init = initialize_from_data(gates, train_ds)"
   ]
  },
  {
   "cell_type": "code",
   "execution_count": 5,
   "metadata": {},
   "outputs": [],
   "source": [
    "def objective(trial: optuna.Trial) -> float:\n",
    "    learning_rate = trial.suggest_float(\"learning_rate\", 3e-5, 0.1, log=True)\n",
    "    sigma_multiplier = trial.suggest_float(\"sigma_multiplier\", 0.1, 2.0)\n",
    "    initialization_multiplier = trial.suggest_float(\"initialization_multiplier\", 1e-3, 1.0, log=True)\n",
    "\n",
    "    trial_key = jax.random.PRNGKey(42 + trial.number)\n",
    "\n",
    "    sigma = base_sigma * sigma_multiplier\n",
    "    params_init = base_params_init * initialization_multiplier\n",
    "\n",
    "    loss_kwarg = {\n",
    "        \"params\": params_init,\n",
    "        \"iqp_circuit\": circ, \n",
    "        \"ground_truth\": train_ds,\n",
    "        \"sigma\": [sigma],\n",
    "        \"n_ops\": 1000,   \n",
    "        \"n_samples\": 1000, \n",
    "        \"key\": trial_key,  \n",
    "    }\n",
    "\n",
    "    loss_function_to_use = genq.mmd_loss_iqp\n",
    "    trainer = iqp.Trainer(\"Adam\", loss_function_to_use, stepsize=learning_rate)\n",
    "\n",
    "    n_iters_hpo = 500 \n",
    "\n",
    "    print(f\"\\nTrial {trial.number}: LR={learning_rate:.6f}, SigmaM={sigma_multiplier:.4f}, InitM={initialization_multiplier:.6f}\")\n",
    "\n",
    "    try:\n",
    "        trainer.train(n_iters=n_iters_hpo, loss_kwargs=loss_kwarg, turbo=1)\n",
    "        final_loss = trainer.losses[-1]\n",
    "\n",
    "        # Handle NaN or Inf loss values\n",
    "        if jnp.isnan(final_loss) or jnp.isinf(final_loss) or final_loss > 1e10: # Added high loss check\n",
    "            print(f\"Trial {trial.number} resulted in unstable loss: {final_loss}\")\n",
    "            return float('inf') # Optuna will treat this as a bad trial\n",
    "\n",
    "        print(f\"Trial {trial.number} final loss: {final_loss:.8f}\")\n",
    "        return float(final_loss)\n",
    "\n",
    "    except Exception as e:\n",
    "        print(f\"Trial {trial.number} failed with exception: {e}\")\n",
    "        return float('inf') # Indicate failure"
   ]
  },
  {
   "cell_type": "code",
   "execution_count": 6,
   "metadata": {},
   "outputs": [
    {
     "name": "stderr",
     "output_type": "stream",
     "text": [
      "[I 2025-05-23 09:00:56,379] A new study created in memory with name: no-name-a232a6e5-11f8-419b-a82e-383b9f124698\n"
     ]
    },
    {
     "name": "stdout",
     "output_type": "stream",
     "text": [
      "\n",
      "Trial 0: LR=0.000174, SigmaM=1.6539, InitM=0.000977\n"
     ]
    },
    {
     "name": "stderr",
     "output_type": "stream",
     "text": [
      "Training Progress: 100%|██████████| 500/500 [00:08<00:00, 60.14it/s, loss=0.085403, elapsed time=0.01, total time=9.01]\n",
      "[I 2025-05-23 09:01:05,476] Trial 0 finished with value: 0.0854031963231161 and parameters: {'learning_rate': 0.00017423943010992068, 'sigma_multiplier': 1.6539470672000625, 'initialization_multiplier': 0.0009766977855181556}. Best is trial 0 with value: 0.0854031963231161.\n"
     ]
    },
    {
     "name": "stdout",
     "output_type": "stream",
     "text": [
      "Training has not converged after 500 steps\n",
      "Trial 0 final loss: 0.08540320\n",
      "\n",
      "Trial 1: LR=0.000720, SigmaM=1.4815, InitM=0.061720\n"
     ]
    },
    {
     "name": "stderr",
     "output_type": "stream",
     "text": [
      "Training Progress: 100%|██████████| 500/500 [00:04<00:00, 123.43it/s, loss=0.010877, elapsed time=0.01, total time=4.06]\n",
      "[I 2025-05-23 09:01:09,541] Trial 1 finished with value: 0.010877173568336139 and parameters: {'learning_rate': 0.000720478890114045, 'sigma_multiplier': 1.4814834670077612, 'initialization_multiplier': 0.061719925940153866}. Best is trial 1 with value: 0.010877173568336139.\n"
     ]
    },
    {
     "name": "stdout",
     "output_type": "stream",
     "text": [
      "Training has not converged after 500 steps\n",
      "Trial 1 final loss: 0.01087717\n",
      "\n",
      "Trial 2: LR=0.001118, SigmaM=0.4876, InitM=0.003493\n"
     ]
    },
    {
     "name": "stderr",
     "output_type": "stream",
     "text": [
      "Training Progress: 100%|██████████| 500/500 [00:05<00:00, 90.91it/s, loss=0.028711, elapsed time=0.01, total time=5.51] \n",
      "[I 2025-05-23 09:01:15,054] Trial 2 finished with value: 0.028710978273244904 and parameters: {'learning_rate': 0.0011180166214462043, 'sigma_multiplier': 0.4876177570866497, 'initialization_multiplier': 0.0034925750092474036}. Best is trial 1 with value: 0.010877173568336139.\n"
     ]
    },
    {
     "name": "stdout",
     "output_type": "stream",
     "text": [
      "Training has not converged after 500 steps\n",
      "Trial 2 final loss: 0.02871098\n",
      "\n",
      "Trial 3: LR=0.000139, SigmaM=1.0760, InitM=0.006571\n"
     ]
    },
    {
     "name": "stderr",
     "output_type": "stream",
     "text": [
      "Training Progress: 100%|██████████| 500/500 [00:03<00:00, 126.97it/s, loss=0.206316, elapsed time=0.01, total time=3.95]\n",
      "[I 2025-05-23 09:01:19,004] Trial 3 finished with value: 0.20631639222807133 and parameters: {'learning_rate': 0.00013937097303716027, 'sigma_multiplier': 1.0759634784557743, 'initialization_multiplier': 0.006571105573216875}. Best is trial 1 with value: 0.010877173568336139.\n"
     ]
    },
    {
     "name": "stdout",
     "output_type": "stream",
     "text": [
      "Training has not converged after 500 steps\n",
      "Trial 3 final loss: 0.20631639\n",
      "\n",
      "Trial 4: LR=0.002792, SigmaM=0.7854, InitM=0.001125\n"
     ]
    },
    {
     "name": "stderr",
     "output_type": "stream",
     "text": [
      "Training Progress: 100%|██████████| 500/500 [00:04<00:00, 101.57it/s, loss=0.002045, elapsed time=0.01, total time=4.93]\n",
      "[I 2025-05-23 09:01:23,940] Trial 4 finished with value: 0.00204528786527007 and parameters: {'learning_rate': 0.0027917005831890277, 'sigma_multiplier': 0.7853726581566614, 'initialization_multiplier': 0.0011250299357165774}. Best is trial 4 with value: 0.00204528786527007.\n"
     ]
    },
    {
     "name": "stdout",
     "output_type": "stream",
     "text": [
      "Training has not converged after 500 steps\n",
      "Trial 4 final loss: 0.00204529\n",
      "\n",
      "Trial 5: LR=0.000038, SigmaM=1.6841, InitM=0.355687\n"
     ]
    },
    {
     "name": "stderr",
     "output_type": "stream",
     "text": [
      "Training Progress: 100%|██████████| 500/500 [00:04<00:00, 123.52it/s, loss=0.041691, elapsed time=0.01, total time=4.06]\n",
      "[I 2025-05-23 09:01:28,000] Trial 5 finished with value: 0.04169064402650459 and parameters: {'learning_rate': 3.8392506563416486e-05, 'sigma_multiplier': 1.6841132458775658, 'initialization_multiplier': 0.3556866186131012}. Best is trial 4 with value: 0.00204528786527007.\n"
     ]
    },
    {
     "name": "stdout",
     "output_type": "stream",
     "text": [
      "Training has not converged after 500 steps\n",
      "Trial 5 final loss: 0.04169064\n",
      "\n",
      "Trial 6: LR=0.067495, SigmaM=1.6528, InitM=0.000298\n"
     ]
    },
    {
     "name": "stderr",
     "output_type": "stream",
     "text": [
      "Training Progress: 100%|██████████| 500/500 [00:04<00:00, 120.18it/s, loss=0.000174, elapsed time=0.01, total time=4.17] \n",
      "[I 2025-05-23 09:01:32,174] Trial 6 finished with value: 0.0001736576800650057 and parameters: {'learning_rate': 0.06749515316711924, 'sigma_multiplier': 1.6528117632211214, 'initialization_multiplier': 0.00029787074375951095}. Best is trial 6 with value: 0.0001736576800650057.\n"
     ]
    },
    {
     "name": "stdout",
     "output_type": "stream",
     "text": [
      "Training has not converged after 500 steps\n",
      "Trial 6 final loss: 0.00017366\n",
      "\n",
      "Trial 7: LR=0.055364, SigmaM=1.8238, InitM=0.000849\n"
     ]
    },
    {
     "name": "stderr",
     "output_type": "stream",
     "text": [
      "Training Progress: 100%|██████████| 500/500 [00:04<00:00, 123.54it/s, loss=0.000142, elapsed time=0.01, total time=4.06] \n",
      "[I 2025-05-23 09:01:36,233] Trial 7 finished with value: 0.00014194540535661208 and parameters: {'learning_rate': 0.05536373642076627, 'sigma_multiplier': 1.8237503162730277, 'initialization_multiplier': 0.0008490019219425442}. Best is trial 7 with value: 0.00014194540535661208.\n"
     ]
    },
    {
     "name": "stdout",
     "output_type": "stream",
     "text": [
      "Training has not converged after 500 steps\n",
      "Trial 7 final loss: 0.00014195\n",
      "\n",
      "Trial 8: LR=0.001296, SigmaM=0.2051, InitM=0.002254\n"
     ]
    },
    {
     "name": "stderr",
     "output_type": "stream",
     "text": [
      "Training Progress: 100%|██████████| 500/500 [00:05<00:00, 87.05it/s, loss=0.002901, elapsed time=0.01, total time=5.75]\n",
      "[I 2025-05-23 09:01:41,988] Trial 8 finished with value: 0.0029006228335504984 and parameters: {'learning_rate': 0.0012960326968437766, 'sigma_multiplier': 0.20509263483967283, 'initialization_multiplier': 0.0022544817940237253}. Best is trial 7 with value: 0.00014194540535661208.\n"
     ]
    },
    {
     "name": "stdout",
     "output_type": "stream",
     "text": [
      "Training has not converged after 500 steps\n",
      "Trial 8 final loss: 0.00290062\n",
      "\n",
      "Trial 9: LR=0.001421, SigmaM=1.2776, InitM=0.000326\n"
     ]
    },
    {
     "name": "stderr",
     "output_type": "stream",
     "text": [
      "Training Progress: 100%|██████████| 500/500 [00:04<00:00, 117.25it/s, loss=0.001124, elapsed time=0.01, total time=4.28]\n",
      "[I 2025-05-23 09:01:46,266] Trial 9 finished with value: 0.0011235145172162045 and parameters: {'learning_rate': 0.0014205930335225228, 'sigma_multiplier': 1.277555177615118, 'initialization_multiplier': 0.0003258450354934624}. Best is trial 7 with value: 0.00014194540535661208.\n"
     ]
    },
    {
     "name": "stdout",
     "output_type": "stream",
     "text": [
      "Training has not converged after 500 steps\n",
      "Trial 9 final loss: 0.00112351\n",
      "\n",
      "Trial 10: LR=0.072158, SigmaM=1.8774, InitM=0.000105\n"
     ]
    },
    {
     "name": "stderr",
     "output_type": "stream",
     "text": [
      "Training Progress: 100%|██████████| 500/500 [00:04<00:00, 123.57it/s, loss=0.000027, elapsed time=0.01, total time=4.06] \n",
      "[I 2025-05-23 09:01:50,329] Trial 10 finished with value: 2.6635902410126833e-05 and parameters: {'learning_rate': 0.07215755497677524, 'sigma_multiplier': 1.8773956425769092, 'initialization_multiplier': 0.00010535418134443968}. Best is trial 10 with value: 2.6635902410126833e-05.\n"
     ]
    },
    {
     "name": "stdout",
     "output_type": "stream",
     "text": [
      "Training has not converged after 500 steps\n",
      "Trial 10 final loss: 0.00002664\n",
      "\n",
      "Trial 11: LR=0.099865, SigmaM=1.9608, InitM=0.000133\n"
     ]
    },
    {
     "name": "stderr",
     "output_type": "stream",
     "text": [
      "Training Progress: 100%|██████████| 500/500 [00:04<00:00, 123.94it/s, loss=0.000176, elapsed time=0.01, total time=4.04] \n",
      "[I 2025-05-23 09:01:54,379] Trial 11 finished with value: 0.00017641496052542583 and parameters: {'learning_rate': 0.0998654338815134, 'sigma_multiplier': 1.9607854882868267, 'initialization_multiplier': 0.00013303066937015064}. Best is trial 10 with value: 2.6635902410126833e-05.\n"
     ]
    },
    {
     "name": "stdout",
     "output_type": "stream",
     "text": [
      "Training has not converged after 500 steps\n",
      "Trial 11 final loss: 0.00017641\n",
      "\n",
      "Trial 12: LR=0.016337, SigmaM=1.9938, InitM=0.029347\n"
     ]
    },
    {
     "name": "stderr",
     "output_type": "stream",
     "text": [
      "Training Progress: 100%|██████████| 500/500 [00:03<00:00, 125.34it/s, loss=-0.000007, elapsed time=0.01, total time=4]   \n",
      "[I 2025-05-23 09:01:58,384] Trial 12 finished with value: -6.904214667409543e-06 and parameters: {'learning_rate': 0.016336622649142103, 'sigma_multiplier': 1.9938218708074276, 'initialization_multiplier': 0.029346930409233616}. Best is trial 12 with value: -6.904214667409543e-06.\n"
     ]
    },
    {
     "name": "stdout",
     "output_type": "stream",
     "text": [
      "Training has not converged after 500 steps\n",
      "Trial 12 final loss: -0.00000690\n",
      "\n",
      "Trial 13: LR=0.013702, SigmaM=1.9865, InitM=0.024925\n"
     ]
    },
    {
     "name": "stderr",
     "output_type": "stream",
     "text": [
      "Training Progress: 100%|██████████| 500/500 [00:03<00:00, 125.27it/s, loss=0.000001, elapsed time=0.01, total time=4]    \n",
      "[I 2025-05-23 09:02:02,391] Trial 13 finished with value: 1.157215548166204e-06 and parameters: {'learning_rate': 0.013702335656641898, 'sigma_multiplier': 1.9864959258436412, 'initialization_multiplier': 0.024925244541003082}. Best is trial 12 with value: -6.904214667409543e-06.\n"
     ]
    },
    {
     "name": "stdout",
     "output_type": "stream",
     "text": [
      "Training has not converged after 500 steps\n",
      "Trial 13 final loss: 0.00000116\n",
      "\n",
      "Trial 14: LR=0.010768, SigmaM=1.3872, InitM=0.033009\n"
     ]
    },
    {
     "name": "stderr",
     "output_type": "stream",
     "text": [
      "Training Progress: 100%|██████████| 500/500 [00:04<00:00, 117.51it/s, loss=-0.000017, elapsed time=0.01, total time=4.27]\n",
      "[I 2025-05-23 09:02:06,662] Trial 14 finished with value: -1.6930771549530654e-05 and parameters: {'learning_rate': 0.01076793955521815, 'sigma_multiplier': 1.3872042975209267, 'initialization_multiplier': 0.033009358384177456}. Best is trial 14 with value: -1.6930771549530654e-05.\n"
     ]
    },
    {
     "name": "stdout",
     "output_type": "stream",
     "text": [
      "Training has not converged after 500 steps\n",
      "Trial 14 final loss: -0.00001693\n",
      "\n",
      "Trial 15: LR=0.009841, SigmaM=1.2834, InitM=0.109243\n"
     ]
    },
    {
     "name": "stderr",
     "output_type": "stream",
     "text": [
      "Training Progress: 100%|██████████| 500/500 [00:04<00:00, 117.36it/s, loss=0.000170, elapsed time=0.01, total time=4.27] \n",
      "[I 2025-05-23 09:02:10,939] Trial 15 finished with value: 0.00017036086045408934 and parameters: {'learning_rate': 0.009840794449461223, 'sigma_multiplier': 1.2833811718792671, 'initialization_multiplier': 0.10924295161823486}. Best is trial 14 with value: -1.6930771549530654e-05.\n"
     ]
    },
    {
     "name": "stdout",
     "output_type": "stream",
     "text": [
      "Training has not converged after 500 steps\n",
      "Trial 15 final loss: 0.00017036\n",
      "\n",
      "Trial 16: LR=0.013609, SigmaM=0.8670, InitM=0.828727\n"
     ]
    },
    {
     "name": "stderr",
     "output_type": "stream",
     "text": [
      "Training Progress: 100%|██████████| 500/500 [00:04<00:00, 105.74it/s, loss=0.000372, elapsed time=0.01, total time=4.74]\n",
      "[I 2025-05-23 09:02:15,684] Trial 16 finished with value: 0.0003720229463625495 and parameters: {'learning_rate': 0.013609140391100977, 'sigma_multiplier': 0.8670271618722996, 'initialization_multiplier': 0.8287266097387062}. Best is trial 14 with value: -1.6930771549530654e-05.\n"
     ]
    },
    {
     "name": "stdout",
     "output_type": "stream",
     "text": [
      "Training has not converged after 500 steps\n",
      "Trial 16 final loss: 0.00037202\n",
      "\n",
      "Trial 17: LR=0.004752, SigmaM=1.4081, InitM=0.017706\n"
     ]
    },
    {
     "name": "stderr",
     "output_type": "stream",
     "text": [
      "Training Progress: 100%|██████████| 500/500 [00:04<00:00, 119.00it/s, loss=0.000206, elapsed time=0.01, total time=4.21] \n",
      "[I 2025-05-23 09:02:19,901] Trial 17 finished with value: 0.00020630228444645085 and parameters: {'learning_rate': 0.004752324416394437, 'sigma_multiplier': 1.408146469497097, 'initialization_multiplier': 0.01770617661924985}. Best is trial 14 with value: -1.6930771549530654e-05.\n"
     ]
    },
    {
     "name": "stdout",
     "output_type": "stream",
     "text": [
      "Training has not converged after 500 steps\n",
      "Trial 17 final loss: 0.00020630\n",
      "\n",
      "Trial 18: LR=0.026117, SigmaM=0.8631, InitM=0.068137\n"
     ]
    },
    {
     "name": "stderr",
     "output_type": "stream",
     "text": [
      "Training Progress: 100%|██████████| 500/500 [00:04<00:00, 105.56it/s, loss=0.000441, elapsed time=0.01, total time=4.75]\n",
      "[I 2025-05-23 09:02:24,653] Trial 18 finished with value: 0.0004412971695910503 and parameters: {'learning_rate': 0.026116819043168583, 'sigma_multiplier': 0.8631095635302266, 'initialization_multiplier': 0.06813705562430229}. Best is trial 14 with value: -1.6930771549530654e-05.\n"
     ]
    },
    {
     "name": "stdout",
     "output_type": "stream",
     "text": [
      "Training has not converged after 500 steps\n",
      "Trial 18 final loss: 0.00044130\n",
      "\n",
      "Trial 19: LR=0.005260, SigmaM=1.1545, InitM=0.202135\n"
     ]
    },
    {
     "name": "stderr",
     "output_type": "stream",
     "text": [
      "Training Progress: 100%|██████████| 500/500 [00:04<00:00, 112.94it/s, loss=0.000098, elapsed time=0.01, total time=4.44] \n",
      "[I 2025-05-23 09:02:29,097] Trial 19 finished with value: 9.801245964482591e-05 and parameters: {'learning_rate': 0.005259984510634647, 'sigma_multiplier': 1.154526466608641, 'initialization_multiplier': 0.20213492889382292}. Best is trial 14 with value: -1.6930771549530654e-05.\n"
     ]
    },
    {
     "name": "stdout",
     "output_type": "stream",
     "text": [
      "Training has not converged after 500 steps\n",
      "Trial 19 final loss: 0.00009801\n",
      "\n",
      "Trial 20: LR=0.021288, SigmaM=1.5013, InitM=0.023006\n"
     ]
    },
    {
     "name": "stderr",
     "output_type": "stream",
     "text": [
      "Training Progress: 100%|██████████| 500/500 [00:04<00:00, 114.09it/s, loss=-0.000054, elapsed time=0.01, total time=4.39]\n",
      "[I 2025-05-23 09:02:33,496] Trial 20 finished with value: -5.3879348615191955e-05 and parameters: {'learning_rate': 0.02128838821581288, 'sigma_multiplier': 1.50130958948175, 'initialization_multiplier': 0.0230064665280752}. Best is trial 20 with value: -5.3879348615191955e-05.\n"
     ]
    },
    {
     "name": "stdout",
     "output_type": "stream",
     "text": [
      "Training has not converged after 500 steps\n",
      "Trial 20 final loss: -0.00005388\n",
      "\n",
      "Trial 21: LR=0.032288, SigmaM=1.4817, InitM=0.024583\n"
     ]
    },
    {
     "name": "stderr",
     "output_type": "stream",
     "text": [
      "Training Progress: 100%|██████████| 500/500 [00:04<00:00, 116.16it/s, loss=0.000048, elapsed time=0.01, total time=4.32] \n",
      "[I 2025-05-23 09:02:37,818] Trial 21 finished with value: 4.816276904270789e-05 and parameters: {'learning_rate': 0.032288259110739986, 'sigma_multiplier': 1.4816832891686644, 'initialization_multiplier': 0.024582738523931915}. Best is trial 20 with value: -5.3879348615191955e-05.\n"
     ]
    },
    {
     "name": "stdout",
     "output_type": "stream",
     "text": [
      "Training has not converged after 500 steps\n",
      "Trial 21 final loss: 0.00004816\n",
      "\n",
      "Trial 22: LR=0.023857, SigmaM=1.7529, InitM=0.007888\n"
     ]
    },
    {
     "name": "stderr",
     "output_type": "stream",
     "text": [
      "Training Progress: 100%|██████████| 500/500 [00:04<00:00, 121.15it/s, loss=0.000040, elapsed time=0.01, total time=4.14] \n",
      "[I 2025-05-23 09:02:41,965] Trial 22 finished with value: 4.002706091500157e-05 and parameters: {'learning_rate': 0.02385680085258781, 'sigma_multiplier': 1.7528546570507941, 'initialization_multiplier': 0.007887908032918544}. Best is trial 20 with value: -5.3879348615191955e-05.\n"
     ]
    },
    {
     "name": "stdout",
     "output_type": "stream",
     "text": [
      "Training has not converged after 500 steps\n",
      "Trial 22 final loss: 0.00004003\n",
      "\n",
      "Trial 23: LR=0.006568, SigmaM=1.5848, InitM=0.032296\n"
     ]
    },
    {
     "name": "stderr",
     "output_type": "stream",
     "text": [
      "Training Progress: 100%|██████████| 500/500 [00:04<00:00, 119.94it/s, loss=-0.000041, elapsed time=0.01, total time=4.18]\n",
      "[I 2025-05-23 09:02:46,150] Trial 23 finished with value: -4.1421374724036105e-05 and parameters: {'learning_rate': 0.006568251199344458, 'sigma_multiplier': 1.5848318416212046, 'initialization_multiplier': 0.03229578487743372}. Best is trial 20 with value: -5.3879348615191955e-05.\n"
     ]
    },
    {
     "name": "stdout",
     "output_type": "stream",
     "text": [
      "Training has not converged after 500 steps\n",
      "Trial 23 final loss: -0.00004142\n",
      "\n",
      "Trial 24: LR=0.006395, SigmaM=1.5203, InitM=0.052284\n"
     ]
    },
    {
     "name": "stderr",
     "output_type": "stream",
     "text": [
      "Training Progress: 100%|██████████| 500/500 [00:04<00:00, 119.22it/s, loss=0.000284, elapsed time=0.01, total time=4.2]  \n",
      "[I 2025-05-23 09:02:50,362] Trial 24 finished with value: 0.0002842496830679747 and parameters: {'learning_rate': 0.006394949990526445, 'sigma_multiplier': 1.52026260887291, 'initialization_multiplier': 0.05228390950493983}. Best is trial 20 with value: -5.3879348615191955e-05.\n"
     ]
    },
    {
     "name": "stdout",
     "output_type": "stream",
     "text": [
      "Training has not converged after 500 steps\n",
      "Trial 24 final loss: 0.00028425\n",
      "\n",
      "Trial 25: LR=0.002715, SigmaM=1.3083, InitM=0.014483\n"
     ]
    },
    {
     "name": "stderr",
     "output_type": "stream",
     "text": [
      "Training Progress: 100%|██████████| 500/500 [00:04<00:00, 117.88it/s, loss=0.000214, elapsed time=0.01, total time=4.25]\n",
      "[I 2025-05-23 09:02:54,619] Trial 25 finished with value: 0.00021423462527578934 and parameters: {'learning_rate': 0.002715123938450383, 'sigma_multiplier': 1.3083013264330456, 'initialization_multiplier': 0.014482846173454529}. Best is trial 20 with value: -5.3879348615191955e-05.\n"
     ]
    },
    {
     "name": "stdout",
     "output_type": "stream",
     "text": [
      "Training has not converged after 500 steps\n",
      "Trial 25 final loss: 0.00021423\n",
      "\n",
      "Trial 26: LR=0.000553, SigmaM=1.5771, InitM=0.162507\n"
     ]
    },
    {
     "name": "stderr",
     "output_type": "stream",
     "text": [
      "Training Progress: 100%|██████████| 500/500 [00:03<00:00, 125.22it/s, loss=0.016905, elapsed time=0.01, total time=4]   \n",
      "[I 2025-05-23 09:02:58,628] Trial 26 finished with value: 0.01690526938981133 and parameters: {'learning_rate': 0.0005533902228022913, 'sigma_multiplier': 1.5770807149512924, 'initialization_multiplier': 0.1625070745496939}. Best is trial 20 with value: -5.3879348615191955e-05.\n"
     ]
    },
    {
     "name": "stdout",
     "output_type": "stream",
     "text": [
      "Training has not converged after 500 steps\n",
      "Trial 26 final loss: 0.01690527\n",
      "\n",
      "Trial 27: LR=0.002755, SigmaM=1.1817, InitM=0.008552\n"
     ]
    },
    {
     "name": "stderr",
     "output_type": "stream",
     "text": [
      "Training Progress: 100%|██████████| 500/500 [00:04<00:00, 116.08it/s, loss=0.000633, elapsed time=0.01, total time=4.32]\n",
      "[I 2025-05-23 09:03:02,952] Trial 27 finished with value: 0.0006328124894654877 and parameters: {'learning_rate': 0.002755078596566881, 'sigma_multiplier': 1.1817225713801092, 'initialization_multiplier': 0.008551698228750555}. Best is trial 20 with value: -5.3879348615191955e-05.\n"
     ]
    },
    {
     "name": "stdout",
     "output_type": "stream",
     "text": [
      "Training has not converged after 500 steps\n",
      "Trial 27 final loss: 0.00063281\n",
      "\n",
      "Trial 28: LR=0.008870, SigmaM=1.0114, InitM=0.042148\n"
     ]
    },
    {
     "name": "stderr",
     "output_type": "stream",
     "text": [
      "Training Progress: 100%|██████████| 500/500 [00:04<00:00, 112.59it/s, loss=0.000565, elapsed time=0.01, total time=4.45]\n",
      "[I 2025-05-23 09:03:07,410] Trial 28 finished with value: 0.0005649257604914501 and parameters: {'learning_rate': 0.008870376153494482, 'sigma_multiplier': 1.0114029705327268, 'initialization_multiplier': 0.04214845119400532}. Best is trial 20 with value: -5.3879348615191955e-05.\n"
     ]
    },
    {
     "name": "stdout",
     "output_type": "stream",
     "text": [
      "Training has not converged after 500 steps\n",
      "Trial 28 final loss: 0.00056493\n",
      "\n",
      "Trial 29: LR=0.037174, SigmaM=1.4051, InitM=0.004250\n"
     ]
    },
    {
     "name": "stderr",
     "output_type": "stream",
     "text": [
      "Training Progress: 100%|██████████| 500/500 [00:04<00:00, 118.95it/s, loss=0.000160, elapsed time=0.01, total time=4.21] \n",
      "[I 2025-05-23 09:03:11,630] Trial 29 finished with value: 0.00016018768042198577 and parameters: {'learning_rate': 0.037173944569367685, 'sigma_multiplier': 1.405082698724394, 'initialization_multiplier': 0.004250214576863665}. Best is trial 20 with value: -5.3879348615191955e-05.\n"
     ]
    },
    {
     "name": "stdout",
     "output_type": "stream",
     "text": [
      "Training has not converged after 500 steps\n",
      "Trial 29 final loss: 0.00016019\n",
      "\n",
      "Trial 30: LR=0.000297, SigmaM=1.6160, InitM=0.374401\n"
     ]
    },
    {
     "name": "stderr",
     "output_type": "stream",
     "text": [
      "Training Progress: 100%|██████████| 500/500 [00:04<00:00, 121.51it/s, loss=0.012559, elapsed time=0.01, total time=4.13]\n",
      "[I 2025-05-23 09:03:15,762] Trial 30 finished with value: 0.012558986419453135 and parameters: {'learning_rate': 0.0002971388985634649, 'sigma_multiplier': 1.616019901422503, 'initialization_multiplier': 0.37440131383030506}. Best is trial 20 with value: -5.3879348615191955e-05.\n"
     ]
    },
    {
     "name": "stdout",
     "output_type": "stream",
     "text": [
      "Training has not converged after 500 steps\n",
      "Trial 30 final loss: 0.01255899\n",
      "\n",
      "Trial 31: LR=0.015926, SigmaM=1.7973, InitM=0.033742\n"
     ]
    },
    {
     "name": "stderr",
     "output_type": "stream",
     "text": [
      "Training Progress: 100%|██████████| 500/500 [00:03<00:00, 125.69it/s, loss=0.000054, elapsed time=0.01, total time=3.99] \n",
      "[I 2025-05-23 09:03:19,757] Trial 31 finished with value: 5.352171686476129e-05 and parameters: {'learning_rate': 0.01592626855241953, 'sigma_multiplier': 1.7972757592964077, 'initialization_multiplier': 0.03374178093769511}. Best is trial 20 with value: -5.3879348615191955e-05.\n"
     ]
    },
    {
     "name": "stdout",
     "output_type": "stream",
     "text": [
      "Training has not converged after 500 steps\n",
      "Trial 31 final loss: 0.00005352\n",
      "\n",
      "Trial 32: LR=0.020745, SigmaM=1.3645, InitM=0.014026\n"
     ]
    },
    {
     "name": "stderr",
     "output_type": "stream",
     "text": [
      "Training Progress: 100%|██████████| 500/500 [00:04<00:00, 119.62it/s, loss=0.000038, elapsed time=0.01, total time=4.19] \n",
      "[I 2025-05-23 09:03:23,953] Trial 32 finished with value: 3.8077645494232895e-05 and parameters: {'learning_rate': 0.020745479545335684, 'sigma_multiplier': 1.3644614670685373, 'initialization_multiplier': 0.014026031497211657}. Best is trial 20 with value: -5.3879348615191955e-05.\n"
     ]
    },
    {
     "name": "stdout",
     "output_type": "stream",
     "text": [
      "Training has not converged after 500 steps\n",
      "Trial 32 final loss: 0.00003808\n",
      "\n",
      "Trial 33: LR=0.007767, SigmaM=1.7117, InitM=0.074869\n"
     ]
    },
    {
     "name": "stderr",
     "output_type": "stream",
     "text": [
      "Training Progress: 100%|██████████| 500/500 [00:04<00:00, 123.93it/s, loss=-0.000001, elapsed time=0.01, total time=4.05]\n",
      "[I 2025-05-23 09:03:28,005] Trial 33 finished with value: -7.479361498533204e-07 and parameters: {'learning_rate': 0.007767190192754739, 'sigma_multiplier': 1.7116681866165868, 'initialization_multiplier': 0.07486913699907333}. Best is trial 20 with value: -5.3879348615191955e-05.\n"
     ]
    },
    {
     "name": "stdout",
     "output_type": "stream",
     "text": [
      "Training has not converged after 500 steps\n",
      "Trial 33 final loss: -0.00000075\n",
      "\n",
      "Trial 34: LR=0.003098, SigmaM=1.4745, InitM=0.104703\n"
     ]
    },
    {
     "name": "stderr",
     "output_type": "stream",
     "text": [
      "Training Progress: 100%|██████████| 500/500 [00:04<00:00, 118.60it/s, loss=0.000049, elapsed time=0.01, total time=4.23] \n",
      "[I 2025-05-23 09:03:32,237] Trial 34 finished with value: 4.902879662150701e-05 and parameters: {'learning_rate': 0.003098242891862089, 'sigma_multiplier': 1.474549683659634, 'initialization_multiplier': 0.10470315221949611}. Best is trial 20 with value: -5.3879348615191955e-05.\n"
     ]
    },
    {
     "name": "stdout",
     "output_type": "stream",
     "text": [
      "Training has not converged after 500 steps\n",
      "Trial 34 final loss: 0.00004903\n",
      "\n",
      "Trial 35: LR=0.010680, SigmaM=1.8975, InitM=0.004631\n"
     ]
    },
    {
     "name": "stderr",
     "output_type": "stream",
     "text": [
      "Training Progress: 100%|██████████| 500/500 [00:03<00:00, 125.09it/s, loss=0.000092, elapsed time=0.01, total time=4.01] \n",
      "[I 2025-05-23 09:03:36,250] Trial 35 finished with value: 9.238889704864019e-05 and parameters: {'learning_rate': 0.010680377720512915, 'sigma_multiplier': 1.8975180911288267, 'initialization_multiplier': 0.004631158146090538}. Best is trial 20 with value: -5.3879348615191955e-05.\n"
     ]
    },
    {
     "name": "stdout",
     "output_type": "stream",
     "text": [
      "Training has not converged after 500 steps\n",
      "Trial 35 final loss: 0.00009239\n",
      "\n",
      "Trial 36: LR=0.045891, SigmaM=1.0012, InitM=0.028475\n"
     ]
    },
    {
     "name": "stderr",
     "output_type": "stream",
     "text": [
      "Training Progress: 100%|██████████| 500/500 [00:04<00:00, 110.65it/s, loss=0.000338, elapsed time=0.01, total time=4.53]\n",
      "[I 2025-05-23 09:03:40,785] Trial 36 finished with value: 0.00033827933269973064 and parameters: {'learning_rate': 0.04589134879232239, 'sigma_multiplier': 1.001225065846242, 'initialization_multiplier': 0.02847494929985793}. Best is trial 20 with value: -5.3879348615191955e-05.\n"
     ]
    },
    {
     "name": "stdout",
     "output_type": "stream",
     "text": [
      "Training has not converged after 500 steps\n",
      "Trial 36 final loss: 0.00033828\n",
      "\n",
      "Trial 37: LR=0.005015, SigmaM=0.5565, InitM=0.002509\n"
     ]
    },
    {
     "name": "stderr",
     "output_type": "stream",
     "text": [
      "Training Progress: 100%|██████████| 500/500 [00:05<00:00, 93.65it/s, loss=0.002035, elapsed time=0.01, total time=5.35] \n",
      "[I 2025-05-23 09:03:46,141] Trial 37 finished with value: 0.0020352908739800827 and parameters: {'learning_rate': 0.005015250774374191, 'sigma_multiplier': 0.5564660355193249, 'initialization_multiplier': 0.0025093907891960503}. Best is trial 20 with value: -5.3879348615191955e-05.\n"
     ]
    },
    {
     "name": "stdout",
     "output_type": "stream",
     "text": [
      "Training has not converged after 500 steps\n",
      "Trial 37 final loss: 0.00203529\n",
      "\n",
      "Trial 38: LR=0.000065, SigmaM=1.6218, InitM=0.012527\n"
     ]
    },
    {
     "name": "stderr",
     "output_type": "stream",
     "text": [
      "Training Progress: 100%|██████████| 500/500 [00:03<00:00, 133.51it/s, loss=0.122986, elapsed time=0.01, total time=3.75]\n",
      "[I 2025-05-23 09:03:49,902] Trial 38 finished with value: 0.12298615859822294 and parameters: {'learning_rate': 6.473491445152117e-05, 'sigma_multiplier': 1.6218129135945645, 'initialization_multiplier': 0.012526517559425791}. Best is trial 20 with value: -5.3879348615191955e-05.\n"
     ]
    },
    {
     "name": "stdout",
     "output_type": "stream",
     "text": [
      "Training has not converged after 500 steps\n",
      "Trial 38 final loss: 0.12298616\n",
      "\n",
      "Trial 39: LR=0.020527, SigmaM=1.2233, InitM=0.043632\n"
     ]
    },
    {
     "name": "stderr",
     "output_type": "stream",
     "text": [
      "Training Progress: 100%|██████████| 500/500 [00:04<00:00, 117.64it/s, loss=0.000071, elapsed time=0.01, total time=4.26] \n",
      "[I 2025-05-23 09:03:54,168] Trial 39 finished with value: 7.074193025366554e-05 and parameters: {'learning_rate': 0.020526575494481208, 'sigma_multiplier': 1.2233301723001642, 'initialization_multiplier': 0.04363165326203853}. Best is trial 20 with value: -5.3879348615191955e-05.\n"
     ]
    },
    {
     "name": "stdout",
     "output_type": "stream",
     "text": [
      "Training has not converged after 500 steps\n",
      "Trial 39 final loss: 0.00007074\n",
      "\n",
      "Trial 40: LR=0.000870, SigmaM=1.1211, InitM=0.019913\n"
     ]
    },
    {
     "name": "stderr",
     "output_type": "stream",
     "text": [
      "Training Progress: 100%|██████████| 500/500 [00:04<00:00, 116.75it/s, loss=0.010284, elapsed time=0.01, total time=4.29]\n",
      "[I 2025-05-23 09:03:58,468] Trial 40 finished with value: 0.01028441844032834 and parameters: {'learning_rate': 0.0008701182011816852, 'sigma_multiplier': 1.1210742567838614, 'initialization_multiplier': 0.01991281499847423}. Best is trial 20 with value: -5.3879348615191955e-05.\n"
     ]
    },
    {
     "name": "stdout",
     "output_type": "stream",
     "text": [
      "Training has not converged after 500 steps\n",
      "Trial 40 final loss: 0.01028442\n",
      "\n",
      "Trial 41: LR=0.007584, SigmaM=1.6755, InitM=0.095660\n"
     ]
    },
    {
     "name": "stderr",
     "output_type": "stream",
     "text": [
      "Training Progress: 100%|██████████| 500/500 [00:04<00:00, 124.22it/s, loss=0.000045, elapsed time=0.01, total time=4.04] \n",
      "[I 2025-05-23 09:04:02,510] Trial 41 finished with value: 4.472723257345544e-05 and parameters: {'learning_rate': 0.007584120900067906, 'sigma_multiplier': 1.6755235771637778, 'initialization_multiplier': 0.09565970639133904}. Best is trial 20 with value: -5.3879348615191955e-05.\n"
     ]
    },
    {
     "name": "stdout",
     "output_type": "stream",
     "text": [
      "Training has not converged after 500 steps\n",
      "Trial 41 final loss: 0.00004473\n",
      "\n",
      "Trial 42: LR=0.004185, SigmaM=1.7339, InitM=0.064429\n"
     ]
    },
    {
     "name": "stderr",
     "output_type": "stream",
     "text": [
      "Training Progress: 100%|██████████| 500/500 [00:04<00:00, 123.64it/s, loss=0.000003, elapsed time=0.01, total time=4.05] \n",
      "[I 2025-05-23 09:04:06,572] Trial 42 finished with value: 3.294791990278821e-06 and parameters: {'learning_rate': 0.004185207731281066, 'sigma_multiplier': 1.7338885357592266, 'initialization_multiplier': 0.06442870450035826}. Best is trial 20 with value: -5.3879348615191955e-05.\n"
     ]
    },
    {
     "name": "stdout",
     "output_type": "stream",
     "text": [
      "Training has not converged after 500 steps\n",
      "Trial 42 final loss: 0.00000329\n",
      "\n",
      "Trial 43: LR=0.001781, SigmaM=1.8700, InitM=0.203016\n"
     ]
    },
    {
     "name": "stderr",
     "output_type": "stream",
     "text": [
      "Training Progress: 100%|██████████| 500/500 [00:03<00:00, 126.01it/s, loss=0.000192, elapsed time=0.01, total time=3.98]\n",
      "[I 2025-05-23 09:04:10,557] Trial 43 finished with value: 0.000191928090392716 and parameters: {'learning_rate': 0.00178053328226648, 'sigma_multiplier': 1.8700236028133448, 'initialization_multiplier': 0.20301628651665166}. Best is trial 20 with value: -5.3879348615191955e-05.\n"
     ]
    },
    {
     "name": "stdout",
     "output_type": "stream",
     "text": [
      "Training has not converged after 500 steps\n",
      "Trial 43 final loss: 0.00019193\n",
      "\n",
      "Trial 44: LR=0.014611, SigmaM=1.5504, InitM=0.035250\n"
     ]
    },
    {
     "name": "stderr",
     "output_type": "stream",
     "text": [
      "Training Progress: 100%|██████████| 500/500 [00:04<00:00, 123.39it/s, loss=0.000381, elapsed time=0.01, total time=4.06] \n",
      "[I 2025-05-23 09:04:14,625] Trial 44 finished with value: 0.00038141019558437123 and parameters: {'learning_rate': 0.014611030469286114, 'sigma_multiplier': 1.550436467608195, 'initialization_multiplier': 0.03525006651518654}. Best is trial 20 with value: -5.3879348615191955e-05.\n"
     ]
    },
    {
     "name": "stdout",
     "output_type": "stream",
     "text": [
      "Training has not converged after 500 steps\n",
      "Trial 44 final loss: 0.00038141\n",
      "\n",
      "Trial 45: LR=0.007688, SigmaM=1.7281, InitM=0.076016\n"
     ]
    },
    {
     "name": "stderr",
     "output_type": "stream",
     "text": [
      "Training Progress: 100%|██████████| 500/500 [00:03<00:00, 125.06it/s, loss=-0.000006, elapsed time=0.01, total time=4.01]\n",
      "[I 2025-05-23 09:04:18,640] Trial 45 finished with value: -6.254528104041504e-06 and parameters: {'learning_rate': 0.007688129930844044, 'sigma_multiplier': 1.728062914630962, 'initialization_multiplier': 0.07601588039362753}. Best is trial 20 with value: -5.3879348615191955e-05.\n"
     ]
    },
    {
     "name": "stdout",
     "output_type": "stream",
     "text": [
      "Training has not converged after 500 steps\n",
      "Trial 45 final loss: -0.00000625\n",
      "\n",
      "Trial 46: LR=0.034445, SigmaM=1.9892, InitM=0.005705\n"
     ]
    },
    {
     "name": "stderr",
     "output_type": "stream",
     "text": [
      "Training Progress: 100%|██████████| 500/500 [00:03<00:00, 126.80it/s, loss=-0.000041, elapsed time=0.01, total time=3.95]\n",
      "[I 2025-05-23 09:04:22,601] Trial 46 finished with value: -4.0975516141004915e-05 and parameters: {'learning_rate': 0.03444511714001765, 'sigma_multiplier': 1.9892021672433613, 'initialization_multiplier': 0.005704706390633406}. Best is trial 20 with value: -5.3879348615191955e-05.\n"
     ]
    },
    {
     "name": "stdout",
     "output_type": "stream",
     "text": [
      "Training has not converged after 500 steps\n",
      "Trial 46 final loss: -0.00004098\n",
      "\n",
      "Trial 47: LR=0.058735, SigmaM=1.9735, InitM=0.001809\n"
     ]
    },
    {
     "name": "stderr",
     "output_type": "stream",
     "text": [
      "Training Progress: 100%|██████████| 500/500 [00:03<00:00, 126.12it/s, loss=0.000071, elapsed time=0.01, total time=3.97] \n",
      "[I 2025-05-23 09:04:26,582] Trial 47 finished with value: 7.070373476653852e-05 and parameters: {'learning_rate': 0.05873506391175744, 'sigma_multiplier': 1.9734698608341188, 'initialization_multiplier': 0.0018087744496694197}. Best is trial 20 with value: -5.3879348615191955e-05.\n"
     ]
    },
    {
     "name": "stdout",
     "output_type": "stream",
     "text": [
      "Training has not converged after 500 steps\n",
      "Trial 47 final loss: 0.00007070\n",
      "\n",
      "Trial 48: LR=0.037223, SigmaM=1.8581, InitM=0.005927\n"
     ]
    },
    {
     "name": "stderr",
     "output_type": "stream",
     "text": [
      "Training Progress: 100%|██████████| 500/500 [00:04<00:00, 124.94it/s, loss=0.000018, elapsed time=0.01, total time=4.01] \n",
      "[I 2025-05-23 09:04:30,599] Trial 48 finished with value: 1.7896074618039618e-05 and parameters: {'learning_rate': 0.037222943303790564, 'sigma_multiplier': 1.858139194706478, 'initialization_multiplier': 0.00592720665504897}. Best is trial 20 with value: -5.3879348615191955e-05.\n"
     ]
    },
    {
     "name": "stdout",
     "output_type": "stream",
     "text": [
      "Training has not converged after 500 steps\n",
      "Trial 48 final loss: 0.00001790\n",
      "\n",
      "Trial 49: LR=0.076392, SigmaM=0.1516, InitM=0.000832\n"
     ]
    },
    {
     "name": "stderr",
     "output_type": "stream",
     "text": [
      "Training Progress: 100%|██████████| 500/500 [00:05<00:00, 86.09it/s, loss=-0.000031, elapsed time=0.01, total time=5.82]\n",
      "[I 2025-05-23 09:04:36,425] Trial 49 finished with value: -3.083820138613062e-05 and parameters: {'learning_rate': 0.07639238772773818, 'sigma_multiplier': 0.15159126511063437, 'initialization_multiplier': 0.0008324072811275716}. Best is trial 20 with value: -5.3879348615191955e-05.\n"
     ]
    },
    {
     "name": "stdout",
     "output_type": "stream",
     "text": [
      "Training has not converged after 500 steps\n",
      "Trial 49 final loss: -0.00003084\n",
      "\n",
      "Trial 50: LR=0.076225, SigmaM=0.3363, InitM=0.000727\n"
     ]
    },
    {
     "name": "stderr",
     "output_type": "stream",
     "text": [
      "Training Progress: 100%|██████████| 500/500 [00:05<00:00, 90.02it/s, loss=0.003804, elapsed time=0.01, total time=5.56] \n",
      "[I 2025-05-23 09:04:41,996] Trial 50 finished with value: 0.0038035285025254523 and parameters: {'learning_rate': 0.07622490819875502, 'sigma_multiplier': 0.3362632443729022, 'initialization_multiplier': 0.0007273825065180025}. Best is trial 20 with value: -5.3879348615191955e-05.\n"
     ]
    },
    {
     "name": "stdout",
     "output_type": "stream",
     "text": [
      "Training has not converged after 500 steps\n",
      "Trial 50 final loss: 0.00380353\n",
      "\n",
      "Trial 51: LR=0.047764, SigmaM=0.5436, InitM=0.000280\n"
     ]
    },
    {
     "name": "stderr",
     "output_type": "stream",
     "text": [
      "Training Progress: 100%|██████████| 500/500 [00:05<00:00, 93.41it/s, loss=0.001635, elapsed time=0.01, total time=5.36] \n",
      "[I 2025-05-23 09:04:47,368] Trial 51 finished with value: 0.001634723064749103 and parameters: {'learning_rate': 0.04776441695311996, 'sigma_multiplier': 0.5435697917798135, 'initialization_multiplier': 0.00028014818869860755}. Best is trial 20 with value: -5.3879348615191955e-05.\n"
     ]
    },
    {
     "name": "stdout",
     "output_type": "stream",
     "text": [
      "Training has not converged after 500 steps\n",
      "Trial 51 final loss: 0.00163472\n",
      "\n",
      "Trial 52: LR=0.095176, SigmaM=0.2273, InitM=0.001349\n"
     ]
    },
    {
     "name": "stderr",
     "output_type": "stream",
     "text": [
      "Training Progress: 100%|██████████| 500/500 [00:05<00:00, 91.26it/s, loss=0.000229, elapsed time=0.01, total time=5.49] \n",
      "[I 2025-05-23 09:04:52,864] Trial 52 finished with value: 0.0002292648633835022 and parameters: {'learning_rate': 0.09517596625609856, 'sigma_multiplier': 0.2273194553496909, 'initialization_multiplier': 0.0013492667847701373}. Best is trial 20 with value: -5.3879348615191955e-05.\n"
     ]
    },
    {
     "name": "stdout",
     "output_type": "stream",
     "text": [
      "Training has not converged after 500 steps\n",
      "Trial 52 final loss: 0.00022926\n",
      "\n",
      "Trial 53: LR=0.030296, SigmaM=0.7471, InitM=0.020463\n"
     ]
    },
    {
     "name": "stderr",
     "output_type": "stream",
     "text": [
      "Training Progress: 100%|██████████| 500/500 [00:04<00:00, 102.92it/s, loss=0.000817, elapsed time=0.01, total time=4.87]\n",
      "[I 2025-05-23 09:04:57,737] Trial 53 finished with value: 0.0008166983970102903 and parameters: {'learning_rate': 0.030296325687337804, 'sigma_multiplier': 0.7471393743911353, 'initialization_multiplier': 0.020462765543201276}. Best is trial 20 with value: -5.3879348615191955e-05.\n"
     ]
    },
    {
     "name": "stdout",
     "output_type": "stream",
     "text": [
      "Training has not converged after 500 steps\n",
      "Trial 53 final loss: 0.00081670\n",
      "\n",
      "Trial 54: LR=0.020627, SigmaM=1.7946, InitM=0.000656\n"
     ]
    },
    {
     "name": "stderr",
     "output_type": "stream",
     "text": [
      "Training Progress: 100%|██████████| 500/500 [00:03<00:00, 126.03it/s, loss=0.000051, elapsed time=0.01, total time=3.98] \n",
      "[I 2025-05-23 09:05:01,721] Trial 54 finished with value: 5.0628048833676507e-05 and parameters: {'learning_rate': 0.02062694769468955, 'sigma_multiplier': 1.7945588414238574, 'initialization_multiplier': 0.0006562818045072263}. Best is trial 20 with value: -5.3879348615191955e-05.\n"
     ]
    },
    {
     "name": "stdout",
     "output_type": "stream",
     "text": [
      "Training has not converged after 500 steps\n",
      "Trial 54 final loss: 0.00005063\n",
      "\n",
      "Trial 55: LR=0.011172, SigmaM=1.9980, InitM=0.000475\n"
     ]
    },
    {
     "name": "stderr",
     "output_type": "stream",
     "text": [
      "Training Progress: 100%|██████████| 500/500 [00:03<00:00, 126.16it/s, loss=-0.000019, elapsed time=0.01, total time=3.98]\n",
      "[I 2025-05-23 09:05:05,706] Trial 55 finished with value: -1.9357700879986892e-05 and parameters: {'learning_rate': 0.011172159945196183, 'sigma_multiplier': 1.997991747078786, 'initialization_multiplier': 0.00047478711122130474}. Best is trial 20 with value: -5.3879348615191955e-05.\n"
     ]
    },
    {
     "name": "stdout",
     "output_type": "stream",
     "text": [
      "Training has not converged after 500 steps\n",
      "Trial 55 final loss: -0.00001936\n",
      "\n",
      "Trial 56: LR=0.012355, SigmaM=0.7139, InitM=0.000442\n"
     ]
    },
    {
     "name": "stderr",
     "output_type": "stream",
     "text": [
      "Training Progress: 100%|██████████| 500/500 [00:05<00:00, 99.68it/s, loss=0.000976, elapsed time=0.01, total time=5.03] \n",
      "[I 2025-05-23 09:05:10,739] Trial 56 finished with value: 0.0009757212957684378 and parameters: {'learning_rate': 0.012355136125968743, 'sigma_multiplier': 0.7139277830374864, 'initialization_multiplier': 0.0004422029089879446}. Best is trial 20 with value: -5.3879348615191955e-05.\n"
     ]
    },
    {
     "name": "stdout",
     "output_type": "stream",
     "text": [
      "Training has not converged after 500 steps\n",
      "Trial 56 final loss: 0.00097572\n",
      "\n",
      "Trial 57: LR=0.046919, SigmaM=1.9301, InitM=0.000486\n"
     ]
    },
    {
     "name": "stderr",
     "output_type": "stream",
     "text": [
      "Training Progress: 100%|██████████| 500/500 [00:04<00:00, 124.22it/s, loss=0.000043, elapsed time=0.01, total time=4.04] \n",
      "[I 2025-05-23 09:05:14,782] Trial 57 finished with value: 4.273483984527125e-05 and parameters: {'learning_rate': 0.04691890656604677, 'sigma_multiplier': 1.9300557541041865, 'initialization_multiplier': 0.00048631789099705066}. Best is trial 20 with value: -5.3879348615191955e-05.\n"
     ]
    },
    {
     "name": "stdout",
     "output_type": "stream",
     "text": [
      "Training has not converged after 500 steps\n",
      "Trial 57 final loss: 0.00004273\n",
      "\n",
      "Trial 58: LR=0.079975, SigmaM=0.9271, InitM=0.001143\n"
     ]
    },
    {
     "name": "stderr",
     "output_type": "stream",
     "text": [
      "Training Progress: 100%|██████████| 500/500 [00:04<00:00, 108.08it/s, loss=0.000787, elapsed time=0.01, total time=4.64]\n",
      "[I 2025-05-23 09:05:19,424] Trial 58 finished with value: 0.0007867456821045438 and parameters: {'learning_rate': 0.07997491564514823, 'sigma_multiplier': 0.927099491939389, 'initialization_multiplier': 0.0011427575891110686}. Best is trial 20 with value: -5.3879348615191955e-05.\n"
     ]
    },
    {
     "name": "stdout",
     "output_type": "stream",
     "text": [
      "Training has not converged after 500 steps\n",
      "Trial 58 final loss: 0.00078675\n",
      "\n",
      "Trial 59: LR=0.026978, SigmaM=0.1093, InitM=0.010881\n"
     ]
    },
    {
     "name": "stderr",
     "output_type": "stream",
     "text": [
      "Training Progress: 100%|██████████| 500/500 [00:05<00:00, 85.31it/s, loss=0.000004, elapsed time=0.01, total time=5.87] \n",
      "[I 2025-05-23 09:05:25,303] Trial 59 finished with value: 3.6774831739523113e-06 and parameters: {'learning_rate': 0.02697760756766974, 'sigma_multiplier': 0.10933678530371312, 'initialization_multiplier': 0.010880897864869295}. Best is trial 20 with value: -5.3879348615191955e-05.\n"
     ]
    },
    {
     "name": "stdout",
     "output_type": "stream",
     "text": [
      "Training has not converged after 500 steps\n",
      "Trial 59 final loss: 0.00000368\n",
      "\n",
      "Trial 60: LR=0.017178, SigmaM=1.3468, InitM=0.000137\n"
     ]
    },
    {
     "name": "stderr",
     "output_type": "stream",
     "text": [
      "Training Progress: 100%|██████████| 500/500 [00:04<00:00, 117.83it/s, loss=0.000000, elapsed time=0.01, total time=4.25] \n",
      "[I 2025-05-23 09:05:29,564] Trial 60 finished with value: 3.1334741323991956e-07 and parameters: {'learning_rate': 0.017177745868729215, 'sigma_multiplier': 1.3467979822068061, 'initialization_multiplier': 0.00013743016353598013}. Best is trial 20 with value: -5.3879348615191955e-05.\n"
     ]
    },
    {
     "name": "stdout",
     "output_type": "stream",
     "text": [
      "Training has not converged after 500 steps\n",
      "Trial 60 final loss: 0.00000031\n",
      "\n",
      "Trial 61: LR=0.010784, SigmaM=1.9977, InitM=0.000223\n"
     ]
    },
    {
     "name": "stderr",
     "output_type": "stream",
     "text": [
      "Training Progress: 100%|██████████| 500/500 [00:03<00:00, 125.54it/s, loss=-0.000043, elapsed time=0.01, total time=3.99]\n",
      "[I 2025-05-23 09:05:33,565] Trial 61 finished with value: -4.3192952939197796e-05 and parameters: {'learning_rate': 0.010783738370746502, 'sigma_multiplier': 1.9977057248549508, 'initialization_multiplier': 0.00022336829225071912}. Best is trial 20 with value: -5.3879348615191955e-05.\n"
     ]
    },
    {
     "name": "stdout",
     "output_type": "stream",
     "text": [
      "Training has not converged after 500 steps\n",
      "Trial 61 final loss: -0.00004319\n",
      "\n",
      "Trial 62: LR=0.011043, SigmaM=1.8219, InitM=0.000242\n"
     ]
    },
    {
     "name": "stderr",
     "output_type": "stream",
     "text": [
      "Training Progress: 100%|██████████| 500/500 [00:04<00:00, 124.18it/s, loss=0.000231, elapsed time=0.01, total time=4.04] \n",
      "[I 2025-05-23 09:05:37,609] Trial 62 finished with value: 0.00023085252498382494 and parameters: {'learning_rate': 0.01104329034771626, 'sigma_multiplier': 1.8219281151579423, 'initialization_multiplier': 0.0002421091784393124}. Best is trial 20 with value: -5.3879348615191955e-05.\n"
     ]
    },
    {
     "name": "stdout",
     "output_type": "stream",
     "text": [
      "Training has not converged after 500 steps\n",
      "Trial 62 final loss: 0.00023085\n",
      "\n",
      "Trial 63: LR=0.003946, SigmaM=1.9105, InitM=0.000191\n"
     ]
    },
    {
     "name": "stderr",
     "output_type": "stream",
     "text": [
      "Training Progress: 100%|██████████| 500/500 [00:04<00:00, 124.52it/s, loss=-0.000002, elapsed time=0.01, total time=4.03]\n",
      "[I 2025-05-23 09:05:41,642] Trial 63 finished with value: -1.565529220844384e-06 and parameters: {'learning_rate': 0.003946437147767291, 'sigma_multiplier': 1.9104672686129676, 'initialization_multiplier': 0.00019055405484594504}. Best is trial 20 with value: -5.3879348615191955e-05.\n"
     ]
    },
    {
     "name": "stdout",
     "output_type": "stream",
     "text": [
      "Training has not converged after 500 steps\n",
      "Trial 63 final loss: -0.00000157\n",
      "\n",
      "Trial 64: LR=0.006114, SigmaM=1.4303, InitM=0.000363\n"
     ]
    },
    {
     "name": "stderr",
     "output_type": "stream",
     "text": [
      "Training Progress: 100%|██████████| 500/500 [00:04<00:00, 119.70it/s, loss=-0.000054, elapsed time=0.01, total time=4.19]\n",
      "[I 2025-05-23 09:05:45,836] Trial 64 finished with value: -5.435174134498963e-05 and parameters: {'learning_rate': 0.006114456141525013, 'sigma_multiplier': 1.430253446545476, 'initialization_multiplier': 0.0003626481391084439}. Best is trial 64 with value: -5.435174134498963e-05.\n"
     ]
    },
    {
     "name": "stdout",
     "output_type": "stream",
     "text": [
      "Training has not converged after 500 steps\n",
      "Trial 64 final loss: -0.00005435\n",
      "\n",
      "Trial 65: LR=0.006312, SigmaM=1.9831, InitM=0.000384\n"
     ]
    },
    {
     "name": "stderr",
     "output_type": "stream",
     "text": [
      "Training Progress: 100%|██████████| 500/500 [00:04<00:00, 122.62it/s, loss=-0.000035, elapsed time=0.01, total time=4.09]\n",
      "[I 2025-05-23 09:05:49,931] Trial 65 finished with value: -3.49727377388286e-05 and parameters: {'learning_rate': 0.0063117231889634065, 'sigma_multiplier': 1.9830783036183415, 'initialization_multiplier': 0.00038418805046688386}. Best is trial 64 with value: -5.435174134498963e-05.\n"
     ]
    },
    {
     "name": "stdout",
     "output_type": "stream",
     "text": [
      "Training has not converged after 500 steps\n",
      "Trial 65 final loss: -0.00003497\n",
      "\n",
      "Trial 66: LR=0.002050, SigmaM=1.4774, InitM=0.000160\n"
     ]
    },
    {
     "name": "stderr",
     "output_type": "stream",
     "text": [
      "Training Progress: 100%|██████████| 500/500 [00:04<00:00, 118.63it/s, loss=0.000215, elapsed time=0.01, total time=4.23]\n",
      "[I 2025-05-23 09:05:54,167] Trial 66 finished with value: 0.00021455841015206935 and parameters: {'learning_rate': 0.0020497221787984876, 'sigma_multiplier': 1.4773969171980859, 'initialization_multiplier': 0.0001596407623248203}. Best is trial 64 with value: -5.435174134498963e-05.\n"
     ]
    },
    {
     "name": "stdout",
     "output_type": "stream",
     "text": [
      "Training has not converged after 500 steps\n",
      "Trial 66 final loss: 0.00021456\n",
      "\n",
      "Trial 67: LR=0.006204, SigmaM=1.2445, InitM=0.000405\n"
     ]
    },
    {
     "name": "stderr",
     "output_type": "stream",
     "text": [
      "Training Progress: 100%|██████████| 500/500 [00:04<00:00, 115.74it/s, loss=0.000211, elapsed time=0.01, total time=4.33] \n",
      "[I 2025-05-23 09:05:58,503] Trial 67 finished with value: 0.00021092353673091702 and parameters: {'learning_rate': 0.006203843045390846, 'sigma_multiplier': 1.2445398341602796, 'initialization_multiplier': 0.0004054074572329758}. Best is trial 64 with value: -5.435174134498963e-05.\n"
     ]
    },
    {
     "name": "stdout",
     "output_type": "stream",
     "text": [
      "Training has not converged after 500 steps\n",
      "Trial 67 final loss: 0.00021092\n",
      "\n",
      "Trial 68: LR=0.003446, SigmaM=1.9394, InitM=0.000111\n"
     ]
    },
    {
     "name": "stderr",
     "output_type": "stream",
     "text": [
      "Training Progress: 100%|██████████| 500/500 [00:03<00:00, 125.21it/s, loss=-0.000003, elapsed time=0.01, total time=4]   \n",
      "[I 2025-05-23 09:06:02,514] Trial 68 finished with value: -2.8779271683353436e-06 and parameters: {'learning_rate': 0.0034456476383279127, 'sigma_multiplier': 1.9394127208790461, 'initialization_multiplier': 0.00011053045187016296}. Best is trial 64 with value: -5.435174134498963e-05.\n"
     ]
    },
    {
     "name": "stdout",
     "output_type": "stream",
     "text": [
      "Training has not converged after 500 steps\n",
      "Trial 68 final loss: -0.00000288\n",
      "\n",
      "Trial 69: LR=0.006020, SigmaM=1.7758, InitM=0.000221\n"
     ]
    },
    {
     "name": "stderr",
     "output_type": "stream",
     "text": [
      "Training Progress: 100%|██████████| 500/500 [00:04<00:00, 123.73it/s, loss=0.000073, elapsed time=0.01, total time=4.05] \n",
      "[I 2025-05-23 09:06:06,572] Trial 69 finished with value: 7.254820088931715e-05 and parameters: {'learning_rate': 0.0060202002127042464, 'sigma_multiplier': 1.7757556728049886, 'initialization_multiplier': 0.00022069384052025073}. Best is trial 64 with value: -5.435174134498963e-05.\n"
     ]
    },
    {
     "name": "stdout",
     "output_type": "stream",
     "text": [
      "Training has not converged after 500 steps\n",
      "Trial 69 final loss: 0.00007255\n",
      "\n",
      "Trial 70: LR=0.002383, SigmaM=1.6440, InitM=0.000931\n"
     ]
    },
    {
     "name": "stderr",
     "output_type": "stream",
     "text": [
      "Training Progress: 100%|██████████| 500/500 [00:04<00:00, 122.74it/s, loss=0.000005, elapsed time=0.01, total time=4.08] \n",
      "[I 2025-05-23 09:06:10,663] Trial 70 finished with value: 4.718912990043201e-06 and parameters: {'learning_rate': 0.0023829302194022725, 'sigma_multiplier': 1.6439536683979086, 'initialization_multiplier': 0.0009308910435464559}. Best is trial 64 with value: -5.435174134498963e-05.\n"
     ]
    },
    {
     "name": "stdout",
     "output_type": "stream",
     "text": [
      "Training has not converged after 500 steps\n",
      "Trial 70 final loss: 0.00000472\n",
      "\n",
      "Trial 71: LR=0.037422, SigmaM=1.9966, InitM=0.000583\n"
     ]
    },
    {
     "name": "stderr",
     "output_type": "stream",
     "text": [
      "Training Progress: 100%|██████████| 500/500 [00:03<00:00, 125.16it/s, loss=-0.000033, elapsed time=0.01, total time=4.01]\n",
      "[I 2025-05-23 09:06:14,675] Trial 71 finished with value: -3.2701747809874846e-05 and parameters: {'learning_rate': 0.037421566967840304, 'sigma_multiplier': 1.9966228146895741, 'initialization_multiplier': 0.0005833442192526192}. Best is trial 64 with value: -5.435174134498963e-05.\n"
     ]
    },
    {
     "name": "stdout",
     "output_type": "stream",
     "text": [
      "Training has not converged after 500 steps\n",
      "Trial 71 final loss: -0.00003270\n",
      "\n",
      "Trial 72: LR=0.036753, SigmaM=1.8436, InitM=0.000315\n"
     ]
    },
    {
     "name": "stderr",
     "output_type": "stream",
     "text": [
      "Training Progress: 100%|██████████| 500/500 [00:04<00:00, 124.34it/s, loss=-0.000010, elapsed time=0.01, total time=4.03]\n",
      "[I 2025-05-23 09:06:18,715] Trial 72 finished with value: -1.0371881558544487e-05 and parameters: {'learning_rate': 0.03675303386750142, 'sigma_multiplier': 1.8436105251262158, 'initialization_multiplier': 0.0003154658441176718}. Best is trial 64 with value: -5.435174134498963e-05.\n"
     ]
    },
    {
     "name": "stdout",
     "output_type": "stream",
     "text": [
      "Training has not converged after 500 steps\n",
      "Trial 72 final loss: -0.00001037\n",
      "\n",
      "Trial 73: LR=0.024462, SigmaM=1.4390, InitM=0.000583\n"
     ]
    },
    {
     "name": "stderr",
     "output_type": "stream",
     "text": [
      "Training Progress: 100%|██████████| 500/500 [00:04<00:00, 120.05it/s, loss=0.000080, elapsed time=0.01, total time=4.18] \n",
      "[I 2025-05-23 09:06:22,900] Trial 73 finished with value: 8.003400803697853e-05 and parameters: {'learning_rate': 0.024461820346544996, 'sigma_multiplier': 1.4390031255156623, 'initialization_multiplier': 0.0005825146955367404}. Best is trial 64 with value: -5.435174134498963e-05.\n"
     ]
    },
    {
     "name": "stdout",
     "output_type": "stream",
     "text": [
      "Training has not converged after 500 steps\n",
      "Trial 73 final loss: 0.00008003\n",
      "\n",
      "Trial 74: LR=0.064509, SigmaM=1.9413, InitM=0.001426\n"
     ]
    },
    {
     "name": "stderr",
     "output_type": "stream",
     "text": [
      "Training Progress: 100%|██████████| 500/500 [00:03<00:00, 125.36it/s, loss=0.000017, elapsed time=0.01, total time=4]    \n",
      "[I 2025-05-23 09:06:26,905] Trial 74 finished with value: 1.7283568090386155e-05 and parameters: {'learning_rate': 0.0645086615407973, 'sigma_multiplier': 1.9412921804467411, 'initialization_multiplier': 0.0014255517727449329}. Best is trial 64 with value: -5.435174134498963e-05.\n"
     ]
    },
    {
     "name": "stdout",
     "output_type": "stream",
     "text": [
      "Training has not converged after 500 steps\n",
      "Trial 74 final loss: 0.00001728\n",
      "\n",
      "Trial 75: LR=0.018871, SigmaM=1.5719, InitM=0.002862\n"
     ]
    },
    {
     "name": "stderr",
     "output_type": "stream",
     "text": [
      "Training Progress: 100%|██████████| 500/500 [00:04<00:00, 119.95it/s, loss=0.000069, elapsed time=0.01, total time=4.18] \n",
      "[I 2025-05-23 09:06:31,091] Trial 75 finished with value: 6.903388140306016e-05 and parameters: {'learning_rate': 0.01887098817347149, 'sigma_multiplier': 1.5719152435422892, 'initialization_multiplier': 0.002861728081758764}. Best is trial 64 with value: -5.435174134498963e-05.\n"
     ]
    },
    {
     "name": "stdout",
     "output_type": "stream",
     "text": [
      "Training has not converged after 500 steps\n",
      "Trial 75 final loss: 0.00006903\n",
      "\n",
      "Trial 76: LR=0.009424, SigmaM=1.9898, InitM=0.000346\n"
     ]
    },
    {
     "name": "stderr",
     "output_type": "stream",
     "text": [
      "Training Progress: 100%|██████████| 500/500 [00:04<00:00, 124.10it/s, loss=-0.000023, elapsed time=0.01, total time=4.04]\n",
      "[I 2025-05-23 09:06:35,137] Trial 76 finished with value: -2.3395130974571695e-05 and parameters: {'learning_rate': 0.009423903323309788, 'sigma_multiplier': 1.9897780706572108, 'initialization_multiplier': 0.00034628060314181066}. Best is trial 64 with value: -5.435174134498963e-05.\n"
     ]
    },
    {
     "name": "stdout",
     "output_type": "stream",
     "text": [
      "Training has not converged after 500 steps\n",
      "Trial 76 final loss: -0.00002340\n",
      "\n",
      "Trial 77: LR=0.035654, SigmaM=1.8873, InitM=0.000851\n"
     ]
    },
    {
     "name": "stderr",
     "output_type": "stream",
     "text": [
      "Training Progress: 100%|██████████| 500/500 [00:04<00:00, 121.33it/s, loss=-0.000076, elapsed time=0.01, total time=4.13]\n",
      "[I 2025-05-23 09:06:39,275] Trial 77 finished with value: -7.619870035450629e-05 and parameters: {'learning_rate': 0.03565447826123861, 'sigma_multiplier': 1.8872646083196813, 'initialization_multiplier': 0.0008508560227705079}. Best is trial 77 with value: -7.619870035450629e-05.\n"
     ]
    },
    {
     "name": "stdout",
     "output_type": "stream",
     "text": [
      "Training has not converged after 500 steps\n",
      "Trial 77 final loss: -0.00007620\n",
      "\n",
      "Trial 78: LR=0.039325, SigmaM=1.8908, InitM=0.000586\n"
     ]
    },
    {
     "name": "stderr",
     "output_type": "stream",
     "text": [
      "Training Progress: 100%|██████████| 500/500 [00:04<00:00, 123.46it/s, loss=0.000091, elapsed time=0.01, total time=4.06] \n",
      "[I 2025-05-23 09:06:43,341] Trial 78 finished with value: 9.120156935092568e-05 and parameters: {'learning_rate': 0.039324881171738775, 'sigma_multiplier': 1.8907971857510453, 'initialization_multiplier': 0.0005858189656490554}. Best is trial 77 with value: -7.619870035450629e-05.\n"
     ]
    },
    {
     "name": "stdout",
     "output_type": "stream",
     "text": [
      "Training has not converged after 500 steps\n",
      "Trial 78 final loss: 0.00009120\n",
      "\n",
      "Trial 79: LR=0.013568, SigmaM=1.8285, InitM=0.000170\n"
     ]
    },
    {
     "name": "stderr",
     "output_type": "stream",
     "text": [
      "Training Progress: 100%|██████████| 500/500 [00:04<00:00, 123.29it/s, loss=0.000041, elapsed time=0.01, total time=4.07] \n",
      "[I 2025-05-23 09:06:47,415] Trial 79 finished with value: 4.070324364871624e-05 and parameters: {'learning_rate': 0.013567528521764063, 'sigma_multiplier': 1.828544209863192, 'initialization_multiplier': 0.0001703552053717264}. Best is trial 77 with value: -7.619870035450629e-05.\n"
     ]
    },
    {
     "name": "stdout",
     "output_type": "stream",
     "text": [
      "Training has not converged after 500 steps\n",
      "Trial 79 final loss: 0.00004070\n",
      "\n",
      "Trial 80: LR=0.031046, SigmaM=1.7194, InitM=0.000261\n"
     ]
    },
    {
     "name": "stderr",
     "output_type": "stream",
     "text": [
      "Training Progress: 100%|██████████| 500/500 [00:04<00:00, 116.46it/s, loss=-0.000007, elapsed time=0.02, total time=4.3] \n",
      "[I 2025-05-23 09:06:51,727] Trial 80 finished with value: -7.470805219158807e-06 and parameters: {'learning_rate': 0.031045878310726947, 'sigma_multiplier': 1.719442712294316, 'initialization_multiplier': 0.00026118733757485296}. Best is trial 77 with value: -7.619870035450629e-05.\n"
     ]
    },
    {
     "name": "stdout",
     "output_type": "stream",
     "text": [
      "Training has not converged after 500 steps\n",
      "Trial 80 final loss: -0.00000747\n",
      "\n",
      "Trial 81: LR=0.050793, SigmaM=1.9050, InitM=0.000757\n"
     ]
    },
    {
     "name": "stderr",
     "output_type": "stream",
     "text": [
      "Training Progress: 100%|██████████| 500/500 [00:04<00:00, 118.75it/s, loss=0.000033, elapsed time=0.01, total time=4.22] \n",
      "[I 2025-05-23 09:06:55,961] Trial 81 finished with value: 3.303437695861783e-05 and parameters: {'learning_rate': 0.050792736376503174, 'sigma_multiplier': 1.9049934924208551, 'initialization_multiplier': 0.0007573100423129921}. Best is trial 77 with value: -7.619870035450629e-05.\n"
     ]
    },
    {
     "name": "stdout",
     "output_type": "stream",
     "text": [
      "Training has not converged after 500 steps\n",
      "Trial 81 final loss: 0.00003303\n",
      "\n",
      "Trial 82: LR=0.098735, SigmaM=1.9488, InitM=0.001740\n"
     ]
    },
    {
     "name": "stderr",
     "output_type": "stream",
     "text": [
      "Training Progress: 100%|██████████| 500/500 [00:04<00:00, 122.17it/s, loss=0.000213, elapsed time=0.01, total time=4.1]  \n",
      "[I 2025-05-23 09:07:00,071] Trial 82 finished with value: 0.00021336449113800934 and parameters: {'learning_rate': 0.09873475399531663, 'sigma_multiplier': 1.9488373790432787, 'initialization_multiplier': 0.0017398809146366094}. Best is trial 77 with value: -7.619870035450629e-05.\n"
     ]
    },
    {
     "name": "stdout",
     "output_type": "stream",
     "text": [
      "Training has not converged after 500 steps\n",
      "Trial 82 final loss: 0.00021336\n",
      "\n",
      "Trial 83: LR=0.056966, SigmaM=1.6774, InitM=0.000388\n"
     ]
    },
    {
     "name": "stderr",
     "output_type": "stream",
     "text": [
      "Training Progress: 100%|██████████| 500/500 [00:04<00:00, 120.64it/s, loss=0.000046, elapsed time=0.01, total time=4.15] \n",
      "[I 2025-05-23 09:07:04,233] Trial 83 finished with value: 4.644371220844416e-05 and parameters: {'learning_rate': 0.056965923566059284, 'sigma_multiplier': 1.6773683047997514, 'initialization_multiplier': 0.0003881813219037624}. Best is trial 77 with value: -7.619870035450629e-05.\n"
     ]
    },
    {
     "name": "stdout",
     "output_type": "stream",
     "text": [
      "Training has not converged after 500 steps\n",
      "Trial 83 final loss: 0.00004644\n",
      "\n",
      "Trial 84: LR=0.026306, SigmaM=1.5223, InitM=0.000532\n"
     ]
    },
    {
     "name": "stderr",
     "output_type": "stream",
     "text": [
      "Training Progress: 100%|██████████| 500/500 [00:04<00:00, 118.18it/s, loss=0.000106, elapsed time=0.01, total time=4.24] \n",
      "[I 2025-05-23 09:07:08,482] Trial 84 finished with value: 0.00010571789564891285 and parameters: {'learning_rate': 0.02630569578683083, 'sigma_multiplier': 1.5223049661083954, 'initialization_multiplier': 0.0005323661697170454}. Best is trial 77 with value: -7.619870035450629e-05.\n"
     ]
    },
    {
     "name": "stdout",
     "output_type": "stream",
     "text": [
      "Training has not converged after 500 steps\n",
      "Trial 84 final loss: 0.00010572\n",
      "\n",
      "Trial 85: LR=0.016271, SigmaM=1.9995, InitM=0.000878\n"
     ]
    },
    {
     "name": "stderr",
     "output_type": "stream",
     "text": [
      "Training Progress: 100%|██████████| 500/500 [00:03<00:00, 125.06it/s, loss=-0.000005, elapsed time=0.01, total time=4.01]\n",
      "[I 2025-05-23 09:07:12,497] Trial 85 finished with value: -4.628905383486485e-06 and parameters: {'learning_rate': 0.016271266318762984, 'sigma_multiplier': 1.9994716555230765, 'initialization_multiplier': 0.000877785489841276}. Best is trial 77 with value: -7.619870035450629e-05.\n"
     ]
    },
    {
     "name": "stdout",
     "output_type": "stream",
     "text": [
      "Training has not converged after 500 steps\n",
      "Trial 85 final loss: -0.00000463\n",
      "\n",
      "Trial 86: LR=0.041294, SigmaM=1.8516, InitM=0.008316\n"
     ]
    },
    {
     "name": "stderr",
     "output_type": "stream",
     "text": [
      "Training Progress: 100%|██████████| 500/500 [00:04<00:00, 123.01it/s, loss=0.000052, elapsed time=0.01, total time=4.07] \n",
      "[I 2025-05-23 09:07:16,579] Trial 86 finished with value: 5.237043015386175e-05 and parameters: {'learning_rate': 0.04129431172866698, 'sigma_multiplier': 1.851639251885855, 'initialization_multiplier': 0.00831600602713101}. Best is trial 77 with value: -7.619870035450629e-05.\n"
     ]
    },
    {
     "name": "stdout",
     "output_type": "stream",
     "text": [
      "Training has not converged after 500 steps\n",
      "Trial 86 final loss: 0.00005237\n",
      "\n",
      "Trial 87: LR=0.023117, SigmaM=1.7694, InitM=0.001053\n"
     ]
    },
    {
     "name": "stderr",
     "output_type": "stream",
     "text": [
      "Training Progress: 100%|██████████| 500/500 [00:04<00:00, 121.79it/s, loss=0.000040, elapsed time=0.01, total time=4.12] \n",
      "[I 2025-05-23 09:07:20,702] Trial 87 finished with value: 3.972046780315561e-05 and parameters: {'learning_rate': 0.02311681398655843, 'sigma_multiplier': 1.7693788265362278, 'initialization_multiplier': 0.0010526422357383957}. Best is trial 77 with value: -7.619870035450629e-05.\n"
     ]
    },
    {
     "name": "stdout",
     "output_type": "stream",
     "text": [
      "Training has not converged after 500 steps\n",
      "Trial 87 final loss: 0.00003972\n",
      "\n",
      "Trial 88: LR=0.008542, SigmaM=1.6033, InitM=0.051833\n"
     ]
    },
    {
     "name": "stderr",
     "output_type": "stream",
     "text": [
      "Training Progress: 100%|██████████| 500/500 [00:04<00:00, 122.12it/s, loss=0.000049, elapsed time=0.01, total time=4.1]  \n",
      "[I 2025-05-23 09:07:24,815] Trial 88 finished with value: 4.9070062679193666e-05 and parameters: {'learning_rate': 0.008541704933719344, 'sigma_multiplier': 1.603332812233089, 'initialization_multiplier': 0.051832909879515644}. Best is trial 77 with value: -7.619870035450629e-05.\n"
     ]
    },
    {
     "name": "stdout",
     "output_type": "stream",
     "text": [
      "Training has not converged after 500 steps\n",
      "Trial 88 final loss: 0.00004907\n",
      "\n",
      "Trial 89: LR=0.004671, SigmaM=1.0856, InitM=0.026410\n"
     ]
    },
    {
     "name": "stderr",
     "output_type": "stream",
     "text": [
      "Training Progress: 100%|██████████| 500/500 [00:04<00:00, 112.21it/s, loss=0.000147, elapsed time=0.01, total time=4.47]\n",
      "[I 2025-05-23 09:07:29,288] Trial 89 finished with value: 0.00014662905427207564 and parameters: {'learning_rate': 0.004671480019144065, 'sigma_multiplier': 1.0856168741689924, 'initialization_multiplier': 0.026410088697853735}. Best is trial 77 with value: -7.619870035450629e-05.\n"
     ]
    },
    {
     "name": "stdout",
     "output_type": "stream",
     "text": [
      "Training has not converged after 500 steps\n",
      "Trial 89 final loss: 0.00014663\n",
      "\n",
      "Trial 90: LR=0.006841, SigmaM=1.8871, InitM=0.003629\n"
     ]
    },
    {
     "name": "stderr",
     "output_type": "stream",
     "text": [
      "Training Progress: 100%|██████████| 500/500 [00:04<00:00, 124.10it/s, loss=0.000052, elapsed time=0.01, total time=4.04] \n",
      "[I 2025-05-23 09:07:33,335] Trial 90 finished with value: 5.240505216085211e-05 and parameters: {'learning_rate': 0.0068405942945682615, 'sigma_multiplier': 1.8870622570498843, 'initialization_multiplier': 0.003629434674899777}. Best is trial 77 with value: -7.619870035450629e-05.\n"
     ]
    },
    {
     "name": "stdout",
     "output_type": "stream",
     "text": [
      "Training has not converged after 500 steps\n",
      "Trial 90 final loss: 0.00005241\n",
      "\n",
      "Trial 91: LR=0.009172, SigmaM=1.9667, InitM=0.000354\n"
     ]
    },
    {
     "name": "stderr",
     "output_type": "stream",
     "text": [
      "Training Progress: 100%|██████████| 500/500 [00:04<00:00, 122.39it/s, loss=-0.000095, elapsed time=0.01, total time=4.1] \n",
      "[I 2025-05-23 09:07:37,438] Trial 91 finished with value: -9.512582234126067e-05 and parameters: {'learning_rate': 0.009172089519608987, 'sigma_multiplier': 1.9666857648128913, 'initialization_multiplier': 0.0003543470455562567}. Best is trial 91 with value: -9.512582234126067e-05.\n"
     ]
    },
    {
     "name": "stdout",
     "output_type": "stream",
     "text": [
      "Training has not converged after 500 steps\n",
      "Trial 91 final loss: -0.00009513\n",
      "\n",
      "Trial 92: LR=0.031469, SigmaM=1.9375, InitM=0.000217\n"
     ]
    },
    {
     "name": "stderr",
     "output_type": "stream",
     "text": [
      "Training Progress: 100%|██████████| 500/500 [00:04<00:00, 122.12it/s, loss=-0.000026, elapsed time=0.01, total time=4.1] \n",
      "[I 2025-05-23 09:07:41,551] Trial 92 finished with value: -2.642878087045969e-05 and parameters: {'learning_rate': 0.031469308665593186, 'sigma_multiplier': 1.9375021062218483, 'initialization_multiplier': 0.0002166552695769091}. Best is trial 91 with value: -9.512582234126067e-05.\n"
     ]
    },
    {
     "name": "stdout",
     "output_type": "stream",
     "text": [
      "Training has not converged after 500 steps\n",
      "Trial 92 final loss: -0.00002643\n",
      "\n",
      "Trial 93: LR=0.012678, SigmaM=1.8180, InitM=0.000362\n"
     ]
    },
    {
     "name": "stderr",
     "output_type": "stream",
     "text": [
      "Training Progress: 100%|██████████| 500/500 [00:04<00:00, 123.12it/s, loss=-0.000072, elapsed time=0.01, total time=4.07]\n",
      "[I 2025-05-23 09:07:45,631] Trial 93 finished with value: -7.156326452242062e-05 and parameters: {'learning_rate': 0.012677905803190465, 'sigma_multiplier': 1.8180019380253143, 'initialization_multiplier': 0.000361557051941846}. Best is trial 91 with value: -9.512582234126067e-05.\n"
     ]
    },
    {
     "name": "stdout",
     "output_type": "stream",
     "text": [
      "Training has not converged after 500 steps\n",
      "Trial 93 final loss: -0.00007156\n",
      "\n",
      "Trial 94: LR=0.005590, SigmaM=1.8073, InitM=0.000307\n"
     ]
    },
    {
     "name": "stderr",
     "output_type": "stream",
     "text": [
      "Training Progress: 100%|██████████| 500/500 [00:04<00:00, 120.66it/s, loss=0.000065, elapsed time=0.01, total time=4.16] \n",
      "[I 2025-05-23 09:07:49,793] Trial 94 finished with value: 6.5349166411995e-05 and parameters: {'learning_rate': 0.0055902386532291175, 'sigma_multiplier': 1.8072580094415645, 'initialization_multiplier': 0.00030651615260152745}. Best is trial 91 with value: -9.512582234126067e-05.\n"
     ]
    },
    {
     "name": "stdout",
     "output_type": "stream",
     "text": [
      "Training has not converged after 500 steps\n",
      "Trial 94 final loss: 0.00006535\n",
      "\n",
      "Trial 95: LR=0.013232, SigmaM=1.9543, InitM=0.000406\n"
     ]
    },
    {
     "name": "stderr",
     "output_type": "stream",
     "text": [
      "Training Progress: 100%|██████████| 500/500 [00:04<00:00, 122.45it/s, loss=-0.000062, elapsed time=0.01, total time=4.09]\n",
      "[I 2025-05-23 09:07:53,896] Trial 95 finished with value: -6.185508506991262e-05 and parameters: {'learning_rate': 0.013231827294791661, 'sigma_multiplier': 1.9542529029994051, 'initialization_multiplier': 0.0004062121952745381}. Best is trial 91 with value: -9.512582234126067e-05.\n"
     ]
    },
    {
     "name": "stdout",
     "output_type": "stream",
     "text": [
      "Training has not converged after 500 steps\n",
      "Trial 95 final loss: -0.00006186\n",
      "\n",
      "Trial 96: LR=0.012795, SigmaM=1.8671, InitM=0.000415\n"
     ]
    },
    {
     "name": "stderr",
     "output_type": "stream",
     "text": [
      "Training Progress: 100%|██████████| 500/500 [00:04<00:00, 124.63it/s, loss=0.000105, elapsed time=0.01, total time=4.02] \n",
      "[I 2025-05-23 09:07:57,926] Trial 96 finished with value: 0.00010509249773820227 and parameters: {'learning_rate': 0.012795013637461087, 'sigma_multiplier': 1.8671323953511778, 'initialization_multiplier': 0.000414771062226652}. Best is trial 91 with value: -9.512582234126067e-05.\n"
     ]
    },
    {
     "name": "stdout",
     "output_type": "stream",
     "text": [
      "Training has not converged after 500 steps\n",
      "Trial 96 final loss: 0.00010509\n",
      "\n",
      "Trial 97: LR=0.008446, SigmaM=1.7383, InitM=0.000139\n"
     ]
    },
    {
     "name": "stderr",
     "output_type": "stream",
     "text": [
      "Training Progress: 100%|██████████| 500/500 [00:04<00:00, 123.05it/s, loss=-0.000082, elapsed time=0.01, total time=4.08]\n",
      "[I 2025-05-23 09:08:02,015] Trial 97 finished with value: -8.162108576507118e-05 and parameters: {'learning_rate': 0.008446048770676189, 'sigma_multiplier': 1.738296769597301, 'initialization_multiplier': 0.00013925370716704196}. Best is trial 91 with value: -9.512582234126067e-05.\n"
     ]
    },
    {
     "name": "stdout",
     "output_type": "stream",
     "text": [
      "Training has not converged after 500 steps\n",
      "Trial 97 final loss: -0.00008162\n",
      "\n",
      "Trial 98: LR=0.015396, SigmaM=1.6939, InitM=0.000112\n"
     ]
    },
    {
     "name": "stderr",
     "output_type": "stream",
     "text": [
      "Training Progress: 100%|██████████| 500/500 [00:04<00:00, 122.86it/s, loss=0.000026, elapsed time=0.01, total time=4.08] \n",
      "[I 2025-05-23 09:08:06,101] Trial 98 finished with value: 2.586749315852659e-05 and parameters: {'learning_rate': 0.015396147929530986, 'sigma_multiplier': 1.693902540383555, 'initialization_multiplier': 0.00011152026308095611}. Best is trial 91 with value: -9.512582234126067e-05.\n"
     ]
    },
    {
     "name": "stdout",
     "output_type": "stream",
     "text": [
      "Training has not converged after 500 steps\n",
      "Trial 98 final loss: 0.00002587\n",
      "\n",
      "Trial 99: LR=0.009724, SigmaM=1.7584, InitM=0.000150\n"
     ]
    },
    {
     "name": "stderr",
     "output_type": "stream",
     "text": [
      "Training Progress: 100%|██████████| 500/500 [00:04<00:00, 122.72it/s, loss=-0.000003, elapsed time=0.01, total time=4.09]\n",
      "[I 2025-05-23 09:08:10,194] Trial 99 finished with value: -2.8655283250403443e-06 and parameters: {'learning_rate': 0.009723521752115692, 'sigma_multiplier': 1.758381274989455, 'initialization_multiplier': 0.0001498108046002829}. Best is trial 91 with value: -9.512582234126067e-05.\n"
     ]
    },
    {
     "name": "stdout",
     "output_type": "stream",
     "text": [
      "Training has not converged after 500 steps\n",
      "Trial 99 final loss: -0.00000287\n"
     ]
    }
   ],
   "source": [
    "study = optuna.create_study(direction=\"minimize\")\n",
    "study.optimize(objective, n_trials=1000) "
   ]
  },
  {
   "cell_type": "code",
   "execution_count": 7,
   "metadata": {},
   "outputs": [
    {
     "name": "stdout",
     "output_type": "stream",
     "text": [
      "\n",
      "Optimization Finished!\n",
      "Best hyperparameters found: {'learning_rate': 0.009172089519608987, 'sigma_multiplier': 1.9666857648128913, 'initialization_multiplier': 0.0003543470455562567}\n",
      "Best loss value: -9.512582234126067e-05\n"
     ]
    }
   ],
   "source": [
    "best_hyperparams = study.best_params\n",
    "best_loss_value = study.best_value\n",
    "\n",
    "print(\"\\nOptimization Finished!\")\n",
    "print(f\"Best hyperparameters found: {best_hyperparams}\")\n",
    "print(f\"Best loss value: {best_loss_value}\")"
   ]
  },
  {
   "cell_type": "code",
   "execution_count": null,
   "metadata": {},
   "outputs": [
    {
     "name": "stdout",
     "output_type": "stream",
     "text": [
      "\n",
      "Running full training with best hyperparameters...\n",
      "Training with: LR=0.009172, SigmaM=1.9667, InitM=0.000354\n"
     ]
    },
    {
     "name": "stderr",
     "output_type": "stream",
     "text": [
      "Training Progress: 100%|██████████| 2500/2500 [00:46<00:00, 53.20it/s, loss=0.000035, elapsed time=0.02, total time=47]   \n"
     ]
    },
    {
     "name": "stdout",
     "output_type": "stream",
     "text": [
      "Training has not converged after 2500 steps\n",
      "\n",
      "Full training with best params completed.\n",
      "Final loss: 0.00003535\n"
     ]
    }
   ],
   "source": [
    "print(\"\\nRunning full training with best hyperparameters...\")\n",
    "\n",
    "LEARNING_RATE_BEST = best_hyperparams['learning_rate']\n",
    "SIGMA_MULTIPLIER_BEST = best_hyperparams['sigma_multiplier']\n",
    "INITIALIZATION_MULTIPLIER_BEST = best_hyperparams['initialization_multiplier']\n",
    "\n",
    "# Re-initialize components with best hyperparameters\n",
    "sigma_val = median_heuristic(train_ds) * SIGMA_MULTIPLIER_BEST\n",
    "params_init_best = initialize_from_data(gates, jnp.array(train_ds)) * INITIALIZATION_MULTIPLIER_BEST\n",
    "\n",
    "loss_kwarg_best = {\n",
    "    \"params\": params_init_best,\n",
    "    \"iqp_circuit\": circ,\n",
    "    \"ground_truth\": jnp.array(train_ds),\n",
    "    \"sigma\": [sigma_val],\n",
    "    \"n_ops\": 2000, \n",
    "    \"n_samples\": 2000, \n",
    "    \"key\": base_key, \n",
    "}\n",
    "\n",
    "loss_fn_best = genq.mmd_loss_iqp\n",
    "trainer_best = iqp.Trainer(\"Adam\", loss_fn_best, stepsize=LEARNING_RATE_BEST)\n",
    "\n",
    "print(f\"Training with: LR={LEARNING_RATE_BEST:.6f}, SigmaM={SIGMA_MULTIPLIER_BEST:.4f}, InitM={INITIALIZATION_MULTIPLIER_BEST:.6f}\")\n",
    "history_best = trainer_best.train(n_iters=2500, loss_kwargs=loss_kwarg_best, turbo=1) # Original iterations\n",
    "trained_params_best = trainer_best.final_params\n",
    "final_loss_best_run = trainer_best.losses[-1]\n",
    "\n",
    "print(f\"\\nFull training with best params completed.\")\n",
    "print(f\"Final loss: {final_loss_best_run:.8f}\")"
   ]
  }
 ],
 "metadata": {
  "kernelspec": {
   "display_name": ".venv",
   "language": "python",
   "name": "python3"
  },
  "language_info": {
   "codemirror_mode": {
    "name": "ipython",
    "version": 3
   },
   "file_extension": ".py",
   "mimetype": "text/x-python",
   "name": "python",
   "nbconvert_exporter": "python",
   "pygments_lexer": "ipython3",
   "version": "3.12.6"
  }
 },
 "nbformat": 4,
 "nbformat_minor": 2
}
