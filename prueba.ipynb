{
 "cells": [
  {
   "cell_type": "code",
   "execution_count": 7,
   "metadata": {},
   "outputs": [],
   "source": [
    "import pennylane as qml\n",
    "import matplotlib.pyplot as plt\n",
    "import numpy as np\n",
    "from jax import random \n",
    "import iqpopt as iqp\n",
    "import iqpopt.gen_qml as genq\n",
    "from iqpopt.gen_qml.utils import median_heuristic\n",
    "import jax\n",
    "import jax.numpy as jnp"
   ]
  },
  {
   "cell_type": "code",
   "execution_count": 1,
   "metadata": {},
   "outputs": [],
   "source": [
    "from datasets.latent_mnist import LatentDataset\n",
    "\n",
    "# Example of loading a saved dataset\n",
    "latent_file = './datasets/mnist_latent_train.npy'\n",
    "label_file = './datasets/mnist_labels_train.npy'\n",
    "dataset = LatentDataset(latent_file, label_file, batch_size=1)\n",
    "\n",
    "ds = dataset.load()"
   ]
  },
  {
   "cell_type": "markdown",
   "metadata": {},
   "source": [
    "Crear instancia del AutocoderTrainer para poder usar la reconstruction function"
   ]
  },
  {
   "cell_type": "code",
   "execution_count": 8,
   "metadata": {},
   "outputs": [],
   "source": [
    "from src.utils.autoencoder_trainer import AutoencoderTrainer\n",
    "\n",
    "rng = random.PRNGKey(0)\n",
    "binary_vae = model(latents=20)\n",
    "input_shape = (64, 196)\n",
    "learning_rate = 3e-4\n",
    "# Create an instance of the trainer with your binary VAE model\n",
    "trainer = AutoencoderTrainer(binary_vae, learning_rate, rng, input_shape)\n",
    "state = trainer.state\n",
    "params = trainer.params"
   ]
  },
  {
   "cell_type": "code",
   "execution_count": 2,
   "metadata": {},
   "outputs": [],
   "source": [
    "from src.autoencoders.simple_vae import model,Decoder\n",
    "from src.utils.autoencoder_trainer import AutoencoderTrainer\n",
    "from src.utils.autoencoder_manager import get_latent_dataset, restore_model_state, reconstruct\n",
    "\n",
    "binary_vae = model(latents=20)\n",
    "decoder = Decoder()"
   ]
  },
  {
   "cell_type": "code",
   "execution_count": 26,
   "metadata": {},
   "outputs": [
    {
     "name": "stdout",
     "output_type": "stream",
     "text": [
      "Checkpoint restored from directory 'c:\\Users\\marcos.arroyo\\Documents\\GitHub\\Latent-IQP\\weights\\binary_vae_500epoch_3e-4lr\\checkpoint_461'.\n",
      "Weights loaded successfully.\n"
     ]
    }
   ],
   "source": [
    "ckpt_dir = \"weights/binary_vae_500epoch_3e-4lr/checkpoint_461\"\n",
    "state = restore_model_state(ckpt_dir, state)\n",
    "\n",
    "print(\"Weights loaded successfully.\")"
   ]
  },
  {
   "cell_type": "code",
   "execution_count": null,
   "metadata": {},
   "outputs": [
    {
     "name": "stdout",
     "output_type": "stream",
     "text": [
      "[<tf.Tensor: shape=(1,), dtype=int64, numpy=array([3])>, <tf.Tensor: shape=(1,), dtype=int64, numpy=array([2])>, <tf.Tensor: shape=(1,), dtype=int64, numpy=array([2])>, <tf.Tensor: shape=(1,), dtype=int64, numpy=array([8])>, <tf.Tensor: shape=(1,), dtype=int64, numpy=array([9])>, <tf.Tensor: shape=(1,), dtype=int64, numpy=array([4])>, <tf.Tensor: shape=(1,), dtype=int64, numpy=array([2])>, <tf.Tensor: shape=(1,), dtype=int64, numpy=array([9])>, <tf.Tensor: shape=(1,), dtype=int64, numpy=array([4])>, <tf.Tensor: shape=(1,), dtype=int64, numpy=array([4])>]\n"
     ]
    }
   ],
   "source": [
    "dataset = ds.take(10)\n",
    "train = []\n",
    "lab = []\n",
    "for latent, label in dataset:\n",
    "    train.append(latent)\n",
    "    lab.append(label)"
   ]
  },
  {
   "cell_type": "code",
   "execution_count": 25,
   "metadata": {},
   "outputs": [
    {
     "name": "stdout",
     "output_type": "stream",
     "text": [
      "reconstructing only based on  tf.Tensor([[0 0 0 0 0 0 1 0 1 1 0 1 1 1 0 0 1 0 1 0]], shape=(1, 20), dtype=int64)\n",
      "tf.Tensor([2], shape=(1,), dtype=int64)\n",
      "(1, 196)\n",
      "(14, 14)\n"
     ]
    },
    {
     "data": {
      "image/png": "[encoded data removed]",
      "text/plain": [
       "<Figure size 640x480 with 2 Axes>"
      ]
     },
     "metadata": {},
     "output_type": "display_data"
    }
   ],
   "source": [
    "rec = reconstruct(binary_vae, params, train[2])\n",
    "print(lab[2])\n",
    "print(rec.shape)\n",
    "rec = rec.reshape(14,14)\n",
    "print(rec.shape)\n",
    "# Plotting the matrix\n",
    "plt.imshow(rec, cmap='gray', interpolation='nearest')\n",
    "plt.colorbar()  # Add color bar to the side\n",
    "plt.title('reconstruction')\n",
    "plt.show()"
   ]
  }
 ],
 "metadata": {
  "kernelspec": {
   "display_name": "entorno312",
   "language": "python",
   "name": "python3"
  },
  "language_info": {
   "codemirror_mode": {
    "name": "ipython",
    "version": 3
   },
   "file_extension": ".py",
   "mimetype": "text/x-python",
   "name": "python",
   "nbconvert_exporter": "python",
   "pygments_lexer": "ipython3",
   "version": "3.12.9"
  }
 },
 "nbformat": 4,
 "nbformat_minor": 2
}
