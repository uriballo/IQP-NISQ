{
 "cells": [
  {
   "cell_type": "code",
   "execution_count": 1,
   "metadata": {},
   "outputs": [
    {
     "name": "stdout",
     "output_type": "stream",
     "text": [
      "Checkpoint restored from directory '/Users/uribagi/Documents/GitHub/Latent-IQP/weights/binary_vae_500epoch_3e-5lr/checkpoint_500'.\n"
     ]
    },
    {
     "name": "stderr",
     "output_type": "stream",
     "text": [
      "/Users/uribagi/Documents/GitHub/Latent-IQP/.venv/lib/python3.12/site-packages/orbax/checkpoint/_src/serialization/type_handlers.py:1250: UserWarning: Couldn't find sharding info under RestoreArgs. Populating sharding info from sharding file. Please note restoration time will be slightly increased due to reading from file instead of directly from RestoreArgs. Note also that this option is unsafe when restoring on a different topology than the checkpoint was saved with.\n",
      "  warnings.warn(\n"
     ]
    }
   ],
   "source": [
    "from jax import random\n",
    "from datasets.mnist import MNISTDataset\n",
    "from src.autoencoders.simple_vae import model\n",
    "from src.utils.autoencoder_trainer import AutoencoderTrainer\n",
    "from src.utils.autoencoder_manager import  restore_model_state\n",
    "\n",
    "batch_size = 128\n",
    "latent_dim = 20\n",
    "rng = random.PRNGKey(0)\n",
    "binary_vae = model(latents=latent_dim)\n",
    "input_shape = (batch_size, 14, 14, 1)\n",
    "learning_rate = 3e-5\n",
    "\n",
    "train_dataset = MNISTDataset(split='train', batch_size=batch_size, image_size=(14, 14)).load()\n",
    "test_dataset = MNISTDataset(split='test', batch_size=batch_size, image_size=(14, 14)).load()\n",
    "trainer = AutoencoderTrainer(binary_vae, learning_rate, rng, input_shape)\n",
    "\n",
    "state = restore_model_state('/Users/uribagi/Documents/GitHub/Latent-IQP/weights/binary_vae_500epoch_3e-5lr/checkpoint_500', trainer.state)\n",
    "params = trainer.params"
   ]
  },
  {
   "cell_type": "code",
   "execution_count": 2,
   "metadata": {},
   "outputs": [],
   "source": [
    "from src.utils.autoencoder_manager import get_latent_dataset\n",
    "\n",
    "l_data, labels = get_latent_dataset(binary_vae, params, train_dataset, batch_size)"
   ]
  },
  {
   "cell_type": "code",
   "execution_count": 7,
   "metadata": {},
   "outputs": [
    {
     "data": {
      "text/plain": [
       "array([1, 1, 1, 0, 1, 1, 0, 0, 0, 1, 1, 0, 0, 1, 0, 1, 1, 0, 0, 1])"
      ]
     },
     "execution_count": 7,
     "metadata": {},
     "output_type": "execute_result"
    }
   ],
   "source": [
    "l_data[0]"
   ]
  },
  {
   "cell_type": "code",
   "execution_count": 12,
   "metadata": {},
   "outputs": [],
   "source": [
    "l1 = l_data[10]"
   ]
  },
  {
   "cell_type": "code",
   "execution_count": 13,
   "metadata": {},
   "outputs": [
    {
     "data": {
      "image/png": "[encoded data removed]",
      "text/plain": [
       "<Figure size 640x480 with 1 Axes>"
      ]
     },
     "metadata": {},
     "output_type": "display_data"
    }
   ],
   "source": [
    "from src.utils.autoencoder_manager import generate_from_latent\n",
    "\n",
    "generate_from_latent(binary_vae, params, l1, (14,14,1), True);"
   ]
  }
 ],
 "metadata": {
  "kernelspec": {
   "display_name": ".venv",
   "language": "python",
   "name": "python3"
  },
  "language_info": {
   "codemirror_mode": {
    "name": "ipython",
    "version": 3
   },
   "file_extension": ".py",
   "mimetype": "text/x-python",
   "name": "python",
   "nbconvert_exporter": "python",
   "pygments_lexer": "ipython3",
   "version": "3.12.6"
  }
 },
 "nbformat": 4,
 "nbformat_minor": 2
}
