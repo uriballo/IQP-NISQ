{
 "cells": [
  {
   "cell_type": "code",
   "execution_count": 3,
   "metadata": {},
   "outputs": [
    {
     "name": "stdout",
     "output_type": "stream",
     "text": [
      "Checkpoint restored from directory '/home/uribagi/Latent-IQP/weights/binary_vae_500epoch_3e-5lr/checkpoint_500'.\n"
     ]
    },
    {
     "name": "stderr",
     "output_type": "stream",
     "text": [
      "/home/uribagi/Latent-IQP/.venv/lib/python3.12/site-packages/orbax/checkpoint/_src/serialization/type_handlers.py:1251: UserWarning: Couldn't find sharding info under RestoreArgs. Populating sharding info from sharding file. Please note restoration time will be slightly increased due to reading from file instead of directly from RestoreArgs. Note also that this option is unsafe when restoring on a different topology than the checkpoint was saved with.\n",
      "  warnings.warn(\n"
     ]
    }
   ],
   "source": [
    "from jax import random\n",
    "from datasets.mnist import MNISTDataset\n",
    "from src.autoencoders.simple_vae import model\n",
    "from src.utils.autoencoder_trainer import AutoencoderTrainer\n",
    "from src.utils.autoencoder_manager import  restore_model_state\n",
    "import numpy as np\n",
    "\n",
    "batch_size = 128\n",
    "latent_dim = 20\n",
    "rng = random.PRNGKey(0)\n",
    "binary_vae = model(latents=latent_dim)\n",
    "input_shape = (batch_size, 14, 14, 1)\n",
    "learning_rate = 3e-5\n",
    "\n",
    "train_dataset = MNISTDataset(split='train', batch_size=batch_size, image_size=(14, 14)).load()\n",
    "test_dataset = MNISTDataset(split='test', batch_size=batch_size, image_size=(14, 14)).load()\n",
    "trainer = AutoencoderTrainer(binary_vae, learning_rate, rng, input_shape)\n",
    "\n",
    "state = restore_model_state('./weights/binary_vae_500epoch_3e-5lr/checkpoint_500', trainer.state)\n",
    "params = state.params"
   ]
  },
  {
   "cell_type": "code",
   "execution_count": 4,
   "metadata": {},
   "outputs": [],
   "source": [
    "from src.utils.autoencoder_manager import get_latent_dataset\n",
    "\n",
    "l_data, labels = get_latent_dataset(binary_vae, params, train_dataset, batch_size)\n",
    "lt_data, t_labels = get_latent_dataset(binary_vae, params, test_dataset, batch_size)"
   ]
  },
  {
   "cell_type": "code",
   "execution_count": null,
   "metadata": {},
   "outputs": [],
   "source": [
    "latent_train = np.concatenate(l_data)\n",
    "labels_train = np.concatenate(labels)\n",
    "\n",
    "latent_test = np.concatenate(lt_data)\n",
    "labels_test = np.concatenate(t_labels)"
   ]
  },
  {
   "cell_type": "code",
   "execution_count": 4,
   "metadata": {},
   "outputs": [
    {
     "data": {
      "image/png": "[encoded data removed]",
      "text/plain": [
       "<Figure size 640x480 with 1 Axes>"
      ]
     },
     "metadata": {},
     "output_type": "display_data"
    }
   ],
   "source": [
    "from src.utils.autoencoder_manager import generate_from_latent\n",
    "\n",
    "generate_from_latent(binary_vae, params, latent_train[0], (14,14,1), True);"
   ]
  },
  {
   "cell_type": "code",
   "execution_count": 5,
   "metadata": {},
   "outputs": [],
   "source": [
    "np.save(\"datasets/MNIST_14x14_latent_train.npy\", latent_train)\n",
    "np.save(\"datasets/MNIST_14x14_label_train.npy\", labels_train)\n",
    "\n",
    "np.save(\"datasets/MNIST_14x14_latent_test.npy\", latent_test)\n",
    "np.save(\"datasets/MNIST_14x14_label_test.npy\", labels_test)"
   ]
  },
  {
   "cell_type": "code",
   "execution_count": 6,
   "metadata": {},
   "outputs": [],
   "source": [
    "from datasets.latent_mnist import LatentDataset\n",
    "\n",
    "ds_train = LatentDataset(\"datasets/MNIST_14x14_latent_train.npy\",\n",
    "                      \"datasets/MNIST_14x14_label_train.npy\",\n",
    "                      batch_size=64).load()"
   ]
  },
  {
   "cell_type": "code",
   "execution_count": 7,
   "metadata": {},
   "outputs": [
    {
     "data": {
      "image/png": "[encoded data removed]",
      "text/plain": [
       "<Figure size 640x480 with 1 Axes>"
      ]
     },
     "metadata": {},
     "output_type": "display_data"
    }
   ],
   "source": [
    "for batch in ds_train:\n",
    "    generate_from_latent(binary_vae, params, batch[0][0], (14,14,1), True);\n",
    "    break"
   ]
  }
 ],
 "metadata": {
  "kernelspec": {
   "display_name": "entorno312",
   "language": "python",
   "name": "python3"
  },
  "language_info": {
   "codemirror_mode": {
    "name": "ipython",
    "version": 3
   },
   "file_extension": ".py",
   "mimetype": "text/x-python",
   "name": "python",
   "nbconvert_exporter": "python",
   "pygments_lexer": "ipython3",
   "version": "3.12.9"
  }
 },
 "nbformat": 4,
 "nbformat_minor": 2
}
