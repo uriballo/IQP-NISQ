{
 "cells": [
  {
   "cell_type": "code",
   "execution_count": null,
   "id": "03107f40",
   "metadata": {},
   "outputs": [],
   "source": [
    "import matplotlib.pyplot as plt\n",
    "import numpy as np\n",
    "import iqpopt as iqp\n",
    "from iqpopt.utils import initialize_from_data, local_gates\n",
    "import iqpopt.gen_qml as genq\n",
    "from iqpopt.gen_qml.utils import median_heuristic\n",
    "import jax\n",
    "import jax.numpy as jnp\n",
    "import networkx as nx\n",
    "from datasets.utils import vec_to_graph\n",
    "from datasets.random_graphs import ErdosRenyiDataset\n",
    "import pandas as pd\n",
    "import json "
   ]
  },
  {
   "cell_type": "code",
   "execution_count": null,
   "id": "e3e070d4",
   "metadata": {},
   "outputs": [],
   "source": [
    "#Load the document Experiment1_params.csv\n",
    "df = pd.read_csv('Experiment1params_simA.csv')\n",
    "probs, all_params = df['Prob'], df['Final Params'].apply(json.loads)"
   ]
  },
  {
   "cell_type": "code",
   "execution_count": 57,
   "id": "5b59bfe4",
   "metadata": {},
   "outputs": [],
   "source": [
    "#Circuito IQP\n",
    "nqubits = 15\n",
    "gates = local_gates(n_qubits=nqubits,max_weight=2)\n",
    "\n",
    "\n",
    "circ = iqp.IqpSimulator(nqubits,gates,device='lightning.qubit')"
   ]
  },
  {
   "cell_type": "code",
   "execution_count": 50,
   "id": "54b78454",
   "metadata": {},
   "outputs": [],
   "source": [
    "from pennylane import numpy as pnp \n",
    "import pennylane as qml\n",
    "from qiskit_ibm_runtime import QiskitRuntimeService\n",
    "\n",
    "token = '146e145beb0b6f91fdd536bf9c4ca6163fa05efb028d71d15dd3e664fcbb4f6350ca716ac1580841936eff98dc60cc38e07e5624ba2cfbc784fad70dfc000cdd'\n",
    "service = QiskitRuntimeService(channel='ibm_quantum',token=token)\n",
    "backend = service.least_busy(operational=True, simulator=False, min_num_qubits=45)\n",
    "dev = qml.device('qiskit.remote', wires=15, backend=backend) #shots se ponen aqui\n"
   ]
  },
  {
   "cell_type": "code",
   "execution_count": null,
   "id": "5ee31da8",
   "metadata": {},
   "outputs": [],
   "source": [
    "p = probs[12]\n",
    "params = all_params[12]\n",
    "@qml.qnode(dev)\n",
    "def sample():\n",
    "    IPQ = circ.iqp_circuit(params)\n",
    "    return qml.sample(wires = range(15))"
   ]
  },
  {
   "cell_type": "code",
   "execution_count": null,
   "id": "81c573a8",
   "metadata": {},
   "outputs": [
    {
     "name": "stdout",
     "output_type": "stream",
     "text": [
      "Mean probability from IQP sampled graphs: 0.4722656249999978  for p = 0.35\n",
      "Ratio of bipartite from IQP sampled graphs: 0.0 for ratio 0.8\n"
     ]
    }
   ],
   "source": [
    "result = sample()\n",
    "prob = 0\n",
    "count = 0\n",
    "for v in result:\n",
    "    prob += sum(v)/15\n",
    "\n",
    "print('Mean probability from IQP sampled graphs:', prob/len(result),' for p =', p)"
   ]
  }
 ],
 "metadata": {
  "kernelspec": {
   "display_name": "entorno312",
   "language": "python",
   "name": "python3"
  },
  "language_info": {
   "codemirror_mode": {
    "name": "ipython",
    "version": 3
   },
   "file_extension": ".py",
   "mimetype": "text/x-python",
   "name": "python",
   "nbconvert_exporter": "python",
   "pygments_lexer": "ipython3",
   "version": "3.12.9"
  }
 },
 "nbformat": 4,
 "nbformat_minor": 5
}
