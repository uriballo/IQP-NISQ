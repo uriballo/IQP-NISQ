{
 "cells": [
  {
   "cell_type": "code",
   "execution_count": 1,
   "metadata": {},
   "outputs": [
    {
     "name": "stdout",
     "output_type": "stream",
     "text": [
      "Epoch 1/50 - Train Loss: 0.0466\n",
      "Epoch 1 - Eval Metric (Train Loss): 0.0466\n",
      "Epoch 2/50 - Train Loss: 0.0313\n",
      "Epoch 2 - Eval Metric (Train Loss): 0.0313\n",
      "Epoch 3/50 - Train Loss: 0.0278\n",
      "Epoch 3 - Eval Metric (Train Loss): 0.0278\n",
      "Epoch 4/50 - Train Loss: 0.0263\n",
      "Epoch 4 - Eval Metric (Train Loss): 0.0263\n",
      "Epoch 5/50 - Train Loss: 0.0254\n",
      "Epoch 5 - Eval Metric (Train Loss): 0.0254\n",
      "Epoch 6/50 - Train Loss: 0.0247\n",
      "Epoch 6 - Eval Metric (Train Loss): 0.0247\n",
      "Epoch 7/50 - Train Loss: 0.0242\n",
      "Epoch 7 - Eval Metric (Train Loss): 0.0242\n",
      "Epoch 8/50 - Train Loss: 0.0237\n",
      "Epoch 8 - Eval Metric (Train Loss): 0.0237\n",
      "Epoch 9/50 - Train Loss: 0.0234\n",
      "Epoch 9 - Eval Metric (Train Loss): 0.0234\n",
      "Epoch 10/50 - Train Loss: 0.0230\n",
      "Epoch 10 - Eval Metric (Train Loss): 0.0230\n",
      "Epoch 11/50 - Train Loss: 0.0228\n",
      "Epoch 11 - Eval Metric (Train Loss): 0.0228\n",
      "Epoch 12/50 - Train Loss: 0.0225\n",
      "Epoch 12 - Eval Metric (Train Loss): 0.0225\n",
      "Epoch 13/50 - Train Loss: 0.0223\n",
      "Epoch 13 - Eval Metric (Train Loss): 0.0223\n",
      "Epoch 14/50 - Train Loss: 0.0221\n",
      "Epoch 14 - Eval Metric (Train Loss): 0.0221\n",
      "Epoch 15/50 - Train Loss: 0.0219\n",
      "Epoch 15 - Eval Metric (Train Loss): 0.0219\n",
      "Epoch 16/50 - Train Loss: 0.0217\n",
      "Epoch 16 - Eval Metric (Train Loss): 0.0217\n",
      "Epoch 17/50 - Train Loss: 0.0215\n",
      "Epoch 17 - Eval Metric (Train Loss): 0.0215\n",
      "Epoch 18/50 - Train Loss: 0.0214\n",
      "Epoch 18 - Eval Metric (Train Loss): 0.0214\n",
      "Epoch 19/50 - Train Loss: 0.0212\n",
      "Epoch 19 - Eval Metric (Train Loss): 0.0212\n",
      "Epoch 20/50 - Train Loss: 0.0211\n",
      "Epoch 20 - Eval Metric (Train Loss): 0.0211\n",
      "Epoch 21/50 - Train Loss: 0.0210\n",
      "Epoch 21 - Eval Metric (Train Loss): 0.0210\n",
      "Epoch 22/50 - Train Loss: 0.0208\n",
      "Epoch 22 - Eval Metric (Train Loss): 0.0208\n",
      "Epoch 23/50 - Train Loss: 0.0207\n",
      "Epoch 23 - Eval Metric (Train Loss): 0.0207\n",
      "Epoch 24/50 - Train Loss: 0.0206\n",
      "Epoch 24 - Eval Metric (Train Loss): 0.0206\n",
      "Epoch 25/50 - Train Loss: 0.0205\n",
      "Epoch 25 - Eval Metric (Train Loss): 0.0205\n",
      "Epoch 26/50 - Train Loss: 0.0204\n",
      "Epoch 26 - Eval Metric (Train Loss): 0.0204\n",
      "Epoch 27/50 - Train Loss: 0.0203\n",
      "Epoch 27 - Eval Metric (Train Loss): 0.0203\n",
      "Epoch 28/50 - Train Loss: 0.0203\n",
      "Epoch 28 - Eval Metric (Train Loss): 0.0203\n",
      "Epoch 29/50 - Train Loss: 0.0202\n",
      "Epoch 29 - Eval Metric (Train Loss): 0.0202\n",
      "Epoch 30/50 - Train Loss: 0.0201\n",
      "Epoch 30 - Eval Metric (Train Loss): 0.0201\n",
      "Epoch 31/50 - Train Loss: 0.0201\n",
      "Epoch 31 - Eval Metric (Train Loss): 0.0201\n",
      "Epoch 32/50 - Train Loss: 0.0200\n",
      "Epoch 32 - Eval Metric (Train Loss): 0.0200\n",
      "Epoch 33/50 - Train Loss: 0.0199\n",
      "Epoch 33 - Eval Metric (Train Loss): 0.0199\n",
      "Epoch 34/50 - Train Loss: 0.0198\n",
      "Epoch 34 - Eval Metric (Train Loss): 0.0198\n",
      "Epoch 35/50 - Train Loss: 0.0198\n",
      "Epoch 35 - Eval Metric (Train Loss): 0.0198\n",
      "Epoch 36/50 - Train Loss: 0.0198\n",
      "Epoch 36 - Eval Metric (Train Loss): 0.0198\n",
      "Epoch 37/50 - Train Loss: 0.0197\n",
      "Epoch 37 - Eval Metric (Train Loss): 0.0197\n",
      "Epoch 38/50 - Train Loss: 0.0196\n",
      "Epoch 38 - Eval Metric (Train Loss): 0.0196\n",
      "Epoch 39/50 - Train Loss: 0.0196\n",
      "Epoch 39 - Eval Metric (Train Loss): 0.0196\n",
      "Epoch 40/50 - Train Loss: 0.0196\n",
      "Epoch 40 - Eval Metric (Train Loss): 0.0196\n",
      "Epoch 41/50 - Train Loss: 0.0195\n",
      "Epoch 41 - Eval Metric (Train Loss): 0.0195\n",
      "Epoch 42/50 - Train Loss: 0.0195\n",
      "Epoch 42 - Eval Metric (Train Loss): 0.0195\n",
      "Epoch 43/50 - Train Loss: 0.0194\n",
      "Epoch 43 - Eval Metric (Train Loss): 0.0194\n",
      "Epoch 44/50 - Train Loss: 0.0194\n",
      "Epoch 44 - Eval Metric (Train Loss): 0.0194\n",
      "Epoch 45/50 - Train Loss: 0.0193\n",
      "Epoch 45 - Eval Metric (Train Loss): 0.0193\n",
      "Epoch 46/50 - Train Loss: 0.0193\n",
      "Epoch 46 - Eval Metric (Train Loss): 0.0193\n",
      "Epoch 47/50 - Train Loss: 0.0193\n",
      "Epoch 47 - Eval Metric (Train Loss): 0.0193\n",
      "Epoch 48/50 - Train Loss: 0.0192\n",
      "Epoch 48 - Eval Metric (Train Loss): 0.0192\n",
      "Epoch 49/50 - Train Loss: 0.0192\n",
      "Epoch 49 - Eval Metric (Train Loss): 0.0192\n"
     ]
    },
    {
     "name": "stderr",
     "output_type": "stream",
     "text": [
      "WARNING:absl:[process=0][thread=MainThread] Skipped cross-host ArrayMetadata validation because only one process is found: process_index=0.\n"
     ]
    },
    {
     "name": "stdout",
     "output_type": "stream",
     "text": [
      "Epoch 50/50 - Train Loss: 0.0192\n",
      "Epoch 50 - Eval Metric (Train Loss): 0.0192\n",
      "Saving best state with metric: 0.0192\n",
      "Checkpoint saved at step 50 in directory '/Users/uribagi/Documents/GitHub/Latent-IQP/weights/binary_vae_50epoch_3e-4lr/checkpoint_50'\n",
      "Checkpoint saved at the end of training: /Users/uribagi/Documents/GitHub/Latent-IQP/weights/binary_vae_50epoch_3e-4lr/checkpoint_50\n"
     ]
    },
    {
     "data": {
      "image/png": "[encoded data removed]",
      "text/plain": [
       "<Figure size 1600x600 with 24 Axes>"
      ]
     },
     "metadata": {},
     "output_type": "display_data"
    },
    {
     "name": "stderr",
     "output_type": "stream",
     "text": [
      "2025-04-07 09:27:51.186457: W tensorflow/core/kernels/data/cache_dataset_ops.cc:916] The calling iterator did not fully read the dataset being cached. In order to avoid unexpected truncation of the dataset, the partially cached contents of the dataset  will be discarded. This can happen if you have an input pipeline similar to `dataset.cache().take(k).repeat()`. You should use `dataset.take(k).cache().repeat()` instead.\n"
     ]
    }
   ],
   "source": [
    "from jax import random\n",
    "from datasets.mnist import MNISTDataset\n",
    "from src.autoencoders.simple_vae import model\n",
    "from src.utils.autoencoder_trainer import AutoencoderTrainer\n",
    "\n",
    "rng = random.PRNGKey(0)\n",
    "binary_vae = model(latents=20)\n",
    "input_shape = (64, 196)\n",
    "learning_rate = 3e-4\n",
    "\n",
    "# Load MNIST dataset for training and testing\n",
    "train_dataset = MNISTDataset(split='train', batch_size=64, image_size=(14, 14)).load()\n",
    "test_dataset = MNISTDataset(split='test', batch_size=64, image_size=(14, 14)).load()\n",
    "\n",
    "# Create an instance of the trainer with your binary VAE model\n",
    "trainer = AutoencoderTrainer(binary_vae, learning_rate, rng, input_shape)\n",
    "\n",
    "# Train the model for 10 epochs\n",
    "trainer.train(train_dataset, batch_size=64, num_epochs=50, run_dir=\"weights/binary_vae_50epoch_3e-4lr\")\n",
    "\n",
    "# Plot some reconstructions from the test dataset\n",
    "trainer.plot_reconstructions(test_dataset, num_images=8)"
   ]
  }
 ],
 "metadata": {
  "kernelspec": {
   "display_name": ".venv",
   "language": "python",
   "name": "python3"
  },
  "language_info": {
   "codemirror_mode": {
    "name": "ipython",
    "version": 3
   },
   "file_extension": ".py",
   "mimetype": "text/x-python",
   "name": "python",
   "nbconvert_exporter": "python",
   "pygments_lexer": "ipython3",
   "version": "3.12.6"
  }
 },
 "nbformat": 4,
 "nbformat_minor": 2
}
